{
 "cells": [
  {
   "cell_type": "code",
   "execution_count": 1,
   "metadata": {},
   "outputs": [],
   "source": [
    "import os\n",
    "from sklearn.cluster import KMeans\n",
    "from sklearn.decomposition import PCA\n",
    "from pinecone import Pinecone\n",
    "from dotenv import load_dotenv\n",
    "import pandas as pd\n",
    "import numpy as np\n",
    "import plotly.graph_objects as go\n",
    "from scipy.spatial import Voronoi\n",
    "import hashlib"
   ]
  },
  {
   "cell_type": "code",
   "execution_count": 2,
   "metadata": {},
   "outputs": [],
   "source": [
    "# Load environment variables\n",
    "load_dotenv()\n",
    "\n",
    "# Initialize Pinecone\n",
    "pc = Pinecone(\n",
    "    api_key=os.getenv('PINECONE_API_KEY'),\n",
    "    environment=os.getenv('PINECONE_ENVIRONMENT')\n",
    ")\n"
   ]
  },
  {
   "cell_type": "code",
   "execution_count": 3,
   "metadata": {},
   "outputs": [
    {
     "name": "stdout",
     "output_type": "stream",
     "text": [
      "[[ 0.59529996  0.78252047  0.10181993 ... -0.21343726 -0.69257456\n",
      "   0.73404312]\n",
      " [ 0.63728178  0.75387824  0.58109987 ... -0.81128085 -0.04031747\n",
      "   1.07272172]\n",
      " [ 0.62080014  0.44162291  0.36846551 ... -0.82791627 -0.2590431\n",
      "   0.94369328]\n",
      " ...\n",
      " [ 0.59784806  0.84791791  0.22837135 ... -0.76072693 -0.28382409\n",
      "   1.23871517]\n",
      " [ 0.72245759  0.08991193  0.12721483 ... -0.59326607 -0.03722972\n",
      "   0.66853738]\n",
      " [ 0.72929466  0.1958777   0.55560076 ... -0.70463896 -0.52150536\n",
      "   1.11232209]]\n",
      "[{'album': 'Never Trust a Happy Song', 'artist': 'GROUPLOVE', 'cover_image_url': 'https://i.scdn.co/image/ab67616d0000b273d84a9bbcba91cb6a4a212b1b', 'genre': 'alt-rock', 'name': 'Tongue Tied', 'preview_url': 'https://p.scdn.co/mp3-preview/6082516f3c05520cc2cf8cecd17e4ce8667c459e?cid=11419dac9f88424c93dd910d7d82a6bc', 'id': '3Vr3zh0r7ALn8VLqCiRR10'}, {'album': 'Blonde', 'artist': 'Frank Ocean', 'cover_image_url': 'https://i.scdn.co/image/ab67616d0000b273c5649add07ed3720be9d5526', 'genre': 'hip-hop', 'name': 'Ivy', 'preview_url': 'https://p.scdn.co/mp3-preview/3eb4d77b749c0f49037e6aee78536eb35b5c88c7?cid=11419dac9f88424c93dd910d7d82a6bc', 'id': '38tXZcL1gZRfbqfOG0VMTH'}, {'album': 'Tell Ur Girlfriend', 'artist': 'Lay Bankz', 'cover_image_url': 'https://i.scdn.co/image/ab67616d0000b273a8dbff429bc95d3af651fe08', 'genre': 'club', 'name': 'Tell Ur Girlfriend', 'preview_url': 'https://p.scdn.co/mp3-preview/684d1a76fada90d9c5d63e12b8f111618e682c78?cid=11419dac9f88424c93dd910d7d82a6bc', 'id': '2tudvzsrR56uom6smgOcSf'}, {'album': 'Move', 'artist': 'Adam Port', 'cover_image_url': 'https://i.scdn.co/image/ab67616d0000b27317a013a00d0a33f3dd49974d', 'genre': 'house', 'name': 'Move', 'preview_url': 'https://p.scdn.co/mp3-preview/04f167dc6029b10591d32a723a684e14ef1d4a21?cid=11419dac9f88424c93dd910d7d82a6bc', 'id': '4xhsWYTOGcal8zt0J161CU'}, {'album': 'american dream', 'artist': '21 Savage', 'cover_image_url': 'https://i.scdn.co/image/ab67616d0000b273bbdceba2bf1867d4966d0347', 'genre': 'hip-hop', 'name': 'redrum', 'preview_url': 'https://p.scdn.co/mp3-preview/36b18ee006f29af8902a4886029ba2431368f57a?cid=11419dac9f88424c93dd910d7d82a6bc', 'id': '2xLMifQCjDGFmkHkpNLD9h'}, {'album': 'Desilusão (MTG) (feat. Loirin Prod)', 'artist': 'Bruno & Marrone', 'cover_image_url': 'https://i.scdn.co/image/ab67616d0000b2737f584c9540425ed1da045301', 'genre': 'sertanejo', 'name': 'Desilusão (MTG) (feat. Loirin Prod)', 'preview_url': 'https://p.scdn.co/mp3-preview/8d660f2c495dbafee907ef02487a1e7ffebe5a4c?cid=11419dac9f88424c93dd910d7d82a6bc', 'id': '2kz1YOhJiNubjigR1gB1VX'}, {'album': 'Oracular Spectacular', 'artist': 'MGMT', 'cover_image_url': 'https://i.scdn.co/image/ab67616d0000b2738b32b139981e79f2ebe005eb', 'genre': 'alt-rock', 'name': 'Electric Feel', 'preview_url': 'https://p.scdn.co/mp3-preview/b288d1b3245bfa82243267c77fe152dbd696f3c8?cid=11419dac9f88424c93dd910d7d82a6bc', 'id': '3cHyrEgdyYRjgJKSOiOtcS'}, {'album': 'Get Lucky (Radio Edit) [feat. Pharrell Williams and Nile Rodgers]', 'artist': 'Daft Punk', 'cover_image_url': 'https://i.scdn.co/image/ab67616d0000b2731d5cf960a92bb8b03fc2be7f', 'genre': 'electro', 'name': 'Get Lucky (Radio Edit) [feat. Pharrell Williams and Nile Rodgers]', 'preview_url': 'https://p.scdn.co/mp3-preview/9b7eaf7fb5cab29251df52e9a4f46fad14e29aa1?cid=11419dac9f88424c93dd910d7d82a6bc', 'id': '5UHK1rtK4MpBGb0KppIYh4'}, {'album': 'The Black Parade', 'artist': 'My Chemical Romance', 'cover_image_url': 'https://i.scdn.co/image/ab67616d0000b27317f77fab7e8f18d5f9fee4a1', 'genre': 'emo', 'name': 'Teenagers', 'preview_url': 'https://p.scdn.co/mp3-preview/e6d0c0da5d86b2d19ee4456344ac9527a72b2a7d?cid=11419dac9f88424c93dd910d7d82a6bc', 'id': '3U5JVgI2x4rDyHGObzJfNf'}, {'album': 'MUSE', 'artist': 'Jimin', 'cover_image_url': 'https://i.scdn.co/image/ab67616d0000b273f02c451189a709b9a952aaec', 'genre': 'k-pop', 'name': 'Who', 'preview_url': 'https://p.scdn.co/mp3-preview/02687a01e9ec00f4e947f39e910c7e0c6fa83e10?cid=11419dac9f88424c93dd910d7d82a6bc', 'id': '3lMzT16MjAKKXF7pSZn13B'}, {'album': 'ATE', 'artist': 'Stray Kids', 'cover_image_url': 'https://i.scdn.co/image/ab67616d0000b27351700837cdbc6adddb88560a', 'genre': 'k-pop', 'name': 'Chk Chk Boom', 'preview_url': 'https://p.scdn.co/mp3-preview/54bb9c5e0b747c88d8d629055540c9f43de486c4?cid=11419dac9f88424c93dd910d7d82a6bc', 'id': '6gBFPUFcJLzWGx4lenP6h2'}, {'album': 'Without Warning', 'artist': 'Offset', 'cover_image_url': 'https://i.scdn.co/image/ab67616d0000b2730db43130a9aaa7bae56967ed', 'genre': 'hip-hop', 'name': 'Ric Flair Drip (with Metro Boomin)', 'preview_url': 'https://p.scdn.co/mp3-preview/89cee86b4663ac093731d7a433491dd71e286f61?cid=11419dac9f88424c93dd910d7d82a6bc', 'id': '1kPhV0KQui1phEpjnWIqUN'}, {'album': 'Dizzy up the Girl', 'artist': 'The Goo Goo Dolls', 'cover_image_url': 'https://i.scdn.co/image/ab67616d0000b273eda9478c39a21e1cdc6609ca', 'genre': 'grunge', 'name': 'Iris', 'preview_url': 'https://p.scdn.co/mp3-preview/30e2a899a94a089d5c341b782b00aa802fd87610?cid=11419dac9f88424c93dd910d7d82a6bc', 'id': '09keT5ocFhEd5W5HidiUNq'}, {'album': 'Star Shopping', 'artist': 'Lil Peep', 'cover_image_url': 'https://i.scdn.co/image/ab67616d0000b2732568a5b51d322cbd987106f7', 'genre': 'emo', 'name': 'Star Shopping', 'preview_url': 'https://p.scdn.co/mp3-preview/d415dfca7346912ad65b904e06c8996a2ead8e06?cid=11419dac9f88424c93dd910d7d82a6bc', 'id': '1WbhIxkn5ECsOwUm795iX1'}, {'album': 'ADIVINO', 'artist': 'Myke Towers', 'cover_image_url': 'https://i.scdn.co/image/ab67616d0000b273b41f34aa51be675c5cfd3d94', 'genre': 'latin', 'name': 'ADIVINO', 'preview_url': 'https://p.scdn.co/mp3-preview/9342664668742f1fdf59b7beee2b54dc8fecaada?cid=11419dac9f88424c93dd910d7d82a6bc', 'id': '4U45aEWtQhrm8A5mxPaFZ7'}, {'album': 'All Stand Together', 'artist': 'Lost Frequencies', 'cover_image_url': 'https://i.scdn.co/image/ab67616d0000b273580da30167c82db5fcc5f798', 'genre': 'edm', 'name': 'Where Are You Now', 'preview_url': 'https://p.scdn.co/mp3-preview/2524ba8c7e53a72a62eaf3bae51d63c9427284c9?cid=11419dac9f88424c93dd910d7d82a6bc', 'id': '2fFTn0f94EopgZyfSGQuyK'}, {'album': 'Who Really Cares', 'artist': 'TV Girl', 'cover_image_url': 'https://i.scdn.co/image/ab67616d0000b27332f5fec7a879ed6ef28f0dfd', 'genre': 'indie', 'name': 'Cigarettes out the Window', 'preview_url': 'https://p.scdn.co/mp3-preview/7141e8575ba61267370ea78a9d3d9f82354d6c1a?cid=11419dac9f88424c93dd910d7d82a6bc', 'id': '1KGi9sZVMeszgZOWivFpxs'}, {'album': 'Minha Herança', 'artist': 'Ana Castela', 'cover_image_url': 'https://i.scdn.co/image/ab67616d0000b273ae22073ef15960984011e2ee', 'genre': 'sertanejo', 'name': 'Minha Herança', 'preview_url': 'https://p.scdn.co/mp3-preview/4efdeba4df71bb89bbc2d2f2ef936c1d7bf30366?cid=11419dac9f88424c93dd910d7d82a6bc', 'id': '4yyCGGdTVaYG17vhsrUPoL'}, {'album': 'Bookends', 'artist': 'Simon & Garfunkel', 'cover_image_url': 'https://i.scdn.co/image/ab67616d0000b273d8fb5b4308dc27f210064ef4', 'genre': 'folk', 'name': 'Mrs. Robinson - From \"The Graduate\" Soundtrack', 'preview_url': 'https://p.scdn.co/mp3-preview/b48d5e6bd6312c23e674b6d3c5293438190cd99b?cid=11419dac9f88424c93dd910d7d82a6bc', 'id': '7KwZNVEaqikRSBSpyhXK2j'}, {'album': 'Birds In The Trap Sing McKnight', 'artist': 'Travis Scott', 'cover_image_url': 'https://i.scdn.co/image/ab67616d0000b273f54b99bf27cda88f4a7403ce', 'genre': 'house', 'name': 'goosebumps', 'preview_url': 'https://p.scdn.co/mp3-preview/5c45fee2743d39984ed2c1e2493d04a42d626f81?cid=11419dac9f88424c93dd910d7d82a6bc', 'id': '4pkb8SbRGeHAvdb87v9rpf'}, {'album': '$AD BOYZ 4 LIFE II', 'artist': 'Junior H', 'cover_image_url': 'https://i.scdn.co/image/ab67616d0000b273f3ba6742a35f111aaea1ca2f', 'genre': 'sad', 'name': 'ROCKSTAR', 'preview_url': 'https://p.scdn.co/mp3-preview/284a4dab9087dd520dbd2bc2c2bb5d849a2b32ec?cid=11419dac9f88424c93dd910d7d82a6bc', 'id': '49X0LAl6faAusYq02PRAY6'}, {'album': \"Don't Forget About Me, Demos\", 'artist': 'Dominic Fike', 'cover_image_url': 'https://i.scdn.co/image/ab67616d0000b2737b1b6f41c1645af9757d5616', 'genre': 'indie', 'name': 'Babydoll', 'preview_url': 'https://p.scdn.co/mp3-preview/bf5ab98492256120bd9c48658e9c899c8692f77f?cid=11419dac9f88424c93dd910d7d82a6bc', 'id': '3ZaEs1O8BG581qYPHpQ8d6'}, {'album': 'Give It To Me (Full Vocal Mix)', 'artist': 'Matt Sassari', 'cover_image_url': 'https://i.scdn.co/image/ab67616d0000b2736a1e9d7201b74142e2d47b69', 'genre': 'french', 'name': 'Give It To Me - Full Vocal Mix', 'preview_url': 'https://p.scdn.co/mp3-preview/50081928cfabde0d63a4d78f893542711259652d?cid=11419dac9f88424c93dd910d7d82a6bc', 'id': '7ef4DlsgrMEH11cDZd32M6'}, {'album': 'Fanmail', 'artist': 'TLC', 'cover_image_url': 'https://i.scdn.co/image/ab67616d0000b27361ffafd5e31a37336531cf95', 'genre': 'dance', 'name': 'No Scrubs', 'preview_url': 'https://p.scdn.co/mp3-preview/87c4c3435b531616e2d642009a18eb711f87be4e?cid=11419dac9f88424c93dd910d7d82a6bc', 'id': '7yNf9YjeO5JXUE3JEBgnYc'}, {'album': 'Global Warming: Meltdown (Deluxe Version)', 'artist': 'Pitbull', 'cover_image_url': 'https://i.scdn.co/image/ab67616d0000b273f2486b438645e97b523e4f90', 'genre': 'dance', 'name': 'Timber', 'preview_url': 'https://p.scdn.co/mp3-preview/54825c719d56bd5b737ac7c1aa3ce41ad3eef338?cid=11419dac9f88424c93dd910d7d82a6bc', 'id': '1vvNmPOiUuyCbgWmtc6yfm'}, {'album': 'HIGHEST IN THE ROOM', 'artist': 'Travis Scott', 'cover_image_url': 'https://i.scdn.co/image/ab67616d0000b273e42b5fea4ac4c3d6328b622b', 'genre': 'house', 'name': 'HIGHEST IN THE ROOM', 'preview_url': 'https://p.scdn.co/mp3-preview/387b31c31b72f0c16e33d0c78bab869b0a0f4eb3?cid=11419dac9f88424c93dd910d7d82a6bc', 'id': '6vvPecFTmWxDfEJ6cYT1wa'}, {'album': 'TALKING IS HARD', 'artist': 'WALK THE MOON', 'cover_image_url': 'https://i.scdn.co/image/ab67616d0000b27343294cfa2688055c9d821bf3', 'genre': 'alt-rock', 'name': 'Shut Up and Dance', 'preview_url': 'https://p.scdn.co/mp3-preview/4309fadd9a0d573c1fafcca507e024b3bb51266b?cid=11419dac9f88424c93dd910d7d82a6bc', 'id': '7vGuf3Y35N4wmASOKLUVVU'}, {'album': 'Unwritten', 'artist': 'Natasha Bedingfield', 'cover_image_url': 'https://i.scdn.co/image/ab67616d0000b273b337e1ca6629a53c66a3b0d4', 'genre': 'dance', 'name': 'Unwritten', 'preview_url': 'https://p.scdn.co/mp3-preview/5559460cc3e2c5aa1eeea1c16cf838cecde326d8?cid=11419dac9f88424c93dd910d7d82a6bc', 'id': '7AQim7LbvFVZJE3O8TYgf2'}, {'album': 'Pretty Boy, Dirty Boy', 'artist': 'Maluma', 'cover_image_url': 'https://i.scdn.co/image/ab67616d0000b2733c3acd23605ccd1a9fd038bd', 'genre': 'latino', 'name': 'Borro Cassette', 'preview_url': 'https://p.scdn.co/mp3-preview/e39800189ab118cb37bd21c0d3e37b7638a6108d?cid=11419dac9f88424c93dd910d7d82a6bc', 'id': '4k3xDpAdBuM17mNNHhOZkK'}, {'album': 'Silver Side Up', 'artist': 'Nickelback', 'cover_image_url': 'https://i.scdn.co/image/ab67616d0000b273699a422d25adc550dc5aa11c', 'genre': 'alt-rock', 'name': 'How You Remind Me', 'preview_url': 'https://p.scdn.co/mp3-preview/94fd201045f5b682935957a8206075638dc4622d?cid=11419dac9f88424c93dd910d7d82a6bc', 'id': '6Xom58OOXk2SoU711L2IXO'}, {'album': 'Un Verano Sin Ti', 'artist': 'Bad Bunny', 'cover_image_url': 'https://i.scdn.co/image/ab67616d0000b27349d694203245f241a1bcaa72', 'genre': 'latin', 'name': 'Tití Me Preguntó', 'preview_url': 'https://p.scdn.co/mp3-preview/53a6217761f8fdfcff92189cafbbd1cc21fdb813?cid=11419dac9f88424c93dd910d7d82a6bc', 'id': '6DUdDIRgLqCGq1DwkNWQTN'}, {'album': 'Diplo Presents Thomas Wesley: Chapter 1 - Snake Oil', 'artist': 'Diplo', 'cover_image_url': 'https://i.scdn.co/image/ab67616d0000b273d79c10cdf4a58309a37d195a', 'genre': 'dance', 'name': 'Heartless (feat. Morgan Wallen)', 'preview_url': 'https://p.scdn.co/mp3-preview/64f9de825007fbd32c5c066346961cfcdb8d0eaa?cid=11419dac9f88424c93dd910d7d82a6bc', 'id': '3rdAz1fbUfZxYgaCviYhRo'}, {'album': 'Dookie', 'artist': 'Green Day', 'cover_image_url': 'https://i.scdn.co/image/ab67616d0000b273db89b08034de626ebee6823d', 'genre': 'punk', 'name': 'Basket Case', 'preview_url': 'https://p.scdn.co/mp3-preview/f055a866d726bac8593f15953d772c631505df7e?cid=11419dac9f88424c93dd910d7d82a6bc', 'id': '5ZduaRci3iNUiDfJbBfAaf'}, {'album': 'The Great American Bar Scene', 'artist': 'Zach Bryan', 'cover_image_url': 'https://i.scdn.co/image/ab67616d0000b273647ad18a07e9e939e399e5a1', 'genre': 'country', 'name': '28', 'preview_url': 'https://p.scdn.co/mp3-preview/5c2aee074a87afd330cb8c42c7a73aef5b5ccc59?cid=11419dac9f88424c93dd910d7d82a6bc', 'id': '1Dr1fXbc2IxaK1Mu8P8Khz'}, {'album': 'One of Wun', 'artist': 'Gunna', 'cover_image_url': 'https://i.scdn.co/image/ab67616d0000b273c67636f3021f5869095c0fc5', 'genre': 'hip-hop', 'name': 'one of wun', 'preview_url': 'https://p.scdn.co/mp3-preview/05b1cf76543e3ca8f5ce02a042e80f8e54f43f64?cid=11419dac9f88424c93dd910d7d82a6bc', 'id': '0UFDKFqW2oGspYeYqo9wjA'}, {'album': 'Sundress', 'artist': 'A$AP Rocky', 'cover_image_url': 'https://i.scdn.co/image/ab67616d0000b2731ae967e4a02c7a39eb3c189b', 'genre': 'hip-hop', 'name': 'Sundress', 'preview_url': 'https://p.scdn.co/mp3-preview/4cc0018584f7e316a81616be3bf66c9d9a42ed0e?cid=11419dac9f88424c93dd910d7d82a6bc', 'id': '331l3xABO0HMr1Kkyh2LZq'}, {'album': 'ÉXODO', 'artist': 'Peso Pluma', 'cover_image_url': 'https://i.scdn.co/image/ab67616d0000b2732690127e1d6cd0aa35cc353b', 'genre': 'sad', 'name': 'VINO TINTO', 'preview_url': 'https://p.scdn.co/mp3-preview/71b03d38259e689176809244952de1fee5cefee0?cid=11419dac9f88424c93dd910d7d82a6bc', 'id': '6Qyc6fS4DsZjB2mRW9DsQs'}, {'album': 'Madonna', 'artist': 'Natanael Cano', 'cover_image_url': 'https://i.scdn.co/image/ab67616d0000b273fcd2820c9b859adc64a64b88', 'genre': 'sad', 'name': 'Madonna', 'preview_url': 'https://p.scdn.co/mp3-preview/1f5da933d7ad8458956721a548e4cb3f565a377e?cid=11419dac9f88424c93dd910d7d82a6bc', 'id': '7zwn1eykZtZ5LODrf7c0tS'}, {'album': 'ROMANCE : UNTOLD', 'artist': 'ENHYPEN', 'cover_image_url': 'https://i.scdn.co/image/ab67616d0000b273653887a83332de0350151f10', 'genre': 'anime', 'name': 'XO (Only If You Say Yes)', 'preview_url': 'https://p.scdn.co/mp3-preview/f9eec39cadafc605c12531cd4c113f158e9dc6d1?cid=11419dac9f88424c93dd910d7d82a6bc', 'id': '4dSDTAZ7ohybHBonbtMBpP'}, {'album': 'French Exit', 'artist': 'TV Girl', 'cover_image_url': 'https://i.scdn.co/image/ab67616d0000b273e1bc1af856b42dd7fdba9f84', 'genre': 'indie', 'name': 'Lovers Rock', 'preview_url': 'https://p.scdn.co/mp3-preview/922a42db5aa8f8d335725697b7d7a12af6808f3a?cid=11419dac9f88424c93dd910d7d82a6bc', 'id': '50nfwKoDiSYg8zOCREWAm5'}, {'album': 'Californication (Deluxe Edition)', 'artist': 'Red Hot Chili Peppers', 'cover_image_url': 'https://i.scdn.co/image/ab67616d0000b27394d08ab63e57b0cae74e8595', 'genre': 'alt-rock', 'name': 'Californication', 'preview_url': 'https://p.scdn.co/mp3-preview/0fd595c5b63db10f4a99683f8248ea5d13700683?cid=11419dac9f88424c93dd910d7d82a6bc', 'id': '58zsLZPvfflaiIbNWoA22O'}, {'album': '2', 'artist': 'Mac DeMarco', 'cover_image_url': 'https://i.scdn.co/image/ab67616d0000b2739d377496c6bc8724b521222d', 'genre': 'edm', 'name': 'My Kind of Woman', 'preview_url': 'https://p.scdn.co/mp3-preview/84a0a0a0a484047ef91d1841090bb04182e83692?cid=11419dac9f88424c93dd910d7d82a6bc', 'id': '52eIcoLUM25zbQupAZYoFh'}, {'album': 'Barrio Fino (Bonus Track Version)', 'artist': 'Daddy Yankee', 'cover_image_url': 'https://i.scdn.co/image/ab67616d0000b2736bdcdf82ecce36bff808a40c', 'genre': 'latin', 'name': 'Gasolina', 'preview_url': 'https://p.scdn.co/mp3-preview/7c545be6847f3a6b13c4ad9c70d10a34f49a92d3?cid=11419dac9f88424c93dd910d7d82a6bc', 'id': '7sO5G9EABYOXQKNPNiE9NR'}, {'album': 'SPIDER', 'artist': 'GIMS', 'cover_image_url': 'https://i.scdn.co/image/ab67616d0000b27359dc8da873a4aa6c2d6888ff', 'genre': 'french', 'name': 'SPIDER', 'preview_url': 'https://p.scdn.co/mp3-preview/d695920fe6419661e5b881ec01331d0dc2f3010a?cid=11419dac9f88424c93dd910d7d82a6bc', 'id': '4QTlxavdQGUVitxAvQqqkU'}, {'album': 'Lovin On Me', 'artist': 'Jack Harlow', 'cover_image_url': 'https://i.scdn.co/image/ab67616d0000b273fcf4adae77baba5d0169e8e8', 'genre': 'hip-hop', 'name': 'Lovin On Me', 'preview_url': 'https://p.scdn.co/mp3-preview/eeeb6151d0049367b3ad3db0389e9e3b116c0774?cid=11419dac9f88424c93dd910d7d82a6bc', 'id': '6jgkEbmQ2F2onEqsEhiliL'}, {'album': 'EASY', 'artist': 'LE SSERAFIM', 'cover_image_url': 'https://i.scdn.co/image/ab67616d0000b273110f5426b8c149e80804912a', 'genre': 'k-pop', 'name': 'EASY', 'preview_url': 'https://p.scdn.co/mp3-preview/7e3680a45812af4e7d50e0cb3afc2c97369dcb08?cid=11419dac9f88424c93dd910d7d82a6bc', 'id': '6wsqVwoiVH2kde4k4KKAFU'}, {'album': '14 minutes', 'artist': 'Dominic Fike', 'cover_image_url': 'https://i.scdn.co/image/ab67616d0000b273abdde781e79a44868914e661', 'genre': 'alt-rock', 'name': 'misses', 'preview_url': 'https://p.scdn.co/mp3-preview/4303daf566d5e5adabf2fe733a3a486518e02259?cid=11419dac9f88424c93dd910d7d82a6bc', 'id': '3FtYbEfBqAlGO46NUDQSAt'}, {'album': 'Smeraldo Garden Marching Band (feat. Loco)', 'artist': 'Jimin', 'cover_image_url': 'https://i.scdn.co/image/ab67616d0000b27338881a83135ef5b4ace418ba', 'genre': 'k-pop', 'name': 'Smeraldo Garden Marching Band (feat. Loco)', 'preview_url': 'https://p.scdn.co/mp3-preview/fe27d5f778e8bb29b3d905087f7f08106731549b?cid=11419dac9f88424c93dd910d7d82a6bc', 'id': '6dBUzqjtbnIa1TwYbyw5CM'}, {'album': 'Fireworks & Rollerblades', 'artist': 'Benson Boone', 'cover_image_url': 'https://i.scdn.co/image/ab67616d0000b273cc04ff3e70e146ba9abacf40', 'genre': 'singer-songwriter', 'name': 'In The Stars', 'preview_url': 'https://p.scdn.co/mp3-preview/6e29e6750dcda8159aea83561faf2161a0acacb2?cid=11419dac9f88424c93dd910d7d82a6bc', 'id': '3mfER4ORePHvN35cbZ3dkV'}, {'album': \"WE DON'T TRUST YOU\", 'artist': 'Future', 'cover_image_url': 'https://i.scdn.co/image/ab67616d0000b273a46b07c291e6dfdee13b3ee8', 'genre': 'hip-hop', 'name': 'Like That', 'preview_url': 'https://p.scdn.co/mp3-preview/793f43da71fe668c35b72a38ae7f93e783823e17?cid=11419dac9f88424c93dd910d7d82a6bc', 'id': '6QeYSvYqYUsfBzsApbjDHO'}, {'album': 'Minutes to Midnight', 'artist': 'Linkin Park', 'cover_image_url': 'https://i.scdn.co/image/ab67616d0000b2736e996745f2c7b8036abef213', 'genre': 'grunge', 'name': 'Bleed It Out', 'preview_url': 'https://p.scdn.co/mp3-preview/1440e6e73c1d0f4db4a64175e26ca250097733c8?cid=11419dac9f88424c93dd910d7d82a6bc', 'id': '2Z8WuEywRWYTKe1NybPQEW'}, {'album': 'Un Verano Sin Ti', 'artist': 'Bad Bunny', 'cover_image_url': 'https://i.scdn.co/image/ab67616d0000b27349d694203245f241a1bcaa72', 'genre': 'latin', 'name': 'Moscow Mule', 'preview_url': 'https://p.scdn.co/mp3-preview/77b12f38abcff65705166d67b5657f70cd890635?cid=11419dac9f88424c93dd910d7d82a6bc', 'id': '4kbj5MwxO1bq9wjT5g9HaA'}, {'album': 'THE BIGGEST', 'artist': 'BigXthaPlug', 'cover_image_url': 'https://i.scdn.co/image/ab67616d0000b2739afbbc313ea008b68cc5f40d', 'genre': 'hip-hop', 'name': 'Back On My BS', 'preview_url': 'https://p.scdn.co/mp3-preview/f02a36be65c8b980b9aada12eabc7cc7c69ce877?cid=11419dac9f88424c93dd910d7d82a6bc', 'id': '7tI8dRuH2Yc6RuoTjxo4dU'}, {'album': 'K.I.D.S. (Deluxe)', 'artist': 'Mac Miller', 'cover_image_url': 'https://i.scdn.co/image/ab67616d0000b273463d73e65c7b95a17898388b', 'genre': 'hip-hop', 'name': 'The Spins', 'preview_url': 'https://p.scdn.co/mp3-preview/8646d3b6544d0126b5b48d36aa857ac4a4a1d82f?cid=11419dac9f88424c93dd910d7d82a6bc', 'id': '6i0V12jOa3mr6uu4WYhUBr'}, {'album': 'KEHLANI', 'artist': 'Jordan Adetunji', 'cover_image_url': 'https://i.scdn.co/image/ab67616d0000b273f2cd132495d61b0da6a900d2', 'genre': 'hip-hop', 'name': 'KEHLANI', 'preview_url': 'https://p.scdn.co/mp3-preview/2ad9f03400a1744633dec4b907a3d5110931f973?cid=11419dac9f88424c93dd910d7d82a6bc', 'id': '2Foc5Q5nqNiosCNqttzHof'}, {'album': 'BRAT', 'artist': 'Charli xcx', 'cover_image_url': 'https://i.scdn.co/image/ab67616d0000b27388e3822cccfb8f2832c70c2e', 'genre': 'pop', 'name': 'Apple', 'preview_url': 'https://p.scdn.co/mp3-preview/907d06abc995f4c427feb5f9e94dccb731903a0d?cid=11419dac9f88424c93dd910d7d82a6bc', 'id': '5ocSQW5sIUIOFojwXEz9Ki'}, {'album': 'Volcano', 'artist': 'Jungle', 'cover_image_url': 'https://i.scdn.co/image/ab67616d0000b27377619f14cb03e11baf5761d1', 'genre': 'soul', 'name': 'Back On 74', 'preview_url': 'https://p.scdn.co/mp3-preview/917c42936efd732652eafa945def1d1fcab3b8e2?cid=11419dac9f88424c93dd910d7d82a6bc', 'id': '2O4Bb2WCkjlTPO827OnBMI'}, {'album': 'VICE VERSA', 'artist': 'Rauw Alejandro', 'cover_image_url': 'https://i.scdn.co/image/ab67616d0000b273d9525f27b0a9e25b1fa21230', 'genre': 'latin', 'name': 'Todo De Ti', 'preview_url': 'https://p.scdn.co/mp3-preview/c22200b1d15945f42242d40077ce0da4fc873be1?cid=11419dac9f88424c93dd910d7d82a6bc', 'id': '0LZy30mVmxqUpdQmaXKXBd'}, {'album': 'Rockstar', 'artist': 'LISA', 'cover_image_url': 'https://i.scdn.co/image/ab67616d0000b27397265410628ab7f94a380c9d', 'genre': 'k-pop', 'name': 'Rockstar', 'preview_url': 'https://p.scdn.co/mp3-preview/8271bfde6ebd7409a6c42b6731402b1caa4f8a72?cid=11419dac9f88424c93dd910d7d82a6bc', 'id': '6Sq7ltF9Qa7SNFBsV5Cogx'}, {'album': 'Globalization', 'artist': 'Pitbull', 'cover_image_url': 'https://i.scdn.co/image/ab67616d0000b2731e340d1480e7bb29a45e3bd7', 'genre': 'dance', 'name': 'Time of Our Lives', 'preview_url': 'https://p.scdn.co/mp3-preview/d508371276a297486ace8d4ff596c54ae9e65260?cid=11419dac9f88424c93dd910d7d82a6bc', 'id': '1IHWl5LamUGEuP4ozKQSXZ'}, {'album': 'Stadium Arcadium', 'artist': 'Red Hot Chili Peppers', 'cover_image_url': 'https://i.scdn.co/image/ab67616d0000b27309fd83d32aee93dceba78517', 'genre': 'funk', 'name': 'Dani California', 'preview_url': 'https://p.scdn.co/mp3-preview/0454b7cef05f7db734eb04bd4f3948009838f380?cid=11419dac9f88424c93dd910d7d82a6bc', 'id': '7j31rVgGX9Q2blT92VBEA0'}, {'album': \"Gettin' Old\", 'artist': 'Luke Combs', 'cover_image_url': 'https://i.scdn.co/image/ab67616d0000b273ca650d3a95022e0490434ba1', 'genre': 'country', 'name': 'Where the Wild Things Are', 'preview_url': 'https://p.scdn.co/mp3-preview/994c947925dbf67ee0132328c82fb6102e29f746?cid=11419dac9f88424c93dd910d7d82a6bc', 'id': '228BxWXUYQPJrJYHDLOHkj'}, {'album': 'Fireworks & Rollerblades', 'artist': 'Benson Boone', 'cover_image_url': 'https://i.scdn.co/image/ab67616d0000b273cc04ff3e70e146ba9abacf40', 'genre': 'pop', 'name': 'Slow It Down', 'preview_url': 'https://p.scdn.co/mp3-preview/7ed92ba5dc69c703af94b4973bb7eecb3fa3cce1?cid=11419dac9f88424c93dd910d7d82a6bc', 'id': '0iOZM63lendWRTTeKhZBSC'}, {'album': 'Supernatural', 'artist': 'NewJeans', 'cover_image_url': 'https://i.scdn.co/image/ab67616d0000b2737e1eeb0d7cc374a168369c80', 'genre': 'k-pop', 'name': 'Supernatural', 'preview_url': 'https://p.scdn.co/mp3-preview/14baeec77f3463a30c808298ac755edb1b6fff26?cid=11419dac9f88424c93dd910d7d82a6bc', 'id': '0gmbgwZ8iqyMPmXefof8Yf'}, {'album': 'Hard To Imagine The Neighbourhood Ever Changing', 'artist': 'The Neighbourhood', 'cover_image_url': 'https://i.scdn.co/image/ab67616d0000b2739b6ac98a52f62d5cb473da40', 'genre': 'alt-rock', 'name': 'You Get Me So High', 'preview_url': 'https://p.scdn.co/mp3-preview/3f5a7c8b8e434e72c0e8f0bf43341f161c54b14b?cid=11419dac9f88424c93dd910d7d82a6bc', 'id': '3RkSwrsIadAvqVtMp5yhaB'}, {'album': 'Stargazing', 'artist': 'Myles Smith', 'cover_image_url': 'https://i.scdn.co/image/ab67616d0000b27381b12e1a0584e8ea7ba2ae4a', 'genre': 'pop', 'name': 'Stargazing', 'preview_url': 'https://p.scdn.co/mp3-preview/e645f231787fd914d1cc263644dd7839a2260ef7?cid=11419dac9f88424c93dd910d7d82a6bc', 'id': '51eSHglvG1RJXtL3qI5trr'}, {'album': 'Toxicity', 'artist': 'System Of A Down', 'cover_image_url': 'https://i.scdn.co/image/ab67616d0000b27330d45198d0c9e8841f9a9578', 'genre': 'alt-rock', 'name': 'Toxicity', 'preview_url': 'https://p.scdn.co/mp3-preview/d9b89161dacbb987b360417346591712c4023abd?cid=11419dac9f88424c93dd910d7d82a6bc', 'id': '2bJvI42r8EF3wxjOuDav4r'}, {'album': 'Silence', 'artist': 'Marshmello', 'cover_image_url': 'https://i.scdn.co/image/ab67616d0000b273f33ba583059dc2f7d08bf2b8', 'genre': 'edm', 'name': 'Silence', 'preview_url': 'https://p.scdn.co/mp3-preview/26ea0841d3e1dd4eec371df3c79fbcc4a6aed42d?cid=11419dac9f88424c93dd910d7d82a6bc', 'id': '3rUGC1vUpkDG9CZFHMur1t'}, {'album': 'Californication (Deluxe Edition)', 'artist': 'Red Hot Chili Peppers', 'cover_image_url': 'https://i.scdn.co/image/ab67616d0000b27394d08ab63e57b0cae74e8595', 'genre': 'alt-rock', 'name': 'Scar Tissue', 'preview_url': 'https://p.scdn.co/mp3-preview/5aa4aff376bccc73f7fa7df2954649e30a56c4b1?cid=11419dac9f88424c93dd910d7d82a6bc', 'id': '19RybK6XDbAVpcdxSbZL1o'}, {'album': 'Human (Deluxe)', 'artist': \"Rag'n'Bone Man\", 'cover_image_url': 'https://i.scdn.co/image/ab67616d0000b27390a788beadaad34ff684d3ec', 'genre': 'soul', 'name': 'Human', 'preview_url': 'https://p.scdn.co/mp3-preview/8c1cad46231be436ff9e13a71f52df2135398850?cid=11419dac9f88424c93dd910d7d82a6bc', 'id': '6L89mwZXSOwYl76YXfX13s'}, {'album': 'ASTROWORLD', 'artist': 'Travis Scott', 'cover_image_url': 'https://i.scdn.co/image/ab67616d0000b273072e9faef2ef7b6db63834a3', 'genre': 'house', 'name': 'SICKO MODE', 'preview_url': 'https://p.scdn.co/mp3-preview/8229545ded5cacf393f62b17af653dfc8171fc85?cid=11419dac9f88424c93dd910d7d82a6bc', 'id': '10Nmj3JCNoMeBQ87uw5j8k'}, {'album': 'greedy', 'artist': 'Tate McRae', 'cover_image_url': 'https://i.scdn.co/image/ab67616d0000b27322fd802bc61db666c7c81aa8', 'genre': 'pop', 'name': 'greedy', 'preview_url': 'https://p.scdn.co/mp3-preview/ca7bdcb691fb64a5af8a3253b89356390664fcf1?cid=11419dac9f88424c93dd910d7d82a6bc', 'id': '3K4HG9evC7dg3N0R9cYqk4'}, {'album': 'Whatever She Wants', 'artist': 'Bryson Tiller', 'cover_image_url': 'https://i.scdn.co/image/ab67616d0000b2731aba7b448d35bd576ceac182', 'genre': 'hip-hop', 'name': 'Whatever She Wants', 'preview_url': 'https://p.scdn.co/mp3-preview/72a170a8e9ed64cc4e6d810c5f42b2a62fd849a5?cid=11419dac9f88424c93dd910d7d82a6bc', 'id': '4ZJ4vzLQekI0WntDbanNC7'}, {'album': 'Modjo (Remastered)', 'artist': 'Modjo', 'cover_image_url': 'https://i.scdn.co/image/ab67616d0000b27354c5c304064df85d61253ac7', 'genre': 'disco', 'name': 'Lady - Hear Me Tonight', 'preview_url': 'https://p.scdn.co/mp3-preview/05e58f0bcf5a9a29f60d5aa4fd685a528a59f328?cid=11419dac9f88424c93dd910d7d82a6bc', 'id': '0GO8y8jQk1PkHzS31d699N'}, {'album': 'One Kiss (with Dua Lipa)', 'artist': 'Calvin Harris', 'cover_image_url': 'https://i.scdn.co/image/ab67616d0000b273d09f96d82310d4d77c14c108', 'genre': 'edm', 'name': 'One Kiss (with Dua Lipa)', 'preview_url': 'https://p.scdn.co/mp3-preview/0c09da1fe6f1da091c05057835e6be2312e2dc18?cid=11419dac9f88424c93dd910d7d82a6bc', 'id': '5LhI8m7n8xlQmNe3b7Rwis'}, {'album': 'Heathens', 'artist': 'Twenty One Pilots', 'cover_image_url': 'https://i.scdn.co/image/ab67616d0000b2732ca3ba8f334ca5a5f0312efb', 'genre': 'indie-pop', 'name': 'Heathens', 'preview_url': 'https://p.scdn.co/mp3-preview/31b8d72a9480d06d28846b843539b8b5e58696db?cid=11419dac9f88424c93dd910d7d82a6bc', 'id': '1haJsMtoBhHfvuM7XWuT3W'}, {'album': \"I Smoked Away My Brain (I'm God x Demons Mashup) (feat. Imogen Heap & Clams Casino)\", 'artist': 'A$AP Rocky', 'cover_image_url': 'https://i.scdn.co/image/ab67616d0000b2732bb4bbf62bc82d2f4ce59397', 'genre': 'hip-hop', 'name': \"I Smoked Away My Brain (I'm God x Demons Mashup) (feat. Imogen Heap & Clams Casino)\", 'preview_url': 'https://p.scdn.co/mp3-preview/8af2cba7fb2f4d438310485d791584e94b43318a?cid=11419dac9f88424c93dd910d7d82a6bc', 'id': '3FU6urUVsgXa6RBuV2PdRk'}, {'album': 'Pink Skies', 'artist': 'Zach Bryan', 'cover_image_url': 'https://i.scdn.co/image/ab67616d0000b2731a2c9ac2d39bc5c2e22b9555', 'genre': 'country', 'name': 'Pink Skies', 'preview_url': 'https://p.scdn.co/mp3-preview/21b3562e4483a8b6204f99a0614206b819378ef8?cid=11419dac9f88424c93dd910d7d82a6bc', 'id': '6YOfGIE6iFxC7G8OlGGvzW'}, {'album': '17', 'artist': 'XXXTENTACION', 'cover_image_url': 'https://i.scdn.co/image/ab67616d0000b273203c89bd4391468eea4cc3f5', 'genre': 'emo', 'name': 'Fuck Love', 'preview_url': 'https://p.scdn.co/mp3-preview/ad4d23afd3b92325c442f036322a05f5f35385dc?cid=11419dac9f88424c93dd910d7d82a6bc', 'id': '1G391cbiT3v3Cywg8T7DM1'}, {'album': 'Dookie', 'artist': 'Green Day', 'cover_image_url': 'https://i.scdn.co/image/ab67616d0000b273db89b08034de626ebee6823d', 'genre': 'punk', 'name': 'When I Come Around', 'preview_url': 'https://p.scdn.co/mp3-preview/ce95ec4b7666e7efe290782e449bd96ba8f7a4e5?cid=11419dac9f88424c93dd910d7d82a6bc', 'id': '1CpneInvFvGYcDVU4CCDgI'}, {'album': 'ASTROWORLD', 'artist': 'Travis Scott', 'cover_image_url': 'https://i.scdn.co/image/ab67616d0000b273072e9faef2ef7b6db63834a3', 'genre': 'house', 'name': 'BUTTERFLY EFFECT', 'preview_url': 'https://p.scdn.co/mp3-preview/68cba40a7199c972c7a2ad0df063c4d1f5e3dc73?cid=11419dac9f88424c93dd910d7d82a6bc', 'id': '5iJKGpnFfvbjZJeAtwXfCj'}, {'album': 'LIVE FOREVER', 'artist': 'Lil Peep', 'cover_image_url': 'https://i.scdn.co/image/ab67616d0000b2739c40b3a3043a8f24403048a6', 'genre': 'emo', 'name': 'nuts', 'preview_url': 'https://p.scdn.co/mp3-preview/4318824c488b6d05cb139db0a98661f8cb21a2cb?cid=11419dac9f88424c93dd910d7d82a6bc', 'id': '315aBOUD3xtj7sUMXtRgMV'}, {'album': 'Salad Days', 'artist': 'Mac DeMarco', 'cover_image_url': 'https://i.scdn.co/image/ab67616d0000b273ec6e9c13eeed14eedbd5f7c9', 'genre': 'edm', 'name': 'Chamber Of Reflection', 'preview_url': 'https://p.scdn.co/mp3-preview/17a0b215c5cab8a53047fd6aa5c5dd54507efaec?cid=11419dac9f88424c93dd910d7d82a6bc', 'id': '48UPSzbZjgc449aqz8bxox'}, {'album': '=', 'artist': 'Ed Sheeran', 'cover_image_url': 'https://i.scdn.co/image/ab67616d0000b273ef24c3fdbf856340d55cfeb2', 'genre': 'singer-songwriter', 'name': 'Shivers', 'preview_url': 'https://p.scdn.co/mp3-preview/08cec59d36ac30ae9ce1e2944f206251859844af?cid=11419dac9f88424c93dd910d7d82a6bc', 'id': '19kHhX6f6EfLU7rcO3RqjO'}, {'album': 'The Stranger (Legacy Edition)', 'artist': 'Billy Joel', 'cover_image_url': 'https://i.scdn.co/image/ab67616d0000b2736ce61113662ecf693b605ee5', 'genre': 'piano', 'name': 'Vienna', 'preview_url': 'https://p.scdn.co/mp3-preview/20063b69f912e042929de74af0b77271ec3376c5?cid=11419dac9f88424c93dd910d7d82a6bc', 'id': '4Na2HfNSr58chvfX69fy36'}, {'album': 'PLAYA SATURNO', 'artist': 'Rauw Alejandro', 'cover_image_url': 'https://i.scdn.co/image/ab67616d0000b273f79b1ab5cd74db6a2d7c1fda', 'genre': 'latin', 'name': 'DILUVIO', 'preview_url': 'https://p.scdn.co/mp3-preview/740dfd7578fe9e226de6757a878cca37f4954ff0?cid=11419dac9f88424c93dd910d7d82a6bc', 'id': '2aPTvyE09vUCRwVvj0I8WK'}, {'album': 'How Sweet', 'artist': 'NewJeans', 'cover_image_url': 'https://i.scdn.co/image/ab67616d0000b273b657fbb27b17e7bd4691c2b2', 'genre': 'k-pop', 'name': 'How Sweet', 'preview_url': 'https://p.scdn.co/mp3-preview/690e6951640ac995e47d19dc13ab44e9de9067f2?cid=11419dac9f88424c93dd910d7d82a6bc', 'id': '57wp7VFnV8X0pSVnYArGeJ'}, {'album': 'Life After Death (2014 Remastered Edition)', 'artist': 'The Notorious B.I.G.', 'cover_image_url': 'https://i.scdn.co/image/ab67616d0000b273fde79b88e2a659c394c5ae30', 'genre': 'hardcore', 'name': 'Hypnotize - 2014 Remaster', 'preview_url': 'https://p.scdn.co/mp3-preview/6aa2483fe9ac2dae624a1a88952aa24bb5c2414e?cid=11419dac9f88424c93dd910d7d82a6bc', 'id': '70LcF31zb1H0PyJoS1Sx1r'}, {'album': 'Hybrid Theory (Bonus Edition)', 'artist': 'Linkin Park', 'cover_image_url': 'https://i.scdn.co/image/ab67616d0000b273e2f039481babe23658fc719a', 'genre': 'alt-rock', 'name': 'One Step Closer', 'preview_url': 'https://p.scdn.co/mp3-preview/93915a6ffff1e702717623fe052e781e68bde91b?cid=11419dac9f88424c93dd910d7d82a6bc', 'id': '2ZWlPOoWh0626oTaHrnl2a'}, {'album': 'Pablo Honey', 'artist': 'Radiohead', 'cover_image_url': 'https://i.scdn.co/image/ab67616d0000b273df55e326ed144ab4f5cecf95', 'genre': 'alt-rock', 'name': 'Creep', 'preview_url': 'https://p.scdn.co/mp3-preview/713b601d02641a850f2a3e6097aacaff52328d57?cid=11419dac9f88424c93dd910d7d82a6bc', 'id': '7hrFCoyWwKep7qp1lP4oga'}, {'album': 'Blurryface', 'artist': 'Twenty One Pilots', 'cover_image_url': 'https://i.scdn.co/image/ab67616d0000b2732df0d98a423025032d0db1f7', 'genre': 'indie-pop', 'name': 'Ride', 'preview_url': 'https://p.scdn.co/mp3-preview/b571ceecaadc03941bdf4e683ea26e4e6d3f7c17?cid=11419dac9f88424c93dd910d7d82a6bc', 'id': '0HPD5WQqrq7wPWR7P7Dw1i'}, {'album': \"I Don't Wanna Wait\", 'artist': 'David Guetta', 'cover_image_url': 'https://i.scdn.co/image/ab67616d0000b2732f479a6c1825c1f29e0a3d49', 'genre': 'dance', 'name': \"I Don't Wanna Wait\", 'preview_url': 'https://p.scdn.co/mp3-preview/4cb51b19221d76ecd319faec63c4221c96d7fdd0?cid=11419dac9f88424c93dd910d7d82a6bc', 'id': '7FAFkQQZFeNwOFzTrSDFIh'}, {'album': 'UTOPIA', 'artist': 'Travis Scott', 'cover_image_url': 'https://i.scdn.co/image/ab67616d0000b273881d8d8378cd01099babcd44', 'genre': 'house', 'name': 'I KNOW ?', 'preview_url': 'https://p.scdn.co/mp3-preview/71d86e04987feee653ae3087aa76e782bced382d?cid=11419dac9f88424c93dd910d7d82a6bc', 'id': '2hrycoFU1mZw6YPvMcn8yC'}, {'album': 'Un Verano Sin Ti', 'artist': 'Bad Bunny', 'cover_image_url': 'https://i.scdn.co/image/ab67616d0000b27349d694203245f241a1bcaa72', 'genre': 'latin', 'name': 'Me Porto Bonito', 'preview_url': 'https://p.scdn.co/mp3-preview/5c80aedfe75d2bc15aa0e803993c43395d8054fe?cid=11419dac9f88424c93dd910d7d82a6bc', 'id': '3eekarcy7kvN4yt5ZFzltW'}, {'album': 'APAGA EL CEL', 'artist': 'FloyyMenor', 'cover_image_url': 'https://i.scdn.co/image/ab67616d0000b273c44bb461e0efd6a5b88e2dec', 'genre': 'reggae', 'name': 'APAGA EL CEL', 'preview_url': 'https://p.scdn.co/mp3-preview/9b4df5d6e095927a0736cfc456885746165a00c0?cid=11419dac9f88424c93dd910d7d82a6bc', 'id': '6WTFHKrnZpwEBLRS10Ylqs'}, {'album': 'My Way', 'artist': 'Calvin Harris', 'cover_image_url': 'https://i.scdn.co/image/ab67616d0000b2738d12bc5e3ea5c9f4a967de32', 'genre': 'edm', 'name': 'My Way', 'preview_url': 'https://p.scdn.co/mp3-preview/ed8d125912048b01914f6e5861742bec125602e8?cid=11419dac9f88424c93dd910d7d82a6bc', 'id': '2cYqizR4lgvp4Qu6IQ3qGN'}, {'album': 'El Azul', 'artist': 'Junior H', 'cover_image_url': 'https://i.scdn.co/image/ab67616d0000b27333ed356efed99b158c4267c6', 'genre': 'sad', 'name': 'El Azul', 'preview_url': 'https://p.scdn.co/mp3-preview/f9df136c3a2d3c0c5424e2c4b75a303f35c08af5?cid=11419dac9f88424c93dd910d7d82a6bc', 'id': '0eBFgRxyVSeuT4iyrbukdn'}, {'album': 'Miles On It', 'artist': 'Marshmello', 'cover_image_url': 'https://i.scdn.co/image/ab67616d0000b27300ac867eff7ed64be10a517c', 'genre': 'edm', 'name': 'Miles On It', 'preview_url': 'https://p.scdn.co/mp3-preview/f989c539f2f53126339e1dd7dbd9213f3b1349b2?cid=11419dac9f88424c93dd910d7d82a6bc', 'id': '1BJJbSX6muJVF2AK7uH1x4'}, {'album': 'THE BIGGEST', 'artist': 'BigXthaPlug', 'cover_image_url': 'https://i.scdn.co/image/ab67616d0000b2739afbbc313ea008b68cc5f40d', 'genre': 'hip-hop', 'name': 'Mmhmm', 'preview_url': 'https://p.scdn.co/mp3-preview/2f0692571f94cf8573032998a3b9ae7e40d4eba5?cid=11419dac9f88424c93dd910d7d82a6bc', 'id': '7H7NyZ3G075GqPx2evsfeb'}, {'album': 'Animal (Expanded Edition)', 'artist': 'Kesha', 'cover_image_url': 'https://i.scdn.co/image/ab67616d0000b2737a6339d6ddfd579f77559b3c', 'genre': 'dance', 'name': 'TiK ToK', 'preview_url': 'https://p.scdn.co/mp3-preview/ea95bec21bd6c4979cc91f5d5528b533d879905c?cid=11419dac9f88424c93dd910d7d82a6bc', 'id': '0snQkGI5qnAmohLE7jTsTn'}, {'album': 'Rodeo', 'artist': 'Travis Scott', 'cover_image_url': 'https://i.scdn.co/image/ab67616d0000b273715973050587fe3c93033aad', 'genre': 'house', 'name': 'Nightcrawler (feat. Swae Lee & Chief Keef)', 'preview_url': 'https://p.scdn.co/mp3-preview/23540b3a777ceb28824330d1c72897e44e66dd1b?cid=11419dac9f88424c93dd910d7d82a6bc', 'id': '22mek4IiqubGD9ctzxc69s'}, {'album': 'Raymond v Raymond (Expanded Edition)', 'artist': 'USHER', 'cover_image_url': 'https://i.scdn.co/image/ab67616d0000b27386b0c9728ad3ed338eaeea79', 'genre': 'dance', 'name': \"DJ Got Us Fallin' In Love (feat. Pitbull)\", 'preview_url': 'https://p.scdn.co/mp3-preview/1619c7342806281d286f0ba4125ff59e80663c56?cid=11419dac9f88424c93dd910d7d82a6bc', 'id': '3BKD1PwArikchz2Zrlp1qi'}, {'album': 'Save Me, San Francisco (Golden Gate Edition)', 'artist': 'Train', 'cover_image_url': 'https://i.scdn.co/image/ab67616d0000b2736ff8bc258e3ebc835ffe14ca', 'genre': 'dance', 'name': 'Hey, Soul Sister', 'preview_url': 'https://p.scdn.co/mp3-preview/518c823cf0f8b862bed0fa45e34cc63db5ea58e4?cid=11419dac9f88424c93dd910d7d82a6bc', 'id': '20I8RduZC2PWMWTDCZuuAN'}, {'album': 'Nasty', 'artist': 'Tinashe', 'cover_image_url': 'https://i.scdn.co/image/ab67616d0000b27399068b5c52ec35ec2db977a7', 'genre': 'alternative', 'name': 'Nasty', 'preview_url': 'https://p.scdn.co/mp3-preview/be91189eabbc552654634c46b7ce1948c1b4fe34?cid=11419dac9f88424c93dd910d7d82a6bc', 'id': '698eQRku24PIYPQPHItKlA'}, {'album': '17', 'artist': 'XXXTENTACION', 'cover_image_url': 'https://i.scdn.co/image/ab67616d0000b273203c89bd4391468eea4cc3f5', 'genre': 'emo', 'name': 'Jocelyn Flores', 'preview_url': 'https://p.scdn.co/mp3-preview/df466c4bb30333c2ee904e7c876920e418d41732?cid=11419dac9f88424c93dd910d7d82a6bc', 'id': '6RiiSy9GzSwiyDEJDiMuKe'}, {'album': 'Hybrid Theory (Bonus Edition)', 'artist': 'Linkin Park', 'cover_image_url': 'https://i.scdn.co/image/ab67616d0000b273e2f039481babe23658fc719a', 'genre': 'alt-rock', 'name': 'In the End', 'preview_url': 'https://p.scdn.co/mp3-preview/b5ee275ca337899f762b1c1883c11e24a04075b0?cid=11419dac9f88424c93dd910d7d82a6bc', 'id': '7MmG8p0F9N3C4AXdK6o6Eb'}, {'album': 'Gata Only', 'artist': 'FloyyMenor', 'cover_image_url': 'https://i.scdn.co/image/ab67616d0000b273c4583f3ad76630879a75450a', 'genre': 'reggae', 'name': 'Gata Only', 'preview_url': 'https://p.scdn.co/mp3-preview/12ae7f061a9da14a7c1e6a3e21de68365697efe8?cid=11419dac9f88424c93dd910d7d82a6bc', 'id': '07nH4ifBxUB4lZcsf44Brn'}, {'album': 'Born In The U.S.A.', 'artist': 'Bruce Springsteen', 'cover_image_url': 'https://i.scdn.co/image/ab67616d0000b273a7865e686c36a4adda6c9978', 'genre': 'singer-songwriter', 'name': 'Dancing In the Dark', 'preview_url': 'https://p.scdn.co/mp3-preview/f98a1f3b07ca22d6ccda4a2e360981d1b0bfcbbc?cid=11419dac9f88424c93dd910d7d82a6bc', 'id': '5TXDeTFVRVY7Cvt0Dw4vWW'}, {'album': 'The Age of Consent', 'artist': 'Bronski Beat', 'cover_image_url': 'https://i.scdn.co/image/ab67616d0000b2736affdd29d6ee84a298746ef7', 'genre': 'synth-pop', 'name': 'Smalltown Boy', 'preview_url': 'https://p.scdn.co/mp3-preview/38dc3cec253fb45d57c7f1972aa196eb00d83ee3?cid=11419dac9f88424c93dd910d7d82a6bc', 'id': '60a0Rd6pjrkxjPbaKzXjfq'}, {'album': 'Un Verano Sin Ti', 'artist': 'Bad Bunny', 'cover_image_url': 'https://i.scdn.co/image/ab67616d0000b27349d694203245f241a1bcaa72', 'genre': 'latin', 'name': 'Efecto', 'preview_url': 'https://p.scdn.co/mp3-preview/a622a47c8df98ef72676608511c0b2e1d5d51268?cid=11419dac9f88424c93dd910d7d82a6bc', 'id': '3Ua0m0YmEjrMi9XErKcNiR'}, {'album': 'Thank You (Not So Bad)', 'artist': 'Dimitri Vegas & Like Mike', 'cover_image_url': 'https://i.scdn.co/image/ab67616d0000b2730aa08f8923434aab06e43b37', 'genre': 'edm', 'name': 'Thank You (Not So Bad)', 'preview_url': 'https://p.scdn.co/mp3-preview/90b0c56eb3bd187d09a8ad612eb4049447d056ad?cid=11419dac9f88424c93dd910d7d82a6bc', 'id': '2KslE17cAJNHTsI2MI0jb2'}, {'album': 'This Old Dog', 'artist': 'Mac DeMarco', 'cover_image_url': 'https://i.scdn.co/image/ab67616d0000b273d18fa8f63707115cb1b38f65', 'genre': 'edm', 'name': 'For the First Time', 'preview_url': 'https://p.scdn.co/mp3-preview/6e7905297d920bd2434923bd64eb9b012b4d7610?cid=11419dac9f88424c93dd910d7d82a6bc', 'id': '2nRMW95dnOILirpjbksLTs'}, {'album': 'Parking Lot', 'artist': 'Mustard', 'cover_image_url': 'https://i.scdn.co/image/ab67616d0000b273ad3e25785fe6f26690797468', 'genre': 'hip-hop', 'name': 'Parking Lot', 'preview_url': 'https://p.scdn.co/mp3-preview/201aca7ea70c426a8ddcb3c90b75371c4009583a?cid=11419dac9f88424c93dd910d7d82a6bc', 'id': '2HRgqmZQC0MC7GeNuDIXHN'}, {'album': 'nadie sabe lo que va a pasar mañana', 'artist': 'Bad Bunny', 'cover_image_url': 'https://i.scdn.co/image/ab67616d0000b2737b1fc51ff3257b5286a1ecec', 'genre': 'latin', 'name': 'MONACO', 'preview_url': 'https://p.scdn.co/mp3-preview/f80c7cc394457fc77cd6668a715b039fd86404f9?cid=11419dac9f88424c93dd910d7d82a6bc', 'id': '5sdQOyqq2IDhvmx2lHOpwd'}, {'album': 'Sticky', 'artist': 'KISS OF LIFE', 'cover_image_url': 'https://i.scdn.co/image/ab67616d0000b2734cd7f69b85766b3d3035c27c', 'genre': 'k-pop', 'name': 'Sticky', 'preview_url': 'https://p.scdn.co/mp3-preview/22524fd964bdcb1a25da7c9b2eeaecf250e3c46f?cid=11419dac9f88424c93dd910d7d82a6bc', 'id': '4e1aewX6ATPcdfQIqr7gqO'}, {'album': 'Stadium Arcadium', 'artist': 'Red Hot Chili Peppers', 'cover_image_url': 'https://i.scdn.co/image/ab67616d0000b27309fd83d32aee93dceba78517', 'genre': 'funk', 'name': 'Snow (Hey Oh)', 'preview_url': 'https://p.scdn.co/mp3-preview/d1e419a7f2aa9ba761be88802dbd3560b8f99776?cid=11419dac9f88424c93dd910d7d82a6bc', 'id': '3k6q0O9JnO2GhvD6C8fs20'}, {'album': 'Boston', 'artist': 'Boston', 'cover_image_url': 'https://i.scdn.co/image/ab67616d0000b2738c1fadcc997a65384f34d694', 'genre': 'hard-rock', 'name': 'More Than a Feeling', 'preview_url': 'https://p.scdn.co/mp3-preview/4e8704349932ecb754e3c03cdf3b1563309627a0?cid=11419dac9f88424c93dd910d7d82a6bc', 'id': '3ZOEytgrvLwQaqXreDs2Jx'}, {'album': 'Motion', 'artist': 'Calvin Harris', 'cover_image_url': 'https://i.scdn.co/image/ab67616d0000b273063c048e9ef6bd021b744756', 'genre': 'edm', 'name': 'Outside (feat. Ellie Goulding)', 'preview_url': 'https://p.scdn.co/mp3-preview/258a571c0ae04c58dad7ff59c49b0bd39cb1986b?cid=11419dac9f88424c93dd910d7d82a6bc', 'id': '7iQXYTyuG13aoeHxGG28Nh'}, {'album': 'Never Let Go', 'artist': 'Jung Kook', 'cover_image_url': 'https://i.scdn.co/image/ab67616d0000b273083f5a45d93b57cb65a97b83', 'genre': 'k-pop', 'name': 'Never Let Go', 'preview_url': 'https://p.scdn.co/mp3-preview/636c9dd14d54b2d025dbf52babbed94fe90e60c8?cid=11419dac9f88424c93dd910d7d82a6bc', 'id': '7m9OqQk4RVRkw9JJdeAw96'}, {'album': 'Belong Together', 'artist': 'Mark Ambor', 'cover_image_url': 'https://i.scdn.co/image/ab67616d0000b273ed71b8008aaa879622f8c3b5', 'genre': 'pop', 'name': 'Belong Together', 'preview_url': 'https://p.scdn.co/mp3-preview/94cf6a4e7df256464aa0a91ee048c901185a8964?cid=11419dac9f88424c93dd910d7d82a6bc', 'id': '5bi0gh89wRuH2OgjdAKFsb'}, {'album': 'This Is What You Came For', 'artist': 'Calvin Harris', 'cover_image_url': 'https://i.scdn.co/image/ab67616d0000b273d9aa52355e062f5de060adbf', 'genre': 'dance', 'name': 'This Is What You Came For', 'preview_url': 'https://p.scdn.co/mp3-preview/14138fec09bb5940b1ee11c3207663906970cf9b?cid=11419dac9f88424c93dd910d7d82a6bc', 'id': '1vj47xD8v9wIhQrmQY2Dkv'}, {'album': 'Franz Ferdinand', 'artist': 'Franz Ferdinand', 'cover_image_url': 'https://i.scdn.co/image/ab67616d0000b27309a90531b85be7899c3234c4', 'genre': 'alt-rock', 'name': 'Take Me Out', 'preview_url': 'https://p.scdn.co/mp3-preview/f91cfdf3dd5f7114cf47f8c8b2567b7a8a76d9ed?cid=11419dac9f88424c93dd910d7d82a6bc', 'id': '7iUtQNMRB8ZkKC4AmEuCJC'}, {'album': 'Planet Pit (Deluxe Version)', 'artist': 'Pitbull', 'cover_image_url': 'https://i.scdn.co/image/ab67616d0000b2731dc7483a9fcfce54822a2f19', 'genre': 'dance', 'name': 'Give Me Everything (feat. Nayer)', 'preview_url': 'https://p.scdn.co/mp3-preview/6eafa4293d2b35b2e75ffab5ec1bba8ec00d5082?cid=11419dac9f88424c93dd910d7d82a6bc', 'id': '5Eax0qFko2dh7Rl2lYs3bx'}, {'album': 'The Trinity', 'artist': 'Sean Paul', 'cover_image_url': 'https://i.scdn.co/image/ab67616d0000b27369ba684e533706bafe248ef3', 'genre': 'dancehall', 'name': 'Temperature', 'preview_url': 'https://p.scdn.co/mp3-preview/fd0b2beda757e9b8dcaf04e71c1d6cada0659765?cid=11419dac9f88424c93dd910d7d82a6bc', 'id': '3k3NWokhRRkEPhCzPmV8TW'}, {'album': 'THE FIRST TIME', 'artist': 'The Kid LAROI', 'cover_image_url': 'https://i.scdn.co/image/ab67616d0000b2732abb30c6296964d5d07458c2', 'genre': 'hip-hop', 'name': 'NIGHTS LIKE THIS', 'preview_url': 'https://p.scdn.co/mp3-preview/644df54b3b300c95aed1bf5c47033de23d0aaae1?cid=11419dac9f88424c93dd910d7d82a6bc', 'id': '7floNISpH8VF4z4459Qo18'}, {'album': 'By the Way (Deluxe Edition)', 'artist': 'Red Hot Chili Peppers', 'cover_image_url': 'https://i.scdn.co/image/ab67616d0000b273de1af2785a83cc660155a0c4', 'genre': 'alt-rock', 'name': \"Can't Stop\", 'preview_url': 'https://p.scdn.co/mp3-preview/1b3bc0aca1746a99cbb8dd07b2325f6499b58a2e?cid=11419dac9f88424c93dd910d7d82a6bc', 'id': '4MjDJD8cW7iVeWInc2Bdyj'}, {'album': 'Shut up My Moms Calling', 'artist': 'Hotel Ugly', 'cover_image_url': 'https://i.scdn.co/image/ab67616d0000b273350ab7a839c04bfd5225a9f5', 'genre': 'indie', 'name': 'Shut up My Moms Calling', 'preview_url': 'https://p.scdn.co/mp3-preview/7642409265c74b714a2f0f0dd8663c031e253485?cid=11419dac9f88424c93dd910d7d82a6bc', 'id': '7ABLbnD53cQK00mhcaOUVG'}, {'album': 'American Heartbreak', 'artist': 'Zach Bryan', 'cover_image_url': 'https://i.scdn.co/image/ab67616d0000b273ba30859a1ca79c5a372d177a', 'genre': 'country', 'name': 'Sun to Me', 'preview_url': 'https://p.scdn.co/mp3-preview/e002b15b8d7d1d3c8953abd8f451536c2621bbf4?cid=11419dac9f88424c93dd910d7d82a6bc', 'id': '7FlQk2gJ6TBrHHiidvdR2O'}, {'album': 'A Bar Song (Tipsy)', 'artist': 'Shaboozey', 'cover_image_url': 'https://i.scdn.co/image/ab67616d0000b27380d86d636244b72a3a1eede2', 'genre': 'pop', 'name': 'A Bar Song (Tipsy)', 'preview_url': 'https://p.scdn.co/mp3-preview/59f68f3e96233e3c352659053dd48039790cd965?cid=11419dac9f88424c93dd910d7d82a6bc', 'id': '2ixsaeFioXJmMgkkbd4uj1'}, {'album': 'A Mí', 'artist': 'Rels B', 'cover_image_url': 'https://i.scdn.co/image/ab67616d0000b273e75742385df2e0a026001e0d', 'genre': 'spanish', 'name': 'A Mí', 'preview_url': 'https://p.scdn.co/mp3-preview/a693a14deefdf915f11e35275ab2048541af8b5f?cid=11419dac9f88424c93dd910d7d82a6bc', 'id': '1pymWRCuZfCd0zdiBJo0Hj'}, {'album': 'September (sped up + slowed)', 'artist': 'Earth, Wind & Fire', 'cover_image_url': 'https://i.scdn.co/image/ab67616d0000b2730faf2fc17446651865ce2282', 'genre': 'disco', 'name': 'September', 'preview_url': 'https://p.scdn.co/mp3-preview/27390b5ac85b9dd997e8ae98a3356f0dd4a61f51?cid=11419dac9f88424c93dd910d7d82a6bc', 'id': '5zA8vzDGqPl2AzZkEYQGKh'}, {'album': 'BRAT', 'artist': 'Charli xcx', 'cover_image_url': 'https://i.scdn.co/image/ab67616d0000b27388e3822cccfb8f2832c70c2e', 'genre': 'pop', 'name': '360', 'preview_url': 'https://p.scdn.co/mp3-preview/34231118fa980913824d4ccf78be931e999f69f1?cid=11419dac9f88424c93dd910d7d82a6bc', 'id': '0d28khcov6AiegSCpG5TuT'}, {'album': 'Deu Moral (Ao Vivo)', 'artist': 'Zé Neto & Cristiano', 'cover_image_url': 'https://i.scdn.co/image/ab67616d0000b273dbe38a923b0c390385bdf7d1', 'genre': 'sertanejo', 'name': 'Deu Moral - Ao Vivo', 'preview_url': 'https://p.scdn.co/mp3-preview/56636e06194fada81367728b5b8607f2b712453c?cid=11419dac9f88424c93dd910d7d82a6bc', 'id': '1NcqLEg2r2LXqMVbam2BJD'}, {'album': 'Motion', 'artist': 'Calvin Harris', 'cover_image_url': 'https://i.scdn.co/image/ab67616d0000b273063c048e9ef6bd021b744756', 'genre': 'edm', 'name': 'Blame (feat. John Newman)', 'preview_url': 'https://p.scdn.co/mp3-preview/31297ae5e2f5524fe28b18ed71abc79683c66a88?cid=11419dac9f88424c93dd910d7d82a6bc', 'id': '2FQrifJ1N335Ljm3TjTVVf'}, {'album': 'In The Zone', 'artist': 'Britney Spears', 'cover_image_url': 'https://i.scdn.co/image/ab67616d0000b273efc6988972cb04105f002cd4', 'genre': 'dance', 'name': 'Toxic', 'preview_url': 'https://p.scdn.co/mp3-preview/6de2791f84c1d637a0e24734b6df3997cc742da4?cid=11419dac9f88424c93dd910d7d82a6bc', 'id': '3d9DChrdc6BOeFsbrZ3Is0'}, {'album': '30', 'artist': 'Adele', 'cover_image_url': 'https://i.scdn.co/image/ab67616d0000b273c6b577e4c4a6d326354a89f7', 'genre': 'british', 'name': 'Easy On Me', 'preview_url': 'https://p.scdn.co/mp3-preview/a0cd8077c79a4aa3dcaa68bbc5ecdeda46e8d13f?cid=11419dac9f88424c93dd910d7d82a6bc', 'id': '4w2GLmK2wnioVnb5CPQeex'}, {'album': \"Pa las Baby's Y Belikeada\", 'artist': 'Fuerza Regida', 'cover_image_url': 'https://i.scdn.co/image/ab67616d0000b273ad57982065339f7dc2058efe', 'genre': 'sad', 'name': 'CRAZYZ', 'preview_url': 'https://p.scdn.co/mp3-preview/42551b39c7acd318fcb450bf6189cc1b803f16b4?cid=11419dac9f88424c93dd910d7d82a6bc', 'id': '4iZ4pt7kvcaH6Yo8UoZ4s2'}, {'album': \"I'm Good (Blue)\", 'artist': 'David Guetta', 'cover_image_url': 'https://i.scdn.co/image/ab67616d0000b273933c036cd61cd40d3f17a9c4', 'genre': 'dance', 'name': \"I'm Good (Blue)\", 'preview_url': 'https://p.scdn.co/mp3-preview/c1de960c1a98f7ab652331e5223c50baba75c460?cid=11419dac9f88424c93dd910d7d82a6bc', 'id': '5uQ7de4EWjb3rkcFxyEOpu'}, {'album': 'SOS', 'artist': 'SZA', 'cover_image_url': 'https://i.scdn.co/image/ab67616d0000b27370dbc9f47669d120ad874ec1', 'genre': 'pop', 'name': 'Snooze', 'preview_url': 'https://p.scdn.co/mp3-preview/8c53920b5fd2c3178afa36cac9eec68b5ee9204a?cid=11419dac9f88424c93dd910d7d82a6bc', 'id': '1DIXPcTDzTj8ZMHt3PDt8p'}, {'album': 'Heading South', 'artist': 'Zach Bryan', 'cover_image_url': 'https://i.scdn.co/image/ab67616d0000b273f9017bcd001d030d46850226', 'genre': 'country', 'name': 'Heading South', 'preview_url': 'https://p.scdn.co/mp3-preview/93aa7e2fe20c76296a5d256a8e19187a015fb1c7?cid=11419dac9f88424c93dd910d7d82a6bc', 'id': '5rb9QrpfcKFHM1EUbSIurX'}, {'album': 'Unreal Unearth: Unheard', 'artist': 'Hozier', 'cover_image_url': 'https://i.scdn.co/image/ab67616d0000b2732e8b4358d044b75807e30bf0', 'genre': 'indie', 'name': 'Too Sweet', 'preview_url': 'https://p.scdn.co/mp3-preview/e526daac5ec6c4594ab3760cc48cee835379802d?cid=11419dac9f88424c93dd910d7d82a6bc', 'id': '086myS9r57YsLbJpU0TgK9'}, {'album': 'BEST INTEREST', 'artist': 'Tyler, The Creator', 'cover_image_url': 'https://i.scdn.co/image/ab67616d0000b273ab8995f18dc3dd9f34a6acd4', 'genre': 'hip-hop', 'name': 'BEST INTEREST', 'preview_url': 'https://p.scdn.co/mp3-preview/cf36ca28a947227ba28d7ac88bfd7aec8b49e55f?cid=11419dac9f88424c93dd910d7d82a6bc', 'id': '39shmbIHICJ2Wxnk1fPSdz'}, {'album': 'Confessions (Expanded Edition)', 'artist': 'USHER', 'cover_image_url': 'https://i.scdn.co/image/ab67616d0000b273365b3fb800c19f7ff72602da', 'genre': 'dance', 'name': 'Yeah! (feat. Lil Jon & Ludacris)', 'preview_url': 'https://p.scdn.co/mp3-preview/1eca1cb525c2b0df2ecba52f1105f139323e09a2?cid=11419dac9f88424c93dd910d7d82a6bc', 'id': '4XvcHTUfIlWfyJTRG0aqlo'}, {'album': 'AM', 'artist': 'Arctic Monkeys', 'cover_image_url': 'https://i.scdn.co/image/ab67616d0000b2734ae1c4c5c45aabe565499163', 'genre': 'garage', 'name': 'Do I Wanna Know?', 'preview_url': 'https://p.scdn.co/mp3-preview/006bc465fe3d1c04dae93a050eca9d402a7322b8?cid=11419dac9f88424c93dd910d7d82a6bc', 'id': '6XjDF6nds4DE2BBbagZol6'}, {'album': \"Baby Don't Hurt Me\", 'artist': 'David Guetta', 'cover_image_url': 'https://i.scdn.co/image/ab67616d0000b2730b4ef75c3728599aa4104f7a', 'genre': 'edm', 'name': \"Baby Don't Hurt Me\", 'preview_url': 'https://p.scdn.co/mp3-preview/a8f2e176e17e0f6298b42ef8e96118318fdd2b89?cid=11419dac9f88424c93dd910d7d82a6bc', 'id': '64BbK9SFKH2jk86U3dGj2P'}, {'album': 'The Land Is Inhospitable and So Are We', 'artist': 'Mitski', 'cover_image_url': 'https://i.scdn.co/image/ab67616d0000b27334f21d3047d85440dfa37f10', 'genre': 'indie', 'name': 'My Love Mine All Mine', 'preview_url': 'https://p.scdn.co/mp3-preview/2f90c9a6a2b6e38554d3bc3cf7512c2c70ac67b9?cid=11419dac9f88424c93dd910d7d82a6bc', 'id': '2aibwv5hGXSgw7Yru8IYTO'}, {'album': 'Mulholland Drive', 'artist': 'Eyedress', 'cover_image_url': 'https://i.scdn.co/image/ab67616d0000b27316f48ac1e989d7acc028e9cf', 'genre': 'indie-pop', 'name': 'Something About You', 'preview_url': 'https://p.scdn.co/mp3-preview/e4fce31a7c0073b2eb93a0201f8825ecd94c4d32?cid=11419dac9f88424c93dd910d7d82a6bc', 'id': '5FVd6KXrgO9B3JPmC8OPst'}, {'album': \"NewJeans 'Super Shy'\", 'artist': 'NewJeans', 'cover_image_url': 'https://i.scdn.co/image/ab67616d0000b2733d98a0ae7c78a3a9babaf8af', 'genre': 'k-pop', 'name': 'Super Shy', 'preview_url': 'https://p.scdn.co/mp3-preview/dab062e2cc708a2680ce84953a3581c5a679a230?cid=11419dac9f88424c93dd910d7d82a6bc', 'id': '0R6NfOiLzLj4O5VbYSJAjf'}, {'album': '24K Magic', 'artist': 'Bruno Mars', 'cover_image_url': 'https://i.scdn.co/image/ab67616d0000b273232711f7d66a1e19e89e28c5', 'genre': 'dance', 'name': \"That's What I Like\", 'preview_url': 'https://p.scdn.co/mp3-preview/93046e987d8c5bfdbeea2768ac1a8ecea17bd7e0?cid=11419dac9f88424c93dd910d7d82a6bc', 'id': '4HlFJV71xXKIGcU3kRyttv'}, {'album': 'Morar Nesse Motel', 'artist': 'Gusttavo Lima', 'cover_image_url': 'https://i.scdn.co/image/ab67616d0000b273f2932c56e1854b1714c06385', 'genre': 'sertanejo', 'name': 'Morar Nesse Motel', 'preview_url': 'https://p.scdn.co/mp3-preview/d390a8c1d12205577d76425971da6d1bacc7946f?cid=11419dac9f88424c93dd910d7d82a6bc', 'id': '5XVdHRf4CAJ2Jm0uMIy5qY'}, {'album': 'Closer Than This', 'artist': 'Jimin', 'cover_image_url': 'https://i.scdn.co/image/ab67616d0000b273e3dbc03f538633dbb40adf37', 'genre': 'k-pop', 'name': 'Closer Than This', 'preview_url': 'https://p.scdn.co/mp3-preview/ff12ac1c765f63cf54ab1e4a4e6dfa72d958c2de?cid=11419dac9f88424c93dd910d7d82a6bc', 'id': '7mXuWTczZNxG5EDcjFEuJR'}, {'album': 'The Great American Bar Scene', 'artist': 'Zach Bryan', 'cover_image_url': 'https://i.scdn.co/image/ab67616d0000b273647ad18a07e9e939e399e5a1', 'genre': 'country', 'name': 'Better Days (feat. John Mayer)', 'preview_url': 'https://p.scdn.co/mp3-preview/10a12f60d4693e81691f375e5041e1b7c70c531b?cid=11419dac9f88424c93dd910d7d82a6bc', 'id': '2K7xn816oNHJZ0aVqdQsha'}, {'album': 'GOLDEN', 'artist': 'Jung Kook', 'cover_image_url': 'https://i.scdn.co/image/ab67616d0000b273741fd4807f442af3f7359316', 'genre': 'k-pop', 'name': 'Seven (feat. Latto) (Explicit Ver.)', 'preview_url': 'https://p.scdn.co/mp3-preview/c6f315711a77fba52139f54587afa7e7d16a1232?cid=11419dac9f88424c93dd910d7d82a6bc', 'id': '2zYzyRzz6pRmhPzyfMEC8s'}, {'album': 'Santa', 'artist': 'Rvssian', 'cover_image_url': 'https://i.scdn.co/image/ab67616d0000b273f02899736a6ff8dd538ae70b', 'genre': 'latin', 'name': 'Santa', 'preview_url': 'https://p.scdn.co/mp3-preview/0f6ef71a778db3848bb186092bccd8f0290c10a0?cid=11419dac9f88424c93dd910d7d82a6bc', 'id': '4zfQER4owi8q6NL8Gg63Ya'}, {'album': 'Happier', 'artist': 'Marshmello', 'cover_image_url': 'https://i.scdn.co/image/ab67616d0000b273dd0a40eecd4b13e4c59988da', 'genre': 'edm', 'name': 'Happier', 'preview_url': 'https://p.scdn.co/mp3-preview/a23fe33122a12a302b97c443ab82473ce55df8fd?cid=11419dac9f88424c93dd910d7d82a6bc', 'id': '0u6JFVn0KHHlidZxNL9gVE'}, {'album': 'Un Verano Sin Ti', 'artist': 'Bad Bunny', 'cover_image_url': 'https://i.scdn.co/image/ab67616d0000b27349d694203245f241a1bcaa72', 'genre': 'latin', 'name': 'Ojitos Lindos', 'preview_url': 'https://p.scdn.co/mp3-preview/d9e32879becf10d4b28d66b55033bc91803d95f7?cid=11419dac9f88424c93dd910d7d82a6bc', 'id': '4U20gQcVcjzY12xhLsXwXy'}, {'album': 'nadie sabe lo que va a pasar mañana', 'artist': 'Bad Bunny', 'cover_image_url': 'https://i.scdn.co/image/ab67616d0000b2737b1fc51ff3257b5286a1ecec', 'genre': 'latin', 'name': 'PERRO NEGRO', 'preview_url': 'https://p.scdn.co/mp3-preview/56ebd640e918ff135fed691da3c5697568e60a77?cid=11419dac9f88424c93dd910d7d82a6bc', 'id': '1QEEqeFIZktqIpPI4jSVSF'}, {'album': 'EL ÚLTIMO BAILE', 'artist': 'Trueno', 'cover_image_url': 'https://i.scdn.co/image/ab67616d0000b27368a450f7bcdc187e20f0ba0a', 'genre': 'latin', 'name': 'REAL GANGSTA LOVE', 'preview_url': 'https://p.scdn.co/mp3-preview/2f10aa6bf08d7c4b1a7737c3accb9b738f885c73?cid=11419dac9f88424c93dd910d7d82a6bc', 'id': '6mTpK40yIRk1xGGNvRMHGg'}, {'album': 'Carry You Home', 'artist': 'Alex Warren', 'cover_image_url': 'https://i.scdn.co/image/ab67616d0000b27305efa6dce38504deb91fe687', 'genre': 'singer-songwriter', 'name': 'Carry You Home', 'preview_url': 'https://p.scdn.co/mp3-preview/0ddc85926cefdf9d30195b5d20d5432ef4b1bb7c?cid=11419dac9f88424c93dd910d7d82a6bc', 'id': '5QpcLTQjh0qO7OIuR9q8IR'}, {'album': 'Back In Black', 'artist': 'AC/DC', 'cover_image_url': 'https://i.scdn.co/image/ab67616d0000b2730b51f8d91f3a21e8426361ae', 'genre': 'hard-rock', 'name': 'Back In Black', 'preview_url': 'https://p.scdn.co/mp3-preview/81e64fa3a306418f6bb51325a93df0c75ea50d42?cid=11419dac9f88424c93dd910d7d82a6bc', 'id': '08mG3Y1vljYA6bvDt4Wqkj'}, {'album': 'Good Times Go', 'artist': 'Nicky Youre', 'cover_image_url': 'https://i.scdn.co/image/ab67616d0000b273ecd970d1d2623b6c7fc6080c', 'genre': 'singer-songwriter', 'name': 'Sunroof', 'preview_url': 'https://p.scdn.co/mp3-preview/605058558fd8d10c420b56c41555e567645d5b60?cid=11419dac9f88424c93dd910d7d82a6bc', 'id': '4QNpBfC0zvjKqPJcyqBy9W'}, {'album': 'Something in the Orange', 'artist': 'Zach Bryan', 'cover_image_url': 'https://i.scdn.co/image/ab67616d0000b273b2b6670e3aca9bcd55fbabbb', 'genre': 'country', 'name': 'Something in the Orange', 'preview_url': 'https://p.scdn.co/mp3-preview/d33dc9df586e24c9d8f640df08b776d94680f529?cid=11419dac9f88424c93dd910d7d82a6bc', 'id': '0WiJIa3V9GdcJfcy1FhLjp'}, {'album': 'UTOPIA', 'artist': 'Travis Scott', 'cover_image_url': 'https://i.scdn.co/image/ab67616d0000b273881d8d8378cd01099babcd44', 'genre': 'house', 'name': 'FE!N (feat. Playboi Carti)', 'preview_url': 'https://p.scdn.co/mp3-preview/4b0178cf6991f59db18e12e2219ff11e27474b0a?cid=11419dac9f88424c93dd910d7d82a6bc', 'id': '1JLn8RhQzHz3qDqsChcmBl'}, {'album': 'AM', 'artist': 'Arctic Monkeys', 'cover_image_url': 'https://i.scdn.co/image/ab67616d0000b2734ae1c4c5c45aabe565499163', 'genre': 'garage', 'name': \"Why'd You Only Call Me When You're High?\", 'preview_url': 'https://p.scdn.co/mp3-preview/be5453a4763510679fab61e39662ab0257458be6?cid=11419dac9f88424c93dd910d7d82a6bc', 'id': '5YqEzk3C5c3UZ1D5fJUlXA'}, {'album': 'Combat Rock (Remastered)', 'artist': 'The Clash', 'cover_image_url': 'https://i.scdn.co/image/ab67616d0000b27325a4df452a3c42ccc2e9288b', 'genre': 'punk', 'name': 'Should I Stay or Should I Go - Remastered', 'preview_url': 'https://p.scdn.co/mp3-preview/30dfcd239fdb4a9ee277ff3a214a4f6771bd8cb3?cid=11419dac9f88424c93dd910d7d82a6bc', 'id': '7FwBtcecmlpc1sLySPXeGE'}, {'album': 'Fortaleza, Vol.3 (Ao Vivo)', 'artist': 'Murilo Huff', 'cover_image_url': 'https://i.scdn.co/image/ab67616d0000b273c61b4691d0ba09631399ffd3', 'genre': 'sertanejo', 'name': 'Me Caiu Tão Bem - Ao Vivo', 'preview_url': 'https://p.scdn.co/mp3-preview/7d2a03b0ccbeb54b08b8fe99bd82fd059d9da238?cid=11419dac9f88424c93dd910d7d82a6bc', 'id': '4uzKAj0mIyYmyhsRRyPXaQ'}, {'album': 'Triplex (Ao Vivo)', 'artist': 'Matheus Fernandes', 'cover_image_url': 'https://i.scdn.co/image/ab67616d0000b2739258fcfe29888e1371f3f812', 'genre': 'forro', 'name': 'Triplex - Ao Vivo', 'preview_url': 'https://p.scdn.co/mp3-preview/3a78b8ba12ef72901e8a56fa06f92e99e49fb674?cid=11419dac9f88424c93dd910d7d82a6bc', 'id': '1XBYiRV30ykHw5f4wm6qEn'}, {'album': 'Demon Days', 'artist': 'Gorillaz', 'cover_image_url': 'https://i.scdn.co/image/ab67616d0000b27319d85a472f328a6ed9b704cf', 'genre': 'alt-rock', 'name': 'Feel Good Inc.', 'preview_url': 'https://p.scdn.co/mp3-preview/b13a1bb2d8a04132982a49b6efee933cc9d67c7e?cid=11419dac9f88424c93dd910d7d82a6bc', 'id': '32OlwWuMpZ6b0aN2RZOeMS'}, {'album': 'T R A P S O U L', 'artist': 'Bryson Tiller', 'cover_image_url': 'https://i.scdn.co/image/ab67616d0000b273d5f3cea8affdca01a0dc754f', 'genre': 'hip-hop', 'name': \"Don't\", 'preview_url': 'https://p.scdn.co/mp3-preview/f7e8de8a2a419c43ddf77af8572e6ad1e4cb64d4?cid=11419dac9f88424c93dd910d7d82a6bc', 'id': '4uUG5RXrOk84mYEfFvj3cK'}, {'album': 'Toxicity', 'artist': 'System Of A Down', 'cover_image_url': 'https://i.scdn.co/image/ab67616d0000b27330d45198d0c9e8841f9a9578', 'genre': 'alt-rock', 'name': 'Chop Suey!', 'preview_url': 'https://p.scdn.co/mp3-preview/d536012652d7c99c472fe3811312ce3026f2196b?cid=11419dac9f88424c93dd910d7d82a6bc', 'id': '75qepWUT3FEyPyXQMMMVZm'}, {'album': 'Highway to Hell', 'artist': 'AC/DC', 'cover_image_url': 'https://i.scdn.co/image/ab67616d0000b27351c02a77d09dfcd53c8676d0', 'genre': 'hard-rock', 'name': 'Highway to Hell', 'preview_url': 'https://p.scdn.co/mp3-preview/e5dde93998c6b622d0ac236ceeaabd49481da078?cid=11419dac9f88424c93dd910d7d82a6bc', 'id': '7MmrcXVA7A5zZ2CbDuGHNa'}, {'album': 'Wanted on Voyage (Expanded Edition)', 'artist': 'George Ezra', 'cover_image_url': 'https://i.scdn.co/image/ab67616d0000b273d6df3bccf3ec41ea2f76debc', 'genre': 'folk', 'name': 'Budapest', 'preview_url': 'https://p.scdn.co/mp3-preview/03e6f12a87c862370fe965eb330fbcab1f2ee93f?cid=11419dac9f88424c93dd910d7d82a6bc', 'id': '5vmRQ3zELMLUQPo2FLQ76x'}, {'album': 'Hard To Imagine The Neighbourhood Ever Changing', 'artist': 'The Neighbourhood', 'cover_image_url': 'https://i.scdn.co/image/ab67616d0000b2739b6ac98a52f62d5cb473da40', 'genre': 'alt-rock', 'name': 'Softcore', 'preview_url': 'https://p.scdn.co/mp3-preview/dd4996bcd5ea34f70d66213a698a4e9879f69907?cid=11419dac9f88424c93dd910d7d82a6bc', 'id': '6I9VzXrHxO9rA9A5euc8Ak'}, {'album': 'GÉNESIS', 'artist': 'Peso Pluma', 'cover_image_url': 'https://i.scdn.co/image/ab67616d0000b2732fb583ed96f8f35cbf2897ba', 'genre': 'sad', 'name': 'LADY GAGA', 'preview_url': 'https://p.scdn.co/mp3-preview/ec439edcef8f1b71e88cfeb7d200db274901123b?cid=11419dac9f88424c93dd910d7d82a6bc', 'id': '7z3PblAN3dH1JMewiRydkZ'}, {'album': 'Agent Provocateur', 'artist': 'Foreigner', 'cover_image_url': 'https://i.scdn.co/image/ab67616d0000b2733e030a7e606959674643d274', 'genre': 'hard-rock', 'name': 'I Want to Know What Love Is - 1999 Remaster', 'preview_url': 'https://p.scdn.co/mp3-preview/23f9b7ad0a9008aca1017cce9b5ba375b322ac8b?cid=11419dac9f88424c93dd910d7d82a6bc', 'id': '0k2GOhqsrxDTAbFFSdNJjT'}, {'album': 'DECIDE', 'artist': 'Djo', 'cover_image_url': 'https://i.scdn.co/image/ab67616d0000b273fddfffec51b4580acae727c1', 'genre': 'indie', 'name': 'End of Beginning', 'preview_url': 'https://p.scdn.co/mp3-preview/2f6f0965be46144eca9212258c7a2988376727a1?cid=11419dac9f88424c93dd910d7d82a6bc', 'id': '46IZ0fSY2mpAiktS3KOqds'}, {'album': 'Elephant', 'artist': 'The White Stripes', 'cover_image_url': 'https://i.scdn.co/image/ab67616d0000b273a69f71a8794e2d867a52f98f', 'genre': 'alt-rock', 'name': 'Seven Nation Army', 'preview_url': 'https://p.scdn.co/mp3-preview/eca519f0a85862d9510d57d59df557081d375e3a?cid=11419dac9f88424c93dd910d7d82a6bc', 'id': '2DlHlPMa4M17kufBvI2lEN'}, {'album': 'LVEU: VIVE LA TUYA...NO LA MIA', 'artist': 'Myke Towers', 'cover_image_url': 'https://i.scdn.co/image/ab67616d0000b273c75c054b6b209b0b91d818d8', 'genre': 'latin', 'name': 'LA FALDA', 'preview_url': 'https://p.scdn.co/mp3-preview/e198a3f9d177f1981f2952cfbda81560560e6a68?cid=11419dac9f88424c93dd910d7d82a6bc', 'id': '3pXF1nA74528Edde4of9CC'}, {'album': 'Still Sleep?', 'artist': 'Sleepy Hallow', 'cover_image_url': 'https://i.scdn.co/image/ab67616d0000b27378376f650afd63698b82e4b1', 'genre': 'r-n-b', 'name': '2055', 'preview_url': 'https://p.scdn.co/mp3-preview/d05766a84b267bc5518625b595b8c9f333b46e31?cid=11419dac9f88424c93dd910d7d82a6bc', 'id': '2Dct3GykKZ58hpWRFfe2Qd'}, {'album': 'Blood Sugar Sex Magik (Deluxe Edition)', 'artist': 'Red Hot Chili Peppers', 'cover_image_url': 'https://i.scdn.co/image/ab67616d0000b273153d79816d853f2694b2cc70', 'genre': 'alt-rock', 'name': 'Under the Bridge', 'preview_url': 'https://p.scdn.co/mp3-preview/46b0229c06712c5b5e143724c0617e51a9b6e432?cid=11419dac9f88424c93dd910d7d82a6bc', 'id': '0azC730Exh71aQlOt9Zj3y'}, {'album': 'ESQUEMAS', 'artist': 'Becky G', 'cover_image_url': 'https://i.scdn.co/image/ab67616d0000b273518859dcb13382116f450073', 'genre': 'latin', 'name': 'MAMIII', 'preview_url': 'https://p.scdn.co/mp3-preview/0a699c30d354c4cb36439d03522e65b377ac0fd8?cid=11419dac9f88424c93dd910d7d82a6bc', 'id': '4356Typ82hUiFAynbLYbPn'}, {'album': 'LA VIDA ES UNA', 'artist': 'Myke Towers', 'cover_image_url': 'https://i.scdn.co/image/ab67616d0000b2730656d5ce813ca3cc4b677e05', 'genre': 'latin', 'name': 'LALA', 'preview_url': 'https://p.scdn.co/mp3-preview/42772b16b4e575d1b15b0ec7f94e335539390d2d?cid=11419dac9f88424c93dd910d7d82a6bc', 'id': '3azJifCSqg9fRij2yKIbWz'}, {'album': '17', 'artist': 'XXXTENTACION', 'cover_image_url': 'https://i.scdn.co/image/ab67616d0000b273203c89bd4391468eea4cc3f5', 'genre': 'emo', 'name': 'Revenge', 'preview_url': 'https://p.scdn.co/mp3-preview/8f5fe8bb510463b2da20325c8600200bf2984d83?cid=11419dac9f88424c93dd910d7d82a6bc', 'id': '2vXKRlJBXyOcvZYTdNeckS'}, {'album': 'Tres Hombres (Expanded 2006 Remaster)', 'artist': 'ZZ Top', 'cover_image_url': 'https://i.scdn.co/image/ab67616d0000b273db9c5945ce3a3f873695d18a', 'genre': 'blues', 'name': 'La Grange (2005 Remaster)', 'preview_url': 'https://p.scdn.co/mp3-preview/1de566ed732e7c2762c9c4432eb1ac3f6fa41d39?cid=11419dac9f88424c93dd910d7d82a6bc', 'id': '3jHdKaLCkuNEkWcLVmQPCX'}, {'album': 'GOLDEN', 'artist': 'Jung Kook', 'cover_image_url': 'https://i.scdn.co/image/ab67616d0000b273741fd4807f442af3f7359316', 'genre': 'k-pop', 'name': 'Standing Next to You', 'preview_url': 'https://p.scdn.co/mp3-preview/b1cac49f0f6043eae3a0c0557fe16a9579fbc519?cid=11419dac9f88424c93dd910d7d82a6bc', 'id': '4IFd7EVCyJsUHesBMXI8ju'}, {'album': 'Corridos Bélicos, Vol. IV (Versión Deluxe)', 'artist': 'Luis R Conriquez', 'cover_image_url': 'https://i.scdn.co/image/ab67616d0000b2733db3ceab0dc5df8c9376c4cd', 'genre': 'sad', 'name': 'GTA', 'preview_url': 'https://p.scdn.co/mp3-preview/b85c99adb82f33e50fdc2631f9efd66998b9c9bd?cid=11419dac9f88424c93dd910d7d82a6bc', 'id': '3dPQuX8Gs42Y7b454ybpMR'}, {'album': 'La Víctima', 'artist': 'Xavi', 'cover_image_url': 'https://i.scdn.co/image/ab67616d0000b2730e8dc9720dd03d86627fa54b', 'genre': 'sad', 'name': 'La Víctima', 'preview_url': 'https://p.scdn.co/mp3-preview/9e30f31b8bbd2d11c42bf193403103ddabecb16f?cid=11419dac9f88424c93dd910d7d82a6bc', 'id': '3WMj8moIAXJhHsyLaqIIHI'}, {'album': \"Gangsta's Paradise\", 'artist': 'Coolio', 'cover_image_url': 'https://i.scdn.co/image/ab67616d0000b273c31d3c870a3dbaf7b53186cc', 'genre': 'funk', 'name': \"Gangsta's Paradise\", 'preview_url': 'https://p.scdn.co/mp3-preview/1454c63a66c27ac745f874d6c113270a9c62d28e?cid=11419dac9f88424c93dd910d7d82a6bc', 'id': '42VsgItocQwOQC3XWZ8JNA'}, {'album': 'Alone At Prom', 'artist': 'Tory Lanez', 'cover_image_url': 'https://i.scdn.co/image/ab67616d0000b2730c5f23cbf0b1ab7e37d0dc67', 'genre': 'hip-hop', 'name': 'The Color Violet', 'preview_url': 'https://p.scdn.co/mp3-preview/1d7c627bf549328110519c4bd21ac39d7ca50ea1?cid=11419dac9f88424c93dd910d7d82a6bc', 'id': '2R4AlwtrrkMaRKojcTIzmL'}, {'album': 'How Deep Is Your Love', 'artist': 'Calvin Harris', 'cover_image_url': 'https://i.scdn.co/image/ab67616d0000b273f4956c3ceefc6fa1cffc6da6', 'genre': 'edm', 'name': 'How Deep Is Your Love', 'preview_url': 'https://p.scdn.co/mp3-preview/6aa9aca8fda017e572a0065c00a67feb6f044d0c?cid=11419dac9f88424c93dd910d7d82a6bc', 'id': '0KKkJNfGyhkQ5aFogxQAPU'}, {'album': 'Californication (Deluxe Edition)', 'artist': 'Red Hot Chili Peppers', 'cover_image_url': 'https://i.scdn.co/image/ab67616d0000b27394d08ab63e57b0cae74e8595', 'genre': 'funk', 'name': 'Otherside', 'preview_url': 'https://p.scdn.co/mp3-preview/90076510970ced8308b85cd65776f75b99d97e7f?cid=11419dac9f88424c93dd910d7d82a6bc', 'id': '3kXoKlD84c6OmIcOLfrfEs'}, {'album': 'La Diabla', 'artist': 'Xavi', 'cover_image_url': 'https://i.scdn.co/image/ab67616d0000b2731501c770de50a22b25d67611', 'genre': 'sad', 'name': 'La Diabla', 'preview_url': 'https://p.scdn.co/mp3-preview/f3eeae4ae180d55cd3c83c4e4c1d657b46aa107e?cid=11419dac9f88424c93dd910d7d82a6bc', 'id': '7BqHUALzNBTanL6OvsqmC1'}, {'album': 'Hyperion', 'artist': 'Gesaffelstein', 'cover_image_url': 'https://i.scdn.co/image/ab67616d0000b2737842fd51802451ff61483dcf', 'genre': 'club', 'name': 'Lost in the Fire (feat. The Weeknd)', 'preview_url': 'https://p.scdn.co/mp3-preview/bb6be3c611177685ba91254a63aae326c6143739?cid=11419dac9f88424c93dd910d7d82a6bc', 'id': '1SjsVdSXpwm1kTdYEHoPIT'}, {'album': 'Look At Me!', 'artist': 'XXXTENTACION', 'cover_image_url': 'https://i.scdn.co/image/ab67616d0000b27371af28545729f60b3eca66f7', 'genre': 'emo', 'name': 'Look At Me!', 'preview_url': 'https://p.scdn.co/mp3-preview/7add0b609734fafbb2a8284bd5821203d41b46c2?cid=11419dac9f88424c93dd910d7d82a6bc', 'id': '3xby7fOyqmeON8jsnom0AT'}, {'album': 'a new star (1 9 9 3)', 'artist': 'Rels B', 'cover_image_url': 'https://i.scdn.co/image/ab67616d0000b2736a78a042e38096089d60841a', 'genre': 'spanish', 'name': 'Un Desperdicio', 'preview_url': 'https://p.scdn.co/mp3-preview/f8db7d054b3baf7184be3ca0d49607d62f457277?cid=11419dac9f88424c93dd910d7d82a6bc', 'id': '6NjWCIYu1W8xa3HIvcIhd4'}, {'album': 'Uptown Special', 'artist': 'Mark Ronson', 'cover_image_url': 'https://i.scdn.co/image/ab67616d0000b273e419ccba0baa8bd3f3d7abf2', 'genre': 'soul', 'name': 'Uptown Funk (feat. Bruno Mars)', 'preview_url': 'https://p.scdn.co/mp3-preview/3074e956e6794c0eadea660b9cef671db6b27234?cid=11419dac9f88424c93dd910d7d82a6bc', 'id': '0AjmK0Eai4zGrLaJwPvrDp'}, {'album': \"This One's for You Too (Deluxe Edition)\", 'artist': 'Luke Combs', 'cover_image_url': 'https://i.scdn.co/image/ab67616d0000b273ccba76fad1c624c09e72bc78', 'genre': 'country', 'name': 'She Got the Best of Me', 'preview_url': 'https://p.scdn.co/mp3-preview/62987b51b76bd417ac56812161cf825d4c22f549?cid=11419dac9f88424c93dd910d7d82a6bc', 'id': '09CnYHiZ5jGT1wr1TXJ9Zt'}, {'album': 'FACE', 'artist': 'Jimin', 'cover_image_url': 'https://i.scdn.co/image/ab67616d0000b2732b46078245d0120690eb560d', 'genre': 'k-pop', 'name': 'Like Crazy', 'preview_url': 'https://p.scdn.co/mp3-preview/2db5f36096963d97afc870c50990d62d27858a43?cid=11419dac9f88424c93dd910d7d82a6bc', 'id': '3hxIUxnT27p5WcmjGUXNwx'}, {'album': 'An Innocent Man', 'artist': 'Billy Joel', 'cover_image_url': 'https://i.scdn.co/image/ab67616d0000b273814cbc4746358a25c84c62e7', 'genre': 'piano', 'name': 'Uptown Girl', 'preview_url': 'https://p.scdn.co/mp3-preview/62bccc2f61bb990df31d1a247a3bf69efd32da18?cid=11419dac9f88424c93dd910d7d82a6bc', 'id': '3qhlB30KknSejmIvZZLjOD'}, {'album': 'GIRLS', 'artist': 'The Kid LAROI', 'cover_image_url': 'https://i.scdn.co/image/ab67616d0000b273c8af7237bb25ad59488944c1', 'genre': 'hip-hop', 'name': 'GIRLS', 'preview_url': 'https://p.scdn.co/mp3-preview/befb7e95d881cfc53af67648ce47cba85e9cfd10?cid=11419dac9f88424c93dd910d7d82a6bc', 'id': '3vkCueOmm7xQDoJ17W1Pm3'}, {'album': 'you look like you love me (feat. Riley Green)', 'artist': 'Ella Langley', 'cover_image_url': 'https://i.scdn.co/image/ab67616d0000b27398ec50a022a61a0286f0be1c', 'genre': 'country', 'name': 'you look like you love me (feat. Riley Green)', 'preview_url': 'https://p.scdn.co/mp3-preview/23747e3344e13a359439fb5d2167a79fb5761696?cid=11419dac9f88424c93dd910d7d82a6bc', 'id': '6GG4yyk3UATdBfTHVgI8PB'}, {'album': 'Just As I Am', 'artist': 'Bill Withers', 'cover_image_url': 'https://i.scdn.co/image/ab67616d0000b273e1e350d06ffebd2e19e047ce', 'genre': 'funk', 'name': \"Ain't No Sunshine\", 'preview_url': 'https://p.scdn.co/mp3-preview/4894057a7cdc4be59cd335cfc369ba2d3a3b2ad8?cid=11419dac9f88424c93dd910d7d82a6bc', 'id': '3IznIgmXtrUaoPWpQTy5jB'}, {'album': 'Si No Quieres No', 'artist': 'Luis R Conriquez', 'cover_image_url': 'https://i.scdn.co/image/ab67616d0000b2735c7365ca8cfaf7d80136c656', 'genre': 'sad', 'name': 'Si No Quieres No', 'preview_url': 'https://p.scdn.co/mp3-preview/d7d61eec7c0ac31c5019a40c1e6169f2c0776386?cid=11419dac9f88424c93dd910d7d82a6bc', 'id': '1aXV8GrmQLvgoFtBPERP7E'}, {'album': 'Don Juan', 'artist': 'Maluma', 'cover_image_url': 'https://i.scdn.co/image/ab67616d0000b273d688b951a19f48941682e026', 'genre': 'latino', 'name': 'Según Quién', 'preview_url': 'https://p.scdn.co/mp3-preview/b726d4008d57b82d7c72b2585c89677405d0819a?cid=11419dac9f88424c93dd910d7d82a6bc', 'id': '1CS7Sd1u5tWkstBhpssyjP'}, {'album': 'Drops Of Jupiter', 'artist': 'Train', 'cover_image_url': 'https://i.scdn.co/image/ab67616d0000b273a65df73c4011b6a9357c89f0', 'genre': 'dance', 'name': 'Drops of Jupiter (Tell Me)', 'preview_url': 'https://p.scdn.co/mp3-preview/77dba6a6b863572958909814c9fee6d29f310a45?cid=11419dac9f88424c93dd910d7d82a6bc', 'id': '1mMLMZYXkMueg65jRRWG1l'}, {'album': 'Meteora', 'artist': 'Linkin Park', 'cover_image_url': 'https://i.scdn.co/image/ab67616d0000b2735f1f51d14e8bea89484ecd1b', 'genre': 'alt-rock', 'name': 'Numb', 'preview_url': 'https://p.scdn.co/mp3-preview/d6d67b4f23b4865e07821f78c45a98035da95d61?cid=11419dac9f88424c93dd910d7d82a6bc', 'id': '4SqWKzw0CbA05TGszDgMlc'}, {'album': 'Dream Your Life Away (Special Edition)', 'artist': 'Vance Joy', 'cover_image_url': 'https://i.scdn.co/image/ab67616d0000b273a9929deb093a6617d2493b03', 'genre': 'folk', 'name': 'Riptide', 'preview_url': 'https://p.scdn.co/mp3-preview/74698d907d114f4ba0b2c129bbf260724be80b64?cid=11419dac9f88424c93dd910d7d82a6bc', 'id': '4sNG6zQBmtq7M8aeeKJRMQ'}, {'album': 'VICE VERSA', 'artist': 'Rauw Alejandro', 'cover_image_url': 'https://i.scdn.co/image/ab67616d0000b273d9525f27b0a9e25b1fa21230', 'genre': 'latin', 'name': 'Desesperados', 'preview_url': 'https://p.scdn.co/mp3-preview/e1c345a2f168b926696f449a7ca7c9e274c65721?cid=11419dac9f88424c93dd910d7d82a6bc', 'id': '39sDitIeCMrVX2QyXHY46t'}, {'album': \"Ain't No Love In Oklahoma (From Twisters: The Album)\", 'artist': 'Luke Combs', 'cover_image_url': 'https://i.scdn.co/image/ab67616d0000b27339808230102049beb62fdd7b', 'genre': 'country', 'name': \"Ain't No Love In Oklahoma (From Twisters: The Album)\", 'preview_url': 'https://p.scdn.co/mp3-preview/7b74f19b964aef85615e635192d4fcd9fbf297d3?cid=11419dac9f88424c93dd910d7d82a6bc', 'id': '2dono2Koz7DEvGwxUsmMLq'}, {'album': 'AM', 'artist': 'Arctic Monkeys', 'cover_image_url': 'https://i.scdn.co/image/ab67616d0000b2734ae1c4c5c45aabe565499163', 'genre': 'garage', 'name': 'I Wanna Be Yours', 'preview_url': 'https://p.scdn.co/mp3-preview/07de30bde8363d9ff78b72339245c151f67af451?cid=11419dac9f88424c93dd910d7d82a6bc', 'id': '0LMwmV37RCmBO2so0szAFs'}, {'album': 'Linger / Heading For The Door (Sirius XM Session)', 'artist': 'Royel Otis', 'cover_image_url': 'https://i.scdn.co/image/ab67616d0000b273ccaa2ab01efad107f3952454', 'genre': 'indie', 'name': 'Linger - SiriusXM Session', 'preview_url': 'https://p.scdn.co/mp3-preview/7503ab938edb2c4db70b341e073c81e1fae952fb?cid=11419dac9f88424c93dd910d7d82a6bc', 'id': '0j3mqDTK4Z6lvrLzFCUUz6'}, {'album': 'Alibi (with Pabllo Vittar & Yseult)', 'artist': 'Sevdaliza', 'cover_image_url': 'https://i.scdn.co/image/ab67616d0000b2734ee35e37bc21fe929a4d3605', 'genre': 'alternative', 'name': 'Alibi (with Pabllo Vittar & Yseult)', 'preview_url': 'https://p.scdn.co/mp3-preview/34bb0d7c097327243188a812827db8ee336ac10a?cid=11419dac9f88424c93dd910d7d82a6bc', 'id': '1Lo0QY9cvc8sUB2vnIOxDT'}, {'album': 'I Love You So', 'artist': 'The Walters', 'cover_image_url': 'https://i.scdn.co/image/ab67616d0000b2739214ff0109a0e062f8a6cf0f', 'genre': 'indie', 'name': 'I Love You So', 'preview_url': 'https://p.scdn.co/mp3-preview/83919b3d62a4ae352229c0a779e8aa0c1b2f4f40?cid=11419dac9f88424c93dd910d7d82a6bc', 'id': '75IQVo8hqI1iwVZyvkN2VT'}, {'album': 'Ride It', 'artist': 'Regard', 'cover_image_url': 'https://i.scdn.co/image/ab67616d0000b2735c27813ae019011fcb370c78', 'genre': 'edm', 'name': 'Ride It', 'preview_url': 'https://p.scdn.co/mp3-preview/ce29bb243cf40118b87070b00a49822e09a317b1?cid=11419dac9f88424c93dd910d7d82a6bc', 'id': '7s5VQqrjBtrBgZL4pEa46S'}, {'album': 'The Best of Sade', 'artist': 'Sade', 'cover_image_url': 'https://i.scdn.co/image/ab67616d0000b2735e25e034e25258b356774c79', 'genre': 'british', 'name': 'Smooth Operator - Single Version', 'preview_url': 'https://p.scdn.co/mp3-preview/43f389ca63d0814eb6e316b42f13011d802373ff?cid=11419dac9f88424c93dd910d7d82a6bc', 'id': '0OWhKvvsHptt6vnnNUSM9a'}, {'album': 'Summertime Blues', 'artist': 'Zach Bryan', 'cover_image_url': 'https://i.scdn.co/image/ab67616d0000b27313c532890739d705e5a55af6', 'genre': 'country', 'name': 'Oklahoma Smokeshow', 'preview_url': 'https://p.scdn.co/mp3-preview/6a250eb4c50841e7b0c6be61cc0eec5a3586f8a9?cid=11419dac9f88424c93dd910d7d82a6bc', 'id': '6IPwKM3fUUzlElbvKw2sKl'}, {'album': 'melanchole', 'artist': 'salvia palth', 'cover_image_url': 'https://i.scdn.co/image/ab67616d0000b2734a82bda3507d50ac3e039bb0', 'genre': 'emo', 'name': 'i was all over her', 'preview_url': 'https://p.scdn.co/mp3-preview/c93b9442b4672b7384b08802f2e43f914274f49c?cid=11419dac9f88424c93dd910d7d82a6bc', 'id': '0yc6Gst2xkRu0eMLeRMGCX'}, {'album': 'Cigarettes After Sex', 'artist': 'Cigarettes After Sex', 'cover_image_url': 'https://i.scdn.co/image/ab67616d0000b27312b69bf576f5e80291f75161', 'genre': 'ambient', 'name': 'Apocalypse', 'preview_url': 'https://p.scdn.co/mp3-preview/1f89f0156113dfb87572382b531459bb8cb711a1?cid=11419dac9f88424c93dd910d7d82a6bc', 'id': '3CRDbSIZ4r5MsZ0YwxuEkn'}, {'album': 'Rage Against The Machine - XX (20th Anniversary Special Edition)', 'artist': 'Rage Against The Machine', 'cover_image_url': 'https://i.scdn.co/image/ab67616d0000b27354ab617bc2d4974ab6ffbece', 'genre': 'funk', 'name': 'Killing In The Name', 'preview_url': 'https://p.scdn.co/mp3-preview/998d3604b68754c11bc0a9af64291ac1f91fb0d8?cid=11419dac9f88424c93dd910d7d82a6bc', 'id': '0y5Ex8oQ8zCH5TQxHUy1Eo'}, {'album': 'Saturn', 'artist': 'SZA', 'cover_image_url': 'https://i.scdn.co/image/ab67616d0000b273d70916ee9e40c90380ba5f07', 'genre': 'pop', 'name': 'Saturn', 'preview_url': 'https://p.scdn.co/mp3-preview/74f603e906ab7a5409cf2edc6dda326ebe7c1d49?cid=11419dac9f88424c93dd910d7d82a6bc', 'id': '5oYVxFt2k4SkVp6wzVsFWN'}, {'album': \"I Love Rock 'N' Roll (Expanded Edition)\", 'artist': 'Joan Jett & the Blackhearts', 'cover_image_url': 'https://i.scdn.co/image/ab67616d0000b2733c73b2e0a6aa490736f19751', 'genre': 'punk', 'name': \"I Love Rock 'N Roll\", 'preview_url': 'https://p.scdn.co/mp3-preview/931dee7b6bcc7c60edc631ff1892e363a47fe222?cid=11419dac9f88424c93dd910d7d82a6bc', 'id': '2tnVG71enUj33Ic2nFN6kZ'}, {'album': 'VICE VERSA', 'artist': 'Rauw Alejandro', 'cover_image_url': 'https://i.scdn.co/image/ab67616d0000b273d9525f27b0a9e25b1fa21230', 'genre': 'latin', 'name': 'Cúrame', 'preview_url': 'https://p.scdn.co/mp3-preview/3649d51fb25b7e18974e53a00cfa498622daed01?cid=11419dac9f88424c93dd910d7d82a6bc', 'id': '1aKvZDoLGkNMxoRYgkckZG'}, {'album': 'ÉXODO', 'artist': 'Peso Pluma', 'cover_image_url': 'https://i.scdn.co/image/ab67616d0000b2732690127e1d6cd0aa35cc353b', 'genre': 'sad', 'name': 'LA PATRULLA', 'preview_url': 'https://p.scdn.co/mp3-preview/3a490b1336290577f0bf5a3b5a68f73e70b17e68?cid=11419dac9f88424c93dd910d7d82a6bc', 'id': '1FWsomP9StpCcXNWmJk8Cl'}, {'album': 'Poets & Old Souls', 'artist': 'Bryan Martin', 'cover_image_url': 'https://i.scdn.co/image/ab67616d0000b273eda625668a424f4ee44e7998', 'genre': 'country', 'name': 'We Ride', 'preview_url': 'https://p.scdn.co/mp3-preview/664dcba826ddb893f237bb7fd780fb756ce7a6bd?cid=11419dac9f88424c93dd910d7d82a6bc', 'id': '5E30LdtzQTGqRvNd7l6kG5'}, {'album': '$AD BOYZ 4 LIFE II', 'artist': 'Junior H', 'cover_image_url': 'https://i.scdn.co/image/ab67616d0000b273f3ba6742a35f111aaea1ca2f', 'genre': 'sad', 'name': 'Y LLORO', 'preview_url': 'https://p.scdn.co/mp3-preview/f82787d084854523e602d1239f44f04ced392dc5?cid=11419dac9f88424c93dd910d7d82a6bc', 'id': '6mSnSuOhgHHohqeBw76jRV'}, {'album': 'att.', 'artist': 'Young Miko', 'cover_image_url': 'https://i.scdn.co/image/ab67616d0000b27310dfb6ef442ace580aa5a2bf', 'genre': 'latin', 'name': 'offline', 'preview_url': 'https://p.scdn.co/mp3-preview/b9510ef049d747d0789694f43970e171c16ad260?cid=11419dac9f88424c93dd910d7d82a6bc', 'id': '1rIKgCH4H52lrvDcz50hS8'}, {'album': 'Boys Of Faith', 'artist': 'Zach Bryan', 'cover_image_url': 'https://i.scdn.co/image/ab67616d0000b2732ebcfb3e92f937a1a4cc16f0', 'genre': 'country', 'name': 'Nine Ball', 'preview_url': 'https://p.scdn.co/mp3-preview/cbc1f7c755dba83d18e273c943fd6b3b7df45455?cid=11419dac9f88424c93dd910d7d82a6bc', 'id': '4pCbJC43j3gSqG6Fen6upD'}, {'album': 'Pat Garrett & Billy The Kid (Soundtrack From The Motion Picture)', 'artist': 'Bob Dylan', 'cover_image_url': 'https://i.scdn.co/image/ab67616d0000b2736c86683d20c72e3874c11c6d', 'genre': 'folk', 'name': \"Knockin' On Heaven's Door\", 'preview_url': 'https://p.scdn.co/mp3-preview/b1fb2e0d90764724242501e5a0c3c2393698d499?cid=11419dac9f88424c93dd910d7d82a6bc', 'id': '5KbBVSj6AJZ5662fO8EYFh'}, {'album': \"Tell Me It's Real (Expanded Edition)\", 'artist': 'Seafret', 'cover_image_url': 'https://i.scdn.co/image/ab67616d0000b2738c33272a7c77042f5eb39d75', 'genre': 'folk', 'name': 'Atlantis', 'preview_url': 'https://p.scdn.co/mp3-preview/2097364ff6c9f41d658ea1b00a5e2153dc61144b?cid=11419dac9f88424c93dd910d7d82a6bc', 'id': '7aEtlGHoiPAfRB084NiDmx'}, {'album': 'NA', 'artist': 'NAYEON', 'cover_image_url': 'https://i.scdn.co/image/ab67616d0000b27373f05e5c2f5ec5cd07c6b6d9', 'genre': 'k-pop', 'name': 'ABCD', 'preview_url': 'https://p.scdn.co/mp3-preview/685d9ad0377867e5c2417b54f961121e565c67a0?cid=11419dac9f88424c93dd910d7d82a6bc', 'id': '0V2passWyAXnON67kfAj7y'}, {'album': 'MUSE', 'artist': 'Jimin', 'cover_image_url': 'https://i.scdn.co/image/ab67616d0000b273f02c451189a709b9a952aaec', 'genre': 'k-pop', 'name': 'Be Mine', 'preview_url': 'https://p.scdn.co/mp3-preview/78ab86d01bf68d4f86921f1d3e3cb0ed4cf04e50?cid=11419dac9f88424c93dd910d7d82a6bc', 'id': '0fCwTrRNfoNk962ati8n2K'}, {'album': 'Toulouse Street', 'artist': 'The Doobie Brothers', 'cover_image_url': 'https://i.scdn.co/image/ab67616d0000b27391b51fa9b5967fb34c044498', 'genre': 'folk', 'name': 'Listen to the Music', 'preview_url': 'https://p.scdn.co/mp3-preview/8c0f0e1fcc1d1e6cb3baa54024b9181eff5ecf59?cid=11419dac9f88424c93dd910d7d82a6bc', 'id': '7MIhUdNJtaOnDmC5nBC1fb'}, {'album': 'Deep Down (feat. Never Dull)', 'artist': 'Alok', 'cover_image_url': 'https://i.scdn.co/image/ab67616d0000b273ed443f0fff29eee63c9ede20', 'genre': 'electro', 'name': 'Deep Down (feat. Never Dull)', 'preview_url': 'https://p.scdn.co/mp3-preview/86c654c4b63f69463fb961bad9b9dcd59da63091?cid=11419dac9f88424c93dd910d7d82a6bc', 'id': '5496lks6V3fh1mZAB6IAap'}, {'album': 'High Road (feat. Jessie Murph)', 'artist': 'Koe Wetzel', 'cover_image_url': 'https://i.scdn.co/image/ab67616d0000b2732c44d76ea64d1b5876b44eb3', 'genre': 'country', 'name': 'High Road (feat. Jessie Murph)', 'preview_url': 'https://p.scdn.co/mp3-preview/8c12da4e3c1e2a2aae8d148d4d2117363b2eeb0a?cid=11419dac9f88424c93dd910d7d82a6bc', 'id': '74X2u8JMVooG2QbjRxXwR8'}, {'album': 'SATURNO', 'artist': 'Rauw Alejandro', 'cover_image_url': 'https://i.scdn.co/image/ab67616d0000b27377ca8a929a08890cb6c8691c', 'genre': 'latin', 'name': 'LOKERA', 'preview_url': 'https://p.scdn.co/mp3-preview/813097c99aaf4f5dc8a62011118dc42e5423a9fd?cid=11419dac9f88424c93dd910d7d82a6bc', 'id': '2rxQMGVafnNaRaXlRMWPde'}, {'album': 'Ride Or Die, Pt. 2', 'artist': 'Sevdaliza', 'cover_image_url': 'https://i.scdn.co/image/ab67616d0000b27314c2bc6e79b87f232c38b547', 'genre': 'electro', 'name': 'Ride Or Die, Pt. 2 (with Villano Antillano & Tokischa)', 'preview_url': 'https://p.scdn.co/mp3-preview/891b40d5ab7920c12641b865edd4aa796928feaa?cid=11419dac9f88424c93dd910d7d82a6bc', 'id': '3LWVXp636uLT356Rj08Jaz'}, {'album': 'we fell in love in october / October Passed Me By', 'artist': 'girl in red', 'cover_image_url': 'https://i.scdn.co/image/ab67616d0000b273d6839051c4760457e1a60b2a', 'genre': 'indie-pop', 'name': 'we fell in love in october', 'preview_url': 'https://p.scdn.co/mp3-preview/0415195377d9574c4f552372019421311a34ce55?cid=11419dac9f88424c93dd910d7d82a6bc', 'id': '4jvjzW7Hm0yK4LvvE0Paz9'}, {'album': 'The Queen Is Dead', 'artist': 'The Smiths', 'cover_image_url': 'https://i.scdn.co/image/ab67616d0000b273ada101c2e9e97feb8fae37a9', 'genre': 'punk', 'name': 'There Is a Light That Never Goes Out - 2011 Remaster', 'preview_url': 'https://p.scdn.co/mp3-preview/23f6c629d7072e1adbe90b0a155b1110b2f94714?cid=11419dac9f88424c93dd910d7d82a6bc', 'id': '3aAnwyBJY9OLNLqSgd4fZU'}, {'album': 'Hounds Of Love', 'artist': 'Kate Bush', 'cover_image_url': 'https://i.scdn.co/image/ab67616d0000b273ad08f4b38efbff0c0da0f252', 'genre': 'piano', 'name': 'Running Up That Hill (A Deal With God)', 'preview_url': 'https://p.scdn.co/mp3-preview/861d26b52ece3e3ad72a7dc3463daece3478801a?cid=11419dac9f88424c93dd910d7d82a6bc', 'id': '3p4hRhMcb6ch8OLtATMaLw'}, {'album': 'SUPER REAL ME', 'artist': 'ILLIT', 'cover_image_url': 'https://i.scdn.co/image/ab67616d0000b273f037c5fb9de6c78726cb8e2c', 'genre': 'k-pop', 'name': 'Magnetic', 'preview_url': 'https://p.scdn.co/mp3-preview/b3e85d7434b5fb072c7110197b3b896d04aa90e7?cid=11419dac9f88424c93dd910d7d82a6bc', 'id': '3GVkPk8mqxz0itaAriG1L7'}, {'album': 'What Do You Think About the Car?', 'artist': 'Declan McKenna', 'cover_image_url': 'https://i.scdn.co/image/ab67616d0000b273ec8be21d32e663885fbb244e', 'genre': 'indie', 'name': 'Brazil', 'preview_url': 'https://p.scdn.co/mp3-preview/d92887b6feaaa7e91021f4512f581181d2480dc4?cid=11419dac9f88424c93dd910d7d82a6bc', 'id': '2tznHmp70DxMyr2XhWLOW0'}, {'album': 'Bigger Than Both Of Us', 'artist': 'Daryl Hall & John Oates', 'cover_image_url': 'https://i.scdn.co/image/ab67616d0000b2733ebc5b9d8942069d3b920550', 'genre': 'rock', 'name': 'Rich Girl', 'preview_url': 'https://p.scdn.co/mp3-preview/246e1cdfbc760791fa34b2ac697259b6c3598009?cid=11419dac9f88424c93dd910d7d82a6bc', 'id': '2btNsI4OvcVl7SAHQQDHFB'}, {'album': 'Unorthodox Jukebox', 'artist': 'Bruno Mars', 'cover_image_url': 'https://i.scdn.co/image/ab67616d0000b273926f43e7cce571e62720fd46', 'genre': 'dance', 'name': 'Locked out of Heaven', 'preview_url': 'https://p.scdn.co/mp3-preview/5a0318e6c43964786d22b9431af35490e96cff3d?cid=11419dac9f88424c93dd910d7d82a6bc', 'id': '3xOi0YhDREKRURFHoNaAOQ'}, {'album': 'five seconds flat', 'artist': 'Lizzy McAlpine', 'cover_image_url': 'https://i.scdn.co/image/ab67616d0000b273d370fdc4dbc47778b9b667c3', 'genre': 'folk', 'name': 'ceilings', 'preview_url': 'https://p.scdn.co/mp3-preview/580782ffb17d468fe5d000bdf86cc07926ff9a5a?cid=11419dac9f88424c93dd910d7d82a6bc', 'id': '3tt9i3Hhzq84dPS8H7iSiJ'}, {'album': 'Dolido Pero No Arrepentido', 'artist': 'Fuerza Regida', 'cover_image_url': 'https://i.scdn.co/image/ab67616d0000b273abc2d11a541fa61795691697', 'genre': 'sad', 'name': 'TÚ NAME', 'preview_url': 'https://p.scdn.co/mp3-preview/f90fcef8fe627f6c5c335fa4b246d3e62b98a158?cid=11419dac9f88424c93dd910d7d82a6bc', 'id': '6me7F0aaZjwDo6RJ5MrfBD'}, {'album': 'Jealous', 'artist': 'Eyedress', 'cover_image_url': 'https://i.scdn.co/image/ab67616d0000b2734de4da55422167fcc47fba65', 'genre': 'indie', 'name': 'Jealous', 'preview_url': 'https://p.scdn.co/mp3-preview/2a35e333aacb791d90db203c779d1e472c70c45c?cid=11419dac9f88424c93dd910d7d82a6bc', 'id': '6mmPpaltUZK7xjNlBPQQ0p'}, {'album': \"Gettin' Old\", 'artist': 'Luke Combs', 'cover_image_url': 'https://i.scdn.co/image/ab67616d0000b273ca650d3a95022e0490434ba1', 'genre': 'country', 'name': 'Fast Car', 'preview_url': 'https://p.scdn.co/mp3-preview/1dc0426c95058783e0fe1d70c41583ca98317108?cid=11419dac9f88424c93dd910d7d82a6bc', 'id': '6ilc4vQcwMPlvAHFfsTGng'}, {'album': 'Who Really Cares', 'artist': 'TV Girl', 'cover_image_url': 'https://i.scdn.co/image/ab67616d0000b27332f5fec7a879ed6ef28f0dfd', 'genre': 'indie', 'name': 'Not Allowed', 'preview_url': 'https://p.scdn.co/mp3-preview/b1f61776e5425927fac6f4e79733d9fb8baf20dc?cid=11419dac9f88424c93dd910d7d82a6bc', 'id': '3yrSvpt2l1xhsV9Em88Pul'}, {'album': 'Whatever', 'artist': 'Kygo', 'cover_image_url': 'https://i.scdn.co/image/ab67616d0000b2734d914470ab899815f103f5cc', 'genre': 'edm', 'name': 'Whatever', 'preview_url': 'https://p.scdn.co/mp3-preview/03bbf447d8f0101cff90c78b3ab0c4757c3bf27b?cid=11419dac9f88424c93dd910d7d82a6bc', 'id': '73KAidtqbDftZjy8AD0H04'}, {'album': 'What You See Is What You Get', 'artist': 'Luke Combs', 'cover_image_url': 'https://i.scdn.co/image/ab67616d0000b273429d8ec28f865acf2a927c2d', 'genre': 'country', 'name': 'Beer Never Broke My Heart', 'preview_url': 'https://p.scdn.co/mp3-preview/545db391946df7d9cd3a7ac7fbc79b128e4b2ee5?cid=11419dac9f88424c93dd910d7d82a6bc', 'id': '7s4emXHJwAuo5VvGBXmnBL'}, {'album': 'RMCM', 'artist': 'Richy Mitch & The Coal Miners', 'cover_image_url': 'https://i.scdn.co/image/ab67616d0000b2731cc17bae5ee17cce117e198a', 'genre': 'folk', 'name': 'Evergreen', 'preview_url': 'https://p.scdn.co/mp3-preview/fca7555fba8261b7ccc0aac1854a86033a12823b?cid=11419dac9f88424c93dd910d7d82a6bc', 'id': '3c9EsIo34kil8Oj1reaozB'}, {'album': 'Hozier (Expanded Edition)', 'artist': 'Hozier', 'cover_image_url': 'https://i.scdn.co/image/ab67616d0000b2734ca68d59a4a29c856a4a39c2', 'genre': 'indie', 'name': 'Take Me to Church', 'preview_url': 'https://p.scdn.co/mp3-preview/d6170162e349338277c97d2fab42c386701a4089?cid=11419dac9f88424c93dd910d7d82a6bc', 'id': '1aUq8rjW1EwkAkMri4VfJy'}, {'album': 'Toxicity', 'artist': 'System Of A Down', 'cover_image_url': 'https://i.scdn.co/image/ab67616d0000b27330d45198d0c9e8841f9a9578', 'genre': 'metal', 'name': 'Aerials', 'preview_url': 'https://p.scdn.co/mp3-preview/62519a7fdafa1797793f010d53efbfee3e9a86ad?cid=11419dac9f88424c93dd910d7d82a6bc', 'id': '3JvrhDOgAt6p7K8mDyZwRd'}, {'album': 'Cigarettes After Sex', 'artist': 'Cigarettes After Sex', 'cover_image_url': 'https://i.scdn.co/image/ab67616d0000b27312b69bf576f5e80291f75161', 'genre': 'ambient', 'name': 'Sunsetz', 'preview_url': 'https://p.scdn.co/mp3-preview/d345fd603b2b273feb377601de9a654c675bd147?cid=11419dac9f88424c93dd910d7d82a6bc', 'id': '1FlL8ycld6uVDDyhV7P5FA'}, {'album': 'Show Me How', 'artist': 'Men I Trust', 'cover_image_url': 'https://i.scdn.co/image/ab67616d0000b273f8f2bc4006346cb97bb8b74f', 'genre': 'indie-pop', 'name': 'Show Me How', 'preview_url': 'https://p.scdn.co/mp3-preview/8d727eaa09c35915b6b3c5a990bdce5cd14f5efc?cid=11419dac9f88424c93dd910d7d82a6bc', 'id': '3zBhihYUHBmGd2bcQIobrF'}, {'album': 'Rumours (Super Deluxe)', 'artist': 'Fleetwood Mac', 'cover_image_url': 'https://i.scdn.co/image/ab67616d0000b273e52a59a28efa4773dd2bfe1b', 'genre': 'rock', 'name': 'Dreams - 2004 Remaster', 'preview_url': 'https://p.scdn.co/mp3-preview/30d63954de3ee9c0bc3600a4560260cb252d4fbd?cid=11419dac9f88424c93dd910d7d82a6bc', 'id': '72kGuWpRiuA149Bn5lDkIO'}, {'album': 'Play Deep', 'artist': 'The Outfield', 'cover_image_url': 'https://i.scdn.co/image/ab67616d0000b273cd7e670a91d0263d2ee1d8a7', 'genre': 'power-pop', 'name': 'Your Love', 'preview_url': 'https://p.scdn.co/mp3-preview/bff1bf9d33dfeec5c01501b023a6c59a44af2be4?cid=11419dac9f88424c93dd910d7d82a6bc', 'id': '7Ar4G7Ci11gpt6sfH9Cgz5'}, {'album': 'Je te laisserai des mots', 'artist': 'Patrick Watson', 'cover_image_url': 'https://i.scdn.co/image/ab67616d0000b2738ea92a85c492af8a38750549', 'genre': 'folk', 'name': 'Je te laisserai des mots', 'preview_url': 'https://p.scdn.co/mp3-preview/3c814ba891e1199c9602adab8bdefaf9116a1bd7?cid=11419dac9f88424c93dd910d7d82a6bc', 'id': '46YjJXVXWHlQ21odKktg5e'}, {'album': 'Vol. 3: The Subliminal Verses', 'artist': 'Slipknot', 'cover_image_url': 'https://i.scdn.co/image/ab67616d0000b2736b3463e7160d333ada4b175a', 'genre': 'metal', 'name': 'Duality', 'preview_url': 'https://p.scdn.co/mp3-preview/c46be58f34877ead8678a37da8f19f2b838b0409?cid=11419dac9f88424c93dd910d7d82a6bc', 'id': '5jfhLCSIFUO4ndzNRh4w4G'}, {'album': 'Zach Bryan', 'artist': 'Zach Bryan', 'cover_image_url': 'https://i.scdn.co/image/ab67616d0000b273e5a25ed08d1e7e0fbb440cef', 'genre': 'country', 'name': 'Hey Driver (feat. The War and Treaty)', 'preview_url': 'https://p.scdn.co/mp3-preview/93f347ada38bf3f3447622b920300a53005fb1e7?cid=11419dac9f88424c93dd910d7d82a6bc', 'id': '6VsqdsaY4oV06NODea0L0J'}, {'album': \"Harry's House\", 'artist': 'Harry Styles', 'cover_image_url': 'https://i.scdn.co/image/ab67616d0000b2732e8ed79e177ff6011076f5f0', 'genre': 'pop', 'name': 'As It Was', 'preview_url': 'https://p.scdn.co/mp3-preview/c43dd07043b29e800c1a65b3a0102861fa3cf418?cid=11419dac9f88424c93dd910d7d82a6bc', 'id': '44A0o4jA8F2ZF03Zacwlwx'}, {'album': 'The Dock of the Bay (Mono)', 'artist': 'Otis Redding', 'cover_image_url': 'https://i.scdn.co/image/ab67616d0000b2730acddc8ccf8d14858fbeddf5', 'genre': 'blues', 'name': \"(Sittin' On) the Dock of the Bay\", 'preview_url': 'https://p.scdn.co/mp3-preview/6b33eae61b9232d7c5d0c1917befb306d2bf3a7c?cid=11419dac9f88424c93dd910d7d82a6bc', 'id': '4bw8mcDUSRWfQo63ZTYRnU'}, {'album': 'The Diary Of Alicia Keys', 'artist': 'Alicia Keys', 'cover_image_url': 'https://i.scdn.co/image/ab67616d0000b27356ff19308ebeb48e2ba6094b', 'genre': 'r-n-b', 'name': \"If I Ain't Got You\", 'preview_url': 'https://p.scdn.co/mp3-preview/2d1fd54c4a4147b43e1eb79c00380e36818a2546?cid=11419dac9f88424c93dd910d7d82a6bc', 'id': '2L9N0zZnd37dwF0clgxMGI'}, {'album': 'Cigarettes After Sex', 'artist': 'Cigarettes After Sex', 'cover_image_url': 'https://i.scdn.co/image/ab67616d0000b27312b69bf576f5e80291f75161', 'genre': 'ambient', 'name': 'K.', 'preview_url': 'https://p.scdn.co/mp3-preview/7d324f82bab99a67b40bac2b9c579b5c338e37dc?cid=11419dac9f88424c93dd910d7d82a6bc', 'id': '4e9eGQYsOiBcftrWXwsVco'}, {'album': 'Mirame', 'artist': 'Blessd', 'cover_image_url': 'https://i.scdn.co/image/ab67616d0000b273b62a2ec2d61d48f34a368144', 'genre': 'latin', 'name': 'Mirame', 'preview_url': 'https://p.scdn.co/mp3-preview/cf9cff03daa5212aa20048d2436e4341e14e1a1a?cid=11419dac9f88424c93dd910d7d82a6bc', 'id': '2nLtzopw4rPReszdYBJU6h'}, {'album': \"Come Over When You're Sober, Pt. 2\", 'artist': 'Lil Peep', 'cover_image_url': 'https://i.scdn.co/image/ab67616d0000b27355e36b0dc5b0ef008fc85319', 'genre': 'emo', 'name': 'Falling Down - Bonus Track', 'preview_url': 'https://p.scdn.co/mp3-preview/9404f45725ef5d46e29a539c7da1fc4315cf5a69?cid=11419dac9f88424c93dd910d7d82a6bc', 'id': '61mWefnWQOLf90gepjOCb3'}, {'album': 'AM', 'artist': 'Arctic Monkeys', 'cover_image_url': 'https://i.scdn.co/image/ab67616d0000b2734ae1c4c5c45aabe565499163', 'genre': 'garage', 'name': 'R U Mine?', 'preview_url': 'https://p.scdn.co/mp3-preview/d41c9b18f0787cc9b2ccea10740d92dd7e7f639a?cid=11419dac9f88424c93dd910d7d82a6bc', 'id': '3w3y8KPTfNeOKPiqUTakBh'}, {'album': 'The Great American Bar Scene', 'artist': 'Zach Bryan', 'cover_image_url': 'https://i.scdn.co/image/ab67616d0000b273647ad18a07e9e939e399e5a1', 'genre': 'country', 'name': 'American Nights', 'preview_url': 'https://p.scdn.co/mp3-preview/0e098af8d8bc20a882bd2bb5b0df789d9e3b0989?cid=11419dac9f88424c93dd910d7d82a6bc', 'id': '5fVZC9GiM4e8vu99W0Xf6J'}, {'album': 'Perfect Night', 'artist': 'LE SSERAFIM', 'cover_image_url': 'https://i.scdn.co/image/ab67616d0000b2735e352f6eccf8cb96d0b247cc', 'genre': 'k-pop', 'name': 'Perfect Night', 'preview_url': 'https://p.scdn.co/mp3-preview/4e84e2dc9edab896f88263c634e88f39a6db61e1?cid=11419dac9f88424c93dd910d7d82a6bc', 'id': '1Fid2jjqsHViMX6xNH70hE'}, {'album': 'Menagerie', 'artist': 'Bill Withers', 'cover_image_url': 'https://i.scdn.co/image/ab67616d0000b2735ade9b4d547203c9061fc340', 'genre': 'funk', 'name': 'Lovely Day', 'preview_url': 'https://p.scdn.co/mp3-preview/fdd27d4b10c891ee9e00b1820484b8898fcf905a?cid=11419dac9f88424c93dd910d7d82a6bc', 'id': '1PtQJZVZIdWIYdARpZRDFO'}, {'album': \"Let's Skip to the Wedding\", 'artist': 'Eyedress', 'cover_image_url': 'https://i.scdn.co/image/ab67616d0000b2732a960aa5c84973aa3622f417', 'genre': 'indie-pop', 'name': 'Romantic Lover', 'preview_url': 'https://p.scdn.co/mp3-preview/93cd3a9d81231e445589e271932b9afc46d892db?cid=11419dac9f88424c93dd910d7d82a6bc', 'id': '0SpkyS1Q4MD8GaVcP5YjT4'}, {'album': 'Cigarettes After Sex', 'artist': 'Cigarettes After Sex', 'cover_image_url': 'https://i.scdn.co/image/ab67616d0000b27312b69bf576f5e80291f75161', 'genre': 'ambient', 'name': 'Sweet', 'preview_url': 'https://p.scdn.co/mp3-preview/3a0bc34d9e2f0f33c614d389f6116a6a63c5f9fa?cid=11419dac9f88424c93dd910d7d82a6bc', 'id': '1bjeWoagtHmUKputLVyDxQ'}, {'album': 'Blurryface', 'artist': 'Twenty One Pilots', 'cover_image_url': 'https://i.scdn.co/image/ab67616d0000b2732df0d98a423025032d0db1f7', 'genre': 'indie-pop', 'name': 'Stressed Out', 'preview_url': 'https://p.scdn.co/mp3-preview/d01bb6b4b9952d95d2609632474cda8e632e044d?cid=11419dac9f88424c93dd910d7d82a6bc', 'id': '6HSXNV0b4M4cLJ7ljgVVeh'}, {'album': 'Que Onda', 'artist': 'Calle 24', 'cover_image_url': 'https://i.scdn.co/image/ab67616d0000b273c8fd4190e32eed2dfcd00f66', 'genre': 'sad', 'name': 'Que Onda', 'preview_url': 'https://p.scdn.co/mp3-preview/84bedddb9d7ae9cc58aad446d435c9eea28bdabb?cid=11419dac9f88424c93dd910d7d82a6bc', 'id': '3xkHsmpQCBMytMJNiDf3Ii'}, {'album': 'Zach Bryan', 'artist': 'Zach Bryan', 'cover_image_url': 'https://i.scdn.co/image/ab67616d0000b273e5a25ed08d1e7e0fbb440cef', 'genre': 'country', 'name': 'Spotless (feat. The Lumineers)', 'preview_url': 'https://p.scdn.co/mp3-preview/dcc10c20620dbda4a373cbe59f3d4caa0e2bd212?cid=11419dac9f88424c93dd910d7d82a6bc', 'id': '0bRXwKfigvpKZUurwqAlEh'}, {'album': 'Good Looking', 'artist': 'Suki Waterhouse', 'cover_image_url': 'https://i.scdn.co/image/ab67616d0000b27343bff43a592efe047d2ab9ff', 'genre': 'indie-pop', 'name': 'Good Looking', 'preview_url': 'https://p.scdn.co/mp3-preview/9124e769b391a846bf4f3d7d41da960d4457ba7a?cid=11419dac9f88424c93dd910d7d82a6bc', 'id': '43SoxERu5UlXAgt4Es1VQU'}, {'album': 'Torches', 'artist': 'Foster The People', 'cover_image_url': 'https://i.scdn.co/image/ab67616d0000b273121d5f92cf90576907dfb1e5', 'genre': 'alt-rock', 'name': 'Pumped Up Kicks', 'preview_url': 'https://p.scdn.co/mp3-preview/2213bf4173a9b50a807a30121ed6b559a7778209?cid=11419dac9f88424c93dd910d7d82a6bc', 'id': '48i055G1OT5KxGGftwFxWy'}, {'album': \"Don't Kill the Magic\", 'artist': 'MAGIC!', 'cover_image_url': 'https://i.scdn.co/image/ab67616d0000b273604f8ac39f15d287e251f193', 'genre': 'reggae', 'name': 'Rude', 'preview_url': 'https://p.scdn.co/mp3-preview/7cdc54190cf06e5269d8406c5a7bba71a7e04cf1?cid=11419dac9f88424c93dd910d7d82a6bc', 'id': '4Dvkj6JhhA12EX05fT7y2e'}, {'album': 'Melophobia', 'artist': 'Cage The Elephant', 'cover_image_url': 'https://i.scdn.co/image/ab67616d0000b273fb1cb900d28642e668d77b12', 'genre': 'alt-rock', 'name': 'Cigarette Daydreams', 'preview_url': 'https://p.scdn.co/mp3-preview/a7a72315d777f4ed078d955238f9db158c915fc1?cid=11419dac9f88424c93dd910d7d82a6bc', 'id': '2hKdd3qO7cWr2Jo0Bcs0MA'}, {'album': 'Country Squire', 'artist': 'Tyler Childers', 'cover_image_url': 'https://i.scdn.co/image/ab67616d0000b273d41fec800fa501c5bc623083', 'genre': 'country', 'name': \"All Your'n\", 'preview_url': 'https://p.scdn.co/mp3-preview/9812fee49ff8efab5748d94769250dfec5daf844?cid=11419dac9f88424c93dd910d7d82a6bc', 'id': '0WoFs3EdGOx58yX5BtXvOa'}, {'album': 'So Good', 'artist': 'Zara Larsson', 'cover_image_url': 'https://i.scdn.co/image/ab67616d0000b2739e1683774b22648f4f178ed3', 'genre': 'electro', 'name': 'Lush Life', 'preview_url': 'https://p.scdn.co/mp3-preview/2f14e67d9660815897317b300241b228e40bcd97?cid=11419dac9f88424c93dd910d7d82a6bc', 'id': '1k1Bqnv2R0uJXQN4u6LKYt'}, {'album': 'Sugar Papi', 'artist': 'Marshmello', 'cover_image_url': 'https://i.scdn.co/image/ab67616d0000b2736a84be92318cebb5ac7fbc47', 'genre': 'electro', 'name': 'El Merengue', 'preview_url': 'https://p.scdn.co/mp3-preview/8f85a757be0d6acb90a870442608a2bc0efe5860?cid=11419dac9f88424c93dd910d7d82a6bc', 'id': '7EkWXAI1wn8Ii883ecd9xr'}, {'album': '17', 'artist': 'XXXTENTACION', 'cover_image_url': 'https://i.scdn.co/image/ab67616d0000b273203c89bd4391468eea4cc3f5', 'genre': 'emo', 'name': 'Everybody Dies In Their Nightmares', 'preview_url': 'https://p.scdn.co/mp3-preview/57ea372058336bcc4774b5dcee03d6712b16ae5c?cid=11419dac9f88424c93dd910d7d82a6bc', 'id': '0WQiDwKJclirSYG9v5tayI'}, {'album': \"This One's for You Too (Deluxe Edition)\", 'artist': 'Luke Combs', 'cover_image_url': 'https://i.scdn.co/image/ab67616d0000b273ccba76fad1c624c09e72bc78', 'genre': 'country', 'name': 'Beautiful Crazy', 'preview_url': 'https://p.scdn.co/mp3-preview/7160f5cd6c0e3aff6e2251b018bb0b88d2b8c101?cid=11419dac9f88424c93dd910d7d82a6bc', 'id': '5XeFesFbtLpXzIVDNQP22n'}, {'album': 'Fireworks & Rollerblades', 'artist': 'Benson Boone', 'cover_image_url': 'https://i.scdn.co/image/ab67616d0000b273cc04ff3e70e146ba9abacf40', 'genre': 'pop', 'name': 'Beautiful Things', 'preview_url': 'https://p.scdn.co/mp3-preview/e213f23e6fe5938299eebbe364d06c1682a6619f?cid=11419dac9f88424c93dd910d7d82a6bc', 'id': '1Hv1VTm8zeOeybub15mA2R'}, {'album': 'How To Save A Life', 'artist': 'The Fray', 'cover_image_url': 'https://i.scdn.co/image/ab67616d0000b27359b8b957f164ce660919f1f4', 'genre': 'piano', 'name': 'How to Save a Life', 'preview_url': 'https://p.scdn.co/mp3-preview/30d90238cdd10ea0a938ddc8ec122dabb87ac035?cid=11419dac9f88424c93dd910d7d82a6bc', 'id': '2Cdvbe2G4hZsnhNMKyGrie'}, {'album': 'minisode 3: TOMORROW', 'artist': 'TOMORROW X TOGETHER', 'cover_image_url': 'https://i.scdn.co/image/ab67616d0000b27303c996028737858321d2ffe0', 'genre': 'k-pop', 'name': 'Deja Vu', 'preview_url': 'https://p.scdn.co/mp3-preview/2cca480b447f185b5a64c94e6bdf112bc16c7ef4?cid=11419dac9f88424c93dd910d7d82a6bc', 'id': '7w87IxuO7BDcJ3YUqCyMTT'}, {'album': 'Death of a Party Girl', 'artist': 'TV Girl', 'cover_image_url': 'https://i.scdn.co/image/ab67616d0000b2731556d166d0ed059b34a00e1b', 'genre': 'indie', 'name': 'Blue Hair', 'preview_url': 'https://p.scdn.co/mp3-preview/dc170772a9042afcdc1feca9ef12c99f2cbdab0b?cid=11419dac9f88424c93dd910d7d82a6bc', 'id': '3XVBdLihbNbxUwZosxcGuJ'}, {'album': 'Burn, Burn, Burn', 'artist': 'Zach Bryan', 'cover_image_url': 'https://i.scdn.co/image/ab67616d0000b273d66d5ec15dc03aa57b78f5ff', 'genre': 'country', 'name': 'Burn, Burn, Burn', 'preview_url': 'https://p.scdn.co/mp3-preview/cbc77cc08d0b0fe89db0a7c1a6df2c98ba1da744?cid=11419dac9f88424c93dd910d7d82a6bc', 'id': '59WN2psjkt1tyaxjspN8fp'}, {'album': 'Cry', 'artist': 'Cigarettes After Sex', 'cover_image_url': 'https://i.scdn.co/image/ab67616d0000b273fd275af89cec73d6287f9cbf', 'genre': 'ambient', 'name': 'Cry', 'preview_url': 'https://p.scdn.co/mp3-preview/7682cdfb95bb8aaa6654a7c88687341cc9e350b7?cid=11419dac9f88424c93dd910d7d82a6bc', 'id': '2UW7JaomAMuX9pZrjVpHAU'}, {'album': 'Porch Light', 'artist': 'Josh Meloy', 'cover_image_url': 'https://i.scdn.co/image/ab67616d0000b2739e917e93a50b83029871627c', 'genre': 'country', 'name': 'Porch Light', 'preview_url': 'https://p.scdn.co/mp3-preview/43ce82b90489c5b3aea3ced3be15f370d50a326a?cid=11419dac9f88424c93dd910d7d82a6bc', 'id': '6RtPijgfPKROxEzTHNRiDp'}, {'album': 'DATA', 'artist': 'Tainy', 'cover_image_url': 'https://i.scdn.co/image/ab67616d0000b273f885fb64a381318a1c9c14e4', 'genre': 'latin', 'name': 'MOJABI GHOST', 'preview_url': 'https://p.scdn.co/mp3-preview/a6d8180d52b759c3e3db9aa78e841ffc06e26c17?cid=11419dac9f88424c93dd910d7d82a6bc', 'id': '0HEytGQM3bG1vKxER7IgVK'}, {'album': 'Freaks', 'artist': 'Surf Curse', 'cover_image_url': 'https://i.scdn.co/image/ab67616d0000b2739efda673310de265a2c1cf1f', 'genre': 'punk', 'name': 'Freaks', 'preview_url': 'https://p.scdn.co/mp3-preview/039505c3b40b4478ec45ccb64fed211487887dd0?cid=11419dac9f88424c93dd910d7d82a6bc', 'id': '0ofHAoxe9vBkTCp2UQIavz'}, {'album': \"Blowin' Your Mind!\", 'artist': 'Van Morrison', 'cover_image_url': 'https://i.scdn.co/image/ab67616d0000b2733f29a976eea00141514ab936', 'genre': 'folk', 'name': 'Brown Eyed Girl', 'preview_url': 'https://p.scdn.co/mp3-preview/731469a968c3295114a2b7052610674bf56c6048?cid=11419dac9f88424c93dd910d7d82a6bc', 'id': '1C84d9abZVKWHT2YYpoean'}, {'album': \"This One's for You\", 'artist': 'Luke Combs', 'cover_image_url': 'https://i.scdn.co/image/ab67616d0000b273b7578013decfa174e30dc298', 'genre': 'country', 'name': 'When It Rains It Pours', 'preview_url': 'https://p.scdn.co/mp3-preview/034066bcc59420c96bc025ed2f204ee2cb9c975d?cid=11419dac9f88424c93dd910d7d82a6bc', 'id': '3FqUPvubYeRCMsdJ02QyZR'}, {'album': 'La Bebe (Remix)', 'artist': 'Yng Lvcas', 'cover_image_url': 'https://i.scdn.co/image/ab67616d0000b273a04be3ad7c8c67f4109111a9', 'genre': 'reggae', 'name': 'La Bebe - Remix', 'preview_url': 'https://p.scdn.co/mp3-preview/57c5d5266219b32d455ed22417155bbabde7170f?cid=11419dac9f88424c93dd910d7d82a6bc', 'id': '0qRR9d89hIS0MHRkQ0ejxX'}, {'album': 'Wiped Out!', 'artist': 'The Neighbourhood', 'cover_image_url': 'https://i.scdn.co/image/ab67616d0000b2733066581d697fbdee4303d685', 'genre': 'alt-rock', 'name': 'Daddy Issues', 'preview_url': 'https://p.scdn.co/mp3-preview/d79918fba2888bf825a5edc938ce1f79ed12ff7b?cid=11419dac9f88424c93dd910d7d82a6bc', 'id': '2AT8iROs4FQueDv2c8q2KE'}, {'album': 'Oh, Pretty Woman', 'artist': 'Roy Orbison', 'cover_image_url': 'https://i.scdn.co/image/ab67616d0000b2731b3c09cb3ec9f618664f2622', 'genre': 'folk', 'name': 'Oh, Pretty Woman', 'preview_url': 'https://p.scdn.co/mp3-preview/246e9dc1fb2676bdacceaa564e46967ed000afef?cid=11419dac9f88424c93dd910d7d82a6bc', 'id': '2aYZaN5SmkRDLsrrV8GkBQ'}, {'album': '2000', 'artist': 'Manuel Turizo', 'cover_image_url': 'https://i.scdn.co/image/ab67616d0000b2734dd99565ae6453deab7c26e1', 'genre': 'latin', 'name': 'La Bachata', 'preview_url': 'https://p.scdn.co/mp3-preview/0232b53fd7849e6696e1ab3099dd01dd00823f17?cid=11419dac9f88424c93dd910d7d82a6bc', 'id': '6uIIdjYTxxpWOyWuVXrKQO'}, {'album': 'ESQUINAS', 'artist': 'Becky G', 'cover_image_url': 'https://i.scdn.co/image/ab67616d0000b273a4c33caede9bd0868ad1f04d', 'genre': 'latin', 'name': 'POR EL CONTRARIO (with Angela Aguilar & Leonardo Aguilar)', 'preview_url': 'https://p.scdn.co/mp3-preview/91759a3e8597d0b394e2391222376d6e31c24b5b?cid=11419dac9f88424c93dd910d7d82a6bc', 'id': '6RcAHyC5sAUIbPTkhOQwd8'}, {'album': 'Back In Black', 'artist': 'AC/DC', 'cover_image_url': 'https://i.scdn.co/image/ab67616d0000b2730b51f8d91f3a21e8426361ae', 'genre': 'hard-rock', 'name': 'You Shook Me All Night Long', 'preview_url': 'https://p.scdn.co/mp3-preview/3b01294b6b0458fea6ed5a88ea1b1593eb495ead?cid=11419dac9f88424c93dd910d7d82a6bc', 'id': '3YuaBvuZqcwN3CEAyyoaei'}, {'album': 'Fortaleza, Vol.2 (Ao Vivo)', 'artist': 'Murilo Huff', 'cover_image_url': 'https://i.scdn.co/image/ab67616d0000b273e16b9a0cfbb3d7259ed01b27', 'genre': 'sertanejo', 'name': 'Dedo do Meio - Ao Vivo', 'preview_url': 'https://p.scdn.co/mp3-preview/86034c509ae86293ee5f9ca62e2ebe2926fb9968?cid=11419dac9f88424c93dd910d7d82a6bc', 'id': '0dEAiKNbHt4mrjjoiL0loc'}, {'album': 'i am not who i was', 'artist': 'Chance Peña', 'cover_image_url': 'https://i.scdn.co/image/ab67616d0000b2733ec34bc4e860b8021272a75d', 'genre': 'singer-songwriter', 'name': 'i am not who i was', 'preview_url': 'https://p.scdn.co/mp3-preview/0ba79c75f2fafd3adf68c37de0a85032fb7bb4c1?cid=11419dac9f88424c93dd910d7d82a6bc', 'id': '6VObnIkLVruX4UVyxWhlqm'}, {'album': '18 Months', 'artist': 'Calvin Harris', 'cover_image_url': 'https://i.scdn.co/image/ab67616d0000b273dcef905cb144d4867119850b', 'genre': 'dance', 'name': 'Feel So Close - Radio Edit', 'preview_url': 'https://p.scdn.co/mp3-preview/b8372b1a0b8d09a5004388a654f29bef6bc37021?cid=11419dac9f88424c93dd910d7d82a6bc', 'id': '6CvTEtGagmzQvkUzzyKR9k'}, {'album': 'Skyfall', 'artist': 'Adele', 'cover_image_url': 'https://i.scdn.co/image/ab67616d0000b2732737be35cc5245eef495be90', 'genre': 'british', 'name': 'Skyfall', 'preview_url': 'https://p.scdn.co/mp3-preview/d5c38cc8a0f4b3e01a5a688497d6b0e89da5f1c8?cid=11419dac9f88424c93dd910d7d82a6bc', 'id': '5RKQ5NdjSh2QzD4MaunT91'}, {'album': 'Doo-Wops & Hooligans', 'artist': 'Bruno Mars', 'cover_image_url': 'https://i.scdn.co/image/ab67616d0000b273f6b55ca93bd33211227b502b', 'genre': 'dance', 'name': 'Just the Way You Are', 'preview_url': 'https://p.scdn.co/mp3-preview/6d1a901b10c7dc609d4c8628006b04bc6e672be8?cid=11419dac9f88424c93dd910d7d82a6bc', 'id': '0lbDzTINTToToBpkrnQT2t'}, {'album': 'Love In The Future (Expanded Edition)', 'artist': 'John Legend', 'cover_image_url': 'https://i.scdn.co/image/ab67616d0000b27394c9217a398f5174757c0c78', 'genre': 'soul', 'name': 'All of Me', 'preview_url': 'https://p.scdn.co/mp3-preview/29f542e5e8b4b6bb7e4e71a52bc3ff35b6b962ad?cid=11419dac9f88424c93dd910d7d82a6bc', 'id': '4aVuWgvD0X63hcOCnZtNFA'}, {'album': 'a Gift & a Curse', 'artist': 'Gunna', 'cover_image_url': 'https://i.scdn.co/image/ab67616d0000b273017d5e26552345c4b1575b6c', 'genre': 'hip-hop', 'name': 'fukumean', 'preview_url': 'https://p.scdn.co/mp3-preview/f237ab921af697ba9b49e12fa167c2ce1a82d6b4?cid=11419dac9f88424c93dd910d7d82a6bc', 'id': '3fJHbMUnzceimOnNjp63fF'}, {'album': 'death bed (coffee for your head)', 'artist': 'Powfu', 'cover_image_url': 'https://i.scdn.co/image/ab67616d0000b273bf01fd0986a195d485922167', 'genre': 'sad', 'name': 'death bed (coffee for your head)', 'preview_url': 'https://p.scdn.co/mp3-preview/e88548073883ae36ba42ee5f1d1096568e417737?cid=11419dac9f88424c93dd910d7d82a6bc', 'id': '6YUTL4dYpB9xZO5qExPf05'}, {'album': '062 (Ao Vivo)', 'artist': 'Hugo & Guilherme', 'cover_image_url': 'https://i.scdn.co/image/ab67616d0000b27378b03b7534ce5a81046d36da', 'genre': 'sertanejo', 'name': 'Morena De Goiânia - Ao Vivo', 'preview_url': 'https://p.scdn.co/mp3-preview/0e4f24cc23b05d26645ca9455afec0fe76493741?cid=11419dac9f88424c93dd910d7d82a6bc', 'id': '2DXK0YNGSqnaIEX5iaSIoK'}, {'album': 'Tiroteo (Remix)', 'artist': 'Marc Seguí', 'cover_image_url': 'https://i.scdn.co/image/ab67616d0000b2735a048cbaa3385de9f723c699', 'genre': 'spanish', 'name': 'Tiroteo - Remix', 'preview_url': 'https://p.scdn.co/mp3-preview/93a840b4b0234a66c1f5e578abb758c44b1dda04?cid=11419dac9f88424c93dd910d7d82a6bc', 'id': '57bgtoPSgt236HzfBOd8kj'}, {'album': 'Hunting High and Low', 'artist': 'a-ha', 'cover_image_url': 'https://i.scdn.co/image/ab67616d0000b273e8dd4db47e7177c63b0b7d53', 'genre': 'synth-pop', 'name': 'Take on Me', 'preview_url': 'https://p.scdn.co/mp3-preview/ed66a8c444c35b2f5029c04ae8e18f69d952c2bb?cid=11419dac9f88424c93dd910d7d82a6bc', 'id': '5GTBdEjZe7zEDp1N0eCZE4'}, {'album': 'Escape (2022 Remaster)', 'artist': 'Journey', 'cover_image_url': 'https://i.scdn.co/image/ab67616d0000b27363fa4751355b66f236943275', 'genre': 'hard-rock', 'name': \"Don't Stop Believin' (2022 Remaster)\", 'preview_url': 'https://p.scdn.co/mp3-preview/50923c629a4d9ab470b0ca6a10495ecb945c1500?cid=11419dac9f88424c93dd910d7d82a6bc', 'id': '4Yf5bqU3NK4kNOypcrLYwU'}, {'album': 'Flower Boy', 'artist': 'Tyler, The Creator', 'cover_image_url': 'https://i.scdn.co/image/ab67616d0000b2738940ac99f49e44f59e6f7fb3', 'genre': 'hip-hop', 'name': 'See You Again (feat. Kali Uchis)', 'preview_url': 'https://p.scdn.co/mp3-preview/c703198293891e3b276800ea6b187cf7951d3d7d?cid=11419dac9f88424c93dd910d7d82a6bc', 'id': '02cRoSfWU3RJNFyU3o4lhV'}, {'album': 'Motion', 'artist': 'Calvin Harris', 'cover_image_url': 'https://i.scdn.co/image/ab67616d0000b273063c048e9ef6bd021b744756', 'genre': 'dance', 'name': 'Summer', 'preview_url': 'https://p.scdn.co/mp3-preview/a6fc9fe137bd7d0b3377309f8235eddf449866e5?cid=11419dac9f88424c93dd910d7d82a6bc', 'id': '7BqBn9nzAq8spo5e7cZ0dJ'}, {'album': 'The Colour And The Shape', 'artist': 'Foo Fighters', 'cover_image_url': 'https://i.scdn.co/image/ab67616d0000b2730389027010b78a5e7dce426b', 'genre': 'alt-rock', 'name': 'Everlong', 'preview_url': 'https://p.scdn.co/mp3-preview/78fd3872e0fa5940b2a36654f07f11e7119be4e2?cid=11419dac9f88424c93dd910d7d82a6bc', 'id': '7eJMfftS33KTjuF7lTsMCx'}, {'album': 'Blonde', 'artist': 'Frank Ocean', 'cover_image_url': 'https://i.scdn.co/image/ab67616d0000b273c5649add07ed3720be9d5526', 'genre': 'soul', 'name': 'White Ferrari', 'preview_url': 'https://p.scdn.co/mp3-preview/bff77236970b7f90cdfc274b18b55ce7bf584bcc?cid=11419dac9f88424c93dd910d7d82a6bc', 'id': '18lR4BzEs7e3qzc0KVkTpU'}, {'album': \"WE DON'T TRUST YOU\", 'artist': 'Future', 'cover_image_url': 'https://i.scdn.co/image/ab67616d0000b273a46b07c291e6dfdee13b3ee8', 'genre': 'hip-hop', 'name': 'Type Shit', 'preview_url': 'https://p.scdn.co/mp3-preview/4743d8302c54f95d6f79858b7c67764b1d45e9a3?cid=11419dac9f88424c93dd910d7d82a6bc', 'id': '2ORC76autQ7QTfBCkZl4Wo'}, {'album': 'Haverá Sinais (Ao Vivo)', 'artist': 'Jorge & Mateus', 'cover_image_url': 'https://i.scdn.co/image/ab67616d0000b273e2cc124172480f276562e107', 'genre': 'sertanejo', 'name': 'Haverá Sinais - Ao Vivo', 'preview_url': 'https://p.scdn.co/mp3-preview/5106dca17c80b1074dd241366359d3908316e03e?cid=11419dac9f88424c93dd910d7d82a6bc', 'id': '2SiXAy7TuUkycRVbbWDEpo'}, {'album': 'Colmillo De Leche', 'artist': 'Carin Leon', 'cover_image_url': 'https://i.scdn.co/image/ab67616d0000b273daf12ebec7ae15f8322e1e5e', 'genre': 'sad', 'name': 'Primera Cita', 'preview_url': 'https://p.scdn.co/mp3-preview/e6ef5f00a6f3d99326cdeecd71289ff7fe06cbd6?cid=11419dac9f88424c93dd910d7d82a6bc', 'id': '0HDMisLsuGNml98Xq7atpm'}, {'album': 'Sweet Dreams (Are Made Of This)', 'artist': 'Eurythmics', 'cover_image_url': 'https://i.scdn.co/image/ab67616d0000b273b3994c94dfb241923664bb4d', 'genre': 'synth-pop', 'name': 'Sweet Dreams (Are Made of This) - Remastered', 'preview_url': 'https://p.scdn.co/mp3-preview/d69101dbd66295473706112d3edf978b70fc4550?cid=11419dac9f88424c93dd910d7d82a6bc', 'id': '5UWwZ5lm5PKu6eKsHAGxOk'}, {'album': 'Long Way Down (Deluxe)', 'artist': 'Tom Odell', 'cover_image_url': 'https://i.scdn.co/image/ab67616d0000b2731917a0f3f4152622a040913f', 'genre': 'chill', 'name': 'Another Love', 'preview_url': 'https://p.scdn.co/mp3-preview/0369cb748bc968ffd34fb4ac60f5403f2aad032f?cid=11419dac9f88424c93dd910d7d82a6bc', 'id': '6X6jKoyw1OjogRghMEQAZV'}, {'album': \"Onka's Big Moka\", 'artist': 'Toploader', 'cover_image_url': 'https://i.scdn.co/image/ab67616d0000b273e16a6534cd5a968a5b725d03', 'genre': 'british', 'name': 'Dancing in the Moonlight', 'preview_url': 'https://p.scdn.co/mp3-preview/6d259dc3c9bc978297f609514799792ab6d76eb3?cid=11419dac9f88424c93dd910d7d82a6bc', 'id': '3ZFTkvIE7kyPt6Nu3PEa7V'}, {'album': 'Zach Bryan', 'artist': 'Zach Bryan', 'cover_image_url': 'https://i.scdn.co/image/ab67616d0000b273e5a25ed08d1e7e0fbb440cef', 'genre': 'country', 'name': 'I Remember Everything (feat. Kacey Musgraves)', 'preview_url': 'https://p.scdn.co/mp3-preview/22b240f7ef2eff38bd12fb0c94dfea5e1d70e20a?cid=11419dac9f88424c93dd910d7d82a6bc', 'id': '3w392XWJ5bXzjcCR2Dmvqn'}, {'album': 'Point Of Know Return (Expanded Edition)', 'artist': 'Kansas', 'cover_image_url': 'https://i.scdn.co/image/ab67616d0000b27359f0f56a7cd13526b5b4204c', 'genre': 'hard-rock', 'name': 'Dust in the Wind', 'preview_url': 'https://p.scdn.co/mp3-preview/ddfc248171b5199053bafdefbc94ab5b335faa48?cid=11419dac9f88424c93dd910d7d82a6bc', 'id': '2tUBqZG2AbRi7Q0BIrVrEj'}, {'album': 'Foi Intenso (Ao Vivo)', 'artist': 'Zé Neto & Cristiano', 'cover_image_url': 'https://i.scdn.co/image/ab67616d0000b273c890e9882380b8375f76bb3f', 'genre': 'sertanejo', 'name': 'Foi Intenso - Ao Vivo', 'preview_url': 'https://p.scdn.co/mp3-preview/cae3976ec7a366f6888b5174ac1325fa28347c89?cid=11419dac9f88424c93dd910d7d82a6bc', 'id': '1WHDOr19zyyqu6XXIvdgfX'}, {'album': 'Bewitched', 'artist': 'Laufey', 'cover_image_url': 'https://i.scdn.co/image/ab67616d0000b27374c732f8aa0e0ccbb3d17d96', 'genre': 'singer-songwriter', 'name': 'From The Start', 'preview_url': 'https://p.scdn.co/mp3-preview/3cdcd256d89b8634adc47aebbcf6db256e3b9978?cid=11419dac9f88424c93dd910d7d82a6bc', 'id': '7KA4W4McWYRpgf0fWsJZWB'}, {'album': 'I Love You.', 'artist': 'The Neighbourhood', 'cover_image_url': 'https://i.scdn.co/image/ab67616d0000b2738265a736a1eb838ad5a0b921', 'genre': 'alt-rock', 'name': 'Sweater Weather', 'preview_url': 'https://p.scdn.co/mp3-preview/877602f424a9dea277b13301ffc516f9fd1fbe7e?cid=11419dac9f88424c93dd910d7d82a6bc', 'id': '2kE2HFBFkJ0VMw3igxYohz'}, {'album': 'Corazón de Piedra', 'artist': 'Xavi', 'cover_image_url': 'https://i.scdn.co/image/ab67616d0000b273572e681dcdb302d7625b08c7', 'genre': 'sad', 'name': 'Corazón de Piedra', 'preview_url': 'https://p.scdn.co/mp3-preview/8aa2222f713ff238c57e720eeadfe697d0b2df97?cid=11419dac9f88424c93dd910d7d82a6bc', 'id': '3JvKfv6T31zO0ini8iNItO'}, {'album': 'Version', 'artist': 'Mark Ronson', 'cover_image_url': 'https://i.scdn.co/image/ab67616d0000b2736a5beb0500ad6e3b0f7aea22', 'genre': 'soul', 'name': 'Valerie (feat. Amy Winehouse) - Version Revisited', 'preview_url': 'https://p.scdn.co/mp3-preview/7c1f773fee487c3fdc15fd8b0ee6a3a388b341d3?cid=11419dac9f88424c93dd910d7d82a6bc', 'id': '43iIQbw5hx986dUEZbr3eN'}, {'album': 'Minutes to Midnight', 'artist': 'Linkin Park', 'cover_image_url': 'https://i.scdn.co/image/ab67616d0000b2736e996745f2c7b8036abef213', 'genre': 'grunge', 'name': \"What I've Done\", 'preview_url': 'https://p.scdn.co/mp3-preview/bb5a97b64d61c8920674717ca753752eee008b95?cid=11419dac9f88424c93dd910d7d82a6bc', 'id': '6zeE5tKyr8Nu882DQhhSQI'}, {'album': 'High Voltage', 'artist': 'AC/DC', 'cover_image_url': 'https://i.scdn.co/image/ab67616d0000b273286a0837ff3424065a735e0a', 'genre': 'hard-rock', 'name': 'T.N.T.', 'preview_url': 'https://p.scdn.co/mp3-preview/b057af7c776de98ed5aa2a73bd3f5b9e6c84459d?cid=11419dac9f88424c93dd910d7d82a6bc', 'id': '5uu2OCGGrTRS1sIvlMgKwe'}, {'album': 'ÉXODO', 'artist': 'Peso Pluma', 'cover_image_url': 'https://i.scdn.co/image/ab67616d0000b2732690127e1d6cd0aa35cc353b', 'genre': 'sad', 'name': 'SANTAL 33', 'preview_url': 'https://p.scdn.co/mp3-preview/3748ab0fb543363b6476f872593cc4cb8a754b89?cid=11419dac9f88424c93dd910d7d82a6bc', 'id': '7LRMbd3LEoV5wZJvXT1Lwb'}, {'album': 'EU SOU SENTIMENTO', 'artist': 'Luan Santana', 'cover_image_url': 'https://i.scdn.co/image/ab67616d0000b27382344e9572ebd4236160c6fb', 'genre': 'sertanejo', 'name': 'EU SOU SENTIMENTO', 'preview_url': 'https://p.scdn.co/mp3-preview/064db235addc50049f0f70f4af67ba03427c059b?cid=11419dac9f88424c93dd910d7d82a6bc', 'id': '1gihuPhrLraKYrJMAEONyc'}, {'album': \"Pa las Baby's Y Belikeada\", 'artist': 'Fuerza Regida', 'cover_image_url': 'https://i.scdn.co/image/ab67616d0000b273ad57982065339f7dc2058efe', 'genre': 'sad', 'name': 'HARLEY QUINN', 'preview_url': 'https://p.scdn.co/mp3-preview/2845f30873601167f8970f2d64f53cda26441b7a?cid=11419dac9f88424c93dd910d7d82a6bc', 'id': '7HUhMOrlvwBPfBq3c0ajh0'}, {'album': 'ÉXODO', 'artist': 'Peso Pluma', 'cover_image_url': 'https://i.scdn.co/image/ab67616d0000b2732690127e1d6cd0aa35cc353b', 'genre': 'sad', 'name': 'HOLLYWOOD', 'preview_url': 'https://p.scdn.co/mp3-preview/705963b281ed4bb188b3034da800c2d3df05441c?cid=11419dac9f88424c93dd910d7d82a6bc', 'id': '2LMkwUfqC6S6s6qDVlEuzV'}, {'album': 'Toto', 'artist': 'TOTO', 'cover_image_url': 'https://i.scdn.co/image/ab67616d0000b273f903e62767a0e22e33b7af83', 'genre': 'hard-rock', 'name': 'Hold the Line', 'preview_url': 'https://p.scdn.co/mp3-preview/11e480955e46f3b6b5c1e0b6c28db18c25c1e73e?cid=11419dac9f88424c93dd910d7d82a6bc', 'id': '3U4isOIWM3VvDubwSI3y7a'}, {'album': 'JOYRIDE', 'artist': 'Kesha', 'cover_image_url': 'https://i.scdn.co/image/ab67616d0000b273336f6fbf3007f73a9782b026', 'genre': 'dance', 'name': 'JOYRIDE', 'preview_url': 'https://p.scdn.co/mp3-preview/8d1ec5ff1ce87253fa171515beb29d346d1e4431?cid=11419dac9f88424c93dd910d7d82a6bc', 'id': '3xKsf9qdS1CyvXSMEid6g8'}, {'album': 'Audioslave', 'artist': 'Audioslave', 'cover_image_url': 'https://i.scdn.co/image/ab67616d0000b273a7292b6863258e889b78d787', 'genre': 'grunge', 'name': 'Like a Stone', 'preview_url': 'https://p.scdn.co/mp3-preview/46d898c23fb28b9f52abf78b794aa500988d2132?cid=11419dac9f88424c93dd910d7d82a6bc', 'id': '2QjOHCTQ1Jl3zawyYOpxh6'}, {'album': 'Wild Ones (feat. Jelly Roll)', 'artist': 'Jessie Murph', 'cover_image_url': 'https://i.scdn.co/image/ab67616d0000b27314408503d0bb34c929cdc2b3', 'genre': 'singer-songwriter', 'name': 'Wild Ones (feat. Jelly Roll)', 'preview_url': 'https://p.scdn.co/mp3-preview/93045a94131f03cc0bf1d80c66437ab68fbf999b?cid=11419dac9f88424c93dd910d7d82a6bc', 'id': '6kopmMZiyLmw7h66uXcXR7'}, {'album': 'Blonde', 'artist': 'Frank Ocean', 'cover_image_url': 'https://i.scdn.co/image/ab67616d0000b273c5649add07ed3720be9d5526', 'genre': 'hip-hop', 'name': 'Pink + White', 'preview_url': 'https://p.scdn.co/mp3-preview/0e3ca894e19c37cbbbd511d9eb682d8bee030126?cid=11419dac9f88424c93dd910d7d82a6bc', 'id': '28drn6tQo95MRvO0jQEo5C'}, {'album': 'Whitney', 'artist': 'Whitney Houston', 'cover_image_url': 'https://i.scdn.co/image/ab67616d0000b273cc57e9b00b87dd0f6e868347', 'genre': 'dance', 'name': 'I Wanna Dance with Somebody (Who Loves Me)', 'preview_url': 'https://p.scdn.co/mp3-preview/7414ae6c811dee16c467c256429c7427fbcc98d0?cid=11419dac9f88424c93dd910d7d82a6bc', 'id': '4OwhwvKESFtuu06dTgct7i'}, {'album': 'Oral Fixation, Vol. 2 (Expanded Edition)', 'artist': 'Shakira', 'cover_image_url': 'https://i.scdn.co/image/ab67616d0000b27327ddd747545c0d0cfe7595fa', 'genre': 'dance', 'name': \"Hips Don't Lie (feat. Wyclef Jean)\", 'preview_url': 'https://p.scdn.co/mp3-preview/374b492571c9ba59c2c4b455ab79ee7501adab93?cid=11419dac9f88424c93dd910d7d82a6bc', 'id': '4KULAymBBJcPRpk1yO4dOG'}, {'album': 'Forever Young', 'artist': 'Alphaville', 'cover_image_url': 'https://i.scdn.co/image/ab67616d0000b273b9c4979446c4d39bc08e9503', 'genre': 'synth-pop', 'name': 'Forever Young', 'preview_url': 'https://p.scdn.co/mp3-preview/715c3b3b956d769f21ce4e43ede766fce7cd31fe?cid=11419dac9f88424c93dd910d7d82a6bc', 'id': '2WfaOiMkCvy7F5fcp2zZ8L'}, {'album': 'The Razors Edge', 'artist': 'AC/DC', 'cover_image_url': 'https://i.scdn.co/image/ab67616d0000b2738399047ff71200928f5b6508', 'genre': 'hard-rock', 'name': 'Thunderstruck', 'preview_url': 'https://p.scdn.co/mp3-preview/788a028fa3a33141c817b1064e3159006edeaa8d?cid=11419dac9f88424c93dd910d7d82a6bc', 'id': '1TfqLAPs4K3s2rJMoCokcS'}, {'album': 'ÉXODO', 'artist': 'Peso Pluma', 'cover_image_url': 'https://i.scdn.co/image/ab67616d0000b2732690127e1d6cd0aa35cc353b', 'genre': 'sad', 'name': 'RELOJ', 'preview_url': 'https://p.scdn.co/mp3-preview/f11451c051ee1403012b7a2fb8f938605eb28fbc?cid=11419dac9f88424c93dd910d7d82a6bc', 'id': '3Fzlg5r1IjhLk2qRw667od'}, {'album': \"Pa las Baby's Y Belikeada\", 'artist': 'Fuerza Regida', 'cover_image_url': 'https://i.scdn.co/image/ab67616d0000b273ad57982065339f7dc2058efe', 'genre': 'sad', 'name': 'UNA CERVEZA', 'preview_url': 'https://p.scdn.co/mp3-preview/8b6c575f2df84e60ba8fabb144ae213d412f8f05?cid=11419dac9f88424c93dd910d7d82a6bc', 'id': '4S1VYqwfkLit9mKVY3MXoo'}, {'album': 'No Protection', 'artist': 'Starship', 'cover_image_url': 'https://i.scdn.co/image/ab67616d0000b273377198e5b790b5ebf137bd83', 'genre': 'synth-pop', 'name': \"Nothing's Gonna Stop Us Now\", 'preview_url': 'https://p.scdn.co/mp3-preview/a17faa3145693e235f6eaddd17debde84dd503eb?cid=11419dac9f88424c93dd910d7d82a6bc', 'id': '3X7uFMzJrEE0sxn62qd8Ch'}, {'album': 'Meteora', 'artist': 'Linkin Park', 'cover_image_url': 'https://i.scdn.co/image/ab67616d0000b2735f1f51d14e8bea89484ecd1b', 'genre': 'grunge', 'name': 'Faint', 'preview_url': 'https://p.scdn.co/mp3-preview/93e66af3a92081740710b18e45dcc9eeff08edbf?cid=11419dac9f88424c93dd910d7d82a6bc', 'id': '4rXLjWdF2ZZpXCVTfWcshS'}]\n"
     ]
    }
   ],
   "source": [
    "# Function to fetch embeddings from a Pinecone index\n",
    "def fetch_embeddings(index_name, vector_count, dimensions):\n",
    "    index = pc.Index(index_name)\n",
    "    vector_count = index.describe_index_stats()['total_vector_count']\n",
    "    index_arr = index.query(vector=[0 for _ in range(dimensions)], top_k=vector_count, include_metadata=True)\n",
    "\n",
    "    vector_ids = [v['id'] for v in index_arr['matches']]\n",
    "    batch_size = 100  # Adjust batch size as needed\n",
    "    embeddings = []\n",
    "    metadata = []\n",
    "\n",
    "    for i in range(0, len(vector_ids), batch_size):\n",
    "        batch_ids = vector_ids[i:i + batch_size]\n",
    "        response = index.fetch(ids=batch_ids)\n",
    "        batch_embeddings = [v['values'] for v in response['vectors'].values()]\n",
    "        batch_metadata = [v['metadata'] for v in response['vectors'].values()]\n",
    "        for id_, meta in zip(batch_ids, batch_metadata):\n",
    "            meta['id'] = id_\n",
    "        embeddings.extend(batch_embeddings)\n",
    "        metadata.extend(batch_metadata)\n",
    "\n",
    "    return np.array(embeddings), metadata, vector_count\n",
    "\n",
    "# Fetch song embeddings\n",
    "song_embeddings, song_metadata, song_clusters = fetch_embeddings('ast-song-embeddings', 768, 768)\n",
    "print(song_embeddings)\n",
    "print(song_metadata)\n",
    "# Fetch artist embeddings\n",
    "# artist_embeddings, artist_metadata, artist_clusters = fetch_embeddings('artist-embeddings', 768, 768)\n",
    "\n",
    "# Fetch genre embeddings\n",
    "# genre_embeddings, genre_metadata, genre_clusters = fetch_embeddings('genre-embeddings', 768, 768)\n"
   ]
  },
  {
   "cell_type": "code",
   "execution_count": 4,
   "metadata": {},
   "outputs": [],
   "source": [
    "# Credit to gmacro on stackoverflow for the foundation for this function\n",
    "def voronoi_finite_polygons_2d(vor, radius=None):\n",
    "    # Check if the input is 2D\n",
    "    if vor.points.shape[1] != 2:\n",
    "        raise ValueError(\"Requires 2D input\")\n",
    "\n",
    "    # Calculate the center of the points\n",
    "    center = vor.points.mean(axis=0)\n",
    "    if radius is None:\n",
    "        radius = vor.points.ptp().max() * 2\n",
    "\n",
    "    new_regions = []\n",
    "    new_vertices = vor.vertices.tolist()\n",
    "\n",
    "    # Construct a map containing all ridges for a given point\n",
    "    all_ridges = construct_ridge_map(vor)\n",
    "\n",
    "    # Reconstruct regions\n",
    "    for p1, region in enumerate(vor.point_region):\n",
    "        vertices = vor.regions[region]\n",
    "\n",
    "        if all(v >= 0 for v in vertices):\n",
    "            # Finite region\n",
    "            new_regions.append(vertices)\n",
    "        else:\n",
    "            # Reconstruct a non-finite region\n",
    "            new_region = reconstruct_infinite_region(p1, vertices, all_ridges, vor, center, radius, new_vertices)\n",
    "            new_regions.append(new_region)\n",
    "\n",
    "    return new_regions, np.asarray(new_vertices)\n",
    "\n",
    "def construct_ridge_map(vor):\n",
    "    all_ridges = {}\n",
    "    for (p1, p2), (v1, v2) in zip(vor.ridge_points, vor.ridge_vertices):\n",
    "        all_ridges.setdefault(p1, []).append((p2, v1, v2))\n",
    "        all_ridges.setdefault(p2, []).append((p1, v1, v2))\n",
    "    return all_ridges\n",
    "\n",
    "def reconstruct_infinite_region(p1, vertices, all_ridges, vor, center, radius, new_vertices):\n",
    "    new_region = [v for v in vertices if v >= 0]\n",
    "    for p2, v1, v2 in all_ridges[p1]:\n",
    "        if v2 < 0:\n",
    "            v1, v2 = v2, v1\n",
    "        if v1 >= 0:\n",
    "            # Finite ridge: already in the region\n",
    "            continue\n",
    "        # Compute the missing endpoint of an infinite ridge\n",
    "        far_point = compute_far_point(p1, p2, v2, vor, center, radius)\n",
    "        new_region.append(len(new_vertices))\n",
    "        new_vertices.append(far_point.tolist())\n",
    "    # Sort region counterclockwise\n",
    "    new_region = sort_region_counterclockwise(new_region, new_vertices)\n",
    "    return new_region\n",
    "\n",
    "def compute_far_point(p1, p2, v2, vor, center, radius):\n",
    "    tangent = vor.points[p2] - vor.points[p1]  # Tangent vector\n",
    "    tangent /= np.linalg.norm(tangent)\n",
    "    normal = np.array([-tangent[1], tangent[0]])  # Normal vector\n",
    "    midpoint = vor.points[[p1, p2]].mean(axis=0)\n",
    "    direction = np.sign(np.dot(midpoint - center, normal)) * normal\n",
    "    far_point = vor.vertices[v2] + direction * radius\n",
    "    return far_point\n",
    "\n",
    "def sort_region_counterclockwise(region, vertices):\n",
    "    vs = np.asarray([vertices[v] for v in region])\n",
    "    center = vs.mean(axis=0)\n",
    "    angles = np.arctan2(vs[:, 1] - center[1], vs[:, 0] - center[0])\n",
    "    sorted_region = np.array(region)[np.argsort(angles)]\n",
    "    return sorted_region.tolist()"
   ]
  },
  {
   "cell_type": "code",
   "execution_count": 5,
   "metadata": {},
   "outputs": [],
   "source": [
    "# Perform PCA\n",
    "pca = PCA(n_components=2)\n",
    "song_reduced_embeddings = pca.fit_transform(song_embeddings)\n",
    "# Perform K-means clustering\n",
    "n_clusters = song_clusters // 10  # Adjust this number as needed\n",
    "kmeans = KMeans(n_clusters=n_clusters, init=\"k-means++\", n_init=4, random_state=42)\n",
    "song_cluster_labels = kmeans.fit_predict(song_reduced_embeddings)"
   ]
  },
  {
   "cell_type": "code",
   "execution_count": 6,
   "metadata": {},
   "outputs": [
    {
     "data": {
      "application/vnd.plotly.v1+json": {
       "config": {
        "plotlyServerURL": "https://plot.ly"
       },
       "data": [
        {
         "fill": "toself",
         "fillcolor": "#ea4cbb",
         "line": {
          "color": "rgba(0,0,0,0)"
         },
         "mode": "lines",
         "type": "scatter",
         "x": [
          1.0360339119432718,
          -0.18507460423613364,
          0.03906928042024316,
          1.023150285199198,
          1.7306477043307822,
          1.1705733283785122
         ],
         "y": [
          -1.571817806620109,
          -2.8414475966719435,
          -3.839705095338977,
          -3.9116736872572018,
          -2.3210390752626413,
          -1.605171086812129
         ]
        },
        {
         "fill": "toself",
         "fillcolor": "#c17e81",
         "line": {
          "color": "rgba(0,0,0,0)"
         },
         "mode": "lines",
         "type": "scatter",
         "x": [
          -0.2041498486749227,
          -0.8869501559648548,
          -1.7394840321493095,
          -1.7304462788519426,
          -0.5762817436627429,
          0.0363545455239046
         ],
         "y": [
          0.07902821768289559,
          -0.12006383936016107,
          0.7210655397170367,
          0.7332683746125814,
          1.1839437522892604,
          0.5915350771360168
         ]
        },
        {
         "fill": "toself",
         "fillcolor": "#40dc5d",
         "line": {
          "color": "rgba(0,0,0,0)"
         },
         "mode": "lines",
         "type": "scatter",
         "x": [
          3.321799241741577,
          3.4938596368215933,
          3.905037534490578,
          2.7741189780781124,
          2.197707726317361,
          2.2306305212149815
         ],
         "y": [
          0.21525011915883,
          0.2825489975023766,
          1.5149401039095611,
          1.5903248750772812,
          0.673286784098974,
          0.5939941847858613
         ]
        },
        {
         "fill": "toself",
         "fillcolor": "#c28394",
         "line": {
          "color": "rgba(0,0,0,0)"
         },
         "mode": "lines",
         "type": "scatter",
         "x": [
          -1.4157589716756487,
          -2.2514043591560386,
          -2.711091586253423,
          -3.122181495941332,
          -2.1027377666353937,
          -1.477456744677001
         ],
         "y": [
          -2.06259996300291,
          -2.4512593541655896,
          -2.3949039523456817,
          -1.1000493891107497,
          -0.6850048546298637,
          -0.9472442746031906
         ]
        },
        {
         "fill": "toself",
         "fillcolor": "#e2f360",
         "line": {
          "color": "rgba(0,0,0,0)"
         },
         "mode": "lines",
         "type": "scatter",
         "x": [
          -3.04615546726131,
          -1.7926582119057834,
          -1.0128212025138188,
          -4.260160209663094,
          -4.011201295319828
         ],
         "y": [
          2.1691627860561042,
          2.8931763694623323,
          10.773482555656738,
          2.7930921154815604,
          2.356741164858711
         ]
        },
        {
         "fill": "toself",
         "fillcolor": "#76a1ed",
         "line": {
          "color": "rgba(0,0,0,0)"
         },
         "mode": "lines",
         "type": "scatter",
         "x": [
          -1.4398303767343963,
          -3.5218997618108956,
          -2.711091586253423,
          -2.2514043591560386,
          -0.9298302390123436
         ],
         "y": [
          -5.446361339127803,
          -3.239461744135961,
          -2.3949039523456817,
          -2.4512593541655896,
          -4.622306611152193
         ]
        },
        {
         "fill": "toself",
         "fillcolor": "#40d2aa",
         "line": {
          "color": "rgba(0,0,0,0)"
         },
         "mode": "lines",
         "type": "scatter",
         "x": [
          0.8200182506397949,
          0.4804173531126875,
          1.8445677634905844,
          1.563361421933863
         ],
         "y": [
          0.9368099187598831,
          2.2202575804344344,
          2.1547167088365042,
          1.0722530939737105
         ]
        },
        {
         "fill": "toself",
         "fillcolor": "#9a79b5",
         "line": {
          "color": "rgba(0,0,0,0)"
         },
         "mode": "lines",
         "type": "scatter",
         "x": [
          3.321799241741577,
          3.4938596368215933,
          5.741810175024824,
          3.0550710099665697,
          2.7538594948271835
         ],
         "y": [
          0.21525011915883,
          0.2825489975023766,
          -1.394498808557481,
          -1.468097404610607,
          -0.9692966548423577
         ]
        },
        {
         "fill": "toself",
         "fillcolor": "#ea47d8",
         "line": {
          "color": "rgba(0,0,0,0)"
         },
         "mode": "lines",
         "type": "scatter",
         "x": [
          3.321799241741577,
          2.7538594948271835,
          2.055919582772788,
          1.83233393324138,
          2.2306305212149815
         ],
         "y": [
          0.21525011915883,
          -0.9692966548423577,
          -0.7323011044455268,
          -0.24439072301505155,
          0.5939941847858613
         ]
        },
        {
         "fill": "toself",
         "fillcolor": "#a1bcde",
         "line": {
          "color": "rgba(0,0,0,0)"
         },
         "mode": "lines",
         "type": "scatter",
         "x": [
          -2.7011294606578433,
          -3.04615546726131,
          -4.011201295319828,
          -4.538976485394051,
          -3.333447513234669
         ],
         "y": [
          0.8069223085964696,
          2.1691627860561042,
          2.356741164858711,
          1.1704065332880624,
          0.3620165857333868
         ]
        },
        {
         "fill": "toself",
         "fillcolor": "#afa5a9",
         "line": {
          "color": "rgba(0,0,0,0)"
         },
         "mode": "lines",
         "type": "scatter",
         "x": [
          -1.6447119358058764,
          -1.7926582119057834,
          -1.0128212025138188,
          5.69699172698689,
          0.36454162340851604,
          -0.4668549154018641
         ],
         "y": [
          2.689787909189345,
          2.8931763694623323,
          10.773482555656738,
          41.718532227271886,
          2.328407031579054,
          2.0461092839465502
         ]
        },
        {
         "fill": "toself",
         "fillcolor": "#c98ee1",
         "line": {
          "color": "rgba(0,0,0,0)"
         },
         "mode": "lines",
         "type": "scatter",
         "x": [
          -3.333447513234669,
          -3.5205440713565106,
          -11.201410927417017,
          -4.538976485394051
         ],
         "y": [
          0.3620165857333868,
          -0.8197637486360687,
          -2.156264971115675,
          1.1704065332880624
         ]
        },
        {
         "fill": "toself",
         "fillcolor": "#41e9b6",
         "line": {
          "color": "rgba(0,0,0,0)"
         },
         "mode": "lines",
         "type": "scatter",
         "x": [
          -0.2041498486749227,
          0.36306108493274103,
          -0.23468419334143642,
          -1.0718684642239895,
          -0.8869501559648548
         ],
         "y": [
          0.07902821768289559,
          -0.9374806503264412,
          -1.236105059726923,
          -0.7180994180375904,
          -0.12006383936016107
         ]
        },
        {
         "fill": "toself",
         "fillcolor": "#645bab",
         "line": {
          "color": "rgba(0,0,0,0)"
         },
         "mode": "lines",
         "type": "scatter",
         "x": [
          3.4938596368215933,
          5.741810175024824,
          24.415303734804848,
          18.988407420627887,
          3.905037534490578
         ],
         "y": [
          0.2825489975023766,
          -1.394498808557481,
          -6.613742103404756,
          13.698199732429359,
          1.5149401039095611
         ]
        },
        {
         "fill": "toself",
         "fillcolor": "#72a243",
         "line": {
          "color": "rgba(0,0,0,0)"
         },
         "mode": "lines",
         "type": "scatter",
         "x": [
          -2.7011294606578433,
          -1.8993785449360214,
          -2.1027377666353937,
          -3.122181495941332,
          -3.5205440713565106,
          -3.333447513234669
         ],
         "y": [
          0.8069223085964696,
          0.6604839791823587,
          -0.6850048546298637,
          -1.1000493891107497,
          -0.8197637486360687,
          0.3620165857333868
         ]
        },
        {
         "fill": "toself",
         "fillcolor": "#b7e7f9",
         "line": {
          "color": "rgba(0,0,0,0)"
         },
         "mode": "lines",
         "type": "scatter",
         "x": [
          1.7306477043307822,
          1.023150285199198,
          5.241595757716441,
          2.654266688021701
         ],
         "y": [
          -2.3210390752626413,
          -3.9116736872572018,
          -6.846274590999626,
          -2.2345105639002254
         ]
        },
        {
         "fill": "toself",
         "fillcolor": "#ac4ec3",
         "line": {
          "color": "rgba(0,0,0,0)"
         },
         "mode": "lines",
         "type": "scatter",
         "x": [
          -0.2041498486749227,
          0.36306108493274103,
          0.43980805354668484,
          1.1016453663601344,
          0.7004848130266905,
          0.0363545455239046
         ],
         "y": [
          0.07902821768289559,
          -0.9374806503264412,
          -0.9520976812288175,
          -0.11759290620932983,
          0.7738787791801343,
          0.5915350771360168
         ]
        },
        {
         "fill": "toself",
         "fillcolor": "#9dcfe2",
         "line": {
          "color": "rgba(0,0,0,0)"
         },
         "mode": "lines",
         "type": "scatter",
         "x": [
          -2.711091586253423,
          -3.122181495941332,
          -3.5205440713565106,
          -11.201410927417017,
          -38.29432485696909,
          -3.5218997618108956
         ],
         "y": [
          -2.3949039523456817,
          -1.1000493891107497,
          -0.8197637486360687,
          -2.156264971115675,
          -10.92589455610612,
          -3.239461744135961
         ]
        },
        {
         "fill": "toself",
         "fillcolor": "#8dba87",
         "line": {
          "color": "rgba(0,0,0,0)"
         },
         "mode": "lines",
         "type": "scatter",
         "x": [
          -5.355845929610981,
          19.152131223497136,
          5.241595757716441,
          1.023150285199198,
          0.03906928042024316,
          -0.9298302390123436,
          -1.4398303767343963
         ],
         "y": [
          -24.43595544978701,
          -20.35319375686464,
          -6.846274590999626,
          -3.9116736872572018,
          -3.839705095338977,
          -4.622306611152193,
          -5.446361339127803
         ]
        },
        {
         "fill": "toself",
         "fillcolor": "#9bb654",
         "line": {
          "color": "rgba(0,0,0,0)"
         },
         "mode": "lines",
         "type": "scatter",
         "x": [
          -1.7304462788519426,
          -1.6447119358058764,
          -1.7926582119057834,
          -3.04615546726131,
          -2.7011294606578433,
          -1.8993785449360214,
          -1.7394840321493095
         ],
         "y": [
          0.7332683746125814,
          2.689787909189345,
          2.8931763694623323,
          2.1691627860561042,
          0.8069223085964696,
          0.6604839791823587,
          0.7210655397170367
         ]
        },
        {
         "fill": "toself",
         "fillcolor": "#47b7ec",
         "line": {
          "color": "rgba(0,0,0,0)"
         },
         "mode": "lines",
         "type": "scatter",
         "x": [
          0.0363545455239046,
          0.7004848130266905,
          0.8200182506397949,
          0.4804173531126875,
          0.36454162340851604,
          -0.4668549154018641,
          -0.5762817436627429
         ],
         "y": [
          0.5915350771360168,
          0.7738787791801343,
          0.9368099187598831,
          2.2202575804344344,
          2.328407031579054,
          2.0461092839465502,
          1.1839437522892604
         ]
        },
        {
         "fill": "toself",
         "fillcolor": "#c860eb",
         "line": {
          "color": "rgba(0,0,0,0)"
         },
         "mode": "lines",
         "type": "scatter",
         "x": [
          -56.94567192443239,
          -38.29432485696909,
          -11.201410927417017,
          -4.538976485394051,
          -4.011201295319828,
          -4.260160209663094,
          -23.302191910542895
         ],
         "y": [
          -16.223735141380672,
          -10.92589455610612,
          -2.156264971115675,
          1.1704065332880624,
          2.356741164858711,
          2.7930921154815604,
          6.445610561792676
         ]
        },
        {
         "fill": "toself",
         "fillcolor": "#9d4ee3",
         "line": {
          "color": "rgba(0,0,0,0)"
         },
         "mode": "lines",
         "type": "scatter",
         "x": [
          2.120058450922366,
          2.7741189780781124,
          3.905037534490578,
          18.988407420627887,
          7.419177071395735
         ],
         "y": [
          2.353020141747622,
          1.5903248750772812,
          1.5149401039095611,
          13.698199732429359,
          21.004004141100218
         ]
        },
        {
         "fill": "toself",
         "fillcolor": "#5adfd8",
         "line": {
          "color": "rgba(0,0,0,0)"
         },
         "mode": "lines",
         "type": "scatter",
         "x": [
          0.43980805354668484,
          0.36306108493274103,
          -0.23468419334143642,
          -0.6577941541014241,
          -0.18507460423613364,
          1.0360339119432718
         ],
         "y": [
          -0.9520976812288175,
          -0.9374806503264412,
          -1.236105059726923,
          -2.2444799334919683,
          -2.8414475966719435,
          -1.571817806620109
         ]
        },
        {
         "fill": "toself",
         "fillcolor": "#7dedbd",
         "line": {
          "color": "rgba(0,0,0,0)"
         },
         "mode": "lines",
         "type": "scatter",
         "x": [
          2.055919582772788,
          1.1705733283785122,
          1.7306477043307822,
          2.654266688021701,
          3.0550710099665697,
          2.7538594948271835
         ],
         "y": [
          -0.7323011044455268,
          -1.605171086812129,
          -2.3210390752626413,
          -2.2345105639002254,
          -1.468097404610607,
          -0.9692966548423577
         ]
        },
        {
         "fill": "toself",
         "fillcolor": "#b5b6c0",
         "line": {
          "color": "rgba(0,0,0,0)"
         },
         "mode": "lines",
         "type": "scatter",
         "x": [
          -0.6577941541014241,
          -0.18507460423613364,
          0.03906928042024316,
          -0.9298302390123436,
          -2.2514043591560386,
          -1.4157589716756487
         ],
         "y": [
          -2.2444799334919683,
          -2.8414475966719435,
          -3.839705095338977,
          -4.622306611152193,
          -2.4512593541655896,
          -2.06259996300291
         ]
        },
        {
         "fill": "toself",
         "fillcolor": "#f1abf6",
         "line": {
          "color": "rgba(0,0,0,0)"
         },
         "mode": "lines",
         "type": "scatter",
         "x": [
          -56.94567192443239,
          -5.355845929610981,
          -1.4398303767343963,
          -3.5218997618108956,
          -38.29432485696909
         ],
         "y": [
          -16.223735141380672,
          -24.43595544978701,
          -5.446361339127803,
          -3.239461744135961,
          -10.92589455610612
         ]
        },
        {
         "fill": "toself",
         "fillcolor": "#a5b2e4",
         "line": {
          "color": "rgba(0,0,0,0)"
         },
         "mode": "lines",
         "type": "scatter",
         "x": [
          -23.302191910542895,
          -4.260160209663094,
          -1.0128212025138188,
          5.69699172698689,
          9.38935690842913
         ],
         "y": [
          6.445610561792676,
          2.7930921154815604,
          10.773482555656738,
          41.718532227271886,
          60.75287754474544
         ]
        },
        {
         "fill": "toself",
         "fillcolor": "#40c377",
         "line": {
          "color": "rgba(0,0,0,0)"
         },
         "mode": "lines",
         "type": "scatter",
         "x": [
          -0.8869501559648548,
          -1.0718684642239895,
          -1.477456744677001,
          -2.1027377666353937,
          -1.8993785449360214,
          -1.7394840321493095
         ],
         "y": [
          -0.12006383936016107,
          -0.7180994180375904,
          -0.9472442746031906,
          -0.6850048546298637,
          0.6604839791823587,
          0.7210655397170367
         ]
        },
        {
         "fill": "toself",
         "fillcolor": "#bfd399",
         "line": {
          "color": "rgba(0,0,0,0)"
         },
         "mode": "lines",
         "type": "scatter",
         "x": [
          -0.6577941541014241,
          -0.23468419334143642,
          -1.0718684642239895,
          -1.477456744677001,
          -1.4157589716756487
         ],
         "y": [
          -2.2444799334919683,
          -1.236105059726923,
          -0.7180994180375904,
          -0.9472442746031906,
          -2.06259996300291
         ]
        },
        {
         "fill": "toself",
         "fillcolor": "#ab7893",
         "line": {
          "color": "rgba(0,0,0,0)"
         },
         "mode": "lines",
         "type": "scatter",
         "x": [
          2.2306305212149815,
          2.197707726317361,
          1.563361421933863,
          0.8200182506397949,
          0.7004848130266905,
          1.1016453663601344,
          1.83233393324138
         ],
         "y": [
          0.5939941847858613,
          0.673286784098974,
          1.0722530939737105,
          0.9368099187598831,
          0.7738787791801343,
          -0.11759290620932983,
          -0.24439072301505155
         ]
        },
        {
         "fill": "toself",
         "fillcolor": "#7241c3",
         "line": {
          "color": "rgba(0,0,0,0)"
         },
         "mode": "lines",
         "type": "scatter",
         "x": [
          1.563361421933863,
          2.197707726317361,
          2.7741189780781124,
          2.120058450922366,
          1.8445677634905844
         ],
         "y": [
          1.0722530939737105,
          0.673286784098974,
          1.5903248750772812,
          2.353020141747622,
          2.1547167088365042
         ]
        },
        {
         "fill": "toself",
         "fillcolor": "#cd9efb",
         "line": {
          "color": "rgba(0,0,0,0)"
         },
         "mode": "lines",
         "type": "scatter",
         "x": [
          -0.5762817436627429,
          -0.4668549154018641,
          -1.6447119358058764,
          -1.7304462788519426
         ],
         "y": [
          1.1839437522892604,
          2.0461092839465502,
          2.689787909189345,
          0.7332683746125814
         ]
        },
        {
         "fill": "toself",
         "fillcolor": "#b966d8",
         "line": {
          "color": "rgba(0,0,0,0)"
         },
         "mode": "lines",
         "type": "scatter",
         "x": [
          1.83233393324138,
          1.1016453663601344,
          0.43980805354668484,
          1.0360339119432718,
          1.1705733283785122,
          2.055919582772788
         ],
         "y": [
          -0.24439072301505155,
          -0.11759290620932983,
          -0.9520976812288175,
          -1.571817806620109,
          -1.605171086812129,
          -0.7323011044455268
         ]
        },
        {
         "fill": "toself",
         "fillcolor": "#b4cff8",
         "line": {
          "color": "rgba(0,0,0,0)"
         },
         "mode": "lines",
         "type": "scatter",
         "x": [
          0.36454162340851604,
          0.4804173531126875,
          1.8445677634905844,
          2.120058450922366,
          7.419177071395735,
          9.38935690842913,
          5.69699172698689
         ],
         "y": [
          2.328407031579054,
          2.2202575804344344,
          2.1547167088365042,
          2.353020141747622,
          21.004004141100218,
          60.75287754474544,
          41.718532227271886
         ]
        },
        {
         "fill": "toself",
         "fillcolor": "#7aad93",
         "line": {
          "color": "rgba(0,0,0,0)"
         },
         "mode": "lines",
         "type": "scatter",
         "x": [
          5.241595757716441,
          19.152131223497136,
          24.415303734804848,
          5.741810175024824,
          3.0550710099665697,
          2.654266688021701
         ],
         "y": [
          -6.846274590999626,
          -20.35319375686464,
          -6.613742103404756,
          -1.394498808557481,
          -1.468097404610607,
          -2.2345105639002254
         ]
        },
        {
         "marker": {
          "color": "white",
          "size": 10,
          "symbol": "x"
         },
         "mode": "markers",
         "name": "Centroids",
         "type": "scatter",
         "x": [
          0.8530361447677718,
          -0.7614479682358413,
          2.921190045214436,
          -2.0019881537700264,
          -3.130122409768116,
          -2.2627413033560067,
          1.2331883067017426,
          3.542234764822056,
          2.537305122218143,
          -3.4987303940392276,
          -0.4269747624858595,
          -4.2390786020778215,
          -0.43971276105394363,
          4.366930873831368,
          -2.5317115312203264,
          2.2185415153083565,
          0.48743705175119406,
          -3.8628452688426544,
          0.6429839104635219,
          -2.2216051707083473,
          0.08592748154821296,
          -5.159206858040263,
          3.0017027414174104,
          0.16019891747649662,
          2.0722760811161565,
          -1.2885547349833955,
          -3.305759626204588,
          -4.806316626826358,
          -1.5204094833488686,
          -0.9059260131315827,
          1.474060362958341,
          2.1548987351397786,
          -1.1656550604790146,
          1.2869779212181858,
          1.2800752666062365,
          3.5882683798503336
         ],
         "y": [
          -2.4554503550843063,
          0.5151431814702526,
          0.9739142885858042,
          -1.4023800668129023,
          3.1695071736617453,
          -3.5293259924782894,
          1.6950178002701004,
          -0.6138863174296714,
          -0.13206533795126532,
          1.273107387712894,
          2.902003027579887,
          0.16904712944695202,
          -0.588270493552858,
          0.49155388254720644,
          -0.10125902908161068,
          -3.0628126733582435,
          -0.07092182354544357,
          -1.9931642406479648,
          -5.327653468701763,
          1.5965755440549678,
          1.391452008259936,
          2.0118182523208556,
          2.181761719204958,
          -1.7890911965322984,
          -1.5015523494415897,
          -2.9363127575937464,
          -4.5133474327853165,
          3.851575413983554,
          -0.25410875342709155,
          -1.341749548807016,
          0.37305677941222604,
          1.455572507147161,
          1.5503039953226334,
          -0.7050296158228518,
          2.670910613955343,
          -2.2943574546292256
         ]
        },
        {
         "hoverinfo": "text",
         "marker": {
          "color": "black",
          "size": 5
         },
         "mode": "markers",
         "text": [
          "Tongue Tied by GROUPLOVE",
          "Ivy by Frank Ocean",
          "Tell Ur Girlfriend by Lay Bankz",
          "Move by Adam Port",
          "redrum by 21 Savage",
          "Desilusão (MTG) (feat. Loirin Prod) by Bruno & Marrone",
          "Electric Feel by MGMT",
          "Get Lucky (Radio Edit) [feat. Pharrell Williams and Nile Rodgers] by Daft Punk",
          "Teenagers by My Chemical Romance",
          "Who by Jimin",
          "Chk Chk Boom by Stray Kids",
          "Ric Flair Drip (with Metro Boomin) by Offset",
          "Iris by The Goo Goo Dolls",
          "Star Shopping by Lil Peep",
          "ADIVINO by Myke Towers",
          "Where Are You Now by Lost Frequencies",
          "Cigarettes out the Window by TV Girl",
          "Minha Herança by Ana Castela",
          "Mrs. Robinson - From \"The Graduate\" Soundtrack by Simon & Garfunkel",
          "goosebumps by Travis Scott",
          "ROCKSTAR by Junior H",
          "Babydoll by Dominic Fike",
          "Give It To Me - Full Vocal Mix by Matt Sassari",
          "No Scrubs by TLC",
          "Timber by Pitbull",
          "HIGHEST IN THE ROOM by Travis Scott",
          "Shut Up and Dance by WALK THE MOON",
          "Unwritten by Natasha Bedingfield",
          "Borro Cassette by Maluma",
          "How You Remind Me by Nickelback",
          "Tití Me Preguntó by Bad Bunny",
          "Heartless (feat. Morgan Wallen) by Diplo",
          "Basket Case by Green Day",
          "28 by Zach Bryan",
          "one of wun by Gunna",
          "Sundress by A$AP Rocky",
          "VINO TINTO by Peso Pluma",
          "Madonna by Natanael Cano",
          "XO (Only If You Say Yes) by ENHYPEN",
          "Lovers Rock by TV Girl",
          "Californication by Red Hot Chili Peppers",
          "My Kind of Woman by Mac DeMarco",
          "Gasolina by Daddy Yankee",
          "SPIDER by GIMS",
          "Lovin On Me by Jack Harlow",
          "EASY by LE SSERAFIM",
          "misses by Dominic Fike",
          "Smeraldo Garden Marching Band (feat. Loco) by Jimin",
          "In The Stars by Benson Boone",
          "Like That by Future",
          "Bleed It Out by Linkin Park",
          "Moscow Mule by Bad Bunny",
          "Back On My BS by BigXthaPlug",
          "The Spins by Mac Miller",
          "KEHLANI by Jordan Adetunji",
          "Apple by Charli xcx",
          "Back On 74 by Jungle",
          "Todo De Ti by Rauw Alejandro",
          "Rockstar by LISA",
          "Time of Our Lives by Pitbull",
          "Dani California by Red Hot Chili Peppers",
          "Where the Wild Things Are by Luke Combs",
          "Slow It Down by Benson Boone",
          "Supernatural by NewJeans",
          "You Get Me So High by The Neighbourhood",
          "Stargazing by Myles Smith",
          "Toxicity by System Of A Down",
          "Silence by Marshmello",
          "Scar Tissue by Red Hot Chili Peppers",
          "Human by Rag'n'Bone Man",
          "SICKO MODE by Travis Scott",
          "greedy by Tate McRae",
          "Whatever She Wants by Bryson Tiller",
          "Lady - Hear Me Tonight by Modjo",
          "One Kiss (with Dua Lipa) by Calvin Harris",
          "Heathens by Twenty One Pilots",
          "I Smoked Away My Brain (I'm God x Demons Mashup) (feat. Imogen Heap & Clams Casino) by A$AP Rocky",
          "Pink Skies by Zach Bryan",
          "Fuck Love by XXXTENTACION",
          "When I Come Around by Green Day",
          "BUTTERFLY EFFECT by Travis Scott",
          "nuts by Lil Peep",
          "Chamber Of Reflection by Mac DeMarco",
          "Shivers by Ed Sheeran",
          "Vienna by Billy Joel",
          "DILUVIO by Rauw Alejandro",
          "How Sweet by NewJeans",
          "Hypnotize - 2014 Remaster by The Notorious B.I.G.",
          "One Step Closer by Linkin Park",
          "Creep by Radiohead",
          "Ride by Twenty One Pilots",
          "I Don't Wanna Wait by David Guetta",
          "I KNOW ? by Travis Scott",
          "Me Porto Bonito by Bad Bunny",
          "APAGA EL CEL by FloyyMenor",
          "My Way by Calvin Harris",
          "El Azul by Junior H",
          "Miles On It by Marshmello",
          "Mmhmm by BigXthaPlug",
          "TiK ToK by Kesha",
          "Nightcrawler (feat. Swae Lee & Chief Keef) by Travis Scott",
          "DJ Got Us Fallin' In Love (feat. Pitbull) by USHER",
          "Hey, Soul Sister by Train",
          "Nasty by Tinashe",
          "Jocelyn Flores by XXXTENTACION",
          "In the End by Linkin Park",
          "Gata Only by FloyyMenor",
          "Dancing In the Dark by Bruce Springsteen",
          "Smalltown Boy by Bronski Beat",
          "Efecto by Bad Bunny",
          "Thank You (Not So Bad) by Dimitri Vegas & Like Mike",
          "For the First Time by Mac DeMarco",
          "Parking Lot by Mustard",
          "MONACO by Bad Bunny",
          "Sticky by KISS OF LIFE",
          "Snow (Hey Oh) by Red Hot Chili Peppers",
          "More Than a Feeling by Boston",
          "Outside (feat. Ellie Goulding) by Calvin Harris",
          "Never Let Go by Jung Kook",
          "Belong Together by Mark Ambor",
          "This Is What You Came For by Calvin Harris",
          "Take Me Out by Franz Ferdinand",
          "Give Me Everything (feat. Nayer) by Pitbull",
          "Temperature by Sean Paul",
          "NIGHTS LIKE THIS by The Kid LAROI",
          "Can't Stop by Red Hot Chili Peppers",
          "Shut up My Moms Calling by Hotel Ugly",
          "Sun to Me by Zach Bryan",
          "A Bar Song (Tipsy) by Shaboozey",
          "A Mí by Rels B",
          "September by Earth, Wind & Fire",
          "360 by Charli xcx",
          "Deu Moral - Ao Vivo by Zé Neto & Cristiano",
          "Blame (feat. John Newman) by Calvin Harris",
          "Toxic by Britney Spears",
          "Easy On Me by Adele",
          "CRAZYZ by Fuerza Regida",
          "I'm Good (Blue) by David Guetta",
          "Snooze by SZA",
          "Heading South by Zach Bryan",
          "Too Sweet by Hozier",
          "BEST INTEREST by Tyler, The Creator",
          "Yeah! (feat. Lil Jon & Ludacris) by USHER",
          "Do I Wanna Know? by Arctic Monkeys",
          "Baby Don't Hurt Me by David Guetta",
          "My Love Mine All Mine by Mitski",
          "Something About You by Eyedress",
          "Super Shy by NewJeans",
          "That's What I Like by Bruno Mars",
          "Morar Nesse Motel by Gusttavo Lima",
          "Closer Than This by Jimin",
          "Better Days (feat. John Mayer) by Zach Bryan",
          "Seven (feat. Latto) (Explicit Ver.) by Jung Kook",
          "Santa by Rvssian",
          "Happier by Marshmello",
          "Ojitos Lindos by Bad Bunny",
          "PERRO NEGRO by Bad Bunny",
          "REAL GANGSTA LOVE by Trueno",
          "Carry You Home by Alex Warren",
          "Back In Black by AC/DC",
          "Sunroof by Nicky Youre",
          "Something in the Orange by Zach Bryan",
          "FE!N (feat. Playboi Carti) by Travis Scott",
          "Why'd You Only Call Me When You're High? by Arctic Monkeys",
          "Should I Stay or Should I Go - Remastered by The Clash",
          "Me Caiu Tão Bem - Ao Vivo by Murilo Huff",
          "Triplex - Ao Vivo by Matheus Fernandes",
          "Feel Good Inc. by Gorillaz",
          "Don't by Bryson Tiller",
          "Chop Suey! by System Of A Down",
          "Highway to Hell by AC/DC",
          "Budapest by George Ezra",
          "Softcore by The Neighbourhood",
          "LADY GAGA by Peso Pluma",
          "I Want to Know What Love Is - 1999 Remaster by Foreigner",
          "End of Beginning by Djo",
          "Seven Nation Army by The White Stripes",
          "LA FALDA by Myke Towers",
          "2055 by Sleepy Hallow",
          "Under the Bridge by Red Hot Chili Peppers",
          "MAMIII by Becky G",
          "LALA by Myke Towers",
          "Revenge by XXXTENTACION",
          "La Grange (2005 Remaster) by ZZ Top",
          "Standing Next to You by Jung Kook",
          "GTA by Luis R Conriquez",
          "La Víctima by Xavi",
          "Gangsta's Paradise by Coolio",
          "The Color Violet by Tory Lanez",
          "How Deep Is Your Love by Calvin Harris",
          "Otherside by Red Hot Chili Peppers",
          "La Diabla by Xavi",
          "Lost in the Fire (feat. The Weeknd) by Gesaffelstein",
          "Look At Me! by XXXTENTACION",
          "Un Desperdicio by Rels B",
          "Uptown Funk (feat. Bruno Mars) by Mark Ronson",
          "She Got the Best of Me by Luke Combs",
          "Like Crazy by Jimin",
          "Uptown Girl by Billy Joel",
          "GIRLS by The Kid LAROI",
          "you look like you love me (feat. Riley Green) by Ella Langley",
          "Ain't No Sunshine by Bill Withers",
          "Si No Quieres No by Luis R Conriquez",
          "Según Quién by Maluma",
          "Drops of Jupiter (Tell Me) by Train",
          "Numb by Linkin Park",
          "Riptide by Vance Joy",
          "Desesperados by Rauw Alejandro",
          "Ain't No Love In Oklahoma (From Twisters: The Album) by Luke Combs",
          "I Wanna Be Yours by Arctic Monkeys",
          "Linger - SiriusXM Session by Royel Otis",
          "Alibi (with Pabllo Vittar & Yseult) by Sevdaliza",
          "I Love You So by The Walters",
          "Ride It by Regard",
          "Smooth Operator - Single Version by Sade",
          "Oklahoma Smokeshow by Zach Bryan",
          "i was all over her by salvia palth",
          "Apocalypse by Cigarettes After Sex",
          "Killing In The Name by Rage Against The Machine",
          "Saturn by SZA",
          "I Love Rock 'N Roll by Joan Jett & the Blackhearts",
          "Cúrame by Rauw Alejandro",
          "LA PATRULLA by Peso Pluma",
          "We Ride by Bryan Martin",
          "Y LLORO by Junior H",
          "offline by Young Miko",
          "Nine Ball by Zach Bryan",
          "Knockin' On Heaven's Door by Bob Dylan",
          "Atlantis by Seafret",
          "ABCD by NAYEON",
          "Be Mine by Jimin",
          "Listen to the Music by The Doobie Brothers",
          "Deep Down (feat. Never Dull) by Alok",
          "High Road (feat. Jessie Murph) by Koe Wetzel",
          "LOKERA by Rauw Alejandro",
          "Ride Or Die, Pt. 2 (with Villano Antillano & Tokischa) by Sevdaliza",
          "we fell in love in october by girl in red",
          "There Is a Light That Never Goes Out - 2011 Remaster by The Smiths",
          "Running Up That Hill (A Deal With God) by Kate Bush",
          "Magnetic by ILLIT",
          "Brazil by Declan McKenna",
          "Rich Girl by Daryl Hall & John Oates",
          "Locked out of Heaven by Bruno Mars",
          "ceilings by Lizzy McAlpine",
          "TÚ NAME by Fuerza Regida",
          "Jealous by Eyedress",
          "Fast Car by Luke Combs",
          "Not Allowed by TV Girl",
          "Whatever by Kygo",
          "Beer Never Broke My Heart by Luke Combs",
          "Evergreen by Richy Mitch & The Coal Miners",
          "Take Me to Church by Hozier",
          "Aerials by System Of A Down",
          "Sunsetz by Cigarettes After Sex",
          "Show Me How by Men I Trust",
          "Dreams - 2004 Remaster by Fleetwood Mac",
          "Your Love by The Outfield",
          "Je te laisserai des mots by Patrick Watson",
          "Duality by Slipknot",
          "Hey Driver (feat. The War and Treaty) by Zach Bryan",
          "As It Was by Harry Styles",
          "(Sittin' On) the Dock of the Bay by Otis Redding",
          "If I Ain't Got You by Alicia Keys",
          "K. by Cigarettes After Sex",
          "Mirame by Blessd",
          "Falling Down - Bonus Track by Lil Peep",
          "R U Mine? by Arctic Monkeys",
          "American Nights by Zach Bryan",
          "Perfect Night by LE SSERAFIM",
          "Lovely Day by Bill Withers",
          "Romantic Lover by Eyedress",
          "Sweet by Cigarettes After Sex",
          "Stressed Out by Twenty One Pilots",
          "Que Onda by Calle 24",
          "Spotless (feat. The Lumineers) by Zach Bryan",
          "Good Looking by Suki Waterhouse",
          "Pumped Up Kicks by Foster The People",
          "Rude by MAGIC!",
          "Cigarette Daydreams by Cage The Elephant",
          "All Your'n by Tyler Childers",
          "Lush Life by Zara Larsson",
          "El Merengue by Marshmello",
          "Everybody Dies In Their Nightmares by XXXTENTACION",
          "Beautiful Crazy by Luke Combs",
          "Beautiful Things by Benson Boone",
          "How to Save a Life by The Fray",
          "Deja Vu by TOMORROW X TOGETHER",
          "Blue Hair by TV Girl",
          "Burn, Burn, Burn by Zach Bryan",
          "Cry by Cigarettes After Sex",
          "Porch Light by Josh Meloy",
          "MOJABI GHOST by Tainy",
          "Freaks by Surf Curse",
          "Brown Eyed Girl by Van Morrison",
          "When It Rains It Pours by Luke Combs",
          "La Bebe - Remix by Yng Lvcas",
          "Daddy Issues by The Neighbourhood",
          "Oh, Pretty Woman by Roy Orbison",
          "La Bachata by Manuel Turizo",
          "POR EL CONTRARIO (with Angela Aguilar & Leonardo Aguilar) by Becky G",
          "You Shook Me All Night Long by AC/DC",
          "Dedo do Meio - Ao Vivo by Murilo Huff",
          "i am not who i was by Chance Peña",
          "Feel So Close - Radio Edit by Calvin Harris",
          "Skyfall by Adele",
          "Just the Way You Are by Bruno Mars",
          "All of Me by John Legend",
          "fukumean by Gunna",
          "death bed (coffee for your head) by Powfu",
          "Morena De Goiânia - Ao Vivo by Hugo & Guilherme",
          "Tiroteo - Remix by Marc Seguí",
          "Take on Me by a-ha",
          "Don't Stop Believin' (2022 Remaster) by Journey",
          "See You Again (feat. Kali Uchis) by Tyler, The Creator",
          "Summer by Calvin Harris",
          "Everlong by Foo Fighters",
          "White Ferrari by Frank Ocean",
          "Type Shit by Future",
          "Haverá Sinais - Ao Vivo by Jorge & Mateus",
          "Primera Cita by Carin Leon",
          "Sweet Dreams (Are Made of This) - Remastered by Eurythmics",
          "Another Love by Tom Odell",
          "Dancing in the Moonlight by Toploader",
          "I Remember Everything (feat. Kacey Musgraves) by Zach Bryan",
          "Dust in the Wind by Kansas",
          "Foi Intenso - Ao Vivo by Zé Neto & Cristiano",
          "From The Start by Laufey",
          "Sweater Weather by The Neighbourhood",
          "Corazón de Piedra by Xavi",
          "Valerie (feat. Amy Winehouse) - Version Revisited by Mark Ronson",
          "What I've Done by Linkin Park",
          "T.N.T. by AC/DC",
          "SANTAL 33 by Peso Pluma",
          "EU SOU SENTIMENTO by Luan Santana",
          "HARLEY QUINN by Fuerza Regida",
          "HOLLYWOOD by Peso Pluma",
          "Hold the Line by TOTO",
          "JOYRIDE by Kesha",
          "Like a Stone by Audioslave",
          "Wild Ones (feat. Jelly Roll) by Jessie Murph",
          "Pink + White by Frank Ocean",
          "I Wanna Dance with Somebody (Who Loves Me) by Whitney Houston",
          "Hips Don't Lie (feat. Wyclef Jean) by Shakira",
          "Forever Young by Alphaville",
          "Thunderstruck by AC/DC",
          "RELOJ by Peso Pluma",
          "UNA CERVEZA by Fuerza Regida",
          "Nothing's Gonna Stop Us Now by Starship",
          "Faint by Linkin Park"
         ],
         "type": "scatter",
         "x": [
          -2.9321826856458877,
          0.5760706972816076,
          2.566246349549039,
          1.9588350621904291,
          1.4176524716812473,
          3.0433076690212544,
          -1.83611920817738,
          1.094605566702832,
          -4.9740324384991,
          1.6977250488981563,
          1.4149256283355551,
          1.2682213692882378,
          -4.945299972980983,
          -0.9928649566991622,
          1.988291860109418,
          0.05736128352612946,
          -0.9119338822742964,
          3.1354051663117244,
          -0.8954759597048922,
          1.8238377271356243,
          0.42424343911683365,
          1.1438095295172876,
          0.024964390980884356,
          1.2873299978363297,
          -0.38778056290663265,
          0.8601824314532559,
          -3.398037172538169,
          1.1288905176592938,
          2.5321669309055443,
          -2.251056397155104,
          2.740317701056008,
          1.9732711457500598,
          -3.914407098590686,
          -2.03014517528214,
          2.664618533450137,
          1.0544005996824402,
          1.674937364908425,
          1.5542717520564444,
          2.2954297969993473,
          -1.4027780294811585,
          -2.3866045667052656,
          -3.265639464839916,
          2.6653876860161687,
          2.4817823004251913,
          1.7722682791830096,
          3.782751428360649,
          1.0095209589419831,
          1.0502403445358695,
          -0.6910210499512642,
          2.138801273280891,
          -1.849435487786723,
          4.166058915266234,
          1.4911881936661016,
          1.8084631350805218,
          2.961609146335287,
          0.7164305047984987,
          -0.31496212861771605,
          2.9450431563478934,
          1.6148134536801186,
          -0.8592619418347432,
          -0.7438711673556123,
          -4.110712782467134,
          2.7928863569147793,
          1.5117725637059345,
          -0.06178471917890936,
          -0.7077922155390783,
          -0.41986976208705806,
          -2.29621148983654,
          -0.5717136694402205,
          -1.557199093818476,
          2.655759866549868,
          2.34717672226633,
          2.3219287123097376,
          -0.9377371427491333,
          3.9312243597957623,
          1.8431298456240282,
          -1.3018327830312204,
          -1.0343485798903573,
          2.6663849020214743,
          -4.159673809234123,
          0.45293900503819695,
          -0.3924910013999059,
          -2.193654112534889,
          1.962349990949106,
          0.45454483182848415,
          3.506034770181958,
          2.16417285634489,
          1.4742530287555498,
          -4.44389071997985,
          -4.850744549184983,
          -1.3526829969156455,
          0.14189940277336432,
          0.8025693648653313,
          5.4903245114221795,
          3.2177253017122864,
          0.9302257662677742,
          3.228112851723263,
          -0.9329010710743938,
          3.1584219024049136,
          0.3872513624019234,
          -2.4979526760300543,
          -2.398269950260444,
          0.4644391674424353,
          2.6029644427772425,
          2.0276790440613803,
          -3.4408465902104233,
          -0.7632444596824183,
          -0.8032239637624512,
          1.6065198978080926,
          2.699785642476268,
          -2.6415392709360397,
          -0.701526129681942,
          1.932772692255822,
          2.9623299916785486,
          -1.4161985642754291,
          -1.1884596522062523,
          -3.365453177271609,
          -3.7466752483066696,
          2.813026133515027,
          -0.08191260795771305,
          1.5488546590454373,
          -2.249704508644373,
          0.7153071798694042,
          2.7748642719846712,
          -1.8119248028506054,
          -0.6824580831711876,
          1.5247443913866776,
          2.0399479823972655,
          0.903143156406619,
          0.6099298895887016,
          0.17394691053041783,
          1.7189539615466292,
          0.9974866117055675,
          -4.150329962317475,
          1.2724218155450653,
          3.673708572990942,
          1.9328127029258044,
          -1.5724458253783398,
          4.254462964639874,
          1.51095285381988,
          -0.21214012587087833,
          -1.3918894977619034,
          2.0672500054824363,
          -2.0246152896819645,
          -2.6734601404275664,
          -1.3817411620175533,
          -1.4713003058365828,
          5.090297806832167,
          1.2422610509061807,
          2.5360232747218947,
          0.10597773674349259,
          -0.11749068623763433,
          3.1410738527741304,
          3.3462672208049127,
          0.07920148271880939,
          2.2955695428075287,
          4.361733603447073,
          2.7738442330414275,
          -0.33103755772454235,
          -3.331612727411979,
          1.419677715641403,
          0.560742157879505,
          -1.0403189338526937,
          -2.277911738612096,
          0.18171760935053702,
          -0.8277819717065915,
          0.996195292976523,
          -1.5044931679505533,
          3.294276527198805,
          -3.955631099435867,
          -3.961523030667612,
          1.2951482477336254,
          -1.3729142843890905,
          2.4819413540200093,
          -3.0200243875813966,
          -3.0794674242867774,
          -3.0455091450843623,
          3.0788773633904283,
          1.6326608049839757,
          -3.2102605476261785,
          3.6119089571438883,
          2.9138334981619227,
          1.387570743881199,
          -0.263905577687798,
          -2.9149397934969263,
          1.8488802396613864,
          2.391916521432959,
          -0.8705604360492833,
          2.410496723325149,
          -1.1478022001441193,
          -1.7174173197681166,
          1.4573947281928652,
          1.0178582934773601,
          1.0596358382319315,
          1.544565303811543,
          -1.254581377143773,
          -1.4149750770305225,
          -0.8576873209861441,
          -2.336204679056173,
          0.16743052515502277,
          0.8425416920896841,
          -2.822305601789315,
          3.167298750150047,
          1.5383089803670693,
          0.45223224887632857,
          -5.12431461131424,
          2.596417677537498,
          4.208206044922102,
          -4.202972895249319,
          -3.67360716642388,
          0.9236816713219388,
          -0.3360735885221897,
          -0.512134682522722,
          1.1478360417820246,
          0.13987546654069757,
          -1.77928651237132,
          -1.929828508857406,
          -1.717935545729632,
          -3.2602356973398186,
          1.860544132254774,
          -2.6017175902484317,
          2.507906685440021,
          1.762184803001995,
          -2.612666095289907,
          2.0958679273141736,
          2.667811816144479,
          0.94434734817272,
          -1.4982705003638999,
          -4.398834606129017,
          -0.49162904984959654,
          3.3921401493056953,
          -0.6220647690752332,
          1.71957817340077,
          -4.697224789335098,
          3.5057404685842974,
          3.3196117143622677,
          -2.2218207944607307,
          -2.3010256980938024,
          -0.37126306614570964,
          3.1869995339811683,
          0.5568273617154634,
          0.9251700715395604,
          -2.074319572762497,
          -0.12098179752060575,
          2.3046002693892036,
          -3.634663188835906,
          -0.8493420629510888,
          -2.028590214254061,
          -0.02630776744248145,
          -1.5803521143439054,
          -0.923241726674248,
          0.5575298692603219,
          -3.4799342101448665,
          -3.3148025142732522,
          -1.1292842557595701,
          -0.6107176216257804,
          -3.6084719919143025,
          0.7252256630475388,
          -2.969777037305914,
          1.2446646454049164,
          -0.3696816845982457,
          0.7010099064176682,
          1.7542987303773565,
          -2.6056539559439975,
          3.746125491695512,
          -2.280160016953302,
          -3.5148062597696197,
          -2.3580574088219257,
          2.3901381020856745,
          -1.961324546553655,
          -1.1792721302036384,
          -3.50274334293988,
          0.4312971516406104,
          2.5416313357846083,
          0.8260945232132789,
          -4.860658348707087,
          -0.8878152767533727,
          0.6269612400743249,
          -0.2134363670007169,
          -0.7902716017128901,
          1.362029182702649,
          1.570888205327156,
          2.2686001541543552,
          -1.7609618215991305,
          -0.060247779968403976,
          -0.6096040848124209,
          -0.2404530476402417,
          -1.9718628888829999,
          2.396359882019541,
          -2.615261129989037,
          0.7878744569451513,
          0.10983177485600054,
          -2.5008488680864662,
          -0.8123855066483375,
          -2.1322318641751132,
          3.553868199524105,
          -1.4411685992738055,
          0.013457501940749406,
          2.524431750341534,
          -0.652246727180282,
          -3.6698304993861295,
          0.296116554060636,
          2.4613252364062284,
          -2.2037305639624867,
          -5.493150623638803,
          0.16345749898164047,
          3.1967891300472537,
          2.3888685455582856,
          0.6680177999435924,
          1.9435237476620693,
          -1.5523875963574678,
          -1.8797522353581737,
          -0.8411403764068954,
          -0.7756217425886176,
          -4.743246588594648,
          -5.085615662176668,
          1.8942934811016234,
          -2.678200477259799,
          0.7695291019459762,
          1.0094532800973894,
          -1.7425172527437922,
          0.3360276369411376,
          -0.03880526825760015,
          1.8345587650210835,
          -2.0282883233134035,
          0.39165300889498733,
          2.5204347841403174,
          -1.909800351005937,
          2.1962533992341644,
          1.252189704044016,
          -4.957802718824107,
          0.6602509623270447,
          -0.210810984815706,
          1.5316291052665427,
          1.2450815818730245,
          0.8798509083439424,
          -5.833283497720459,
          -0.17681072023884192,
          -1.8840639329826956,
          -0.34619186624691595,
          -1.776980547446482,
          0.5047514531129036,
          -0.35103572608012323,
          -2.362749144983009,
          -2.686227093957162,
          0.04850191423758747,
          1.8895751169113262,
          -1.6207308258641688,
          -3.4547917394632592
         ],
         "y": [
          0.01551818848892549,
          -1.7717328297085793,
          1.5164219124866432,
          0.4404844668910933,
          1.8885740466330951,
          0.7037830837152346,
          -0.49829921865137994,
          0.24611225052829286,
          2.9075989092036263,
          1.2154130871224822,
          3.4897888822652305,
          1.4009092467522557,
          1.4041484588424797,
          1.9065731501105547,
          1.156939412471176,
          1.0482069907982916,
          0.8149577807989671,
          -3.2889134579121806,
          0.23868573628141712,
          1.6206223940178963,
          -0.4858276100885469,
          1.4044998023846829,
          2.5924756422054624,
          -0.1921383629828924,
          2.811445791863124,
          0.9273537963605025,
          3.2324689374084996,
          -0.3257309173167456,
          1.0481659449179253,
          3.136347106173612,
          1.3580213149331046,
          1.0693119082097529,
          2.9845433364919014,
          -1.354856745435644,
          1.2300903650778945,
          2.523385056648791,
          0.12776479690321565,
          0.8304620287841591,
          2.0327384945996343,
          1.3330852117570144,
          0.3182657088078903,
          -0.7815097620884804,
          1.4259295681273445,
          2.2258070182250496,
          2.6220329257026362,
          0.4699299881528519,
          -1.36552606634342,
          1.9336109074541126,
          -0.6309472181435445,
          1.9074523975305446,
          1.8321749400560197,
          0.8602496099146676,
          2.6016931216843373,
          2.135425357499055,
          -0.1075070852447642,
          -0.406578478711081,
          -1.056374729024158,
          -0.2779309220449549,
          1.663770846327606,
          3.056111689646522,
          0.8597284045517121,
          -2.0223014689062238,
          0.8264649850278522,
          -0.33810096540767426,
          1.700359074969902,
          0.944102015218691,
          2.290221063905848,
          -0.507899987402077,
          -0.08988993398177762,
          0.758059746408008,
          2.0832607071772977,
          0.6665865073366355,
          -0.2921379625607134,
          0.05868177503637754,
          0.5050603028554999,
          0.6208148861257113,
          3.594819808768624,
          -0.8706700048906567,
          0.767175348618231,
          0.12943998792765601,
          1.059879070302747,
          0.16159372446418746,
          -3.3918458179221855,
          1.894842272639637,
          -0.2705483503785446,
          -0.10650014787987588,
          1.23148602359378,
          2.444022136163274,
          4.382750736788652,
          3.9060587880774555,
          1.4152189341971733,
          2.0963725345553232,
          1.8132250343996907,
          0.2640953056348807,
          -0.7299968800760608,
          0.9468240664398542,
          -1.9141674100800605,
          1.9635758218215027,
          2.8380592415718144,
          3.1788873293736373,
          3.5718581229799367,
          3.0433118730319344,
          -1.1995885758759472,
          -0.041945877722634244,
          1.4628578771799374,
          3.214169472032987,
          -0.41683124984066316,
          0.7181410260104454,
          -3.0201691241993194,
          1.149133358265705,
          0.7211184105901607,
          -1.4034684692922108,
          0.6576068623988712,
          0.9139911786944958,
          -0.633675575763699,
          0.3630361697829047,
          0.9617366235312905,
          -1.597505173466986,
          0.7349382338866098,
          -1.2595518414363214,
          -0.6839747654147899,
          1.0973497985600105,
          0.5920490864371705,
          1.9078054093550973,
          1.194541233665462,
          2.620862195014699,
          -0.9930519198885656,
          -0.19394712775151868,
          -0.0852882077666306,
          1.923834423657955,
          -2.726040234055483,
          -0.18148760595028568,
          0.2865570174136737,
          1.285603545412285,
          0.5202542542339841,
          -2.578567265732172,
          -0.741793491716067,
          -0.9325726961742773,
          -2.3391884454853784,
          -1.751286229000859,
          0.536080541090064,
          -2.222507628172027,
          0.9570930996170821,
          -1.1005571854558038,
          0.02748964404551516,
          -3.122441299212644,
          -0.7385893513534685,
          0.783738614164007,
          1.8564164494178583,
          -1.4772218108922994,
          1.9275391835810507,
          -1.9343210561565165,
          1.7174285338839401,
          1.3960539640108531,
          0.9239620897336773,
          1.0884004686847557,
          0.15141607972897947,
          0.8245403685952135,
          1.4537035355329198,
          1.0019296501727306,
          -0.5218110430281225,
          -4.969627805069994,
          1.6970329695588202,
          -0.16452322539060302,
          0.9126041196933838,
          0.7007456548112595,
          -0.4059463597376781,
          0.3075013697252124,
          2.5542538992784016,
          3.1386039307971676,
          0.426566517386326,
          0.0635430831387024,
          0.12736744894182933,
          -2.330068126566342,
          -2.5505405769272667,
          -2.7699558273833578,
          3.5305271414852553,
          1.0180134408932624,
          0.4641513842605191,
          0.6908266997529436,
          -0.23759963550584176,
          0.09593296480049636,
          -0.2820309888016993,
          -0.5502450388933526,
          2.7489244078511037,
          -1.5268660775303067,
          -1.3555822752165267,
          -1.0574270702587678,
          0.13924775428509759,
          -0.268632402553209,
          0.17864867173471982,
          -2.204639878188554,
          0.16585064823995643,
          2.3934942135218487,
          0.25613745337093413,
          -0.11540305109857765,
          -0.9174680795161565,
          1.3989081129588845,
          1.1576262843986211,
          1.308587057224689,
          -2.316122810538461,
          -4.279537600109976,
          -1.1192833115621221,
          0.0346430924210418,
          -2.7138849720021643,
          3.265916717084556,
          -3.4138929873440502,
          -0.8760516121244563,
          -0.31609887175607704,
          -1.3081487830606324,
          -3.381789511942917,
          0.016345871127629155,
          -2.3455022800258085,
          2.6286434131886796,
          -1.7241823984256182,
          -2.1206704847648936,
          -3.538063459388967,
          -2.764785135291814,
          3.127193856963377,
          -3.3093856740510312,
          1.6321362179143573,
          0.42919683339506143,
          -0.4266519320964519,
          -0.45059101231058,
          -2.440807873965905,
          0.7978624738064007,
          -1.2796791103145442,
          -2.9292197340933095,
          -1.6406451547875005,
          1.489952318714813,
          1.1414656525081266,
          -3.0666354914371268,
          0.2156398586536431,
          0.3587571236756259,
          1.945717224943108,
          1.4414656535527897,
          -3.525207679552974,
          -2.0534500434967446,
          -0.8528111292514098,
          0.3386778084574456,
          -1.9679439287424627,
          -2.327420324998974,
          2.2279244679441135,
          -1.8899380610356804,
          -0.5972585511454402,
          -1.649631247719589,
          -1.1398999200533326,
          -0.894038154286325,
          -0.8253649775196018,
          1.1377337668544845,
          -1.7863351072729512,
          -2.6015706120074205,
          1.9019466889669883,
          -4.357305483352065,
          -3.207859615814592,
          -1.0117334453509392,
          -2.381958400161752,
          -5.685679132333534,
          3.2410134454343726,
          -1.8142630800283261,
          0.334902916069655,
          -2.562691585409039,
          -1.2994586994274282,
          -3.2002083428859085,
          0.40638727737955893,
          -0.018336299834983222,
          3.0651244532907946,
          -1.3116818305708267,
          0.2485083879982061,
          -1.5754284368934588,
          -1.9898970178183946,
          -4.982964111416576,
          -0.28877271586824615,
          -0.5982167725047255,
          2.664225162467947,
          -3.657557650915385,
          -1.9630075880169637,
          0.46332907114615024,
          -0.5364874728930735,
          -3.1284176366439262,
          1.1990799579209857,
          -0.375573042182653,
          1.4050603470467644,
          -1.4136513669069515,
          -0.9532166799466071,
          -0.4297687567247397,
          1.239272481058844,
          -0.9998289759684724,
          -1.230667900456514,
          -1.3469605508659155,
          -1.2153094316395086,
          1.957566294797127,
          1.5330655654847614,
          -0.35351538157751894,
          -0.10943292755798803,
          1.1740275122466977,
          -0.21997790227316724,
          -1.776603358267647,
          -0.3360566746819568,
          -1.6955014415140088,
          0.5208289661831808,
          -0.34554930123776356,
          -3.1714330575157925,
          0.35265295796117824,
          -2.0177915334183743,
          -2.0631261748823584,
          -2.3455066972192906,
          1.8490183438799874,
          1.5019475011512864,
          -1.529417110138199,
          -0.5760778345957027,
          -1.5758282049000993,
          -0.9238368928927914,
          -0.5537944151198034,
          -0.10521094673499941,
          2.2586932672570246,
          -3.983806786188651,
          -0.6178600442882863,
          -0.8741096945482251,
          -1.2590457617465913,
          -1.551416192848318,
          -1.9181224237635464,
          -0.060671467353103185,
          -2.6068369724809197,
          -5.28937231813258,
          0.09259657079048922,
          -0.18473436018860248,
          0.14307702738216735,
          -1.8419186928705837,
          -1.9060805416717201,
          1.9747381349997328,
          1.1979134420981623,
          1.053914429686825,
          -0.14281683603320447,
          1.4258497305238078,
          0.07423643963506363,
          1.5139124913014137,
          3.071200699861178,
          1.9160278580849752,
          -1.00288579795139,
          -3.0486355200845345,
          -1.618481430067093,
          0.20814586858959497,
          -3.9913046626414124,
          1.778333530386391,
          -0.13003691915028057,
          0.6081833046516292,
          -0.7552442226198235,
          1.7966011184411266
         ]
        }
       ],
       "layout": {
        "height": 800,
        "plot_bgcolor": "rgba(0,0,0,0)",
        "showlegend": false,
        "template": {
         "data": {
          "bar": [
           {
            "error_x": {
             "color": "#2a3f5f"
            },
            "error_y": {
             "color": "#2a3f5f"
            },
            "marker": {
             "line": {
              "color": "#E5ECF6",
              "width": 0.5
             },
             "pattern": {
              "fillmode": "overlay",
              "size": 10,
              "solidity": 0.2
             }
            },
            "type": "bar"
           }
          ],
          "barpolar": [
           {
            "marker": {
             "line": {
              "color": "#E5ECF6",
              "width": 0.5
             },
             "pattern": {
              "fillmode": "overlay",
              "size": 10,
              "solidity": 0.2
             }
            },
            "type": "barpolar"
           }
          ],
          "carpet": [
           {
            "aaxis": {
             "endlinecolor": "#2a3f5f",
             "gridcolor": "white",
             "linecolor": "white",
             "minorgridcolor": "white",
             "startlinecolor": "#2a3f5f"
            },
            "baxis": {
             "endlinecolor": "#2a3f5f",
             "gridcolor": "white",
             "linecolor": "white",
             "minorgridcolor": "white",
             "startlinecolor": "#2a3f5f"
            },
            "type": "carpet"
           }
          ],
          "choropleth": [
           {
            "colorbar": {
             "outlinewidth": 0,
             "ticks": ""
            },
            "type": "choropleth"
           }
          ],
          "contour": [
           {
            "colorbar": {
             "outlinewidth": 0,
             "ticks": ""
            },
            "colorscale": [
             [
              0,
              "#0d0887"
             ],
             [
              0.1111111111111111,
              "#46039f"
             ],
             [
              0.2222222222222222,
              "#7201a8"
             ],
             [
              0.3333333333333333,
              "#9c179e"
             ],
             [
              0.4444444444444444,
              "#bd3786"
             ],
             [
              0.5555555555555556,
              "#d8576b"
             ],
             [
              0.6666666666666666,
              "#ed7953"
             ],
             [
              0.7777777777777778,
              "#fb9f3a"
             ],
             [
              0.8888888888888888,
              "#fdca26"
             ],
             [
              1,
              "#f0f921"
             ]
            ],
            "type": "contour"
           }
          ],
          "contourcarpet": [
           {
            "colorbar": {
             "outlinewidth": 0,
             "ticks": ""
            },
            "type": "contourcarpet"
           }
          ],
          "heatmap": [
           {
            "colorbar": {
             "outlinewidth": 0,
             "ticks": ""
            },
            "colorscale": [
             [
              0,
              "#0d0887"
             ],
             [
              0.1111111111111111,
              "#46039f"
             ],
             [
              0.2222222222222222,
              "#7201a8"
             ],
             [
              0.3333333333333333,
              "#9c179e"
             ],
             [
              0.4444444444444444,
              "#bd3786"
             ],
             [
              0.5555555555555556,
              "#d8576b"
             ],
             [
              0.6666666666666666,
              "#ed7953"
             ],
             [
              0.7777777777777778,
              "#fb9f3a"
             ],
             [
              0.8888888888888888,
              "#fdca26"
             ],
             [
              1,
              "#f0f921"
             ]
            ],
            "type": "heatmap"
           }
          ],
          "heatmapgl": [
           {
            "colorbar": {
             "outlinewidth": 0,
             "ticks": ""
            },
            "colorscale": [
             [
              0,
              "#0d0887"
             ],
             [
              0.1111111111111111,
              "#46039f"
             ],
             [
              0.2222222222222222,
              "#7201a8"
             ],
             [
              0.3333333333333333,
              "#9c179e"
             ],
             [
              0.4444444444444444,
              "#bd3786"
             ],
             [
              0.5555555555555556,
              "#d8576b"
             ],
             [
              0.6666666666666666,
              "#ed7953"
             ],
             [
              0.7777777777777778,
              "#fb9f3a"
             ],
             [
              0.8888888888888888,
              "#fdca26"
             ],
             [
              1,
              "#f0f921"
             ]
            ],
            "type": "heatmapgl"
           }
          ],
          "histogram": [
           {
            "marker": {
             "pattern": {
              "fillmode": "overlay",
              "size": 10,
              "solidity": 0.2
             }
            },
            "type": "histogram"
           }
          ],
          "histogram2d": [
           {
            "colorbar": {
             "outlinewidth": 0,
             "ticks": ""
            },
            "colorscale": [
             [
              0,
              "#0d0887"
             ],
             [
              0.1111111111111111,
              "#46039f"
             ],
             [
              0.2222222222222222,
              "#7201a8"
             ],
             [
              0.3333333333333333,
              "#9c179e"
             ],
             [
              0.4444444444444444,
              "#bd3786"
             ],
             [
              0.5555555555555556,
              "#d8576b"
             ],
             [
              0.6666666666666666,
              "#ed7953"
             ],
             [
              0.7777777777777778,
              "#fb9f3a"
             ],
             [
              0.8888888888888888,
              "#fdca26"
             ],
             [
              1,
              "#f0f921"
             ]
            ],
            "type": "histogram2d"
           }
          ],
          "histogram2dcontour": [
           {
            "colorbar": {
             "outlinewidth": 0,
             "ticks": ""
            },
            "colorscale": [
             [
              0,
              "#0d0887"
             ],
             [
              0.1111111111111111,
              "#46039f"
             ],
             [
              0.2222222222222222,
              "#7201a8"
             ],
             [
              0.3333333333333333,
              "#9c179e"
             ],
             [
              0.4444444444444444,
              "#bd3786"
             ],
             [
              0.5555555555555556,
              "#d8576b"
             ],
             [
              0.6666666666666666,
              "#ed7953"
             ],
             [
              0.7777777777777778,
              "#fb9f3a"
             ],
             [
              0.8888888888888888,
              "#fdca26"
             ],
             [
              1,
              "#f0f921"
             ]
            ],
            "type": "histogram2dcontour"
           }
          ],
          "mesh3d": [
           {
            "colorbar": {
             "outlinewidth": 0,
             "ticks": ""
            },
            "type": "mesh3d"
           }
          ],
          "parcoords": [
           {
            "line": {
             "colorbar": {
              "outlinewidth": 0,
              "ticks": ""
             }
            },
            "type": "parcoords"
           }
          ],
          "pie": [
           {
            "automargin": true,
            "type": "pie"
           }
          ],
          "scatter": [
           {
            "fillpattern": {
             "fillmode": "overlay",
             "size": 10,
             "solidity": 0.2
            },
            "type": "scatter"
           }
          ],
          "scatter3d": [
           {
            "line": {
             "colorbar": {
              "outlinewidth": 0,
              "ticks": ""
             }
            },
            "marker": {
             "colorbar": {
              "outlinewidth": 0,
              "ticks": ""
             }
            },
            "type": "scatter3d"
           }
          ],
          "scattercarpet": [
           {
            "marker": {
             "colorbar": {
              "outlinewidth": 0,
              "ticks": ""
             }
            },
            "type": "scattercarpet"
           }
          ],
          "scattergeo": [
           {
            "marker": {
             "colorbar": {
              "outlinewidth": 0,
              "ticks": ""
             }
            },
            "type": "scattergeo"
           }
          ],
          "scattergl": [
           {
            "marker": {
             "colorbar": {
              "outlinewidth": 0,
              "ticks": ""
             }
            },
            "type": "scattergl"
           }
          ],
          "scattermapbox": [
           {
            "marker": {
             "colorbar": {
              "outlinewidth": 0,
              "ticks": ""
             }
            },
            "type": "scattermapbox"
           }
          ],
          "scatterpolar": [
           {
            "marker": {
             "colorbar": {
              "outlinewidth": 0,
              "ticks": ""
             }
            },
            "type": "scatterpolar"
           }
          ],
          "scatterpolargl": [
           {
            "marker": {
             "colorbar": {
              "outlinewidth": 0,
              "ticks": ""
             }
            },
            "type": "scatterpolargl"
           }
          ],
          "scatterternary": [
           {
            "marker": {
             "colorbar": {
              "outlinewidth": 0,
              "ticks": ""
             }
            },
            "type": "scatterternary"
           }
          ],
          "surface": [
           {
            "colorbar": {
             "outlinewidth": 0,
             "ticks": ""
            },
            "colorscale": [
             [
              0,
              "#0d0887"
             ],
             [
              0.1111111111111111,
              "#46039f"
             ],
             [
              0.2222222222222222,
              "#7201a8"
             ],
             [
              0.3333333333333333,
              "#9c179e"
             ],
             [
              0.4444444444444444,
              "#bd3786"
             ],
             [
              0.5555555555555556,
              "#d8576b"
             ],
             [
              0.6666666666666666,
              "#ed7953"
             ],
             [
              0.7777777777777778,
              "#fb9f3a"
             ],
             [
              0.8888888888888888,
              "#fdca26"
             ],
             [
              1,
              "#f0f921"
             ]
            ],
            "type": "surface"
           }
          ],
          "table": [
           {
            "cells": {
             "fill": {
              "color": "#EBF0F8"
             },
             "line": {
              "color": "white"
             }
            },
            "header": {
             "fill": {
              "color": "#C8D4E3"
             },
             "line": {
              "color": "white"
             }
            },
            "type": "table"
           }
          ]
         },
         "layout": {
          "annotationdefaults": {
           "arrowcolor": "#2a3f5f",
           "arrowhead": 0,
           "arrowwidth": 1
          },
          "autotypenumbers": "strict",
          "coloraxis": {
           "colorbar": {
            "outlinewidth": 0,
            "ticks": ""
           }
          },
          "colorscale": {
           "diverging": [
            [
             0,
             "#8e0152"
            ],
            [
             0.1,
             "#c51b7d"
            ],
            [
             0.2,
             "#de77ae"
            ],
            [
             0.3,
             "#f1b6da"
            ],
            [
             0.4,
             "#fde0ef"
            ],
            [
             0.5,
             "#f7f7f7"
            ],
            [
             0.6,
             "#e6f5d0"
            ],
            [
             0.7,
             "#b8e186"
            ],
            [
             0.8,
             "#7fbc41"
            ],
            [
             0.9,
             "#4d9221"
            ],
            [
             1,
             "#276419"
            ]
           ],
           "sequential": [
            [
             0,
             "#0d0887"
            ],
            [
             0.1111111111111111,
             "#46039f"
            ],
            [
             0.2222222222222222,
             "#7201a8"
            ],
            [
             0.3333333333333333,
             "#9c179e"
            ],
            [
             0.4444444444444444,
             "#bd3786"
            ],
            [
             0.5555555555555556,
             "#d8576b"
            ],
            [
             0.6666666666666666,
             "#ed7953"
            ],
            [
             0.7777777777777778,
             "#fb9f3a"
            ],
            [
             0.8888888888888888,
             "#fdca26"
            ],
            [
             1,
             "#f0f921"
            ]
           ],
           "sequentialminus": [
            [
             0,
             "#0d0887"
            ],
            [
             0.1111111111111111,
             "#46039f"
            ],
            [
             0.2222222222222222,
             "#7201a8"
            ],
            [
             0.3333333333333333,
             "#9c179e"
            ],
            [
             0.4444444444444444,
             "#bd3786"
            ],
            [
             0.5555555555555556,
             "#d8576b"
            ],
            [
             0.6666666666666666,
             "#ed7953"
            ],
            [
             0.7777777777777778,
             "#fb9f3a"
            ],
            [
             0.8888888888888888,
             "#fdca26"
            ],
            [
             1,
             "#f0f921"
            ]
           ]
          },
          "colorway": [
           "#636efa",
           "#EF553B",
           "#00cc96",
           "#ab63fa",
           "#FFA15A",
           "#19d3f3",
           "#FF6692",
           "#B6E880",
           "#FF97FF",
           "#FECB52"
          ],
          "font": {
           "color": "#2a3f5f"
          },
          "geo": {
           "bgcolor": "white",
           "lakecolor": "white",
           "landcolor": "#E5ECF6",
           "showlakes": true,
           "showland": true,
           "subunitcolor": "white"
          },
          "hoverlabel": {
           "align": "left"
          },
          "hovermode": "closest",
          "mapbox": {
           "style": "light"
          },
          "paper_bgcolor": "white",
          "plot_bgcolor": "#E5ECF6",
          "polar": {
           "angularaxis": {
            "gridcolor": "white",
            "linecolor": "white",
            "ticks": ""
           },
           "bgcolor": "#E5ECF6",
           "radialaxis": {
            "gridcolor": "white",
            "linecolor": "white",
            "ticks": ""
           }
          },
          "scene": {
           "xaxis": {
            "backgroundcolor": "#E5ECF6",
            "gridcolor": "white",
            "gridwidth": 2,
            "linecolor": "white",
            "showbackground": true,
            "ticks": "",
            "zerolinecolor": "white"
           },
           "yaxis": {
            "backgroundcolor": "#E5ECF6",
            "gridcolor": "white",
            "gridwidth": 2,
            "linecolor": "white",
            "showbackground": true,
            "ticks": "",
            "zerolinecolor": "white"
           },
           "zaxis": {
            "backgroundcolor": "#E5ECF6",
            "gridcolor": "white",
            "gridwidth": 2,
            "linecolor": "white",
            "showbackground": true,
            "ticks": "",
            "zerolinecolor": "white"
           }
          },
          "shapedefaults": {
           "line": {
            "color": "#2a3f5f"
           }
          },
          "ternary": {
           "aaxis": {
            "gridcolor": "white",
            "linecolor": "white",
            "ticks": ""
           },
           "baxis": {
            "gridcolor": "white",
            "linecolor": "white",
            "ticks": ""
           },
           "bgcolor": "#E5ECF6",
           "caxis": {
            "gridcolor": "white",
            "linecolor": "white",
            "ticks": ""
           }
          },
          "title": {
           "x": 0.05
          },
          "xaxis": {
           "automargin": true,
           "gridcolor": "white",
           "linecolor": "white",
           "ticks": "",
           "title": {
            "standoff": 15
           },
           "zerolinecolor": "white",
           "zerolinewidth": 2
          },
          "yaxis": {
           "automargin": true,
           "gridcolor": "white",
           "linecolor": "white",
           "ticks": "",
           "title": {
            "standoff": 15
           },
           "zerolinecolor": "white",
           "zerolinewidth": 2
          }
         }
        },
        "title": {
         "text": "K-means clustering on Spotify embeddings (PCA-reduced)"
        },
        "width": 800,
        "xaxis": {
         "maxallowed": 6.4903245114221795,
         "minallowed": -6.833283497720459,
         "visible": false
        },
        "yaxis": {
         "maxallowed": 5.382750736788652,
         "minallowed": -6.685679132333534,
         "visible": false
        }
       }
      }
     },
     "metadata": {},
     "output_type": "display_data"
    }
   ],
   "source": [
    "data = {\n",
    "    'x': song_reduced_embeddings[:, 0],\n",
    "    'y': song_reduced_embeddings[:, 1],\n",
    "    'name': [m['name'] for m in song_metadata],\n",
    "    'artist': [m['artist'] for m in song_metadata],\n",
    "    'genre': [m['genre'] for m in song_metadata],\n",
    "    'cluster': song_cluster_labels,\n",
    "    'id': [m['id'] for m in song_metadata]\n",
    "}\n",
    "\n",
    "# Create a DataFrame for easier manipulation\n",
    "df = pd.DataFrame(data)\n",
    "\n",
    "vor = Voronoi(kmeans.cluster_centers_)\n",
    "regions, vertices = voronoi_finite_polygons_2d(vor)\n",
    "\n",
    "# Generate a unique color for each region\n",
    "def generate_color(name, factor=0.25):\n",
    "    \"\"\"Generate a pastel color for the given name.\"\"\"\n",
    "    # Generate a color based on the hash of the name\n",
    "    hash_object = hashlib.md5(name.encode())\n",
    "    hex_dig = hash_object.hexdigest()\n",
    "    base_color = [int(hex_dig[i:i+2], 16) for i in (0, 2, 4)]\n",
    "\n",
    "    # Mix the color with white\n",
    "    pastel_color = [(1 - factor) * c + factor * 255 for c in base_color]\n",
    "    pastel_color_hex = ''.join(f'{int(c):02x}' for c in pastel_color)\n",
    "\n",
    "    return '#' + pastel_color_hex\n",
    "\n",
    "# Create Plotly figure\n",
    "fig = go.Figure()\n",
    "\n",
    "# Add Voronoi regions, each with a different color\n",
    "for region, center in zip(regions, kmeans.cluster_centers_):\n",
    "    polygon = vertices[region]\n",
    "    color = generate_color(str(center))\n",
    "    fig.add_trace(go.Scatter(\n",
    "        x=polygon[:, 0],\n",
    "        y=polygon[:, 1],\n",
    "        fill=\"toself\",\n",
    "        fillcolor=color,\n",
    "        mode='lines',\n",
    "        line=dict(color='rgba(0,0,0,0)')  # No border color\n",
    "    ))\n",
    "\n",
    "# Add centroids\n",
    "fig.add_trace(go.Scatter(\n",
    "    x=kmeans.cluster_centers_[:, 0],\n",
    "    y=kmeans.cluster_centers_[:, 1],\n",
    "    mode='markers',\n",
    "    marker=dict(size=10, color='white', symbol='x'),\n",
    "    name='Centroids'\n",
    "))\n",
    "\n",
    "# Add scatter plot of points\n",
    "fig.add_trace(go.Scatter(\n",
    "    x=df['x'],\n",
    "    y=df['y'],\n",
    "    mode='markers',\n",
    "    marker=dict(color='black', size=5),\n",
    "    text=df.apply(lambda row: f\"{row['name']} by {row['artist']}\", axis=1),\n",
    "    hoverinfo='text'\n",
    "))\n",
    "\n",
    "# Update layout\n",
    "fig.update_layout(\n",
    "    title=\"K-means clustering on Spotify embeddings (PCA-reduced)\",\n",
    "    xaxis=dict(visible=False),\n",
    "    yaxis=dict(visible=False),\n",
    "    showlegend=False,\n",
    "    width=800,\n",
    "    height=800,\n",
    "    plot_bgcolor='rgba(0,0,0,0)'\n",
    ")\n",
    "\n",
    "fig.update_xaxes(minallowed=df['x'].min()-1, maxallowed=df['x'].max()+1)\n",
    "fig.update_yaxes(minallowed=df['y'].min()-1, maxallowed=df['y'].max()+1)\n",
    "\n",
    "\n",
    "# Show the plot\n",
    "fig.show()"
   ]
  },
  {
   "cell_type": "code",
   "execution_count": 7,
   "metadata": {},
   "outputs": [
    {
     "name": "stdout",
     "output_type": "stream",
     "text": [
      "Song ID 2M9ro2krNb7nr7HSprkEgo not found in Pinecone index\n",
      "No embeddings found for artist Tracy Chapman\n",
      "Song ID 4IadxL6BUymXlh8RCJJu7T not found in Pinecone index\n",
      "Song ID 32lSgbCqRcIOyUSnfuUZEQ not found in Pinecone index\n",
      "Song ID 1yqdD2ScjkqvaNBUzPQ4vR not found in Pinecone index\n",
      "Song ID 5wPnPIZS8wr4lPNLz4qvHK not found in Pinecone index\n",
      "Song ID 58BWnoFDNaeM0vwA0K3fqb not found in Pinecone index\n",
      "Song ID 5fZJQrFKWQLb7FpJXZ1g7K not found in Pinecone index\n",
      "Song ID 6tNQ70jh4OwmPGpYy6R2o9 not found in Pinecone index\n",
      "Song ID 3h76tbaYIamSeJL81X7ZwI not found in Pinecone index\n",
      "PCA and K-means clustering completed successfully.\n"
     ]
    }
   ],
   "source": [
    "import json\n",
    "import numpy as np\n",
    "from sklearn.decomposition import PCA\n",
    "from sklearn.cluster import KMeans\n",
    "import os\n",
    "from dotenv import load_dotenv\n",
    "import pinecone\n",
    "\n",
    "# Load environment variables\n",
    "load_dotenv()\n",
    "\n",
    "# Initialize Pinecone\n",
    "pc = pinecone.Pinecone(\n",
    "    api_key=os.getenv('PINECONE_API_KEY'),\n",
    "    environment=os.getenv('PINECONE_ENVIRONMENT')\n",
    ")\n",
    "\n",
    "# Connect to the Pinecone index\n",
    "index = pc.Index('ast-song-embeddings')\n",
    "\n",
    "# Load artist metadata\n",
    "with open('./metadata/artist_metadata.json') as f:\n",
    "    artist_metadata = json.load(f)\n",
    "\n",
    "# Function to fetch embeddings from Pinecone based on song IDs\n",
    "def fetch_embeddings_by_ids(index, song_ids):\n",
    "    embeddings = {}\n",
    "    batch_size = 100  # Adjust batch size as needed\n",
    "    for i in range(0, len(song_ids), batch_size):\n",
    "        batch_ids = song_ids[i:i + batch_size]\n",
    "        response = index.fetch(ids=batch_ids)\n",
    "        for song_id, vector_data in response['vectors'].items():\n",
    "            embeddings[song_id] = vector_data['values']\n",
    "    return embeddings\n",
    "\n",
    "# Get all song IDs from the artist metadata\n",
    "all_song_ids = [song['id'] for songs in artist_metadata.values() for song in songs]\n",
    "\n",
    "# Fetch embeddings for all song IDs\n",
    "song_embeddings_dict = fetch_embeddings_by_ids(index, all_song_ids)\n",
    "\n",
    "# Debugging: Print some IDs to verify\n",
    "#print(\"Fetched song IDs from Pinecone index:\", list(song_embeddings_dict.keys())[:10])\n",
    "\n",
    "# Calculate average embeddings for each artist\n",
    "artist_embeddings = {}\n",
    "for artist, songs in artist_metadata.items():\n",
    "    embeddings = []\n",
    "    for song in songs:\n",
    "        song_id = song['id']\n",
    "        if song_id in song_embeddings_dict:\n",
    "            embeddings.append(song_embeddings_dict[song_id])\n",
    "        else:\n",
    "            print(f\"Song ID {song_id} not found in Pinecone index\")\n",
    "    if embeddings:\n",
    "        artist_embeddings[artist] = np.mean(embeddings, axis=0)\n",
    "    else:\n",
    "        print(f\"No embeddings found for artist {artist}\")\n",
    "\n",
    "# Convert artist embeddings to a list of tuples (artist, embedding)\n",
    "artist_embeddings_list = [(artist, embedding) for artist, embedding in artist_embeddings.items()]\n",
    "\n",
    "# Check if the list is not empty\n",
    "if not artist_embeddings_list:\n",
    "    raise ValueError(\"No artist embeddings found.\")\n",
    "\n",
    "# Separate artist names and embeddings\n",
    "artist_names, embeddings = zip(*artist_embeddings_list)\n",
    "embeddings = np.array(embeddings)\n",
    "\n",
    "# Perform PCA\n",
    "pca = PCA(n_components=2)\n",
    "artist_reduced_embeddings = pca.fit_transform(embeddings)\n",
    "\n",
    "# Perform K-means clustering\n",
    "n_clusters = max(1, len(artist_names) // 10)  # Ensure at least 1 cluster\n",
    "kmeans = KMeans(n_clusters=n_clusters, init=\"k-means++\", n_init=4, random_state=42)\n",
    "artist_cluster_labels = kmeans.fit_predict(artist_reduced_embeddings)\n",
    "\n",
    "# If everything works fine, print success message\n",
    "print(\"PCA and K-means clustering completed successfully.\")"
   ]
  },
  {
   "cell_type": "code",
   "execution_count": 8,
   "metadata": {},
   "outputs": [
    {
     "data": {
      "application/vnd.plotly.v1+json": {
       "config": {
        "plotlyServerURL": "https://plot.ly"
       },
       "data": [
        {
         "fill": "toself",
         "fillcolor": "#da4c90",
         "line": {
          "color": "rgba(0,0,0,0)"
         },
         "mode": "lines",
         "type": "scatter",
         "x": [
          -2.1731364174437213,
          -1.3051332652482994,
          -1.4903577925988114,
          -3.694186100668776,
          -4.31187804961008
         ],
         "y": [
          0.6160185512695704,
          1.9949799049032888,
          2.660016323257919,
          2.1143911007508343,
          0.09969182600701065
         ]
        },
        {
         "fill": "toself",
         "fillcolor": "#a85af4",
         "line": {
          "color": "rgba(0,0,0,0)"
         },
         "mode": "lines",
         "type": "scatter",
         "x": [
          4.298306262411334,
          22.308323033743417,
          20.282755378995496,
          2.2931986803554634,
          2.0096264887224473,
          2.0858874299803594
         ],
         "y": [
          -1.5921673476023004,
          -3.3938050133206117,
          2.7019812172882953,
          0.7063729970674032,
          -0.03057411040571134,
          -0.3097261031177134
         ]
        },
        {
         "fill": "toself",
         "fillcolor": "#8cfecf",
         "line": {
          "color": "rgba(0,0,0,0)"
         },
         "mode": "lines",
         "type": "scatter",
         "x": [
          -0.61315412800556,
          -0.7667910578302595,
          0.023270862650057234,
          0.9072102459489912,
          1.5566177349432413,
          0.9817345441498111,
          0.758541145423018
         ],
         "y": [
          -1.9635785440583446,
          -2.578026931154431,
          -4.058589505803761,
          -4.036852213068101,
          -2.464206620356224,
          -1.3320075216958707,
          -1.2478742176433655
         ]
        },
        {
         "fill": "toself",
         "fillcolor": "#6ee743",
         "line": {
          "color": "rgba(0,0,0,0)"
         },
         "mode": "lines",
         "type": "scatter",
         "x": [
          -1.1145865817309364,
          -2.1731364174437213,
          -1.3051332652482994,
          -0.7274951010392776,
          -0.680745969557543
         ],
         "y": [
          -0.4577845274493535,
          0.6160185512695704,
          1.9949799049032888,
          1.5718133181540468,
          -0.21558988076641816
         ]
        },
        {
         "fill": "toself",
         "fillcolor": "#beb97e",
         "line": {
          "color": "rgba(0,0,0,0)"
         },
         "mode": "lines",
         "type": "scatter",
         "x": [
          -16.707592798293508,
          -4.944583213465957,
          -2.4482328764214136,
          -2.8064690733492896,
          -4.633969000588918,
          -22.0538586202145
         ],
         "y": [
          -21.899287076150188,
          -8.142899182176969,
          -2.418216081905771,
          -1.4833419312726834,
          -0.23703774521645346,
          -5.151714542551006
         ]
        },
        {
         "fill": "toself",
         "fillcolor": "#42f26d",
         "line": {
          "color": "rgba(0,0,0,0)"
         },
         "mode": "lines",
         "type": "scatter",
         "x": [
          0.4371718258046313,
          0.9494028741086049,
          1.9725505551388984,
          14.724513019284071,
          3.246407913837304
         ],
         "y": [
          9.637726197470732,
          1.6929184080215065,
          1.5329248133212334,
          14.37792600815303,
          27.518296517902144
         ]
        },
        {
         "fill": "toself",
         "fillcolor": "#88a6cb",
         "line": {
          "color": "rgba(0,0,0,0)"
         },
         "mode": "lines",
         "type": "scatter",
         "x": [
          -22.0538586202145,
          -4.633969000588918,
          -4.31187804961008,
          -3.694186100668776,
          -11.615606222586615
         ],
         "y": [
          -5.151714542551006,
          -0.23703774521645346,
          0.09969182600701065,
          2.1143911007508343,
          18.388840573291308
         ]
        },
        {
         "fill": "toself",
         "fillcolor": "#b8aa76",
         "line": {
          "color": "rgba(0,0,0,0)"
         },
         "mode": "lines",
         "type": "scatter",
         "x": [
          15.227610991095572,
          22.308323033743417,
          4.298306262411334,
          1.5566177349432413,
          0.9072102459489912
         ],
         "y": [
          -15.106302284350008,
          -3.3938050133206117,
          -1.5921673476023004,
          -2.464206620356224,
          -4.036852213068101
         ]
        },
        {
         "fill": "toself",
         "fillcolor": "#7f5668",
         "line": {
          "color": "rgba(0,0,0,0)"
         },
         "mode": "lines",
         "type": "scatter",
         "x": [
          -0.680745969557543,
          -0.7274951010392776,
          0.5619292243664683,
          0.6428845831425961,
          0.15052829390555994
         ],
         "y": [
          -0.21558988076641816,
          1.5718133181540468,
          1.322025022884262,
          0.5109228388317459,
          -0.212427546540067
         ]
        },
        {
         "fill": "toself",
         "fillcolor": "#474b4d",
         "line": {
          "color": "rgba(0,0,0,0)"
         },
         "mode": "lines",
         "type": "scatter",
         "x": [
          1.9725505551388984,
          2.2931986803554634,
          2.0096264887224473,
          0.6428845831425961,
          0.5619292243664683,
          0.9494028741086049
         ],
         "y": [
          1.5329248133212334,
          0.7063729970674032,
          -0.03057411040571134,
          0.5109228388317459,
          1.322025022884262,
          1.6929184080215065
         ]
        },
        {
         "fill": "toself",
         "fillcolor": "#67dae5",
         "line": {
          "color": "rgba(0,0,0,0)"
         },
         "mode": "lines",
         "type": "scatter",
         "x": [
          -1.2127832678838601,
          -2.8064690733492896,
          -4.633969000588918,
          -4.31187804961008,
          -2.1731364174437213,
          -1.1145865817309364
         ],
         "y": [
          -0.7500869492702275,
          -1.4833419312726834,
          -0.23703774521645346,
          0.09969182600701065,
          0.6160185512695704,
          -0.4577845274493535
         ]
        },
        {
         "fill": "toself",
         "fillcolor": "#484a76",
         "line": {
          "color": "rgba(0,0,0,0)"
         },
         "mode": "lines",
         "type": "scatter",
         "x": [
          0.9817345441498111,
          2.0858874299803594,
          4.298306262411334,
          1.5566177349432413
         ],
         "y": [
          -1.3320075216958707,
          -0.3097261031177134,
          -1.5921673476023004,
          -2.464206620356224
         ]
        },
        {
         "fill": "toself",
         "fillcolor": "#aea7cf",
         "line": {
          "color": "rgba(0,0,0,0)"
         },
         "mode": "lines",
         "type": "scatter",
         "x": [
          -3.694186100668776,
          -1.4903577925988114,
          0.4371718258046313,
          3.246407913837304,
          -11.615606222586615
         ],
         "y": [
          2.1143911007508343,
          2.660016323257919,
          9.637726197470732,
          27.518296517902144,
          18.388840573291308
         ]
        },
        {
         "fill": "toself",
         "fillcolor": "#feee8b",
         "line": {
          "color": "rgba(0,0,0,0)"
         },
         "mode": "lines",
         "type": "scatter",
         "x": [
          -1.2127832678838601,
          -0.61315412800556,
          0.758541145423018,
          0.15052829390555994,
          -0.680745969557543,
          -1.1145865817309364
         ],
         "y": [
          -0.7500869492702275,
          -1.9635785440583446,
          -1.2478742176433655,
          -0.212427546540067,
          -0.21558988076641816,
          -0.4577845274493535
         ]
        },
        {
         "fill": "toself",
         "fillcolor": "#e8aba5",
         "line": {
          "color": "rgba(0,0,0,0)"
         },
         "mode": "lines",
         "type": "scatter",
         "x": [
          -16.707592798293508,
          15.227610991095572,
          0.9072102459489912,
          0.023270862650057234,
          -4.944583213465957
         ],
         "y": [
          -21.899287076150188,
          -15.106302284350008,
          -4.036852213068101,
          -4.058589505803761,
          -8.142899182176969
         ]
        },
        {
         "fill": "toself",
         "fillcolor": "#cfb35f",
         "line": {
          "color": "rgba(0,0,0,0)"
         },
         "mode": "lines",
         "type": "scatter",
         "x": [
          1.9725505551388984,
          2.2931986803554634,
          20.282755378995496,
          14.724513019284071
         ],
         "y": [
          1.5329248133212334,
          0.7063729970674032,
          2.7019812172882953,
          14.37792600815303
         ]
        },
        {
         "fill": "toself",
         "fillcolor": "#e7b0cc",
         "line": {
          "color": "rgba(0,0,0,0)"
         },
         "mode": "lines",
         "type": "scatter",
         "x": [
          0.4371718258046313,
          -1.4903577925988114,
          -1.3051332652482994,
          -0.7274951010392776,
          0.5619292243664683,
          0.9494028741086049
         ],
         "y": [
          9.637726197470732,
          2.660016323257919,
          1.9949799049032888,
          1.5718133181540468,
          1.322025022884262,
          1.6929184080215065
         ]
        },
        {
         "fill": "toself",
         "fillcolor": "#fb458c",
         "line": {
          "color": "rgba(0,0,0,0)"
         },
         "mode": "lines",
         "type": "scatter",
         "x": [
          -1.2127832678838601,
          -2.8064690733492896,
          -2.4482328764214136,
          -0.7667910578302595,
          -0.61315412800556
         ],
         "y": [
          -0.7500869492702275,
          -1.4833419312726834,
          -2.418216081905771,
          -2.578026931154431,
          -1.9635785440583446
         ]
        },
        {
         "fill": "toself",
         "fillcolor": "#86b38d",
         "line": {
          "color": "rgba(0,0,0,0)"
         },
         "mode": "lines",
         "type": "scatter",
         "x": [
          -0.7667910578302595,
          -2.4482328764214136,
          -4.944583213465957,
          0.023270862650057234
         ],
         "y": [
          -2.578026931154431,
          -2.418216081905771,
          -8.142899182176969,
          -4.058589505803761
         ]
        },
        {
         "fill": "toself",
         "fillcolor": "#c0dff7",
         "line": {
          "color": "rgba(0,0,0,0)"
         },
         "mode": "lines",
         "type": "scatter",
         "x": [
          0.758541145423018,
          0.9817345441498111,
          2.0858874299803594,
          2.0096264887224473,
          0.6428845831425961,
          0.15052829390555994
         ],
         "y": [
          -1.2478742176433655,
          -1.3320075216958707,
          -0.3097261031177134,
          -0.03057411040571134,
          0.5109228388317459,
          -0.212427546540067
         ]
        },
        {
         "marker": {
          "color": "white",
          "size": 10,
          "symbol": "x"
         },
         "mode": "markers",
         "name": "Centroids",
         "type": "scatter",
         "x": [
          -2.631066998068358,
          2.9442869246856103,
          0.3517614635479755,
          -1.1574752398166257,
          -3.581666455711738,
          1.7426813760064868,
          -4.906185715925915,
          2.6092311935111034,
          -0.24705447086448867,
          1.4938929008992128,
          -2.1669056421197235,
          2.040067320497023,
          -3.029872537567938,
          -0.24071670521311017,
          0.4435824805727952,
          2.82508895908175,
          0.07397169829677046,
          -1.567527652635002,
          -1.7181185921670856,
          1.0698997524558622
         ],
         "y": [
          1.5228252015054802,
          0.23472837595185145,
          -2.182447741880375,
          0.5952558480633605,
          -2.4743495581895627,
          2.3838146850324704,
          2.220359832367432,
          -3.1146461695552814,
          0.6190676999483471,
          0.7928300468666021,
          -0.3998357173251677,
          -1.3251968756444648,
          3.133635884570772,
          -1.0469236522467722,
          -5.916317186884871,
          1.3092471812290891,
          2.2762268200795424,
          -1.7025478943929377,
          -3.2869828962756387,
          -0.27733148307795136
         ]
        },
        {
         "hoverinfo": "text",
         "marker": {
          "color": "black",
          "size": 5
         },
         "mode": "markers",
         "text": [
          "The Neighbourhood",
          "Dominic Fike",
          "Cage The Elephant",
          "Foo Fighters",
          "Nickelback",
          "System Of A Down",
          "WALK THE MOON",
          "Gorillaz",
          "Foster The People",
          "Linkin Park",
          "Red Hot Chili Peppers",
          "The White Stripes",
          "Radiohead",
          "GROUPLOVE",
          "MGMT",
          "Franz Ferdinand",
          "Tinashe",
          "Sevdaliza",
          "Cigarettes After Sex",
          "ENHYPEN",
          "Otis Redding",
          "ZZ Top",
          "Adele",
          "Sade",
          "Toploader",
          "Tom Odell",
          "Lay Bankz",
          "Gesaffelstein",
          "Zach Bryan",
          "Luke Combs",
          "Ella Langley",
          "Koe Wetzel",
          "Tyler Childers",
          "Josh Meloy",
          "Bryan Martin",
          "Diplo",
          "Natasha Bedingfield",
          "USHER",
          "Train",
          "Bruno Mars",
          "Pitbull",
          "David Guetta",
          "TLC",
          "Shakira",
          "Kesha",
          "Calvin Harris",
          "Whitney Houston",
          "Britney Spears",
          "Sean Paul",
          "Earth, Wind & Fire",
          "Modjo",
          "Marshmello",
          "Mac DeMarco",
          "Kygo",
          "Lost Frequencies",
          "Dimitri Vegas & Like Mike",
          "Regard",
          "Zara Larsson",
          "Alok",
          "Daft Punk",
          "XXXTENTACION",
          "salvia palth",
          "Lil Peep",
          "My Chemical Romance",
          "Van Morrison",
          "Richy Mitch & The Coal Miners",
          "Vance Joy",
          "The Doobie Brothers",
          "George Ezra",
          "Lizzy McAlpine",
          "Patrick Watson",
          "Simon & Garfunkel",
          "Roy Orbison",
          "Bob Dylan",
          "Seafret",
          "Matheus Fernandes",
          "Matt Sassari",
          "GIMS",
          "Bill Withers",
          "Coolio",
          "Rage Against The Machine",
          "Arctic Monkeys",
          "The Goo Goo Dolls",
          "Audioslave",
          "Journey",
          "AC/DC",
          "Boston",
          "TOTO",
          "Kansas",
          "Foreigner",
          "The Notorious B.I.G.",
          "Future",
          "Tyler, The Creator",
          "The Kid LAROI",
          "Frank Ocean",
          "Gunna",
          "21 Savage",
          "Bryson Tiller",
          "A$AP Rocky",
          "Offset",
          "BigXthaPlug",
          "Jack Harlow",
          "Mustard",
          "Jordan Adetunji",
          "Tory Lanez",
          "Mac Miller",
          "Travis Scott",
          "Adam Port",
          "Djo",
          "Hozier",
          "Mitski",
          "TV Girl",
          "Hotel Ugly",
          "The Walters",
          "Eyedress",
          "Declan McKenna",
          "Royel Otis",
          "Suki Waterhouse",
          "Twenty One Pilots",
          "Men I Trust",
          "girl in red",
          "Jimin",
          "LISA",
          "ILLIT",
          "Stray Kids",
          "Jung Kook",
          "NewJeans",
          "KISS OF LIFE",
          "NAYEON",
          "LE SSERAFIM",
          "TOMORROW X TOGETHER",
          "Myke Towers",
          "Bad Bunny",
          "Blessd",
          "Rvssian",
          "Manuel Turizo",
          "Rauw Alejandro",
          "Young Miko",
          "Daddy Yankee",
          "Becky G",
          "Tainy",
          "Trueno",
          "Maluma",
          "Slipknot",
          "Billy Joel",
          "The Fray",
          "Kate Bush",
          "Shaboozey",
          "Myles Smith",
          "Benson Boone",
          "SZA",
          "Charli xcx",
          "Harry Styles",
          "Mark Ambor",
          "Tate McRae",
          "The Outfield",
          "Green Day",
          "Surf Curse",
          "The Clash",
          "The Smiths",
          "Joan Jett & the Blackhearts",
          "Sleepy Hallow",
          "Alicia Keys",
          "FloyyMenor",
          "Yng Lvcas",
          "MAGIC!",
          "Daryl Hall & John Oates",
          "Fleetwood Mac",
          "Luis R Conriquez",
          "Fuerza Regida",
          "Xavi",
          "Peso Pluma",
          "Calle 24",
          "Junior H",
          "Natanael Cano",
          "Carin Leon",
          "Powfu",
          "Murilo Huff",
          "Luan Santana",
          "Gusttavo Lima",
          "Bruno & Marrone",
          "Jorge & Mateus",
          "Ana Castela",
          "Zé Neto & Cristiano",
          "Hugo & Guilherme",
          "Jessie Murph",
          "Nicky Youre",
          "Laufey",
          "Chance Peña",
          "Alex Warren",
          "Bruce Springsteen",
          "Ed Sheeran",
          "Jungle",
          "Mark Ronson",
          "John Legend",
          "Rag'n'Bone Man",
          "Marc Seguí",
          "Rels B",
          "a-ha",
          "Eurythmics",
          "Starship",
          "Bronski Beat",
          "Alphaville"
         ],
         "type": "scatter",
         "x": [
          -1.1863283777251332,
          1.0780047299886502,
          -0.20407395748572668,
          -5.167874253317432,
          -2.0689799731929894,
          -2.623521228399283,
          -3.2211844715009113,
          -1.5767233812131143,
          -0.9128449859197239,
          -3.7637926581876147,
          -1.507849082765697,
          -3.1467763862812537,
          -4.993708930176801,
          -2.8265056456380084,
          -1.9196758915363916,
          -2.4059675202490918,
          2.5971979610568203,
          1.4093583679792456,
          -2.900637547277431,
          2.240801836292789,
          0.5993433479238562,
          -0.34089945990710424,
          -1.0116373658993671,
          0.04555473579545775,
          -0.15956266719817178,
          0.30089063158966844,
          2.63983978473762,
          0.9930222728017517,
          0.23153307695532524,
          -2.274694905832382,
          0.7780621669941526,
          -4.650659238474142,
          -0.8848421829241,
          0.5758821772643222,
          -2.641425360970666,
          2.0334034159288414,
          1.1003284004445415,
          -0.19978291348202593,
          0.49701985419470285,
          -0.20109915874493237,
          -0.1618310078202395,
          -1.2845841934762754,
          1.2808197389312506,
          -0.3784826559770626,
          0.13716966117066845,
          -1.1051716435912984,
          0.4057820890409377,
          1.3538052268705163,
          2.795780712857505,
          0.060351895574215976,
          -0.8724819055334783,
          -0.30485584345940187,
          -2.084990930304081,
          0.0983437984999802,
          -0.03966837328737339,
          -2.6456480023926443,
          1.3347741470327692,
          1.479455885311491,
          1.7916421653381673,
          1.1204169634802301,
          1.80421604485937,
          -2.128020013426697,
          -1.1741927842683801,
          -4.915216079841087,
          -0.9259666189390893,
          -0.9992717987632834,
          2.503440861565239,
          -0.7083050389627572,
          1.2739243133876246,
          -0.20481349059527293,
          0.4435824805727952,
          -0.8496557734063942,
          -0.05609521466279371,
          -1.7350487660840836,
          -4.507218707733584,
          1.0769092547858772,
          0.05638499125769821,
          2.507306183387195,
          -2.5436414739848794,
          -0.8912748704254275,
          -3.2873031422849643,
          -2.9078499775490343,
          -4.87564201439253,
          -1.9726232822002696,
          -0.7853115059498624,
          -2.6016835786223487,
          -3.5426001157527587,
          -5.816513245272189,
          -2.3401042826888796,
          -3.2461976109570765,
          1.5157201158669174,
          -0.2716220101376833,
          -1.2160487164748535,
          -0.8002551114239301,
          0.044154652349800386,
          2.4302625627705554,
          1.4312108581390843,
          2.718728284389982,
          -0.04896155276393506,
          1.2622753878872095,
          2.308445336833854,
          1.8174865352200185,
          1.7904034875792605,
          3.104823764172697,
          2.540074788465349,
          1.9321101725070222,
          0.4572760567726627,
          1.943957388399811,
          -3.108962185213007,
          0.10413617308319169,
          -1.5464606146121869,
          -1.576143878273214,
          1.3165410633543144,
          -0.5880114033101193,
          -2.1421865350620672,
          0.4876382708790973,
          0.8600123699910761,
          -4.9970558222387575,
          0.3470187627079868,
          -1.2261626527473,
          -2.4435183305447303,
          1.1587439420109236,
          1.697970051098131,
          3.2704852810505045,
          1.5105367370797798,
          1.1008070584202854,
          2.972450409512084,
          -1.5789892036968844,
          -0.4156739702910943,
          3.13098381751154,
          -0.09548174034441441,
          2.5259600127644255,
          3.3679709183909483,
          3.730839513641855,
          3.437655732921885,
          2.5435459716530997,
          3.264286926881125,
          2.65356961708695,
          2.6433566919750775,
          1.3782007757650898,
          0.07435470389751374,
          2.6204502140733967,
          2.00715213421427,
          -3.0975499031285523,
          -0.9920693374808882,
          -0.6708849258779812,
          -0.3477512386769251,
          1.0047022589362409,
          -0.6103869325191494,
          0.6881061685039719,
          2.997279016401856,
          1.2389095017307568,
          -0.3168117534948037,
          -0.040171893830547124,
          2.4322492456359694,
          -3.7679518425774305,
          -3.923686250007221,
          -2.5051420971630805,
          -0.005129191110163913,
          -2.381501811719216,
          -2.7438043900983162,
          1.5220574008808345,
          1.7366530849390525,
          1.0324287613244467,
          3.463724389381883,
          0.6698713675331319,
          0.8825781028214816,
          -0.6770507760568851,
          2.4357598118414265,
          1.791650298557731,
          1.8638400059203066,
          1.0568125168352633,
          2.4377510829243922,
          1.8638666369451966,
          1.4411360069747956,
          0.8577472168808531,
          0.6422539054181347,
          -0.2422771433259803,
          1.5855916796145137,
          2.6815835841789504,
          2.970441614360171,
          0.708916347393798,
          3.149951286016841,
          0.725870500062138,
          1.9845432938725451,
          -0.416959112303062,
          1.39797137151221,
          2.552743430835133,
          2.414322436523207,
          -0.2911185597795431,
          -0.8176522834010934,
          1.9954134683192692,
          -0.2987114807506309,
          0.052419883374679746,
          3.076348175899397,
          -1.5355789859347753,
          -1.4611832858057112,
          1.0009044893793426,
          -2.019364283599612,
          -1.9145613283998781,
          -1.7496399729863694,
          1.5140453846600797,
          -2.4506054475130354
         ],
         "y": [
          0.6429969105995298,
          0.36290076047950065,
          -0.5655944156239369,
          2.52830818594237,
          3.0161368414176892,
          2.5919039789831806,
          3.219243746878683,
          0.7402513120130796,
          -2.0400758704176387,
          2.8357433827850134,
          0.9820200705671241,
          3.8017772368313736,
          4.1418003563862245,
          0.13972827934405332,
          -0.11893508945843827,
          1.4207857434597735,
          -0.15789769666531342,
          0.8032687943192809,
          -2.9923370187516003,
          2.117566396670608,
          -2.512135543710484,
          0.05563767874734261,
          -2.225025823773861,
          -1.5078243570186824,
          -0.10209907269489223,
          -1.9932366254861975,
          1.4712545602362659,
          0.23090516442066358,
          -1.3348590191854248,
          -0.4761379035327799,
          -2.329623096925131,
          0.6335896890077269,
          -2.935396213265792,
          -0.847146444140156,
          -0.34839484107951235,
          1.1087484290428176,
          -0.3464713601630503,
          2.139576682289352,
          -1.8266608478570792,
          0.6846828290607392,
          2.2331734610065874,
          0.598617777526006,
          -0.07616246974061393,
          0.3957104309782662,
          3.251389279249764,
          0.30667837301074236,
          -1.542474055218213,
          0.4148040448691906,
          1.9806331733997802,
          -2.7073006063776863,
          0.6109332465150175,
          0.7268088083483233,
          -1.632340942578756,
          -1.182325273706748,
          1.355485361086616,
          1.1222326363298254,
          2.8339320024252723,
          1.3697693783814424,
          0.4606309404318215,
          0.670848407499747,
          1.1335832627235438,
          -3.1390770190535573,
          0.7936410696109283,
          2.9122120278516452,
          0.032738011243086736,
          -1.8076722858973473,
          -3.580302302768492,
          -2.927977479556661,
          0.04136561880455852,
          -1.9916576090211848,
          -5.916317186884871,
          0.3330874204840673,
          -1.6822338665159375,
          -2.874256497488581,
          -1.2541484424369915,
          -0.26917215389173604,
          2.8481080528392817,
          2.260111344054773,
          -2.5595350941064474,
          -1.1354931238138457,
          3.1033205296297375,
          0.17059083120084892,
          1.808989101348106,
          2.107249024655393,
          -0.9596074134028222,
          1.2207975215621345,
          1.2203910239296558,
          1.7862323995899188,
          -5.040138136100638,
          -2.536602759988416,
          2.688968401725356,
          0.7933121394228284,
          -1.3126618780845276,
          1.2334959466214623,
          -2.9179739560746683,
          1.6340941197642138,
          2.1020889284422033,
          1.138137920202976,
          2.8135180750439313,
          1.691540472715512,
          2.8132724145498744,
          2.9358572594178645,
          0.47151448893555453,
          -0.23381006710409163,
          -0.029876621317923444,
          2.2387922686885986,
          1.858639102423987,
          0.5877521155377836,
          -2.519366729280883,
          -1.044918325951576,
          -2.9955245017003005,
          0.18609415051192765,
          -1.1741427409487715,
          -2.346070756849776,
          -1.0367122355047407,
          -1.7496782281321563,
          -3.305914023917215,
          -3.3836670785541525,
          0.8221673755200047,
          -2.9649938660405293,
          -3.0373733270331087,
          1.563893063251671,
          1.938864711879917,
          0.31871056623430144,
          3.565851832639861,
          1.7572199740402359,
          0.7155136734575667,
          -0.6740771880965525,
          1.4560076244531963,
          0.4651407764389248,
          1.1235810170893548,
          0.9087078624240048,
          0.8646595505380831,
          0.5733518929794206,
          1.676223056841988,
          -0.1918848959295823,
          0.32211749017853775,
          0.7028987487206606,
          1.561587905461786,
          -0.6979291380005634,
          2.220243644479838,
          0.9035942342761856,
          0.8115561744806553,
          3.3673254754697264,
          0.5252393897173779,
          -0.20612907540831926,
          -1.1699808887009913,
          -0.02270602135080747,
          0.9216106031691519,
          -0.31867211702635023,
          -2.9257316378390046,
          -0.16076805556697368,
          0.3166095832040453,
          -1.031883220466256,
          0.9222321187480039,
          -2.0747897842084484,
          1.7313870664460338,
          1.6712573763676166,
          0.9023186797933118,
          -1.8736666627225766,
          1.897063084233963,
          0.4695018261517976,
          -1.407743825340166,
          -0.32518994125278344,
          1.340594491626691,
          0.6703009263443132,
          -2.328291075232598,
          -0.8684776489051728,
          -1.2579827645983714,
          0.3565350126073419,
          -1.6089650446006438,
          -0.25486246074167856,
          -0.6489252137585851,
          -1.564584953200265,
          0.9689372556731295,
          -1.3210180950069326,
          1.591445621323943,
          0.04031151645523826,
          -0.2271056570982387,
          -1.4350114521092576,
          0.5442692497992018,
          -0.9087657193322232,
          -3.3120489369242536,
          0.0290087339689334,
          -1.5042190105996576,
          -0.9739406322722385,
          -0.2836317081362025,
          -0.2117926053694853,
          -3.3298217622350754,
          1.5299474620591973,
          0.7052758429009233,
          2.0455248981720366,
          -1.0679595302699993,
          -0.7671436298903433,
          -2.52905325321134,
          0.6425123515657741,
          -0.3641924513202058,
          1.2535659160026424,
          -1.2099580056182333,
          -1.518981686050559,
          -0.8903908574791822,
          -3.010919124353524,
          -3.6681090262415856
         ]
        }
       ],
       "layout": {
        "height": 800,
        "plot_bgcolor": "rgba(0,0,0,0)",
        "showlegend": false,
        "template": {
         "data": {
          "bar": [
           {
            "error_x": {
             "color": "#2a3f5f"
            },
            "error_y": {
             "color": "#2a3f5f"
            },
            "marker": {
             "line": {
              "color": "#E5ECF6",
              "width": 0.5
             },
             "pattern": {
              "fillmode": "overlay",
              "size": 10,
              "solidity": 0.2
             }
            },
            "type": "bar"
           }
          ],
          "barpolar": [
           {
            "marker": {
             "line": {
              "color": "#E5ECF6",
              "width": 0.5
             },
             "pattern": {
              "fillmode": "overlay",
              "size": 10,
              "solidity": 0.2
             }
            },
            "type": "barpolar"
           }
          ],
          "carpet": [
           {
            "aaxis": {
             "endlinecolor": "#2a3f5f",
             "gridcolor": "white",
             "linecolor": "white",
             "minorgridcolor": "white",
             "startlinecolor": "#2a3f5f"
            },
            "baxis": {
             "endlinecolor": "#2a3f5f",
             "gridcolor": "white",
             "linecolor": "white",
             "minorgridcolor": "white",
             "startlinecolor": "#2a3f5f"
            },
            "type": "carpet"
           }
          ],
          "choropleth": [
           {
            "colorbar": {
             "outlinewidth": 0,
             "ticks": ""
            },
            "type": "choropleth"
           }
          ],
          "contour": [
           {
            "colorbar": {
             "outlinewidth": 0,
             "ticks": ""
            },
            "colorscale": [
             [
              0,
              "#0d0887"
             ],
             [
              0.1111111111111111,
              "#46039f"
             ],
             [
              0.2222222222222222,
              "#7201a8"
             ],
             [
              0.3333333333333333,
              "#9c179e"
             ],
             [
              0.4444444444444444,
              "#bd3786"
             ],
             [
              0.5555555555555556,
              "#d8576b"
             ],
             [
              0.6666666666666666,
              "#ed7953"
             ],
             [
              0.7777777777777778,
              "#fb9f3a"
             ],
             [
              0.8888888888888888,
              "#fdca26"
             ],
             [
              1,
              "#f0f921"
             ]
            ],
            "type": "contour"
           }
          ],
          "contourcarpet": [
           {
            "colorbar": {
             "outlinewidth": 0,
             "ticks": ""
            },
            "type": "contourcarpet"
           }
          ],
          "heatmap": [
           {
            "colorbar": {
             "outlinewidth": 0,
             "ticks": ""
            },
            "colorscale": [
             [
              0,
              "#0d0887"
             ],
             [
              0.1111111111111111,
              "#46039f"
             ],
             [
              0.2222222222222222,
              "#7201a8"
             ],
             [
              0.3333333333333333,
              "#9c179e"
             ],
             [
              0.4444444444444444,
              "#bd3786"
             ],
             [
              0.5555555555555556,
              "#d8576b"
             ],
             [
              0.6666666666666666,
              "#ed7953"
             ],
             [
              0.7777777777777778,
              "#fb9f3a"
             ],
             [
              0.8888888888888888,
              "#fdca26"
             ],
             [
              1,
              "#f0f921"
             ]
            ],
            "type": "heatmap"
           }
          ],
          "heatmapgl": [
           {
            "colorbar": {
             "outlinewidth": 0,
             "ticks": ""
            },
            "colorscale": [
             [
              0,
              "#0d0887"
             ],
             [
              0.1111111111111111,
              "#46039f"
             ],
             [
              0.2222222222222222,
              "#7201a8"
             ],
             [
              0.3333333333333333,
              "#9c179e"
             ],
             [
              0.4444444444444444,
              "#bd3786"
             ],
             [
              0.5555555555555556,
              "#d8576b"
             ],
             [
              0.6666666666666666,
              "#ed7953"
             ],
             [
              0.7777777777777778,
              "#fb9f3a"
             ],
             [
              0.8888888888888888,
              "#fdca26"
             ],
             [
              1,
              "#f0f921"
             ]
            ],
            "type": "heatmapgl"
           }
          ],
          "histogram": [
           {
            "marker": {
             "pattern": {
              "fillmode": "overlay",
              "size": 10,
              "solidity": 0.2
             }
            },
            "type": "histogram"
           }
          ],
          "histogram2d": [
           {
            "colorbar": {
             "outlinewidth": 0,
             "ticks": ""
            },
            "colorscale": [
             [
              0,
              "#0d0887"
             ],
             [
              0.1111111111111111,
              "#46039f"
             ],
             [
              0.2222222222222222,
              "#7201a8"
             ],
             [
              0.3333333333333333,
              "#9c179e"
             ],
             [
              0.4444444444444444,
              "#bd3786"
             ],
             [
              0.5555555555555556,
              "#d8576b"
             ],
             [
              0.6666666666666666,
              "#ed7953"
             ],
             [
              0.7777777777777778,
              "#fb9f3a"
             ],
             [
              0.8888888888888888,
              "#fdca26"
             ],
             [
              1,
              "#f0f921"
             ]
            ],
            "type": "histogram2d"
           }
          ],
          "histogram2dcontour": [
           {
            "colorbar": {
             "outlinewidth": 0,
             "ticks": ""
            },
            "colorscale": [
             [
              0,
              "#0d0887"
             ],
             [
              0.1111111111111111,
              "#46039f"
             ],
             [
              0.2222222222222222,
              "#7201a8"
             ],
             [
              0.3333333333333333,
              "#9c179e"
             ],
             [
              0.4444444444444444,
              "#bd3786"
             ],
             [
              0.5555555555555556,
              "#d8576b"
             ],
             [
              0.6666666666666666,
              "#ed7953"
             ],
             [
              0.7777777777777778,
              "#fb9f3a"
             ],
             [
              0.8888888888888888,
              "#fdca26"
             ],
             [
              1,
              "#f0f921"
             ]
            ],
            "type": "histogram2dcontour"
           }
          ],
          "mesh3d": [
           {
            "colorbar": {
             "outlinewidth": 0,
             "ticks": ""
            },
            "type": "mesh3d"
           }
          ],
          "parcoords": [
           {
            "line": {
             "colorbar": {
              "outlinewidth": 0,
              "ticks": ""
             }
            },
            "type": "parcoords"
           }
          ],
          "pie": [
           {
            "automargin": true,
            "type": "pie"
           }
          ],
          "scatter": [
           {
            "fillpattern": {
             "fillmode": "overlay",
             "size": 10,
             "solidity": 0.2
            },
            "type": "scatter"
           }
          ],
          "scatter3d": [
           {
            "line": {
             "colorbar": {
              "outlinewidth": 0,
              "ticks": ""
             }
            },
            "marker": {
             "colorbar": {
              "outlinewidth": 0,
              "ticks": ""
             }
            },
            "type": "scatter3d"
           }
          ],
          "scattercarpet": [
           {
            "marker": {
             "colorbar": {
              "outlinewidth": 0,
              "ticks": ""
             }
            },
            "type": "scattercarpet"
           }
          ],
          "scattergeo": [
           {
            "marker": {
             "colorbar": {
              "outlinewidth": 0,
              "ticks": ""
             }
            },
            "type": "scattergeo"
           }
          ],
          "scattergl": [
           {
            "marker": {
             "colorbar": {
              "outlinewidth": 0,
              "ticks": ""
             }
            },
            "type": "scattergl"
           }
          ],
          "scattermapbox": [
           {
            "marker": {
             "colorbar": {
              "outlinewidth": 0,
              "ticks": ""
             }
            },
            "type": "scattermapbox"
           }
          ],
          "scatterpolar": [
           {
            "marker": {
             "colorbar": {
              "outlinewidth": 0,
              "ticks": ""
             }
            },
            "type": "scatterpolar"
           }
          ],
          "scatterpolargl": [
           {
            "marker": {
             "colorbar": {
              "outlinewidth": 0,
              "ticks": ""
             }
            },
            "type": "scatterpolargl"
           }
          ],
          "scatterternary": [
           {
            "marker": {
             "colorbar": {
              "outlinewidth": 0,
              "ticks": ""
             }
            },
            "type": "scatterternary"
           }
          ],
          "surface": [
           {
            "colorbar": {
             "outlinewidth": 0,
             "ticks": ""
            },
            "colorscale": [
             [
              0,
              "#0d0887"
             ],
             [
              0.1111111111111111,
              "#46039f"
             ],
             [
              0.2222222222222222,
              "#7201a8"
             ],
             [
              0.3333333333333333,
              "#9c179e"
             ],
             [
              0.4444444444444444,
              "#bd3786"
             ],
             [
              0.5555555555555556,
              "#d8576b"
             ],
             [
              0.6666666666666666,
              "#ed7953"
             ],
             [
              0.7777777777777778,
              "#fb9f3a"
             ],
             [
              0.8888888888888888,
              "#fdca26"
             ],
             [
              1,
              "#f0f921"
             ]
            ],
            "type": "surface"
           }
          ],
          "table": [
           {
            "cells": {
             "fill": {
              "color": "#EBF0F8"
             },
             "line": {
              "color": "white"
             }
            },
            "header": {
             "fill": {
              "color": "#C8D4E3"
             },
             "line": {
              "color": "white"
             }
            },
            "type": "table"
           }
          ]
         },
         "layout": {
          "annotationdefaults": {
           "arrowcolor": "#2a3f5f",
           "arrowhead": 0,
           "arrowwidth": 1
          },
          "autotypenumbers": "strict",
          "coloraxis": {
           "colorbar": {
            "outlinewidth": 0,
            "ticks": ""
           }
          },
          "colorscale": {
           "diverging": [
            [
             0,
             "#8e0152"
            ],
            [
             0.1,
             "#c51b7d"
            ],
            [
             0.2,
             "#de77ae"
            ],
            [
             0.3,
             "#f1b6da"
            ],
            [
             0.4,
             "#fde0ef"
            ],
            [
             0.5,
             "#f7f7f7"
            ],
            [
             0.6,
             "#e6f5d0"
            ],
            [
             0.7,
             "#b8e186"
            ],
            [
             0.8,
             "#7fbc41"
            ],
            [
             0.9,
             "#4d9221"
            ],
            [
             1,
             "#276419"
            ]
           ],
           "sequential": [
            [
             0,
             "#0d0887"
            ],
            [
             0.1111111111111111,
             "#46039f"
            ],
            [
             0.2222222222222222,
             "#7201a8"
            ],
            [
             0.3333333333333333,
             "#9c179e"
            ],
            [
             0.4444444444444444,
             "#bd3786"
            ],
            [
             0.5555555555555556,
             "#d8576b"
            ],
            [
             0.6666666666666666,
             "#ed7953"
            ],
            [
             0.7777777777777778,
             "#fb9f3a"
            ],
            [
             0.8888888888888888,
             "#fdca26"
            ],
            [
             1,
             "#f0f921"
            ]
           ],
           "sequentialminus": [
            [
             0,
             "#0d0887"
            ],
            [
             0.1111111111111111,
             "#46039f"
            ],
            [
             0.2222222222222222,
             "#7201a8"
            ],
            [
             0.3333333333333333,
             "#9c179e"
            ],
            [
             0.4444444444444444,
             "#bd3786"
            ],
            [
             0.5555555555555556,
             "#d8576b"
            ],
            [
             0.6666666666666666,
             "#ed7953"
            ],
            [
             0.7777777777777778,
             "#fb9f3a"
            ],
            [
             0.8888888888888888,
             "#fdca26"
            ],
            [
             1,
             "#f0f921"
            ]
           ]
          },
          "colorway": [
           "#636efa",
           "#EF553B",
           "#00cc96",
           "#ab63fa",
           "#FFA15A",
           "#19d3f3",
           "#FF6692",
           "#B6E880",
           "#FF97FF",
           "#FECB52"
          ],
          "font": {
           "color": "#2a3f5f"
          },
          "geo": {
           "bgcolor": "white",
           "lakecolor": "white",
           "landcolor": "#E5ECF6",
           "showlakes": true,
           "showland": true,
           "subunitcolor": "white"
          },
          "hoverlabel": {
           "align": "left"
          },
          "hovermode": "closest",
          "mapbox": {
           "style": "light"
          },
          "paper_bgcolor": "white",
          "plot_bgcolor": "#E5ECF6",
          "polar": {
           "angularaxis": {
            "gridcolor": "white",
            "linecolor": "white",
            "ticks": ""
           },
           "bgcolor": "#E5ECF6",
           "radialaxis": {
            "gridcolor": "white",
            "linecolor": "white",
            "ticks": ""
           }
          },
          "scene": {
           "xaxis": {
            "backgroundcolor": "#E5ECF6",
            "gridcolor": "white",
            "gridwidth": 2,
            "linecolor": "white",
            "showbackground": true,
            "ticks": "",
            "zerolinecolor": "white"
           },
           "yaxis": {
            "backgroundcolor": "#E5ECF6",
            "gridcolor": "white",
            "gridwidth": 2,
            "linecolor": "white",
            "showbackground": true,
            "ticks": "",
            "zerolinecolor": "white"
           },
           "zaxis": {
            "backgroundcolor": "#E5ECF6",
            "gridcolor": "white",
            "gridwidth": 2,
            "linecolor": "white",
            "showbackground": true,
            "ticks": "",
            "zerolinecolor": "white"
           }
          },
          "shapedefaults": {
           "line": {
            "color": "#2a3f5f"
           }
          },
          "ternary": {
           "aaxis": {
            "gridcolor": "white",
            "linecolor": "white",
            "ticks": ""
           },
           "baxis": {
            "gridcolor": "white",
            "linecolor": "white",
            "ticks": ""
           },
           "bgcolor": "#E5ECF6",
           "caxis": {
            "gridcolor": "white",
            "linecolor": "white",
            "ticks": ""
           }
          },
          "title": {
           "x": 0.05
          },
          "xaxis": {
           "automargin": true,
           "gridcolor": "white",
           "linecolor": "white",
           "ticks": "",
           "title": {
            "standoff": 15
           },
           "zerolinecolor": "white",
           "zerolinewidth": 2
          },
          "yaxis": {
           "automargin": true,
           "gridcolor": "white",
           "linecolor": "white",
           "ticks": "",
           "title": {
            "standoff": 15
           },
           "zerolinecolor": "white",
           "zerolinewidth": 2
          }
         }
        },
        "title": {
         "text": "K-means clustering on Spotify embeddings (PCA-reduced)"
        },
        "width": 800,
        "xaxis": {
         "maxallowed": 4.730839513641855,
         "minallowed": -6.816513245272189,
         "visible": false
        },
        "yaxis": {
         "maxallowed": 5.1418003563862245,
         "minallowed": -6.916317186884871,
         "visible": false
        }
       }
      }
     },
     "metadata": {},
     "output_type": "display_data"
    }
   ],
   "source": [
    "# Create a DataFrame for easier manipulation\n",
    "data = {\n",
    "    'x': artist_reduced_embeddings[:, 0],\n",
    "    'y': artist_reduced_embeddings[:, 1],\n",
    "    'name': artist_names,\n",
    "    'cluster': artist_cluster_labels,\n",
    "    'id': [artist for artist in artist_names]\n",
    "}\n",
    "df = pd.DataFrame(data)\n",
    "\n",
    "# Voronoi diagram\n",
    "vor = Voronoi(kmeans.cluster_centers_)\n",
    "regions, vertices = voronoi_finite_polygons_2d(vor)\n",
    "\n",
    "# Generate a unique color for each region\n",
    "def generate_color(name, factor=0.25):\n",
    "    \"\"\"Generate a pastel color for the given name.\"\"\"\n",
    "    # Generate a color based on the hash of the name\n",
    "    hash_object = hashlib.md5(name.encode())\n",
    "    hex_dig = hash_object.hexdigest()\n",
    "    base_color = [int(hex_dig[i:i+2], 16) for i in (0, 2, 4)]\n",
    "\n",
    "    # Mix the color with white\n",
    "    pastel_color = [(1 - factor) * c + factor * 255 for c in base_color]\n",
    "    pastel_color_hex = ''.join(f'{int(c):02x}' for c in pastel_color)\n",
    "\n",
    "    return '#' + pastel_color_hex\n",
    "\n",
    "# Create Plotly figure\n",
    "fig = go.Figure()\n",
    "\n",
    "# Add Voronoi regions, each with a different color\n",
    "for region, center in zip(regions, kmeans.cluster_centers_):\n",
    "    polygon = vertices[region]\n",
    "    color = generate_color(str(center))\n",
    "    fig.add_trace(go.Scatter(\n",
    "        x=polygon[:, 0],\n",
    "        y=polygon[:, 1],\n",
    "        fill=\"toself\",\n",
    "        fillcolor=color,\n",
    "        mode='lines',\n",
    "        line=dict(color='rgba(0,0,0,0)')  # No border color\n",
    "    ))\n",
    "\n",
    "# Add centroids\n",
    "fig.add_trace(go.Scatter(\n",
    "    x=kmeans.cluster_centers_[:, 0],\n",
    "    y=kmeans.cluster_centers_[:, 1],\n",
    "    mode='markers',\n",
    "    marker=dict(size=10, color='white', symbol='x'),\n",
    "    name='Centroids'\n",
    "))\n",
    "\n",
    "# Add scatter plot of points\n",
    "fig.add_trace(go.Scatter(\n",
    "    x=df['x'],\n",
    "    y=df['y'],\n",
    "    mode='markers',\n",
    "    marker=dict(color='black', size=5),\n",
    "    text=df.apply(lambda row: f\"{row['name']}\", axis=1),\n",
    "    hoverinfo='text'\n",
    "))\n",
    "\n",
    "# Update layout\n",
    "fig.update_layout(\n",
    "    title=\"K-means clustering on Spotify embeddings (PCA-reduced)\",\n",
    "    xaxis=dict(visible=False),\n",
    "    yaxis=dict(visible=False),\n",
    "    showlegend=False,\n",
    "    width=800,\n",
    "    height=800,\n",
    "    plot_bgcolor='rgba(0,0,0,0)'\n",
    ")\n",
    "\n",
    "fig.update_xaxes(minallowed=df['x'].min()-1, maxallowed=df['x'].max()+1)\n",
    "fig.update_yaxes(minallowed=df['y'].min()-1, maxallowed=df['y'].max()+1)\n",
    "\n",
    "# Show the plot\n",
    "fig.show()"
   ]
  },
  {
   "cell_type": "code",
   "execution_count": 13,
   "metadata": {},
   "outputs": [
    {
     "name": "stdout",
     "output_type": "stream",
     "text": [
      "Song ID 2M9ro2krNb7nr7HSprkEgo not found in Pinecone index\n",
      "Song ID 4IadxL6BUymXlh8RCJJu7T not found in Pinecone index\n",
      "Song ID 4IadxL6BUymXlh8RCJJu7T not found in Pinecone index\n",
      "Song ID 32lSgbCqRcIOyUSnfuUZEQ not found in Pinecone index\n",
      "Song ID 1yqdD2ScjkqvaNBUzPQ4vR not found in Pinecone index\n",
      "Song ID 5wPnPIZS8wr4lPNLz4qvHK not found in Pinecone index\n",
      "Song ID 58BWnoFDNaeM0vwA0K3fqb not found in Pinecone index\n",
      "Song ID 5fZJQrFKWQLb7FpJXZ1g7K not found in Pinecone index\n",
      "Song ID 4IadxL6BUymXlh8RCJJu7T not found in Pinecone index\n",
      "Song ID 6tNQ70jh4OwmPGpYy6R2o9 not found in Pinecone index\n",
      "Song ID 4IadxL6BUymXlh8RCJJu7T not found in Pinecone index\n",
      "Song ID 4IadxL6BUymXlh8RCJJu7T not found in Pinecone index\n",
      "Song ID 6tNQ70jh4OwmPGpYy6R2o9 not found in Pinecone index\n",
      "Song ID 3h76tbaYIamSeJL81X7ZwI not found in Pinecone index\n",
      "Song ID 2M9ro2krNb7nr7HSprkEgo not found in Pinecone index\n",
      "Song ID 4IadxL6BUymXlh8RCJJu7T not found in Pinecone index\n",
      "Song ID 6tNQ70jh4OwmPGpYy6R2o9 not found in Pinecone index\n",
      "Song ID 3h76tbaYIamSeJL81X7ZwI not found in Pinecone index\n",
      "Song ID 2M9ro2krNb7nr7HSprkEgo not found in Pinecone index\n",
      "PCA and K-means clustering completed successfully.\n"
     ]
    }
   ],
   "source": [
    "import json\n",
    "import numpy as np\n",
    "from sklearn.decomposition import PCA\n",
    "from sklearn.cluster import KMeans\n",
    "import os\n",
    "from dotenv import load_dotenv\n",
    "import pinecone\n",
    "import pandas as pd\n",
    "from scipy.spatial import Voronoi\n",
    "import hashlib\n",
    "import plotly.graph_objs as go\n",
    "\n",
    "# Load environment variables\n",
    "load_dotenv()\n",
    "\n",
    "# Initialize Pinecone\n",
    "pc = pinecone.Pinecone(\n",
    "    api_key=os.getenv('PINECONE_API_KEY'),\n",
    "    environment=os.getenv('PINECONE_ENVIRONMENT')\n",
    ")\n",
    "\n",
    "# Connect to the Pinecone index\n",
    "index = pc.Index('ast-song-embeddings')\n",
    "\n",
    "# Load genre metadata\n",
    "with open('./metadata/genres_metadata.json') as f:\n",
    "    genre_metadata = json.load(f)\n",
    "\n",
    "# Function to fetch embeddings from Pinecone based on song IDs\n",
    "def fetch_embeddings_by_ids(index, song_ids):\n",
    "    embeddings = {}\n",
    "    batch_size = 100  # Adjust batch size as needed\n",
    "    for i in range(0, len(song_ids), batch_size):\n",
    "        batch_ids = song_ids[i:i + batch_size]\n",
    "        response = index.fetch(ids=batch_ids)\n",
    "        for song_id, vector_data in response['vectors'].items():\n",
    "            embeddings[song_id] = vector_data['values']\n",
    "    return embeddings\n",
    "\n",
    "# Get all song IDs from the genre metadata\n",
    "all_song_ids = [song['id'] for songs in genre_metadata.values() for song in songs]\n",
    "\n",
    "# Fetch embeddings for all song IDs\n",
    "song_embeddings_dict = fetch_embeddings_by_ids(index, all_song_ids)\n",
    "\n",
    "# Debugging: Print some IDs to verify\n",
    "#print(\"Fetched song IDs from Pinecone index:\", list(song_embeddings_dict.keys())[:10])\n",
    "\n",
    "# Calculate average embeddings for each genre\n",
    "genre_embeddings = {}\n",
    "for genre, songs in genre_metadata.items():\n",
    "    embeddings = []\n",
    "    for song in songs:\n",
    "        song_id = song['id']\n",
    "        if song_id in song_embeddings_dict:\n",
    "            embeddings.append(song_embeddings_dict[song_id])\n",
    "        else:\n",
    "            print(f\"Song ID {song_id} not found in Pinecone index\")\n",
    "    if embeddings:\n",
    "        genre_embeddings[genre] = np.mean(embeddings, axis=0)\n",
    "    else:\n",
    "        print(f\"No embeddings found for genre {genre}\")\n",
    "\n",
    "# Convert genre embeddings to a list of tuples (genre, embedding)\n",
    "genre_embeddings_list = [(genre, embedding) for genre, embedding in genre_embeddings.items()]\n",
    "\n",
    "# Check if the list is not empty\n",
    "if not genre_embeddings_list:\n",
    "    raise ValueError(\"No genre embeddings found.\")\n",
    "\n",
    "# Separate genre names and embeddings\n",
    "genre_names, embeddings = zip(*genre_embeddings_list)\n",
    "embeddings = np.array(embeddings)\n",
    "\n",
    "# Perform PCA\n",
    "pca = PCA(n_components=2)\n",
    "genre_reduced_embeddings = pca.fit_transform(embeddings)\n",
    "\n",
    "# Perform K-means clustering\n",
    "n_clusters = max(1, len(genre_names) // 5)  # Ensure at least 1 cluster\n",
    "kmeans = KMeans(n_clusters=n_clusters, init=\"k-means++\", n_init=4, random_state=42)\n",
    "genre_cluster_labels = kmeans.fit_predict(genre_reduced_embeddings)\n",
    "\n",
    "# If everything works fine, print success message\n",
    "print(\"PCA and K-means clustering completed successfully.\")"
   ]
  },
  {
   "cell_type": "code",
   "execution_count": 14,
   "metadata": {},
   "outputs": [
    {
     "data": {
      "application/vnd.plotly.v1+json": {
       "config": {
        "plotlyServerURL": "https://plot.ly"
       },
       "data": [
        {
         "fill": "toself",
         "fillcolor": "#4d639a",
         "line": {
          "color": "rgba(0,0,0,0)"
         },
         "mode": "lines",
         "type": "scatter",
         "x": [
          -2.6430619024966764,
          -1.000141168826478,
          0.1018316242573798,
          -1.6313715845322914,
          -13.411380703527607
         ],
         "y": [
          0.6278551330587556,
          1.150461240259553,
          2.7901558929290844,
          16.930311471851862,
          9.954767985576654
         ]
        },
        {
         "fill": "toself",
         "fillcolor": "#e39ca5",
         "line": {
          "color": "rgba(0,0,0,0)"
         },
         "mode": "lines",
         "type": "scatter",
         "x": [
          -2.522318934013404,
          -0.41164882585586093,
          0.056155134260148065,
          -3.1073209806334816
         ],
         "y": [
          -1.1085611591696067,
          -0.6302171799006862,
          -2.0883800042047507,
          -2.4902129350785933
         ]
        },
        {
         "fill": "toself",
         "fillcolor": "#d298cc",
         "line": {
          "color": "rgba(0,0,0,0)"
         },
         "mode": "lines",
         "type": "scatter",
         "x": [
          1.23266901980667,
          0.8709605593512381,
          2.109241723773585,
          2.89642282712396
         ],
         "y": [
          1.5222387974361378,
          -0.07753697532839379,
          -1.365804275799237,
          1.1949549681044314
         ]
        },
        {
         "fill": "toself",
         "fillcolor": "#82c751",
         "line": {
          "color": "rgba(0,0,0,0)"
         },
         "mode": "lines",
         "type": "scatter",
         "x": [
          0.1018316242573798,
          1.23266901980667,
          2.89642282712396,
          16.34444641174555,
          -1.6313715845322914
         ],
         "y": [
          2.7901558929290844,
          1.5222387974361378,
          1.1949549681044314,
          5.895875604167253,
          16.930311471851862
         ]
        },
        {
         "fill": "toself",
         "fillcolor": "#5a87fc",
         "line": {
          "color": "rgba(0,0,0,0)"
         },
         "mode": "lines",
         "type": "scatter",
         "x": [
          -2.522318934013404,
          -2.6430619024966764,
          -1.000141168826478,
          -0.27596047536281776,
          -0.41164882585586093
         ],
         "y": [
          -1.1085611591696067,
          0.6278551330587556,
          1.150461240259553,
          -0.36705670567962334,
          -0.6302171799006862
         ]
        },
        {
         "fill": "toself",
         "fillcolor": "#59e64c",
         "line": {
          "color": "rgba(0,0,0,0)"
         },
         "mode": "lines",
         "type": "scatter",
         "x": [
          -0.41164882585586093,
          -0.27596047536281776,
          0.8709605593512381,
          2.109241723773585,
          2.925032824032468,
          0.056155134260148065
         ],
         "y": [
          -0.6302171799006862,
          -0.36705670567962334,
          -0.07753697532839379,
          -1.365804275799237,
          -4.098458566058446,
          -2.0883800042047507
         ]
        },
        {
         "fill": "toself",
         "fillcolor": "#c65575",
         "line": {
          "color": "rgba(0,0,0,0)"
         },
         "mode": "lines",
         "type": "scatter",
         "x": [
          -12.342720736287603,
          -3.1073209806334816,
          -2.522318934013404,
          -2.6430619024966764,
          -13.411380703527607
         ],
         "y": [
          -13.337119614513222,
          -2.4902129350785933,
          -1.1085611591696067,
          0.6278551330587556,
          9.954767985576654
         ]
        },
        {
         "fill": "toself",
         "fillcolor": "#71437c",
         "line": {
          "color": "rgba(0,0,0,0)"
         },
         "mode": "lines",
         "type": "scatter",
         "x": [
          2.925032824032468,
          10.861928377565343,
          16.34444641174555,
          2.89642282712396,
          2.109241723773585
         ],
         "y": [
          -4.098458566058446,
          -15.928660683157283,
          5.895875604167253,
          1.1949549681044314,
          -1.365804275799237
         ]
        },
        {
         "fill": "toself",
         "fillcolor": "#888dcc",
         "line": {
          "color": "rgba(0,0,0,0)"
         },
         "mode": "lines",
         "type": "scatter",
         "x": [
          1.23266901980667,
          0.1018316242573798,
          -1.000141168826478,
          -0.27596047536281776,
          0.8709605593512381
         ],
         "y": [
          1.5222387974361378,
          2.7901558929290844,
          1.150461240259553,
          -0.36705670567962334,
          -0.07753697532839379
         ]
        },
        {
         "fill": "toself",
         "fillcolor": "#6ef395",
         "line": {
          "color": "rgba(0,0,0,0)"
         },
         "mode": "lines",
         "type": "scatter",
         "x": [
          -12.342720736287603,
          10.861928377565343,
          2.925032824032468,
          0.056155134260148065,
          -3.1073209806334816
         ],
         "y": [
          -13.337119614513222,
          -15.928660683157283,
          -4.098458566058446,
          -2.0883800042047507,
          -2.4902129350785933
         ]
        },
        {
         "marker": {
          "color": "white",
          "size": 10,
          "symbol": "x"
         },
         "mode": "markers",
         "name": "Centroids",
         "type": "scatter",
         "x": [
          -1.9415051816672775,
          -0.9602961142034847,
          1.8262561970733995,
          2.277635491019994,
          -1.2827718318192085,
          0.54208879828373,
          -3.892341067845238,
          3.2306497569259793,
          0.13391142998375755,
          -0.781553406162308
         ],
         "y": [
          1.9912199694853419,
          -1.5025537970468328,
          0.2137777202988473,
          2.508373271754289,
          -0.07964499652545884,
          -1.0205626229709905,
          -0.26110328934995936,
          -0.21793489564299806,
          0.5964159816634294,
          -2.9097263908161413
         ]
        },
        {
         "hoverinfo": "text",
         "marker": {
          "color": "black",
          "size": 5
         },
         "mode": "markers",
         "text": [
          "alt-rock",
          "alternative",
          "ambient",
          "anime",
          "blues",
          "british",
          "chill",
          "club",
          "country",
          "dance",
          "dancehall",
          "disco",
          "edm",
          "electro",
          "electronic",
          "emo",
          "folk",
          "forro",
          "french",
          "funk",
          "garage",
          "grunge",
          "hard-rock",
          "hardcore",
          "hip-hop",
          "house",
          "indie",
          "indie-pop",
          "jazz",
          "k-pop",
          "latin",
          "latino",
          "metal",
          "piano",
          "pop",
          "power-pop",
          "progressive-house",
          "punk",
          "punk-rock",
          "r-n-b",
          "reggae",
          "reggaeton",
          "rock",
          "rock-n-roll",
          "rockabilly",
          "sad",
          "sertanejo",
          "singer-songwriter",
          "songwriter",
          "soul",
          "spanish",
          "swedish",
          "synth-pop",
          "techno"
         ],
         "type": "scatter",
         "x": [
          -1.4460689166156764,
          -1.2753952210740924,
          -3.5968815995582717,
          3.3207768004742584,
          -0.8750842672852105,
          -0.9128684904311235,
          -0.41233070931523325,
          2.010131257901569,
          -1.1989790815408667,
          0.15989228985168383,
          4.0272811915694255,
          -0.4466631954514458,
          -0.5045852686910445,
          0.28814807109959717,
          1.8501952287254086,
          0.27214061822656815,
          -1.2015532881564852,
          0.6411030773952012,
          2.4470548475475526,
          -1.6059354720998837,
          -2.5463956760323234,
          -2.325545916231535,
          -2.276653890884075,
          2.814625154829305,
          1.5533328178647687,
          0.49895833188931976,
          -1.3875898546476897,
          -1.7139728654468842,
          -0.46757915405643735,
          1.8713889334243914,
          2.9099782981099827,
          3.1130669272584197,
          -1.7824564310563276,
          -0.7455109619721236,
          0.40140643476220605,
          -4.187800536132205,
          -0.42201843515761384,
          -1.9355173485030637,
          -1.9440080529411254,
          0.567037332226769,
          2.988821345605236,
          3.023973978538557,
          -1.3685375694634605,
          -0.9385405322152434,
          -0.9385405322152434,
          1.1991770782299562,
          0.8524311284545522,
          0.06673326845871273,
          0.06673326845871273,
          -0.7926515601944295,
          0.6448444026677923,
          1.8462327474508584,
          -1.7570264743348099,
          1.5712264706831247
         ],
         "y": [
          2.063650841262017,
          1.75025605597897,
          -0.7837939219930838,
          0.48762573830598693,
          -0.2519177704169845,
          -1.4238740938140888,
          -1.7894298498506087,
          0.0931851484548617,
          -0.8882897800552043,
          0.5045461456101695,
          0.8742162149217716,
          -1.3452867311075571,
          0.5304081199382005,
          0.3817796493730167,
          0.04716009181307013,
          0.9278035673956646,
          -1.8184931864379918,
          -1.0238738164117767,
          2.1195389102686586,
          0.3589587033561524,
          1.2589271618374238,
          3.3925664971823566,
          0.9071773962631281,
          2.2066981268659864,
          0.4673979148921592,
          0.7670042573369289,
          -0.4931591291564838,
          -0.4215565246275927,
          -2.917774617117001,
          0.33827481702071815,
          -0.6754009300367207,
          -0.6362006249331501,
          2.524755419535446,
          0.04977746425051246,
          -0.5139014094505137,
          0.2615873432931651,
          0.5379811743506954,
          2.0158703436046537,
          2.016556040218741,
          -1.1290787052122906,
          -0.6712973694518238,
          -0.6865524026640524,
          0.28002727744164324,
          -2.905702277665711,
          -2.905702277665711,
          -1.3863769362118232,
          -1.3571724576837783,
          -0.8667675179133766,
          -0.8667675179133766,
          -1.7676243115159045,
          0.5253889576393297,
          0.12287062931342725,
          -1.484878626546475,
          3.198882778128223
         ]
        }
       ],
       "layout": {
        "height": 800,
        "plot_bgcolor": "rgba(0,0,0,0)",
        "showlegend": false,
        "template": {
         "data": {
          "bar": [
           {
            "error_x": {
             "color": "#2a3f5f"
            },
            "error_y": {
             "color": "#2a3f5f"
            },
            "marker": {
             "line": {
              "color": "#E5ECF6",
              "width": 0.5
             },
             "pattern": {
              "fillmode": "overlay",
              "size": 10,
              "solidity": 0.2
             }
            },
            "type": "bar"
           }
          ],
          "barpolar": [
           {
            "marker": {
             "line": {
              "color": "#E5ECF6",
              "width": 0.5
             },
             "pattern": {
              "fillmode": "overlay",
              "size": 10,
              "solidity": 0.2
             }
            },
            "type": "barpolar"
           }
          ],
          "carpet": [
           {
            "aaxis": {
             "endlinecolor": "#2a3f5f",
             "gridcolor": "white",
             "linecolor": "white",
             "minorgridcolor": "white",
             "startlinecolor": "#2a3f5f"
            },
            "baxis": {
             "endlinecolor": "#2a3f5f",
             "gridcolor": "white",
             "linecolor": "white",
             "minorgridcolor": "white",
             "startlinecolor": "#2a3f5f"
            },
            "type": "carpet"
           }
          ],
          "choropleth": [
           {
            "colorbar": {
             "outlinewidth": 0,
             "ticks": ""
            },
            "type": "choropleth"
           }
          ],
          "contour": [
           {
            "colorbar": {
             "outlinewidth": 0,
             "ticks": ""
            },
            "colorscale": [
             [
              0,
              "#0d0887"
             ],
             [
              0.1111111111111111,
              "#46039f"
             ],
             [
              0.2222222222222222,
              "#7201a8"
             ],
             [
              0.3333333333333333,
              "#9c179e"
             ],
             [
              0.4444444444444444,
              "#bd3786"
             ],
             [
              0.5555555555555556,
              "#d8576b"
             ],
             [
              0.6666666666666666,
              "#ed7953"
             ],
             [
              0.7777777777777778,
              "#fb9f3a"
             ],
             [
              0.8888888888888888,
              "#fdca26"
             ],
             [
              1,
              "#f0f921"
             ]
            ],
            "type": "contour"
           }
          ],
          "contourcarpet": [
           {
            "colorbar": {
             "outlinewidth": 0,
             "ticks": ""
            },
            "type": "contourcarpet"
           }
          ],
          "heatmap": [
           {
            "colorbar": {
             "outlinewidth": 0,
             "ticks": ""
            },
            "colorscale": [
             [
              0,
              "#0d0887"
             ],
             [
              0.1111111111111111,
              "#46039f"
             ],
             [
              0.2222222222222222,
              "#7201a8"
             ],
             [
              0.3333333333333333,
              "#9c179e"
             ],
             [
              0.4444444444444444,
              "#bd3786"
             ],
             [
              0.5555555555555556,
              "#d8576b"
             ],
             [
              0.6666666666666666,
              "#ed7953"
             ],
             [
              0.7777777777777778,
              "#fb9f3a"
             ],
             [
              0.8888888888888888,
              "#fdca26"
             ],
             [
              1,
              "#f0f921"
             ]
            ],
            "type": "heatmap"
           }
          ],
          "heatmapgl": [
           {
            "colorbar": {
             "outlinewidth": 0,
             "ticks": ""
            },
            "colorscale": [
             [
              0,
              "#0d0887"
             ],
             [
              0.1111111111111111,
              "#46039f"
             ],
             [
              0.2222222222222222,
              "#7201a8"
             ],
             [
              0.3333333333333333,
              "#9c179e"
             ],
             [
              0.4444444444444444,
              "#bd3786"
             ],
             [
              0.5555555555555556,
              "#d8576b"
             ],
             [
              0.6666666666666666,
              "#ed7953"
             ],
             [
              0.7777777777777778,
              "#fb9f3a"
             ],
             [
              0.8888888888888888,
              "#fdca26"
             ],
             [
              1,
              "#f0f921"
             ]
            ],
            "type": "heatmapgl"
           }
          ],
          "histogram": [
           {
            "marker": {
             "pattern": {
              "fillmode": "overlay",
              "size": 10,
              "solidity": 0.2
             }
            },
            "type": "histogram"
           }
          ],
          "histogram2d": [
           {
            "colorbar": {
             "outlinewidth": 0,
             "ticks": ""
            },
            "colorscale": [
             [
              0,
              "#0d0887"
             ],
             [
              0.1111111111111111,
              "#46039f"
             ],
             [
              0.2222222222222222,
              "#7201a8"
             ],
             [
              0.3333333333333333,
              "#9c179e"
             ],
             [
              0.4444444444444444,
              "#bd3786"
             ],
             [
              0.5555555555555556,
              "#d8576b"
             ],
             [
              0.6666666666666666,
              "#ed7953"
             ],
             [
              0.7777777777777778,
              "#fb9f3a"
             ],
             [
              0.8888888888888888,
              "#fdca26"
             ],
             [
              1,
              "#f0f921"
             ]
            ],
            "type": "histogram2d"
           }
          ],
          "histogram2dcontour": [
           {
            "colorbar": {
             "outlinewidth": 0,
             "ticks": ""
            },
            "colorscale": [
             [
              0,
              "#0d0887"
             ],
             [
              0.1111111111111111,
              "#46039f"
             ],
             [
              0.2222222222222222,
              "#7201a8"
             ],
             [
              0.3333333333333333,
              "#9c179e"
             ],
             [
              0.4444444444444444,
              "#bd3786"
             ],
             [
              0.5555555555555556,
              "#d8576b"
             ],
             [
              0.6666666666666666,
              "#ed7953"
             ],
             [
              0.7777777777777778,
              "#fb9f3a"
             ],
             [
              0.8888888888888888,
              "#fdca26"
             ],
             [
              1,
              "#f0f921"
             ]
            ],
            "type": "histogram2dcontour"
           }
          ],
          "mesh3d": [
           {
            "colorbar": {
             "outlinewidth": 0,
             "ticks": ""
            },
            "type": "mesh3d"
           }
          ],
          "parcoords": [
           {
            "line": {
             "colorbar": {
              "outlinewidth": 0,
              "ticks": ""
             }
            },
            "type": "parcoords"
           }
          ],
          "pie": [
           {
            "automargin": true,
            "type": "pie"
           }
          ],
          "scatter": [
           {
            "fillpattern": {
             "fillmode": "overlay",
             "size": 10,
             "solidity": 0.2
            },
            "type": "scatter"
           }
          ],
          "scatter3d": [
           {
            "line": {
             "colorbar": {
              "outlinewidth": 0,
              "ticks": ""
             }
            },
            "marker": {
             "colorbar": {
              "outlinewidth": 0,
              "ticks": ""
             }
            },
            "type": "scatter3d"
           }
          ],
          "scattercarpet": [
           {
            "marker": {
             "colorbar": {
              "outlinewidth": 0,
              "ticks": ""
             }
            },
            "type": "scattercarpet"
           }
          ],
          "scattergeo": [
           {
            "marker": {
             "colorbar": {
              "outlinewidth": 0,
              "ticks": ""
             }
            },
            "type": "scattergeo"
           }
          ],
          "scattergl": [
           {
            "marker": {
             "colorbar": {
              "outlinewidth": 0,
              "ticks": ""
             }
            },
            "type": "scattergl"
           }
          ],
          "scattermapbox": [
           {
            "marker": {
             "colorbar": {
              "outlinewidth": 0,
              "ticks": ""
             }
            },
            "type": "scattermapbox"
           }
          ],
          "scatterpolar": [
           {
            "marker": {
             "colorbar": {
              "outlinewidth": 0,
              "ticks": ""
             }
            },
            "type": "scatterpolar"
           }
          ],
          "scatterpolargl": [
           {
            "marker": {
             "colorbar": {
              "outlinewidth": 0,
              "ticks": ""
             }
            },
            "type": "scatterpolargl"
           }
          ],
          "scatterternary": [
           {
            "marker": {
             "colorbar": {
              "outlinewidth": 0,
              "ticks": ""
             }
            },
            "type": "scatterternary"
           }
          ],
          "surface": [
           {
            "colorbar": {
             "outlinewidth": 0,
             "ticks": ""
            },
            "colorscale": [
             [
              0,
              "#0d0887"
             ],
             [
              0.1111111111111111,
              "#46039f"
             ],
             [
              0.2222222222222222,
              "#7201a8"
             ],
             [
              0.3333333333333333,
              "#9c179e"
             ],
             [
              0.4444444444444444,
              "#bd3786"
             ],
             [
              0.5555555555555556,
              "#d8576b"
             ],
             [
              0.6666666666666666,
              "#ed7953"
             ],
             [
              0.7777777777777778,
              "#fb9f3a"
             ],
             [
              0.8888888888888888,
              "#fdca26"
             ],
             [
              1,
              "#f0f921"
             ]
            ],
            "type": "surface"
           }
          ],
          "table": [
           {
            "cells": {
             "fill": {
              "color": "#EBF0F8"
             },
             "line": {
              "color": "white"
             }
            },
            "header": {
             "fill": {
              "color": "#C8D4E3"
             },
             "line": {
              "color": "white"
             }
            },
            "type": "table"
           }
          ]
         },
         "layout": {
          "annotationdefaults": {
           "arrowcolor": "#2a3f5f",
           "arrowhead": 0,
           "arrowwidth": 1
          },
          "autotypenumbers": "strict",
          "coloraxis": {
           "colorbar": {
            "outlinewidth": 0,
            "ticks": ""
           }
          },
          "colorscale": {
           "diverging": [
            [
             0,
             "#8e0152"
            ],
            [
             0.1,
             "#c51b7d"
            ],
            [
             0.2,
             "#de77ae"
            ],
            [
             0.3,
             "#f1b6da"
            ],
            [
             0.4,
             "#fde0ef"
            ],
            [
             0.5,
             "#f7f7f7"
            ],
            [
             0.6,
             "#e6f5d0"
            ],
            [
             0.7,
             "#b8e186"
            ],
            [
             0.8,
             "#7fbc41"
            ],
            [
             0.9,
             "#4d9221"
            ],
            [
             1,
             "#276419"
            ]
           ],
           "sequential": [
            [
             0,
             "#0d0887"
            ],
            [
             0.1111111111111111,
             "#46039f"
            ],
            [
             0.2222222222222222,
             "#7201a8"
            ],
            [
             0.3333333333333333,
             "#9c179e"
            ],
            [
             0.4444444444444444,
             "#bd3786"
            ],
            [
             0.5555555555555556,
             "#d8576b"
            ],
            [
             0.6666666666666666,
             "#ed7953"
            ],
            [
             0.7777777777777778,
             "#fb9f3a"
            ],
            [
             0.8888888888888888,
             "#fdca26"
            ],
            [
             1,
             "#f0f921"
            ]
           ],
           "sequentialminus": [
            [
             0,
             "#0d0887"
            ],
            [
             0.1111111111111111,
             "#46039f"
            ],
            [
             0.2222222222222222,
             "#7201a8"
            ],
            [
             0.3333333333333333,
             "#9c179e"
            ],
            [
             0.4444444444444444,
             "#bd3786"
            ],
            [
             0.5555555555555556,
             "#d8576b"
            ],
            [
             0.6666666666666666,
             "#ed7953"
            ],
            [
             0.7777777777777778,
             "#fb9f3a"
            ],
            [
             0.8888888888888888,
             "#fdca26"
            ],
            [
             1,
             "#f0f921"
            ]
           ]
          },
          "colorway": [
           "#636efa",
           "#EF553B",
           "#00cc96",
           "#ab63fa",
           "#FFA15A",
           "#19d3f3",
           "#FF6692",
           "#B6E880",
           "#FF97FF",
           "#FECB52"
          ],
          "font": {
           "color": "#2a3f5f"
          },
          "geo": {
           "bgcolor": "white",
           "lakecolor": "white",
           "landcolor": "#E5ECF6",
           "showlakes": true,
           "showland": true,
           "subunitcolor": "white"
          },
          "hoverlabel": {
           "align": "left"
          },
          "hovermode": "closest",
          "mapbox": {
           "style": "light"
          },
          "paper_bgcolor": "white",
          "plot_bgcolor": "#E5ECF6",
          "polar": {
           "angularaxis": {
            "gridcolor": "white",
            "linecolor": "white",
            "ticks": ""
           },
           "bgcolor": "#E5ECF6",
           "radialaxis": {
            "gridcolor": "white",
            "linecolor": "white",
            "ticks": ""
           }
          },
          "scene": {
           "xaxis": {
            "backgroundcolor": "#E5ECF6",
            "gridcolor": "white",
            "gridwidth": 2,
            "linecolor": "white",
            "showbackground": true,
            "ticks": "",
            "zerolinecolor": "white"
           },
           "yaxis": {
            "backgroundcolor": "#E5ECF6",
            "gridcolor": "white",
            "gridwidth": 2,
            "linecolor": "white",
            "showbackground": true,
            "ticks": "",
            "zerolinecolor": "white"
           },
           "zaxis": {
            "backgroundcolor": "#E5ECF6",
            "gridcolor": "white",
            "gridwidth": 2,
            "linecolor": "white",
            "showbackground": true,
            "ticks": "",
            "zerolinecolor": "white"
           }
          },
          "shapedefaults": {
           "line": {
            "color": "#2a3f5f"
           }
          },
          "ternary": {
           "aaxis": {
            "gridcolor": "white",
            "linecolor": "white",
            "ticks": ""
           },
           "baxis": {
            "gridcolor": "white",
            "linecolor": "white",
            "ticks": ""
           },
           "bgcolor": "#E5ECF6",
           "caxis": {
            "gridcolor": "white",
            "linecolor": "white",
            "ticks": ""
           }
          },
          "title": {
           "x": 0.05
          },
          "xaxis": {
           "automargin": true,
           "gridcolor": "white",
           "linecolor": "white",
           "ticks": "",
           "title": {
            "standoff": 15
           },
           "zerolinecolor": "white",
           "zerolinewidth": 2
          },
          "yaxis": {
           "automargin": true,
           "gridcolor": "white",
           "linecolor": "white",
           "ticks": "",
           "title": {
            "standoff": 15
           },
           "zerolinecolor": "white",
           "zerolinewidth": 2
          }
         }
        },
        "title": {
         "text": "K-means clustering on Spotify genre embeddings (PCA-reduced)"
        },
        "width": 800,
        "xaxis": {
         "maxallowed": 5.0272811915694255,
         "minallowed": -5.187800536132205,
         "visible": false
        },
        "yaxis": {
         "maxallowed": 4.392566497182356,
         "minallowed": -3.917774617117001,
         "visible": false
        }
       }
      }
     },
     "metadata": {},
     "output_type": "display_data"
    }
   ],
   "source": [
    "# Create a DataFrame for easier manipulation\n",
    "data = {\n",
    "    'x': genre_reduced_embeddings[:, 0],\n",
    "    'y': genre_reduced_embeddings[:, 1],\n",
    "    'name': genre_names,\n",
    "    'cluster': genre_cluster_labels,\n",
    "    'id': [genre for genre in genre_names]\n",
    "}\n",
    "df = pd.DataFrame(data)\n",
    "\n",
    "# Voronoi diagram\n",
    "vor = Voronoi(kmeans.cluster_centers_)\n",
    "regions, vertices = voronoi_finite_polygons_2d(vor)\n",
    "\n",
    "# Generate a unique color for each region\n",
    "def generate_color(name, factor=0.25):\n",
    "    \"\"\"Generate a pastel color for the given name.\"\"\"\n",
    "    # Generate a color based on the hash of the name\n",
    "    hash_object = hashlib.md5(name.encode())\n",
    "    hex_dig = hash_object.hexdigest()\n",
    "    base_color = [int(hex_dig[i:i+2], 16) for i in (0, 2, 4)]\n",
    "\n",
    "    # Mix the color with white\n",
    "    pastel_color = [(1 - factor) * c + factor * 255 for c in base_color]\n",
    "    pastel_color_hex = ''.join(f'{int(c):02x}' for c in pastel_color)\n",
    "\n",
    "    return '#' + pastel_color_hex\n",
    "\n",
    "# Create Plotly figure\n",
    "fig = go.Figure()\n",
    "\n",
    "# Add Voronoi regions, each with a different color\n",
    "for region, center in zip(regions, kmeans.cluster_centers_):\n",
    "    polygon = vertices[region]\n",
    "    color = generate_color(str(center))\n",
    "    fig.add_trace(go.Scatter(\n",
    "        x=polygon[:, 0],\n",
    "        y=polygon[:, 1],\n",
    "        fill=\"toself\",\n",
    "        fillcolor=color,\n",
    "        mode='lines',\n",
    "        line=dict(color='rgba(0,0,0,0)')  # No border color\n",
    "    ))\n",
    "\n",
    "# Add centroids\n",
    "fig.add_trace(go.Scatter(\n",
    "    x=kmeans.cluster_centers_[:, 0],\n",
    "    y=kmeans.cluster_centers_[:, 1],\n",
    "    mode='markers',\n",
    "    marker=dict(size=10, color='white', symbol='x'),\n",
    "    name='Centroids'\n",
    "))\n",
    "\n",
    "# Add scatter plot of points\n",
    "fig.add_trace(go.Scatter(\n",
    "    x=df['x'],\n",
    "    y=df['y'],\n",
    "    mode='markers',\n",
    "    marker=dict(color='black', size=5),\n",
    "    text=df.apply(lambda row: f\"{row['name']}\", axis=1),\n",
    "    hoverinfo='text'\n",
    "))\n",
    "\n",
    "# Update layout\n",
    "fig.update_layout(\n",
    "    title=\"K-means clustering on Spotify genre embeddings (PCA-reduced)\",\n",
    "    xaxis=dict(visible=False),\n",
    "    yaxis=dict(visible=False),\n",
    "    showlegend=False,\n",
    "    width=800,\n",
    "    height=800,\n",
    "    plot_bgcolor='rgba(0,0,0,0)'\n",
    ")\n",
    "\n",
    "fig.update_xaxes(minallowed=df['x'].min()-1, maxallowed=df['x'].max()+1)\n",
    "fig.update_yaxes(minallowed=df['y'].min()-1, maxallowed=df['y'].max()+1)\n",
    "\n",
    "# Show the plot\n",
    "fig.show()"
   ]
  }
 ],
 "metadata": {
  "kernelspec": {
   "display_name": "Python 3",
   "language": "python",
   "name": "python3"
  },
  "language_info": {
   "codemirror_mode": {
    "name": "ipython",
    "version": 3
   },
   "file_extension": ".py",
   "mimetype": "text/x-python",
   "name": "python",
   "nbconvert_exporter": "python",
   "pygments_lexer": "ipython3",
   "version": "3.11.9"
  }
 },
 "nbformat": 4,
 "nbformat_minor": 2
}
