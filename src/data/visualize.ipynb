{
 "cells": [
  {
   "cell_type": "code",
   "execution_count": 11,
   "metadata": {},
   "outputs": [],
   "source": [
    "import os\n",
    "from sklearn.cluster import KMeans\n",
    "from sklearn.decomposition import PCA\n",
    "from pinecone import Pinecone\n",
    "from dotenv import load_dotenv\n",
    "import pandas as pd\n",
    "import numpy as np\n",
    "import plotly.graph_objects as go\n",
    "from scipy.spatial import Voronoi\n",
    "import hashlib"
   ]
  },
  {
   "cell_type": "code",
   "execution_count": 12,
   "metadata": {},
   "outputs": [],
   "source": [
    "# Load environment variables\n",
    "load_dotenv()\n",
    "\n",
    "# Initialize Pinecone\n",
    "pc = Pinecone(\n",
    "    api_key=os.getenv('PINECONE_API_KEY'),\n",
    "    environment=os.getenv('PINECONE_ENVIRONMENT')\n",
    ")\n"
   ]
  },
  {
   "cell_type": "code",
   "execution_count": 13,
   "metadata": {},
   "outputs": [],
   "source": [
    "# Function to fetch embeddings from a Pinecone index\n",
    "def fetch_embeddings(index_name, vector_count, dimensions):\n",
    "    index = pc.Index(index_name)\n",
    "    vector_count = index.describe_index_stats()['total_vector_count']\n",
    "    index_arr = index.query(vector=[0 for _ in range(dimensions)], top_k=vector_count, include_metadata=True)\n",
    "\n",
    "    vector_ids = [v['id'] for v in index_arr['matches']]\n",
    "    batch_size = 100  # Adjust batch size as needed\n",
    "    embeddings = []\n",
    "    metadata = []\n",
    "\n",
    "    for i in range(0, len(vector_ids), batch_size):\n",
    "        batch_ids = vector_ids[i:i + batch_size]\n",
    "        response = index.fetch(ids=batch_ids)\n",
    "        batch_embeddings = [v['values'] for v in response['vectors'].values()]\n",
    "        batch_metadata = [v['metadata'] for v in response['vectors'].values()]\n",
    "        for id_, meta in zip(batch_ids, batch_metadata):\n",
    "            meta['id'] = id_\n",
    "        embeddings.extend(batch_embeddings)\n",
    "        metadata.extend(batch_metadata)\n",
    "\n",
    "    return np.array(embeddings), metadata, vector_count\n",
    "\n",
    "# Fetch song embeddings\n",
    "song_embeddings, song_metadata, song_clusters = fetch_embeddings('song-embeddings', 768, 768)\n",
    "\n",
    "# Fetch artist embeddings\n",
    "artist_embeddings, artist_metadata, artist_clusters = fetch_embeddings('artist-embeddings', 768, 768)\n",
    "\n",
    "# Fetch genre embeddings\n",
    "genre_embeddings, genre_metadata, genre_clusters = fetch_embeddings('genre-embeddings', 768, 768)\n"
   ]
  },
  {
   "cell_type": "code",
   "execution_count": 14,
   "metadata": {},
   "outputs": [],
   "source": [
    "# Credit to gmacro on stackoverflow for the foundation for this function\n",
    "def voronoi_finite_polygons_2d(vor, radius=None):\n",
    "    # Check if the input is 2D\n",
    "    if vor.points.shape[1] != 2:\n",
    "        raise ValueError(\"Requires 2D input\")\n",
    "\n",
    "    # Calculate the center of the points\n",
    "    center = vor.points.mean(axis=0)\n",
    "    if radius is None:\n",
    "        radius = vor.points.ptp().max() * 2\n",
    "\n",
    "    new_regions = []\n",
    "    new_vertices = vor.vertices.tolist()\n",
    "\n",
    "    # Construct a map containing all ridges for a given point\n",
    "    all_ridges = construct_ridge_map(vor)\n",
    "\n",
    "    # Reconstruct regions\n",
    "    for p1, region in enumerate(vor.point_region):\n",
    "        vertices = vor.regions[region]\n",
    "\n",
    "        if all(v >= 0 for v in vertices):\n",
    "            # Finite region\n",
    "            new_regions.append(vertices)\n",
    "        else:\n",
    "            # Reconstruct a non-finite region\n",
    "            new_region = reconstruct_infinite_region(p1, vertices, all_ridges, vor, center, radius, new_vertices)\n",
    "            new_regions.append(new_region)\n",
    "\n",
    "    return new_regions, np.asarray(new_vertices)\n",
    "\n",
    "def construct_ridge_map(vor):\n",
    "    all_ridges = {}\n",
    "    for (p1, p2), (v1, v2) in zip(vor.ridge_points, vor.ridge_vertices):\n",
    "        all_ridges.setdefault(p1, []).append((p2, v1, v2))\n",
    "        all_ridges.setdefault(p2, []).append((p1, v1, v2))\n",
    "    return all_ridges\n",
    "\n",
    "def reconstruct_infinite_region(p1, vertices, all_ridges, vor, center, radius, new_vertices):\n",
    "    new_region = [v for v in vertices if v >= 0]\n",
    "    for p2, v1, v2 in all_ridges[p1]:\n",
    "        if v2 < 0:\n",
    "            v1, v2 = v2, v1\n",
    "        if v1 >= 0:\n",
    "            # Finite ridge: already in the region\n",
    "            continue\n",
    "        # Compute the missing endpoint of an infinite ridge\n",
    "        far_point = compute_far_point(p1, p2, v2, vor, center, radius)\n",
    "        new_region.append(len(new_vertices))\n",
    "        new_vertices.append(far_point.tolist())\n",
    "    # Sort region counterclockwise\n",
    "    new_region = sort_region_counterclockwise(new_region, new_vertices)\n",
    "    return new_region\n",
    "\n",
    "def compute_far_point(p1, p2, v2, vor, center, radius):\n",
    "    tangent = vor.points[p2] - vor.points[p1]  # Tangent vector\n",
    "    tangent /= np.linalg.norm(tangent)\n",
    "    normal = np.array([-tangent[1], tangent[0]])  # Normal vector\n",
    "    midpoint = vor.points[[p1, p2]].mean(axis=0)\n",
    "    direction = np.sign(np.dot(midpoint - center, normal)) * normal\n",
    "    far_point = vor.vertices[v2] + direction * radius\n",
    "    return far_point\n",
    "\n",
    "def sort_region_counterclockwise(region, vertices):\n",
    "    vs = np.asarray([vertices[v] for v in region])\n",
    "    center = vs.mean(axis=0)\n",
    "    angles = np.arctan2(vs[:, 1] - center[1], vs[:, 0] - center[0])\n",
    "    sorted_region = np.array(region)[np.argsort(angles)]\n",
    "    return sorted_region.tolist()"
   ]
  },
  {
   "cell_type": "code",
   "execution_count": 15,
   "metadata": {},
   "outputs": [],
   "source": [
    "# Perform PCA\n",
    "pca = PCA(n_components=2)\n",
    "song_reduced_embeddings = pca.fit_transform(song_embeddings)\n",
    "# Perform K-means clustering\n",
    "n_clusters = song_clusters // 20  # Adjust this number as needed\n",
    "kmeans = KMeans(n_clusters=n_clusters, init=\"k-means++\", n_init=4, random_state=42)\n",
    "song_cluster_labels = kmeans.fit_predict(song_reduced_embeddings)"
   ]
  },
  {
   "cell_type": "code",
   "execution_count": 16,
   "metadata": {},
   "outputs": [
    {
     "data": {
      "application/vnd.plotly.v1+json": {
       "config": {
        "plotlyServerURL": "https://plot.ly"
       },
       "data": [
        {
         "fill": "toself",
         "fillcolor": "#60546f",
         "line": {
          "color": "rgba(0,0,0,0)"
         },
         "mode": "lines",
         "type": "scatter",
         "x": [
          -2.9395624436241765,
          -2.897366765978001,
          -1.3404825490983392,
          -1.7531347541628244,
          -3.4677111622163714,
          -3.69974388662844
         ],
         "y": [
          -1.9926025521029014,
          -2.005090845170034,
          -1.3077107915084734,
          0.4478816234782384,
          0.1260819861606436,
          -0.16081580244379912
         ]
        },
        {
         "fill": "toself",
         "fillcolor": "#409bdb",
         "line": {
          "color": "rgba(0,0,0,0)"
         },
         "mode": "lines",
         "type": "scatter",
         "x": [
          1.6715223803708625,
          2.6632928049220412,
          2.787819626531956,
          15.059926577553556,
          10.093736786119884
         ],
         "y": [
          1.3173120314891071,
          0.05954997367689152,
          0.028197216826814198,
          11.710770035765451,
          16.019469056589546
         ]
        },
        {
         "fill": "toself",
         "fillcolor": "#8aed40",
         "line": {
          "color": "rgba(0,0,0,0)"
         },
         "mode": "lines",
         "type": "scatter",
         "x": [
          -1.4859709920402422,
          -1.597981281333607,
          -0.6945570919181681,
          0.6380025512096016,
          0.41860669068714107,
          -0.19017434695415913
         ],
         "y": [
          0.7119695847076195,
          2.737678891065002,
          3.7994101423638,
          1.0521455161874729,
          0.6801989104305057,
          0.4366888932778486
         ]
        },
        {
         "fill": "toself",
         "fillcolor": "#c691d5",
         "line": {
          "color": "rgba(0,0,0,0)"
         },
         "mode": "lines",
         "type": "scatter",
         "x": [
          11.923442163716,
          18.965874360902518,
          3.6864732711478636,
          1.6860287966884255,
          1.2737229641873602
         ],
         "y": [
          -16.19583399197951,
          -9.034308706697226,
          -1.71126159326686,
          -2.109446360881389,
          -3.017419912193289
         ]
        },
        {
         "fill": "toself",
         "fillcolor": "#816863",
         "line": {
          "color": "rgba(0,0,0,0)"
         },
         "mode": "lines",
         "type": "scatter",
         "x": [
          -20.634783096041765,
          -3.69974388662844,
          -3.4677111622163714,
          -3.5852651683287906,
          -18.052658794614356
         ],
         "y": [
          -0.7007821557935017,
          -0.16081580244379912,
          0.1260819861606436,
          2.3019378162518054,
          11.121327724245912
         ]
        },
        {
         "fill": "toself",
         "fillcolor": "#fd7f4e",
         "line": {
          "color": "rgba(0,0,0,0)"
         },
         "mode": "lines",
         "type": "scatter",
         "x": [
          -0.6093585728914759,
          -0.24841713150580763,
          -1.143830658866537,
          -2.897366765978001,
          -1.3404825490983392
         ],
         "y": [
          -1.503551555790781,
          -3.3311147162571464,
          -4.425382891633834,
          -2.005090845170034,
          -1.3077107915084734
         ]
        },
        {
         "fill": "toself",
         "fillcolor": "#66d0c8",
         "line": {
          "color": "rgba(0,0,0,0)"
         },
         "mode": "lines",
         "type": "scatter",
         "x": [
          -3.5852651683287906,
          -1.597981281333607,
          -0.6945570919181681,
          4.910371269978864,
          -18.052658794614356
         ],
         "y": [
          2.3019378162518054,
          2.737678891065002,
          3.7994101423638,
          19.78915356573113,
          11.121327724245912
         ]
        },
        {
         "fill": "toself",
         "fillcolor": "#72a3fc",
         "line": {
          "color": "rgba(0,0,0,0)"
         },
         "mode": "lines",
         "type": "scatter",
         "x": [
          1.6860287966884255,
          3.6864732711478636,
          2.787819626531956,
          2.6632928049220412,
          1.249493121111038,
          1.1334889939756638
         ],
         "y": [
          -2.109446360881389,
          -1.71126159326686,
          0.028197216826814198,
          0.05954997367689152,
          -0.6968462948534881,
          -1.154466890876519
         ]
        },
        {
         "fill": "toself",
         "fillcolor": "#68ee5b",
         "line": {
          "color": "rgba(0,0,0,0)"
         },
         "mode": "lines",
         "type": "scatter",
         "x": [
          2.787819626531956,
          3.6864732711478636,
          18.965874360902518,
          15.059926577553556
         ],
         "y": [
          0.028197216826814198,
          -1.71126159326686,
          -9.034308706697226,
          11.710770035765451
         ]
        },
        {
         "fill": "toself",
         "fillcolor": "#4b8db4",
         "line": {
          "color": "rgba(0,0,0,0)"
         },
         "mode": "lines",
         "type": "scatter",
         "x": [
          -0.6093585728914759,
          -0.24841713150580763,
          1.2737229641873602,
          1.6860287966884255,
          1.1334889939756638,
          -0.412419407759384
         ],
         "y": [
          -1.503551555790781,
          -3.3311147162571464,
          -3.017419912193289,
          -2.109446360881389,
          -1.154466890876519,
          -1.3414207682364445
         ]
        },
        {
         "fill": "toself",
         "fillcolor": "#ccea68",
         "line": {
          "color": "rgba(0,0,0,0)"
         },
         "mode": "lines",
         "type": "scatter",
         "x": [
          -0.6945570919181681,
          0.6380025512096016,
          1.6715223803708625,
          10.093736786119884,
          4.910371269978864
         ],
         "y": [
          3.7994101423638,
          1.0521455161874729,
          1.3173120314891071,
          16.019469056589546,
          19.78915356573113
         ]
        },
        {
         "fill": "toself",
         "fillcolor": "#768dd1",
         "line": {
          "color": "rgba(0,0,0,0)"
         },
         "mode": "lines",
         "type": "scatter",
         "x": [
          -16.657164057519303,
          -2.9395624436241765,
          -3.69974388662844,
          -20.634783096041765
         ],
         "y": [
          -11.938180597122626,
          -1.9926025521029014,
          -0.16081580244379912,
          -0.7007821557935017
         ]
        },
        {
         "fill": "toself",
         "fillcolor": "#8a6f75",
         "line": {
          "color": "rgba(0,0,0,0)"
         },
         "mode": "lines",
         "type": "scatter",
         "x": [
          -0.19017434695415913,
          0.41860669068714107,
          1.249493121111038,
          1.1334889939756638,
          -0.412419407759384
         ],
         "y": [
          0.4366888932778486,
          0.6801989104305057,
          -0.6968462948534881,
          -1.154466890876519,
          -1.3414207682364445
         ]
        },
        {
         "fill": "toself",
         "fillcolor": "#fc59f9",
         "line": {
          "color": "rgba(0,0,0,0)"
         },
         "mode": "lines",
         "type": "scatter",
         "x": [
          -1.7531347541628244,
          -3.4677111622163714,
          -3.5852651683287906,
          -1.597981281333607,
          -1.4859709920402422
         ],
         "y": [
          0.4478816234782384,
          0.1260819861606436,
          2.3019378162518054,
          2.737678891065002,
          0.7119695847076195
         ]
        },
        {
         "fill": "toself",
         "fillcolor": "#f9b1b4",
         "line": {
          "color": "rgba(0,0,0,0)"
         },
         "mode": "lines",
         "type": "scatter",
         "x": [
          -16.657164057519303,
          -4.338626399625835,
          -1.143830658866537,
          -2.897366765978001,
          -2.9395624436241765
         ],
         "y": [
          -11.938180597122626,
          -21.06510635273567,
          -4.425382891633834,
          -2.005090845170034,
          -1.9926025521029014
         ]
        },
        {
         "fill": "toself",
         "fillcolor": "#d4517b",
         "line": {
          "color": "rgba(0,0,0,0)"
         },
         "mode": "lines",
         "type": "scatter",
         "x": [
          2.6632928049220412,
          1.6715223803708625,
          0.6380025512096016,
          0.41860669068714107,
          1.249493121111038
         ],
         "y": [
          0.05954997367689152,
          1.3173120314891071,
          1.0521455161874729,
          0.6801989104305057,
          -0.6968462948534881
         ]
        },
        {
         "fill": "toself",
         "fillcolor": "#95f9ba",
         "line": {
          "color": "rgba(0,0,0,0)"
         },
         "mode": "lines",
         "type": "scatter",
         "x": [
          -1.7531347541628244,
          -1.3404825490983392,
          -0.6093585728914759,
          -0.412419407759384,
          -0.19017434695415913,
          -1.4859709920402422
         ],
         "y": [
          0.4478816234782384,
          -1.3077107915084734,
          -1.503551555790781,
          -1.3414207682364445,
          0.4366888932778486,
          0.7119695847076195
         ]
        },
        {
         "fill": "toself",
         "fillcolor": "#75f6e2",
         "line": {
          "color": "rgba(0,0,0,0)"
         },
         "mode": "lines",
         "type": "scatter",
         "x": [
          -4.338626399625835,
          11.923442163716,
          1.2737229641873602,
          -0.24841713150580763,
          -1.143830658866537
         ],
         "y": [
          -21.06510635273567,
          -16.19583399197951,
          -3.017419912193289,
          -3.3311147162571464,
          -4.425382891633834
         ]
        },
        {
         "marker": {
          "color": "white",
          "size": 10,
          "symbol": "x"
         },
         "mode": "markers",
         "name": "Centroids",
         "type": "scatter",
         "x": [
          -2.1755556539345053,
          2.7438975614657077,
          -0.4968258336382255,
          2.582369464828435,
          -4.510046320118527,
          -1.4157694847149505,
          -3.0512679685219912,
          2.1915290967319465,
          3.9617763392493575,
          0.4619867942957288,
          1.0328285527770935,
          -4.420146329577357,
          0.2824430229861492,
          -2.5497910801522186,
          -3.0219846802854486,
          1.5299124668238981,
          -0.8798400597194138,
          0.9348098447257903
         ],
         "y": [
          -0.6634988270803084,
          1.2057400446452564,
          1.4439774059197432,
          -2.9517028724814076,
          1.2245541691596027,
          -2.359703197782668,
          3.617545163573089,
          -0.9881560009164861,
          -0.07359618085736024,
          -1.9888486781806476,
          2.185935673735913,
          -1.5949916327148292,
          -0.5042139197780875,
          1.3304600169984488,
          -3.5234290156397066,
          0.2484886271506227,
          -0.35894072320325093,
          -4.2831261539435035
         ]
        },
        {
         "hoverinfo": "text",
         "marker": {
          "color": "black",
          "size": 5
         },
         "mode": "markers",
         "text": [
          "Smalltown Boy by Bronski Beat",
          "REAL GANGSTA LOVE by Trueno",
          "Whatever by Kygo",
          "Get Lucky (Radio Edit) [feat. Pharrell Williams and Nile Rodgers] by Daft Punk",
          "Carry You Home by Alex Warren",
          "Desilusão (MTG) (feat. Loirin Prod) by Bruno & Marrone",
          "Shut up My Moms Calling by Hotel Ugly",
          "nuts by Lil Peep",
          "Time of Our Lives by Pitbull",
          "My Way by Calvin Harris",
          "Todo De Ti by Rauw Alejandro",
          "DILUVIO by Rauw Alejandro",
          "APAGA EL CEL by FloyyMenor",
          "Softcore by The Neighbourhood",
          "Dani California by Red Hot Chili Peppers",
          "Back On My BS by BigXthaPlug",
          "My Kind of Woman by Mac DeMarco",
          "Basket Case by Green Day",
          "Shivers by Ed Sheeran",
          "I Don't Wanna Wait by David Guetta",
          "Electric Feel by MGMT",
          "Better Days (feat. John Mayer) by Zach Bryan",
          "Don't by Bryson Tiller",
          "Gata Only by FloyyMenor",
          "Heathens by Twenty One Pilots",
          "redrum by 21 Savage",
          "Un Desperdicio by Rels B",
          "Moscow Mule by Bad Bunny",
          "SICKO MODE by Travis Scott",
          "Unwritten by Natasha Bedingfield",
          "PERRO NEGRO by Bad Bunny",
          "greedy by Tate McRae",
          "Stargazing by Myles Smith",
          "Cúrame by Rauw Alejandro",
          "Back On 74 by Jungle",
          "How Sweet by NewJeans",
          "No Scrubs by TLC",
          "GTA by Luis R Conriquez",
          "LA FALDA by Myke Towers",
          "Seven (feat. Latto) (Explicit Ver.) by Jung Kook",
          "Like That by Future",
          "Babydoll by Dominic Fike",
          "Madonna by Natanael Cano",
          "Can't Stop by Red Hot Chili Peppers",
          "I Wanna Dance with Somebody (Who Loves Me) by Whitney Houston",
          "Vienna by Billy Joel",
          "SPIDER by GIMS",
          "Lovin On Me by Jack Harlow",
          "Otherside by Red Hot Chili Peppers",
          "one of wun by Gunna",
          "Shut Up and Dance by WALK THE MOON",
          "One Kiss (with Dua Lipa) by Calvin Harris",
          "Timber by Pitbull",
          "You Get Me So High by The Neighbourhood",
          "Closer Than This by Jimin",
          "28 by Zach Bryan",
          "VINO TINTO by Peso Pluma",
          "Move by Adam Port",
          "Tongue Tied by GROUPLOVE",
          "Me Porto Bonito by Bad Bunny",
          "Silence by Marshmello",
          "Chk Chk Boom by Stray Kids",
          "Supernatural by NewJeans",
          "Californication by Red Hot Chili Peppers",
          "When It Rains It Pours by Luke Combs",
          "In the End by Linkin Park",
          "XO (Only If You Say Yes) by ENHYPEN",
          "I Smoked Away My Brain (I'm God x Demons Mashup) (feat. Imogen Heap & Clams Casino) by A$AP Rocky",
          "Cigarettes out the Window by TV Girl",
          "Smeraldo Garden Marching Band (feat. Loco) by Jimin",
          "Foi Intenso - Ao Vivo by Zé Neto & Cristiano",
          "Scar Tissue by Red Hot Chili Peppers",
          "Mmhmm by BigXthaPlug",
          "One Step Closer by Linkin Park",
          "Ric Flair Drip (with Metro Boomin) by Offset",
          "Ivy by Frank Ocean",
          "Ain't No Love In Oklahoma (From Twisters: The Album) by Luke Combs",
          "This Is What You Came For by Calvin Harris",
          "Gasolina by Daddy Yankee",
          "Tell Ur Girlfriend by Lay Bankz",
          "Give It To Me - Full Vocal Mix by Matt Sassari",
          "Nightcrawler (feat. Swae Lee & Chief Keef) by Travis Scott",
          "A Mí by Rels B",
          "Lovers Rock by TV Girl",
          "Borro Cassette by Maluma",
          "Tití Me Preguntó by Bad Bunny",
          "Creep by Radiohead",
          "That's What I Like by Bruno Mars",
          "I KNOW ? by Travis Scott",
          "goosebumps by Travis Scott",
          "Santa by Rvssian",
          "Stressed Out by Twenty One Pilots",
          "Heartless (feat. Morgan Wallen) by Diplo",
          "How You Remind Me by Nickelback",
          "Ride by Twenty One Pilots",
          "HIGHEST IN THE ROOM by Travis Scott",
          "Star Shopping by Lil Peep",
          "Miles On It by Marshmello",
          "Temperature by Sean Paul",
          "Outside (feat. Ellie Goulding) by Calvin Harris",
          "Dancing in the Moonlight by Toploader",
          "Budapest by George Ezra",
          "I'm Good (Blue) by David Guetta",
          "Si No Quieres No by Luis R Conriquez",
          "How to Save a Life by The Fray",
          "Daddy Issues by The Neighbourhood",
          "I Love You So by The Walters",
          "For the First Time by Mac DeMarco",
          "Never Let Go by Jung Kook",
          "Fuck Love by XXXTENTACION",
          "September by Earth, Wind & Fire",
          "Good Looking by Suki Waterhouse",
          "K. by Cigarettes After Sex",
          "Sunroof by Nicky Youre",
          "Slow It Down by Benson Boone",
          "Cigarette Daydreams by Cage The Elephant",
          "Hey, Soul Sister by Train",
          "Take Me Out by Franz Ferdinand",
          "Sweet Dreams (Are Made of This) - Remastered by Eurythmics",
          "SANTAL 33 by Peso Pluma",
          "When I Come Around by Green Day",
          "Falling Down - Bonus Track by Lil Peep",
          "Revenge by XXXTENTACION",
          "Bleed It Out by Linkin Park",
          "Triplex - Ao Vivo by Matheus Fernandes",
          "Spotless (feat. The Lumineers) by Zach Bryan",
          "BUTTERFLY EFFECT by Travis Scott",
          "A Bar Song (Tipsy) by Shaboozey",
          "Sweet by Cigarettes After Sex",
          "My Love Mine All Mine by Mitski",
          "Everlong by Foo Fighters",
          "Take Me to Church by Hozier",
          "Brazil by Declan McKenna",
          "End of Beginning by Djo",
          "The Color Violet by Tory Lanez",
          "NIGHTS LIKE THIS by The Kid LAROI",
          "Corazón de Piedra by Xavi",
          "Skyfall by Adele",
          "Look At Me! by XXXTENTACION",
          "Evergreen by Richy Mitch & The Coal Miners",
          "TiK ToK by Kesha",
          "Blue Hair by TV Girl",
          "Yeah! (feat. Lil Jon & Ludacris) by USHER",
          "Minha Herança by Ana Castela",
          "Should I Stay or Should I Go - Remastered by The Clash",
          "LOKERA by Rauw Alejandro",
          "She Got the Best of Me by Luke Combs",
          "Super Shy by NewJeans",
          "Heading South by Zach Bryan",
          "Whatever She Wants by Bryson Tiller",
          "Jealous by Eyedress",
          "Fast Car by Luke Combs",
          "Give Me Everything (feat. Nayer) by Pitbull",
          "More Than a Feeling by Boston",
          "Feel So Close - Radio Edit by Calvin Harris",
          "ROCKSTAR by Junior H",
          "Toxic by Britney Spears",
          "Rockstar by LISA",
          "EASY by LE SSERAFIM",
          "Where Are You Now by Lost Frequencies",
          "Another Love by Tom Odell",
          "DJ Got Us Fallin' In Love (feat. Pitbull) by USHER",
          "Where the Wild Things Are by Luke Combs",
          "RELOJ by Peso Pluma",
          "Too Sweet by Hozier",
          "Sun to Me by Zach Bryan",
          "Me Caiu Tão Bem - Ao Vivo by Murilo Huff",
          "Like Crazy by Jimin",
          "Y LLORO by Junior H",
          "Standing Next to You by Jung Kook",
          "Lush Life by Zara Larsson",
          "CRAZYZ by Fuerza Regida",
          "The Spins by Mac Miller",
          "Según Quién by Maluma",
          "misses by Dominic Fike",
          "Brown Eyed Girl by Van Morrison",
          "Deu Moral - Ao Vivo by Zé Neto & Cristiano",
          "Chop Suey! by System Of A Down",
          "Not Allowed by TV Girl",
          "Easy On Me by Adele",
          "Happier by Marshmello",
          "FE!N (feat. Playboi Carti) by Travis Scott",
          "Chamber Of Reflection by Mac DeMarco",
          "Iris by The Goo Goo Dolls",
          "Ojitos Lindos by Bad Bunny",
          "Parking Lot by Mustard",
          "Perfect Night by LE SSERAFIM",
          "Pink Skies by Zach Bryan",
          "Something About You by Eyedress",
          "La Grange (2005 Remaster) by ZZ Top",
          "Toxicity by System Of A Down",
          "ADIVINO by Myke Towers",
          "Uptown Girl by Billy Joel",
          "GIRLS by The Kid LAROI",
          "Sundress by A$AP Rocky",
          "BEST INTEREST by Tyler, The Creator",
          "Baby Don't Hurt Me by David Guetta",
          "Back In Black by AC/DC",
          "La Bebe - Remix by Yng Lvcas",
          "LADY GAGA by Peso Pluma",
          "If I Ain't Got You by Alicia Keys",
          "2055 by Sleepy Hallow",
          "Numb by Linkin Park",
          "you look like you love me (feat. Riley Green) by Ella Langley",
          "Ride Or Die, Pt. 2 (with Villano Antillano & Tokischa) by Sevdaliza",
          "Desesperados by Rauw Alejandro",
          "Atlantis by Seafret",
          "Pumped Up Kicks by Foster The People",
          "POR EL CONTRARIO (with Angela Aguilar & Leonardo Aguilar) by Becky G",
          "Efecto by Bad Bunny",
          "i was all over her by salvia palth",
          "Nine Ball by Zach Bryan",
          "All Your'n by Tyler Childers",
          "Beautiful Things by Benson Boone",
          "Mirame by Blessd",
          "Morar Nesse Motel by Gusttavo Lima",
          "Hey Driver (feat. The War and Treaty) by Zach Bryan",
          "Alibi (with Pabllo Vittar & Yseult) by Sevdaliza",
          "ceilings by Lizzy McAlpine",
          "Saturn by SZA",
          "Magnetic by ILLIT",
          "There Is a Light That Never Goes Out - 2011 Remaster by The Smiths",
          "Be Mine by Jimin",
          "Duality by Slipknot",
          "Riptide by Vance Joy",
          "Blame (feat. John Newman) by Calvin Harris",
          "EU SOU SENTIMENTO by Luan Santana",
          "Seven Nation Army by The White Stripes",
          "Oklahoma Smokeshow by Zach Bryan",
          "Cry by Cigarettes After Sex",
          "Apocalypse by Cigarettes After Sex",
          "Everybody Dies In Their Nightmares by XXXTENTACION",
          "Running Up That Hill (A Deal With God) by Kate Bush",
          "Je te laisserai des mots by Patrick Watson",
          "Oh, Pretty Woman by Roy Orbison",
          "ABCD by NAYEON",
          "(Sittin' On) the Dock of the Bay by Otis Redding",
          "Why'd You Only Call Me When You're High? by Arctic Monkeys",
          "Listen to the Music by The Doobie Brothers",
          "Thank You (Not So Bad) by Dimitri Vegas & Like Mike",
          "Porch Light by Josh Meloy",
          "we fell in love in october by girl in red",
          "Sticky by KISS OF LIFE",
          "Beer Never Broke My Heart by Luke Combs",
          "Under the Bridge by Red Hot Chili Peppers",
          "Highway to Hell by AC/DC",
          "Snooze by SZA",
          "Hold the Line by TOTO",
          "Ride It by Regard",
          "MONACO by Bad Bunny",
          "Who by Jimin",
          "Locked out of Heaven by Bruno Mars",
          "Beautiful Crazy by Luke Combs",
          "Deep Down (feat. Never Dull) by Alok",
          "Belong Together by Mark Ambor",
          "El Merengue by Marshmello",
          "UNA CERVEZA by Fuerza Regida",
          "I Wanna Be Yours by Arctic Monkeys",
          "TÚ NAME by Fuerza Regida",
          "Nasty by Tinashe",
          "Do I Wanna Know? by Arctic Monkeys",
          "Rude by MAGIC!",
          "La Diabla by Xavi",
          "Slow Dance (feat. Sofia Carson) by Jimin",
          "offline by Young Miko",
          "360 by Charli xcx",
          "Faint by Linkin Park",
          "As It Was by Harry Styles",
          "Burn, Burn, Burn by Zach Bryan",
          "HARLEY QUINN by Fuerza Regida",
          "American Nights by Zach Bryan",
          "La Bachata by Manuel Turizo",
          "Gangsta's Paradise by Coolio",
          "Lovely Day by Bill Withers",
          "Dedo do Meio - Ao Vivo by Murilo Huff",
          "High Road (feat. Jessie Murph) by Koe Wetzel",
          "MOJABI GHOST by Tainy",
          "Something in the Orange by Zach Bryan",
          "Jocelyn Flores by XXXTENTACION",
          "Feel Good Inc. by Gorillaz",
          "Knockin' On Heaven's Door by Bob Dylan",
          "Romantic Lover by Eyedress",
          "La Víctima by Xavi",
          "Que Onda by Calle 24",
          "MAMIII by Becky G",
          "How Deep Is Your Love by Calvin Harris",
          "Your Love by The Outfield",
          "You Shook Me All Night Long by AC/DC",
          "Don't Stop Believin' (2022 Remaster) by Journey",
          "Rich Girl by Daryl Hall & John Oates",
          "Primera Cita by Carin Leon",
          "LA PATRULLA by Peso Pluma",
          "We Ride by Bryan Martin",
          "Dreams - 2004 Remaster by Fleetwood Mac",
          "Freaks by Surf Curse",
          "Sunsetz by Cigarettes After Sex",
          "R U Mine? by Arctic Monkeys",
          "Ain't No Sunshine by Bill Withers",
          "Thunderstruck by AC/DC",
          "LALA by Myke Towers",
          "All of Me by John Legend",
          "Forever Young by Alphaville",
          "Hips Don't Lie (feat. Wyclef Jean) by Shakira",
          "Dancing In the Dark by Bruce Springsteen",
          "Wild Ones (feat. Jelly Roll) by Jessie Murph",
          "Haverá Sinais - Ao Vivo by Jorge & Mateus",
          "i am not who i was by Chance Peña",
          "Nothing's Gonna Stop Us Now by Starship",
          "I Want to Know What Love Is - 1999 Remaster by Foreigner",
          "fukumean by Gunna",
          "Just the Way You Are by Bruno Mars",
          "Pink + White by Frank Ocean",
          "Sweater Weather by The Neighbourhood",
          "White Ferrari by Frank Ocean",
          "See You Again (feat. Kali Uchis) by Tyler, The Creator",
          "I Remember Everything (feat. Kacey Musgraves) by Zach Bryan",
          "Uptown Funk (feat. Bruno Mars) by Mark Ronson",
          "From The Start by Laufey",
          "Dust in the Wind by Kansas",
          "Summer by Calvin Harris",
          "Tiroteo - Remix by Marc Seguí",
          "Drops of Jupiter (Tell Me) by Train",
          "Take on Me by a-ha",
          "Valerie (feat. Amy Winehouse) - Version Revisited by Mark Ronson",
          "In The Stars by Benson Boone",
          "Type Shit by Future",
          "JOYRIDE by Kesha"
         ],
         "type": "scatter",
         "x": [
          1.2855284617169505,
          2.815494371222662,
          -0.11329653605288247,
          1.0082627067584409,
          -0.2564114053230046,
          3.066056348694794,
          1.386464549443256,
          -0.4100599853395181,
          -0.6124626503955002,
          0.9397511784568583,
          2.891259846817653,
          3.449279360063482,
          3.0985257320000605,
          -1.4227944822686296,
          -0.6741834739116808,
          1.6798016267716853,
          -3.3585314943821682,
          -3.669757636418447,
          2.0622961277805003,
          0.2777252174372087,
          -1.9129791703451935,
          -0.3203906572590192,
          3.4803116991423657,
          -0.8525025719749396,
          1.8500466507696849,
          1.5013220640103375,
          1.514744381172519,
          4.203735975905209,
          2.772413773816111,
          1.0553241535118199,
          4.356996779042265,
          2.3569322628129714,
          -0.6409732337595055,
          2.5194775838726966,
          -0.45597340110695594,
          2.1792509217653304,
          1.2227837613951273,
          1.672834277508696,
          3.130912433728198,
          3.2111928490488073,
          2.2276313327438166,
          1.2259634000678898,
          1.571893884176809,
          -0.4737444141076975,
          0.29882492718809367,
          0.39011745202720893,
          2.6306227266219437,
          1.9283417469783366,
          -1.7212732396394548,
          2.699013979844222,
          -3.134521569722083,
          3.9018281850560146,
          -0.1871458844800818,
          0.015834122074243416,
          0.2842249002063308,
          -2.1773858222565785,
          1.6058502194268616,
          1.9066981046855693,
          -3.0096011068707402,
          5.447491073964642,
          -2.4028752325435074,
          1.6761083336485272,
          1.4178296608028733,
          -2.383674138984314,
          -2.1884477524268995,
          -3.140858785918605,
          2.4468958605907507,
          -1.023858777444651,
          -0.8820928231274291,
          1.19823446957681,
          0.3278691871842595,
          -0.6097663041344142,
          3.3262035916816246,
          -4.059954705737217,
          1.3249145468767127,
          0.41349236172448584,
          -4.243597127713607,
          1.4301651520764957,
          2.727104769762093,
          2.676273618621055,
          0.20134797532370352,
          -2.172469690519716,
          0.7355690372104315,
          -1.3315391680108843,
          2.552531973198649,
          2.783341342299507,
          -4.524673217438521,
          1.4111750305369881,
          0.9176647418748208,
          1.9003548930088026,
          3.3993634554316374,
          0.3628415560041515,
          2.0127849766862846,
          -1.9853222879723404,
          -1.2799486941888116,
          0.8765934589453239,
          -0.8289633054368818,
          -0.8089018403116915,
          2.870138062284437,
          -3.9652824965391615,
          -0.0753761780948124,
          1.2527518141171379,
          -1.709996687790809,
          2.980792766153768,
          -0.6842730143875133,
          -1.4836761908193965,
          -0.721778627941456,
          -0.8768671416284506,
          2.8306311874616528,
          2.6715612957096653,
          -0.11715836285237961,
          -5.216042821889552,
          -2.887914067957326,
          1.307114349543486,
          2.829594578973724,
          -0.2938262725373168,
          0.2842041200679121,
          -2.190292226049498,
          -1.9340683553757716,
          -0.2087528415105679,
          -4.148707316001089,
          -2.3169377463783487,
          1.371689217488935,
          -1.7040483478234496,
          0.8961598878968822,
          1.064240858640973,
          0.46615044641311554,
          0.860703157086845,
          -3.9817043043648366,
          -1.68270675822789,
          -4.880940753352301,
          0.29626138148703884,
          0.35984402091462514,
          -3.3494070351982863,
          2.34543851768792,
          -1.7143888366104654,
          1.987013254741064,
          -5.746716453708704,
          1.2370606980658152,
          -1.1285597430935097,
          0.6294745189914963,
          -2.0691894580383887,
          2.101787495292029,
          2.781491707648685,
          0.2737979285225272,
          3.6351967744536773,
          -1.5279349691556512,
          5.059104352047809,
          1.328461677261412,
          2.274231682885989,
          -3.8687070508150585,
          -0.9669800703596396,
          0.7277701624753349,
          -3.286632512895006,
          -2.2412615207172917,
          0.31734418958053584,
          1.277815836489275,
          1.6717781056704073,
          3.741257815127309,
          0.08017610223443844,
          0.15718800381501583,
          -2.2054393713688416,
          -4.361522272672002,
          -0.001959973495538269,
          -0.18830654425323082,
          2.0084555670603397,
          -0.7904548081937277,
          -0.7802039589979364,
          1.835997105978818,
          -2.695545970009691,
          1.4166460419881637,
          1.8232215979928605,
          1.9203402658202338,
          1.4924397820591742,
          0.8547030239558469,
          -0.8548703817389923,
          1.0056885251315157,
          -3.6780438727982236,
          -2.1378452124860456,
          3.4325644757176805,
          0.08867710662728297,
          -0.9733431843113244,
          -2.547701610111644,
          -4.892653872029745,
          2.3498485809715213,
          1.9556772800360835,
          2.352637456768925,
          -1.1245602039713092,
          -1.6099349846449753,
          -0.36267924629848397,
          -0.21511196301646457,
          2.0305600067342873,
          -2.24496471698194,
          0.23340544122251766,
          1.2468024295313944,
          -1.6352976185732908,
          -2.817172829976432,
          -3.2353767612041886,
          3.6042242903279824,
          2.2192152103882137,
          1.6182943653606812,
          1.6329393558207468,
          -4.8346142324202965,
          0.6198075246388665,
          3.416737379095818,
          4.068838906890181,
          -4.60082816349909,
          -1.0734822697513047,
          -0.8745970749974116,
          2.754646987848756,
          -2.285015755396197,
          0.8114865208927293,
          -1.129413065535016,
          -0.17805910817456438,
          3.7246531691334845,
          2.331178747848306,
          1.0603390830061217,
          -0.3770968748679089,
          -0.31662810087097343,
          1.5009458267435931,
          3.156574182116187,
          -2.5458085122521914,
          3.4361666973842455,
          -2.6758998703244146,
          2.2484428083560846,
          -4.122483455511036,
          1.4584753143126437,
          -2.723334388143885,
          -1.9977159960282078,
          -2.7135298788820306,
          -1.9852590638103795,
          2.340493625071373,
          -0.456600499840243,
          0.22455718087810422,
          -0.17784374947485584,
          -0.3813862898673257,
          0.42285402805044453,
          -2.329368305309315,
          -0.9475128668753857,
          -2.7047857485884403,
          0.6421792599939531,
          -2.611465680462083,
          -1.4719568051449416,
          -1.4937940454501266,
          -3.1654650104495534,
          -3.923476148319347,
          3.9892615356257837,
          -5.691617558558684,
          1.3217644807456648,
          2.970348249161396,
          1.7123929482338434,
          -1.8843958491414867,
          -1.918777683957187,
          1.652005490304986,
          -0.20903756916064473,
          1.4723664976939446,
          1.9037928131543052,
          -3.7534003495357933,
          2.197070368620239,
          2.572948475128021,
          -2.100086606502137,
          0.6528641773718884,
          1.2202675846211024,
          1.786924221341966,
          2.6913067663822874,
          1.6440500505896671,
          -3.2899194017331053,
          -0.3822288161999719,
          2.260374162944172,
          1.2767707292283959,
          -2.514674825466359,
          2.4467835741953636,
          -1.0029056183668592,
          -2.1201310736626553,
          0.23208037086051825,
          -4.683079024963367,
          0.2308132531050418,
          0.09256901886208879,
          2.125423292905815,
          -1.5359456951532673,
          -1.734525254060478,
          -1.4166526282103105,
          2.2331829263028093,
          2.4476974897331663,
          3.547959696336738,
          -1.2343094847422973,
          -3.848671027959501,
          -3.6410924306208723,
          -0.9490414997345444,
          0.661451484516275,
          0.8875718151326178,
          1.7044709132182885,
          -2.6512132312395167,
          -0.733517582997441,
          -2.3943123611616546,
          -3.7171841908247902,
          -3.244725151592936,
          -3.280641693303923,
          -2.5303659132479326,
          2.883596575308969,
          2.9880546467845264,
          -2.7980092146201994,
          -0.3847441162399953,
          -0.7581123438759715,
          -0.4339049543535073,
          0.6639999310740126,
          2.201517822959159,
          -1.701741513517532,
          -3.2399843091603096,
          2.510348690962396,
          -0.10264948915119616,
          -2.0775023341897128,
          -1.9144481681507626,
          1.5704487354282142,
          -0.8688512982900263,
          1.5447798699969666,
          -1.3427204937807418,
          2.4656164846076947,
          -2.5428036217403394,
          -4.872815514115219,
          -1.6678416201462707,
          0.15811708102247538,
          -2.099237368677878,
          1.0055300558933546,
          -0.7555816390447325,
          -2.7659056747744577,
          0.013592720811125258
         ],
         "y": [
          -3.060579489143519,
          0.5671842065568039,
          -0.8401660788991524,
          0.2987294096044308,
          1.5338143127860482,
          0.38502202398215923,
          -1.1281720810703681,
          0.2396531444013712,
          3.097996321716899,
          0.9810561525826609,
          -0.4978252616594373,
          -0.3593258393831815,
          -0.9456064376861296,
          0.3097252756907261,
          1.0076069309736648,
          2.4243448784486246,
          -0.40312567093965934,
          3.3647094307846577,
          1.82407708685752,
          2.130932473126439,
          -0.3145733386702688,
          -1.9285061865683506,
          2.236233478203981,
          -0.28490624427646655,
          0.5228280218844413,
          1.819878093532588,
          0.17049011537071027,
          0.527025265296015,
          1.8900530940347189,
          -0.42230142964202233,
          -0.2658358364549854,
          0.5253184094580915,
          1.025699818082927,
          0.15968453650663206,
          -1.0003768717889827,
          1.1520948547598713,
          -0.2685805880383332,
          -1.6813463649496407,
          0.8066395516169149,
          1.5323582777649505,
          1.7994174390668403,
          1.359884183923559,
          0.712482534757897,
          2.7270529684763645,
          -1.5849266032175042,
          -0.35532740678834096,
          1.9984151379217736,
          2.5478390264581883,
          0.4358418569329394,
          1.0299349682771355,
          3.5663191782685093,
          0.2836774414842996,
          2.89145702173317,
          1.7535008302770616,
          1.8721615489700885,
          -1.1506730791858883,
          0.004092964283997571,
          0.3654150697289146,
          0.3694042750291154,
          -0.14148785972464056,
          -0.18912645407587927,
          3.3864560415112,
          -0.35674929469267846,
          0.5842589999590129,
          0.16622706414014826,
          3.438526138879271,
          1.8026701773707148,
          3.6257186401164305,
          0.9336131899428586,
          1.8314699472656923,
          0.078073085627239,
          -0.016337509074999312,
          2.601351720151157,
          4.758729830782632,
          1.3306515178665945,
          -1.875754687492095,
          0.08924232859559561,
          -0.7200136227707172,
          1.2159084814241878,
          1.2860929254771158,
          2.6098070222497673,
          3.7038769914153384,
          1.8638561432634582,
          1.4234221483176146,
          0.9120696199596329,
          1.2154826181732947,
          4.3427769094686575,
          1.6234869075999607,
          1.7001189994333923,
          1.5082587765459816,
          1.219184670534137,
          -0.25330985370456327,
          0.9439811840491769,
          3.345997156624666,
          1.6209408649988135,
          0.8715831066834635,
          1.9330207962288533,
          2.1126911175735463,
          1.656603166855573,
          -1.1800973578851919,
          -0.08803039952884283,
          -0.051130428148643305,
          -0.6953964478360763,
          -1.3895726393260162,
          -0.3298671717332488,
          -0.08776924122280931,
          -2.32570683605033,
          -1.3215394444770945,
          0.5861505895637582,
          0.5693317060614285,
          -2.7062055942786607,
          -3.1698424055396224,
          -2.995554110489497,
          -0.518686143724426,
          0.6316698965615736,
          -0.4815192908346957,
          -1.1083450924762661,
          1.2908655790812018,
          -1.3933656749793062,
          1.1150043908334226,
          0.5408833096282154,
          0.28086617278013304,
          -0.5586168348019146,
          2.037266024099928,
          -0.39962239478101824,
          2.4549090091209274,
          1.1010917489516228,
          -0.16009997861532582,
          -4.573405904110294,
          -2.9951927172574355,
          2.684912736962987,
          -2.6687607776369173,
          -1.9844784216183384,
          -2.4576158939412815,
          0.01860316197572272,
          1.302345797590146,
          -1.9798836690521782,
          -1.4709749538981562,
          2.2376568577638167,
          -1.702952300839154,
          3.159123821838294,
          -0.8874442485639036,
          0.7558190317639265,
          -3.456789933709845,
          0.7812065754339212,
          1.6665598775314594,
          -0.7018350447126788,
          0.4659026808091164,
          -1.903936774284991,
          -0.5516935025126691,
          -1.1927136611555642,
          -1.0304855407320497,
          0.5526050282949528,
          1.290458607017978,
          0.7276111733171652,
          -0.47122205184697624,
          0.4434380511944656,
          1.6565525492328332,
          0.20931495322110244,
          1.1088488711366975,
          -1.994703451167187,
          3.3477145720055397,
          -1.4913118915497159,
          -0.13456894897300953,
          0.5575815494507701,
          -0.45180910394493534,
          0.7381733267201396,
          1.568348944135746,
          -2.5988087410846292,
          3.0251931308151385,
          1.1574708262007583,
          -0.874904971362772,
          2.030970583209203,
          -0.04531415090619436,
          -1.3524681435683017,
          -0.27293186217760096,
          0.12873037062526593,
          3.5043631245199713,
          -0.7398101321302548,
          -2.905398686411805,
          1.0147649162950811,
          1.8476860976890732,
          -3.1418347631745243,
          1.9840368084532702,
          0.884414738420246,
          0.4231451711626738,
          0.10698489556101756,
          -0.7872671863286252,
          -0.48015989375236745,
          -0.3988274956407011,
          2.266804842521778,
          1.0084841103317777,
          1.3603706334328953,
          1.278745619834546,
          2.359868188327855,
          -2.077081942530553,
          0.5471419664545559,
          1.2909195996867677,
          0.9071444945290121,
          -2.488112491437359,
          -1.4755188254296463,
          0.2597160071002394,
          3.6935494240610596,
          -2.3721525372245527,
          1.1088233142041728,
          -1.1810655098574891,
          -1.1499368188845733,
          -1.928189904496231,
          -1.5774510389347827,
          0.951784625641034,
          -3.2992858510840835,
          -1.3300654382042982,
          -3.0124832409577165,
          -0.9411345916152628,
          0.12839117580432338,
          -1.5824215650066022,
          -1.9404707736012965,
          0.08068475884438835,
          -1.9021271748233144,
          -3.3869311611608786,
          0.08832782863717639,
          -1.8016888547997136,
          0.923916187339325,
          3.435381584564064,
          -3.618718307763079,
          1.8165132172371887,
          -0.25552875277695924,
          3.7684224934227686,
          -1.9295422166563527,
          -1.1412317146741553,
          -2.5696391835731696,
          1.223302759456127,
          -0.9111337443566139,
          -5.780220984681426,
          -1.7565080406079907,
          1.5028521244319784,
          -2.5991920433510343,
          0.1053053906755414,
          -2.9601827515614496,
          1.162422005942883,
          -1.2536647030181527,
          -3.222093547306912,
          -0.5475543439772387,
          1.261843908877043,
          1.0277157477335834,
          0.8218036273097744,
          -2.6670487159266187,
          2.0505235543789344,
          2.6011163707292586,
          0.6523685070350568,
          1.2150190354908261,
          2.410190653135831,
          -1.2247674212006854,
          0.2534228189005054,
          -1.2162590822839188,
          -0.3858607451798256,
          0.47781449218509603,
          -1.0881456739280453,
          -0.7659344845745377,
          -0.32039146906381366,
          -1.026436170716674,
          0.4381720787441502,
          -2.3300597895809787,
          0.32988460907147565,
          0.5589329750261091,
          -0.25508448258532385,
          2.0880878058149537,
          0.38874705999751996,
          -1.4552866300428982,
          1.4175887643767062,
          -1.0392486649915602,
          -0.48378825898279315,
          -0.9781534165352193,
          -1.3781527792667188,
          -0.37018697540010903,
          0.8229167098303982,
          1.9904158473289808,
          -4.957747927204466,
          1.2140534481318297,
          0.5266023109490046,
          -2.886542622756861,
          -1.838281572862897,
          -1.5713418843146005,
          -0.8370651064145233,
          -0.4932644872260263,
          -0.05641122190483138,
          -2.016910298877765,
          0.8966732783075594,
          -0.8344114882381619,
          -2.384415213740451,
          -1.380609757193234,
          -0.6203631060155438,
          -0.23051718180978395,
          -0.9360718704788805,
          1.7435242323020619,
          -4.023925867622508,
          3.341898847867635,
          -3.9639078403255854,
          2.054777171377099,
          -0.14481398289403338,
          -2.6668053676992844,
          -3.6681374919601355,
          0.24233481126040846,
          0.7871229323071072,
          -1.0408238022408811,
          -0.9034022266871359,
          -3.4603082378957257,
          -0.6229161280414998,
          -2.3403099150294446,
          1.6170925529998408,
          -1.9180528764671527,
          -2.872895242697749,
          0.27783982574993626,
          -4.230151207527228,
          -0.5566095697083401,
          -2.703335370404322,
          0.08438444818950325,
          -0.43018103414989883,
          -5.071647986992509,
          0.5380361208921034,
          -0.3166692608631428,
          -2.6838670673169176,
          -1.2563241604956457,
          -1.903744865012523,
          -0.6078951678608924,
          -0.4242468086476013,
          3.16191037235132
         ]
        }
       ],
       "layout": {
        "height": 800,
        "plot_bgcolor": "rgba(0,0,0,0)",
        "showlegend": false,
        "template": {
         "data": {
          "bar": [
           {
            "error_x": {
             "color": "#2a3f5f"
            },
            "error_y": {
             "color": "#2a3f5f"
            },
            "marker": {
             "line": {
              "color": "#E5ECF6",
              "width": 0.5
             },
             "pattern": {
              "fillmode": "overlay",
              "size": 10,
              "solidity": 0.2
             }
            },
            "type": "bar"
           }
          ],
          "barpolar": [
           {
            "marker": {
             "line": {
              "color": "#E5ECF6",
              "width": 0.5
             },
             "pattern": {
              "fillmode": "overlay",
              "size": 10,
              "solidity": 0.2
             }
            },
            "type": "barpolar"
           }
          ],
          "carpet": [
           {
            "aaxis": {
             "endlinecolor": "#2a3f5f",
             "gridcolor": "white",
             "linecolor": "white",
             "minorgridcolor": "white",
             "startlinecolor": "#2a3f5f"
            },
            "baxis": {
             "endlinecolor": "#2a3f5f",
             "gridcolor": "white",
             "linecolor": "white",
             "minorgridcolor": "white",
             "startlinecolor": "#2a3f5f"
            },
            "type": "carpet"
           }
          ],
          "choropleth": [
           {
            "colorbar": {
             "outlinewidth": 0,
             "ticks": ""
            },
            "type": "choropleth"
           }
          ],
          "contour": [
           {
            "colorbar": {
             "outlinewidth": 0,
             "ticks": ""
            },
            "colorscale": [
             [
              0,
              "#0d0887"
             ],
             [
              0.1111111111111111,
              "#46039f"
             ],
             [
              0.2222222222222222,
              "#7201a8"
             ],
             [
              0.3333333333333333,
              "#9c179e"
             ],
             [
              0.4444444444444444,
              "#bd3786"
             ],
             [
              0.5555555555555556,
              "#d8576b"
             ],
             [
              0.6666666666666666,
              "#ed7953"
             ],
             [
              0.7777777777777778,
              "#fb9f3a"
             ],
             [
              0.8888888888888888,
              "#fdca26"
             ],
             [
              1,
              "#f0f921"
             ]
            ],
            "type": "contour"
           }
          ],
          "contourcarpet": [
           {
            "colorbar": {
             "outlinewidth": 0,
             "ticks": ""
            },
            "type": "contourcarpet"
           }
          ],
          "heatmap": [
           {
            "colorbar": {
             "outlinewidth": 0,
             "ticks": ""
            },
            "colorscale": [
             [
              0,
              "#0d0887"
             ],
             [
              0.1111111111111111,
              "#46039f"
             ],
             [
              0.2222222222222222,
              "#7201a8"
             ],
             [
              0.3333333333333333,
              "#9c179e"
             ],
             [
              0.4444444444444444,
              "#bd3786"
             ],
             [
              0.5555555555555556,
              "#d8576b"
             ],
             [
              0.6666666666666666,
              "#ed7953"
             ],
             [
              0.7777777777777778,
              "#fb9f3a"
             ],
             [
              0.8888888888888888,
              "#fdca26"
             ],
             [
              1,
              "#f0f921"
             ]
            ],
            "type": "heatmap"
           }
          ],
          "heatmapgl": [
           {
            "colorbar": {
             "outlinewidth": 0,
             "ticks": ""
            },
            "colorscale": [
             [
              0,
              "#0d0887"
             ],
             [
              0.1111111111111111,
              "#46039f"
             ],
             [
              0.2222222222222222,
              "#7201a8"
             ],
             [
              0.3333333333333333,
              "#9c179e"
             ],
             [
              0.4444444444444444,
              "#bd3786"
             ],
             [
              0.5555555555555556,
              "#d8576b"
             ],
             [
              0.6666666666666666,
              "#ed7953"
             ],
             [
              0.7777777777777778,
              "#fb9f3a"
             ],
             [
              0.8888888888888888,
              "#fdca26"
             ],
             [
              1,
              "#f0f921"
             ]
            ],
            "type": "heatmapgl"
           }
          ],
          "histogram": [
           {
            "marker": {
             "pattern": {
              "fillmode": "overlay",
              "size": 10,
              "solidity": 0.2
             }
            },
            "type": "histogram"
           }
          ],
          "histogram2d": [
           {
            "colorbar": {
             "outlinewidth": 0,
             "ticks": ""
            },
            "colorscale": [
             [
              0,
              "#0d0887"
             ],
             [
              0.1111111111111111,
              "#46039f"
             ],
             [
              0.2222222222222222,
              "#7201a8"
             ],
             [
              0.3333333333333333,
              "#9c179e"
             ],
             [
              0.4444444444444444,
              "#bd3786"
             ],
             [
              0.5555555555555556,
              "#d8576b"
             ],
             [
              0.6666666666666666,
              "#ed7953"
             ],
             [
              0.7777777777777778,
              "#fb9f3a"
             ],
             [
              0.8888888888888888,
              "#fdca26"
             ],
             [
              1,
              "#f0f921"
             ]
            ],
            "type": "histogram2d"
           }
          ],
          "histogram2dcontour": [
           {
            "colorbar": {
             "outlinewidth": 0,
             "ticks": ""
            },
            "colorscale": [
             [
              0,
              "#0d0887"
             ],
             [
              0.1111111111111111,
              "#46039f"
             ],
             [
              0.2222222222222222,
              "#7201a8"
             ],
             [
              0.3333333333333333,
              "#9c179e"
             ],
             [
              0.4444444444444444,
              "#bd3786"
             ],
             [
              0.5555555555555556,
              "#d8576b"
             ],
             [
              0.6666666666666666,
              "#ed7953"
             ],
             [
              0.7777777777777778,
              "#fb9f3a"
             ],
             [
              0.8888888888888888,
              "#fdca26"
             ],
             [
              1,
              "#f0f921"
             ]
            ],
            "type": "histogram2dcontour"
           }
          ],
          "mesh3d": [
           {
            "colorbar": {
             "outlinewidth": 0,
             "ticks": ""
            },
            "type": "mesh3d"
           }
          ],
          "parcoords": [
           {
            "line": {
             "colorbar": {
              "outlinewidth": 0,
              "ticks": ""
             }
            },
            "type": "parcoords"
           }
          ],
          "pie": [
           {
            "automargin": true,
            "type": "pie"
           }
          ],
          "scatter": [
           {
            "fillpattern": {
             "fillmode": "overlay",
             "size": 10,
             "solidity": 0.2
            },
            "type": "scatter"
           }
          ],
          "scatter3d": [
           {
            "line": {
             "colorbar": {
              "outlinewidth": 0,
              "ticks": ""
             }
            },
            "marker": {
             "colorbar": {
              "outlinewidth": 0,
              "ticks": ""
             }
            },
            "type": "scatter3d"
           }
          ],
          "scattercarpet": [
           {
            "marker": {
             "colorbar": {
              "outlinewidth": 0,
              "ticks": ""
             }
            },
            "type": "scattercarpet"
           }
          ],
          "scattergeo": [
           {
            "marker": {
             "colorbar": {
              "outlinewidth": 0,
              "ticks": ""
             }
            },
            "type": "scattergeo"
           }
          ],
          "scattergl": [
           {
            "marker": {
             "colorbar": {
              "outlinewidth": 0,
              "ticks": ""
             }
            },
            "type": "scattergl"
           }
          ],
          "scattermapbox": [
           {
            "marker": {
             "colorbar": {
              "outlinewidth": 0,
              "ticks": ""
             }
            },
            "type": "scattermapbox"
           }
          ],
          "scatterpolar": [
           {
            "marker": {
             "colorbar": {
              "outlinewidth": 0,
              "ticks": ""
             }
            },
            "type": "scatterpolar"
           }
          ],
          "scatterpolargl": [
           {
            "marker": {
             "colorbar": {
              "outlinewidth": 0,
              "ticks": ""
             }
            },
            "type": "scatterpolargl"
           }
          ],
          "scatterternary": [
           {
            "marker": {
             "colorbar": {
              "outlinewidth": 0,
              "ticks": ""
             }
            },
            "type": "scatterternary"
           }
          ],
          "surface": [
           {
            "colorbar": {
             "outlinewidth": 0,
             "ticks": ""
            },
            "colorscale": [
             [
              0,
              "#0d0887"
             ],
             [
              0.1111111111111111,
              "#46039f"
             ],
             [
              0.2222222222222222,
              "#7201a8"
             ],
             [
              0.3333333333333333,
              "#9c179e"
             ],
             [
              0.4444444444444444,
              "#bd3786"
             ],
             [
              0.5555555555555556,
              "#d8576b"
             ],
             [
              0.6666666666666666,
              "#ed7953"
             ],
             [
              0.7777777777777778,
              "#fb9f3a"
             ],
             [
              0.8888888888888888,
              "#fdca26"
             ],
             [
              1,
              "#f0f921"
             ]
            ],
            "type": "surface"
           }
          ],
          "table": [
           {
            "cells": {
             "fill": {
              "color": "#EBF0F8"
             },
             "line": {
              "color": "white"
             }
            },
            "header": {
             "fill": {
              "color": "#C8D4E3"
             },
             "line": {
              "color": "white"
             }
            },
            "type": "table"
           }
          ]
         },
         "layout": {
          "annotationdefaults": {
           "arrowcolor": "#2a3f5f",
           "arrowhead": 0,
           "arrowwidth": 1
          },
          "autotypenumbers": "strict",
          "coloraxis": {
           "colorbar": {
            "outlinewidth": 0,
            "ticks": ""
           }
          },
          "colorscale": {
           "diverging": [
            [
             0,
             "#8e0152"
            ],
            [
             0.1,
             "#c51b7d"
            ],
            [
             0.2,
             "#de77ae"
            ],
            [
             0.3,
             "#f1b6da"
            ],
            [
             0.4,
             "#fde0ef"
            ],
            [
             0.5,
             "#f7f7f7"
            ],
            [
             0.6,
             "#e6f5d0"
            ],
            [
             0.7,
             "#b8e186"
            ],
            [
             0.8,
             "#7fbc41"
            ],
            [
             0.9,
             "#4d9221"
            ],
            [
             1,
             "#276419"
            ]
           ],
           "sequential": [
            [
             0,
             "#0d0887"
            ],
            [
             0.1111111111111111,
             "#46039f"
            ],
            [
             0.2222222222222222,
             "#7201a8"
            ],
            [
             0.3333333333333333,
             "#9c179e"
            ],
            [
             0.4444444444444444,
             "#bd3786"
            ],
            [
             0.5555555555555556,
             "#d8576b"
            ],
            [
             0.6666666666666666,
             "#ed7953"
            ],
            [
             0.7777777777777778,
             "#fb9f3a"
            ],
            [
             0.8888888888888888,
             "#fdca26"
            ],
            [
             1,
             "#f0f921"
            ]
           ],
           "sequentialminus": [
            [
             0,
             "#0d0887"
            ],
            [
             0.1111111111111111,
             "#46039f"
            ],
            [
             0.2222222222222222,
             "#7201a8"
            ],
            [
             0.3333333333333333,
             "#9c179e"
            ],
            [
             0.4444444444444444,
             "#bd3786"
            ],
            [
             0.5555555555555556,
             "#d8576b"
            ],
            [
             0.6666666666666666,
             "#ed7953"
            ],
            [
             0.7777777777777778,
             "#fb9f3a"
            ],
            [
             0.8888888888888888,
             "#fdca26"
            ],
            [
             1,
             "#f0f921"
            ]
           ]
          },
          "colorway": [
           "#636efa",
           "#EF553B",
           "#00cc96",
           "#ab63fa",
           "#FFA15A",
           "#19d3f3",
           "#FF6692",
           "#B6E880",
           "#FF97FF",
           "#FECB52"
          ],
          "font": {
           "color": "#2a3f5f"
          },
          "geo": {
           "bgcolor": "white",
           "lakecolor": "white",
           "landcolor": "#E5ECF6",
           "showlakes": true,
           "showland": true,
           "subunitcolor": "white"
          },
          "hoverlabel": {
           "align": "left"
          },
          "hovermode": "closest",
          "mapbox": {
           "style": "light"
          },
          "paper_bgcolor": "white",
          "plot_bgcolor": "#E5ECF6",
          "polar": {
           "angularaxis": {
            "gridcolor": "white",
            "linecolor": "white",
            "ticks": ""
           },
           "bgcolor": "#E5ECF6",
           "radialaxis": {
            "gridcolor": "white",
            "linecolor": "white",
            "ticks": ""
           }
          },
          "scene": {
           "xaxis": {
            "backgroundcolor": "#E5ECF6",
            "gridcolor": "white",
            "gridwidth": 2,
            "linecolor": "white",
            "showbackground": true,
            "ticks": "",
            "zerolinecolor": "white"
           },
           "yaxis": {
            "backgroundcolor": "#E5ECF6",
            "gridcolor": "white",
            "gridwidth": 2,
            "linecolor": "white",
            "showbackground": true,
            "ticks": "",
            "zerolinecolor": "white"
           },
           "zaxis": {
            "backgroundcolor": "#E5ECF6",
            "gridcolor": "white",
            "gridwidth": 2,
            "linecolor": "white",
            "showbackground": true,
            "ticks": "",
            "zerolinecolor": "white"
           }
          },
          "shapedefaults": {
           "line": {
            "color": "#2a3f5f"
           }
          },
          "ternary": {
           "aaxis": {
            "gridcolor": "white",
            "linecolor": "white",
            "ticks": ""
           },
           "baxis": {
            "gridcolor": "white",
            "linecolor": "white",
            "ticks": ""
           },
           "bgcolor": "#E5ECF6",
           "caxis": {
            "gridcolor": "white",
            "linecolor": "white",
            "ticks": ""
           }
          },
          "title": {
           "x": 0.05
          },
          "xaxis": {
           "automargin": true,
           "gridcolor": "white",
           "linecolor": "white",
           "ticks": "",
           "title": {
            "standoff": 15
           },
           "zerolinecolor": "white",
           "zerolinewidth": 2
          },
          "yaxis": {
           "automargin": true,
           "gridcolor": "white",
           "linecolor": "white",
           "ticks": "",
           "title": {
            "standoff": 15
           },
           "zerolinecolor": "white",
           "zerolinewidth": 2
          }
         }
        },
        "title": {
         "text": "K-means clustering on Spotify embeddings (PCA-reduced)"
        },
        "width": 800,
        "xaxis": {
         "maxallowed": 6.447491073964642,
         "minallowed": -6.746716453708704,
         "visible": false
        },
        "yaxis": {
         "maxallowed": 5.758729830782632,
         "minallowed": -6.780220984681426,
         "visible": false
        }
       }
      }
     },
     "metadata": {},
     "output_type": "display_data"
    }
   ],
   "source": [
    "data = {\n",
    "    'x': song_reduced_embeddings[:, 0],\n",
    "    'y': song_reduced_embeddings[:, 1],\n",
    "    'name': [m['name'] for m in song_metadata],\n",
    "    'artist': [m['artist'] for m in song_metadata],\n",
    "    'genre': [m['genre'] for m in song_metadata],\n",
    "    'cluster': song_cluster_labels,\n",
    "    'id': [m['id'] for m in song_metadata]\n",
    "}\n",
    "\n",
    "# Create a DataFrame for easier manipulation\n",
    "df = pd.DataFrame(data)\n",
    "\n",
    "vor = Voronoi(kmeans.cluster_centers_)\n",
    "regions, vertices = voronoi_finite_polygons_2d(vor)\n",
    "\n",
    "# Generate a unique color for each region\n",
    "def generate_color(name, factor=0.25):\n",
    "    \"\"\"Generate a pastel color for the given name.\"\"\"\n",
    "    # Generate a color based on the hash of the name\n",
    "    hash_object = hashlib.md5(name.encode())\n",
    "    hex_dig = hash_object.hexdigest()\n",
    "    base_color = [int(hex_dig[i:i+2], 16) for i in (0, 2, 4)]\n",
    "\n",
    "    # Mix the color with white\n",
    "    pastel_color = [(1 - factor) * c + factor * 255 for c in base_color]\n",
    "    pastel_color_hex = ''.join(f'{int(c):02x}' for c in pastel_color)\n",
    "\n",
    "    return '#' + pastel_color_hex\n",
    "\n",
    "# Create Plotly figure\n",
    "fig = go.Figure()\n",
    "\n",
    "# Add Voronoi regions, each with a different color\n",
    "for region, center in zip(regions, kmeans.cluster_centers_):\n",
    "    polygon = vertices[region]\n",
    "    color = generate_color(str(center))\n",
    "    fig.add_trace(go.Scatter(\n",
    "        x=polygon[:, 0],\n",
    "        y=polygon[:, 1],\n",
    "        fill=\"toself\",\n",
    "        fillcolor=color,\n",
    "        mode='lines',\n",
    "        line=dict(color='rgba(0,0,0,0)')  # No border color\n",
    "    ))\n",
    "\n",
    "# Add centroids\n",
    "fig.add_trace(go.Scatter(\n",
    "    x=kmeans.cluster_centers_[:, 0],\n",
    "    y=kmeans.cluster_centers_[:, 1],\n",
    "    mode='markers',\n",
    "    marker=dict(size=10, color='white', symbol='x'),\n",
    "    name='Centroids'\n",
    "))\n",
    "\n",
    "# Add scatter plot of points\n",
    "fig.add_trace(go.Scatter(\n",
    "    x=df['x'],\n",
    "    y=df['y'],\n",
    "    mode='markers',\n",
    "    marker=dict(color='black', size=5),\n",
    "    text=df.apply(lambda row: f\"{row['name']} by {row['artist']}\", axis=1),\n",
    "    hoverinfo='text'\n",
    "))\n",
    "\n",
    "# Update layout\n",
    "fig.update_layout(\n",
    "    title=\"K-means clustering on Spotify embeddings (PCA-reduced)\",\n",
    "    xaxis=dict(visible=False),\n",
    "    yaxis=dict(visible=False),\n",
    "    showlegend=False,\n",
    "    width=800,\n",
    "    height=800,\n",
    "    plot_bgcolor='rgba(0,0,0,0)'\n",
    ")\n",
    "\n",
    "fig.update_xaxes(minallowed=df['x'].min()-1, maxallowed=df['x'].max()+1)\n",
    "fig.update_yaxes(minallowed=df['y'].min()-1, maxallowed=df['y'].max()+1)\n",
    "\n",
    "\n",
    "# Show the plot\n",
    "fig.show()"
   ]
  },
  {
   "cell_type": "code",
   "execution_count": 17,
   "metadata": {},
   "outputs": [],
   "source": [
    "pca = PCA(n_components=2)\n",
    "artist_reduced_embeddings = pca.fit_transform(artist_embeddings)\n",
    "# Perform K-means clustering\n",
    "n_clusters = artist_clusters // 20  # Adjust this number as needed\n",
    "kmeans = KMeans(n_clusters=n_clusters, init=\"k-means++\", n_init=4, random_state=42)\n",
    "artist_cluster_labels = kmeans.fit_predict(artist_reduced_embeddings)"
   ]
  },
  {
   "cell_type": "code",
   "execution_count": 18,
   "metadata": {},
   "outputs": [
    {
     "data": {
      "application/vnd.plotly.v1+json": {
       "config": {
        "plotlyServerURL": "https://plot.ly"
       },
       "data": [
        {
         "fill": "toself",
         "fillcolor": "#9cd776",
         "line": {
          "color": "rgba(0,0,0,0)"
         },
         "mode": "lines",
         "type": "scatter",
         "x": [
          1.0369628143185303,
          -1.5151739186646427,
          -2.1583473157966133,
          -1.1689664554099204,
          1.0482486987017081,
          1.076251939337584
         ],
         "y": [
          -0.2773771349340677,
          -1.6699714306463864,
          -0.7973045749992198,
          2.038527247374456,
          0.11587767309493024,
          -0.1639002619263319
         ]
        },
        {
         "fill": "toself",
         "fillcolor": "#829574",
         "line": {
          "color": "rgba(0,0,0,0)"
         },
         "mode": "lines",
         "type": "scatter",
         "x": [
          14.916014493902361,
          4.637227858110407,
          -1.4181552840233134,
          -17.21528716505359
         ],
         "y": [
          -22.4631011591515,
          -8.923912408389697,
          -2.786742542527498,
          -9.06477655535565
         ]
        },
        {
         "fill": "toself",
         "fillcolor": "#447ba5",
         "line": {
          "color": "rgba(0,0,0,0)"
         },
         "mode": "lines",
         "type": "scatter",
         "x": [
          1.0482486987017081,
          1.076251939337584,
          18.020995572733305,
          11.157631002904665
         ],
         "y": [
          0.11587767309493024,
          -0.1639002619263319,
          -1.5199053988581273,
          13.782021099839666
         ]
        },
        {
         "fill": "toself",
         "fillcolor": "#4b608a",
         "line": {
          "color": "rgba(0,0,0,0)"
         },
         "mode": "lines",
         "type": "scatter",
         "x": [
          -28.837757106404148,
          -11.844256791728917,
          -1.2864382007144692,
          6.4470083247065615
         ],
         "y": [
          1.4864764973910862,
          1.0574849030409323,
          2.6359545243383136,
          17.773883430610258
         ]
        },
        {
         "fill": "toself",
         "fillcolor": "#a1b781",
         "line": {
          "color": "rgba(0,0,0,0)"
         },
         "mode": "lines",
         "type": "scatter",
         "x": [
          -17.21528716505359,
          -1.4181552840233134,
          -1.5151739186646427,
          -2.1583473157966133,
          -11.844256791728917,
          -28.837757106404148
         ],
         "y": [
          -9.06477655535565,
          -2.786742542527498,
          -1.6699714306463864,
          -0.7973045749992198,
          1.0574849030409323,
          1.4864764973910862
         ]
        },
        {
         "fill": "toself",
         "fillcolor": "#eabb43",
         "line": {
          "color": "rgba(0,0,0,0)"
         },
         "mode": "lines",
         "type": "scatter",
         "x": [
          4.637227858110407,
          14.916014493902361,
          18.020995572733305,
          1.076251939337584,
          1.0369628143185303
         ],
         "y": [
          -8.923912408389697,
          -22.4631011591515,
          -1.5199053988581273,
          -0.1639002619263319,
          -0.2773771349340677
         ]
        },
        {
         "fill": "toself",
         "fillcolor": "#86604b",
         "line": {
          "color": "rgba(0,0,0,0)"
         },
         "mode": "lines",
         "type": "scatter",
         "x": [
          -1.2864382007144692,
          -1.1689664554099204,
          1.0482486987017081,
          11.157631002904665,
          6.4470083247065615
         ],
         "y": [
          2.6359545243383136,
          2.038527247374456,
          0.11587767309493024,
          13.782021099839666,
          17.773883430610258
         ]
        },
        {
         "fill": "toself",
         "fillcolor": "#42dfa0",
         "line": {
          "color": "rgba(0,0,0,0)"
         },
         "mode": "lines",
         "type": "scatter",
         "x": [
          -1.1689664554099204,
          -2.1583473157966133,
          -11.844256791728917,
          -1.2864382007144692
         ],
         "y": [
          2.038527247374456,
          -0.7973045749992198,
          1.0574849030409323,
          2.6359545243383136
         ]
        },
        {
         "fill": "toself",
         "fillcolor": "#dead85",
         "line": {
          "color": "rgba(0,0,0,0)"
         },
         "mode": "lines",
         "type": "scatter",
         "x": [
          4.637227858110407,
          -1.4181552840233134,
          -1.5151739186646427,
          1.0369628143185303
         ],
         "y": [
          -8.923912408389697,
          -2.786742542527498,
          -1.6699714306463864,
          -0.2773771349340677
         ]
        },
        {
         "marker": {
          "color": "white",
          "size": 10,
          "symbol": "x"
         },
         "mode": "markers",
         "name": "Centroids",
         "type": "scatter",
         "x": [
          -0.5059716472508912,
          -2.461653524146547,
          2.5785061831995986,
          -3.337160968178126,
          -3.486617863357367,
          2.471308318938993,
          0.8624961732708158,
          -2.9056259065278183,
          0.5035790348589539
         ],
         "y": [
          0.08121893710103947,
          -4.694649766319921,
          0.3899472680738335,
          3.8048073741816153,
          -2.1155785464473227,
          -0.9496054212718248,
          1.6593471775069082,
          0.9184237307501726,
          -1.768933248322681
         ]
        },
        {
         "hoverinfo": "text",
         "marker": {
          "color": "black",
          "size": 5
         },
         "mode": "markers",
         "text": [
          "AC/DC",
          "XXXTENTACION",
          "GROUPLOVE",
          "Gunna",
          "MGMT",
          "Nickelback",
          "Regard",
          "BigXthaPlug",
          "Toploader",
          "Trueno",
          "ILLIT",
          "NewJeans",
          "Marshmello",
          "FloyyMenor",
          "Maluma",
          "Kygo",
          "Future",
          "Rvssian",
          "Radiohead",
          "Offset",
          "Sevdaliza",
          "Kesha",
          "Boston",
          "ENHYPEN",
          "Adele",
          "LISA",
          "Djo",
          "Laufey",
          "Diplo",
          "TLC",
          "Jungle",
          "Blessd",
          "Jimin",
          "GIMS",
          "Pitbull",
          "Foreigner",
          "Mitski",
          "NAYEON",
          "Eurythmics",
          "Hozier",
          "Xavi",
          "USHER",
          "Kansas",
          "Mustard",
          "Coolio",
          "MAGIC!",
          "Train",
          "a-ha",
          "Alphaville",
          "Seafret",
          "Gorillaz",
          "TOTO",
          "Shaboozey",
          "Journey",
          "Alok",
          "Eyedress",
          "SZA",
          "Tinashe",
          "Shakira",
          "Starship",
          "Tainy",
          "Slipknot"
         ],
         "type": "scatter",
         "x": [
          -2.72165082727844,
          2.275105544259989,
          -3.0070773816809386,
          2.9481094917380504,
          -1.6221283866385667,
          -1.2465638930119314,
          2.264660380386399,
          3.280059818065138,
          -0.3639143047822166,
          3.0001289030216034,
          3.22825755003531,
          2.8670860885249354,
          -0.04685278540868166,
          0.9358239689533885,
          2.130274227740284,
          -0.7746796012099625,
          0.15794621577466764,
          3.8037810724167542,
          -3.971096359545055,
          2.0098257083594593,
          1.7163822334862588,
          0.9857860977277257,
          -3.217640572354892,
          3.0243388471287687,
          -1.7751996805115338,
          2.154159493237676,
          -3.5784602807966945,
          2.406158884333583,
          2.4636186036833005,
          1.1396803198571765,
          -0.6231260159050392,
          3.453783110643851,
          1.5179956105318009,
          3.0481183748637135,
          0.5762845970943008,
          -4.1625691076686095,
          -1.9307441596576245,
          -0.10286871728789351,
          -2.4699811302385983,
          -0.35912990821860585,
          1.0627220352787619,
          0.31523845482027496,
          -4.249172672839841,
          1.7526120860654282,
          -1.121076189506447,
          0.8750605638356806,
          -0.38534670959412465,
          -2.6702255283938627,
          -3.590266759418344,
          -4.692467363475737,
          -0.9278068103148474,
          -5.0001026721151955,
          0.8886002252420562,
          -1.1668856807203776,
          1.601207838042948,
          -2.194619144354958,
          1.533497199887637,
          2.4525809308020903,
          -0.09906686391629665,
          -2.3743193910514284,
          0.7434547419403615,
          -2.1673003198826546
         ],
         "y": [
          -2.0139479904755726,
          0.20284722239302871,
          -0.9776665875520762,
          -0.04629222293669784,
          0.1324924848486878,
          -3.7621498813829706,
          -2.117923545169436,
          -1.20371301797528,
          0.07796243158319388,
          0.5918684181633375,
          0.6127450699391246,
          0.3111305365977567,
          -0.3617816779001739,
          1.5362746396045461,
          0.2192052927535849,
          0.2748147599157411,
          -0.12675188855635722,
          0.08735619454539441,
          -6.168589936020414,
          -0.2675887150477111,
          0.27631452817630625,
          -2.5899937819895564,
          -2.2712938545776478,
          -0.6056775783668854,
          1.9834575793498448,
          -0.9457729787793597,
          2.4397205833088167,
          1.0493397454406028,
          -0.14334978166309506,
          0.5681173502785368,
          0.22124961537230298,
          0.7019276931579058,
          -0.6860852787377877,
          -0.8204768348263148,
          -1.7352173783149067,
          1.454935527906284,
          3.610792258703668,
          -1.5961418778486445,
          0.9446635965654819,
          0.5414406120202008,
          2.054923249878546,
          -1.7040966663734056,
          5.762864578911578,
          0.4582503890213892,
          0.6581213719801643,
          -0.28292633599668393,
          1.7650523518623573,
          0.7792868419589549,
          3.4058520758024,
          0.5286820359435277,
          -0.5335546209431091,
          -3.1994057531839926,
          0.929320988864098,
          -0.030313421104328237,
          0.28830983369854984,
          1.0013369152306895,
          3.1023944845533666,
          0.8496088337464819,
          0.40387391399283556,
          -0.26339638170357416,
          -1.2192165370868906,
          -4.153209481556381
         ]
        }
       ],
       "layout": {
        "height": 800,
        "plot_bgcolor": "rgba(0,0,0,0)",
        "showlegend": false,
        "template": {
         "data": {
          "bar": [
           {
            "error_x": {
             "color": "#2a3f5f"
            },
            "error_y": {
             "color": "#2a3f5f"
            },
            "marker": {
             "line": {
              "color": "#E5ECF6",
              "width": 0.5
             },
             "pattern": {
              "fillmode": "overlay",
              "size": 10,
              "solidity": 0.2
             }
            },
            "type": "bar"
           }
          ],
          "barpolar": [
           {
            "marker": {
             "line": {
              "color": "#E5ECF6",
              "width": 0.5
             },
             "pattern": {
              "fillmode": "overlay",
              "size": 10,
              "solidity": 0.2
             }
            },
            "type": "barpolar"
           }
          ],
          "carpet": [
           {
            "aaxis": {
             "endlinecolor": "#2a3f5f",
             "gridcolor": "white",
             "linecolor": "white",
             "minorgridcolor": "white",
             "startlinecolor": "#2a3f5f"
            },
            "baxis": {
             "endlinecolor": "#2a3f5f",
             "gridcolor": "white",
             "linecolor": "white",
             "minorgridcolor": "white",
             "startlinecolor": "#2a3f5f"
            },
            "type": "carpet"
           }
          ],
          "choropleth": [
           {
            "colorbar": {
             "outlinewidth": 0,
             "ticks": ""
            },
            "type": "choropleth"
           }
          ],
          "contour": [
           {
            "colorbar": {
             "outlinewidth": 0,
             "ticks": ""
            },
            "colorscale": [
             [
              0,
              "#0d0887"
             ],
             [
              0.1111111111111111,
              "#46039f"
             ],
             [
              0.2222222222222222,
              "#7201a8"
             ],
             [
              0.3333333333333333,
              "#9c179e"
             ],
             [
              0.4444444444444444,
              "#bd3786"
             ],
             [
              0.5555555555555556,
              "#d8576b"
             ],
             [
              0.6666666666666666,
              "#ed7953"
             ],
             [
              0.7777777777777778,
              "#fb9f3a"
             ],
             [
              0.8888888888888888,
              "#fdca26"
             ],
             [
              1,
              "#f0f921"
             ]
            ],
            "type": "contour"
           }
          ],
          "contourcarpet": [
           {
            "colorbar": {
             "outlinewidth": 0,
             "ticks": ""
            },
            "type": "contourcarpet"
           }
          ],
          "heatmap": [
           {
            "colorbar": {
             "outlinewidth": 0,
             "ticks": ""
            },
            "colorscale": [
             [
              0,
              "#0d0887"
             ],
             [
              0.1111111111111111,
              "#46039f"
             ],
             [
              0.2222222222222222,
              "#7201a8"
             ],
             [
              0.3333333333333333,
              "#9c179e"
             ],
             [
              0.4444444444444444,
              "#bd3786"
             ],
             [
              0.5555555555555556,
              "#d8576b"
             ],
             [
              0.6666666666666666,
              "#ed7953"
             ],
             [
              0.7777777777777778,
              "#fb9f3a"
             ],
             [
              0.8888888888888888,
              "#fdca26"
             ],
             [
              1,
              "#f0f921"
             ]
            ],
            "type": "heatmap"
           }
          ],
          "heatmapgl": [
           {
            "colorbar": {
             "outlinewidth": 0,
             "ticks": ""
            },
            "colorscale": [
             [
              0,
              "#0d0887"
             ],
             [
              0.1111111111111111,
              "#46039f"
             ],
             [
              0.2222222222222222,
              "#7201a8"
             ],
             [
              0.3333333333333333,
              "#9c179e"
             ],
             [
              0.4444444444444444,
              "#bd3786"
             ],
             [
              0.5555555555555556,
              "#d8576b"
             ],
             [
              0.6666666666666666,
              "#ed7953"
             ],
             [
              0.7777777777777778,
              "#fb9f3a"
             ],
             [
              0.8888888888888888,
              "#fdca26"
             ],
             [
              1,
              "#f0f921"
             ]
            ],
            "type": "heatmapgl"
           }
          ],
          "histogram": [
           {
            "marker": {
             "pattern": {
              "fillmode": "overlay",
              "size": 10,
              "solidity": 0.2
             }
            },
            "type": "histogram"
           }
          ],
          "histogram2d": [
           {
            "colorbar": {
             "outlinewidth": 0,
             "ticks": ""
            },
            "colorscale": [
             [
              0,
              "#0d0887"
             ],
             [
              0.1111111111111111,
              "#46039f"
             ],
             [
              0.2222222222222222,
              "#7201a8"
             ],
             [
              0.3333333333333333,
              "#9c179e"
             ],
             [
              0.4444444444444444,
              "#bd3786"
             ],
             [
              0.5555555555555556,
              "#d8576b"
             ],
             [
              0.6666666666666666,
              "#ed7953"
             ],
             [
              0.7777777777777778,
              "#fb9f3a"
             ],
             [
              0.8888888888888888,
              "#fdca26"
             ],
             [
              1,
              "#f0f921"
             ]
            ],
            "type": "histogram2d"
           }
          ],
          "histogram2dcontour": [
           {
            "colorbar": {
             "outlinewidth": 0,
             "ticks": ""
            },
            "colorscale": [
             [
              0,
              "#0d0887"
             ],
             [
              0.1111111111111111,
              "#46039f"
             ],
             [
              0.2222222222222222,
              "#7201a8"
             ],
             [
              0.3333333333333333,
              "#9c179e"
             ],
             [
              0.4444444444444444,
              "#bd3786"
             ],
             [
              0.5555555555555556,
              "#d8576b"
             ],
             [
              0.6666666666666666,
              "#ed7953"
             ],
             [
              0.7777777777777778,
              "#fb9f3a"
             ],
             [
              0.8888888888888888,
              "#fdca26"
             ],
             [
              1,
              "#f0f921"
             ]
            ],
            "type": "histogram2dcontour"
           }
          ],
          "mesh3d": [
           {
            "colorbar": {
             "outlinewidth": 0,
             "ticks": ""
            },
            "type": "mesh3d"
           }
          ],
          "parcoords": [
           {
            "line": {
             "colorbar": {
              "outlinewidth": 0,
              "ticks": ""
             }
            },
            "type": "parcoords"
           }
          ],
          "pie": [
           {
            "automargin": true,
            "type": "pie"
           }
          ],
          "scatter": [
           {
            "fillpattern": {
             "fillmode": "overlay",
             "size": 10,
             "solidity": 0.2
            },
            "type": "scatter"
           }
          ],
          "scatter3d": [
           {
            "line": {
             "colorbar": {
              "outlinewidth": 0,
              "ticks": ""
             }
            },
            "marker": {
             "colorbar": {
              "outlinewidth": 0,
              "ticks": ""
             }
            },
            "type": "scatter3d"
           }
          ],
          "scattercarpet": [
           {
            "marker": {
             "colorbar": {
              "outlinewidth": 0,
              "ticks": ""
             }
            },
            "type": "scattercarpet"
           }
          ],
          "scattergeo": [
           {
            "marker": {
             "colorbar": {
              "outlinewidth": 0,
              "ticks": ""
             }
            },
            "type": "scattergeo"
           }
          ],
          "scattergl": [
           {
            "marker": {
             "colorbar": {
              "outlinewidth": 0,
              "ticks": ""
             }
            },
            "type": "scattergl"
           }
          ],
          "scattermapbox": [
           {
            "marker": {
             "colorbar": {
              "outlinewidth": 0,
              "ticks": ""
             }
            },
            "type": "scattermapbox"
           }
          ],
          "scatterpolar": [
           {
            "marker": {
             "colorbar": {
              "outlinewidth": 0,
              "ticks": ""
             }
            },
            "type": "scatterpolar"
           }
          ],
          "scatterpolargl": [
           {
            "marker": {
             "colorbar": {
              "outlinewidth": 0,
              "ticks": ""
             }
            },
            "type": "scatterpolargl"
           }
          ],
          "scatterternary": [
           {
            "marker": {
             "colorbar": {
              "outlinewidth": 0,
              "ticks": ""
             }
            },
            "type": "scatterternary"
           }
          ],
          "surface": [
           {
            "colorbar": {
             "outlinewidth": 0,
             "ticks": ""
            },
            "colorscale": [
             [
              0,
              "#0d0887"
             ],
             [
              0.1111111111111111,
              "#46039f"
             ],
             [
              0.2222222222222222,
              "#7201a8"
             ],
             [
              0.3333333333333333,
              "#9c179e"
             ],
             [
              0.4444444444444444,
              "#bd3786"
             ],
             [
              0.5555555555555556,
              "#d8576b"
             ],
             [
              0.6666666666666666,
              "#ed7953"
             ],
             [
              0.7777777777777778,
              "#fb9f3a"
             ],
             [
              0.8888888888888888,
              "#fdca26"
             ],
             [
              1,
              "#f0f921"
             ]
            ],
            "type": "surface"
           }
          ],
          "table": [
           {
            "cells": {
             "fill": {
              "color": "#EBF0F8"
             },
             "line": {
              "color": "white"
             }
            },
            "header": {
             "fill": {
              "color": "#C8D4E3"
             },
             "line": {
              "color": "white"
             }
            },
            "type": "table"
           }
          ]
         },
         "layout": {
          "annotationdefaults": {
           "arrowcolor": "#2a3f5f",
           "arrowhead": 0,
           "arrowwidth": 1
          },
          "autotypenumbers": "strict",
          "coloraxis": {
           "colorbar": {
            "outlinewidth": 0,
            "ticks": ""
           }
          },
          "colorscale": {
           "diverging": [
            [
             0,
             "#8e0152"
            ],
            [
             0.1,
             "#c51b7d"
            ],
            [
             0.2,
             "#de77ae"
            ],
            [
             0.3,
             "#f1b6da"
            ],
            [
             0.4,
             "#fde0ef"
            ],
            [
             0.5,
             "#f7f7f7"
            ],
            [
             0.6,
             "#e6f5d0"
            ],
            [
             0.7,
             "#b8e186"
            ],
            [
             0.8,
             "#7fbc41"
            ],
            [
             0.9,
             "#4d9221"
            ],
            [
             1,
             "#276419"
            ]
           ],
           "sequential": [
            [
             0,
             "#0d0887"
            ],
            [
             0.1111111111111111,
             "#46039f"
            ],
            [
             0.2222222222222222,
             "#7201a8"
            ],
            [
             0.3333333333333333,
             "#9c179e"
            ],
            [
             0.4444444444444444,
             "#bd3786"
            ],
            [
             0.5555555555555556,
             "#d8576b"
            ],
            [
             0.6666666666666666,
             "#ed7953"
            ],
            [
             0.7777777777777778,
             "#fb9f3a"
            ],
            [
             0.8888888888888888,
             "#fdca26"
            ],
            [
             1,
             "#f0f921"
            ]
           ],
           "sequentialminus": [
            [
             0,
             "#0d0887"
            ],
            [
             0.1111111111111111,
             "#46039f"
            ],
            [
             0.2222222222222222,
             "#7201a8"
            ],
            [
             0.3333333333333333,
             "#9c179e"
            ],
            [
             0.4444444444444444,
             "#bd3786"
            ],
            [
             0.5555555555555556,
             "#d8576b"
            ],
            [
             0.6666666666666666,
             "#ed7953"
            ],
            [
             0.7777777777777778,
             "#fb9f3a"
            ],
            [
             0.8888888888888888,
             "#fdca26"
            ],
            [
             1,
             "#f0f921"
            ]
           ]
          },
          "colorway": [
           "#636efa",
           "#EF553B",
           "#00cc96",
           "#ab63fa",
           "#FFA15A",
           "#19d3f3",
           "#FF6692",
           "#B6E880",
           "#FF97FF",
           "#FECB52"
          ],
          "font": {
           "color": "#2a3f5f"
          },
          "geo": {
           "bgcolor": "white",
           "lakecolor": "white",
           "landcolor": "#E5ECF6",
           "showlakes": true,
           "showland": true,
           "subunitcolor": "white"
          },
          "hoverlabel": {
           "align": "left"
          },
          "hovermode": "closest",
          "mapbox": {
           "style": "light"
          },
          "paper_bgcolor": "white",
          "plot_bgcolor": "#E5ECF6",
          "polar": {
           "angularaxis": {
            "gridcolor": "white",
            "linecolor": "white",
            "ticks": ""
           },
           "bgcolor": "#E5ECF6",
           "radialaxis": {
            "gridcolor": "white",
            "linecolor": "white",
            "ticks": ""
           }
          },
          "scene": {
           "xaxis": {
            "backgroundcolor": "#E5ECF6",
            "gridcolor": "white",
            "gridwidth": 2,
            "linecolor": "white",
            "showbackground": true,
            "ticks": "",
            "zerolinecolor": "white"
           },
           "yaxis": {
            "backgroundcolor": "#E5ECF6",
            "gridcolor": "white",
            "gridwidth": 2,
            "linecolor": "white",
            "showbackground": true,
            "ticks": "",
            "zerolinecolor": "white"
           },
           "zaxis": {
            "backgroundcolor": "#E5ECF6",
            "gridcolor": "white",
            "gridwidth": 2,
            "linecolor": "white",
            "showbackground": true,
            "ticks": "",
            "zerolinecolor": "white"
           }
          },
          "shapedefaults": {
           "line": {
            "color": "#2a3f5f"
           }
          },
          "ternary": {
           "aaxis": {
            "gridcolor": "white",
            "linecolor": "white",
            "ticks": ""
           },
           "baxis": {
            "gridcolor": "white",
            "linecolor": "white",
            "ticks": ""
           },
           "bgcolor": "#E5ECF6",
           "caxis": {
            "gridcolor": "white",
            "linecolor": "white",
            "ticks": ""
           }
          },
          "title": {
           "x": 0.05
          },
          "xaxis": {
           "automargin": true,
           "gridcolor": "white",
           "linecolor": "white",
           "ticks": "",
           "title": {
            "standoff": 15
           },
           "zerolinecolor": "white",
           "zerolinewidth": 2
          },
          "yaxis": {
           "automargin": true,
           "gridcolor": "white",
           "linecolor": "white",
           "ticks": "",
           "title": {
            "standoff": 15
           },
           "zerolinecolor": "white",
           "zerolinewidth": 2
          }
         }
        },
        "title": {
         "text": "K-means clustering on Spotify embeddings (PCA-reduced)"
        },
        "width": 800,
        "xaxis": {
         "maxallowed": 4.803781072416754,
         "minallowed": -6.0001026721151955,
         "visible": false
        },
        "yaxis": {
         "maxallowed": 6.762864578911578,
         "minallowed": -7.168589936020414,
         "visible": false
        }
       }
      }
     },
     "metadata": {},
     "output_type": "display_data"
    }
   ],
   "source": [
    "data = {\n",
    "    'x': artist_reduced_embeddings[:, 0],\n",
    "    'y': artist_reduced_embeddings[:, 1],\n",
    "    'name': [m['name'] for m in artist_metadata],\n",
    "    'cluster': artist_cluster_labels,\n",
    "    'id': [m['id'] for m in artist_metadata]\n",
    "}\n",
    "\n",
    "# Create a DataFrame for easier manipulation\n",
    "df = pd.DataFrame(data)\n",
    "\n",
    "vor = Voronoi(kmeans.cluster_centers_)\n",
    "regions, vertices = voronoi_finite_polygons_2d(vor)\n",
    "\n",
    "# Generate a unique color for each region\n",
    "def generate_color(name, factor=0.25):\n",
    "    \"\"\"Generate a pastel color for the given name.\"\"\"\n",
    "    # Generate a color based on the hash of the name\n",
    "    hash_object = hashlib.md5(name.encode())\n",
    "    hex_dig = hash_object.hexdigest()\n",
    "    base_color = [int(hex_dig[i:i+2], 16) for i in (0, 2, 4)]\n",
    "\n",
    "    # Mix the color with white\n",
    "    pastel_color = [(1 - factor) * c + factor * 255 for c in base_color]\n",
    "    pastel_color_hex = ''.join(f'{int(c):02x}' for c in pastel_color)\n",
    "\n",
    "    return '#' + pastel_color_hex\n",
    "\n",
    "# Create Plotly figure\n",
    "fig = go.Figure()\n",
    "\n",
    "# Add Voronoi regions, each with a different color\n",
    "for region, center in zip(regions, kmeans.cluster_centers_):\n",
    "    polygon = vertices[region]\n",
    "    color = generate_color(str(center))\n",
    "    fig.add_trace(go.Scatter(\n",
    "        x=polygon[:, 0],\n",
    "        y=polygon[:, 1],\n",
    "        fill=\"toself\",\n",
    "        fillcolor=color,\n",
    "        mode='lines',\n",
    "        line=dict(color='rgba(0,0,0,0)')  # No border color\n",
    "    ))\n",
    "\n",
    "# Add centroids\n",
    "fig.add_trace(go.Scatter(\n",
    "    x=kmeans.cluster_centers_[:, 0],\n",
    "    y=kmeans.cluster_centers_[:, 1],\n",
    "    mode='markers',\n",
    "    marker=dict(size=10, color='white', symbol='x'),\n",
    "    name='Centroids'\n",
    "))\n",
    "\n",
    "# Add scatter plot of points\n",
    "fig.add_trace(go.Scatter(\n",
    "    x=df['x'],\n",
    "    y=df['y'],\n",
    "    mode='markers',\n",
    "    marker=dict(color='black', size=5),\n",
    "    text=df.apply(lambda row: f\"{row['name']}\", axis=1),\n",
    "    hoverinfo='text'\n",
    "))\n",
    "\n",
    "# Update layout\n",
    "fig.update_layout(\n",
    "    title=\"K-means clustering on Spotify embeddings (PCA-reduced)\",\n",
    "    xaxis=dict(visible=False),\n",
    "    yaxis=dict(visible=False),\n",
    "    showlegend=False,\n",
    "    width=800,\n",
    "    height=800,\n",
    "    plot_bgcolor='rgba(0,0,0,0)'\n",
    ")\n",
    "\n",
    "fig.update_xaxes(minallowed=df['x'].min()-1, maxallowed=df['x'].max()+1)\n",
    "fig.update_yaxes(minallowed=df['y'].min()-1, maxallowed=df['y'].max()+1)\n",
    "\n",
    "\n",
    "# Show the plot\n",
    "fig.show()"
   ]
  },
  {
   "cell_type": "code",
   "execution_count": 19,
   "metadata": {},
   "outputs": [],
   "source": [
    "pca = PCA(n_components=2)\n",
    "genre_reduced_embeddings = pca.fit_transform(genre_embeddings)\n",
    "# Perform K-means clustering\n",
    "n_clusters = genre_clusters // 5  # Adjust this number as needed\n",
    "kmeans = KMeans(n_clusters=n_clusters, init=\"k-means++\", n_init=4, random_state=42)\n",
    "genre_cluster_labels = kmeans.fit_predict(genre_reduced_embeddings)"
   ]
  },
  {
   "cell_type": "code",
   "execution_count": 20,
   "metadata": {},
   "outputs": [
    {
     "data": {
      "application/vnd.plotly.v1+json": {
       "config": {
        "plotlyServerURL": "https://plot.ly"
       },
       "data": [
        {
         "fill": "toself",
         "fillcolor": "#794af2",
         "line": {
          "color": "rgba(0,0,0,0)"
         },
         "mode": "lines",
         "type": "scatter",
         "x": [
          -17.350329149273186,
          11.896711622859698,
          2.1102893648639336,
          0.5628672412881801,
          -5.022650783047559
         ],
         "y": [
          -11.908829283157942,
          -14.402159413686487,
          -3.2917027751423378,
          -2.640375981840854,
          -3.7085455424781575
         ]
        },
        {
         "fill": "toself",
         "fillcolor": "#47ccb1",
         "line": {
          "color": "rgba(0,0,0,0)"
         },
         "mode": "lines",
         "type": "scatter",
         "x": [
          1.1859845096551234,
          0.07822204286139556,
          -0.9373670954332971,
          -0.22504984005236373,
          0.9241861871058559
         ],
         "y": [
          1.5668897691786206,
          2.575860946400681,
          1.1799189933359595,
          -0.19562622363606152,
          0.012565781337347426
         ]
        },
        {
         "fill": "toself",
         "fillcolor": "#ee4ede",
         "line": {
          "color": "rgba(0,0,0,0)"
         },
         "mode": "lines",
         "type": "scatter",
         "x": [
          11.896711622859698,
          16.067544373179707,
          2.6882560705462746,
          1.7951136259240335,
          2.1102893648639336
         ],
         "y": [
          -14.402159413686487,
          -6.02440072735026,
          0.3168098703022765,
          -0.8845030136790313,
          -3.2917027751423378
         ]
        },
        {
         "fill": "toself",
         "fillcolor": "#91bdff",
         "line": {
          "color": "rgba(0,0,0,0)"
         },
         "mode": "lines",
         "type": "scatter",
         "x": [
          -0.5975246545341314,
          -2.5318111837023194,
          -2.243118444018055,
          -0.9373670954332971,
          -0.22504984005236373
         ],
         "y": [
          -1.012328049101116,
          -1.091172412145645,
          0.830943146049204,
          1.1799189933359595,
          -0.19562622363606152
         ]
        },
        {
         "fill": "toself",
         "fillcolor": "#59acf6",
         "line": {
          "color": "rgba(0,0,0,0)"
         },
         "mode": "lines",
         "type": "scatter",
         "x": [
          -2.243118444018055,
          -0.9373670954332971,
          0.07822204286139556,
          -1.7371198984745397,
          -13.084517574495639
         ],
         "y": [
          0.830943146049204,
          1.1799189933359595,
          2.575860946400681,
          17.270106111253188,
          10.914611735528162
         ]
        },
        {
         "fill": "toself",
         "fillcolor": "#62f448",
         "line": {
          "color": "rgba(0,0,0,0)"
         },
         "mode": "lines",
         "type": "scatter",
         "x": [
          2.1102893648639336,
          0.5628672412881801,
          -0.5975246545341314,
          -0.22504984005236373,
          0.9241861871058559,
          1.7951136259240335
         ],
         "y": [
          -3.2917027751423378,
          -2.640375981840854,
          -1.012328049101116,
          -0.19562622363606152,
          0.012565781337347426,
          -0.8845030136790313
         ]
        },
        {
         "fill": "toself",
         "fillcolor": "#6e44ae",
         "line": {
          "color": "rgba(0,0,0,0)"
         },
         "mode": "lines",
         "type": "scatter",
         "x": [
          1.7951136259240335,
          0.9241861871058559,
          1.1859845096551234,
          2.5779145856416656,
          2.6882560705462746
         ],
         "y": [
          -0.8845030136790313,
          0.012565781337347426,
          1.5668897691786206,
          1.441571703927806,
          0.3168098703022765
         ]
        },
        {
         "fill": "toself",
         "fillcolor": "#bdb6c1",
         "line": {
          "color": "rgba(0,0,0,0)"
         },
         "mode": "lines",
         "type": "scatter",
         "x": [
          -17.350329149273186,
          -5.022650783047559,
          -2.5318111837023194,
          -2.243118444018055,
          -13.084517574495639
         ],
         "y": [
          -11.908829283157942,
          -3.7085455424781575,
          -1.091172412145645,
          0.830943146049204,
          10.914611735528162
         ]
        },
        {
         "fill": "toself",
         "fillcolor": "#bdd65a",
         "line": {
          "color": "rgba(0,0,0,0)"
         },
         "mode": "lines",
         "type": "scatter",
         "x": [
          0.07822204286139556,
          1.1859845096551234,
          2.5779145856416656,
          14.311017756117504,
          -1.7371198984745397
         ],
         "y": [
          2.575860946400681,
          1.5668897691786206,
          1.441571703927806,
          10.472108638115849,
          17.270106111253188
         ]
        },
        {
         "fill": "toself",
         "fillcolor": "#a6de7f",
         "line": {
          "color": "rgba(0,0,0,0)"
         },
         "mode": "lines",
         "type": "scatter",
         "x": [
          -0.5975246545341314,
          -2.5318111837023194,
          -5.022650783047559,
          0.5628672412881801
         ],
         "y": [
          -1.012328049101116,
          -1.091172412145645,
          -3.7085455424781575,
          -2.640375981840854
         ]
        },
        {
         "fill": "toself",
         "fillcolor": "#519484",
         "line": {
          "color": "rgba(0,0,0,0)"
         },
         "mode": "lines",
         "type": "scatter",
         "x": [
          2.5779145856416656,
          2.6882560705462746,
          16.067544373179707,
          14.311017756117504
         ],
         "y": [
          1.441571703927806,
          0.3168098703022765,
          -6.02440072735026,
          10.472108638115849
         ]
        },
        {
         "marker": {
          "color": "white",
          "size": 10,
          "symbol": "x"
         },
         "mode": "markers",
         "name": "Centroids",
         "type": "scatter",
         "x": [
          -0.7611199347717089,
          0.23141324546609804,
          3.030949868437764,
          -1.1943740244243255,
          -1.783477028464032,
          0.5056223386911117,
          1.7936771775632536,
          -3.5101384253797425,
          1.9913305849641192,
          -1.1156678635553667,
          3.5485263051698013
         ],
         "y": [
          -3.854451260120476,
          0.6687303717429054,
          -0.5142828464066012,
          -0.06960440803342405,
          2.134622755424409,
          -0.8449251067603257,
          0.40559470633359995,
          0.2782125411217926,
          2.600966314025237,
          -2.000500427136156,
          0.5777490706931311
         ]
        },
        {
         "hoverinfo": "text",
         "marker": {
          "color": "black",
          "size": 5
         },
         "mode": "markers",
         "text": [
          "indie-pop",
          "ambient",
          "garage",
          "funk",
          "pop",
          "sad",
          "sertanejo",
          "r-n-b",
          "swedish",
          "reggae",
          "electronic",
          "punk",
          "latin",
          "power-pop",
          "club",
          "grunge",
          "dance",
          "disco",
          "punk-rock",
          "jazz",
          "progressive-house",
          "house",
          "edm",
          "singer-songwriter",
          "blues",
          "latino",
          "rockabilly",
          "alt-rock",
          "piano",
          "reggaeton",
          "rock",
          "dancehall",
          "metal",
          "soul",
          "k-pop",
          "synth-pop",
          "forro",
          "country",
          "anime",
          "hip-hop",
          "songwriter",
          "french",
          "emo",
          "spanish",
          "british",
          "indie",
          "hard-rock",
          "folk",
          "techno",
          "electro",
          "chill",
          "rock-n-roll",
          "alternative"
         ],
         "type": "scatter",
         "x": [
          -1.474902827011128,
          -3.5201909529474342,
          -2.3897849950989007,
          -1.6545571240256194,
          0.37260941648541485,
          1.250264603476623,
          0.916254370417435,
          0.6611461467237958,
          1.896787423829475,
          3.0105667752229266,
          1.934394949797969,
          -1.7271846132736608,
          2.936681343204856,
          -4.277528955476105,
          3.231298383693499,
          -2.263860892747446,
          0.17702697517597343,
          -0.9591777881326793,
          -1.6977548087732608,
          -0.5630620814107385,
          -0.43971332061355306,
          0.5672723266054418,
          -0.4246803645702733,
          0.21783088383298763,
          -0.8371091554927805,
          3.1342064766437816,
          -0.9323936122177789,
          -1.4528374847249133,
          -0.6710725461484578,
          3.042344878679491,
          -1.2842753517628647,
          3.945738671864991,
          -1.7174935940332694,
          -0.8092559148933822,
          1.8900575951952596,
          -1.81812347499879,
          0.6820445020299166,
          -1.1333800145718171,
          3.4685418599509155,
          1.4534687414303105,
          0.21783088383298763,
          2.457637898445201,
          0.7785294267043599,
          0.6755470236138698,
          -1.1543850248179637,
          -1.3053211519576113,
          -2.7326953677156887,
          -1.0474555421865082,
          1.5250232714830378,
          0.2859106513468676,
          -0.2730020972702665,
          -0.9323936122177789,
          -1.235422810596774
         ],
         "y": [
          -0.2608518248676951,
          -0.18915668630060947,
          1.596535542078972,
          0.08103644074790237,
          -0.2925058742727342,
          -1.2474843750225448,
          -0.9633636573859651,
          -0.920626437646353,
          0.2582826700083522,
          -0.5177857079437916,
          0.17256115607123365,
          1.661272636963317,
          -0.5270382338950026,
          0.34354463359585663,
          0.38091490572171155,
          3.6152089178641207,
          0.4840989971632262,
          -4.29688773486551,
          1.612669222991609,
          -3.4120147853754412,
          0.6058645690586174,
          0.8733585831927241,
          0.5621185075243362,
          -0.7514905784206106,
          -0.10268302941783186,
          -0.47777673552766264,
          -2.593026322342567,
          2.0606130731722727,
          0.21396367221686777,
          -0.5345307082599478,
          0.32666914554255916,
          0.7829346407442332,
          2.6119177674626743,
          -1.9945682926374755,
          0.4679517706157842,
          -1.4520752621057518,
          -0.6811154908127836,
          -0.5525099084801988,
          0.5693976656134487,
          0.7235832286390298,
          -0.7514905784206106,
          2.08835034017112,
          0.8187273026231395,
          0.8557704231138574,
          -1.333613305214724,
          -0.19285535197557202,
          0.6802496760701306,
          -2.0366930581738503,
          3.1135822878793538,
          0.48117421952443695,
          -1.1513238621010033,
          -2.593026322342567,
          1.7841421274378986
         ]
        }
       ],
       "layout": {
        "height": 800,
        "plot_bgcolor": "rgba(0,0,0,0)",
        "showlegend": false,
        "template": {
         "data": {
          "bar": [
           {
            "error_x": {
             "color": "#2a3f5f"
            },
            "error_y": {
             "color": "#2a3f5f"
            },
            "marker": {
             "line": {
              "color": "#E5ECF6",
              "width": 0.5
             },
             "pattern": {
              "fillmode": "overlay",
              "size": 10,
              "solidity": 0.2
             }
            },
            "type": "bar"
           }
          ],
          "barpolar": [
           {
            "marker": {
             "line": {
              "color": "#E5ECF6",
              "width": 0.5
             },
             "pattern": {
              "fillmode": "overlay",
              "size": 10,
              "solidity": 0.2
             }
            },
            "type": "barpolar"
           }
          ],
          "carpet": [
           {
            "aaxis": {
             "endlinecolor": "#2a3f5f",
             "gridcolor": "white",
             "linecolor": "white",
             "minorgridcolor": "white",
             "startlinecolor": "#2a3f5f"
            },
            "baxis": {
             "endlinecolor": "#2a3f5f",
             "gridcolor": "white",
             "linecolor": "white",
             "minorgridcolor": "white",
             "startlinecolor": "#2a3f5f"
            },
            "type": "carpet"
           }
          ],
          "choropleth": [
           {
            "colorbar": {
             "outlinewidth": 0,
             "ticks": ""
            },
            "type": "choropleth"
           }
          ],
          "contour": [
           {
            "colorbar": {
             "outlinewidth": 0,
             "ticks": ""
            },
            "colorscale": [
             [
              0,
              "#0d0887"
             ],
             [
              0.1111111111111111,
              "#46039f"
             ],
             [
              0.2222222222222222,
              "#7201a8"
             ],
             [
              0.3333333333333333,
              "#9c179e"
             ],
             [
              0.4444444444444444,
              "#bd3786"
             ],
             [
              0.5555555555555556,
              "#d8576b"
             ],
             [
              0.6666666666666666,
              "#ed7953"
             ],
             [
              0.7777777777777778,
              "#fb9f3a"
             ],
             [
              0.8888888888888888,
              "#fdca26"
             ],
             [
              1,
              "#f0f921"
             ]
            ],
            "type": "contour"
           }
          ],
          "contourcarpet": [
           {
            "colorbar": {
             "outlinewidth": 0,
             "ticks": ""
            },
            "type": "contourcarpet"
           }
          ],
          "heatmap": [
           {
            "colorbar": {
             "outlinewidth": 0,
             "ticks": ""
            },
            "colorscale": [
             [
              0,
              "#0d0887"
             ],
             [
              0.1111111111111111,
              "#46039f"
             ],
             [
              0.2222222222222222,
              "#7201a8"
             ],
             [
              0.3333333333333333,
              "#9c179e"
             ],
             [
              0.4444444444444444,
              "#bd3786"
             ],
             [
              0.5555555555555556,
              "#d8576b"
             ],
             [
              0.6666666666666666,
              "#ed7953"
             ],
             [
              0.7777777777777778,
              "#fb9f3a"
             ],
             [
              0.8888888888888888,
              "#fdca26"
             ],
             [
              1,
              "#f0f921"
             ]
            ],
            "type": "heatmap"
           }
          ],
          "heatmapgl": [
           {
            "colorbar": {
             "outlinewidth": 0,
             "ticks": ""
            },
            "colorscale": [
             [
              0,
              "#0d0887"
             ],
             [
              0.1111111111111111,
              "#46039f"
             ],
             [
              0.2222222222222222,
              "#7201a8"
             ],
             [
              0.3333333333333333,
              "#9c179e"
             ],
             [
              0.4444444444444444,
              "#bd3786"
             ],
             [
              0.5555555555555556,
              "#d8576b"
             ],
             [
              0.6666666666666666,
              "#ed7953"
             ],
             [
              0.7777777777777778,
              "#fb9f3a"
             ],
             [
              0.8888888888888888,
              "#fdca26"
             ],
             [
              1,
              "#f0f921"
             ]
            ],
            "type": "heatmapgl"
           }
          ],
          "histogram": [
           {
            "marker": {
             "pattern": {
              "fillmode": "overlay",
              "size": 10,
              "solidity": 0.2
             }
            },
            "type": "histogram"
           }
          ],
          "histogram2d": [
           {
            "colorbar": {
             "outlinewidth": 0,
             "ticks": ""
            },
            "colorscale": [
             [
              0,
              "#0d0887"
             ],
             [
              0.1111111111111111,
              "#46039f"
             ],
             [
              0.2222222222222222,
              "#7201a8"
             ],
             [
              0.3333333333333333,
              "#9c179e"
             ],
             [
              0.4444444444444444,
              "#bd3786"
             ],
             [
              0.5555555555555556,
              "#d8576b"
             ],
             [
              0.6666666666666666,
              "#ed7953"
             ],
             [
              0.7777777777777778,
              "#fb9f3a"
             ],
             [
              0.8888888888888888,
              "#fdca26"
             ],
             [
              1,
              "#f0f921"
             ]
            ],
            "type": "histogram2d"
           }
          ],
          "histogram2dcontour": [
           {
            "colorbar": {
             "outlinewidth": 0,
             "ticks": ""
            },
            "colorscale": [
             [
              0,
              "#0d0887"
             ],
             [
              0.1111111111111111,
              "#46039f"
             ],
             [
              0.2222222222222222,
              "#7201a8"
             ],
             [
              0.3333333333333333,
              "#9c179e"
             ],
             [
              0.4444444444444444,
              "#bd3786"
             ],
             [
              0.5555555555555556,
              "#d8576b"
             ],
             [
              0.6666666666666666,
              "#ed7953"
             ],
             [
              0.7777777777777778,
              "#fb9f3a"
             ],
             [
              0.8888888888888888,
              "#fdca26"
             ],
             [
              1,
              "#f0f921"
             ]
            ],
            "type": "histogram2dcontour"
           }
          ],
          "mesh3d": [
           {
            "colorbar": {
             "outlinewidth": 0,
             "ticks": ""
            },
            "type": "mesh3d"
           }
          ],
          "parcoords": [
           {
            "line": {
             "colorbar": {
              "outlinewidth": 0,
              "ticks": ""
             }
            },
            "type": "parcoords"
           }
          ],
          "pie": [
           {
            "automargin": true,
            "type": "pie"
           }
          ],
          "scatter": [
           {
            "fillpattern": {
             "fillmode": "overlay",
             "size": 10,
             "solidity": 0.2
            },
            "type": "scatter"
           }
          ],
          "scatter3d": [
           {
            "line": {
             "colorbar": {
              "outlinewidth": 0,
              "ticks": ""
             }
            },
            "marker": {
             "colorbar": {
              "outlinewidth": 0,
              "ticks": ""
             }
            },
            "type": "scatter3d"
           }
          ],
          "scattercarpet": [
           {
            "marker": {
             "colorbar": {
              "outlinewidth": 0,
              "ticks": ""
             }
            },
            "type": "scattercarpet"
           }
          ],
          "scattergeo": [
           {
            "marker": {
             "colorbar": {
              "outlinewidth": 0,
              "ticks": ""
             }
            },
            "type": "scattergeo"
           }
          ],
          "scattergl": [
           {
            "marker": {
             "colorbar": {
              "outlinewidth": 0,
              "ticks": ""
             }
            },
            "type": "scattergl"
           }
          ],
          "scattermapbox": [
           {
            "marker": {
             "colorbar": {
              "outlinewidth": 0,
              "ticks": ""
             }
            },
            "type": "scattermapbox"
           }
          ],
          "scatterpolar": [
           {
            "marker": {
             "colorbar": {
              "outlinewidth": 0,
              "ticks": ""
             }
            },
            "type": "scatterpolar"
           }
          ],
          "scatterpolargl": [
           {
            "marker": {
             "colorbar": {
              "outlinewidth": 0,
              "ticks": ""
             }
            },
            "type": "scatterpolargl"
           }
          ],
          "scatterternary": [
           {
            "marker": {
             "colorbar": {
              "outlinewidth": 0,
              "ticks": ""
             }
            },
            "type": "scatterternary"
           }
          ],
          "surface": [
           {
            "colorbar": {
             "outlinewidth": 0,
             "ticks": ""
            },
            "colorscale": [
             [
              0,
              "#0d0887"
             ],
             [
              0.1111111111111111,
              "#46039f"
             ],
             [
              0.2222222222222222,
              "#7201a8"
             ],
             [
              0.3333333333333333,
              "#9c179e"
             ],
             [
              0.4444444444444444,
              "#bd3786"
             ],
             [
              0.5555555555555556,
              "#d8576b"
             ],
             [
              0.6666666666666666,
              "#ed7953"
             ],
             [
              0.7777777777777778,
              "#fb9f3a"
             ],
             [
              0.8888888888888888,
              "#fdca26"
             ],
             [
              1,
              "#f0f921"
             ]
            ],
            "type": "surface"
           }
          ],
          "table": [
           {
            "cells": {
             "fill": {
              "color": "#EBF0F8"
             },
             "line": {
              "color": "white"
             }
            },
            "header": {
             "fill": {
              "color": "#C8D4E3"
             },
             "line": {
              "color": "white"
             }
            },
            "type": "table"
           }
          ]
         },
         "layout": {
          "annotationdefaults": {
           "arrowcolor": "#2a3f5f",
           "arrowhead": 0,
           "arrowwidth": 1
          },
          "autotypenumbers": "strict",
          "coloraxis": {
           "colorbar": {
            "outlinewidth": 0,
            "ticks": ""
           }
          },
          "colorscale": {
           "diverging": [
            [
             0,
             "#8e0152"
            ],
            [
             0.1,
             "#c51b7d"
            ],
            [
             0.2,
             "#de77ae"
            ],
            [
             0.3,
             "#f1b6da"
            ],
            [
             0.4,
             "#fde0ef"
            ],
            [
             0.5,
             "#f7f7f7"
            ],
            [
             0.6,
             "#e6f5d0"
            ],
            [
             0.7,
             "#b8e186"
            ],
            [
             0.8,
             "#7fbc41"
            ],
            [
             0.9,
             "#4d9221"
            ],
            [
             1,
             "#276419"
            ]
           ],
           "sequential": [
            [
             0,
             "#0d0887"
            ],
            [
             0.1111111111111111,
             "#46039f"
            ],
            [
             0.2222222222222222,
             "#7201a8"
            ],
            [
             0.3333333333333333,
             "#9c179e"
            ],
            [
             0.4444444444444444,
             "#bd3786"
            ],
            [
             0.5555555555555556,
             "#d8576b"
            ],
            [
             0.6666666666666666,
             "#ed7953"
            ],
            [
             0.7777777777777778,
             "#fb9f3a"
            ],
            [
             0.8888888888888888,
             "#fdca26"
            ],
            [
             1,
             "#f0f921"
            ]
           ],
           "sequentialminus": [
            [
             0,
             "#0d0887"
            ],
            [
             0.1111111111111111,
             "#46039f"
            ],
            [
             0.2222222222222222,
             "#7201a8"
            ],
            [
             0.3333333333333333,
             "#9c179e"
            ],
            [
             0.4444444444444444,
             "#bd3786"
            ],
            [
             0.5555555555555556,
             "#d8576b"
            ],
            [
             0.6666666666666666,
             "#ed7953"
            ],
            [
             0.7777777777777778,
             "#fb9f3a"
            ],
            [
             0.8888888888888888,
             "#fdca26"
            ],
            [
             1,
             "#f0f921"
            ]
           ]
          },
          "colorway": [
           "#636efa",
           "#EF553B",
           "#00cc96",
           "#ab63fa",
           "#FFA15A",
           "#19d3f3",
           "#FF6692",
           "#B6E880",
           "#FF97FF",
           "#FECB52"
          ],
          "font": {
           "color": "#2a3f5f"
          },
          "geo": {
           "bgcolor": "white",
           "lakecolor": "white",
           "landcolor": "#E5ECF6",
           "showlakes": true,
           "showland": true,
           "subunitcolor": "white"
          },
          "hoverlabel": {
           "align": "left"
          },
          "hovermode": "closest",
          "mapbox": {
           "style": "light"
          },
          "paper_bgcolor": "white",
          "plot_bgcolor": "#E5ECF6",
          "polar": {
           "angularaxis": {
            "gridcolor": "white",
            "linecolor": "white",
            "ticks": ""
           },
           "bgcolor": "#E5ECF6",
           "radialaxis": {
            "gridcolor": "white",
            "linecolor": "white",
            "ticks": ""
           }
          },
          "scene": {
           "xaxis": {
            "backgroundcolor": "#E5ECF6",
            "gridcolor": "white",
            "gridwidth": 2,
            "linecolor": "white",
            "showbackground": true,
            "ticks": "",
            "zerolinecolor": "white"
           },
           "yaxis": {
            "backgroundcolor": "#E5ECF6",
            "gridcolor": "white",
            "gridwidth": 2,
            "linecolor": "white",
            "showbackground": true,
            "ticks": "",
            "zerolinecolor": "white"
           },
           "zaxis": {
            "backgroundcolor": "#E5ECF6",
            "gridcolor": "white",
            "gridwidth": 2,
            "linecolor": "white",
            "showbackground": true,
            "ticks": "",
            "zerolinecolor": "white"
           }
          },
          "shapedefaults": {
           "line": {
            "color": "#2a3f5f"
           }
          },
          "ternary": {
           "aaxis": {
            "gridcolor": "white",
            "linecolor": "white",
            "ticks": ""
           },
           "baxis": {
            "gridcolor": "white",
            "linecolor": "white",
            "ticks": ""
           },
           "bgcolor": "#E5ECF6",
           "caxis": {
            "gridcolor": "white",
            "linecolor": "white",
            "ticks": ""
           }
          },
          "title": {
           "x": 0.05
          },
          "xaxis": {
           "automargin": true,
           "gridcolor": "white",
           "linecolor": "white",
           "ticks": "",
           "title": {
            "standoff": 15
           },
           "zerolinecolor": "white",
           "zerolinewidth": 2
          },
          "yaxis": {
           "automargin": true,
           "gridcolor": "white",
           "linecolor": "white",
           "ticks": "",
           "title": {
            "standoff": 15
           },
           "zerolinecolor": "white",
           "zerolinewidth": 2
          }
         }
        },
        "title": {
         "text": "K-means clustering on Spotify embeddings (PCA-reduced)"
        },
        "width": 800,
        "xaxis": {
         "maxallowed": 4.945738671864991,
         "minallowed": -5.277528955476105,
         "visible": false
        },
        "yaxis": {
         "maxallowed": 4.615208917864121,
         "minallowed": -5.29688773486551,
         "visible": false
        }
       }
      }
     },
     "metadata": {},
     "output_type": "display_data"
    }
   ],
   "source": [
    "data = {\n",
    "    'x': genre_reduced_embeddings[:, 0],\n",
    "    'y': genre_reduced_embeddings[:, 1],\n",
    "    'name': [m['name'] for m in genre_metadata],\n",
    "    'cluster': genre_cluster_labels,\n",
    "    'id': [m['id'] for m in genre_metadata]\n",
    "}\n",
    "\n",
    "# Create a DataFrame for easier manipulation\n",
    "df = pd.DataFrame(data)\n",
    "\n",
    "vor = Voronoi(kmeans.cluster_centers_)\n",
    "regions, vertices = voronoi_finite_polygons_2d(vor)\n",
    "\n",
    "# Generate a unique color for each region\n",
    "def generate_color(name, factor=0.25):\n",
    "    \"\"\"Generate a pastel color for the given name.\"\"\"\n",
    "    # Generate a color based on the hash of the name\n",
    "    hash_object = hashlib.md5(name.encode())\n",
    "    hex_dig = hash_object.hexdigest()\n",
    "    base_color = [int(hex_dig[i:i+2], 16) for i in (0, 2, 4)]\n",
    "\n",
    "    # Mix the color with white\n",
    "    pastel_color = [(1 - factor) * c + factor * 255 for c in base_color]\n",
    "    pastel_color_hex = ''.join(f'{int(c):02x}' for c in pastel_color)\n",
    "\n",
    "    return '#' + pastel_color_hex\n",
    "\n",
    "# Create Plotly figure\n",
    "fig = go.Figure()\n",
    "\n",
    "# Add Voronoi regions, each with a different color\n",
    "for region, center in zip(regions, kmeans.cluster_centers_):\n",
    "    polygon = vertices[region]\n",
    "    color = generate_color(str(center))\n",
    "    fig.add_trace(go.Scatter(\n",
    "        x=polygon[:, 0],\n",
    "        y=polygon[:, 1],\n",
    "        fill=\"toself\",\n",
    "        fillcolor=color,\n",
    "        mode='lines',\n",
    "        line=dict(color='rgba(0,0,0,0)')  # No border color\n",
    "    ))\n",
    "\n",
    "# Add centroids\n",
    "fig.add_trace(go.Scatter(\n",
    "    x=kmeans.cluster_centers_[:, 0],\n",
    "    y=kmeans.cluster_centers_[:, 1],\n",
    "    mode='markers',\n",
    "    marker=dict(size=10, color='white', symbol='x'),\n",
    "    name='Centroids'\n",
    "))\n",
    "\n",
    "# Add scatter plot of points\n",
    "fig.add_trace(go.Scatter(\n",
    "    x=df['x'],\n",
    "    y=df['y'],\n",
    "    mode='markers',\n",
    "    marker=dict(color='black', size=5),\n",
    "    text=df.apply(lambda row: f\"{row['name']}\", axis=1),\n",
    "    hoverinfo='text'\n",
    "))\n",
    "\n",
    "# Update layout\n",
    "fig.update_layout(\n",
    "    title=\"K-means clustering on Spotify embeddings (PCA-reduced)\",\n",
    "    xaxis=dict(visible=False),\n",
    "    yaxis=dict(visible=False),\n",
    "    showlegend=False,\n",
    "    width=800,\n",
    "    height=800,\n",
    "    plot_bgcolor='rgba(0,0,0,0)'\n",
    ")\n",
    "\n",
    "fig.update_xaxes(minallowed=df['x'].min()-1, maxallowed=df['x'].max()+1)\n",
    "fig.update_yaxes(minallowed=df['y'].min()-1, maxallowed=df['y'].max()+1)\n",
    "\n",
    "\n",
    "# Show the plot\n",
    "fig.show()"
   ]
  }
 ],
 "metadata": {
  "kernelspec": {
   "display_name": "Python 3",
   "language": "python",
   "name": "python3"
  },
  "language_info": {
   "codemirror_mode": {
    "name": "ipython",
    "version": 3
   },
   "file_extension": ".py",
   "mimetype": "text/x-python",
   "name": "python",
   "nbconvert_exporter": "python",
   "pygments_lexer": "ipython3",
   "version": "3.11.9"
  }
 },
 "nbformat": 4,
 "nbformat_minor": 2
}
