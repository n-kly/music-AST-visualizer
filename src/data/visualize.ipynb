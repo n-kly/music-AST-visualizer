{
 "cells": [
  {
   "cell_type": "code",
   "execution_count": 16,
   "metadata": {},
   "outputs": [],
   "source": [
    "import os\n",
    "from sklearn.cluster import KMeans\n",
    "from sklearn.decomposition import PCA\n",
    "from pinecone import Pinecone\n",
    "from dotenv import load_dotenv\n",
    "import pandas as pd\n",
    "import numpy as np\n",
    "import plotly.graph_objects as go\n",
    "from scipy.spatial import Voronoi\n",
    "import hashlib"
   ]
  },
  {
   "cell_type": "code",
   "execution_count": 17,
   "metadata": {},
   "outputs": [],
   "source": [
    "# Load environment variables\n",
    "load_dotenv()\n",
    "\n",
    "# Initialize Pinecone\n",
    "pc = Pinecone(\n",
    "    api_key=os.getenv('PINECONE_API_KEY'),\n",
    "    environment=os.getenv('PINECONE_ENVIRONMENT')\n",
    ")\n"
   ]
  },
  {
   "cell_type": "code",
   "execution_count": 28,
   "metadata": {},
   "outputs": [
    {
     "name": "stdout",
     "output_type": "stream",
     "text": [
      "[{'album': 'Si No Quieres No', 'artist': 'Luis R Conriquez', 'cover_image_url': 'https://i.scdn.co/image/ab67616d0000b2735c7365ca8cfaf7d80136c656', 'genre': 'sad', 'name': 'Si No Quieres No', 'preview_url': 'https://p.scdn.co/mp3-preview/d7d61eec7c0ac31c5019a40c1e6169f2c0776386?cid=11419dac9f88424c93dd910d7d82a6bc', 'id': '3rdAz1fbUfZxYgaCviYhRo'}, {'album': 'Oh, Pretty Woman', 'artist': 'Roy Orbison', 'cover_image_url': 'https://i.scdn.co/image/ab67616d0000b2731b3c09cb3ec9f618664f2622', 'genre': 'folk', 'name': 'Oh, Pretty Woman', 'preview_url': 'https://p.scdn.co/mp3-preview/246e9dc1fb2676bdacceaa564e46967ed000afef?cid=11419dac9f88424c93dd910d7d82a6bc', 'id': '46YjJXVXWHlQ21odKktg5e'}, {'album': 'Blonde', 'artist': 'Frank Ocean', 'cover_image_url': 'https://i.scdn.co/image/ab67616d0000b273c5649add07ed3720be9d5526', 'genre': 'hip-hop', 'name': 'Pink + White', 'preview_url': 'https://p.scdn.co/mp3-preview/0e3ca894e19c37cbbbd511d9eb682d8bee030126?cid=11419dac9f88424c93dd910d7d82a6bc', 'id': '1pymWRCuZfCd0zdiBJo0Hj'}, {'album': 'Un Verano Sin Ti', 'artist': 'Bad Bunny', 'cover_image_url': 'https://i.scdn.co/image/ab67616d0000b27349d694203245f241a1bcaa72', 'genre': 'latin', 'name': 'Me Porto Bonito', 'preview_url': 'https://p.scdn.co/mp3-preview/5c80aedfe75d2bc15aa0e803993c43395d8054fe?cid=11419dac9f88424c93dd910d7d82a6bc', 'id': '6VsqdsaY4oV06NODea0L0J'}, {'album': \"Let's Skip to the Wedding\", 'artist': 'Eyedress', 'cover_image_url': 'https://i.scdn.co/image/ab67616d0000b2732a960aa5c84973aa3622f417', 'genre': 'indie-pop', 'name': 'Romantic Lover', 'preview_url': 'https://p.scdn.co/mp3-preview/93cd3a9d81231e445589e271932b9afc46d892db?cid=11419dac9f88424c93dd910d7d82a6bc', 'id': '4bw8mcDUSRWfQo63ZTYRnU'}, {'album': 'Que Onda', 'artist': 'Calle 24', 'cover_image_url': 'https://i.scdn.co/image/ab67616d0000b273c8fd4190e32eed2dfcd00f66', 'genre': 'sad', 'name': 'Que Onda', 'preview_url': 'https://p.scdn.co/mp3-preview/84bedddb9d7ae9cc58aad446d435c9eea28bdabb?cid=11419dac9f88424c93dd910d7d82a6bc', 'id': '1vvNmPOiUuyCbgWmtc6yfm'}, {'album': 'Bigger Than Both Of Us', 'artist': 'Daryl Hall & John Oates', 'cover_image_url': 'https://i.scdn.co/image/ab67616d0000b2733ebc5b9d8942069d3b920550', 'genre': 'rock', 'name': 'Rich Girl', 'preview_url': 'https://p.scdn.co/mp3-preview/246e1cdfbc760791fa34b2ac697259b6c3598009?cid=11419dac9f88424c93dd910d7d82a6bc', 'id': '1C84d9abZVKWHT2YYpoean'}, {'album': \"I'm Good (Blue)\", 'artist': 'David Guetta', 'cover_image_url': 'https://i.scdn.co/image/ab67616d0000b273933c036cd61cd40d3f17a9c4', 'genre': 'dance', 'name': \"I'm Good (Blue)\", 'preview_url': 'https://p.scdn.co/mp3-preview/c1de960c1a98f7ab652331e5223c50baba75c460?cid=11419dac9f88424c93dd910d7d82a6bc', 'id': '3FqUPvubYeRCMsdJ02QyZR'}, {'album': 'APAGA EL CEL', 'artist': 'FloyyMenor', 'cover_image_url': 'https://i.scdn.co/image/ab67616d0000b273c44bb461e0efd6a5b88e2dec', 'genre': 'reggae', 'name': 'APAGA EL CEL', 'preview_url': 'https://p.scdn.co/mp3-preview/9b4df5d6e095927a0736cfc456885746165a00c0?cid=11419dac9f88424c93dd910d7d82a6bc', 'id': '0qRR9d89hIS0MHRkQ0ejxX'}, {'album': 'PLAYA SATURNO', 'artist': 'Rauw Alejandro', 'cover_image_url': 'https://i.scdn.co/image/ab67616d0000b273f79b1ab5cd74db6a2d7c1fda', 'genre': 'latin', 'name': 'DILUVIO', 'preview_url': 'https://p.scdn.co/mp3-preview/740dfd7578fe9e226de6757a878cca37f4954ff0?cid=11419dac9f88424c93dd910d7d82a6bc', 'id': '2aYZaN5SmkRDLsrrV8GkBQ'}, {'album': '$AD BOYZ 4 LIFE II', 'artist': 'Junior H', 'cover_image_url': 'https://i.scdn.co/image/ab67616d0000b273f3ba6742a35f111aaea1ca2f', 'genre': 'sad', 'name': 'Y LLORO', 'preview_url': 'https://p.scdn.co/mp3-preview/f82787d084854523e602d1239f44f04ced392dc5?cid=11419dac9f88424c93dd910d7d82a6bc', 'id': '0R6NfOiLzLj4O5VbYSJAjf'}, {'album': 'Rage Against The Machine - XX (20th Anniversary Special Edition)', 'artist': 'Rage Against The Machine', 'cover_image_url': 'https://i.scdn.co/image/ab67616d0000b27354ab617bc2d4974ab6ffbece', 'genre': 'funk', 'name': 'Killing In The Name', 'preview_url': 'https://p.scdn.co/mp3-preview/998d3604b68754c11bc0a9af64291ac1f91fb0d8?cid=11419dac9f88424c93dd910d7d82a6bc', 'id': '6uIIdjYTxxpWOyWuVXrKQO'}, {'album': 'La Bebe (Remix)', 'artist': 'Yng Lvcas', 'cover_image_url': 'https://i.scdn.co/image/ab67616d0000b273a04be3ad7c8c67f4109111a9', 'genre': 'reggae', 'name': 'La Bebe - Remix', 'preview_url': 'https://p.scdn.co/mp3-preview/57c5d5266219b32d455ed22417155bbabde7170f?cid=11419dac9f88424c93dd910d7d82a6bc', 'id': '6RcAHyC5sAUIbPTkhOQwd8'}, {'album': 'La Víctima', 'artist': 'Xavi', 'cover_image_url': 'https://i.scdn.co/image/ab67616d0000b2730e8dc9720dd03d86627fa54b', 'genre': 'sad', 'name': 'La Víctima', 'preview_url': 'https://p.scdn.co/mp3-preview/9e30f31b8bbd2d11c42bf193403103ddabecb16f?cid=11419dac9f88424c93dd910d7d82a6bc', 'id': '0dEAiKNbHt4mrjjoiL0loc'}, {'album': 'Pat Garrett & Billy The Kid (Soundtrack From The Motion Picture)', 'artist': 'Bob Dylan', 'cover_image_url': 'https://i.scdn.co/image/ab67616d0000b2736c86683d20c72e3874c11c6d', 'genre': 'folk', 'name': \"Knockin' On Heaven's Door\", 'preview_url': 'https://p.scdn.co/mp3-preview/b1fb2e0d90764724242501e5a0c3c2393698d499?cid=11419dac9f88424c93dd910d7d82a6bc', 'id': '5XVdHRf4CAJ2Jm0uMIy5qY'}, {'album': \"Pa las Baby's Y Belikeada\", 'artist': 'Fuerza Regida', 'cover_image_url': 'https://i.scdn.co/image/ab67616d0000b273ad57982065339f7dc2058efe', 'genre': 'sad', 'name': 'CRAZYZ', 'preview_url': 'https://p.scdn.co/mp3-preview/42551b39c7acd318fcb450bf6189cc1b803f16b4?cid=11419dac9f88424c93dd910d7d82a6bc', 'id': '6CvTEtGagmzQvkUzzyKR9k'}, {'album': 'Blonde', 'artist': 'Frank Ocean', 'cover_image_url': 'https://i.scdn.co/image/ab67616d0000b273c5649add07ed3720be9d5526', 'genre': 'hip-hop', 'name': 'Ivy', 'preview_url': 'https://p.scdn.co/mp3-preview/3eb4d77b749c0f49037e6aee78536eb35b5c88c7?cid=11419dac9f88424c93dd910d7d82a6bc', 'id': '7ABLbnD53cQK00mhcaOUVG'}, {'album': 'AM', 'artist': 'Arctic Monkeys', 'cover_image_url': 'https://i.scdn.co/image/ab67616d0000b2734ae1c4c5c45aabe565499163', 'genre': 'garage', 'name': 'Do I Wanna Know?', 'preview_url': 'https://p.scdn.co/mp3-preview/006bc465fe3d1c04dae93a050eca9d402a7322b8?cid=11419dac9f88424c93dd910d7d82a6bc', 'id': '4uUG5RXrOk84mYEfFvj3cK'}, {'album': 'Whatever She Wants', 'artist': 'Bryson Tiller', 'cover_image_url': 'https://i.scdn.co/image/ab67616d0000b2731aba7b448d35bd576ceac182', 'genre': 'hip-hop', 'name': 'Whatever She Wants', 'preview_url': 'https://p.scdn.co/mp3-preview/72a170a8e9ed64cc4e6d810c5f42b2a62fd849a5?cid=11419dac9f88424c93dd910d7d82a6bc', 'id': '6I9VzXrHxO9rA9A5euc8Ak'}, {'album': 'Corazón de Piedra', 'artist': 'Xavi', 'cover_image_url': 'https://i.scdn.co/image/ab67616d0000b273572e681dcdb302d7625b08c7', 'genre': 'sad', 'name': 'Corazón de Piedra', 'preview_url': 'https://p.scdn.co/mp3-preview/8aa2222f713ff238c57e720eeadfe697d0b2df97?cid=11419dac9f88424c93dd910d7d82a6bc', 'id': '2AT8iROs4FQueDv2c8q2KE'}, {'album': 'LVEU: VIVE LA TUYA...NO LA MIA', 'artist': 'Myke Towers', 'cover_image_url': 'https://i.scdn.co/image/ab67616d0000b273c75c054b6b209b0b91d818d8', 'genre': 'latin', 'name': 'LA FALDA', 'preview_url': 'https://p.scdn.co/mp3-preview/e198a3f9d177f1981f2952cfbda81560560e6a68?cid=11419dac9f88424c93dd910d7d82a6bc', 'id': '0UFDKFqW2oGspYeYqo9wjA'}, {'album': 'Show Me How', 'artist': 'Men I Trust', 'cover_image_url': 'https://i.scdn.co/image/ab67616d0000b273f8f2bc4006346cb97bb8b74f', 'genre': 'indie-pop', 'name': 'Show Me How', 'preview_url': 'https://p.scdn.co/mp3-preview/8d727eaa09c35915b6b3c5a990bdce5cd14f5efc?cid=11419dac9f88424c93dd910d7d82a6bc', 'id': '3YuaBvuZqcwN3CEAyyoaei'}, {'album': \"Pa las Baby's Y Belikeada\", 'artist': 'Fuerza Regida', 'cover_image_url': 'https://i.scdn.co/image/ab67616d0000b273ad57982065339f7dc2058efe', 'genre': 'sad', 'name': 'HARLEY QUINN', 'preview_url': 'https://p.scdn.co/mp3-preview/2845f30873601167f8970f2d64f53cda26441b7a?cid=11419dac9f88424c93dd910d7d82a6bc', 'id': '6Qyc6fS4DsZjB2mRW9DsQs'}, {'album': 'Stadium Arcadium', 'artist': 'Red Hot Chili Peppers', 'cover_image_url': 'https://i.scdn.co/image/ab67616d0000b27309fd83d32aee93dceba78517', 'genre': 'funk', 'name': 'Snow (Hey Oh)', 'preview_url': 'https://p.scdn.co/mp3-preview/d1e419a7f2aa9ba761be88802dbd3560b8f99776?cid=11419dac9f88424c93dd910d7d82a6bc', 'id': '5RKQ5NdjSh2QzD4MaunT91'}, {'album': 'AM', 'artist': 'Arctic Monkeys', 'cover_image_url': 'https://i.scdn.co/image/ab67616d0000b2734ae1c4c5c45aabe565499163', 'genre': 'garage', 'name': 'R U Mine?', 'preview_url': 'https://p.scdn.co/mp3-preview/d41c9b18f0787cc9b2ccea10740d92dd7e7f639a?cid=11419dac9f88424c93dd910d7d82a6bc', 'id': '5FVd6KXrgO9B3JPmC8OPst'}, {'album': 'One of Wun', 'artist': 'Gunna', 'cover_image_url': 'https://i.scdn.co/image/ab67616d0000b273c67636f3021f5869095c0fc5', 'genre': 'hip-hop', 'name': 'one of wun', 'preview_url': 'https://p.scdn.co/mp3-preview/05b1cf76543e3ca8f5ce02a042e80f8e54f43f64?cid=11419dac9f88424c93dd910d7d82a6bc', 'id': '3xKsf9qdS1CyvXSMEid6g8'}, {'album': 'LA VIDA ES UNA', 'artist': 'Myke Towers', 'cover_image_url': 'https://i.scdn.co/image/ab67616d0000b2730656d5ce813ca3cc4b677e05', 'genre': 'latin', 'name': 'LALA', 'preview_url': 'https://p.scdn.co/mp3-preview/42772b16b4e575d1b15b0ec7f94e335539390d2d?cid=11419dac9f88424c93dd910d7d82a6bc', 'id': '4rXLjWdF2ZZpXCVTfWcshS'}, {'album': \"Tell Me It's Real (Expanded Edition)\", 'artist': 'Seafret', 'cover_image_url': 'https://i.scdn.co/image/ab67616d0000b2738c33272a7c77042f5eb39d75', 'genre': 'folk', 'name': 'Atlantis', 'preview_url': 'https://p.scdn.co/mp3-preview/2097364ff6c9f41d658ea1b00a5e2153dc61144b?cid=11419dac9f88424c93dd910d7d82a6bc', 'id': '28drn6tQo95MRvO0jQEo5C'}, {'album': 'GIRLS', 'artist': 'The Kid LAROI', 'cover_image_url': 'https://i.scdn.co/image/ab67616d0000b273c8af7237bb25ad59488944c1', 'genre': 'hip-hop', 'name': 'GIRLS', 'preview_url': 'https://p.scdn.co/mp3-preview/befb7e95d881cfc53af67648ce47cba85e9cfd10?cid=11419dac9f88424c93dd910d7d82a6bc', 'id': '52eIcoLUM25zbQupAZYoFh'}, {'album': \"Don't Kill the Magic\", 'artist': 'MAGIC!', 'cover_image_url': 'https://i.scdn.co/image/ab67616d0000b273604f8ac39f15d287e251f193', 'genre': 'reggae', 'name': 'Rude', 'preview_url': 'https://p.scdn.co/mp3-preview/7cdc54190cf06e5269d8406c5a7bba71a7e04cf1?cid=11419dac9f88424c93dd910d7d82a6bc', 'id': '4Na2HfNSr58chvfX69fy36'}, {'album': 'Santa', 'artist': 'Rvssian', 'cover_image_url': 'https://i.scdn.co/image/ab67616d0000b273f02899736a6ff8dd538ae70b', 'genre': 'latin', 'name': 'Santa', 'preview_url': 'https://p.scdn.co/mp3-preview/0f6ef71a778db3848bb186092bccd8f0290c10a0?cid=11419dac9f88424c93dd910d7d82a6bc', 'id': '7z3PblAN3dH1JMewiRydkZ'}, {'album': 'Don Juan', 'artist': 'Maluma', 'cover_image_url': 'https://i.scdn.co/image/ab67616d0000b273d688b951a19f48941682e026', 'genre': 'latino', 'name': 'Según Quién', 'preview_url': 'https://p.scdn.co/mp3-preview/b726d4008d57b82d7c72b2585c89677405d0819a?cid=11419dac9f88424c93dd910d7d82a6bc', 'id': '2aPTvyE09vUCRwVvj0I8WK'}, {'album': 'ÉXODO', 'artist': 'Peso Pluma', 'cover_image_url': 'https://i.scdn.co/image/ab67616d0000b2732690127e1d6cd0aa35cc353b', 'genre': 'sad', 'name': 'HOLLYWOOD', 'preview_url': 'https://p.scdn.co/mp3-preview/705963b281ed4bb188b3034da800c2d3df05441c?cid=11419dac9f88424c93dd910d7d82a6bc', 'id': '57wp7VFnV8X0pSVnYArGeJ'}, {'album': 'Good Looking', 'artist': 'Suki Waterhouse', 'cover_image_url': 'https://i.scdn.co/image/ab67616d0000b27343bff43a592efe047d2ab9ff', 'genre': 'indie-pop', 'name': 'Good Looking', 'preview_url': 'https://p.scdn.co/mp3-preview/9124e769b391a846bf4f3d7d41da960d4457ba7a?cid=11419dac9f88424c93dd910d7d82a6bc', 'id': '3pXF1nA74528Edde4of9CC'}, {'album': 'Fortaleza, Vol.2 (Ao Vivo)', 'artist': 'Murilo Huff', 'cover_image_url': 'https://i.scdn.co/image/ab67616d0000b273e16b9a0cfbb3d7259ed01b27', 'genre': 'sertanejo', 'name': 'Dedo do Meio - Ao Vivo', 'preview_url': 'https://p.scdn.co/mp3-preview/86034c509ae86293ee5f9ca62e2ebe2926fb9968?cid=11419dac9f88424c93dd910d7d82a6bc', 'id': '1NcqLEg2r2LXqMVbam2BJD'}, {'album': 'Lovin On Me', 'artist': 'Jack Harlow', 'cover_image_url': 'https://i.scdn.co/image/ab67616d0000b273fcf4adae77baba5d0169e8e8', 'genre': 'hip-hop', 'name': 'Lovin On Me', 'preview_url': 'https://p.scdn.co/mp3-preview/eeeb6151d0049367b3ad3db0389e9e3b116c0774?cid=11419dac9f88424c93dd910d7d82a6bc', 'id': '2fFTn0f94EopgZyfSGQuyK'}, {'album': 'Californication (Deluxe Edition)', 'artist': 'Red Hot Chili Peppers', 'cover_image_url': 'https://i.scdn.co/image/ab67616d0000b27394d08ab63e57b0cae74e8595', 'genre': 'funk', 'name': 'Otherside', 'preview_url': 'https://p.scdn.co/mp3-preview/90076510970ced8308b85cd65776f75b99d97e7f?cid=11419dac9f88424c93dd910d7d82a6bc', 'id': '1Fid2jjqsHViMX6xNH70hE'}, {'album': \"WE DON'T TRUST YOU\", 'artist': 'Future', 'cover_image_url': 'https://i.scdn.co/image/ab67616d0000b273a46b07c291e6dfdee13b3ee8', 'genre': 'hip-hop', 'name': 'Type Shit', 'preview_url': 'https://p.scdn.co/mp3-preview/4743d8302c54f95d6f79858b7c67764b1d45e9a3?cid=11419dac9f88424c93dd910d7d82a6bc', 'id': '5ZduaRci3iNUiDfJbBfAaf'}, {'album': 'VICE VERSA', 'artist': 'Rauw Alejandro', 'cover_image_url': 'https://i.scdn.co/image/ab67616d0000b273d9525f27b0a9e25b1fa21230', 'genre': 'latin', 'name': 'Cúrame', 'preview_url': 'https://p.scdn.co/mp3-preview/3649d51fb25b7e18974e53a00cfa498622daed01?cid=11419dac9f88424c93dd910d7d82a6bc', 'id': '6HSXNV0b4M4cLJ7ljgVVeh'}, {'album': 'SPIDER', 'artist': 'GIMS', 'cover_image_url': 'https://i.scdn.co/image/ab67616d0000b27359dc8da873a4aa6c2d6888ff', 'genre': 'french', 'name': 'SPIDER', 'preview_url': 'https://p.scdn.co/mp3-preview/d695920fe6419661e5b881ec01331d0dc2f3010a?cid=11419dac9f88424c93dd910d7d82a6bc', 'id': '0bRXwKfigvpKZUurwqAlEh'}, {'album': 'Give It To Me (Full Vocal Mix)', 'artist': 'Matt Sassari', 'cover_image_url': 'https://i.scdn.co/image/ab67616d0000b2736a1e9d7201b74142e2d47b69', 'genre': 'french', 'name': 'Give It To Me - Full Vocal Mix', 'preview_url': 'https://p.scdn.co/mp3-preview/50081928cfabde0d63a4d78f893542711259652d?cid=11419dac9f88424c93dd910d7d82a6bc', 'id': '48i055G1OT5KxGGftwFxWy'}, {'album': 'Colmillo De Leche', 'artist': 'Carin Leon', 'cover_image_url': 'https://i.scdn.co/image/ab67616d0000b273daf12ebec7ae15f8322e1e5e', 'genre': 'sad', 'name': 'Primera Cita', 'preview_url': 'https://p.scdn.co/mp3-preview/e6ef5f00a6f3d99326cdeecd71289ff7fe06cbd6?cid=11419dac9f88424c93dd910d7d82a6bc', 'id': '1DIXPcTDzTj8ZMHt3PDt8p'}, {'album': 'AM', 'artist': 'Arctic Monkeys', 'cover_image_url': 'https://i.scdn.co/image/ab67616d0000b2734ae1c4c5c45aabe565499163', 'genre': 'garage', 'name': \"Why'd You Only Call Me When You're High?\", 'preview_url': 'https://p.scdn.co/mp3-preview/be5453a4763510679fab61e39662ab0257458be6?cid=11419dac9f88424c93dd910d7d82a6bc', 'id': '1k1Bqnv2R0uJXQN4u6LKYt'}, {'album': 'Un Verano Sin Ti', 'artist': 'Bad Bunny', 'cover_image_url': 'https://i.scdn.co/image/ab67616d0000b27349d694203245f241a1bcaa72', 'genre': 'latin', 'name': 'Moscow Mule', 'preview_url': 'https://p.scdn.co/mp3-preview/77b12f38abcff65705166d67b5657f70cd890635?cid=11419dac9f88424c93dd910d7d82a6bc', 'id': '5XeFesFbtLpXzIVDNQP22n'}, {'album': 'Blurryface', 'artist': 'Twenty One Pilots', 'cover_image_url': 'https://i.scdn.co/image/ab67616d0000b2732df0d98a423025032d0db1f7', 'genre': 'indie-pop', 'name': 'Ride', 'preview_url': 'https://p.scdn.co/mp3-preview/b571ceecaadc03941bdf4e683ea26e4e6d3f7c17?cid=11419dac9f88424c93dd910d7d82a6bc', 'id': '086myS9r57YsLbJpU0TgK9'}, {'album': 'My Way', 'artist': 'Calvin Harris', 'cover_image_url': 'https://i.scdn.co/image/ab67616d0000b2738d12bc5e3ea5c9f4a967de32', 'genre': 'edm', 'name': 'My Way', 'preview_url': 'https://p.scdn.co/mp3-preview/ed8d125912048b01914f6e5861742bec125602e8?cid=11419dac9f88424c93dd910d7d82a6bc', 'id': '10Nmj3JCNoMeBQ87uw5j8k'}, {'album': 'El Azul', 'artist': 'Junior H', 'cover_image_url': 'https://i.scdn.co/image/ab67616d0000b27333ed356efed99b158c4267c6', 'genre': 'sad', 'name': 'El Azul', 'preview_url': 'https://p.scdn.co/mp3-preview/f9df136c3a2d3c0c5424e2c4b75a303f35c08af5?cid=11419dac9f88424c93dd910d7d82a6bc', 'id': '59WN2psjkt1tyaxjspN8fp'}, {'album': 'Un Verano Sin Ti', 'artist': 'Bad Bunny', 'cover_image_url': 'https://i.scdn.co/image/ab67616d0000b27349d694203245f241a1bcaa72', 'genre': 'latin', 'name': 'Efecto', 'preview_url': 'https://p.scdn.co/mp3-preview/a622a47c8df98ef72676608511c0b2e1d5d51268?cid=11419dac9f88424c93dd910d7d82a6bc', 'id': '64BbK9SFKH2jk86U3dGj2P'}, {'album': 'ÉXODO', 'artist': 'Peso Pluma', 'cover_image_url': 'https://i.scdn.co/image/ab67616d0000b2732690127e1d6cd0aa35cc353b', 'genre': 'sad', 'name': 'RELOJ', 'preview_url': 'https://p.scdn.co/mp3-preview/f11451c051ee1403012b7a2fb8f938605eb28fbc?cid=11419dac9f88424c93dd910d7d82a6bc', 'id': '2aibwv5hGXSgw7Yru8IYTO'}, {'album': '2000', 'artist': 'Manuel Turizo', 'cover_image_url': 'https://i.scdn.co/image/ab67616d0000b2734dd99565ae6453deab7c26e1', 'genre': 'latin', 'name': 'La Bachata', 'preview_url': 'https://p.scdn.co/mp3-preview/0232b53fd7849e6696e1ab3099dd01dd00823f17?cid=11419dac9f88424c93dd910d7d82a6bc', 'id': '3XVBdLihbNbxUwZosxcGuJ'}, {'album': 'a Gift & a Curse', 'artist': 'Gunna', 'cover_image_url': 'https://i.scdn.co/image/ab67616d0000b273017d5e26552345c4b1575b6c', 'genre': 'hip-hop', 'name': 'fukumean', 'preview_url': 'https://p.scdn.co/mp3-preview/f237ab921af697ba9b49e12fa167c2ce1a82d6b4?cid=11419dac9f88424c93dd910d7d82a6bc', 'id': '6XjDF6nds4DE2BBbagZol6'}, {'album': 'Rumours (Super Deluxe)', 'artist': 'Fleetwood Mac', 'cover_image_url': 'https://i.scdn.co/image/ab67616d0000b273e52a59a28efa4773dd2bfe1b', 'genre': 'rock', 'name': 'Dreams - 2004 Remaster', 'preview_url': 'https://p.scdn.co/mp3-preview/30d63954de3ee9c0bc3600a4560260cb252d4fbd?cid=11419dac9f88424c93dd910d7d82a6bc', 'id': '2UW7JaomAMuX9pZrjVpHAU'}, {'album': 'Sundress', 'artist': 'A$AP Rocky', 'cover_image_url': 'https://i.scdn.co/image/ab67616d0000b2731ae967e4a02c7a39eb3c189b', 'genre': 'hip-hop', 'name': 'Sundress', 'preview_url': 'https://p.scdn.co/mp3-preview/4cc0018584f7e316a81616be3bf66c9d9a42ed0e?cid=11419dac9f88424c93dd910d7d82a6bc', 'id': '6RtPijgfPKROxEzTHNRiDp'}, {'album': '$AD BOYZ 4 LIFE II', 'artist': 'Junior H', 'cover_image_url': 'https://i.scdn.co/image/ab67616d0000b273f3ba6742a35f111aaea1ca2f', 'genre': 'sad', 'name': 'ROCKSTAR', 'preview_url': 'https://p.scdn.co/mp3-preview/284a4dab9087dd520dbd2bc2c2bb5d849a2b32ec?cid=11419dac9f88424c93dd910d7d82a6bc', 'id': '4yyCGGdTVaYG17vhsrUPoL'}, {'album': 'death bed (coffee for your head)', 'artist': 'Powfu', 'cover_image_url': 'https://i.scdn.co/image/ab67616d0000b273bf01fd0986a195d485922167', 'genre': 'sad', 'name': 'death bed (coffee for your head)', 'preview_url': 'https://p.scdn.co/mp3-preview/e88548073883ae36ba42ee5f1d1096568e417737?cid=11419dac9f88424c93dd910d7d82a6bc', 'id': '0ofHAoxe9vBkTCp2UQIavz'}, {'album': 'THE BIGGEST', 'artist': 'BigXthaPlug', 'cover_image_url': 'https://i.scdn.co/image/ab67616d0000b2739afbbc313ea008b68cc5f40d', 'genre': 'hip-hop', 'name': 'Mmhmm', 'preview_url': 'https://p.scdn.co/mp3-preview/2f0692571f94cf8573032998a3b9ae7e40d4eba5?cid=11419dac9f88424c93dd910d7d82a6bc', 'id': '3fJHbMUnzceimOnNjp63fF'}, {'album': 'SATURNO', 'artist': 'Rauw Alejandro', 'cover_image_url': 'https://i.scdn.co/image/ab67616d0000b27377ca8a929a08890cb6c8691c', 'genre': 'latin', 'name': 'LOKERA', 'preview_url': 'https://p.scdn.co/mp3-preview/813097c99aaf4f5dc8a62011118dc42e5423a9fd?cid=11419dac9f88424c93dd910d7d82a6bc', 'id': '2DXK0YNGSqnaIEX5iaSIoK'}, {'album': 'VICE VERSA', 'artist': 'Rauw Alejandro', 'cover_image_url': 'https://i.scdn.co/image/ab67616d0000b273d9525f27b0a9e25b1fa21230', 'genre': 'latin', 'name': 'Desesperados', 'preview_url': 'https://p.scdn.co/mp3-preview/e1c345a2f168b926696f449a7ca7c9e274c65721?cid=11419dac9f88424c93dd910d7d82a6bc', 'id': '1haJsMtoBhHfvuM7XWuT3W'}, {'album': 'Alone At Prom', 'artist': 'Tory Lanez', 'cover_image_url': 'https://i.scdn.co/image/ab67616d0000b2730c5f23cbf0b1ab7e37d0dc67', 'genre': 'hip-hop', 'name': 'The Color Violet', 'preview_url': 'https://p.scdn.co/mp3-preview/1d7c627bf549328110519c4bd21ac39d7ca50ea1?cid=11419dac9f88424c93dd910d7d82a6bc', 'id': '5UHK1rtK4MpBGb0KppIYh4'}, {'album': 'GÉNESIS', 'artist': 'Peso Pluma', 'cover_image_url': 'https://i.scdn.co/image/ab67616d0000b2732fb583ed96f8f35cbf2897ba', 'genre': 'sad', 'name': 'LADY GAGA', 'preview_url': 'https://p.scdn.co/mp3-preview/ec439edcef8f1b71e88cfeb7d200db274901123b?cid=11419dac9f88424c93dd910d7d82a6bc', 'id': '5GTBdEjZe7zEDp1N0eCZE4'}, {'album': 'DATA', 'artist': 'Tainy', 'cover_image_url': 'https://i.scdn.co/image/ab67616d0000b273f885fb64a381318a1c9c14e4', 'genre': 'latin', 'name': 'MOJABI GHOST', 'preview_url': 'https://p.scdn.co/mp3-preview/a6d8180d52b759c3e3db9aa78e841ffc06e26c17?cid=11419dac9f88424c93dd910d7d82a6bc', 'id': '02cRoSfWU3RJNFyU3o4lhV'}, {'album': 'Menagerie', 'artist': 'Bill Withers', 'cover_image_url': 'https://i.scdn.co/image/ab67616d0000b2735ade9b4d547203c9061fc340', 'genre': 'funk', 'name': 'Lovely Day', 'preview_url': 'https://p.scdn.co/mp3-preview/fdd27d4b10c891ee9e00b1820484b8898fcf905a?cid=11419dac9f88424c93dd910d7d82a6bc', 'id': '4U20gQcVcjzY12xhLsXwXy'}, {'album': 'T R A P S O U L', 'artist': 'Bryson Tiller', 'cover_image_url': 'https://i.scdn.co/image/ab67616d0000b273d5f3cea8affdca01a0dc754f', 'genre': 'hip-hop', 'name': \"Don't\", 'preview_url': 'https://p.scdn.co/mp3-preview/f7e8de8a2a419c43ddf77af8572e6ad1e4cb64d4?cid=11419dac9f88424c93dd910d7d82a6bc', 'id': '7eJMfftS33KTjuF7lTsMCx'}, {'album': 'EL ÚLTIMO BAILE', 'artist': 'Trueno', 'cover_image_url': 'https://i.scdn.co/image/ab67616d0000b27368a450f7bcdc187e20f0ba0a', 'genre': 'latin', 'name': 'REAL GANGSTA LOVE', 'preview_url': 'https://p.scdn.co/mp3-preview/2f10aa6bf08d7c4b1a7737c3accb9b738f885c73?cid=11419dac9f88424c93dd910d7d82a6bc', 'id': '6YOfGIE6iFxC7G8OlGGvzW'}, {'album': 'ÉXODO', 'artist': 'Peso Pluma', 'cover_image_url': 'https://i.scdn.co/image/ab67616d0000b2732690127e1d6cd0aa35cc353b', 'genre': 'sad', 'name': 'SANTAL 33', 'preview_url': 'https://p.scdn.co/mp3-preview/3748ab0fb543363b6476f872593cc4cb8a754b89?cid=11419dac9f88424c93dd910d7d82a6bc', 'id': '2ORC76autQ7QTfBCkZl4Wo'}, {'album': 'Linger / Heading For The Door (Sirius XM Session)', 'artist': 'Royel Otis', 'cover_image_url': 'https://i.scdn.co/image/ab67616d0000b273ccaa2ab01efad107f3952454', 'genre': 'indie', 'name': 'Linger - SiriusXM Session', 'preview_url': 'https://p.scdn.co/mp3-preview/7503ab938edb2c4db70b341e073c81e1fae952fb?cid=11419dac9f88424c93dd910d7d82a6bc', 'id': '4zfQER4owi8q6NL8Gg63Ya'}, {'album': 'we fell in love in october / October Passed Me By', 'artist': 'girl in red', 'cover_image_url': 'https://i.scdn.co/image/ab67616d0000b273d6839051c4760457e1a60b2a', 'genre': 'indie-pop', 'name': 'we fell in love in october', 'preview_url': 'https://p.scdn.co/mp3-preview/0415195377d9574c4f552372019421311a34ce55?cid=11419dac9f88424c93dd910d7d82a6bc', 'id': '7mXuWTczZNxG5EDcjFEuJR'}, {'album': 'ÉXODO', 'artist': 'Peso Pluma', 'cover_image_url': 'https://i.scdn.co/image/ab67616d0000b2732690127e1d6cd0aa35cc353b', 'genre': 'sad', 'name': 'LA PATRULLA', 'preview_url': 'https://p.scdn.co/mp3-preview/3a490b1336290577f0bf5a3b5a68f73e70b17e68?cid=11419dac9f88424c93dd910d7d82a6bc', 'id': '0lbDzTINTToToBpkrnQT2t'}, {'album': 'ESQUINAS', 'artist': 'Becky G', 'cover_image_url': 'https://i.scdn.co/image/ab67616d0000b273a4c33caede9bd0868ad1f04d', 'genre': 'latin', 'name': 'POR EL CONTRARIO (with Angela Aguilar & Leonardo Aguilar)', 'preview_url': 'https://p.scdn.co/mp3-preview/91759a3e8597d0b394e2391222376d6e31c24b5b?cid=11419dac9f88424c93dd910d7d82a6bc', 'id': '5LhI8m7n8xlQmNe3b7Rwis'}, {'album': 'Un Verano Sin Ti', 'artist': 'Bad Bunny', 'cover_image_url': 'https://i.scdn.co/image/ab67616d0000b27349d694203245f241a1bcaa72', 'genre': 'latin', 'name': 'Ojitos Lindos', 'preview_url': 'https://p.scdn.co/mp3-preview/d9e32879becf10d4b28d66b55033bc91803d95f7?cid=11419dac9f88424c93dd910d7d82a6bc', 'id': '6vvPecFTmWxDfEJ6cYT1wa'}, {'album': 'Rockstar', 'artist': 'LISA', 'cover_image_url': 'https://i.scdn.co/image/ab67616d0000b27397265410628ab7f94a380c9d', 'genre': 'k-pop', 'name': 'Rockstar', 'preview_url': 'https://p.scdn.co/mp3-preview/8271bfde6ebd7409a6c42b6731402b1caa4f8a72?cid=11419dac9f88424c93dd910d7d82a6bc', 'id': '2dono2Koz7DEvGwxUsmMLq'}, {'album': 'ÉXODO', 'artist': 'Peso Pluma', 'cover_image_url': 'https://i.scdn.co/image/ab67616d0000b2732690127e1d6cd0aa35cc353b', 'genre': 'sad', 'name': 'VINO TINTO', 'preview_url': 'https://p.scdn.co/mp3-preview/71b03d38259e689176809244952de1fee5cefee0?cid=11419dac9f88424c93dd910d7d82a6bc', 'id': '2Z8WuEywRWYTKe1NybPQEW'}, {'album': 'nadie sabe lo que va a pasar mañana', 'artist': 'Bad Bunny', 'cover_image_url': 'https://i.scdn.co/image/ab67616d0000b2737b1fc51ff3257b5286a1ecec', 'genre': 'latin', 'name': 'MONACO', 'preview_url': 'https://p.scdn.co/mp3-preview/f80c7cc394457fc77cd6668a715b039fd86404f9?cid=11419dac9f88424c93dd910d7d82a6bc', 'id': '0j3mqDTK4Z6lvrLzFCUUz6'}, {'album': 'In The Zone', 'artist': 'Britney Spears', 'cover_image_url': 'https://i.scdn.co/image/ab67616d0000b273efc6988972cb04105f002cd4', 'genre': 'dance', 'name': 'Toxic', 'preview_url': 'https://p.scdn.co/mp3-preview/6de2791f84c1d637a0e24734b6df3997cc742da4?cid=11419dac9f88424c93dd910d7d82a6bc', 'id': '6RiiSy9GzSwiyDEJDiMuKe'}, {'album': 'Without Warning', 'artist': 'Offset', 'cover_image_url': 'https://i.scdn.co/image/ab67616d0000b2730db43130a9aaa7bae56967ed', 'genre': 'hip-hop', 'name': 'Ric Flair Drip (with Metro Boomin)', 'preview_url': 'https://p.scdn.co/mp3-preview/89cee86b4663ac093731d7a433491dd71e286f61?cid=11419dac9f88424c93dd910d7d82a6bc', 'id': '75IQVo8hqI1iwVZyvkN2VT'}, {'album': 'MUSE', 'artist': 'Jimin', 'cover_image_url': 'https://i.scdn.co/image/ab67616d0000b273f02c451189a709b9a952aaec', 'genre': 'k-pop', 'name': 'Who', 'preview_url': 'https://p.scdn.co/mp3-preview/02687a01e9ec00f4e947f39e910c7e0c6fa83e10?cid=11419dac9f88424c93dd910d7d82a6bc', 'id': '7s5VQqrjBtrBgZL4pEa46S'}, {'album': \"Pa las Baby's Y Belikeada\", 'artist': 'Fuerza Regida', 'cover_image_url': 'https://i.scdn.co/image/ab67616d0000b273ad57982065339f7dc2058efe', 'genre': 'sad', 'name': 'UNA CERVEZA', 'preview_url': 'https://p.scdn.co/mp3-preview/8b6c575f2df84e60ba8fabb144ae213d412f8f05?cid=11419dac9f88424c93dd910d7d82a6bc', 'id': '6IPwKM3fUUzlElbvKw2sKl'}, {'album': 'Triplex (Ao Vivo)', 'artist': 'Matheus Fernandes', 'cover_image_url': 'https://i.scdn.co/image/ab67616d0000b2739258fcfe29888e1371f3f812', 'genre': 'forro', 'name': 'Triplex - Ao Vivo', 'preview_url': 'https://p.scdn.co/mp3-preview/3a78b8ba12ef72901e8a56fa06f92e99e49fb674?cid=11419dac9f88424c93dd910d7d82a6bc', 'id': '1kPhV0KQui1phEpjnWIqUN'}, {'album': 'Stadium Arcadium', 'artist': 'Red Hot Chili Peppers', 'cover_image_url': 'https://i.scdn.co/image/ab67616d0000b27309fd83d32aee93dceba78517', 'genre': 'funk', 'name': 'Dani California', 'preview_url': 'https://p.scdn.co/mp3-preview/0454b7cef05f7db734eb04bd4f3948009838f380?cid=11419dac9f88424c93dd910d7d82a6bc', 'id': '3CRDbSIZ4r5MsZ0YwxuEkn'}, {'album': 'The Diary Of Alicia Keys', 'artist': 'Alicia Keys', 'cover_image_url': 'https://i.scdn.co/image/ab67616d0000b27356ff19308ebeb48e2ba6094b', 'genre': 'r-n-b', 'name': \"If I Ain't Got You\", 'preview_url': 'https://p.scdn.co/mp3-preview/2d1fd54c4a4147b43e1eb79c00380e36818a2546?cid=11419dac9f88424c93dd910d7d82a6bc', 'id': '7tI8dRuH2Yc6RuoTjxo4dU'}, {'album': 'Audioslave', 'artist': 'Audioslave', 'cover_image_url': 'https://i.scdn.co/image/ab67616d0000b273a7292b6863258e889b78d787', 'genre': 'grunge', 'name': 'Like a Stone', 'preview_url': 'https://p.scdn.co/mp3-preview/46d898c23fb28b9f52abf78b794aa500988d2132?cid=11419dac9f88424c93dd910d7d82a6bc', 'id': '6Sq7ltF9Qa7SNFBsV5Cogx'}, {'album': 'Mulholland Drive', 'artist': 'Eyedress', 'cover_image_url': 'https://i.scdn.co/image/ab67616d0000b27316f48ac1e989d7acc028e9cf', 'genre': 'indie-pop', 'name': 'Something About You', 'preview_url': 'https://p.scdn.co/mp3-preview/e4fce31a7c0073b2eb93a0201f8825ecd94c4d32?cid=11419dac9f88424c93dd910d7d82a6bc', 'id': '5bi0gh89wRuH2OgjdAKFsb'}, {'album': 'Minutes to Midnight', 'artist': 'Linkin Park', 'cover_image_url': 'https://i.scdn.co/image/ab67616d0000b2736e996745f2c7b8036abef213', 'genre': 'grunge', 'name': 'Bleed It Out', 'preview_url': 'https://p.scdn.co/mp3-preview/1440e6e73c1d0f4db4a64175e26ca250097733c8?cid=11419dac9f88424c93dd910d7d82a6bc', 'id': '2kz1YOhJiNubjigR1gB1VX'}, {'album': 'Corridos Bélicos, Vol. IV (Versión Deluxe)', 'artist': 'Luis R Conriquez', 'cover_image_url': 'https://i.scdn.co/image/ab67616d0000b2733db3ceab0dc5df8c9376c4cd', 'genre': 'sad', 'name': 'GTA', 'preview_url': 'https://p.scdn.co/mp3-preview/b85c99adb82f33e50fdc2631f9efd66998b9c9bd?cid=11419dac9f88424c93dd910d7d82a6bc', 'id': '3tt9i3Hhzq84dPS8H7iSiJ'}, {'album': 'american dream', 'artist': '21 Savage', 'cover_image_url': 'https://i.scdn.co/image/ab67616d0000b273bbdceba2bf1867d4966d0347', 'genre': 'hip-hop', 'name': 'redrum', 'preview_url': 'https://p.scdn.co/mp3-preview/36b18ee006f29af8902a4886029ba2431368f57a?cid=11419dac9f88424c93dd910d7d82a6bc', 'id': '7iUtQNMRB8ZkKC4AmEuCJC'}, {'album': 'att.', 'artist': 'Young Miko', 'cover_image_url': 'https://i.scdn.co/image/ab67616d0000b27310dfb6ef442ace580aa5a2bf', 'genre': 'latin', 'name': 'offline', 'preview_url': 'https://p.scdn.co/mp3-preview/b9510ef049d747d0789694f43970e171c16ad260?cid=11419dac9f88424c93dd910d7d82a6bc', 'id': '6mmPpaltUZK7xjNlBPQQ0p'}, {'album': 'Barrio Fino (Bonus Track Version)', 'artist': 'Daddy Yankee', 'cover_image_url': 'https://i.scdn.co/image/ab67616d0000b2736bdcdf82ecce36bff808a40c', 'genre': 'latin', 'name': 'Gasolina', 'preview_url': 'https://p.scdn.co/mp3-preview/7c545be6847f3a6b13c4ad9c70d10a34f49a92d3?cid=11419dac9f88424c93dd910d7d82a6bc', 'id': '6Xom58OOXk2SoU711L2IXO'}, {'album': 'Just As I Am', 'artist': 'Bill Withers', 'cover_image_url': 'https://i.scdn.co/image/ab67616d0000b273e1e350d06ffebd2e19e047ce', 'genre': 'funk', 'name': \"Ain't No Sunshine\", 'preview_url': 'https://p.scdn.co/mp3-preview/4894057a7cdc4be59cd335cfc369ba2d3a3b2ad8?cid=11419dac9f88424c93dd910d7d82a6bc', 'id': '5Eax0qFko2dh7Rl2lYs3bx'}, {'album': 'VICE VERSA', 'artist': 'Rauw Alejandro', 'cover_image_url': 'https://i.scdn.co/image/ab67616d0000b273d9525f27b0a9e25b1fa21230', 'genre': 'latin', 'name': 'Todo De Ti', 'preview_url': 'https://p.scdn.co/mp3-preview/c22200b1d15945f42242d40077ce0da4fc873be1?cid=11419dac9f88424c93dd910d7d82a6bc', 'id': '3k3NWokhRRkEPhCzPmV8TW'}, {'album': 'Escape (2022 Remaster)', 'artist': 'Journey', 'cover_image_url': 'https://i.scdn.co/image/ab67616d0000b27363fa4751355b66f236943275', 'genre': 'hard-rock', 'name': \"Don't Stop Believin' (2022 Remaster)\", 'preview_url': 'https://p.scdn.co/mp3-preview/50923c629a4d9ab470b0ca6a10495ecb945c1500?cid=11419dac9f88424c93dd910d7d82a6bc', 'id': '7s4emXHJwAuo5VvGBXmnBL'}, {'album': 'Dizzy up the Girl', 'artist': 'The Goo Goo Dolls', 'cover_image_url': 'https://i.scdn.co/image/ab67616d0000b273eda9478c39a21e1cdc6609ca', 'genre': 'grunge', 'name': 'Iris', 'preview_url': 'https://p.scdn.co/mp3-preview/30e2a899a94a089d5c341b782b00aa802fd87610?cid=11419dac9f88424c93dd910d7d82a6bc', 'id': '4MjDJD8cW7iVeWInc2Bdyj'}, {'album': 'Madonna', 'artist': 'Natanael Cano', 'cover_image_url': 'https://i.scdn.co/image/ab67616d0000b273fcd2820c9b859adc64a64b88', 'genre': 'sad', 'name': 'Madonna', 'preview_url': 'https://p.scdn.co/mp3-preview/1f5da933d7ad8458956721a548e4cb3f565a377e?cid=11419dac9f88424c93dd910d7d82a6bc', 'id': '1aUq8rjW1EwkAkMri4VfJy'}, {'album': 'Blurryface', 'artist': 'Twenty One Pilots', 'cover_image_url': 'https://i.scdn.co/image/ab67616d0000b2732df0d98a423025032d0db1f7', 'genre': 'indie-pop', 'name': 'Stressed Out', 'preview_url': 'https://p.scdn.co/mp3-preview/d01bb6b4b9952d95d2609632474cda8e632e044d?cid=11419dac9f88424c93dd910d7d82a6bc', 'id': '1FlL8ycld6uVDDyhV7P5FA'}, {'album': 'THE BIGGEST', 'artist': 'BigXthaPlug', 'cover_image_url': 'https://i.scdn.co/image/ab67616d0000b2739afbbc313ea008b68cc5f40d', 'genre': 'hip-hop', 'name': 'Back On My BS', 'preview_url': 'https://p.scdn.co/mp3-preview/f02a36be65c8b980b9aada12eabc7cc7c69ce877?cid=11419dac9f88424c93dd910d7d82a6bc', 'id': '228BxWXUYQPJrJYHDLOHkj'}, {'album': 'Dolido Pero No Arrepentido', 'artist': 'Fuerza Regida', 'cover_image_url': 'https://i.scdn.co/image/ab67616d0000b273abc2d11a541fa61795691697', 'genre': 'sad', 'name': 'TÚ NAME', 'preview_url': 'https://p.scdn.co/mp3-preview/f90fcef8fe627f6c5c335fa4b246d3e62b98a158?cid=11419dac9f88424c93dd910d7d82a6bc', 'id': '7sO5G9EABYOXQKNPNiE9NR'}, {'album': 'Gata Only', 'artist': 'FloyyMenor', 'cover_image_url': 'https://i.scdn.co/image/ab67616d0000b273c4583f3ad76630879a75450a', 'genre': 'reggae', 'name': 'Gata Only', 'preview_url': 'https://p.scdn.co/mp3-preview/12ae7f061a9da14a7c1e6a3e21de68365697efe8?cid=11419dac9f88424c93dd910d7d82a6bc', 'id': '4QTlxavdQGUVitxAvQqqkU'}, {'album': 'AM', 'artist': 'Arctic Monkeys', 'cover_image_url': 'https://i.scdn.co/image/ab67616d0000b2734ae1c4c5c45aabe565499163', 'genre': 'garage', 'name': 'I Wanna Be Yours', 'preview_url': 'https://p.scdn.co/mp3-preview/07de30bde8363d9ff78b72339245c151f67af451?cid=11419dac9f88424c93dd910d7d82a6bc', 'id': '2ZWlPOoWh0626oTaHrnl2a'}, {'album': 'La Diabla', 'artist': 'Xavi', 'cover_image_url': 'https://i.scdn.co/image/ab67616d0000b2731501c770de50a22b25d67611', 'genre': 'sad', 'name': 'La Diabla', 'preview_url': 'https://p.scdn.co/mp3-preview/f3eeae4ae180d55cd3c83c4e4c1d657b46aa107e?cid=11419dac9f88424c93dd910d7d82a6bc', 'id': '4xhsWYTOGcal8zt0J161CU'}, {'album': 'Smeraldo Garden Marching Band (feat. Loco)', 'artist': 'Jimin', 'cover_image_url': 'https://i.scdn.co/image/ab67616d0000b27338881a83135ef5b4ace418ba', 'genre': 'k-pop', 'name': 'Smeraldo Garden Marching Band (feat. Loco)', 'preview_url': 'https://p.scdn.co/mp3-preview/fe27d5f778e8bb29b3d905087f7f08106731549b?cid=11419dac9f88424c93dd910d7d82a6bc', 'id': '7hrFCoyWwKep7qp1lP4oga'}, {'album': \"Gangsta's Paradise\", 'artist': 'Coolio', 'cover_image_url': 'https://i.scdn.co/image/ab67616d0000b273c31d3c870a3dbaf7b53186cc', 'genre': 'funk', 'name': \"Gangsta's Paradise\", 'preview_url': 'https://p.scdn.co/mp3-preview/1454c63a66c27ac745f874d6c113270a9c62d28e?cid=11419dac9f88424c93dd910d7d82a6bc', 'id': '3azJifCSqg9fRij2yKIbWz'}, {'album': \"I Smoked Away My Brain (I'm God x Demons Mashup) (feat. Imogen Heap & Clams Casino)\", 'artist': 'A$AP Rocky', 'cover_image_url': 'https://i.scdn.co/image/ab67616d0000b2732bb4bbf62bc82d2f4ce59397', 'genre': 'hip-hop', 'name': \"I Smoked Away My Brain (I'm God x Demons Mashup) (feat. Imogen Heap & Clams Casino)\", 'preview_url': 'https://p.scdn.co/mp3-preview/8af2cba7fb2f4d438310485d791584e94b43318a?cid=11419dac9f88424c93dd910d7d82a6bc', 'id': '3jHdKaLCkuNEkWcLVmQPCX'}, {'album': 'Je te laisserai des mots', 'artist': 'Patrick Watson', 'cover_image_url': 'https://i.scdn.co/image/ab67616d0000b2738ea92a85c492af8a38750549', 'genre': 'folk', 'name': 'Je te laisserai des mots', 'preview_url': 'https://p.scdn.co/mp3-preview/3c814ba891e1199c9602adab8bdefaf9116a1bd7?cid=11419dac9f88424c93dd910d7d82a6bc', 'id': '3ZaEs1O8BG581qYPHpQ8d6'}, {'album': 'Demon Days', 'artist': 'Gorillaz', 'cover_image_url': 'https://i.scdn.co/image/ab67616d0000b27319d85a472f328a6ed9b704cf', 'genre': 'alt-rock', 'name': 'Feel Good Inc.', 'preview_url': 'https://p.scdn.co/mp3-preview/b13a1bb2d8a04132982a49b6efee933cc9d67c7e?cid=11419dac9f88424c93dd910d7d82a6bc', 'id': '4IFd7EVCyJsUHesBMXI8ju'}, {'album': 'Meteora', 'artist': 'Linkin Park', 'cover_image_url': 'https://i.scdn.co/image/ab67616d0000b2735f1f51d14e8bea89484ecd1b', 'genre': 'alt-rock', 'name': 'Numb', 'preview_url': 'https://p.scdn.co/mp3-preview/d6d67b4f23b4865e07821f78c45a98035da95d61?cid=11419dac9f88424c93dd910d7d82a6bc', 'id': '7FAFkQQZFeNwOFzTrSDFIh'}, {'album': 'The Great American Bar Scene', 'artist': 'Zach Bryan', 'cover_image_url': 'https://i.scdn.co/image/ab67616d0000b273647ad18a07e9e939e399e5a1', 'genre': 'country', 'name': '28', 'preview_url': 'https://p.scdn.co/mp3-preview/5c2aee074a87afd330cb8c42c7a73aef5b5ccc59?cid=11419dac9f88424c93dd910d7d82a6bc', 'id': '2hrycoFU1mZw6YPvMcn8yC'}, {'album': 'The Colour And The Shape', 'artist': 'Foo Fighters', 'cover_image_url': 'https://i.scdn.co/image/ab67616d0000b2730389027010b78a5e7dce426b', 'genre': 'alt-rock', 'name': 'Everlong', 'preview_url': 'https://p.scdn.co/mp3-preview/78fd3872e0fa5940b2a36654f07f11e7119be4e2?cid=11419dac9f88424c93dd910d7d82a6bc', 'id': '0iOZM63lendWRTTeKhZBSC'}, {'album': '30', 'artist': 'Adele', 'cover_image_url': 'https://i.scdn.co/image/ab67616d0000b273c6b577e4c4a6d326354a89f7', 'genre': 'british', 'name': 'Easy On Me', 'preview_url': 'https://p.scdn.co/mp3-preview/a0cd8077c79a4aa3dcaa68bbc5ecdeda46e8d13f?cid=11419dac9f88424c93dd910d7d82a6bc', 'id': '2ixsaeFioXJmMgkkbd4uj1'}, {'album': 'Supernatural', 'artist': 'NewJeans', 'cover_image_url': 'https://i.scdn.co/image/ab67616d0000b2737e1eeb0d7cc374a168369c80', 'genre': 'k-pop', 'name': 'Supernatural', 'preview_url': 'https://p.scdn.co/mp3-preview/14baeec77f3463a30c808298ac755edb1b6fff26?cid=11419dac9f88424c93dd910d7d82a6bc', 'id': '44A0o4jA8F2ZF03Zacwlwx'}, {'album': 'Move', 'artist': 'Adam Port', 'cover_image_url': 'https://i.scdn.co/image/ab67616d0000b27317a013a00d0a33f3dd49974d', 'genre': 'house', 'name': 'Move', 'preview_url': 'https://p.scdn.co/mp3-preview/04f167dc6029b10591d32a723a684e14ef1d4a21?cid=11419dac9f88424c93dd910d7d82a6bc', 'id': '2L9N0zZnd37dwF0clgxMGI'}, {'album': 'Californication (Deluxe Edition)', 'artist': 'Red Hot Chili Peppers', 'cover_image_url': 'https://i.scdn.co/image/ab67616d0000b27394d08ab63e57b0cae74e8595', 'genre': 'alt-rock', 'name': 'Californication', 'preview_url': 'https://p.scdn.co/mp3-preview/0fd595c5b63db10f4a99683f8248ea5d13700683?cid=11419dac9f88424c93dd910d7d82a6bc', 'id': '2O4Bb2WCkjlTPO827OnBMI'}, {'album': 'UTOPIA', 'artist': 'Travis Scott', 'cover_image_url': 'https://i.scdn.co/image/ab67616d0000b273881d8d8378cd01099babcd44', 'genre': 'house', 'name': 'FE!N (feat. Playboi Carti)', 'preview_url': 'https://p.scdn.co/mp3-preview/4b0178cf6991f59db18e12e2219ff11e27474b0a?cid=11419dac9f88424c93dd910d7d82a6bc', 'id': '3k6q0O9JnO2GhvD6C8fs20'}, {'album': 'Long Way Down (Deluxe)', 'artist': 'Tom Odell', 'cover_image_url': 'https://i.scdn.co/image/ab67616d0000b2731917a0f3f4152622a040913f', 'genre': 'chill', 'name': 'Another Love', 'preview_url': 'https://p.scdn.co/mp3-preview/0369cb748bc968ffd34fb4ac60f5403f2aad032f?cid=11419dac9f88424c93dd910d7d82a6bc', 'id': '3LWVXp636uLT356Rj08Jaz'}, {'album': 'American Heartbreak', 'artist': 'Zach Bryan', 'cover_image_url': 'https://i.scdn.co/image/ab67616d0000b273ba30859a1ca79c5a372d177a', 'genre': 'country', 'name': 'Sun to Me', 'preview_url': 'https://p.scdn.co/mp3-preview/e002b15b8d7d1d3c8953abd8f451536c2621bbf4?cid=11419dac9f88424c93dd910d7d82a6bc', 'id': '7iQXYTyuG13aoeHxGG28Nh'}, {'album': 'Franz Ferdinand', 'artist': 'Franz Ferdinand', 'cover_image_url': 'https://i.scdn.co/image/ab67616d0000b27309a90531b85be7899c3234c4', 'genre': 'alt-rock', 'name': 'Take Me Out', 'preview_url': 'https://p.scdn.co/mp3-preview/f91cfdf3dd5f7114cf47f8c8b2567b7a8a76d9ed?cid=11419dac9f88424c93dd910d7d82a6bc', 'id': '3aAnwyBJY9OLNLqSgd4fZU'}, {'album': 'Rodeo', 'artist': 'Travis Scott', 'cover_image_url': 'https://i.scdn.co/image/ab67616d0000b273715973050587fe3c93033aad', 'genre': 'house', 'name': 'Nightcrawler (feat. Swae Lee & Chief Keef)', 'preview_url': 'https://p.scdn.co/mp3-preview/23540b3a777ceb28824330d1c72897e44e66dd1b?cid=11419dac9f88424c93dd910d7d82a6bc', 'id': '0LZy30mVmxqUpdQmaXKXBd'}, {'album': 'The Best of Sade', 'artist': 'Sade', 'cover_image_url': 'https://i.scdn.co/image/ab67616d0000b2735e25e034e25258b356774c79', 'genre': 'british', 'name': 'Smooth Operator - Single Version', 'preview_url': 'https://p.scdn.co/mp3-preview/43f389ca63d0814eb6e316b42f13011d802373ff?cid=11419dac9f88424c93dd910d7d82a6bc', 'id': '1IHWl5LamUGEuP4ozKQSXZ'}, {'album': 'Heathens', 'artist': 'Twenty One Pilots', 'cover_image_url': 'https://i.scdn.co/image/ab67616d0000b2732ca3ba8f334ca5a5f0312efb', 'genre': 'indie-pop', 'name': 'Heathens', 'preview_url': 'https://p.scdn.co/mp3-preview/31b8d72a9480d06d28846b843539b8b5e58696db?cid=11419dac9f88424c93dd910d7d82a6bc', 'id': '2btNsI4OvcVl7SAHQQDHFB'}, {'album': 'TALKING IS HARD', 'artist': 'WALK THE MOON', 'cover_image_url': 'https://i.scdn.co/image/ab67616d0000b27343294cfa2688055c9d821bf3', 'genre': 'alt-rock', 'name': 'Shut Up and Dance', 'preview_url': 'https://p.scdn.co/mp3-preview/4309fadd9a0d573c1fafcca507e024b3bb51266b?cid=11419dac9f88424c93dd910d7d82a6bc', 'id': '6DUdDIRgLqCGq1DwkNWQTN'}, {'album': 'Nasty', 'artist': 'Tinashe', 'cover_image_url': 'https://i.scdn.co/image/ab67616d0000b27399068b5c52ec35ec2db977a7', 'genre': 'alternative', 'name': 'Nasty', 'preview_url': 'https://p.scdn.co/mp3-preview/be91189eabbc552654634c46b7ce1948c1b4fe34?cid=11419dac9f88424c93dd910d7d82a6bc', 'id': '5zA8vzDGqPl2AzZkEYQGKh'}, {'album': 'BRAT', 'artist': 'Charli xcx', 'cover_image_url': 'https://i.scdn.co/image/ab67616d0000b27388e3822cccfb8f2832c70c2e', 'genre': 'pop', 'name': '360', 'preview_url': 'https://p.scdn.co/mp3-preview/34231118fa980913824d4ccf78be931e999f69f1?cid=11419dac9f88424c93dd910d7d82a6bc', 'id': '4e9eGQYsOiBcftrWXwsVco'}, {'album': 'MUSE', 'artist': 'Jimin', 'cover_image_url': 'https://i.scdn.co/image/ab67616d0000b273f02c451189a709b9a952aaec', 'genre': 'k-pop', 'name': 'Be Mine', 'preview_url': 'https://p.scdn.co/mp3-preview/78ab86d01bf68d4f86921f1d3e3cb0ed4cf04e50?cid=11419dac9f88424c93dd910d7d82a6bc', 'id': '4U45aEWtQhrm8A5mxPaFZ7'}, {'album': 'Fireworks & Rollerblades', 'artist': 'Benson Boone', 'cover_image_url': 'https://i.scdn.co/image/ab67616d0000b273cc04ff3e70e146ba9abacf40', 'genre': 'pop', 'name': 'Slow It Down', 'preview_url': 'https://p.scdn.co/mp3-preview/7ed92ba5dc69c703af94b4973bb7eecb3fa3cce1?cid=11419dac9f88424c93dd910d7d82a6bc', 'id': '61mWefnWQOLf90gepjOCb3'}, {'album': 'Unreal Unearth: Unheard', 'artist': 'Hozier', 'cover_image_url': 'https://i.scdn.co/image/ab67616d0000b2732e8b4358d044b75807e30bf0', 'genre': 'indie', 'name': 'Too Sweet', 'preview_url': 'https://p.scdn.co/mp3-preview/e526daac5ec6c4594ab3760cc48cee835379802d?cid=11419dac9f88424c93dd910d7d82a6bc', 'id': '2FQrifJ1N335Ljm3TjTVVf'}, {'album': 'The Stranger (Legacy Edition)', 'artist': 'Billy Joel', 'cover_image_url': 'https://i.scdn.co/image/ab67616d0000b2736ce61113662ecf693b605ee5', 'genre': 'piano', 'name': 'Vienna', 'preview_url': 'https://p.scdn.co/mp3-preview/20063b69f912e042929de74af0b77271ec3376c5?cid=11419dac9f88424c93dd910d7d82a6bc', 'id': '5fVZC9GiM4e8vu99W0Xf6J'}, {'album': 'Hard To Imagine The Neighbourhood Ever Changing', 'artist': 'The Neighbourhood', 'cover_image_url': 'https://i.scdn.co/image/ab67616d0000b2739b6ac98a52f62d5cb473da40', 'genre': 'alt-rock', 'name': 'You Get Me So High', 'preview_url': 'https://p.scdn.co/mp3-preview/3f5a7c8b8e434e72c0e8f0bf43341f161c54b14b?cid=11419dac9f88424c93dd910d7d82a6bc', 'id': '51eSHglvG1RJXtL3qI5trr'}, {'album': 'Something in the Orange', 'artist': 'Zach Bryan', 'cover_image_url': 'https://i.scdn.co/image/ab67616d0000b273b2b6670e3aca9bcd55fbabbb', 'genre': 'country', 'name': 'Something in the Orange', 'preview_url': 'https://p.scdn.co/mp3-preview/d33dc9df586e24c9d8f640df08b776d94680f529?cid=11419dac9f88424c93dd910d7d82a6bc', 'id': '1PtQJZVZIdWIYdARpZRDFO'}, {'album': 'minisode 3: TOMORROW', 'artist': 'TOMORROW X TOGETHER', 'cover_image_url': 'https://i.scdn.co/image/ab67616d0000b27303c996028737858321d2ffe0', 'genre': 'k-pop', 'name': 'Deja Vu', 'preview_url': 'https://p.scdn.co/mp3-preview/2cca480b447f185b5a64c94e6bdf112bc16c7ef4?cid=11419dac9f88424c93dd910d7d82a6bc', 'id': '3Vr3zh0r7ALn8VLqCiRR10'}, {'album': 'Hybrid Theory (Bonus Edition)', 'artist': 'Linkin Park', 'cover_image_url': 'https://i.scdn.co/image/ab67616d0000b273e2f039481babe23658fc719a', 'genre': 'alt-rock', 'name': 'One Step Closer', 'preview_url': 'https://p.scdn.co/mp3-preview/93915a6ffff1e702717623fe052e781e68bde91b?cid=11419dac9f88424c93dd910d7d82a6bc', 'id': '1bjeWoagtHmUKputLVyDxQ'}, {'album': 'Hounds Of Love', 'artist': 'Kate Bush', 'cover_image_url': 'https://i.scdn.co/image/ab67616d0000b273ad08f4b38efbff0c0da0f252', 'genre': 'piano', 'name': 'Running Up That Hill (A Deal With God)', 'preview_url': 'https://p.scdn.co/mp3-preview/861d26b52ece3e3ad72a7dc3463daece3478801a?cid=11419dac9f88424c93dd910d7d82a6bc', 'id': '4w2GLmK2wnioVnb5CPQeex'}, {'album': \"Gettin' Old\", 'artist': 'Luke Combs', 'cover_image_url': 'https://i.scdn.co/image/ab67616d0000b273ca650d3a95022e0490434ba1', 'genre': 'country', 'name': 'Where the Wild Things Are', 'preview_url': 'https://p.scdn.co/mp3-preview/994c947925dbf67ee0132328c82fb6102e29f746?cid=11419dac9f88424c93dd910d7d82a6bc', 'id': '6i0V12jOa3mr6uu4WYhUBr'}, {'album': 'ADIVINO', 'artist': 'Myke Towers', 'cover_image_url': 'https://i.scdn.co/image/ab67616d0000b273b41f34aa51be675c5cfd3d94', 'genre': 'latin', 'name': 'ADIVINO', 'preview_url': 'https://p.scdn.co/mp3-preview/9342664668742f1fdf59b7beee2b54dc8fecaada?cid=11419dac9f88424c93dd910d7d82a6bc', 'id': '3Ua0m0YmEjrMi9XErKcNiR'}, {'album': 'How To Save A Life', 'artist': 'The Fray', 'cover_image_url': 'https://i.scdn.co/image/ab67616d0000b27359b8b957f164ce660919f1f4', 'genre': 'piano', 'name': 'How to Save a Life', 'preview_url': 'https://p.scdn.co/mp3-preview/30d90238cdd10ea0a938ddc8ec122dabb87ac035?cid=11419dac9f88424c93dd910d7d82a6bc', 'id': '1aKvZDoLGkNMxoRYgkckZG'}, {'album': 'By the Way (Deluxe Edition)', 'artist': 'Red Hot Chili Peppers', 'cover_image_url': 'https://i.scdn.co/image/ab67616d0000b273de1af2785a83cc660155a0c4', 'genre': 'alt-rock', 'name': \"Can't Stop\", 'preview_url': 'https://p.scdn.co/mp3-preview/1b3bc0aca1746a99cbb8dd07b2325f6499b58a2e?cid=11419dac9f88424c93dd910d7d82a6bc', 'id': '2KslE17cAJNHTsI2MI0jb2'}, {'album': 'GOLDEN', 'artist': 'Jung Kook', 'cover_image_url': 'https://i.scdn.co/image/ab67616d0000b273741fd4807f442af3f7359316', 'genre': 'k-pop', 'name': 'Seven (feat. Latto) (Explicit Ver.)', 'preview_url': 'https://p.scdn.co/mp3-preview/c6f315711a77fba52139f54587afa7e7d16a1232?cid=11419dac9f88424c93dd910d7d82a6bc', 'id': '09keT5ocFhEd5W5HidiUNq'}, {'album': 'K.I.D.S. (Deluxe)', 'artist': 'Mac Miller', 'cover_image_url': 'https://i.scdn.co/image/ab67616d0000b273463d73e65c7b95a17898388b', 'genre': 'hip-hop', 'name': 'The Spins', 'preview_url': 'https://p.scdn.co/mp3-preview/8646d3b6544d0126b5b48d36aa857ac4a4a1d82f?cid=11419dac9f88424c93dd910d7d82a6bc', 'id': '38tXZcL1gZRfbqfOG0VMTH'}, {'album': 'Silver Side Up', 'artist': 'Nickelback', 'cover_image_url': 'https://i.scdn.co/image/ab67616d0000b273699a422d25adc550dc5aa11c', 'genre': 'alt-rock', 'name': 'How You Remind Me', 'preview_url': 'https://p.scdn.co/mp3-preview/94fd201045f5b682935957a8206075638dc4622d?cid=11419dac9f88424c93dd910d7d82a6bc', 'id': '2nRMW95dnOILirpjbksLTs'}, {'album': 'Un Verano Sin Ti', 'artist': 'Bad Bunny', 'cover_image_url': 'https://i.scdn.co/image/ab67616d0000b27349d694203245f241a1bcaa72', 'genre': 'latin', 'name': 'Tití Me Preguntó', 'preview_url': 'https://p.scdn.co/mp3-preview/53a6217761f8fdfcff92189cafbbd1cc21fdb813?cid=11419dac9f88424c93dd910d7d82a6bc', 'id': '5ocSQW5sIUIOFojwXEz9Ki'}, {'album': 'Alibi (with Pabllo Vittar & Yseult)', 'artist': 'Sevdaliza', 'cover_image_url': 'https://i.scdn.co/image/ab67616d0000b2734ee35e37bc21fe929a4d3605', 'genre': 'alternative', 'name': 'Alibi (with Pabllo Vittar & Yseult)', 'preview_url': 'https://p.scdn.co/mp3-preview/34bb0d7c097327243188a812827db8ee336ac10a?cid=11419dac9f88424c93dd910d7d82a6bc', 'id': '2HRgqmZQC0MC7GeNuDIXHN'}, {'album': 'Bookends', 'artist': 'Simon & Garfunkel', 'cover_image_url': 'https://i.scdn.co/image/ab67616d0000b273d8fb5b4308dc27f210064ef4', 'genre': 'folk', 'name': 'Mrs. Robinson - From \"The Graduate\" Soundtrack', 'preview_url': 'https://p.scdn.co/mp3-preview/b48d5e6bd6312c23e674b6d3c5293438190cd99b?cid=11419dac9f88424c93dd910d7d82a6bc', 'id': '0V2passWyAXnON67kfAj7y'}, {'album': 'Never Trust a Happy Song', 'artist': 'GROUPLOVE', 'cover_image_url': 'https://i.scdn.co/image/ab67616d0000b273d84a9bbcba91cb6a4a212b1b', 'genre': 'alt-rock', 'name': 'Tongue Tied', 'preview_url': 'https://p.scdn.co/mp3-preview/6082516f3c05520cc2cf8cecd17e4ce8667c459e?cid=11419dac9f88424c93dd910d7d82a6bc', 'id': '5sdQOyqq2IDhvmx2lHOpwd'}, {'album': 'The Dock of the Bay (Mono)', 'artist': 'Otis Redding', 'cover_image_url': 'https://i.scdn.co/image/ab67616d0000b2730acddc8ccf8d14858fbeddf5', 'genre': 'blues', 'name': \"(Sittin' On) the Dock of the Bay\", 'preview_url': 'https://p.scdn.co/mp3-preview/6b33eae61b9232d7c5d0c1917befb306d2bf3a7c?cid=11419dac9f88424c93dd910d7d82a6bc', 'id': '4e1aewX6ATPcdfQIqr7gqO'}, {'album': 'BEST INTEREST', 'artist': 'Tyler, The Creator', 'cover_image_url': 'https://i.scdn.co/image/ab67616d0000b273ab8995f18dc3dd9f34a6acd4', 'genre': 'hip-hop', 'name': 'BEST INTEREST', 'preview_url': 'https://p.scdn.co/mp3-preview/cf36ca28a947227ba28d7ac88bfd7aec8b49e55f?cid=11419dac9f88424c93dd910d7d82a6bc', 'id': '74X2u8JMVooG2QbjRxXwR8'}, {'album': 'Toxicity', 'artist': 'System Of A Down', 'cover_image_url': 'https://i.scdn.co/image/ab67616d0000b27330d45198d0c9e8841f9a9578', 'genre': 'metal', 'name': 'Aerials', 'preview_url': 'https://p.scdn.co/mp3-preview/62519a7fdafa1797793f010d53efbfee3e9a86ad?cid=11419dac9f88424c93dd910d7d82a6bc', 'id': '42VsgItocQwOQC3XWZ8JNA'}, {'album': 'A Bar Song (Tipsy)', 'artist': 'Shaboozey', 'cover_image_url': 'https://i.scdn.co/image/ab67616d0000b27380d86d636244b72a3a1eede2', 'genre': 'pop', 'name': 'A Bar Song (Tipsy)', 'preview_url': 'https://p.scdn.co/mp3-preview/59f68f3e96233e3c352659053dd48039790cd965?cid=11419dac9f88424c93dd910d7d82a6bc', 'id': '6wsqVwoiVH2kde4k4KKAFU'}, {'album': 'ASTROWORLD', 'artist': 'Travis Scott', 'cover_image_url': 'https://i.scdn.co/image/ab67616d0000b273072e9faef2ef7b6db63834a3', 'genre': 'house', 'name': 'SICKO MODE', 'preview_url': 'https://p.scdn.co/mp3-preview/8229545ded5cacf393f62b17af653dfc8171fc85?cid=11419dac9f88424c93dd910d7d82a6bc', 'id': '3eekarcy7kvN4yt5ZFzltW'}, {'album': 'Toxicity', 'artist': 'System Of A Down', 'cover_image_url': 'https://i.scdn.co/image/ab67616d0000b27330d45198d0c9e8841f9a9578', 'genre': 'alt-rock', 'name': 'Chop Suey!', 'preview_url': 'https://p.scdn.co/mp3-preview/d536012652d7c99c472fe3811312ce3026f2196b?cid=11419dac9f88424c93dd910d7d82a6bc', 'id': '2cYqizR4lgvp4Qu6IQ3qGN'}, {'album': '14 minutes', 'artist': 'Dominic Fike', 'cover_image_url': 'https://i.scdn.co/image/ab67616d0000b273abdde781e79a44868914e661', 'genre': 'alt-rock', 'name': 'misses', 'preview_url': 'https://p.scdn.co/mp3-preview/4303daf566d5e5adabf2fe733a3a486518e02259?cid=11419dac9f88424c93dd910d7d82a6bc', 'id': '6gBFPUFcJLzWGx4lenP6h2'}, {'album': 'Perfect Night', 'artist': 'LE SSERAFIM', 'cover_image_url': 'https://i.scdn.co/image/ab67616d0000b2735e352f6eccf8cb96d0b247cc', 'genre': 'k-pop', 'name': 'Perfect Night', 'preview_url': 'https://p.scdn.co/mp3-preview/4e84e2dc9edab896f88263c634e88f39a6db61e1?cid=11419dac9f88424c93dd910d7d82a6bc', 'id': '2xLMifQCjDGFmkHkpNLD9h'}, {'album': 'FACE', 'artist': 'Jimin', 'cover_image_url': 'https://i.scdn.co/image/ab67616d0000b2732b46078245d0120690eb560d', 'genre': 'k-pop', 'name': 'Like Crazy', 'preview_url': 'https://p.scdn.co/mp3-preview/2db5f36096963d97afc870c50990d62d27858a43?cid=11419dac9f88424c93dd910d7d82a6bc', 'id': '3xby7fOyqmeON8jsnom0AT'}, {'album': 'Vol. 3: The Subliminal Verses', 'artist': 'Slipknot', 'cover_image_url': 'https://i.scdn.co/image/ab67616d0000b2736b3463e7160d333ada4b175a', 'genre': 'metal', 'name': 'Duality', 'preview_url': 'https://p.scdn.co/mp3-preview/c46be58f34877ead8678a37da8f19f2b838b0409?cid=11419dac9f88424c93dd910d7d82a6bc', 'id': '1BJJbSX6muJVF2AK7uH1x4'}, {'album': 'Oracular Spectacular', 'artist': 'MGMT', 'cover_image_url': 'https://i.scdn.co/image/ab67616d0000b2738b32b139981e79f2ebe005eb', 'genre': 'alt-rock', 'name': 'Electric Feel', 'preview_url': 'https://p.scdn.co/mp3-preview/b288d1b3245bfa82243267c77fe152dbd696f3c8?cid=11419dac9f88424c93dd910d7d82a6bc', 'id': '0AjmK0Eai4zGrLaJwPvrDp'}, {'album': 'Cigarettes After Sex', 'artist': 'Cigarettes After Sex', 'cover_image_url': 'https://i.scdn.co/image/ab67616d0000b27312b69bf576f5e80291f75161', 'genre': 'ambient', 'name': 'K.', 'preview_url': 'https://p.scdn.co/mp3-preview/7d324f82bab99a67b40bac2b9c579b5c338e37dc?cid=11419dac9f88424c93dd910d7d82a6bc', 'id': '2QjOHCTQ1Jl3zawyYOpxh6'}, {'album': 'Mirame', 'artist': 'Blessd', 'cover_image_url': 'https://i.scdn.co/image/ab67616d0000b273b62a2ec2d61d48f34a368144', 'genre': 'latin', 'name': 'Mirame', 'preview_url': 'https://p.scdn.co/mp3-preview/cf9cff03daa5212aa20048d2436e4341e14e1a1a?cid=11419dac9f88424c93dd910d7d82a6bc', 'id': '6WTFHKrnZpwEBLRS10Ylqs'}, {'album': 'EASY', 'artist': 'LE SSERAFIM', 'cover_image_url': 'https://i.scdn.co/image/ab67616d0000b273110f5426b8c149e80804912a', 'genre': 'k-pop', 'name': 'EASY', 'preview_url': 'https://p.scdn.co/mp3-preview/7e3680a45812af4e7d50e0cb3afc2c97369dcb08?cid=11419dac9f88424c93dd910d7d82a6bc', 'id': '48UPSzbZjgc449aqz8bxox'}, {'album': 'Wanted on Voyage (Expanded Edition)', 'artist': 'George Ezra', 'cover_image_url': 'https://i.scdn.co/image/ab67616d0000b273d6df3bccf3ec41ea2f76debc', 'genre': 'folk', 'name': 'Budapest', 'preview_url': 'https://p.scdn.co/mp3-preview/03e6f12a87c862370fe965eb330fbcab1f2ee93f?cid=11419dac9f88424c93dd910d7d82a6bc', 'id': '2nLtzopw4rPReszdYBJU6h'}, {'album': 'Stargazing', 'artist': 'Myles Smith', 'cover_image_url': 'https://i.scdn.co/image/ab67616d0000b27381b12e1a0584e8ea7ba2ae4a', 'genre': 'pop', 'name': 'Stargazing', 'preview_url': 'https://p.scdn.co/mp3-preview/e645f231787fd914d1cc263644dd7839a2260ef7?cid=11419dac9f88424c93dd910d7d82a6bc', 'id': '0d28khcov6AiegSCpG5TuT'}, {'album': 'five seconds flat', 'artist': 'Lizzy McAlpine', 'cover_image_url': 'https://i.scdn.co/image/ab67616d0000b273d370fdc4dbc47778b9b667c3', 'genre': 'folk', 'name': 'ceilings', 'preview_url': 'https://p.scdn.co/mp3-preview/580782ffb17d468fe5d000bdf86cc07926ff9a5a?cid=11419dac9f88424c93dd910d7d82a6bc', 'id': '3FtYbEfBqAlGO46NUDQSAt'}, {'album': 'Cigarettes After Sex', 'artist': 'Cigarettes After Sex', 'cover_image_url': 'https://i.scdn.co/image/ab67616d0000b27312b69bf576f5e80291f75161', 'genre': 'ambient', 'name': 'Apocalypse', 'preview_url': 'https://p.scdn.co/mp3-preview/1f89f0156113dfb87572382b531459bb8cb711a1?cid=11419dac9f88424c93dd910d7d82a6bc', 'id': '5E30LdtzQTGqRvNd7l6kG5'}, {'album': \"Onka's Big Moka\", 'artist': 'Toploader', 'cover_image_url': 'https://i.scdn.co/image/ab67616d0000b273e16a6534cd5a968a5b725d03', 'genre': 'british', 'name': 'Dancing in the Moonlight', 'preview_url': 'https://p.scdn.co/mp3-preview/6d259dc3c9bc978297f609514799792ab6d76eb3?cid=11419dac9f88424c93dd910d7d82a6bc', 'id': '3ZOEytgrvLwQaqXreDs2Jx'}, {'album': 'Elephant', 'artist': 'The White Stripes', 'cover_image_url': 'https://i.scdn.co/image/ab67616d0000b273a69f71a8794e2d867a52f98f', 'genre': 'alt-rock', 'name': 'Seven Nation Army', 'preview_url': 'https://p.scdn.co/mp3-preview/eca519f0a85862d9510d57d59df557081d375e3a?cid=11419dac9f88424c93dd910d7d82a6bc', 'id': '7w87IxuO7BDcJ3YUqCyMTT'}, {'album': 'Skyfall', 'artist': 'Adele', 'cover_image_url': 'https://i.scdn.co/image/ab67616d0000b2732737be35cc5245eef495be90', 'genre': 'british', 'name': 'Skyfall', 'preview_url': 'https://p.scdn.co/mp3-preview/d5c38cc8a0f4b3e01a5a688497d6b0e89da5f1c8?cid=11419dac9f88424c93dd910d7d82a6bc', 'id': '2DlHlPMa4M17kufBvI2lEN'}, {'album': 'Pink Skies', 'artist': 'Zach Bryan', 'cover_image_url': 'https://i.scdn.co/image/ab67616d0000b2731a2c9ac2d39bc5c2e22b9555', 'genre': 'country', 'name': 'Pink Skies', 'preview_url': 'https://p.scdn.co/mp3-preview/21b3562e4483a8b6204f99a0614206b819378ef8?cid=11419dac9f88424c93dd910d7d82a6bc', 'id': '0GO8y8jQk1PkHzS31d699N'}, {'album': 'Parking Lot', 'artist': 'Mustard', 'cover_image_url': 'https://i.scdn.co/image/ab67616d0000b273ad3e25785fe6f26690797468', 'genre': 'hip-hop', 'name': 'Parking Lot', 'preview_url': 'https://p.scdn.co/mp3-preview/201aca7ea70c426a8ddcb3c90b75371c4009583a?cid=11419dac9f88424c93dd910d7d82a6bc', 'id': '4kbj5MwxO1bq9wjT5g9HaA'}, {'album': 'ATE', 'artist': 'Stray Kids', 'cover_image_url': 'https://i.scdn.co/image/ab67616d0000b27351700837cdbc6adddb88560a', 'genre': 'k-pop', 'name': 'Chk Chk Boom', 'preview_url': 'https://p.scdn.co/mp3-preview/54bb9c5e0b747c88d8d629055540c9f43de486c4?cid=11419dac9f88424c93dd910d7d82a6bc', 'id': '7zwn1eykZtZ5LODrf7c0tS'}, {'album': 'Sticky', 'artist': 'KISS OF LIFE', 'cover_image_url': 'https://i.scdn.co/image/ab67616d0000b2734cd7f69b85766b3d3035c27c', 'genre': 'k-pop', 'name': 'Sticky', 'preview_url': 'https://p.scdn.co/mp3-preview/22524fd964bdcb1a25da7c9b2eeaecf250e3c46f?cid=11419dac9f88424c93dd910d7d82a6bc', 'id': '60a0Rd6pjrkxjPbaKzXjfq'}, {'album': 'Saturn', 'artist': 'SZA', 'cover_image_url': 'https://i.scdn.co/image/ab67616d0000b273d70916ee9e40c90380ba5f07', 'genre': 'pop', 'name': 'Saturn', 'preview_url': 'https://p.scdn.co/mp3-preview/74f603e906ab7a5409cf2edc6dda326ebe7c1d49?cid=11419dac9f88424c93dd910d7d82a6bc', 'id': '2tznHmp70DxMyr2XhWLOW0'}, {'album': 'UTOPIA', 'artist': 'Travis Scott', 'cover_image_url': 'https://i.scdn.co/image/ab67616d0000b273881d8d8378cd01099babcd44', 'genre': 'house', 'name': 'I KNOW ?', 'preview_url': 'https://p.scdn.co/mp3-preview/71d86e04987feee653ae3087aa76e782bced382d?cid=11419dac9f88424c93dd910d7d82a6bc', 'id': '3d9DChrdc6BOeFsbrZ3Is0'}, {'album': 'Pablo Honey', 'artist': 'Radiohead', 'cover_image_url': 'https://i.scdn.co/image/ab67616d0000b273df55e326ed144ab4f5cecf95', 'genre': 'alt-rock', 'name': 'Creep', 'preview_url': 'https://p.scdn.co/mp3-preview/713b601d02641a850f2a3e6097aacaff52328d57?cid=11419dac9f88424c93dd910d7d82a6bc', 'id': '2K7xn816oNHJZ0aVqdQsha'}, {'album': 'nadie sabe lo que va a pasar mañana', 'artist': 'Bad Bunny', 'cover_image_url': 'https://i.scdn.co/image/ab67616d0000b2737b1fc51ff3257b5286a1ecec', 'genre': 'latin', 'name': 'PERRO NEGRO', 'preview_url': 'https://p.scdn.co/mp3-preview/56ebd640e918ff135fed691da3c5697568e60a77?cid=11419dac9f88424c93dd910d7d82a6bc', 'id': '3K4HG9evC7dg3N0R9cYqk4'}, {'album': 'Toxicity', 'artist': 'System Of A Down', 'cover_image_url': 'https://i.scdn.co/image/ab67616d0000b27330d45198d0c9e8841f9a9578', 'genre': 'alt-rock', 'name': 'Toxicity', 'preview_url': 'https://p.scdn.co/mp3-preview/d9b89161dacbb987b360417346591712c4023abd?cid=11419dac9f88424c93dd910d7d82a6bc', 'id': '0gmbgwZ8iqyMPmXefof8Yf'}, {'album': 'HIGHEST IN THE ROOM', 'artist': 'Travis Scott', 'cover_image_url': 'https://i.scdn.co/image/ab67616d0000b273e42b5fea4ac4c3d6328b622b', 'genre': 'house', 'name': 'HIGHEST IN THE ROOM', 'preview_url': 'https://p.scdn.co/mp3-preview/387b31c31b72f0c16e33d0c78bab869b0a0f4eb3?cid=11419dac9f88424c93dd910d7d82a6bc', 'id': '5UWwZ5lm5PKu6eKsHAGxOk'}, {'album': 'Never Let Go', 'artist': 'Jung Kook', 'cover_image_url': 'https://i.scdn.co/image/ab67616d0000b273083f5a45d93b57cb65a97b83', 'genre': 'k-pop', 'name': 'Never Let Go', 'preview_url': 'https://p.scdn.co/mp3-preview/636c9dd14d54b2d025dbf52babbed94fe90e60c8?cid=11419dac9f88424c93dd910d7d82a6bc', 'id': '1G391cbiT3v3Cywg8T7DM1'}, {'album': \"NewJeans 'Super Shy'\", 'artist': 'NewJeans', 'cover_image_url': 'https://i.scdn.co/image/ab67616d0000b2733d98a0ae7c78a3a9babaf8af', 'genre': 'k-pop', 'name': 'Super Shy', 'preview_url': 'https://p.scdn.co/mp3-preview/dab062e2cc708a2680ce84953a3581c5a679a230?cid=11419dac9f88424c93dd910d7d82a6bc', 'id': '70LcF31zb1H0PyJoS1Sx1r'}, {'album': 'Hard To Imagine The Neighbourhood Ever Changing', 'artist': 'The Neighbourhood', 'cover_image_url': 'https://i.scdn.co/image/ab67616d0000b2739b6ac98a52f62d5cb473da40', 'genre': 'alt-rock', 'name': 'Softcore', 'preview_url': 'https://p.scdn.co/mp3-preview/dd4996bcd5ea34f70d66213a698a4e9879f69907?cid=11419dac9f88424c93dd910d7d82a6bc', 'id': '3dPQuX8Gs42Y7b454ybpMR'}, {'album': 'Cigarettes After Sex', 'artist': 'Cigarettes After Sex', 'cover_image_url': 'https://i.scdn.co/image/ab67616d0000b27312b69bf576f5e80291f75161', 'genre': 'ambient', 'name': 'Sunsetz', 'preview_url': 'https://p.scdn.co/mp3-preview/d345fd603b2b273feb377601de9a654c675bd147?cid=11419dac9f88424c93dd910d7d82a6bc', 'id': '6NjWCIYu1W8xa3HIvcIhd4'}, {'album': 'ROMANCE : UNTOLD', 'artist': 'ENHYPEN', 'cover_image_url': 'https://i.scdn.co/image/ab67616d0000b273653887a83332de0350151f10', 'genre': 'anime', 'name': 'XO (Only If You Say Yes)', 'preview_url': 'https://p.scdn.co/mp3-preview/f9eec39cadafc605c12531cd4c113f158e9dc6d1?cid=11419dac9f88424c93dd910d7d82a6bc', 'id': '0snQkGI5qnAmohLE7jTsTn'}, {'album': 'GOLDEN', 'artist': 'Jung Kook', 'cover_image_url': 'https://i.scdn.co/image/ab67616d0000b273741fd4807f442af3f7359316', 'genre': 'k-pop', 'name': 'Standing Next to You', 'preview_url': 'https://p.scdn.co/mp3-preview/b1cac49f0f6043eae3a0c0557fe16a9579fbc519?cid=11419dac9f88424c93dd910d7d82a6bc', 'id': '20I8RduZC2PWMWTDCZuuAN'}, {'album': 'Pretty Boy, Dirty Boy', 'artist': 'Maluma', 'cover_image_url': 'https://i.scdn.co/image/ab67616d0000b2733c3acd23605ccd1a9fd038bd', 'genre': 'latino', 'name': 'Borro Cassette', 'preview_url': 'https://p.scdn.co/mp3-preview/e39800189ab118cb37bd21c0d3e37b7638a6108d?cid=11419dac9f88424c93dd910d7d82a6bc', 'id': '0yc6Gst2xkRu0eMLeRMGCX'}, {'album': 'I Love You.', 'artist': 'The Neighbourhood', 'cover_image_url': 'https://i.scdn.co/image/ab67616d0000b2738265a736a1eb838ad5a0b921', 'genre': 'alt-rock', 'name': 'Sweater Weather', 'preview_url': 'https://p.scdn.co/mp3-preview/877602f424a9dea277b13301ffc516f9fd1fbe7e?cid=11419dac9f88424c93dd910d7d82a6bc', 'id': '1FWsomP9StpCcXNWmJk8Cl'}, {'album': 'KEHLANI', 'artist': 'Jordan Adetunji', 'cover_image_url': 'https://i.scdn.co/image/ab67616d0000b273f2cd132495d61b0da6a900d2', 'genre': 'hip-hop', 'name': 'KEHLANI', 'preview_url': 'https://p.scdn.co/mp3-preview/2ad9f03400a1744633dec4b907a3d5110931f973?cid=11419dac9f88424c93dd910d7d82a6bc', 'id': '5496lks6V3fh1mZAB6IAap'}, {'album': 'ASTROWORLD', 'artist': 'Travis Scott', 'cover_image_url': 'https://i.scdn.co/image/ab67616d0000b273072e9faef2ef7b6db63834a3', 'genre': 'house', 'name': 'BUTTERFLY EFFECT', 'preview_url': 'https://p.scdn.co/mp3-preview/68cba40a7199c972c7a2ad0df063c4d1f5e3dc73?cid=11419dac9f88424c93dd910d7d82a6bc', 'id': '3p4hRhMcb6ch8OLtATMaLw'}, {'album': 'Tres Hombres (Expanded 2006 Remaster)', 'artist': 'ZZ Top', 'cover_image_url': 'https://i.scdn.co/image/ab67616d0000b273db9c5945ce3a3f873695d18a', 'genre': 'blues', 'name': 'La Grange (2005 Remaster)', 'preview_url': 'https://p.scdn.co/mp3-preview/1de566ed732e7c2762c9c4432eb1ac3f6fa41d39?cid=11419dac9f88424c93dd910d7d82a6bc', 'id': '6ilc4vQcwMPlvAHFfsTGng'}, {'album': 'Hyperion', 'artist': 'Gesaffelstein', 'cover_image_url': 'https://i.scdn.co/image/ab67616d0000b2737842fd51802451ff61483dcf', 'genre': 'club', 'name': 'Lost in the Fire (feat. The Weeknd)', 'preview_url': 'https://p.scdn.co/mp3-preview/bb6be3c611177685ba91254a63aae326c6143739?cid=11419dac9f88424c93dd910d7d82a6bc', 'id': '3zBhihYUHBmGd2bcQIobrF'}, {'album': 'Melophobia', 'artist': 'Cage The Elephant', 'cover_image_url': 'https://i.scdn.co/image/ab67616d0000b273fb1cb900d28642e668d77b12', 'genre': 'alt-rock', 'name': 'Cigarette Daydreams', 'preview_url': 'https://p.scdn.co/mp3-preview/a7a72315d777f4ed078d955238f9db158c915fc1?cid=11419dac9f88424c93dd910d7d82a6bc', 'id': '3RkSwrsIadAvqVtMp5yhaB'}, {'album': 'Cry', 'artist': 'Cigarettes After Sex', 'cover_image_url': 'https://i.scdn.co/image/ab67616d0000b273fd275af89cec73d6287f9cbf', 'genre': 'ambient', 'name': 'Cry', 'preview_url': 'https://p.scdn.co/mp3-preview/7682cdfb95bb8aaa6654a7c88687341cc9e350b7?cid=11419dac9f88424c93dd910d7d82a6bc', 'id': '0SpkyS1Q4MD8GaVcP5YjT4'}, {'album': 'NA', 'artist': 'NAYEON', 'cover_image_url': 'https://i.scdn.co/image/ab67616d0000b27373f05e5c2f5ec5cd07c6b6d9', 'genre': 'k-pop', 'name': 'ABCD', 'preview_url': 'https://p.scdn.co/mp3-preview/685d9ad0377867e5c2417b54f961121e565c67a0?cid=11419dac9f88424c93dd910d7d82a6bc', 'id': '1Hv1VTm8zeOeybub15mA2R'}, {'album': 'Birds In The Trap Sing McKnight', 'artist': 'Travis Scott', 'cover_image_url': 'https://i.scdn.co/image/ab67616d0000b273f54b99bf27cda88f4a7403ce', 'genre': 'house', 'name': 'goosebumps', 'preview_url': 'https://p.scdn.co/mp3-preview/5c45fee2743d39984ed2c1e2493d04a42d626f81?cid=11419dac9f88424c93dd910d7d82a6bc', 'id': '3lMzT16MjAKKXF7pSZn13B'}, {'album': 'Torches', 'artist': 'Foster The People', 'cover_image_url': 'https://i.scdn.co/image/ab67616d0000b273121d5f92cf90576907dfb1e5', 'genre': 'alt-rock', 'name': 'Pumped Up Kicks', 'preview_url': 'https://p.scdn.co/mp3-preview/2213bf4173a9b50a807a30121ed6b559a7778209?cid=11419dac9f88424c93dd910d7d82a6bc', 'id': '4ZJ4vzLQekI0WntDbanNC7'}, {'album': 'Tell Ur Girlfriend', 'artist': 'Lay Bankz', 'cover_image_url': 'https://i.scdn.co/image/ab67616d0000b273a8dbff429bc95d3af651fe08', 'genre': 'club', 'name': 'Tell Ur Girlfriend', 'preview_url': 'https://p.scdn.co/mp3-preview/684d1a76fada90d9c5d63e12b8f111618e682c78?cid=11419dac9f88424c93dd910d7d82a6bc', 'id': '6VObnIkLVruX4UVyxWhlqm'}, {'album': 'Closer Than This', 'artist': 'Jimin', 'cover_image_url': 'https://i.scdn.co/image/ab67616d0000b273e3dbc03f538633dbb40adf37', 'genre': 'k-pop', 'name': 'Closer Than This', 'preview_url': 'https://p.scdn.co/mp3-preview/ff12ac1c765f63cf54ab1e4a4e6dfa72d958c2de?cid=11419dac9f88424c93dd910d7d82a6bc', 'id': '0u6JFVn0KHHlidZxNL9gVE'}, {'album': 'Heading South', 'artist': 'Zach Bryan', 'cover_image_url': 'https://i.scdn.co/image/ab67616d0000b273f9017bcd001d030d46850226', 'genre': 'country', 'name': 'Heading South', 'preview_url': 'https://p.scdn.co/mp3-preview/93aa7e2fe20c76296a5d256a8e19187a015fb1c7?cid=11419dac9f88424c93dd910d7d82a6bc', 'id': '5iJKGpnFfvbjZJeAtwXfCj'}, {'album': 'Californication (Deluxe Edition)', 'artist': 'Red Hot Chili Peppers', 'cover_image_url': 'https://i.scdn.co/image/ab67616d0000b27394d08ab63e57b0cae74e8595', 'genre': 'alt-rock', 'name': 'Scar Tissue', 'preview_url': 'https://p.scdn.co/mp3-preview/5aa4aff376bccc73f7fa7df2954649e30a56c4b1?cid=11419dac9f88424c93dd910d7d82a6bc', 'id': '3JvKfv6T31zO0ini8iNItO'}, {'album': 'How Sweet', 'artist': 'NewJeans', 'cover_image_url': 'https://i.scdn.co/image/ab67616d0000b273b657fbb27b17e7bd4691c2b2', 'genre': 'k-pop', 'name': 'How Sweet', 'preview_url': 'https://p.scdn.co/mp3-preview/690e6951640ac995e47d19dc13ab44e9de9067f2?cid=11419dac9f88424c93dd910d7d82a6bc', 'id': '3Fzlg5r1IjhLk2qRw667od'}, {'album': 'An Innocent Man', 'artist': 'Billy Joel', 'cover_image_url': 'https://i.scdn.co/image/ab67616d0000b273814cbc4746358a25c84c62e7', 'genre': 'piano', 'name': 'Uptown Girl', 'preview_url': 'https://p.scdn.co/mp3-preview/62bccc2f61bb990df31d1a247a3bf69efd32da18?cid=11419dac9f88424c93dd910d7d82a6bc', 'id': '4KULAymBBJcPRpk1yO4dOG'}, {'album': 'Cigarettes After Sex', 'artist': 'Cigarettes After Sex', 'cover_image_url': 'https://i.scdn.co/image/ab67616d0000b27312b69bf576f5e80291f75161', 'genre': 'ambient', 'name': 'Sweet', 'preview_url': 'https://p.scdn.co/mp3-preview/3a0bc34d9e2f0f33c614d389f6116a6a63c5f9fa?cid=11419dac9f88424c93dd910d7d82a6bc', 'id': '46IZ0fSY2mpAiktS3KOqds'}, {'album': 'Zach Bryan', 'artist': 'Zach Bryan', 'cover_image_url': 'https://i.scdn.co/image/ab67616d0000b273e5a25ed08d1e7e0fbb440cef', 'genre': 'country', 'name': 'I Remember Everything (feat. Kacey Musgraves)', 'preview_url': 'https://p.scdn.co/mp3-preview/22b240f7ef2eff38bd12fb0c94dfea5e1d70e20a?cid=11419dac9f88424c93dd910d7d82a6bc', 'id': '2Dct3GykKZ58hpWRFfe2Qd'}, {'album': 'SUPER REAL ME', 'artist': 'ILLIT', 'cover_image_url': 'https://i.scdn.co/image/ab67616d0000b273f037c5fb9de6c78726cb8e2c', 'genre': 'k-pop', 'name': 'Magnetic', 'preview_url': 'https://p.scdn.co/mp3-preview/b3e85d7434b5fb072c7110197b3b896d04aa90e7?cid=11419dac9f88424c93dd910d7d82a6bc', 'id': '2vXKRlJBXyOcvZYTdNeckS'}, {'album': 'Hybrid Theory (Bonus Edition)', 'artist': 'Linkin Park', 'cover_image_url': 'https://i.scdn.co/image/ab67616d0000b273e2f039481babe23658fc719a', 'genre': 'alt-rock', 'name': 'In the End', 'preview_url': 'https://p.scdn.co/mp3-preview/b5ee275ca337899f762b1c1883c11e24a04075b0?cid=11419dac9f88424c93dd910d7d82a6bc', 'id': '3WMj8moIAXJhHsyLaqIIHI'}, {'album': 'Blood Sugar Sex Magik (Deluxe Edition)', 'artist': 'Red Hot Chili Peppers', 'cover_image_url': 'https://i.scdn.co/image/ab67616d0000b273153d79816d853f2694b2cc70', 'genre': 'alt-rock', 'name': 'Under the Bridge', 'preview_url': 'https://p.scdn.co/mp3-preview/46b0229c06712c5b5e143724c0617e51a9b6e432?cid=11419dac9f88424c93dd910d7d82a6bc', 'id': '1SjsVdSXpwm1kTdYEHoPIT'}, {'album': 'Wiped Out!', 'artist': 'The Neighbourhood', 'cover_image_url': 'https://i.scdn.co/image/ab67616d0000b2733066581d697fbdee4303d685', 'genre': 'alt-rock', 'name': 'Daddy Issues', 'preview_url': 'https://p.scdn.co/mp3-preview/d79918fba2888bf825a5edc938ce1f79ed12ff7b?cid=11419dac9f88424c93dd910d7d82a6bc', 'id': '0eBFgRxyVSeuT4iyrbukdn'}, {'album': \"Harry's House\", 'artist': 'Harry Styles', 'cover_image_url': 'https://i.scdn.co/image/ab67616d0000b2732e8ed79e177ff6011076f5f0', 'genre': 'pop', 'name': 'As It Was', 'preview_url': 'https://p.scdn.co/mp3-preview/c43dd07043b29e800c1a65b3a0102861fa3cf418?cid=11419dac9f88424c93dd910d7d82a6bc', 'id': '6GG4yyk3UATdBfTHVgI8PB'}, {'album': 'Volcano', 'artist': 'Jungle', 'cover_image_url': 'https://i.scdn.co/image/ab67616d0000b27377619f14cb03e11baf5761d1', 'genre': 'soul', 'name': 'Back On 74', 'preview_url': 'https://p.scdn.co/mp3-preview/917c42936efd732652eafa945def1d1fcab3b8e2?cid=11419dac9f88424c93dd910d7d82a6bc', 'id': '1mMLMZYXkMueg65jRRWG1l'}, {'album': '18 Months', 'artist': 'Calvin Harris', 'cover_image_url': 'https://i.scdn.co/image/ab67616d0000b273dcef905cb144d4867119850b', 'genre': 'dance', 'name': 'Feel So Close - Radio Edit', 'preview_url': 'https://p.scdn.co/mp3-preview/b8372b1a0b8d09a5004388a654f29bef6bc37021?cid=11419dac9f88424c93dd910d7d82a6bc', 'id': '698eQRku24PIYPQPHItKlA'}, {'album': 'Play Deep', 'artist': 'The Outfield', 'cover_image_url': 'https://i.scdn.co/image/ab67616d0000b273cd7e670a91d0263d2ee1d8a7', 'genre': 'power-pop', 'name': 'Your Love', 'preview_url': 'https://p.scdn.co/mp3-preview/bff1bf9d33dfeec5c01501b023a6c59a44af2be4?cid=11419dac9f88424c93dd910d7d82a6bc', 'id': '1Lo0QY9cvc8sUB2vnIOxDT'}, {'album': 'Miles On It', 'artist': 'Marshmello', 'cover_image_url': 'https://i.scdn.co/image/ab67616d0000b27300ac867eff7ed64be10a517c', 'genre': 'edm', 'name': 'Miles On It', 'preview_url': 'https://p.scdn.co/mp3-preview/f989c539f2f53126339e1dd7dbd9213f3b1349b2?cid=11419dac9f88424c93dd910d7d82a6bc', 'id': '0OWhKvvsHptt6vnnNUSM9a'}, {'album': 'Zach Bryan', 'artist': 'Zach Bryan', 'cover_image_url': 'https://i.scdn.co/image/ab67616d0000b273e5a25ed08d1e7e0fbb440cef', 'genre': 'country', 'name': 'Spotless (feat. The Lumineers)', 'preview_url': 'https://p.scdn.co/mp3-preview/dcc10c20620dbda4a373cbe59f3d4caa0e2bd212?cid=11419dac9f88424c93dd910d7d82a6bc', 'id': '0y5Ex8oQ8zCH5TQxHUy1Eo'}, {'album': 'September (sped up + slowed)', 'artist': 'Earth, Wind & Fire', 'cover_image_url': 'https://i.scdn.co/image/ab67616d0000b2730faf2fc17446651865ce2282', 'genre': 'disco', 'name': 'September', 'preview_url': 'https://p.scdn.co/mp3-preview/27390b5ac85b9dd997e8ae98a3356f0dd4a61f51?cid=11419dac9f88424c93dd910d7d82a6bc', 'id': '4pCbJC43j3gSqG6Fen6upD'}, {'album': 'Fanmail', 'artist': 'TLC', 'cover_image_url': 'https://i.scdn.co/image/ab67616d0000b27361ffafd5e31a37336531cf95', 'genre': 'dance', 'name': 'No Scrubs', 'preview_url': 'https://p.scdn.co/mp3-preview/87c4c3435b531616e2d642009a18eb711f87be4e?cid=11419dac9f88424c93dd910d7d82a6bc', 'id': '7aEtlGHoiPAfRB084NiDmx'}, {'album': 'Dookie', 'artist': 'Green Day', 'cover_image_url': 'https://i.scdn.co/image/ab67616d0000b273db89b08034de626ebee6823d', 'genre': 'punk', 'name': 'When I Come Around', 'preview_url': 'https://p.scdn.co/mp3-preview/ce95ec4b7666e7efe290782e449bd96ba8f7a4e5?cid=11419dac9f88424c93dd910d7d82a6bc', 'id': '0fCwTrRNfoNk962ati8n2K'}, {'album': 'Star Shopping', 'artist': 'Lil Peep', 'cover_image_url': 'https://i.scdn.co/image/ab67616d0000b2732568a5b51d322cbd987106f7', 'genre': 'emo', 'name': 'Star Shopping', 'preview_url': 'https://p.scdn.co/mp3-preview/d415dfca7346912ad65b904e06c8996a2ead8e06?cid=11419dac9f88424c93dd910d7d82a6bc', 'id': '2rxQMGVafnNaRaXlRMWPde'}, {'album': 'Raymond v Raymond (Expanded Edition)', 'artist': 'USHER', 'cover_image_url': 'https://i.scdn.co/image/ab67616d0000b27386b0c9728ad3ed338eaeea79', 'genre': 'dance', 'name': \"DJ Got Us Fallin' In Love (feat. Pitbull)\", 'preview_url': 'https://p.scdn.co/mp3-preview/1619c7342806281d286f0ba4125ff59e80663c56?cid=11419dac9f88424c93dd910d7d82a6bc', 'id': '73KAidtqbDftZjy8AD0H04'}, {'album': 'Burn, Burn, Burn', 'artist': 'Zach Bryan', 'cover_image_url': 'https://i.scdn.co/image/ab67616d0000b273d66d5ec15dc03aa57b78f5ff', 'genre': 'country', 'name': 'Burn, Burn, Burn', 'preview_url': 'https://p.scdn.co/mp3-preview/cbc77cc08d0b0fe89db0a7c1a6df2c98ba1da744?cid=11419dac9f88424c93dd910d7d82a6bc', 'id': '3xOi0YhDREKRURFHoNaAOQ'}, {'album': 'Tiroteo (Remix)', 'artist': 'Marc Seguí', 'cover_image_url': 'https://i.scdn.co/image/ab67616d0000b2735a048cbaa3385de9f723c699', 'genre': 'spanish', 'name': 'Tiroteo - Remix', 'preview_url': 'https://p.scdn.co/mp3-preview/93a840b4b0234a66c1f5e578abb758c44b1dda04?cid=11419dac9f88424c93dd910d7d82a6bc', 'id': '3c9EsIo34kil8Oj1reaozB'}, {'album': \"I Don't Wanna Wait\", 'artist': 'David Guetta', 'cover_image_url': 'https://i.scdn.co/image/ab67616d0000b2732f479a6c1825c1f29e0a3d49', 'genre': 'dance', 'name': \"I Don't Wanna Wait\", 'preview_url': 'https://p.scdn.co/mp3-preview/4cb51b19221d76ecd319faec63c4221c96d7fdd0?cid=11419dac9f88424c93dd910d7d82a6bc', 'id': '1vj47xD8v9wIhQrmQY2Dkv'}, {'album': \"Ain't No Love In Oklahoma (From Twisters: The Album)\", 'artist': 'Luke Combs', 'cover_image_url': 'https://i.scdn.co/image/ab67616d0000b27339808230102049beb62fdd7b', 'genre': 'country', 'name': \"Ain't No Love In Oklahoma (From Twisters: The Album)\", 'preview_url': 'https://p.scdn.co/mp3-preview/7b74f19b964aef85615e635192d4fcd9fbf297d3?cid=11419dac9f88424c93dd910d7d82a6bc', 'id': '5jfhLCSIFUO4ndzNRh4w4G'}, {'album': 'greedy', 'artist': 'Tate McRae', 'cover_image_url': 'https://i.scdn.co/image/ab67616d0000b27322fd802bc61db666c7c81aa8', 'genre': 'pop', 'name': 'greedy', 'preview_url': 'https://p.scdn.co/mp3-preview/ca7bdcb691fb64a5af8a3253b89356390664fcf1?cid=11419dac9f88424c93dd910d7d82a6bc', 'id': '4uzKAj0mIyYmyhsRRyPXaQ'}, {'album': 'Sweet Dreams (Are Made Of This)', 'artist': 'Eurythmics', 'cover_image_url': 'https://i.scdn.co/image/ab67616d0000b273b3994c94dfb241923664bb4d', 'genre': 'synth-pop', 'name': 'Sweet Dreams (Are Made of This) - Remastered', 'preview_url': 'https://p.scdn.co/mp3-preview/d69101dbd66295473706112d3edf978b70fc4550?cid=11419dac9f88424c93dd910d7d82a6bc', 'id': '5YqEzk3C5c3UZ1D5fJUlXA'}, {'album': 'a new star (1 9 9 3)', 'artist': 'Rels B', 'cover_image_url': 'https://i.scdn.co/image/ab67616d0000b2736a78a042e38096089d60841a', 'genre': 'spanish', 'name': 'Un Desperdicio', 'preview_url': 'https://p.scdn.co/mp3-preview/f8db7d054b3baf7184be3ca0d49607d62f457277?cid=11419dac9f88424c93dd910d7d82a6bc', 'id': '7FwBtcecmlpc1sLySPXeGE'}, {'album': 'Drops Of Jupiter', 'artist': 'Train', 'cover_image_url': 'https://i.scdn.co/image/ab67616d0000b273a65df73c4011b6a9357c89f0', 'genre': 'dance', 'name': 'Drops of Jupiter (Tell Me)', 'preview_url': 'https://p.scdn.co/mp3-preview/77dba6a6b863572958909814c9fee6d29f310a45?cid=11419dac9f88424c93dd910d7d82a6bc', 'id': '5uu2OCGGrTRS1sIvlMgKwe'}, {'album': 'Save Me, San Francisco (Golden Gate Edition)', 'artist': 'Train', 'cover_image_url': 'https://i.scdn.co/image/ab67616d0000b2736ff8bc258e3ebc835ffe14ca', 'genre': 'dance', 'name': 'Hey, Soul Sister', 'preview_url': 'https://p.scdn.co/mp3-preview/518c823cf0f8b862bed0fa45e34cc63db5ea58e4?cid=11419dac9f88424c93dd910d7d82a6bc', 'id': '50nfwKoDiSYg8zOCREWAm5'}, {'album': 'SOS', 'artist': 'SZA', 'cover_image_url': 'https://i.scdn.co/image/ab67616d0000b27370dbc9f47669d120ad874ec1', 'genre': 'pop', 'name': 'Snooze', 'preview_url': 'https://p.scdn.co/mp3-preview/8c53920b5fd2c3178afa36cac9eec68b5ee9204a?cid=11419dac9f88424c93dd910d7d82a6bc', 'id': '315aBOUD3xtj7sUMXtRgMV'}, {'album': 'Dookie', 'artist': 'Green Day', 'cover_image_url': 'https://i.scdn.co/image/ab67616d0000b273db89b08034de626ebee6823d', 'genre': 'punk', 'name': 'Basket Case', 'preview_url': 'https://p.scdn.co/mp3-preview/f055a866d726bac8593f15953d772c631505df7e?cid=11419dac9f88424c93dd910d7d82a6bc', 'id': '19kHhX6f6EfLU7rcO3RqjO'}, {'album': '24K Magic', 'artist': 'Bruno Mars', 'cover_image_url': 'https://i.scdn.co/image/ab67616d0000b273232711f7d66a1e19e89e28c5', 'genre': 'dance', 'name': \"That's What I Like\", 'preview_url': 'https://p.scdn.co/mp3-preview/93046e987d8c5bfdbeea2768ac1a8ecea17bd7e0?cid=11419dac9f88424c93dd910d7d82a6bc', 'id': '2LMkwUfqC6S6s6qDVlEuzV'}, {'album': 'The Great American Bar Scene', 'artist': 'Zach Bryan', 'cover_image_url': 'https://i.scdn.co/image/ab67616d0000b273647ad18a07e9e939e399e5a1', 'genre': 'country', 'name': 'Better Days (feat. John Mayer)', 'preview_url': 'https://p.scdn.co/mp3-preview/10a12f60d4693e81691f375e5041e1b7c70c531b?cid=11419dac9f88424c93dd910d7d82a6bc', 'id': '3U4isOIWM3VvDubwSI3y7a'}, {'album': 'you look like you love me (feat. Riley Green)', 'artist': 'Ella Langley', 'cover_image_url': 'https://i.scdn.co/image/ab67616d0000b27398ec50a022a61a0286f0be1c', 'genre': 'country', 'name': 'you look like you love me (feat. Riley Green)', 'preview_url': 'https://p.scdn.co/mp3-preview/23747e3344e13a359439fb5d2167a79fb5761696?cid=11419dac9f88424c93dd910d7d82a6bc', 'id': '32OlwWuMpZ6b0aN2RZOeMS'}, {'album': 'Planet Pit (Deluxe Version)', 'artist': 'Pitbull', 'cover_image_url': 'https://i.scdn.co/image/ab67616d0000b2731dc7483a9fcfce54822a2f19', 'genre': 'dance', 'name': 'Give Me Everything (feat. Nayer)', 'preview_url': 'https://p.scdn.co/mp3-preview/6eafa4293d2b35b2e75ffab5ec1bba8ec00d5082?cid=11419dac9f88424c93dd910d7d82a6bc', 'id': '6kopmMZiyLmw7h66uXcXR7'}, {'album': 'Fireworks & Rollerblades', 'artist': 'Benson Boone', 'cover_image_url': 'https://i.scdn.co/image/ab67616d0000b273cc04ff3e70e146ba9abacf40', 'genre': 'pop', 'name': 'Beautiful Things', 'preview_url': 'https://p.scdn.co/mp3-preview/e213f23e6fe5938299eebbe364d06c1682a6619f?cid=11419dac9f88424c93dd910d7d82a6bc', 'id': '58zsLZPvfflaiIbNWoA22O'}, {'album': 'Unorthodox Jukebox', 'artist': 'Bruno Mars', 'cover_image_url': 'https://i.scdn.co/image/ab67616d0000b273926f43e7cce571e62720fd46', 'genre': 'dance', 'name': 'Locked out of Heaven', 'preview_url': 'https://p.scdn.co/mp3-preview/5a0318e6c43964786d22b9431af35490e96cff3d?cid=11419dac9f88424c93dd910d7d82a6bc', 'id': '75qepWUT3FEyPyXQMMMVZm'}, {'album': 'Blonde', 'artist': 'Frank Ocean', 'cover_image_url': 'https://i.scdn.co/image/ab67616d0000b273c5649add07ed3720be9d5526', 'genre': 'soul', 'name': 'White Ferrari', 'preview_url': 'https://p.scdn.co/mp3-preview/bff77236970b7f90cdfc274b18b55ce7bf584bcc?cid=11419dac9f88424c93dd910d7d82a6bc', 'id': '4OwhwvKESFtuu06dTgct7i'}, {'album': 'Diplo Presents Thomas Wesley: Chapter 1 - Snake Oil', 'artist': 'Diplo', 'cover_image_url': 'https://i.scdn.co/image/ab67616d0000b273d79c10cdf4a58309a37d195a', 'genre': 'dance', 'name': 'Heartless (feat. Morgan Wallen)', 'preview_url': 'https://p.scdn.co/mp3-preview/64f9de825007fbd32c5c066346961cfcdb8d0eaa?cid=11419dac9f88424c93dd910d7d82a6bc', 'id': '7MmrcXVA7A5zZ2CbDuGHNa'}, {'album': 'Love In The Future (Expanded Edition)', 'artist': 'John Legend', 'cover_image_url': 'https://i.scdn.co/image/ab67616d0000b27394c9217a398f5174757c0c78', 'genre': 'soul', 'name': 'All of Me', 'preview_url': 'https://p.scdn.co/mp3-preview/29f542e5e8b4b6bb7e4e71a52bc3ff35b6b962ad?cid=11419dac9f88424c93dd910d7d82a6bc', 'id': '2WfaOiMkCvy7F5fcp2zZ8L'}, {'album': 'JOYRIDE', 'artist': 'Kesha', 'cover_image_url': 'https://i.scdn.co/image/ab67616d0000b273336f6fbf3007f73a9782b026', 'genre': 'dance', 'name': 'JOYRIDE', 'preview_url': 'https://p.scdn.co/mp3-preview/8d1ec5ff1ce87253fa171515beb29d346d1e4431?cid=11419dac9f88424c93dd910d7d82a6bc', 'id': '1TfqLAPs4K3s2rJMoCokcS'}, {'album': 'Motion', 'artist': 'Calvin Harris', 'cover_image_url': 'https://i.scdn.co/image/ab67616d0000b273063c048e9ef6bd021b744756', 'genre': 'edm', 'name': 'Outside (feat. Ellie Goulding)', 'preview_url': 'https://p.scdn.co/mp3-preview/258a571c0ae04c58dad7ff59c49b0bd39cb1986b?cid=11419dac9f88424c93dd910d7d82a6bc', 'id': '5vmRQ3zELMLUQPo2FLQ76x'}, {'album': 'The Trinity', 'artist': 'Sean Paul', 'cover_image_url': 'https://i.scdn.co/image/ab67616d0000b27369ba684e533706bafe248ef3', 'genre': 'dancehall', 'name': 'Temperature', 'preview_url': 'https://p.scdn.co/mp3-preview/fd0b2beda757e9b8dcaf04e71c1d6cada0659765?cid=11419dac9f88424c93dd910d7d82a6bc', 'id': '4S1VYqwfkLit9mKVY3MXoo'}, {'album': 'Salad Days', 'artist': 'Mac DeMarco', 'cover_image_url': 'https://i.scdn.co/image/ab67616d0000b273ec6e9c13eeed14eedbd5f7c9', 'genre': 'edm', 'name': 'Chamber Of Reflection', 'preview_url': 'https://p.scdn.co/mp3-preview/17a0b215c5cab8a53047fd6aa5c5dd54507efaec?cid=11419dac9f88424c93dd910d7d82a6bc', 'id': '3X7uFMzJrEE0sxn62qd8Ch'}, {'album': 'So Good', 'artist': 'Zara Larsson', 'cover_image_url': 'https://i.scdn.co/image/ab67616d0000b2739e1683774b22648f4f178ed3', 'genre': 'electro', 'name': 'Lush Life', 'preview_url': 'https://p.scdn.co/mp3-preview/2f14e67d9660815897317b300241b228e40bcd97?cid=11419dac9f88424c93dd910d7d82a6bc', 'id': '1KGi9sZVMeszgZOWivFpxs'}, {'album': '17', 'artist': 'XXXTENTACION', 'cover_image_url': 'https://i.scdn.co/image/ab67616d0000b273203c89bd4391468eea4cc3f5', 'genre': 'emo', 'name': 'Revenge', 'preview_url': 'https://p.scdn.co/mp3-preview/8f5fe8bb510463b2da20325c8600200bf2984d83?cid=11419dac9f88424c93dd910d7d82a6bc', 'id': '3w3y8KPTfNeOKPiqUTakBh'}, {'album': 'Globalization', 'artist': 'Pitbull', 'cover_image_url': 'https://i.scdn.co/image/ab67616d0000b2731e340d1480e7bb29a45e3bd7', 'genre': 'dance', 'name': 'Time of Our Lives', 'preview_url': 'https://p.scdn.co/mp3-preview/d508371276a297486ace8d4ff596c54ae9e65260?cid=11419dac9f88424c93dd910d7d82a6bc', 'id': '5rb9QrpfcKFHM1EUbSIurX'}, {'album': \"Baby Don't Hurt Me\", 'artist': 'David Guetta', 'cover_image_url': 'https://i.scdn.co/image/ab67616d0000b2730b4ef75c3728599aa4104f7a', 'genre': 'edm', 'name': \"Baby Don't Hurt Me\", 'preview_url': 'https://p.scdn.co/mp3-preview/a8f2e176e17e0f6298b42ef8e96118318fdd2b89?cid=11419dac9f88424c93dd910d7d82a6bc', 'id': '43SoxERu5UlXAgt4Es1VQU'}, {'album': 'Freaks', 'artist': 'Surf Curse', 'cover_image_url': 'https://i.scdn.co/image/ab67616d0000b2739efda673310de265a2c1cf1f', 'genre': 'punk', 'name': 'Freaks', 'preview_url': 'https://p.scdn.co/mp3-preview/039505c3b40b4478ec45ccb64fed211487887dd0?cid=11419dac9f88424c93dd910d7d82a6bc', 'id': '2hKdd3qO7cWr2Jo0Bcs0MA'}, {'album': 'Uptown Special', 'artist': 'Mark Ronson', 'cover_image_url': 'https://i.scdn.co/image/ab67616d0000b273e419ccba0baa8bd3f3d7abf2', 'genre': 'soul', 'name': 'Uptown Funk (feat. Bruno Mars)', 'preview_url': 'https://p.scdn.co/mp3-preview/3074e956e6794c0eadea660b9cef671db6b27234?cid=11419dac9f88424c93dd910d7d82a6bc', 'id': '2bJvI42r8EF3wxjOuDav4r'}, {'album': '2', 'artist': 'Mac DeMarco', 'cover_image_url': 'https://i.scdn.co/image/ab67616d0000b2739d377496c6bc8724b521222d', 'genre': 'edm', 'name': 'My Kind of Woman', 'preview_url': 'https://p.scdn.co/mp3-preview/84a0a0a0a484047ef91d1841090bb04182e83692?cid=11419dac9f88424c93dd910d7d82a6bc', 'id': '0HEytGQM3bG1vKxER7IgVK'}, {'album': 'i am not who i was', 'artist': 'Chance Peña', 'cover_image_url': 'https://i.scdn.co/image/ab67616d0000b2733ec34bc4e860b8021272a75d', 'genre': 'singer-songwriter', 'name': 'i am not who i was', 'preview_url': 'https://p.scdn.co/mp3-preview/0ba79c75f2fafd3adf68c37de0a85032fb7bb4c1?cid=11419dac9f88424c93dd910d7d82a6bc', 'id': '3U5JVgI2x4rDyHGObzJfNf'}, {'album': 'Belong Together', 'artist': 'Mark Ambor', 'cover_image_url': 'https://i.scdn.co/image/ab67616d0000b273ed71b8008aaa879622f8c3b5', 'genre': 'pop', 'name': 'Belong Together', 'preview_url': 'https://p.scdn.co/mp3-preview/94cf6a4e7df256464aa0a91ee048c901185a8964?cid=11419dac9f88424c93dd910d7d82a6bc', 'id': '331l3xABO0HMr1Kkyh2LZq'}, {'album': 'Global Warming: Meltdown (Deluxe Version)', 'artist': 'Pitbull', 'cover_image_url': 'https://i.scdn.co/image/ab67616d0000b273f2486b438645e97b523e4f90', 'genre': 'dance', 'name': 'Timber', 'preview_url': 'https://p.scdn.co/mp3-preview/54825c719d56bd5b737ac7c1aa3ce41ad3eef338?cid=11419dac9f88424c93dd910d7d82a6bc', 'id': '4HlFJV71xXKIGcU3kRyttv'}, {'album': \"This One's for You Too (Deluxe Edition)\", 'artist': 'Luke Combs', 'cover_image_url': 'https://i.scdn.co/image/ab67616d0000b273ccba76fad1c624c09e72bc78', 'genre': 'country', 'name': 'She Got the Best of Me', 'preview_url': 'https://p.scdn.co/mp3-preview/62987b51b76bd417ac56812161cf825d4c22f549?cid=11419dac9f88424c93dd910d7d82a6bc', 'id': '3FU6urUVsgXa6RBuV2PdRk'}, {'album': 'Boys Of Faith', 'artist': 'Zach Bryan', 'cover_image_url': 'https://i.scdn.co/image/ab67616d0000b2732ebcfb3e92f937a1a4cc16f0', 'genre': 'country', 'name': 'Nine Ball', 'preview_url': 'https://p.scdn.co/mp3-preview/cbc1f7c755dba83d18e273c943fd6b3b7df45455?cid=11419dac9f88424c93dd910d7d82a6bc', 'id': '6YUTL4dYpB9xZO5qExPf05'}, {'album': 'Thank You (Not So Bad)', 'artist': 'Dimitri Vegas & Like Mike', 'cover_image_url': 'https://i.scdn.co/image/ab67616d0000b2730aa08f8923434aab06e43b37', 'genre': 'edm', 'name': 'Thank You (Not So Bad)', 'preview_url': 'https://p.scdn.co/mp3-preview/90b0c56eb3bd187d09a8ad612eb4049447d056ad?cid=11419dac9f88424c93dd910d7d82a6bc', 'id': '3cHyrEgdyYRjgJKSOiOtcS'}, {'album': 'Whitney', 'artist': 'Whitney Houston', 'cover_image_url': 'https://i.scdn.co/image/ab67616d0000b273cc57e9b00b87dd0f6e868347', 'genre': 'dance', 'name': 'I Wanna Dance with Somebody (Who Loves Me)', 'preview_url': 'https://p.scdn.co/mp3-preview/7414ae6c811dee16c467c256429c7427fbcc98d0?cid=11419dac9f88424c93dd910d7d82a6bc', 'id': '7BqBn9nzAq8spo5e7cZ0dJ'}, {'album': 'Doo-Wops & Hooligans', 'artist': 'Bruno Mars', 'cover_image_url': 'https://i.scdn.co/image/ab67616d0000b273f6b55ca93bd33211227b502b', 'genre': 'dance', 'name': 'Just the Way You Are', 'preview_url': 'https://p.scdn.co/mp3-preview/6d1a901b10c7dc609d4c8628006b04bc6e672be8?cid=11419dac9f88424c93dd910d7d82a6bc', 'id': '3ZFTkvIE7kyPt6Nu3PEa7V'}, {'album': 'Porch Light', 'artist': 'Josh Meloy', 'cover_image_url': 'https://i.scdn.co/image/ab67616d0000b2739e917e93a50b83029871627c', 'genre': 'country', 'name': 'Porch Light', 'preview_url': 'https://p.scdn.co/mp3-preview/43ce82b90489c5b3aea3ced3be15f370d50a326a?cid=11419dac9f88424c93dd910d7d82a6bc', 'id': '2tUBqZG2AbRi7Q0BIrVrEj'}, {'album': 'Hunting High and Low', 'artist': 'a-ha', 'cover_image_url': 'https://i.scdn.co/image/ab67616d0000b273e8dd4db47e7177c63b0b7d53', 'genre': 'synth-pop', 'name': 'Take on Me', 'preview_url': 'https://p.scdn.co/mp3-preview/ed66a8c444c35b2f5029c04ae8e18f69d952c2bb?cid=11419dac9f88424c93dd910d7d82a6bc', 'id': '4QNpBfC0zvjKqPJcyqBy9W'}, {'album': 'What You See Is What You Get', 'artist': 'Luke Combs', 'cover_image_url': 'https://i.scdn.co/image/ab67616d0000b273429d8ec28f865acf2a927c2d', 'genre': 'country', 'name': 'Beer Never Broke My Heart', 'preview_url': 'https://p.scdn.co/mp3-preview/545db391946df7d9cd3a7ac7fbc79b128e4b2ee5?cid=11419dac9f88424c93dd910d7d82a6bc', 'id': '1gihuPhrLraKYrJMAEONyc'}, {'album': 'Summertime Blues', 'artist': 'Zach Bryan', 'cover_image_url': 'https://i.scdn.co/image/ab67616d0000b27313c532890739d705e5a55af6', 'genre': 'country', 'name': 'Oklahoma Smokeshow', 'preview_url': 'https://p.scdn.co/mp3-preview/6a250eb4c50841e7b0c6be61cc0eec5a3586f8a9?cid=11419dac9f88424c93dd910d7d82a6bc', 'id': '7HUhMOrlvwBPfBq3c0ajh0'}, {'album': 'The Great American Bar Scene', 'artist': 'Zach Bryan', 'cover_image_url': 'https://i.scdn.co/image/ab67616d0000b273647ad18a07e9e939e399e5a1', 'genre': 'country', 'name': 'American Nights', 'preview_url': 'https://p.scdn.co/mp3-preview/0e098af8d8bc20a882bd2bb5b0df789d9e3b0989?cid=11419dac9f88424c93dd910d7d82a6bc', 'id': '6jgkEbmQ2F2onEqsEhiliL'}, {'album': \"Gettin' Old\", 'artist': 'Luke Combs', 'cover_image_url': 'https://i.scdn.co/image/ab67616d0000b273ca650d3a95022e0490434ba1', 'genre': 'country', 'name': 'Fast Car', 'preview_url': 'https://p.scdn.co/mp3-preview/1dc0426c95058783e0fe1d70c41583ca98317108?cid=11419dac9f88424c93dd910d7d82a6bc', 'id': '0k2GOhqsrxDTAbFFSdNJjT'}, {'album': 'No Protection', 'artist': 'Starship', 'cover_image_url': 'https://i.scdn.co/image/ab67616d0000b273377198e5b790b5ebf137bd83', 'genre': 'synth-pop', 'name': \"Nothing's Gonna Stop Us Now\", 'preview_url': 'https://p.scdn.co/mp3-preview/a17faa3145693e235f6eaddd17debde84dd503eb?cid=11419dac9f88424c93dd910d7d82a6bc', 'id': '4pkb8SbRGeHAvdb87v9rpf'}, {'album': 'Confessions (Expanded Edition)', 'artist': 'USHER', 'cover_image_url': 'https://i.scdn.co/image/ab67616d0000b273365b3fb800c19f7ff72602da', 'genre': 'dance', 'name': 'Yeah! (feat. Lil Jon & Ludacris)', 'preview_url': 'https://p.scdn.co/mp3-preview/1eca1cb525c2b0df2ecba52f1105f139323e09a2?cid=11419dac9f88424c93dd910d7d82a6bc', 'id': '0azC730Exh71aQlOt9Zj3y'}, {'album': 'Get Lucky (Radio Edit) [feat. Pharrell Williams and Nile Rodgers]', 'artist': 'Daft Punk', 'cover_image_url': 'https://i.scdn.co/image/ab67616d0000b2731d5cf960a92bb8b03fc2be7f', 'genre': 'electro', 'name': 'Get Lucky (Radio Edit) [feat. Pharrell Williams and Nile Rodgers]', 'preview_url': 'https://p.scdn.co/mp3-preview/9b7eaf7fb5cab29251df52e9a4f46fad14e29aa1?cid=11419dac9f88424c93dd910d7d82a6bc', 'id': '4356Typ82hUiFAynbLYbPn'}, {'album': '=', 'artist': 'Ed Sheeran', 'cover_image_url': 'https://i.scdn.co/image/ab67616d0000b273ef24c3fdbf856340d55cfeb2', 'genre': 'singer-songwriter', 'name': 'Shivers', 'preview_url': 'https://p.scdn.co/mp3-preview/08cec59d36ac30ae9ce1e2944f206251859844af?cid=11419dac9f88424c93dd910d7d82a6bc', 'id': '0HPD5WQqrq7wPWR7P7Dw1i'}, {'album': 'melanchole', 'artist': 'salvia palth', 'cover_image_url': 'https://i.scdn.co/image/ab67616d0000b2734a82bda3507d50ac3e039bb0', 'genre': 'emo', 'name': 'i was all over her', 'preview_url': 'https://p.scdn.co/mp3-preview/c93b9442b4672b7384b08802f2e43f914274f49c?cid=11419dac9f88424c93dd910d7d82a6bc', 'id': '49X0LAl6faAusYq02PRAY6'}, {'album': 'Modjo (Remastered)', 'artist': 'Modjo', 'cover_image_url': 'https://i.scdn.co/image/ab67616d0000b27354c5c304064df85d61253ac7', 'genre': 'disco', 'name': 'Lady - Hear Me Tonight', 'preview_url': 'https://p.scdn.co/mp3-preview/05e58f0bcf5a9a29f60d5aa4fd685a528a59f328?cid=11419dac9f88424c93dd910d7d82a6bc', 'id': '2R4AlwtrrkMaRKojcTIzmL'}, {'album': 'The Queen Is Dead', 'artist': 'The Smiths', 'cover_image_url': 'https://i.scdn.co/image/ab67616d0000b273ada101c2e9e97feb8fae37a9', 'genre': 'punk', 'name': 'There Is a Light That Never Goes Out - 2011 Remaster', 'preview_url': 'https://p.scdn.co/mp3-preview/23f6c629d7072e1adbe90b0a155b1110b2f94714?cid=11419dac9f88424c93dd910d7d82a6bc', 'id': '0KKkJNfGyhkQ5aFogxQAPU'}, {'album': '17', 'artist': 'XXXTENTACION', 'cover_image_url': 'https://i.scdn.co/image/ab67616d0000b273203c89bd4391468eea4cc3f5', 'genre': 'emo', 'name': 'Everybody Dies In Their Nightmares', 'preview_url': 'https://p.scdn.co/mp3-preview/57ea372058336bcc4774b5dcee03d6712b16ae5c?cid=11419dac9f88424c93dd910d7d82a6bc', 'id': '3kXoKlD84c6OmIcOLfrfEs'}, {'album': \"I Love Rock 'N' Roll (Expanded Edition)\", 'artist': 'Joan Jett & the Blackhearts', 'cover_image_url': 'https://i.scdn.co/image/ab67616d0000b2733c73b2e0a6aa490736f19751', 'genre': 'punk', 'name': \"I Love Rock 'N Roll\", 'preview_url': 'https://p.scdn.co/mp3-preview/931dee7b6bcc7c60edc631ff1892e363a47fe222?cid=11419dac9f88424c93dd910d7d82a6bc', 'id': '7BqHUALzNBTanL6OvsqmC1'}, {'album': 'Silence', 'artist': 'Marshmello', 'cover_image_url': 'https://i.scdn.co/image/ab67616d0000b273f33ba583059dc2f7d08bf2b8', 'genre': 'edm', 'name': 'Silence', 'preview_url': 'https://p.scdn.co/mp3-preview/26ea0841d3e1dd4eec371df3c79fbcc4a6aed42d?cid=11419dac9f88424c93dd910d7d82a6bc', 'id': '7vGuf3Y35N4wmASOKLUVVU'}, {'album': \"This One's for You Too (Deluxe Edition)\", 'artist': 'Luke Combs', 'cover_image_url': 'https://i.scdn.co/image/ab67616d0000b273ccba76fad1c624c09e72bc78', 'genre': 'country', 'name': 'Beautiful Crazy', 'preview_url': 'https://p.scdn.co/mp3-preview/7160f5cd6c0e3aff6e2251b018bb0b88d2b8c101?cid=11419dac9f88424c93dd910d7d82a6bc', 'id': '09CnYHiZ5jGT1wr1TXJ9Zt'}, {'album': 'Animal (Expanded Edition)', 'artist': 'Kesha', 'cover_image_url': 'https://i.scdn.co/image/ab67616d0000b2737a6339d6ddfd579f77559b3c', 'genre': 'dance', 'name': 'TiK ToK', 'preview_url': 'https://p.scdn.co/mp3-preview/ea95bec21bd6c4979cc91f5d5528b533d879905c?cid=11419dac9f88424c93dd910d7d82a6bc', 'id': '7H7NyZ3G075GqPx2evsfeb'}, {'album': 'Good Times Go', 'artist': 'Nicky Youre', 'cover_image_url': 'https://i.scdn.co/image/ab67616d0000b273ecd970d1d2623b6c7fc6080c', 'genre': 'singer-songwriter', 'name': 'Sunroof', 'preview_url': 'https://p.scdn.co/mp3-preview/605058558fd8d10c420b56c41555e567645d5b60?cid=11419dac9f88424c93dd910d7d82a6bc', 'id': '3mfER4ORePHvN35cbZ3dkV'}, {'album': 'One Kiss (with Dua Lipa)', 'artist': 'Calvin Harris', 'cover_image_url': 'https://i.scdn.co/image/ab67616d0000b273d09f96d82310d4d77c14c108', 'genre': 'edm', 'name': 'One Kiss (with Dua Lipa)', 'preview_url': 'https://p.scdn.co/mp3-preview/0c09da1fe6f1da091c05057835e6be2312e2dc18?cid=11419dac9f88424c93dd910d7d82a6bc', 'id': '22mek4IiqubGD9ctzxc69s'}, {'album': 'How Deep Is Your Love', 'artist': 'Calvin Harris', 'cover_image_url': 'https://i.scdn.co/image/ab67616d0000b273f4956c3ceefc6fa1cffc6da6', 'genre': 'edm', 'name': 'How Deep Is Your Love', 'preview_url': 'https://p.scdn.co/mp3-preview/6aa9aca8fda017e572a0065c00a67feb6f044d0c?cid=11419dac9f88424c93dd910d7d82a6bc', 'id': '3BKD1PwArikchz2Zrlp1qi'}, {'album': 'Country Squire', 'artist': 'Tyler Childers', 'cover_image_url': 'https://i.scdn.co/image/ab67616d0000b273d41fec800fa501c5bc623083', 'genre': 'country', 'name': \"All Your'n\", 'preview_url': 'https://p.scdn.co/mp3-preview/9812fee49ff8efab5748d94769250dfec5daf844?cid=11419dac9f88424c93dd910d7d82a6bc', 'id': '0LMwmV37RCmBO2so0szAFs'}, {'album': 'A Mí', 'artist': 'Rels B', 'cover_image_url': 'https://i.scdn.co/image/ab67616d0000b273e75742385df2e0a026001e0d', 'genre': 'spanish', 'name': 'A Mí', 'preview_url': 'https://p.scdn.co/mp3-preview/a693a14deefdf915f11e35275ab2048541af8b5f?cid=11419dac9f88424c93dd910d7d82a6bc', 'id': '7ef4DlsgrMEH11cDZd32M6'}, {'album': 'Motion', 'artist': 'Calvin Harris', 'cover_image_url': 'https://i.scdn.co/image/ab67616d0000b273063c048e9ef6bd021b744756', 'genre': 'dance', 'name': 'Summer', 'preview_url': 'https://p.scdn.co/mp3-preview/a6fc9fe137bd7d0b3377309f8235eddf449866e5?cid=11419dac9f88424c93dd910d7d82a6bc', 'id': '7MmG8p0F9N3C4AXdK6o6Eb'}, {'album': '17', 'artist': 'XXXTENTACION', 'cover_image_url': 'https://i.scdn.co/image/ab67616d0000b273203c89bd4391468eea4cc3f5', 'genre': 'emo', 'name': 'Fuck Love', 'preview_url': 'https://p.scdn.co/mp3-preview/ad4d23afd3b92325c442f036322a05f5f35385dc?cid=11419dac9f88424c93dd910d7d82a6bc', 'id': '3xkHsmpQCBMytMJNiDf3Ii'}, {'album': 'Deep Down (feat. Never Dull)', 'artist': 'Alok', 'cover_image_url': 'https://i.scdn.co/image/ab67616d0000b273ed443f0fff29eee63c9ede20', 'genre': 'electro', 'name': 'Deep Down (feat. Never Dull)', 'preview_url': 'https://p.scdn.co/mp3-preview/86c654c4b63f69463fb961bad9b9dcd59da63091?cid=11419dac9f88424c93dd910d7d82a6bc', 'id': '4iZ4pt7kvcaH6Yo8UoZ4s2'}, {'album': 'Happier', 'artist': 'Marshmello', 'cover_image_url': 'https://i.scdn.co/image/ab67616d0000b273dd0a40eecd4b13e4c59988da', 'genre': 'edm', 'name': 'Happier', 'preview_url': 'https://p.scdn.co/mp3-preview/a23fe33122a12a302b97c443ab82473ce55df8fd?cid=11419dac9f88424c93dd910d7d82a6bc', 'id': '5uQ7de4EWjb3rkcFxyEOpu'}, {'album': 'Forever Young', 'artist': 'Alphaville', 'cover_image_url': 'https://i.scdn.co/image/ab67616d0000b273b9c4979446c4d39bc08e9503', 'genre': 'synth-pop', 'name': 'Forever Young', 'preview_url': 'https://p.scdn.co/mp3-preview/715c3b3b956d769f21ce4e43ede766fce7cd31fe?cid=11419dac9f88424c93dd910d7d82a6bc', 'id': '4Dvkj6JhhA12EX05fT7y2e'}, {'album': 'Fireworks & Rollerblades', 'artist': 'Benson Boone', 'cover_image_url': 'https://i.scdn.co/image/ab67616d0000b273cc04ff3e70e146ba9abacf40', 'genre': 'singer-songwriter', 'name': 'In The Stars', 'preview_url': 'https://p.scdn.co/mp3-preview/6e29e6750dcda8159aea83561faf2161a0acacb2?cid=11419dac9f88424c93dd910d7d82a6bc', 'id': '3rUGC1vUpkDG9CZFHMur1t'}, {'album': 'This Old Dog', 'artist': 'Mac DeMarco', 'cover_image_url': 'https://i.scdn.co/image/ab67616d0000b273d18fa8f63707115cb1b38f65', 'genre': 'edm', 'name': 'For the First Time', 'preview_url': 'https://p.scdn.co/mp3-preview/6e7905297d920bd2434923bd64eb9b012b4d7610?cid=11419dac9f88424c93dd910d7d82a6bc', 'id': '0WoFs3EdGOx58yX5BtXvOa'}, {'album': 'BRAT', 'artist': 'Charli xcx', 'cover_image_url': 'https://i.scdn.co/image/ab67616d0000b27388e3822cccfb8f2832c70c2e', 'genre': 'pop', 'name': 'Apple', 'preview_url': 'https://p.scdn.co/mp3-preview/907d06abc995f4c427feb5f9e94dccb731903a0d?cid=11419dac9f88424c93dd910d7d82a6bc', 'id': '19RybK6XDbAVpcdxSbZL1o'}, {'album': 'Born In The U.S.A.', 'artist': 'Bruce Springsteen', 'cover_image_url': 'https://i.scdn.co/image/ab67616d0000b273a7865e686c36a4adda6c9978', 'genre': 'singer-songwriter', 'name': 'Dancing In the Dark', 'preview_url': 'https://p.scdn.co/mp3-preview/f98a1f3b07ca22d6ccda4a2e360981d1b0bfcbbc?cid=11419dac9f88424c93dd910d7d82a6bc', 'id': '1Dr1fXbc2IxaK1Mu8P8Khz'}, {'album': 'Zach Bryan', 'artist': 'Zach Bryan', 'cover_image_url': 'https://i.scdn.co/image/ab67616d0000b273e5a25ed08d1e7e0fbb440cef', 'genre': 'country', 'name': 'Hey Driver (feat. The War and Treaty)', 'preview_url': 'https://p.scdn.co/mp3-preview/93f347ada38bf3f3447622b920300a53005fb1e7?cid=11419dac9f88424c93dd910d7d82a6bc', 'id': '7EkWXAI1wn8Ii883ecd9xr'}, {'album': 'Sugar Papi', 'artist': 'Marshmello', 'cover_image_url': 'https://i.scdn.co/image/ab67616d0000b2736a84be92318cebb5ac7fbc47', 'genre': 'electro', 'name': 'El Merengue', 'preview_url': 'https://p.scdn.co/mp3-preview/8f85a757be0d6acb90a870442608a2bc0efe5860?cid=11419dac9f88424c93dd910d7d82a6bc', 'id': '0WQiDwKJclirSYG9v5tayI'}, {'album': 'Human (Deluxe)', 'artist': \"Rag'n'Bone Man\", 'cover_image_url': 'https://i.scdn.co/image/ab67616d0000b27390a788beadaad34ff684d3ec', 'genre': 'soul', 'name': 'Human', 'preview_url': 'https://p.scdn.co/mp3-preview/8c1cad46231be436ff9e13a71f52df2135398850?cid=11419dac9f88424c93dd910d7d82a6bc', 'id': '6L89mwZXSOwYl76YXfX13s'}, {'album': 'Unwritten', 'artist': 'Natasha Bedingfield', 'cover_image_url': 'https://i.scdn.co/image/ab67616d0000b273b337e1ca6629a53c66a3b0d4', 'genre': 'dance', 'name': 'Unwritten', 'preview_url': 'https://p.scdn.co/mp3-preview/5559460cc3e2c5aa1eeea1c16cf838cecde326d8?cid=11419dac9f88424c93dd910d7d82a6bc', 'id': '2Cdvbe2G4hZsnhNMKyGrie'}, {'album': 'High Road (feat. Jessie Murph)', 'artist': 'Koe Wetzel', 'cover_image_url': 'https://i.scdn.co/image/ab67616d0000b2732c44d76ea64d1b5876b44eb3', 'genre': 'country', 'name': 'High Road (feat. Jessie Murph)', 'preview_url': 'https://p.scdn.co/mp3-preview/8c12da4e3c1e2a2aae8d148d4d2117363b2eeb0a?cid=11419dac9f88424c93dd910d7d82a6bc', 'id': '5TXDeTFVRVY7Cvt0Dw4vWW'}, {'album': 'The Age of Consent', 'artist': 'Bronski Beat', 'cover_image_url': 'https://i.scdn.co/image/ab67616d0000b2736affdd29d6ee84a298746ef7', 'genre': 'synth-pop', 'name': 'Smalltown Boy', 'preview_url': 'https://p.scdn.co/mp3-preview/38dc3cec253fb45d57c7f1972aa196eb00d83ee3?cid=11419dac9f88424c93dd910d7d82a6bc', 'id': '07nH4ifBxUB4lZcsf44Brn'}, {'album': 'Version', 'artist': 'Mark Ronson', 'cover_image_url': 'https://i.scdn.co/image/ab67616d0000b2736a5beb0500ad6e3b0f7aea22', 'genre': 'soul', 'name': 'Valerie (feat. Amy Winehouse) - Version Revisited', 'preview_url': 'https://p.scdn.co/mp3-preview/7c1f773fee487c3fdc15fd8b0ee6a3a388b341d3?cid=11419dac9f88424c93dd910d7d82a6bc', 'id': '5oYVxFt2k4SkVp6wzVsFWN'}, {'album': 'Oral Fixation, Vol. 2 (Expanded Edition)', 'artist': 'Shakira', 'cover_image_url': 'https://i.scdn.co/image/ab67616d0000b27327ddd747545c0d0cfe7595fa', 'genre': 'dance', 'name': \"Hips Don't Lie (feat. Wyclef Jean)\", 'preview_url': 'https://p.scdn.co/mp3-preview/374b492571c9ba59c2c4b455ab79ee7501adab93?cid=11419dac9f88424c93dd910d7d82a6bc', 'id': '2tnVG71enUj33Ic2nFN6kZ'}, {'album': 'Whatever', 'artist': 'Kygo', 'cover_image_url': 'https://i.scdn.co/image/ab67616d0000b2734d914470ab899815f103f5cc', 'genre': 'edm', 'name': 'Whatever', 'preview_url': 'https://p.scdn.co/mp3-preview/03bbf447d8f0101cff90c78b3ab0c4757c3bf27b?cid=11419dac9f88424c93dd910d7d82a6bc', 'id': '6mSnSuOhgHHohqeBw76jRV'}, {'album': \"This One's for You\", 'artist': 'Luke Combs', 'cover_image_url': 'https://i.scdn.co/image/ab67616d0000b273b7578013decfa174e30dc298', 'genre': 'country', 'name': 'When It Rains It Pours', 'preview_url': 'https://p.scdn.co/mp3-preview/034066bcc59420c96bc025ed2f204ee2cb9c975d?cid=11419dac9f88424c93dd910d7d82a6bc', 'id': '2Foc5Q5nqNiosCNqttzHof'}, {'album': 'Ride It', 'artist': 'Regard', 'cover_image_url': 'https://i.scdn.co/image/ab67616d0000b2735c27813ae019011fcb370c78', 'genre': 'edm', 'name': 'Ride It', 'preview_url': 'https://p.scdn.co/mp3-preview/ce29bb243cf40118b87070b00a49822e09a317b1?cid=11419dac9f88424c93dd910d7d82a6bc', 'id': '5KbBVSj6AJZ5662fO8EYFh'}, {'album': 'This Is What You Came For', 'artist': 'Calvin Harris', 'cover_image_url': 'https://i.scdn.co/image/ab67616d0000b273d9aa52355e062f5de060adbf', 'genre': 'dance', 'name': 'This Is What You Came For', 'preview_url': 'https://p.scdn.co/mp3-preview/14138fec09bb5940b1ee11c3207663906970cf9b?cid=11419dac9f88424c93dd910d7d82a6bc', 'id': '1rIKgCH4H52lrvDcz50hS8'}, {'album': 'RMCM', 'artist': 'Richy Mitch & The Coal Miners', 'cover_image_url': 'https://i.scdn.co/image/ab67616d0000b2731cc17bae5ee17cce117e198a', 'genre': 'folk', 'name': 'Evergreen', 'preview_url': 'https://p.scdn.co/mp3-preview/fca7555fba8261b7ccc0aac1854a86033a12823b?cid=11419dac9f88424c93dd910d7d82a6bc', 'id': '7MIhUdNJtaOnDmC5nBC1fb'}, {'album': 'Ride Or Die, Pt. 2', 'artist': 'Sevdaliza', 'cover_image_url': 'https://i.scdn.co/image/ab67616d0000b27314c2bc6e79b87f232c38b547', 'genre': 'electro', 'name': 'Ride Or Die, Pt. 2 (with Villano Antillano & Tokischa)', 'preview_url': 'https://p.scdn.co/mp3-preview/891b40d5ab7920c12641b865edd4aa796928feaa?cid=11419dac9f88424c93dd910d7d82a6bc', 'id': '7AQim7LbvFVZJE3O8TYgf2'}, {'album': \"Come Over When You're Sober, Pt. 2\", 'artist': 'Lil Peep', 'cover_image_url': 'https://i.scdn.co/image/ab67616d0000b27355e36b0dc5b0ef008fc85319', 'genre': 'emo', 'name': 'Falling Down - Bonus Track', 'preview_url': 'https://p.scdn.co/mp3-preview/9404f45725ef5d46e29a539c7da1fc4315cf5a69?cid=11419dac9f88424c93dd910d7d82a6bc', 'id': '1WbhIxkn5ECsOwUm795iX1'}, {'album': 'All Stand Together', 'artist': 'Lost Frequencies', 'cover_image_url': 'https://i.scdn.co/image/ab67616d0000b273580da30167c82db5fcc5f798', 'genre': 'edm', 'name': 'Where Are You Now', 'preview_url': 'https://p.scdn.co/mp3-preview/2524ba8c7e53a72a62eaf3bae51d63c9427284c9?cid=11419dac9f88424c93dd910d7d82a6bc', 'id': '4jvjzW7Hm0yK4LvvE0Paz9'}, {'album': 'Carry You Home', 'artist': 'Alex Warren', 'cover_image_url': 'https://i.scdn.co/image/ab67616d0000b27305efa6dce38504deb91fe687', 'genre': 'singer-songwriter', 'name': 'Carry You Home', 'preview_url': 'https://p.scdn.co/mp3-preview/0ddc85926cefdf9d30195b5d20d5432ef4b1bb7c?cid=11419dac9f88424c93dd910d7d82a6bc', 'id': '3GVkPk8mqxz0itaAriG1L7'}, {'album': 'Motion', 'artist': 'Calvin Harris', 'cover_image_url': 'https://i.scdn.co/image/ab67616d0000b273063c048e9ef6bd021b744756', 'genre': 'edm', 'name': 'Blame (feat. John Newman)', 'preview_url': 'https://p.scdn.co/mp3-preview/31297ae5e2f5524fe28b18ed71abc79683c66a88?cid=11419dac9f88424c93dd910d7d82a6bc', 'id': '6me7F0aaZjwDo6RJ5MrfBD'}, {'album': 'Jealous', 'artist': 'Eyedress', 'cover_image_url': 'https://i.scdn.co/image/ab67616d0000b2734de4da55422167fcc47fba65', 'genre': 'indie', 'name': 'Jealous', 'preview_url': 'https://p.scdn.co/mp3-preview/2a35e333aacb791d90db203c779d1e472c70c45c?cid=11419dac9f88424c93dd910d7d82a6bc', 'id': '7m9OqQk4RVRkw9JJdeAw96'}, {'album': 'Back In Black', 'artist': 'AC/DC', 'cover_image_url': 'https://i.scdn.co/image/ab67616d0000b2730b51f8d91f3a21e8426361ae', 'genre': 'hard-rock', 'name': 'You Shook Me All Night Long', 'preview_url': 'https://p.scdn.co/mp3-preview/3b01294b6b0458fea6ed5a88ea1b1593eb495ead?cid=11419dac9f88424c93dd910d7d82a6bc', 'id': '4k3xDpAdBuM17mNNHhOZkK'}, {'album': 'DECIDE', 'artist': 'Djo', 'cover_image_url': 'https://i.scdn.co/image/ab67616d0000b273fddfffec51b4580acae727c1', 'genre': 'indie', 'name': 'End of Beginning', 'preview_url': 'https://p.scdn.co/mp3-preview/2f6f0965be46144eca9212258c7a2988376727a1?cid=11419dac9f88424c93dd910d7d82a6bc', 'id': '7floNISpH8VF4z4459Qo18'}, {'album': 'Combat Rock (Remastered)', 'artist': 'The Clash', 'cover_image_url': 'https://i.scdn.co/image/ab67616d0000b27325a4df452a3c42ccc2e9288b', 'genre': 'punk', 'name': 'Should I Stay or Should I Go - Remastered', 'preview_url': 'https://p.scdn.co/mp3-preview/30dfcd239fdb4a9ee277ff3a214a4f6771bd8cb3?cid=11419dac9f88424c93dd910d7d82a6bc', 'id': '3yrSvpt2l1xhsV9Em88Pul'}, {'album': 'Death of a Party Girl', 'artist': 'TV Girl', 'cover_image_url': 'https://i.scdn.co/image/ab67616d0000b2731556d166d0ed059b34a00e1b', 'genre': 'indie', 'name': 'Blue Hair', 'preview_url': 'https://p.scdn.co/mp3-preview/dc170772a9042afcdc1feca9ef12c99f2cbdab0b?cid=11419dac9f88424c93dd910d7d82a6bc', 'id': '7j31rVgGX9Q2blT92VBEA0'}, {'album': 'Minha Herança', 'artist': 'Ana Castela', 'cover_image_url': 'https://i.scdn.co/image/ab67616d0000b273ae22073ef15960984011e2ee', 'genre': 'sertanejo', 'name': 'Minha Herança', 'preview_url': 'https://p.scdn.co/mp3-preview/4efdeba4df71bb89bbc2d2f2ef936c1d7bf30366?cid=11419dac9f88424c93dd910d7d82a6bc', 'id': '3JvrhDOgAt6p7K8mDyZwRd'}, {'album': 'French Exit', 'artist': 'TV Girl', 'cover_image_url': 'https://i.scdn.co/image/ab67616d0000b273e1bc1af856b42dd7fdba9f84', 'genre': 'indie', 'name': 'Lovers Rock', 'preview_url': 'https://p.scdn.co/mp3-preview/922a42db5aa8f8d335725697b7d7a12af6808f3a?cid=11419dac9f88424c93dd910d7d82a6bc', 'id': '7Ar4G7Ci11gpt6sfH9Cgz5'}, {'album': 'I Love You So', 'artist': 'The Walters', 'cover_image_url': 'https://i.scdn.co/image/ab67616d0000b2739214ff0109a0e062f8a6cf0f', 'genre': 'indie', 'name': 'I Love You So', 'preview_url': 'https://p.scdn.co/mp3-preview/83919b3d62a4ae352229c0a779e8aa0c1b2f4f40?cid=11419dac9f88424c93dd910d7d82a6bc', 'id': '6mTpK40yIRk1xGGNvRMHGg'}, {'album': 'Morar Nesse Motel', 'artist': 'Gusttavo Lima', 'cover_image_url': 'https://i.scdn.co/image/ab67616d0000b273f2932c56e1854b1714c06385', 'genre': 'sertanejo', 'name': 'Morar Nesse Motel', 'preview_url': 'https://p.scdn.co/mp3-preview/d390a8c1d12205577d76425971da6d1bacc7946f?cid=11419dac9f88424c93dd910d7d82a6bc', 'id': '0HDMisLsuGNml98Xq7atpm'}, {'album': 'Back In Black', 'artist': 'AC/DC', 'cover_image_url': 'https://i.scdn.co/image/ab67616d0000b2730b51f8d91f3a21e8426361ae', 'genre': 'hard-rock', 'name': 'Back In Black', 'preview_url': 'https://p.scdn.co/mp3-preview/81e64fa3a306418f6bb51325a93df0c75ea50d42?cid=11419dac9f88424c93dd910d7d82a6bc', 'id': '5QpcLTQjh0qO7OIuR9q8IR'}, {'album': 'ESQUEMAS', 'artist': 'Becky G', 'cover_image_url': 'https://i.scdn.co/image/ab67616d0000b273518859dcb13382116f450073', 'genre': 'latin', 'name': 'MAMIII', 'preview_url': 'https://p.scdn.co/mp3-preview/0a699c30d354c4cb36439d03522e65b377ac0fd8?cid=11419dac9f88424c93dd910d7d82a6bc', 'id': '4dSDTAZ7ohybHBonbtMBpP'}, {'album': 'Toto', 'artist': 'TOTO', 'cover_image_url': 'https://i.scdn.co/image/ab67616d0000b273f903e62767a0e22e33b7af83', 'genre': 'hard-rock', 'name': 'Hold the Line', 'preview_url': 'https://p.scdn.co/mp3-preview/11e480955e46f3b6b5c1e0b6c28db18c25c1e73e?cid=11419dac9f88424c93dd910d7d82a6bc', 'id': '6X6jKoyw1OjogRghMEQAZV'}, {'album': 'Highway to Hell', 'artist': 'AC/DC', 'cover_image_url': 'https://i.scdn.co/image/ab67616d0000b27351c02a77d09dfcd53c8676d0', 'genre': 'hard-rock', 'name': 'Highway to Hell', 'preview_url': 'https://p.scdn.co/mp3-preview/e5dde93998c6b622d0ac236ceeaabd49481da078?cid=11419dac9f88424c93dd910d7d82a6bc', 'id': '3w392XWJ5bXzjcCR2Dmvqn'}, {'album': 'What Do You Think About the Car?', 'artist': 'Declan McKenna', 'cover_image_url': 'https://i.scdn.co/image/ab67616d0000b273ec8be21d32e663885fbb244e', 'genre': 'indie', 'name': 'Brazil', 'preview_url': 'https://p.scdn.co/mp3-preview/d92887b6feaaa7e91021f4512f581181d2480dc4?cid=11419dac9f88424c93dd910d7d82a6bc', 'id': '1CpneInvFvGYcDVU4CCDgI'}, {'album': 'Who Really Cares', 'artist': 'TV Girl', 'cover_image_url': 'https://i.scdn.co/image/ab67616d0000b27332f5fec7a879ed6ef28f0dfd', 'genre': 'indie', 'name': 'Not Allowed', 'preview_url': 'https://p.scdn.co/mp3-preview/b1f61776e5425927fac6f4e79733d9fb8baf20dc?cid=11419dac9f88424c93dd910d7d82a6bc', 'id': '0WiJIa3V9GdcJfcy1FhLjp'}, {'album': 'Who Really Cares', 'artist': 'TV Girl', 'cover_image_url': 'https://i.scdn.co/image/ab67616d0000b27332f5fec7a879ed6ef28f0dfd', 'genre': 'indie', 'name': 'Cigarettes out the Window', 'preview_url': 'https://p.scdn.co/mp3-preview/7141e8575ba61267370ea78a9d3d9f82354d6c1a?cid=11419dac9f88424c93dd910d7d82a6bc', 'id': '1WHDOr19zyyqu6XXIvdgfX'}, {'album': 'Desilusão (MTG) (feat. Loirin Prod)', 'artist': 'Bruno & Marrone', 'cover_image_url': 'https://i.scdn.co/image/ab67616d0000b2737f584c9540425ed1da045301', 'genre': 'sertanejo', 'name': 'Desilusão (MTG) (feat. Loirin Prod)', 'preview_url': 'https://p.scdn.co/mp3-preview/8d660f2c495dbafee907ef02487a1e7ffebe5a4c?cid=11419dac9f88424c93dd910d7d82a6bc', 'id': '2kE2HFBFkJ0VMw3igxYohz'}, {'album': \"Blowin' Your Mind!\", 'artist': 'Van Morrison', 'cover_image_url': 'https://i.scdn.co/image/ab67616d0000b2733f29a976eea00141514ab936', 'genre': 'folk', 'name': 'Brown Eyed Girl', 'preview_url': 'https://p.scdn.co/mp3-preview/731469a968c3295114a2b7052610674bf56c6048?cid=11419dac9f88424c93dd910d7d82a6bc', 'id': '43iIQbw5hx986dUEZbr3eN'}, {'album': 'High Voltage', 'artist': 'AC/DC', 'cover_image_url': 'https://i.scdn.co/image/ab67616d0000b273286a0837ff3424065a735e0a', 'genre': 'hard-rock', 'name': 'T.N.T.', 'preview_url': 'https://p.scdn.co/mp3-preview/b057af7c776de98ed5aa2a73bd3f5b9e6c84459d?cid=11419dac9f88424c93dd910d7d82a6bc', 'id': '6dBUzqjtbnIa1TwYbyw5CM'}, {'album': 'The Black Parade', 'artist': 'My Chemical Romance', 'cover_image_url': 'https://i.scdn.co/image/ab67616d0000b27317f77fab7e8f18d5f9fee4a1', 'genre': 'emo', 'name': 'Teenagers', 'preview_url': 'https://p.scdn.co/mp3-preview/e6d0c0da5d86b2d19ee4456344ac9527a72b2a7d?cid=11419dac9f88424c93dd910d7d82a6bc', 'id': '3hxIUxnT27p5WcmjGUXNwx'}, {'album': 'Toulouse Street', 'artist': 'The Doobie Brothers', 'cover_image_url': 'https://i.scdn.co/image/ab67616d0000b27391b51fa9b5967fb34c044498', 'genre': 'folk', 'name': 'Listen to the Music', 'preview_url': 'https://p.scdn.co/mp3-preview/8c0f0e1fcc1d1e6cb3baa54024b9181eff5ecf59?cid=11419dac9f88424c93dd910d7d82a6bc', 'id': '3qhlB30KknSejmIvZZLjOD'}, {'album': 'Bewitched', 'artist': 'Laufey', 'cover_image_url': 'https://i.scdn.co/image/ab67616d0000b27374c732f8aa0e0ccbb3d17d96', 'genre': 'singer-songwriter', 'name': 'From The Start', 'preview_url': 'https://p.scdn.co/mp3-preview/3cdcd256d89b8634adc47aebbcf6db256e3b9978?cid=11419dac9f88424c93dd910d7d82a6bc', 'id': '3vkCueOmm7xQDoJ17W1Pm3'}, {'album': 'Shut up My Moms Calling', 'artist': 'Hotel Ugly', 'cover_image_url': 'https://i.scdn.co/image/ab67616d0000b273350ab7a839c04bfd5225a9f5', 'genre': 'indie', 'name': 'Shut up My Moms Calling', 'preview_url': 'https://p.scdn.co/mp3-preview/7642409265c74b714a2f0f0dd8663c031e253485?cid=11419dac9f88424c93dd910d7d82a6bc', 'id': '7yNf9YjeO5JXUE3JEBgnYc'}, {'album': 'Meteora', 'artist': 'Linkin Park', 'cover_image_url': 'https://i.scdn.co/image/ab67616d0000b2735f1f51d14e8bea89484ecd1b', 'genre': 'grunge', 'name': 'Faint', 'preview_url': 'https://p.scdn.co/mp3-preview/93e66af3a92081740710b18e45dcc9eeff08edbf?cid=11419dac9f88424c93dd910d7d82a6bc', 'id': '3IznIgmXtrUaoPWpQTy5jB'}, {'album': 'Poets & Old Souls', 'artist': 'Bryan Martin', 'cover_image_url': 'https://i.scdn.co/image/ab67616d0000b273eda625668a424f4ee44e7998', 'genre': 'country', 'name': 'We Ride', 'preview_url': 'https://p.scdn.co/mp3-preview/664dcba826ddb893f237bb7fd780fb756ce7a6bd?cid=11419dac9f88424c93dd910d7d82a6bc', 'id': '1aXV8GrmQLvgoFtBPERP7E'}, {'album': 'Dream Your Life Away (Special Edition)', 'artist': 'Vance Joy', 'cover_image_url': 'https://i.scdn.co/image/ab67616d0000b273a9929deb093a6617d2493b03', 'genre': 'folk', 'name': 'Riptide', 'preview_url': 'https://p.scdn.co/mp3-preview/74698d907d114f4ba0b2c129bbf260724be80b64?cid=11419dac9f88424c93dd910d7d82a6bc', 'id': '1CS7Sd1u5tWkstBhpssyjP'}, {'album': \"WE DON'T TRUST YOU\", 'artist': 'Future', 'cover_image_url': 'https://i.scdn.co/image/ab67616d0000b273a46b07c291e6dfdee13b3ee8', 'genre': 'hip-hop', 'name': 'Like That', 'preview_url': 'https://p.scdn.co/mp3-preview/793f43da71fe668c35b72a38ae7f93e783823e17?cid=11419dac9f88424c93dd910d7d82a6bc', 'id': '6QeYSvYqYUsfBzsApbjDHO'}, {'album': 'The Land Is Inhospitable and So Are We', 'artist': 'Mitski', 'cover_image_url': 'https://i.scdn.co/image/ab67616d0000b27334f21d3047d85440dfa37f10', 'genre': 'indie', 'name': 'My Love Mine All Mine', 'preview_url': 'https://p.scdn.co/mp3-preview/2f90c9a6a2b6e38554d3bc3cf7512c2c70ac67b9?cid=11419dac9f88424c93dd910d7d82a6bc', 'id': '4SqWKzw0CbA05TGszDgMlc'}, {'album': 'LIVE FOREVER', 'artist': 'Lil Peep', 'cover_image_url': 'https://i.scdn.co/image/ab67616d0000b2739c40b3a3043a8f24403048a6', 'genre': 'emo', 'name': 'nuts', 'preview_url': 'https://p.scdn.co/mp3-preview/4318824c488b6d05cb139db0a98661f8cb21a2cb?cid=11419dac9f88424c93dd910d7d82a6bc', 'id': '4sNG6zQBmtq7M8aeeKJRMQ'}, {'album': 'Point Of Know Return (Expanded Edition)', 'artist': 'Kansas', 'cover_image_url': 'https://i.scdn.co/image/ab67616d0000b27359f0f56a7cd13526b5b4204c', 'genre': 'hard-rock', 'name': 'Dust in the Wind', 'preview_url': 'https://p.scdn.co/mp3-preview/ddfc248171b5199053bafdefbc94ab5b335faa48?cid=11419dac9f88424c93dd910d7d82a6bc', 'id': '39sDitIeCMrVX2QyXHY46t'}, {'album': 'Life After Death (2014 Remastered Edition)', 'artist': 'The Notorious B.I.G.', 'cover_image_url': 'https://i.scdn.co/image/ab67616d0000b273fde79b88e2a659c394c5ae30', 'genre': 'hardcore', 'name': 'Hypnotize - 2014 Remaster', 'preview_url': 'https://p.scdn.co/mp3-preview/6aa2483fe9ac2dae624a1a88952aa24bb5c2414e?cid=11419dac9f88424c93dd910d7d82a6bc', 'id': '39shmbIHICJ2Wxnk1fPSdz'}, {'album': 'Look At Me!', 'artist': 'XXXTENTACION', 'cover_image_url': 'https://i.scdn.co/image/ab67616d0000b27371af28545729f60b3eca66f7', 'genre': 'emo', 'name': 'Look At Me!', 'preview_url': 'https://p.scdn.co/mp3-preview/7add0b609734fafbb2a8284bd5821203d41b46c2?cid=11419dac9f88424c93dd910d7d82a6bc', 'id': '4XvcHTUfIlWfyJTRG0aqlo'}, {'album': 'Deu Moral (Ao Vivo)', 'artist': 'Zé Neto & Cristiano', 'cover_image_url': 'https://i.scdn.co/image/ab67616d0000b273dbe38a923b0c390385bdf7d1', 'genre': 'sertanejo', 'name': 'Deu Moral - Ao Vivo', 'preview_url': 'https://p.scdn.co/mp3-preview/56636e06194fada81367728b5b8607f2b712453c?cid=11419dac9f88424c93dd910d7d82a6bc', 'id': '4aVuWgvD0X63hcOCnZtNFA'}, {'album': 'Wild Ones (feat. Jelly Roll)', 'artist': 'Jessie Murph', 'cover_image_url': 'https://i.scdn.co/image/ab67616d0000b27314408503d0bb34c929cdc2b3', 'genre': 'singer-songwriter', 'name': 'Wild Ones (feat. Jelly Roll)', 'preview_url': 'https://p.scdn.co/mp3-preview/93045a94131f03cc0bf1d80c66437ab68fbf999b?cid=11419dac9f88424c93dd910d7d82a6bc', 'id': '2zYzyRzz6pRmhPzyfMEC8s'}, {'album': 'Hozier (Expanded Edition)', 'artist': 'Hozier', 'cover_image_url': 'https://i.scdn.co/image/ab67616d0000b2734ca68d59a4a29c856a4a39c2', 'genre': 'indie', 'name': 'Take Me to Church', 'preview_url': 'https://p.scdn.co/mp3-preview/d6170162e349338277c97d2fab42c386701a4089?cid=11419dac9f88424c93dd910d7d82a6bc', 'id': '57bgtoPSgt236HzfBOd8kj'}, {'album': 'Agent Provocateur', 'artist': 'Foreigner', 'cover_image_url': 'https://i.scdn.co/image/ab67616d0000b2733e030a7e606959674643d274', 'genre': 'hard-rock', 'name': 'I Want to Know What Love Is - 1999 Remaster', 'preview_url': 'https://p.scdn.co/mp3-preview/23f9b7ad0a9008aca1017cce9b5ba375b322ac8b?cid=11419dac9f88424c93dd910d7d82a6bc', 'id': '4Yf5bqU3NK4kNOypcrLYwU'}, {'album': 'Minutes to Midnight', 'artist': 'Linkin Park', 'cover_image_url': 'https://i.scdn.co/image/ab67616d0000b2736e996745f2c7b8036abef213', 'genre': 'grunge', 'name': \"What I've Done\", 'preview_url': 'https://p.scdn.co/mp3-preview/bb5a97b64d61c8920674717ca753752eee008b95?cid=11419dac9f88424c93dd910d7d82a6bc', 'id': '1QEEqeFIZktqIpPI4jSVSF'}, {'album': 'Boston', 'artist': 'Boston', 'cover_image_url': 'https://i.scdn.co/image/ab67616d0000b2738c1fadcc997a65384f34d694', 'genre': 'hard-rock', 'name': 'More Than a Feeling', 'preview_url': 'https://p.scdn.co/mp3-preview/4e8704349932ecb754e3c03cdf3b1563309627a0?cid=11419dac9f88424c93dd910d7d82a6bc', 'id': '18lR4BzEs7e3qzc0KVkTpU'}, {'album': 'Flower Boy', 'artist': 'Tyler, The Creator', 'cover_image_url': 'https://i.scdn.co/image/ab67616d0000b2738940ac99f49e44f59e6f7fb3', 'genre': 'hip-hop', 'name': 'See You Again (feat. Kali Uchis)', 'preview_url': 'https://p.scdn.co/mp3-preview/c703198293891e3b276800ea6b187cf7951d3d7d?cid=11419dac9f88424c93dd910d7d82a6bc', 'id': '2SiXAy7TuUkycRVbbWDEpo'}, {'album': '17', 'artist': 'XXXTENTACION', 'cover_image_url': 'https://i.scdn.co/image/ab67616d0000b273203c89bd4391468eea4cc3f5', 'genre': 'emo', 'name': 'Jocelyn Flores', 'preview_url': 'https://p.scdn.co/mp3-preview/df466c4bb30333c2ee904e7c876920e418d41732?cid=11419dac9f88424c93dd910d7d82a6bc', 'id': '08mG3Y1vljYA6bvDt4Wqkj'}, {'album': 'EU SOU SENTIMENTO', 'artist': 'Luan Santana', 'cover_image_url': 'https://i.scdn.co/image/ab67616d0000b27382344e9572ebd4236160c6fb', 'genre': 'sertanejo', 'name': 'EU SOU SENTIMENTO', 'preview_url': 'https://p.scdn.co/mp3-preview/064db235addc50049f0f70f4af67ba03427c059b?cid=11419dac9f88424c93dd910d7d82a6bc', 'id': '2tudvzsrR56uom6smgOcSf'}, {'album': 'Fortaleza, Vol.3 (Ao Vivo)', 'artist': 'Murilo Huff', 'cover_image_url': 'https://i.scdn.co/image/ab67616d0000b273c61b4691d0ba09631399ffd3', 'genre': 'sertanejo', 'name': 'Me Caiu Tão Bem - Ao Vivo', 'preview_url': 'https://p.scdn.co/mp3-preview/7d2a03b0ccbeb54b08b8fe99bd82fd059d9da238?cid=11419dac9f88424c93dd910d7d82a6bc', 'id': '7KwZNVEaqikRSBSpyhXK2j'}, {'album': \"Don't Forget About Me, Demos\", 'artist': 'Dominic Fike', 'cover_image_url': 'https://i.scdn.co/image/ab67616d0000b2737b1b6f41c1645af9757d5616', 'genre': 'indie', 'name': 'Babydoll', 'preview_url': 'https://p.scdn.co/mp3-preview/bf5ab98492256120bd9c48658e9c899c8692f77f?cid=11419dac9f88424c93dd910d7d82a6bc', 'id': '7KA4W4McWYRpgf0fWsJZWB'}, {'album': 'Haverá Sinais (Ao Vivo)', 'artist': 'Jorge & Mateus', 'cover_image_url': 'https://i.scdn.co/image/ab67616d0000b273e2cc124172480f276562e107', 'genre': 'sertanejo', 'name': 'Haverá Sinais - Ao Vivo', 'preview_url': 'https://p.scdn.co/mp3-preview/5106dca17c80b1074dd241366359d3908316e03e?cid=11419dac9f88424c93dd910d7d82a6bc', 'id': '1JLn8RhQzHz3qDqsChcmBl'}, {'album': 'THE FIRST TIME', 'artist': 'The Kid LAROI', 'cover_image_url': 'https://i.scdn.co/image/ab67616d0000b2732abb30c6296964d5d07458c2', 'genre': 'hip-hop', 'name': 'NIGHTS LIKE THIS', 'preview_url': 'https://p.scdn.co/mp3-preview/644df54b3b300c95aed1bf5c47033de23d0aaae1?cid=11419dac9f88424c93dd910d7d82a6bc', 'id': '6zeE5tKyr8Nu882DQhhSQI'}, {'album': 'The Razors Edge', 'artist': 'AC/DC', 'cover_image_url': 'https://i.scdn.co/image/ab67616d0000b2738399047ff71200928f5b6508', 'genre': 'hard-rock', 'name': 'Thunderstruck', 'preview_url': 'https://p.scdn.co/mp3-preview/788a028fa3a33141c817b1064e3159006edeaa8d?cid=11419dac9f88424c93dd910d7d82a6bc', 'id': '7LRMbd3LEoV5wZJvXT1Lwb'}, {'album': 'Still Sleep?', 'artist': 'Sleepy Hallow', 'cover_image_url': 'https://i.scdn.co/image/ab67616d0000b27378376f650afd63698b82e4b1', 'genre': 'r-n-b', 'name': '2055', 'preview_url': 'https://p.scdn.co/mp3-preview/d05766a84b267bc5518625b595b8c9f333b46e31?cid=11419dac9f88424c93dd910d7d82a6bc', 'id': '1XBYiRV30ykHw5f4wm6qEn'}, {'album': 'Foi Intenso (Ao Vivo)', 'artist': 'Zé Neto & Cristiano', 'cover_image_url': 'https://i.scdn.co/image/ab67616d0000b273c890e9882380b8375f76bb3f', 'genre': 'sertanejo', 'name': 'Foi Intenso - Ao Vivo', 'preview_url': 'https://p.scdn.co/mp3-preview/cae3976ec7a366f6888b5174ac1325fa28347c89?cid=11419dac9f88424c93dd910d7d82a6bc', 'id': '72kGuWpRiuA149Bn5lDkIO'}, {'album': '062 (Ao Vivo)', 'artist': 'Hugo & Guilherme', 'cover_image_url': 'https://i.scdn.co/image/ab67616d0000b27378b03b7534ce5a81046d36da', 'genre': 'sertanejo', 'name': 'Morena De Goiânia - Ao Vivo', 'preview_url': 'https://p.scdn.co/mp3-preview/0e4f24cc23b05d26645ca9455afec0fe76493741?cid=11419dac9f88424c93dd910d7d82a6bc', 'id': '7FlQk2gJ6TBrHHiidvdR2O'}]\n"
     ]
    }
   ],
   "source": [
    "# Function to fetch embeddings from a Pinecone index\n",
    "def fetch_embeddings(index_name, vector_count, dimensions):\n",
    "    index = pc.Index(index_name)\n",
    "    vector_count = index.describe_index_stats()['total_vector_count']\n",
    "    index_arr = index.query(vector=[0 for _ in range(dimensions)], top_k=vector_count, include_metadata=True)\n",
    "\n",
    "    vector_ids = [v['id'] for v in index_arr['matches']]\n",
    "    batch_size = 100  # Adjust batch size as needed\n",
    "    embeddings = []\n",
    "    metadata = []\n",
    "\n",
    "    for i in range(0, len(vector_ids), batch_size):\n",
    "        batch_ids = vector_ids[i:i + batch_size]\n",
    "        response = index.fetch(ids=batch_ids)\n",
    "        batch_embeddings = [v['values'] for v in response['vectors'].values()]\n",
    "        batch_metadata = [v['metadata'] for v in response['vectors'].values()]\n",
    "        for id_, meta in zip(batch_ids, batch_metadata):\n",
    "            meta['id'] = id_\n",
    "        embeddings.extend(batch_embeddings)\n",
    "        metadata.extend(batch_metadata)\n",
    "\n",
    "    return np.array(embeddings), metadata, vector_count\n",
    "\n",
    "# Fetch song embeddings\n",
    "song_embeddings, song_metadata, song_clusters = fetch_embeddings('ast-song-embeddings', 768, 768)\n",
    "print(song_metadata)\n",
    "# Fetch artist embeddings\n",
    "# artist_embeddings, artist_metadata, artist_clusters = fetch_embeddings('artist-embeddings', 768, 768)\n",
    "\n",
    "# Fetch genre embeddings\n",
    "# genre_embeddings, genre_metadata, genre_clusters = fetch_embeddings('genre-embeddings', 768, 768)\n"
   ]
  },
  {
   "cell_type": "code",
   "execution_count": 19,
   "metadata": {},
   "outputs": [],
   "source": [
    "# Credit to gmacro on stackoverflow for the foundation for this function\n",
    "def voronoi_finite_polygons_2d(vor, radius=None):\n",
    "    # Check if the input is 2D\n",
    "    if vor.points.shape[1] != 2:\n",
    "        raise ValueError(\"Requires 2D input\")\n",
    "\n",
    "    # Calculate the center of the points\n",
    "    center = vor.points.mean(axis=0)\n",
    "    if radius is None:\n",
    "        radius = vor.points.ptp().max() * 2\n",
    "\n",
    "    new_regions = []\n",
    "    new_vertices = vor.vertices.tolist()\n",
    "\n",
    "    # Construct a map containing all ridges for a given point\n",
    "    all_ridges = construct_ridge_map(vor)\n",
    "\n",
    "    # Reconstruct regions\n",
    "    for p1, region in enumerate(vor.point_region):\n",
    "        vertices = vor.regions[region]\n",
    "\n",
    "        if all(v >= 0 for v in vertices):\n",
    "            # Finite region\n",
    "            new_regions.append(vertices)\n",
    "        else:\n",
    "            # Reconstruct a non-finite region\n",
    "            new_region = reconstruct_infinite_region(p1, vertices, all_ridges, vor, center, radius, new_vertices)\n",
    "            new_regions.append(new_region)\n",
    "\n",
    "    return new_regions, np.asarray(new_vertices)\n",
    "\n",
    "def construct_ridge_map(vor):\n",
    "    all_ridges = {}\n",
    "    for (p1, p2), (v1, v2) in zip(vor.ridge_points, vor.ridge_vertices):\n",
    "        all_ridges.setdefault(p1, []).append((p2, v1, v2))\n",
    "        all_ridges.setdefault(p2, []).append((p1, v1, v2))\n",
    "    return all_ridges\n",
    "\n",
    "def reconstruct_infinite_region(p1, vertices, all_ridges, vor, center, radius, new_vertices):\n",
    "    new_region = [v for v in vertices if v >= 0]\n",
    "    for p2, v1, v2 in all_ridges[p1]:\n",
    "        if v2 < 0:\n",
    "            v1, v2 = v2, v1\n",
    "        if v1 >= 0:\n",
    "            # Finite ridge: already in the region\n",
    "            continue\n",
    "        # Compute the missing endpoint of an infinite ridge\n",
    "        far_point = compute_far_point(p1, p2, v2, vor, center, radius)\n",
    "        new_region.append(len(new_vertices))\n",
    "        new_vertices.append(far_point.tolist())\n",
    "    # Sort region counterclockwise\n",
    "    new_region = sort_region_counterclockwise(new_region, new_vertices)\n",
    "    return new_region\n",
    "\n",
    "def compute_far_point(p1, p2, v2, vor, center, radius):\n",
    "    tangent = vor.points[p2] - vor.points[p1]  # Tangent vector\n",
    "    tangent /= np.linalg.norm(tangent)\n",
    "    normal = np.array([-tangent[1], tangent[0]])  # Normal vector\n",
    "    midpoint = vor.points[[p1, p2]].mean(axis=0)\n",
    "    direction = np.sign(np.dot(midpoint - center, normal)) * normal\n",
    "    far_point = vor.vertices[v2] + direction * radius\n",
    "    return far_point\n",
    "\n",
    "def sort_region_counterclockwise(region, vertices):\n",
    "    vs = np.asarray([vertices[v] for v in region])\n",
    "    center = vs.mean(axis=0)\n",
    "    angles = np.arctan2(vs[:, 1] - center[1], vs[:, 0] - center[0])\n",
    "    sorted_region = np.array(region)[np.argsort(angles)]\n",
    "    return sorted_region.tolist()"
   ]
  },
  {
   "cell_type": "code",
   "execution_count": 20,
   "metadata": {},
   "outputs": [],
   "source": [
    "# Perform PCA\n",
    "pca = PCA(n_components=2)\n",
    "song_reduced_embeddings = pca.fit_transform(song_embeddings)\n",
    "# Perform K-means clustering\n",
    "n_clusters = song_clusters // 10  # Adjust this number as needed\n",
    "kmeans = KMeans(n_clusters=n_clusters, init=\"k-means++\", n_init=4, random_state=42)\n",
    "song_cluster_labels = kmeans.fit_predict(song_reduced_embeddings)"
   ]
  },
  {
   "cell_type": "code",
   "execution_count": 21,
   "metadata": {},
   "outputs": [
    {
     "data": {
      "application/vnd.plotly.v1+json": {
       "config": {
        "plotlyServerURL": "https://plot.ly"
       },
       "data": [
        {
         "fill": "toself",
         "fillcolor": "#6c58df",
         "line": {
          "color": "rgba(0,0,0,0)"
         },
         "mode": "lines",
         "type": "scatter",
         "x": [
          -1.725931852896729,
          4.48876413708996,
          -3.868803402152621,
          -3.2627180814590546
         ],
         "y": [
          2.8014436324428256,
          57.45127870334778,
          2.573525848276285,
          2.080972090724817
         ]
        },
        {
         "fill": "toself",
         "fillcolor": "#4248f0",
         "line": {
          "color": "rgba(0,0,0,0)"
         },
         "mode": "lines",
         "type": "scatter",
         "x": [
          1.2615257075879183,
          1.9213832661645163,
          2.0897676513622163,
          1.262301074623465,
          0.6585494075712967,
          0.6441394493509562
         ],
         "y": [
          0.05236042603097518,
          -0.15224411650202366,
          -0.7437952250972637,
          -1.287799648639557,
          -1.0214627985014761,
          -0.35315423426069487
         ]
        },
        {
         "fill": "toself",
         "fillcolor": "#58ce7d",
         "line": {
          "color": "rgba(0,0,0,0)"
         },
         "mode": "lines",
         "type": "scatter",
         "x": [
          -1.2167540174767453,
          -1.3625409228781549,
          -2.1778025258523828,
          -3.190402384456748,
          -3.3156884375592153,
          -1.964924224052651
         ],
         "y": [
          -1.4838436189573163,
          -2.132085695000401,
          -2.3917734583922776,
          -1.5711951934019563,
          -1.0554774931069402,
          -0.6360504991674495
         ]
        },
        {
         "fill": "toself",
         "fillcolor": "#dafe88",
         "line": {
          "color": "rgba(0,0,0,0)"
         },
         "mode": "lines",
         "type": "scatter",
         "x": [
          2.2458529816129755,
          1.68318875779217,
          0.8872058579161629,
          0.879290556371025,
          1.2278497205974546,
          2.1484442409339763
         ],
         "y": [
          1.2303836288604773,
          2.11485354795576,
          1.9055356979159388,
          1.14962628706541,
          0.8987385749737211,
          0.9425067950747736
         ]
        },
        {
         "fill": "toself",
         "fillcolor": "#938bf5",
         "line": {
          "color": "rgba(0,0,0,0)"
         },
         "mode": "lines",
         "type": "scatter",
         "x": [
          1.262301074623465,
          0.6585494075712967,
          0.20891062306916058,
          -0.022758723351640697,
          0.17522688439799672,
          0.463931725382879,
          1.5940145520010867
         ],
         "y": [
          -1.287799648639557,
          -1.0214627985014761,
          -1.2788350095082028,
          -3.231184032700972,
          -3.6191717617717165,
          -3.6269852195836116,
          -2.3032576126159996
         ]
        },
        {
         "fill": "toself",
         "fillcolor": "#7e566c",
         "line": {
          "color": "rgba(0,0,0,0)"
         },
         "mode": "lines",
         "type": "scatter",
         "x": [
          0.6441394493509562,
          0.6585494075712967,
          0.20891062306916058,
          -0.5453524164133042,
          -0.6899410632185636,
          -0.009189397792269682
         ],
         "y": [
          -0.35315423426069487,
          -1.0214627985014761,
          -1.2788350095082028,
          -1.069118233262893,
          -0.17832923082619057,
          0.35547922192702713
         ]
        },
        {
         "fill": "toself",
         "fillcolor": "#c8b699",
         "line": {
          "color": "rgba(0,0,0,0)"
         },
         "mode": "lines",
         "type": "scatter",
         "x": [
          -1.727389015242104,
          -1.6447149452887075,
          -1.725931852896729,
          -3.2627180814590546,
          -3.246111038717566,
          -1.8084136631139662
         ],
         "y": [
          0.8029887816471903,
          2.6897911236766188,
          2.8014436324428256,
          2.080972090724817,
          0.9357908020871263,
          0.7039880994989387
         ]
        },
        {
         "fill": "toself",
         "fillcolor": "#4257ed",
         "line": {
          "color": "rgba(0,0,0,0)"
         },
         "mode": "lines",
         "type": "scatter",
         "x": [
          3.3367737514532663,
          2.3436983623743184,
          2.1484442409339763,
          2.2458529816129755,
          2.965694969119138,
          3.842905036900568,
          3.4691680459039116
         ],
         "y": [
          0.2464828538077235,
          0.5439872815624804,
          0.9425067950747736,
          1.2303836288604773,
          1.667827912914301,
          1.3912655848589832,
          0.30096969209647895
         ]
        },
        {
         "fill": "toself",
         "fillcolor": "#8ee7e2",
         "line": {
          "color": "rgba(0,0,0,0)"
         },
         "mode": "lines",
         "type": "scatter",
         "x": [
          -21.511031366956953,
          -5.154250707310941,
          -1.0472604547947741,
          -2.4516580774244425,
          -4.6342020526485
         ],
         "y": [
          -13.446548841156249,
          -23.74466648559603,
          -4.795451861199091,
          -3.5808568207899683,
          -3.9012496781430435
         ]
        },
        {
         "fill": "toself",
         "fillcolor": "#934387",
         "line": {
          "color": "rgba(0,0,0,0)"
         },
         "mode": "lines",
         "type": "scatter",
         "x": [
          2.623987860458931,
          4.854309221555207,
          0.463931725382879,
          1.5940145520010867
         ],
         "y": [
          -2.292409709864483,
          -6.470225841636987,
          -3.6269852195836116,
          -2.3032576126159996
         ]
        },
        {
         "fill": "toself",
         "fillcolor": "#98bb63",
         "line": {
          "color": "rgba(0,0,0,0)"
         },
         "mode": "lines",
         "type": "scatter",
         "x": [
          -20.693485668486787,
          -29.06371231115367,
          -3.4638314354258894,
          -3.274399646189633
         ],
         "y": [
          0.27686898927864,
          -0.5051665215471542,
          -0.9207451213159165,
          0.9034193247406864
         ]
        },
        {
         "fill": "toself",
         "fillcolor": "#93d9ab",
         "line": {
          "color": "rgba(0,0,0,0)"
         },
         "mode": "lines",
         "type": "scatter",
         "x": [
          -48.42887265709662,
          -29.06371231115367,
          -20.693485668486787,
          -3.868803402152621,
          4.48876413708996,
          6.959455918697293
         ],
         "y": [
          -1.469878183983254,
          -0.5051665215471542,
          0.27686898927864,
          2.573525848276285,
          57.45127870334778,
          76.6823937499596
         ]
        },
        {
         "fill": "toself",
         "fillcolor": "#e151dc",
         "line": {
          "color": "rgba(0,0,0,0)"
         },
         "mode": "lines",
         "type": "scatter",
         "x": [
          0.005621191593285113,
          -0.5302339835948757,
          -1.727389015242104,
          -1.8084136631139662,
          -1.6181902960469312,
          -0.6899410632185636,
          -0.009189397792269682
         ],
         "y": [
          0.5955207982274602,
          1.1526118775636305,
          0.8029887816471903,
          0.7039880994989387,
          0.070062789676275,
          -0.17832923082619057,
          0.35547922192702713
         ]
        },
        {
         "fill": "toself",
         "fillcolor": "#60c39d",
         "line": {
          "color": "rgba(0,0,0,0)"
         },
         "mode": "lines",
         "type": "scatter",
         "x": [
          3.4691680459039116,
          5.741810337828756,
          24.415310434626686,
          20.35003685608821,
          3.842905036900568
         ],
         "y": [
          0.30096969209647895,
          -1.3944994970159579,
          -6.61374254084993,
          11.562534085871258,
          1.3912655848589832
         ]
        },
        {
         "fill": "toself",
         "fillcolor": "#e5ffa5",
         "line": {
          "color": "rgba(0,0,0,0)"
         },
         "mode": "lines",
         "type": "scatter",
         "x": [
          -0.4611792749938195,
          -1.6447149452887075,
          -1.727389015242104,
          -0.5302339835948757
         ],
         "y": [
          2.043008043622573,
          2.6897911236766188,
          0.8029887816471903,
          1.1526118775636305
         ]
        },
        {
         "fill": "toself",
         "fillcolor": "#e67e4c",
         "line": {
          "color": "rgba(0,0,0,0)"
         },
         "mode": "lines",
         "type": "scatter",
         "x": [
          -2.1778025258523828,
          -2.4516580774244425,
          -4.6342020526485,
          -3.190402384456748
         ],
         "y": [
          -2.3917734583922776,
          -3.5808568207899683,
          -3.9012496781430435,
          -1.5711951934019563
         ]
        },
        {
         "fill": "toself",
         "fillcolor": "#b5ba6d",
         "line": {
          "color": "rgba(0,0,0,0)"
         },
         "mode": "lines",
         "type": "scatter",
         "x": [
          2.7538597848718758,
          3.3367737514532663,
          3.4691680459039116,
          5.741810337828756,
          3.055071387368421
         ],
         "y": [
          -0.9692973676907755,
          0.2464828538077235,
          0.30096969209647895,
          -1.3944994970159579,
          -1.468098096549122
         ]
        },
        {
         "fill": "toself",
         "fillcolor": "#76877e",
         "line": {
          "color": "rgba(0,0,0,0)"
         },
         "mode": "lines",
         "type": "scatter",
         "x": [
          -1.2167540174767453,
          -1.3625409228781549,
          -0.022758723351640697,
          0.20891062306916058,
          -0.5453524164133042
         ],
         "y": [
          -1.4838436189573163,
          -2.132085695000401,
          -3.231184032700972,
          -1.2788350095082028,
          -1.069118233262893
         ]
        },
        {
         "fill": "toself",
         "fillcolor": "#cc9dd2",
         "line": {
          "color": "rgba(0,0,0,0)"
         },
         "mode": "lines",
         "type": "scatter",
         "x": [
          0.879290556371025,
          0.8872058579161629,
          0.3713033094078478,
          -0.4611792749938195,
          -0.5302339835948757,
          0.005621191593285113
         ],
         "y": [
          1.14962628706541,
          1.9055356979159388,
          2.3783547111016476,
          2.043008043622573,
          1.1526118775636305,
          0.5955207982274602
         ]
        },
        {
         "fill": "toself",
         "fillcolor": "#504de4",
         "line": {
          "color": "rgba(0,0,0,0)"
         },
         "mode": "lines",
         "type": "scatter",
         "x": [
          -1.3625409228781549,
          -2.1778025258523828,
          -2.4516580774244425,
          -1.0472604547947741,
          0.17522688439799672,
          -0.022758723351640697
         ],
         "y": [
          -2.132085695000401,
          -2.3917734583922776,
          -3.5808568207899683,
          -4.795451861199091,
          -3.6191717617717165,
          -3.231184032700972
         ]
        },
        {
         "fill": "toself",
         "fillcolor": "#57b999",
         "line": {
          "color": "rgba(0,0,0,0)"
         },
         "mode": "lines",
         "type": "scatter",
         "x": [
          -5.154250707310941,
          18.764853167208386,
          4.854309221555207,
          0.463931725382879,
          0.17522688439799672,
          -1.0472604547947741
         ],
         "y": [
          -23.74466648559603,
          -19.97714521474991,
          -6.470225841636987,
          -3.6269852195836116,
          -3.6191717617717165,
          -4.795451861199091
         ]
        },
        {
         "fill": "toself",
         "fillcolor": "#905848",
         "line": {
          "color": "rgba(0,0,0,0)"
         },
         "mode": "lines",
         "type": "scatter",
         "x": [
          -1.6181902960469312,
          -1.8084136631139662,
          -3.246111038717566,
          -3.274399646189633,
          -3.4638314354258894,
          -3.3156884375592153,
          -1.964924224052651
         ],
         "y": [
          0.070062789676275,
          0.7039880994989387,
          0.9357908020871263,
          0.9034193247406864,
          -0.9207451213159165,
          -1.0554774931069402,
          -0.6360504991674495
         ]
        },
        {
         "fill": "toself",
         "fillcolor": "#eafef3",
         "line": {
          "color": "rgba(0,0,0,0)"
         },
         "mode": "lines",
         "type": "scatter",
         "x": [
          -21.511031366956953,
          -4.6342020526485,
          -3.190402384456748,
          -3.3156884375592153,
          -3.4638314354258894,
          -29.06371231115367,
          -48.42887265709662
         ],
         "y": [
          -13.446548841156249,
          -3.9012496781430435,
          -1.5711951934019563,
          -1.0554774931069402,
          -0.9207451213159165,
          -0.5051665215471542,
          -1.469878183983254
         ]
        },
        {
         "fill": "toself",
         "fillcolor": "#d9a47b",
         "line": {
          "color": "rgba(0,0,0,0)"
         },
         "mode": "lines",
         "type": "scatter",
         "x": [
          2.7538597848718758,
          2.0897676513622163,
          1.262301074623465,
          1.5940145520010867,
          2.623987860458931,
          3.055071387368421
         ],
         "y": [
          -0.9692973676907755,
          -0.7437952250972637,
          -1.287799648639557,
          -2.3032576126159996,
          -2.292409709864483,
          -1.468098096549122
         ]
        },
        {
         "fill": "toself",
         "fillcolor": "#6ec688",
         "line": {
          "color": "rgba(0,0,0,0)"
         },
         "mode": "lines",
         "type": "scatter",
         "x": [
          2.406144896935464,
          2.965694969119138,
          3.842905036900568,
          20.35003685608821,
          6.282672553276779
         ],
         "y": [
          3.0979516657308244,
          1.667827912914301,
          1.3912655848589832,
          11.562534085871258,
          22.095652504130783
         ]
        },
        {
         "fill": "toself",
         "fillcolor": "#40c7d2",
         "line": {
          "color": "rgba(0,0,0,0)"
         },
         "mode": "lines",
         "type": "scatter",
         "x": [
          2.7538597848718758,
          2.0897676513622163,
          1.9213832661645163,
          2.3436983623743184,
          3.3367737514532663
         ],
         "y": [
          -0.9692973676907755,
          -0.7437952250972637,
          -0.15224411650202366,
          0.5439872815624804,
          0.2464828538077235
         ]
        },
        {
         "fill": "toself",
         "fillcolor": "#cd54af",
         "line": {
          "color": "rgba(0,0,0,0)"
         },
         "mode": "lines",
         "type": "scatter",
         "x": [
          2.965694969119138,
          2.406144896935464,
          1.68318875779217,
          2.2458529816129755
         ],
         "y": [
          1.667827912914301,
          3.0979516657308244,
          2.11485354795576,
          1.2303836288604773
         ]
        },
        {
         "fill": "toself",
         "fillcolor": "#8db4ad",
         "line": {
          "color": "rgba(0,0,0,0)"
         },
         "mode": "lines",
         "type": "scatter",
         "x": [
          0.879290556371025,
          0.005621191593285113,
          -0.009189397792269682,
          0.6441394493509562,
          1.2615257075879183,
          1.2278497205974546
         ],
         "y": [
          1.14962628706541,
          0.5955207982274602,
          0.35547922192702713,
          -0.35315423426069487,
          0.05236042603097518,
          0.8987385749737211
         ]
        },
        {
         "fill": "toself",
         "fillcolor": "#bbb361",
         "line": {
          "color": "rgba(0,0,0,0)"
         },
         "mode": "lines",
         "type": "scatter",
         "x": [
          -1.725931852896729,
          -1.6447149452887075,
          -0.4611792749938195,
          0.3713033094078478,
          2.9723979941927903,
          6.959455918697293,
          4.48876413708996
         ],
         "y": [
          2.8014436324428256,
          2.6897911236766188,
          2.043008043622573,
          2.3783547111016476,
          21.592266604740203,
          76.6823937499596,
          57.45127870334778
         ]
        },
        {
         "fill": "toself",
         "fillcolor": "#e1d879",
         "line": {
          "color": "rgba(0,0,0,0)"
         },
         "mode": "lines",
         "type": "scatter",
         "x": [
          0.3713033094078478,
          0.8872058579161629,
          1.68318875779217,
          2.406144896935464,
          6.282672553276779,
          2.9723979941927903
         ],
         "y": [
          2.3783547111016476,
          1.9055356979159388,
          2.11485354795576,
          3.0979516657308244,
          22.095652504130783,
          21.592266604740203
         ]
        },
        {
         "fill": "toself",
         "fillcolor": "#694269",
         "line": {
          "color": "rgba(0,0,0,0)"
         },
         "mode": "lines",
         "type": "scatter",
         "x": [
          2.1484442409339763,
          1.2278497205974546,
          1.2615257075879183,
          1.9213832661645163,
          2.3436983623743184
         ],
         "y": [
          0.9425067950747736,
          0.8987385749737211,
          0.05236042603097518,
          -0.15224411650202366,
          0.5439872815624804
         ]
        },
        {
         "fill": "toself",
         "fillcolor": "#4597a4",
         "line": {
          "color": "rgba(0,0,0,0)"
         },
         "mode": "lines",
         "type": "scatter",
         "x": [
          4.854309221555207,
          18.764853167208386,
          24.415310434626686,
          5.741810337828756,
          3.055071387368421,
          2.623987860458931
         ],
         "y": [
          -6.470225841636987,
          -19.97714521474991,
          -6.61374254084993,
          -1.3944994970159579,
          -1.468098096549122,
          -2.292409709864483
         ]
        },
        {
         "fill": "toself",
         "fillcolor": "#d3d06f",
         "line": {
          "color": "rgba(0,0,0,0)"
         },
         "mode": "lines",
         "type": "scatter",
         "x": [
          -1.2167540174767453,
          -1.964924224052651,
          -1.6181902960469312,
          -0.6899410632185636,
          -0.5453524164133042
         ],
         "y": [
          -1.4838436189573163,
          -0.6360504991674495,
          0.070062789676275,
          -0.17832923082619057,
          -1.069118233262893
         ]
        },
        {
         "fill": "toself",
         "fillcolor": "#e0c8f6",
         "line": {
          "color": "rgba(0,0,0,0)"
         },
         "mode": "lines",
         "type": "scatter",
         "x": [
          -3.246111038717566,
          -3.274399646189633,
          -20.693485668486787,
          -3.868803402152621,
          -3.2627180814590546
         ],
         "y": [
          0.9357908020871263,
          0.9034193247406864,
          0.27686898927864,
          2.573525848276285,
          2.080972090724817
         ]
        },
        {
         "marker": {
          "color": "white",
          "size": 10,
          "symbol": "x"
         },
         "mode": "markers",
         "name": "Centroids",
         "type": "scatter",
         "x": [
          -2.969143091009951,
          1.3871642750835664,
          -2.037783338019032,
          1.605755787539149,
          0.7347078656875271,
          -0.09361297392275507,
          -2.2216051226619284,
          2.8771189127023846,
          -2.806177813911625,
          2.089055564850351,
          -4.239078513397988,
          -4.5438367519147755,
          -0.8517487595947443,
          4.366930878987194,
          -1.1656551287825796,
          -3.0784044968622806,
          3.5422347429910044,
          -0.45666264054683775,
          0.15890655521556052,
          -1.5139764608176185,
          0.6429839926832869,
          -2.481201126229721,
          -4.274043141789571,
          2.0722760695337357,
          3.2748781451602924,
          2.5373051437804524,
          2.3341165782729383,
          0.8417274301524712,
          -0.4269747353644652,
          1.2800753094686903,
          1.654683730826433,
          3.5882684005372583,
          -1.156636400907075,
          -4.289347046834896
         ],
         "y": [
          3.191094146983336,
          -0.4594524826833533,
          -1.4415303438116125,
          1.4324291496237385,
          -1.9384879396526151,
          -0.4913807556900785,
          1.5965744629090663,
          1.0022386430126509,
          -4.580096628582527,
          -3.0947115222368815,
          0.16904435615191427,
          3.430910975113772,
          0.47544956715997,
          0.49155356648784876,
          1.550305873075024,
          -2.7256648173439,
          -0.6138863487211625,
          -1.7971177116628616,
          1.447579441179583,
          -3.0859652943785094,
          -5.32765657762644,
          -0.013503801405426617,
          -1.9847968719254145,
          -1.501552669195808,
          2.2638652923056104,
          -0.13206612459474698,
          1.895783018570395,
          0.37096191603253054,
          2.902002634351998,
          2.670909725065394,
          0.40330810294615776,
          -2.2943588243684854,
          -0.6639256775621624,
          1.5665887489842796
         ]
        },
        {
         "hoverinfo": "text",
         "marker": {
          "color": "black",
          "size": 5
         },
         "mode": "markers",
         "text": [
          "Linger - SiriusXM Session by Royel Otis",
          "APAGA EL CEL by FloyyMenor",
          "one of wun by Gunna",
          "HARLEY QUINN by Fuerza Regida",
          "Ain't No Sunshine by Bill Withers",
          "If I Ain't Got You by Alicia Keys",
          "La Diabla by Xavi",
          "Don't by Bryson Tiller",
          "CRAZYZ by Fuerza Regida",
          "Romantic Lover by Eyedress",
          "HOLLYWOOD by Peso Pluma",
          "offline by Young Miko",
          "Dreams - 2004 Remaster by Fleetwood Mac",
          "Something About You by Eyedress",
          "Gasolina by Daddy Yankee",
          "Otherside by Red Hot Chili Peppers",
          "Según Quién by Maluma",
          "I'm Good (Blue) by David Guetta",
          "Ojitos Lindos by Bad Bunny",
          "Oh, Pretty Woman by Roy Orbison",
          "Bleed It Out by Linkin Park",
          "Type Shit by Future",
          "Lovin On Me by Jack Harlow",
          "Like a Stone by Audioslave",
          "LA FALDA by Myke Towers",
          "Ivy by Frank Ocean",
          "My Way by Calvin Harris",
          "MOJABI GHOST by Tainy",
          "Mmhmm by BigXthaPlug",
          "Cúrame by Rauw Alejandro",
          "POR EL CONTRARIO (with Angela Aguilar & Leonardo Aguilar) by Becky G",
          "Efecto by Bad Bunny",
          "Gangsta's Paradise by Coolio",
          "GIRLS by The Kid LAROI",
          "Rude by MAGIC!",
          "Snow (Hey Oh) by Red Hot Chili Peppers",
          "La Bachata by Manuel Turizo",
          "Stressed Out by Twenty One Pilots",
          "Show Me How by Men I Trust",
          "Lovely Day by Bill Withers",
          "MONACO by Bad Bunny",
          "ROCKSTAR by Junior H",
          "Y LLORO by Junior H",
          "La Víctima by Xavi",
          "Corazón de Piedra by Xavi",
          "Atlantis by Seafret",
          "Me Porto Bonito by Bad Bunny",
          "Dedo do Meio - Ao Vivo by Murilo Huff",
          "LOKERA by Rauw Alejandro",
          "Knockin' On Heaven's Door by Bob Dylan",
          "Rockstar by LISA",
          "Give It To Me - Full Vocal Mix by Matt Sassari",
          "Don't Stop Believin' (2022 Remaster) by Journey",
          "La Bebe - Remix by Yng Lvcas",
          "SPIDER by GIMS",
          "Madonna by Natanael Cano",
          "Why'd You Only Call Me When You're High? by Arctic Monkeys",
          "Who by Jimin",
          "R U Mine? by Arctic Monkeys",
          "Pink + White by Frank Ocean",
          "Rich Girl by Daryl Hall & John Oates",
          "Gata Only by FloyyMenor",
          "Todo De Ti by Rauw Alejandro",
          "LA PATRULLA by Peso Pluma",
          "Si No Quieres No by Luis R Conriquez",
          "Ride by Twenty One Pilots",
          "GTA by Luis R Conriquez",
          "Sundress by A$AP Rocky",
          "LALA by Myke Towers",
          "UNA CERVEZA by Fuerza Regida",
          "Santa by Rvssian",
          "El Azul by Junior H",
          "redrum by 21 Savage",
          "Moscow Mule by Bad Bunny",
          "fukumean by Gunna",
          "LADY GAGA by Peso Pluma",
          "Triplex - Ao Vivo by Matheus Fernandes",
          "Dani California by Red Hot Chili Peppers",
          "Iris by The Goo Goo Dolls",
          "Back On My BS by BigXthaPlug",
          "RELOJ by Peso Pluma",
          "SANTAL 33 by Peso Pluma",
          "Desesperados by Rauw Alejandro",
          "Que Onda by Calle 24",
          "TÚ NAME by Fuerza Regida",
          "REAL GANGSTA LOVE by Trueno",
          "The Color Violet by Tory Lanez",
          "Smeraldo Garden Marching Band (feat. Loco) by Jimin",
          "death bed (coffee for your head) by Powfu",
          "VINO TINTO by Peso Pluma",
          "DILUVIO by Rauw Alejandro",
          "Ric Flair Drip (with Metro Boomin) by Offset",
          "Whatever She Wants by Bryson Tiller",
          "I Wanna Be Yours by Arctic Monkeys",
          "Toxic by Britney Spears",
          "Do I Wanna Know? by Arctic Monkeys",
          "Killing In The Name by Rage Against The Machine",
          "we fell in love in october by girl in red",
          "Good Looking by Suki Waterhouse",
          "Primera Cita by Carin Leon",
          "ceilings by Lizzy McAlpine",
          "Deja Vu by TOMORROW X TOGETHER",
          "Tongue Tied by GROUPLOVE",
          "K. by Cigarettes After Sex",
          "misses by Dominic Fike",
          "Mrs. Robinson - From \"The Graduate\" Soundtrack by Simon & Garfunkel",
          "Pink Skies by Zach Bryan",
          "Tití Me Preguntó by Bad Bunny",
          "Nasty by Tinashe",
          "You Get Me So High by The Neighbourhood",
          "Aerials by System Of A Down",
          "Nightcrawler (feat. Swae Lee & Chief Keef) by Travis Scott",
          "XO (Only If You Say Yes) by ENHYPEN",
          "Heading South by Zach Bryan",
          "Be Mine by Jimin",
          "Daddy Issues by The Neighbourhood",
          "Parking Lot by Mustard",
          "Seven (feat. Latto) (Explicit Ver.) by Jung Kook",
          "Too Sweet by Hozier",
          "EASY by LE SSERAFIM",
          "Standing Next to You by Jung Kook",
          "PERRO NEGRO by Bad Bunny",
          "I KNOW ? by Travis Scott",
          "A Bar Song (Tipsy) by Shaboozey",
          "Heathens by Twenty One Pilots",
          "Never Let Go by Jung Kook",
          "Feel Good Inc. by Gorillaz",
          "ADIVINO by Myke Towers",
          "Sun to Me by Zach Bryan",
          "Slow It Down by Benson Boone",
          "How You Remind Me by Nickelback",
          "I Remember Everything (feat. Kacey Musgraves) by Zach Bryan",
          "Sweater Weather by The Neighbourhood",
          "Vienna by Billy Joel",
          "Creep by Radiohead",
          "Uptown Girl by Billy Joel",
          "ABCD by NAYEON",
          "Smooth Operator - Single Version by Sade",
          "Sunsetz by Cigarettes After Sex",
          "Supernatural by NewJeans",
          "Saturn by SZA",
          "Move by Adam Port",
          "Easy On Me by Adele",
          "Shut Up and Dance by WALK THE MOON",
          "Can't Stop by Red Hot Chili Peppers",
          "BUTTERFLY EFFECT by Travis Scott",
          "Something in the Orange by Zach Bryan",
          "goosebumps by Travis Scott",
          "One Step Closer by Linkin Park",
          "Another Love by Tom Odell",
          "BEST INTEREST by Tyler, The Creator",
          "Budapest by George Ezra",
          "How to Save a Life by The Fray",
          "Apocalypse by Cigarettes After Sex",
          "Scar Tissue by Red Hot Chili Peppers",
          "SICKO MODE by Travis Scott",
          "Alibi (with Pabllo Vittar & Yseult) by Sevdaliza",
          "Seven Nation Army by The White Stripes",
          "HIGHEST IN THE ROOM by Travis Scott",
          "(Sittin' On) the Dock of the Bay by Otis Redding",
          "Duality by Slipknot",
          "La Grange (2005 Remaster) by ZZ Top",
          "Mirame by Blessd",
          "I Smoked Away My Brain (I'm God x Demons Mashup) (feat. Imogen Heap & Clams Casino) by A$AP Rocky",
          "Toxicity by System Of A Down",
          "How Sweet by NewJeans",
          "Everlong by Foo Fighters",
          "Stargazing by Myles Smith",
          "Closer Than This by Jimin",
          "Super Shy by NewJeans",
          "Je te laisserai des mots by Patrick Watson",
          "Californication by Red Hot Chili Peppers",
          "The Spins by Mac Miller",
          "Softcore by The Neighbourhood",
          "360 by Charli xcx",
          "Lost in the Fire (feat. The Weeknd) by Gesaffelstein",
          "Take Me Out by Franz Ferdinand",
          "Dancing in the Moonlight by Toploader",
          "Tell Ur Girlfriend by Lay Bankz",
          "Where the Wild Things Are by Luke Combs",
          "FE!N (feat. Playboi Carti) by Travis Scott",
          "Under the Bridge by Red Hot Chili Peppers",
          "Skyfall by Adele",
          "Cry by Cigarettes After Sex",
          "Magnetic by ILLIT",
          "Perfect Night by LE SSERAFIM",
          "KEHLANI by Jordan Adetunji",
          "Chop Suey! by System Of A Down",
          "Chk Chk Boom by Stray Kids",
          "Cigarette Daydreams by Cage The Elephant",
          "Sweet by Cigarettes After Sex",
          "Borro Cassette by Maluma",
          "Pumped Up Kicks by Foster The People",
          "Numb by Linkin Park",
          "28 by Zach Bryan",
          "Like Crazy by Jimin",
          "Running Up That Hill (A Deal With God) by Kate Bush",
          "Sticky by KISS OF LIFE",
          "Electric Feel by MGMT",
          "In the End by Linkin Park",
          "She Got the Best of Me by Luke Combs",
          "DJ Got Us Fallin' In Love (feat. Pitbull) by USHER",
          "Summer by Calvin Harris",
          "Hips Don't Lie (feat. Wyclef Jean) by Shakira",
          "Basket Case by Green Day",
          "Drops of Jupiter (Tell Me) by Train",
          "Happier by Marshmello",
          "Where Are You Now by Lost Frequencies",
          "For the First Time by Mac DeMarco",
          "Take on Me by a-ha",
          "Hey, Soul Sister by Train",
          "Everybody Dies In Their Nightmares by XXXTENTACION",
          "White Ferrari by Frank Ocean",
          "Uptown Funk (feat. Bruno Mars) by Mark Ronson",
          "My Kind of Woman by Mac DeMarco",
          "Apple by Charli xcx",
          "As It Was by Harry Styles",
          "Get Lucky (Radio Edit) [feat. Pharrell Williams and Nile Rodgers] by Daft Punk",
          "Smalltown Boy by Bronski Beat",
          "I Don't Wanna Wait by David Guetta",
          "Evergreen by Richy Mitch & The Coal Miners",
          "Snooze by SZA",
          "Sweet Dreams (Are Made of This) - Remastered by Eurythmics",
          "How Deep Is Your Love by Calvin Harris",
          "Silence by Marshmello",
          "Just the Way You Are by Bruno Mars",
          "Unwritten by Natasha Bedingfield",
          "Yeah! (feat. Lil Jon & Ludacris) by USHER",
          "High Road (feat. Jessie Murph) by Koe Wetzel",
          "Ride Or Die, Pt. 2 (with Villano Antillano & Tokischa) by Sevdaliza",
          "El Merengue by Marshmello",
          "Valerie (feat. Amy Winehouse) - Version Revisited by Mark Ronson",
          "I Wanna Dance with Somebody (Who Loves Me) by Whitney Houston",
          "i am not who i was by Chance Peña",
          "Lady - Hear Me Tonight by Modjo",
          "When I Come Around by Green Day",
          "Sunroof by Nicky Youre",
          "Time of Our Lives by Pitbull",
          "Revenge by XXXTENTACION",
          "Human by Rag'n'Bone Man",
          "Un Desperdicio by Rels B",
          "I Love Rock 'N Roll by Joan Jett & the Blackhearts",
          "Temperature by Sean Paul",
          "Baby Don't Hurt Me by David Guetta",
          "Outside (feat. Ellie Goulding) by Calvin Harris",
          "Timber by Pitbull",
          "Locked out of Heaven by Bruno Mars",
          "greedy by Tate McRae",
          "A Mí by Rels B",
          "Star Shopping by Lil Peep",
          "Ride It by Regard",
          "Thank You (Not So Bad) by Dimitri Vegas & Like Mike",
          "When It Rains It Pours by Luke Combs",
          "Oklahoma Smokeshow by Zach Bryan",
          "Falling Down - Bonus Track by Lil Peep",
          "Belong Together by Mark Ambor",
          "In The Stars by Benson Boone",
          "No Scrubs by TLC",
          "Freaks by Surf Curse",
          "Hey Driver (feat. The War and Treaty) by Zach Bryan",
          "JOYRIDE by Kesha",
          "Dancing In the Dark by Bruce Springsteen",
          "you look like you love me (feat. Riley Green) by Ella Langley",
          "Deep Down (feat. Never Dull) by Alok",
          "Give Me Everything (feat. Nayer) by Pitbull",
          "Nothing's Gonna Stop Us Now by Starship",
          "Shivers by Ed Sheeran",
          "Back On 74 by Jungle",
          "Beautiful Crazy by Luke Combs",
          "September by Earth, Wind & Fire",
          "TiK ToK by Kesha",
          "Burn, Burn, Burn by Zach Bryan",
          "Porch Light by Josh Meloy",
          "Nine Ball by Zach Bryan",
          "Miles On It by Marshmello",
          "Blame (feat. John Newman) by Calvin Harris",
          "Forever Young by Alphaville",
          "Better Days (feat. John Mayer) by Zach Bryan",
          "Tiroteo - Remix by Marc Seguí",
          "Heartless (feat. Morgan Wallen) by Diplo",
          "Fast Car by Luke Combs",
          "Chamber Of Reflection by Mac DeMarco",
          "Spotless (feat. The Lumineers) by Zach Bryan",
          "All Your'n by Tyler Childers",
          "i was all over her by salvia palth",
          "Feel So Close - Radio Edit by Calvin Harris",
          "That's What I Like by Bruno Mars",
          "Lush Life by Zara Larsson",
          "Ain't No Love In Oklahoma (From Twisters: The Album) by Luke Combs",
          "Fuck Love by XXXTENTACION",
          "Carry You Home by Alex Warren",
          "Beautiful Things by Benson Boone",
          "Whatever by Kygo",
          "American Nights by Zach Bryan",
          "Beer Never Broke My Heart by Luke Combs",
          "All of Me by John Legend",
          "There Is a Light That Never Goes Out - 2011 Remaster by The Smiths",
          "Your Love by The Outfield",
          "One Kiss (with Dua Lipa) by Calvin Harris",
          "This Is What You Came For by Calvin Harris",
          "Dust in the Wind by Kansas",
          "Desilusão (MTG) (feat. Loirin Prod) by Bruno & Marrone",
          "Blue Hair by TV Girl",
          "Listen to the Music by The Doobie Brothers",
          "Babydoll by Dominic Fike",
          "Minha Herança by Ana Castela",
          "Haverá Sinais - Ao Vivo by Jorge & Mateus",
          "Thunderstruck by AC/DC",
          "Take Me to Church by Hozier",
          "Hypnotize - 2014 Remaster by The Notorious B.I.G.",
          "nuts by Lil Peep",
          "Look At Me! by XXXTENTACION",
          "Morena De Goiânia - Ao Vivo by Hugo & Guilherme",
          "From The Start by Laufey",
          "T.N.T. by AC/DC",
          "Highway to Hell by AC/DC",
          "2055 by Sleepy Hallow",
          "NIGHTS LIKE THIS by The Kid LAROI",
          "Shut up My Moms Calling by Hotel Ugly",
          "Lovers Rock by TV Girl",
          "Jealous by Eyedress",
          "Morar Nesse Motel by Gusttavo Lima",
          "Like That by Future",
          "Deu Moral - Ao Vivo by Zé Neto & Cristiano",
          "Back In Black by AC/DC",
          "You Shook Me All Night Long by AC/DC",
          "See You Again (feat. Kali Uchis) by Tyler, The Creator",
          "Wild Ones (feat. Jelly Roll) by Jessie Murph",
          "EU SOU SENTIMENTO by Luan Santana",
          "Cigarettes out the Window by TV Girl",
          "Brazil by Declan McKenna",
          "What I've Done by Linkin Park",
          "Hold the Line by TOTO",
          "End of Beginning by Djo",
          "I Want to Know What Love Is - 1999 Remaster by Foreigner",
          "Faint by Linkin Park",
          "We Ride by Bryan Martin",
          "MAMIII by Becky G",
          "Not Allowed by TV Girl",
          "Jocelyn Flores by XXXTENTACION",
          "Me Caiu Tão Bem - Ao Vivo by Murilo Huff",
          "Riptide by Vance Joy",
          "I Love You So by The Walters",
          "Brown Eyed Girl by Van Morrison",
          "Should I Stay or Should I Go - Remastered by The Clash",
          "Foi Intenso - Ao Vivo by Zé Neto & Cristiano",
          "Teenagers by My Chemical Romance",
          "My Love Mine All Mine by Mitski",
          "More Than a Feeling by Boston"
         ],
         "type": "scatter",
         "x": [
          0.9236817880630096,
          3.2177251293221687,
          2.664618472161351,
          1.2450816467866597,
          -2.8223056118424923,
          1.754298733108936,
          1.4573946405927365,
          3.294276398581954,
          1.9328127000209048,
          -1.1792719602065527,
          0.8798509263204587,
          2.6678118389914545,
          -0.6107176117434676,
          -1.4713002384768308,
          2.6653877603569125,
          -1.7174173278867004,
          1.5383090042249563,
          -1.572445891891213,
          2.295569496126858,
          0.013457498156064498,
          -1.8494354749288244,
          -2.6782006142017445,
          1.7722682899845572,
          -1.884063875608277,
          3.0788772900702135,
          0.5760707005487536,
          0.9302257369080277,
          0.10983177812117972,
          3.1584218799151293,
          2.507906774785583,
          -0.6522468046597751,
          2.6997855376338364,
          -0.8705605428480943,
          0.16743048181933828,
          0.6269612292153102,
          -1.1884597435416764,
          2.5244317339221922,
          0.43129717614160995,
          -1.129284181043286,
          -1.9613245525591008,
          2.962329871114016,
          0.4242433441566246,
          2.0958678779839244,
          2.3919164766624093,
          2.1962533614243474,
          -4.3988346807129375,
          5.490324503919169,
          0.2961164482359159,
          3.505740422044928,
          -1.4982704389773656,
          1.6148135049280377,
          0.02496445503993234,
          -0.8411402813216695,
          3.553868211626764,
          2.4817823689216576,
          1.5542716726988377,
          -2.277911824190575,
          1.6977250267673256,
          -3.5148062213183136,
          -1.7769806046640055,
          0.9251700297375047,
          -0.7632444764413304,
          2.9450431446739587,
          1.7621847741168277,
          3.167298825481368,
          -1.352683048376304,
          1.848880190769727,
          1.0544006629020901,
          2.913833451113699,
          1.8895750541161738,
          3.346267291273009,
          3.2281128605137446,
          1.4176524597696982,
          4.166058863779794,
          2.388868559229242,
          2.481941292100468,
          0.9961953081300742,
          -0.7438712482688195,
          -4.945300027319456,
          1.4911882903881664,
          0.048501935415689604,
          -0.21081086257198475,
          4.208206086070866,
          2.5416312599120627,
          2.304600259013929,
          2.7738442547854634,
          2.4104968063353116,
          1.0502403560851372,
          0.6680177656825672,
          1.6749373591567425,
          3.5060347357703345,
          1.2682213657473154,
          2.3219286749927095,
          -3.6736071303537003,
          1.2724219688066956,
          -2.0246152146674032,
          -3.2602357083991524,
          -2.22182058652031,
          -4.86065842150752,
          1.009453267809465,
          -0.12098184827628237,
          -0.24045306479439146,
          -2.9321827631172543,
          -2.6056540580758827,
          1.0095210105597974,
          -0.8954760589720254,
          -1.0343486225323264,
          2.74031781178241,
          2.6029645536633383,
          -0.06178455156057619,
          -3.4799341810547193,
          -2.4979527006992277,
          2.295429828205367,
          1.510952928837812,
          3.392140210409082,
          -1.4411685243691414,
          1.9327726302556,
          3.141073880099157,
          -0.21214014889581406,
          3.782751467974284,
          -2.9149398887616695,
          4.361733556384858,
          0.8025692091805033,
          0.9031431832354464,
          1.84312981361964,
          2.8130261449941667,
          -1.5044930890251829,
          1.9882918753857703,
          2.0399480319885845,
          2.79288637442512,
          -2.2510564278659984,
          1.834558746444235,
          -1.9098001478594906,
          0.4545447173469501,
          -4.850744575930882,
          -2.3362046692891583,
          -0.49162903394219654,
          0.13987532863222588,
          -3.3148025949247146,
          1.511772628517355,
          1.860544209937761,
          1.9588351245808724,
          3.6737085690582383,
          -3.3980372322712147,
          -0.6824581214167454,
          0.45293889988516833,
          0.5607421376782281,
          1.8238378003846343,
          -4.443890724048511,
          0.33602775665939677,
          -1.3918895389744368,
          1.2951481102902933,
          -0.6096041753444785,
          -1.71793564391913,
          -0.5717137998875089,
          2.655759857192863,
          -0.336073701719384,
          -3.0455091616783805,
          0.8601823347683646,
          0.7010099063388772,
          -2.9697769712448325,
          -0.26390545922137115,
          3.746125467061163,
          -1.3018328089010724,
          -0.4198696946844434,
          2.16417284664987,
          -5.085615559399663,
          -0.7077922494350353,
          0.10597768302857317,
          5.090297916966605,
          0.7252258476883455,
          -2.38660473735711,
          1.8084631191518554,
          -1.3729143492942077,
          1.7189540827180834,
          1.017858426025041,
          -2.249704388410735,
          -0.038805351442702904,
          2.5662463726434845,
          -4.110712821104604,
          -1.0403190441946568,
          -3.2102606073748277,
          -5.493150675545747,
          -2.6152611722474113,
          3.1869995747595334,
          2.390138174158422,
          2.961609190893552,
          -3.9556310378646122,
          1.4149256034350934,
          -0.21343641981491687,
          -3.502743384581696,
          2.5321669069938317,
          -0.8878152123842281,
          -5.124314586389485,
          -2.030145178382499,
          -0.8576873688459329,
          -0.37126303078432005,
          -1.4161986472246715,
          -1.8361192233660013,
          -3.4408465722732196,
          -1.4149751311554717,
          -2.398270025587493,
          -4.743246451888617,
          -0.35103578792344176,
          -3.914407100531816,
          0.4522322375047787,
          0.07920142210920841,
          0.057361302827148034,
          -0.7015262514173749,
          -1.8797523582250886,
          0.4644390023267421,
          2.2686001079511375,
          1.8942936008738778,
          -1.2545813630339042,
          -3.2656395353135026,
          0.7164304952690106,
          -0.36968163413873023,
          1.094605665655508,
          1.6065198501124172,
          0.14189939974913432,
          -0.9232418055037637,
          4.254463000512581,
          -1.7425172979613592,
          -1.1478021992260905,
          -2.2962115047505294,
          0.16345758631906138,
          1.1288904300743978,
          2.067250006080263,
          -4.697224728880086,
          3.319611751926404,
          1.570888151162115,
          1.2521897250499416,
          0.5047513290492921,
          2.461325395389699,
          -0.9377370039783389,
          -4.159673793516189,
          1.4196777164224323,
          -0.8592619006900984,
          1.387570820486844,
          -1.5571991313510387,
          1.5445651908174751,
          -2.6017173915940517,
          2.7748643521713263,
          -2.673460016299814,
          -3.746675266584716,
          -0.38778051211223896,
          -2.0743196229564376,
          2.347176776466463,
          0.6099299225441638,
          -0.9928650379459767,
          1.147836077311938,
          -2.641539208314039,
          -2.1322319196864714,
          -1.7792863452469883,
          -2.280160003786044,
          -0.08191259711260439,
          -0.6910210477002879,
          1.2873299290521212,
          -2.500848747338305,
          1.2446646400391892,
          -0.17681068251638,
          -0.8032240623023715,
          0.8425416076125269,
          1.719578148814546,
          0.7153070811585731,
          -1.6207309241770775,
          1.9623499333384944,
          -0.314962187521383,
          -1.7609619369009268,
          0.17394700439780392,
          0.3872513823653246,
          2.3963599519879417,
          0.7878743139802191,
          0.9443473162797794,
          -0.9329010854032467,
          -4.150329888474631,
          -2.3627491886139254,
          -0.11749075474891466,
          -1.552387590923012,
          1.9732711729717023,
          -0.8493420359337374,
          -2.193654136543044,
          0.8260946197966907,
          -0.790271649877536,
          -1.9298283971471788,
          -2.2037305334185064,
          1.2422610329729753,
          1.3620291703965557,
          -4.202972772922194,
          2.666384946488987,
          -0.3310375321251713,
          -0.06024758438907953,
          -0.02630761858735119,
          -2.358057383267615,
          -1.5803522092158975,
          3.196789172064469,
          -2.301025769975271,
          -3.6084720966445722,
          3.9312243768244968,
          1.5488546389210769,
          -2.028288289595298,
          3.043307731661819,
          -1.9718627447754236,
          -0.6220648070859699,
          1.1438095055258215,
          3.1354051041135405,
          0.7695290554257785,
          -2.686226991848261,
          0.5575300128159516,
          1.4742530349291536,
          -0.3924910255090336,
          1.0596358970018327,
          1.9435236522206734,
          2.520434813692544,
          0.6602509684158603,
          -3.9615229063039274,
          1.6326606925353668,
          -1.811924941983306,
          1.5247443953795718,
          -1.4027781074960424,
          -3.6346629967177764,
          2.536023261258037,
          2.138801283923952,
          0.997486664310558,
          -3.3316126954854286,
          -3.669830426876916,
          -0.7756217510687612,
          -0.34619187534837503,
          1.5316290005569027,
          -0.9119338661913792,
          0.5568273604411994,
          -4.957802736048889,
          -5.8332834082352125,
          -3.079467377629344,
          -3.020024455099324,
          -3.4547916698164634,
          -2.612666149889197,
          3.6119089383102856,
          -2.0285901020192996,
          2.0276790426354716,
          -0.8277819950940691,
          2.596417783484577,
          -0.5121346384940098,
          -0.8123855138013387,
          0.18171765029600392,
          0.39165305392742283,
          -4.974032486723354,
          -1.3817410842415396,
          -3.365453255679602
         ],
         "y": [
          -3.3817954814283957,
          -0.7299936155625795,
          1.2300923575293532,
          1.4258472323790705,
          -4.279536863720823,
          -1.2994603313485826,
          -2.2046372929103386,
          2.554255484726345,
          -0.7417936829691155,
          -1.9899004819102317,
          0.0742357296528989,
          0.7978609058177367,
          -1.011733622135186,
          -0.7385889621223456,
          1.4259281924265372,
          0.17864874861996752,
          0.034642013737771093,
          -0.9325702500890324,
          1.0884008539173757,
          -1.776601305466647,
          1.8321736410641447,
          -0.6178556339126078,
          2.6220334089437225,
          1.9160274752494766,
          1.0180122213678813,
          -1.7717311840330416,
          0.9468239213938419,
          1.9575647422532239,
          2.8380603724965656,
          0.42919268824602175,
          -1.6955000198844292,
          1.1491344869866877,
          -1.0574222238142674,
          1.3085881510216193,
          0.4633289308772817,
          0.363038391940603,
          -0.3360568778804729,
          -0.2887725607954225,
          -3.207859694877827,
          -1.5754287327242684,
          0.9139943614633077,
          -0.48582362200289353,
          -2.440806853897615,
          -1.3555813912962797,
          -1.8419184711226275,
          -1.640642104271459,
          0.26409522585361067,
          -0.3455475905988911,
          1.9457178894797063,
          -2.9292228724313825,
          1.6637718942100495,
          2.592475622376042,
          -0.9238369537750974,
          1.174026024501719,
          2.2258059880664134,
          0.8304640863728071,
          -0.16452164838601763,
          1.2154142571932465,
          3.065124151589014,
          -3.0486336477807874,
          -2.327418583591842,
          -0.4168292224189832,
          -0.27793299506175395,
          -0.4266508413318198,
          -1.1192844073868589,
          1.415219338202821,
          -1.5268638478665286,
          2.523383035329637,
          0.09593330818614622,
          0.6081840519548746,
          1.3960513977991302,
          -1.914166464483882,
          1.8885767643441094,
          0.8602497508399203,
          1.8490184904753866,
          -2.33006677417981,
          -0.40594648762123003,
          0.8597290843905622,
          1.4041491628826557,
          2.601691056548317,
          -0.1300361485040031,
          1.0539129160407728,
          -0.8760529930233191,
          -0.5982164140668765,
          -0.5972581866890005,
          0.82454038814216,
          0.13924782854167891,
          1.9336108880298937,
          1.5019498353737748,
          0.12776574988477418,
          -0.10649997529693836,
          1.4009105134240856,
          -0.29213878490813655,
          -1.3081504008932798,
          0.5202508085445313,
          -1.1005589932804534,
          3.1271934010565636,
          -3.5252133548356333,
          -3.6575570915602196,
          -1.2590477862352525,
          -1.8899367118036718,
          1.2392741757964398,
          0.01552187155044981,
          -3.2002061858353934,
          -1.3655305055647544,
          0.23868819767915123,
          -0.8706698037112358,
          1.3580183025977421,
          -0.04194888835420443,
          1.7003576208380728,
          1.9019450649427654,
          3.57185890438956,
          2.032735765190465,
          -1.7512889327593895,
          1.1414637015572542,
          -0.21998031137498786,
          0.6576088265668395,
          1.7174274225198254,
          0.5360828511489557,
          0.4699305497920282,
          2.748926547920842,
          0.15141640218458213,
          1.8132312980684764,
          -0.08529068881284761,
          0.6208130048405357,
          0.7349381841821863,
          0.30749884806259514,
          1.1569391485568217,
          -0.19394797352086265,
          0.8264620770499075,
          3.136345732002199,
          -2.606836548092579,
          0.14307131799183126,
          -0.27054710560431433,
          3.906059609747885,
          1.1576269403668171,
          1.4899522522562532,
          -1.7241783881279027,
          -4.357303471764154,
          -0.3381005632316006,
          -3.3093863673428947,
          0.440486404117632,
          -2.5785690974169784,
          3.232469530900041,
          2.6208624734038857,
          1.0598825776303542,
          -4.969629318894272,
          1.6206203513760895,
          4.382750267341505,
          -1.9181255706744322,
          -2.222504784153262,
          0.06354723497839959,
          -0.42976782786763057,
          -2.7647826018873807,
          -0.08988589194161968,
          2.0832612644318242,
          0.016347929620293942,
          3.5305268541666046,
          0.9273589299208599,
          -2.562691962508647,
          3.2410127953631505,
          -0.5502463127791222,
          0.4063862097982098,
          3.5948225885166782,
          2.290219444329788,
          1.231488300284822,
          2.258690743975083,
          0.9441029016462389,
          1.9275395421119284,
          0.7837381793309248,
          -5.685683836358607,
          0.3182690269847166,
          2.135426096011753,
          0.1273684895775832,
          -0.18149166330375302,
          0.16584944205912977,
          1.097347648959146,
          -0.060667920728417625,
          1.5164195886349796,
          -2.0223016643197727,
          1.697035762275568,
          0.6908267966199579,
          -2.0177900914154265,
          -1.3469595415102176,
          0.33867635468392987,
          0.24850853707230072,
          -0.10750647942727101,
          3.1386002816630634,
          3.489788454660623,
          -0.5364868532242154,
          -4.9829634033285375,
          1.0481680957391792,
          -1.9630080573841318,
          3.2659155179240735,
          -1.35485753765792,
          1.3989091793227357,
          -0.8528105225077542,
          -0.6336734789404777,
          -0.4983000235675499,
          3.214168318120441,
          -0.917468164896963,
          3.0433152343249406,
          -0.1052159565734705,
          0.20814907473654742,
          2.9845420518456103,
          -2.713884651583264,
          0.9239629894702155,
          1.0482060768213088,
          -1.4034651223325307,
          -1.5758245632991328,
          -1.1995836509241344,
          1.4050635552836668,
          -3.9838129522319914,
          -0.11540385401307472,
          -0.7815090971932414,
          -0.4065786173721704,
          0.3349033682735736,
          0.24611214269805073,
          -3.020165430397454,
          2.0963735192614106,
          -1.786331925180138,
          -2.33918930922192,
          -1.5514120743789703,
          -0.26863214818328623,
          -0.5079000486901006,
          -2.0631255684719396,
          -0.3257283657444647,
          0.9570942730012255,
          0.35875604629278113,
          1.4414639641072047,
          -0.37557173382398334,
          -1.9060804995940641,
          -1.6184770775797237,
          -3.1714387705685043,
          0.058679730579422364,
          0.12943843200881458,
          -0.5218097028596753,
          3.0561112007422304,
          -0.2820318024266147,
          0.7580596748261945,
          0.2561400476112405,
          1.6321298669125626,
          1.9078043827449993,
          0.02748609672805882,
          -1.5975034951042333,
          2.811443716833221,
          2.2279258717776362,
          0.6665852144339788,
          1.9238356930026606,
          1.9065742031204953,
          2.628642922720351,
          0.7211148362784909,
          -0.1094317282800971,
          -2.1206741285169413,
          -0.018337731504982524,
          -1.2595515633110237,
          -0.6309487333616854,
          -0.19213644352103568,
          1.5330644664964748,
          -1.814265671675368,
          3.0711998824880644,
          0.7181427912751905,
          -2.3161218155692427,
          0.21563995596355823,
          0.592049810107375,
          -0.7552414917443819,
          1.8948425118843713,
          -1.056371543477793,
          -1.4136469358012917,
          -2.726041181314182,
          3.1788861461260725,
          -1.230671208057466,
          -1.2153083510736942,
          -1.2796799439640303,
          1.9635763558157326,
          1.285601114574021,
          -3.991304245921021,
          -1.934317813491516,
          -0.5760787041768471,
          1.0693102344285943,
          -1.1399020979947565,
          -3.3918453241888398,
          2.664223776375872,
          -3.1284151361616144,
          -3.5380665476578312,
          0.35264974927667114,
          1.8564145220335204,
          1.1990805774372209,
          -0.31610118387361796,
          0.7671736887460335,
          1.4537046872907269,
          -0.9532211886069626,
          -0.8253679401439258,
          -1.3116846629846763,
          1.1377365699322126,
          -2.345510426351162,
          -2.0534466602354877,
          -2.381957025300125,
          0.5050586476156654,
          -0.6839732254304526,
          -5.289375158178096,
          0.7037820872037086,
          -0.9998317705349106,
          -3.0666316636949,
          1.4045001942744908,
          -3.2889130622922105,
          -0.8741085284753747,
          1.778331014987148,
          -2.601574463888085,
          2.444022233199235,
          0.1615948084750628,
          2.3934929127453946,
          -1.5294157851212793,
          -0.18473538186927985,
          1.1979127457520133,
          0.4265612175513723,
          0.464155050780929,
          1.194543240368191,
          -0.9930513005675586,
          1.3330897028556046,
          -1.6496332559135116,
          -1.477221385994311,
          1.9074525429800901,
          0.2865550791286417,
          1.0019281620506337,
          0.5208275815056063,
          -0.5537914282909995,
          -1.0028869918785839,
          -0.14281428157145068,
          0.8149595981756059,
          -1.9679450922436588,
          1.9747362250094673,
          1.5139110050270692,
          -2.769957233104309,
          -2.550538825135774,
          1.7965992790192313,
          -0.4505895771644964,
          -0.23760075233611658,
          -0.894038524815082,
          1.4628580933828397,
          0.7007456966122632,
          -3.413892981937358,
          -2.345503439399259,
          -0.3535163990699277,
          0.9126016770636645,
          0.09259586330007381,
          2.9075981221604925,
          -3.122442610494144,
          0.9617379833775908
         ]
        }
       ],
       "layout": {
        "height": 800,
        "plot_bgcolor": "rgba(0,0,0,0)",
        "showlegend": false,
        "template": {
         "data": {
          "bar": [
           {
            "error_x": {
             "color": "#2a3f5f"
            },
            "error_y": {
             "color": "#2a3f5f"
            },
            "marker": {
             "line": {
              "color": "#E5ECF6",
              "width": 0.5
             },
             "pattern": {
              "fillmode": "overlay",
              "size": 10,
              "solidity": 0.2
             }
            },
            "type": "bar"
           }
          ],
          "barpolar": [
           {
            "marker": {
             "line": {
              "color": "#E5ECF6",
              "width": 0.5
             },
             "pattern": {
              "fillmode": "overlay",
              "size": 10,
              "solidity": 0.2
             }
            },
            "type": "barpolar"
           }
          ],
          "carpet": [
           {
            "aaxis": {
             "endlinecolor": "#2a3f5f",
             "gridcolor": "white",
             "linecolor": "white",
             "minorgridcolor": "white",
             "startlinecolor": "#2a3f5f"
            },
            "baxis": {
             "endlinecolor": "#2a3f5f",
             "gridcolor": "white",
             "linecolor": "white",
             "minorgridcolor": "white",
             "startlinecolor": "#2a3f5f"
            },
            "type": "carpet"
           }
          ],
          "choropleth": [
           {
            "colorbar": {
             "outlinewidth": 0,
             "ticks": ""
            },
            "type": "choropleth"
           }
          ],
          "contour": [
           {
            "colorbar": {
             "outlinewidth": 0,
             "ticks": ""
            },
            "colorscale": [
             [
              0,
              "#0d0887"
             ],
             [
              0.1111111111111111,
              "#46039f"
             ],
             [
              0.2222222222222222,
              "#7201a8"
             ],
             [
              0.3333333333333333,
              "#9c179e"
             ],
             [
              0.4444444444444444,
              "#bd3786"
             ],
             [
              0.5555555555555556,
              "#d8576b"
             ],
             [
              0.6666666666666666,
              "#ed7953"
             ],
             [
              0.7777777777777778,
              "#fb9f3a"
             ],
             [
              0.8888888888888888,
              "#fdca26"
             ],
             [
              1,
              "#f0f921"
             ]
            ],
            "type": "contour"
           }
          ],
          "contourcarpet": [
           {
            "colorbar": {
             "outlinewidth": 0,
             "ticks": ""
            },
            "type": "contourcarpet"
           }
          ],
          "heatmap": [
           {
            "colorbar": {
             "outlinewidth": 0,
             "ticks": ""
            },
            "colorscale": [
             [
              0,
              "#0d0887"
             ],
             [
              0.1111111111111111,
              "#46039f"
             ],
             [
              0.2222222222222222,
              "#7201a8"
             ],
             [
              0.3333333333333333,
              "#9c179e"
             ],
             [
              0.4444444444444444,
              "#bd3786"
             ],
             [
              0.5555555555555556,
              "#d8576b"
             ],
             [
              0.6666666666666666,
              "#ed7953"
             ],
             [
              0.7777777777777778,
              "#fb9f3a"
             ],
             [
              0.8888888888888888,
              "#fdca26"
             ],
             [
              1,
              "#f0f921"
             ]
            ],
            "type": "heatmap"
           }
          ],
          "heatmapgl": [
           {
            "colorbar": {
             "outlinewidth": 0,
             "ticks": ""
            },
            "colorscale": [
             [
              0,
              "#0d0887"
             ],
             [
              0.1111111111111111,
              "#46039f"
             ],
             [
              0.2222222222222222,
              "#7201a8"
             ],
             [
              0.3333333333333333,
              "#9c179e"
             ],
             [
              0.4444444444444444,
              "#bd3786"
             ],
             [
              0.5555555555555556,
              "#d8576b"
             ],
             [
              0.6666666666666666,
              "#ed7953"
             ],
             [
              0.7777777777777778,
              "#fb9f3a"
             ],
             [
              0.8888888888888888,
              "#fdca26"
             ],
             [
              1,
              "#f0f921"
             ]
            ],
            "type": "heatmapgl"
           }
          ],
          "histogram": [
           {
            "marker": {
             "pattern": {
              "fillmode": "overlay",
              "size": 10,
              "solidity": 0.2
             }
            },
            "type": "histogram"
           }
          ],
          "histogram2d": [
           {
            "colorbar": {
             "outlinewidth": 0,
             "ticks": ""
            },
            "colorscale": [
             [
              0,
              "#0d0887"
             ],
             [
              0.1111111111111111,
              "#46039f"
             ],
             [
              0.2222222222222222,
              "#7201a8"
             ],
             [
              0.3333333333333333,
              "#9c179e"
             ],
             [
              0.4444444444444444,
              "#bd3786"
             ],
             [
              0.5555555555555556,
              "#d8576b"
             ],
             [
              0.6666666666666666,
              "#ed7953"
             ],
             [
              0.7777777777777778,
              "#fb9f3a"
             ],
             [
              0.8888888888888888,
              "#fdca26"
             ],
             [
              1,
              "#f0f921"
             ]
            ],
            "type": "histogram2d"
           }
          ],
          "histogram2dcontour": [
           {
            "colorbar": {
             "outlinewidth": 0,
             "ticks": ""
            },
            "colorscale": [
             [
              0,
              "#0d0887"
             ],
             [
              0.1111111111111111,
              "#46039f"
             ],
             [
              0.2222222222222222,
              "#7201a8"
             ],
             [
              0.3333333333333333,
              "#9c179e"
             ],
             [
              0.4444444444444444,
              "#bd3786"
             ],
             [
              0.5555555555555556,
              "#d8576b"
             ],
             [
              0.6666666666666666,
              "#ed7953"
             ],
             [
              0.7777777777777778,
              "#fb9f3a"
             ],
             [
              0.8888888888888888,
              "#fdca26"
             ],
             [
              1,
              "#f0f921"
             ]
            ],
            "type": "histogram2dcontour"
           }
          ],
          "mesh3d": [
           {
            "colorbar": {
             "outlinewidth": 0,
             "ticks": ""
            },
            "type": "mesh3d"
           }
          ],
          "parcoords": [
           {
            "line": {
             "colorbar": {
              "outlinewidth": 0,
              "ticks": ""
             }
            },
            "type": "parcoords"
           }
          ],
          "pie": [
           {
            "automargin": true,
            "type": "pie"
           }
          ],
          "scatter": [
           {
            "fillpattern": {
             "fillmode": "overlay",
             "size": 10,
             "solidity": 0.2
            },
            "type": "scatter"
           }
          ],
          "scatter3d": [
           {
            "line": {
             "colorbar": {
              "outlinewidth": 0,
              "ticks": ""
             }
            },
            "marker": {
             "colorbar": {
              "outlinewidth": 0,
              "ticks": ""
             }
            },
            "type": "scatter3d"
           }
          ],
          "scattercarpet": [
           {
            "marker": {
             "colorbar": {
              "outlinewidth": 0,
              "ticks": ""
             }
            },
            "type": "scattercarpet"
           }
          ],
          "scattergeo": [
           {
            "marker": {
             "colorbar": {
              "outlinewidth": 0,
              "ticks": ""
             }
            },
            "type": "scattergeo"
           }
          ],
          "scattergl": [
           {
            "marker": {
             "colorbar": {
              "outlinewidth": 0,
              "ticks": ""
             }
            },
            "type": "scattergl"
           }
          ],
          "scattermapbox": [
           {
            "marker": {
             "colorbar": {
              "outlinewidth": 0,
              "ticks": ""
             }
            },
            "type": "scattermapbox"
           }
          ],
          "scatterpolar": [
           {
            "marker": {
             "colorbar": {
              "outlinewidth": 0,
              "ticks": ""
             }
            },
            "type": "scatterpolar"
           }
          ],
          "scatterpolargl": [
           {
            "marker": {
             "colorbar": {
              "outlinewidth": 0,
              "ticks": ""
             }
            },
            "type": "scatterpolargl"
           }
          ],
          "scatterternary": [
           {
            "marker": {
             "colorbar": {
              "outlinewidth": 0,
              "ticks": ""
             }
            },
            "type": "scatterternary"
           }
          ],
          "surface": [
           {
            "colorbar": {
             "outlinewidth": 0,
             "ticks": ""
            },
            "colorscale": [
             [
              0,
              "#0d0887"
             ],
             [
              0.1111111111111111,
              "#46039f"
             ],
             [
              0.2222222222222222,
              "#7201a8"
             ],
             [
              0.3333333333333333,
              "#9c179e"
             ],
             [
              0.4444444444444444,
              "#bd3786"
             ],
             [
              0.5555555555555556,
              "#d8576b"
             ],
             [
              0.6666666666666666,
              "#ed7953"
             ],
             [
              0.7777777777777778,
              "#fb9f3a"
             ],
             [
              0.8888888888888888,
              "#fdca26"
             ],
             [
              1,
              "#f0f921"
             ]
            ],
            "type": "surface"
           }
          ],
          "table": [
           {
            "cells": {
             "fill": {
              "color": "#EBF0F8"
             },
             "line": {
              "color": "white"
             }
            },
            "header": {
             "fill": {
              "color": "#C8D4E3"
             },
             "line": {
              "color": "white"
             }
            },
            "type": "table"
           }
          ]
         },
         "layout": {
          "annotationdefaults": {
           "arrowcolor": "#2a3f5f",
           "arrowhead": 0,
           "arrowwidth": 1
          },
          "autotypenumbers": "strict",
          "coloraxis": {
           "colorbar": {
            "outlinewidth": 0,
            "ticks": ""
           }
          },
          "colorscale": {
           "diverging": [
            [
             0,
             "#8e0152"
            ],
            [
             0.1,
             "#c51b7d"
            ],
            [
             0.2,
             "#de77ae"
            ],
            [
             0.3,
             "#f1b6da"
            ],
            [
             0.4,
             "#fde0ef"
            ],
            [
             0.5,
             "#f7f7f7"
            ],
            [
             0.6,
             "#e6f5d0"
            ],
            [
             0.7,
             "#b8e186"
            ],
            [
             0.8,
             "#7fbc41"
            ],
            [
             0.9,
             "#4d9221"
            ],
            [
             1,
             "#276419"
            ]
           ],
           "sequential": [
            [
             0,
             "#0d0887"
            ],
            [
             0.1111111111111111,
             "#46039f"
            ],
            [
             0.2222222222222222,
             "#7201a8"
            ],
            [
             0.3333333333333333,
             "#9c179e"
            ],
            [
             0.4444444444444444,
             "#bd3786"
            ],
            [
             0.5555555555555556,
             "#d8576b"
            ],
            [
             0.6666666666666666,
             "#ed7953"
            ],
            [
             0.7777777777777778,
             "#fb9f3a"
            ],
            [
             0.8888888888888888,
             "#fdca26"
            ],
            [
             1,
             "#f0f921"
            ]
           ],
           "sequentialminus": [
            [
             0,
             "#0d0887"
            ],
            [
             0.1111111111111111,
             "#46039f"
            ],
            [
             0.2222222222222222,
             "#7201a8"
            ],
            [
             0.3333333333333333,
             "#9c179e"
            ],
            [
             0.4444444444444444,
             "#bd3786"
            ],
            [
             0.5555555555555556,
             "#d8576b"
            ],
            [
             0.6666666666666666,
             "#ed7953"
            ],
            [
             0.7777777777777778,
             "#fb9f3a"
            ],
            [
             0.8888888888888888,
             "#fdca26"
            ],
            [
             1,
             "#f0f921"
            ]
           ]
          },
          "colorway": [
           "#636efa",
           "#EF553B",
           "#00cc96",
           "#ab63fa",
           "#FFA15A",
           "#19d3f3",
           "#FF6692",
           "#B6E880",
           "#FF97FF",
           "#FECB52"
          ],
          "font": {
           "color": "#2a3f5f"
          },
          "geo": {
           "bgcolor": "white",
           "lakecolor": "white",
           "landcolor": "#E5ECF6",
           "showlakes": true,
           "showland": true,
           "subunitcolor": "white"
          },
          "hoverlabel": {
           "align": "left"
          },
          "hovermode": "closest",
          "mapbox": {
           "style": "light"
          },
          "paper_bgcolor": "white",
          "plot_bgcolor": "#E5ECF6",
          "polar": {
           "angularaxis": {
            "gridcolor": "white",
            "linecolor": "white",
            "ticks": ""
           },
           "bgcolor": "#E5ECF6",
           "radialaxis": {
            "gridcolor": "white",
            "linecolor": "white",
            "ticks": ""
           }
          },
          "scene": {
           "xaxis": {
            "backgroundcolor": "#E5ECF6",
            "gridcolor": "white",
            "gridwidth": 2,
            "linecolor": "white",
            "showbackground": true,
            "ticks": "",
            "zerolinecolor": "white"
           },
           "yaxis": {
            "backgroundcolor": "#E5ECF6",
            "gridcolor": "white",
            "gridwidth": 2,
            "linecolor": "white",
            "showbackground": true,
            "ticks": "",
            "zerolinecolor": "white"
           },
           "zaxis": {
            "backgroundcolor": "#E5ECF6",
            "gridcolor": "white",
            "gridwidth": 2,
            "linecolor": "white",
            "showbackground": true,
            "ticks": "",
            "zerolinecolor": "white"
           }
          },
          "shapedefaults": {
           "line": {
            "color": "#2a3f5f"
           }
          },
          "ternary": {
           "aaxis": {
            "gridcolor": "white",
            "linecolor": "white",
            "ticks": ""
           },
           "baxis": {
            "gridcolor": "white",
            "linecolor": "white",
            "ticks": ""
           },
           "bgcolor": "#E5ECF6",
           "caxis": {
            "gridcolor": "white",
            "linecolor": "white",
            "ticks": ""
           }
          },
          "title": {
           "x": 0.05
          },
          "xaxis": {
           "automargin": true,
           "gridcolor": "white",
           "linecolor": "white",
           "ticks": "",
           "title": {
            "standoff": 15
           },
           "zerolinecolor": "white",
           "zerolinewidth": 2
          },
          "yaxis": {
           "automargin": true,
           "gridcolor": "white",
           "linecolor": "white",
           "ticks": "",
           "title": {
            "standoff": 15
           },
           "zerolinecolor": "white",
           "zerolinewidth": 2
          }
         }
        },
        "title": {
         "text": "K-means clustering on Spotify embeddings (PCA-reduced)"
        },
        "width": 800,
        "xaxis": {
         "maxallowed": 6.490324503919169,
         "minallowed": -6.8332834082352125,
         "visible": false
        },
        "yaxis": {
         "maxallowed": 5.382750267341505,
         "minallowed": -6.685683836358607,
         "visible": false
        }
       }
      }
     },
     "metadata": {},
     "output_type": "display_data"
    }
   ],
   "source": [
    "data = {\n",
    "    'x': song_reduced_embeddings[:, 0],\n",
    "    'y': song_reduced_embeddings[:, 1],\n",
    "    'name': [m['name'] for m in song_metadata],\n",
    "    'artist': [m['artist'] for m in song_metadata],\n",
    "    'genre': [m['genre'] for m in song_metadata],\n",
    "    'cluster': song_cluster_labels,\n",
    "    'id': [m['id'] for m in song_metadata]\n",
    "}\n",
    "\n",
    "# Create a DataFrame for easier manipulation\n",
    "df = pd.DataFrame(data)\n",
    "\n",
    "vor = Voronoi(kmeans.cluster_centers_)\n",
    "regions, vertices = voronoi_finite_polygons_2d(vor)\n",
    "\n",
    "# Generate a unique color for each region\n",
    "def generate_color(name, factor=0.25):\n",
    "    \"\"\"Generate a pastel color for the given name.\"\"\"\n",
    "    # Generate a color based on the hash of the name\n",
    "    hash_object = hashlib.md5(name.encode())\n",
    "    hex_dig = hash_object.hexdigest()\n",
    "    base_color = [int(hex_dig[i:i+2], 16) for i in (0, 2, 4)]\n",
    "\n",
    "    # Mix the color with white\n",
    "    pastel_color = [(1 - factor) * c + factor * 255 for c in base_color]\n",
    "    pastel_color_hex = ''.join(f'{int(c):02x}' for c in pastel_color)\n",
    "\n",
    "    return '#' + pastel_color_hex\n",
    "\n",
    "# Create Plotly figure\n",
    "fig = go.Figure()\n",
    "\n",
    "# Add Voronoi regions, each with a different color\n",
    "for region, center in zip(regions, kmeans.cluster_centers_):\n",
    "    polygon = vertices[region]\n",
    "    color = generate_color(str(center))\n",
    "    fig.add_trace(go.Scatter(\n",
    "        x=polygon[:, 0],\n",
    "        y=polygon[:, 1],\n",
    "        fill=\"toself\",\n",
    "        fillcolor=color,\n",
    "        mode='lines',\n",
    "        line=dict(color='rgba(0,0,0,0)')  # No border color\n",
    "    ))\n",
    "\n",
    "# Add centroids\n",
    "fig.add_trace(go.Scatter(\n",
    "    x=kmeans.cluster_centers_[:, 0],\n",
    "    y=kmeans.cluster_centers_[:, 1],\n",
    "    mode='markers',\n",
    "    marker=dict(size=10, color='white', symbol='x'),\n",
    "    name='Centroids'\n",
    "))\n",
    "\n",
    "# Add scatter plot of points\n",
    "fig.add_trace(go.Scatter(\n",
    "    x=df['x'],\n",
    "    y=df['y'],\n",
    "    mode='markers',\n",
    "    marker=dict(color='black', size=5),\n",
    "    text=df.apply(lambda row: f\"{row['name']} by {row['artist']}\", axis=1),\n",
    "    hoverinfo='text'\n",
    "))\n",
    "\n",
    "# Update layout\n",
    "fig.update_layout(\n",
    "    title=\"K-means clustering on Spotify embeddings (PCA-reduced)\",\n",
    "    xaxis=dict(visible=False),\n",
    "    yaxis=dict(visible=False),\n",
    "    showlegend=False,\n",
    "    width=800,\n",
    "    height=800,\n",
    "    plot_bgcolor='rgba(0,0,0,0)'\n",
    ")\n",
    "\n",
    "fig.update_xaxes(minallowed=df['x'].min()-1, maxallowed=df['x'].max()+1)\n",
    "fig.update_yaxes(minallowed=df['y'].min()-1, maxallowed=df['y'].max()+1)\n",
    "\n",
    "\n",
    "# Show the plot\n",
    "fig.show()"
   ]
  },
  {
   "cell_type": "code",
   "execution_count": 29,
   "metadata": {},
   "outputs": [
    {
     "name": "stdout",
     "output_type": "stream",
     "text": [
      "{'The Neighbourhood': [{'id': '2QjOHCTQ1Jl3zawyYOpxh6', 'name': 'Sweater Weather', 'artist': 'The Neighbourhood', 'album': 'I Love You.', 'genre': 'alt-rock', 'popularity': 91, 'cover_image_url': 'https://i.scdn.co/image/ab67616d0000b2738265a736a1eb838ad5a0b921', 'preview_url': 'https://p.scdn.co/mp3-preview/877602f424a9dea277b13301ffc516f9fd1fbe7e?cid=11419dac9f88424c93dd910d7d82a6bc'}, {'id': '5E30LdtzQTGqRvNd7l6kG5', 'name': 'Daddy Issues', 'artist': 'The Neighbourhood', 'album': 'Wiped Out!', 'genre': 'alt-rock', 'popularity': 85, 'cover_image_url': 'https://i.scdn.co/image/ab67616d0000b2733066581d697fbdee4303d685', 'preview_url': 'https://p.scdn.co/mp3-preview/d79918fba2888bf825a5edc938ce1f79ed12ff7b?cid=11419dac9f88424c93dd910d7d82a6bc'}, {'id': '7zwn1eykZtZ5LODrf7c0tS', 'name': 'You Get Me So High', 'artist': 'The Neighbourhood', 'album': 'Hard To Imagine The Neighbourhood Ever Changing', 'genre': 'alt-rock', 'popularity': 83, 'cover_image_url': 'https://i.scdn.co/image/ab67616d0000b2739b6ac98a52f62d5cb473da40', 'preview_url': 'https://p.scdn.co/mp3-preview/3f5a7c8b8e434e72c0e8f0bf43341f161c54b14b?cid=11419dac9f88424c93dd910d7d82a6bc'}, {'id': '2K7xn816oNHJZ0aVqdQsha', 'name': 'Softcore', 'artist': 'The Neighbourhood', 'album': 'Hard To Imagine The Neighbourhood Ever Changing', 'genre': 'alt-rock', 'popularity': 85, 'cover_image_url': 'https://i.scdn.co/image/ab67616d0000b2739b6ac98a52f62d5cb473da40', 'preview_url': 'https://p.scdn.co/mp3-preview/dd4996bcd5ea34f70d66213a698a4e9879f69907?cid=11419dac9f88424c93dd910d7d82a6bc'}], 'Dominic Fike': [{'id': '6WTFHKrnZpwEBLRS10Ylqs', 'name': 'misses', 'artist': 'Dominic Fike', 'album': '14 minutes', 'genre': 'alt-rock', 'popularity': 86, 'cover_image_url': 'https://i.scdn.co/image/ab67616d0000b273abdde781e79a44868914e661', 'preview_url': 'https://p.scdn.co/mp3-preview/4303daf566d5e5adabf2fe733a3a486518e02259?cid=11419dac9f88424c93dd910d7d82a6bc'}, {'id': '7yNf9YjeO5JXUE3JEBgnYc', 'name': 'Babydoll', 'artist': 'Dominic Fike', 'album': \"Don't Forget About Me, Demos\", 'genre': 'indie', 'popularity': 85, 'cover_image_url': 'https://i.scdn.co/image/ab67616d0000b2737b1b6f41c1645af9757d5616', 'preview_url': 'https://p.scdn.co/mp3-preview/bf5ab98492256120bd9c48658e9c899c8692f77f?cid=11419dac9f88424c93dd910d7d82a6bc'}], 'Cage The Elephant': [{'id': '2tznHmp70DxMyr2XhWLOW0', 'name': 'Cigarette Daydreams', 'artist': 'Cage The Elephant', 'album': 'Melophobia', 'genre': 'alt-rock', 'popularity': 81, 'cover_image_url': 'https://i.scdn.co/image/ab67616d0000b273fb1cb900d28642e668d77b12', 'preview_url': 'https://p.scdn.co/mp3-preview/a7a72315d777f4ed078d955238f9db158c915fc1?cid=11419dac9f88424c93dd910d7d82a6bc'}], 'Foo Fighters': [{'id': '5UWwZ5lm5PKu6eKsHAGxOk', 'name': 'Everlong', 'artist': 'Foo Fighters', 'album': 'The Colour And The Shape', 'genre': 'alt-rock', 'popularity': 84, 'cover_image_url': 'https://i.scdn.co/image/ab67616d0000b2730389027010b78a5e7dce426b', 'preview_url': 'https://p.scdn.co/mp3-preview/78fd3872e0fa5940b2a36654f07f11e7119be4e2?cid=11419dac9f88424c93dd910d7d82a6bc'}], 'Nickelback': [{'id': '0gmbgwZ8iqyMPmXefof8Yf', 'name': 'How You Remind Me', 'artist': 'Nickelback', 'album': 'Silver Side Up', 'genre': 'alt-rock', 'popularity': 85, 'cover_image_url': 'https://i.scdn.co/image/ab67616d0000b273699a422d25adc550dc5aa11c', 'preview_url': 'https://p.scdn.co/mp3-preview/94fd201045f5b682935957a8206075638dc4622d?cid=11419dac9f88424c93dd910d7d82a6bc'}], 'System Of A Down': [{'id': '2DlHlPMa4M17kufBvI2lEN', 'name': 'Chop Suey!', 'artist': 'System Of A Down', 'album': 'Toxicity', 'genre': 'alt-rock', 'popularity': 85, 'cover_image_url': 'https://i.scdn.co/image/ab67616d0000b27330d45198d0c9e8841f9a9578', 'preview_url': 'https://p.scdn.co/mp3-preview/d536012652d7c99c472fe3811312ce3026f2196b?cid=11419dac9f88424c93dd910d7d82a6bc'}, {'id': '0snQkGI5qnAmohLE7jTsTn', 'name': 'Toxicity', 'artist': 'System Of A Down', 'album': 'Toxicity', 'genre': 'alt-rock', 'popularity': 82, 'cover_image_url': 'https://i.scdn.co/image/ab67616d0000b27330d45198d0c9e8841f9a9578', 'preview_url': 'https://p.scdn.co/mp3-preview/d9b89161dacbb987b360417346591712c4023abd?cid=11419dac9f88424c93dd910d7d82a6bc'}, {'id': '4e9eGQYsOiBcftrWXwsVco', 'name': 'Aerials', 'artist': 'System Of A Down', 'album': 'Toxicity', 'genre': 'metal', 'popularity': 80, 'cover_image_url': 'https://i.scdn.co/image/ab67616d0000b27330d45198d0c9e8841f9a9578', 'preview_url': 'https://p.scdn.co/mp3-preview/62519a7fdafa1797793f010d53efbfee3e9a86ad?cid=11419dac9f88424c93dd910d7d82a6bc'}], 'WALK THE MOON': [{'id': '4kbj5MwxO1bq9wjT5g9HaA', 'name': 'Shut Up and Dance', 'artist': 'WALK THE MOON', 'album': 'TALKING IS HARD', 'genre': 'alt-rock', 'popularity': 86, 'cover_image_url': 'https://i.scdn.co/image/ab67616d0000b27343294cfa2688055c9d821bf3', 'preview_url': 'https://p.scdn.co/mp3-preview/4309fadd9a0d573c1fafcca507e024b3bb51266b?cid=11419dac9f88424c93dd910d7d82a6bc'}], 'Gorillaz': [{'id': '0d28khcov6AiegSCpG5TuT', 'name': 'Feel Good Inc.', 'artist': 'Gorillaz', 'album': 'Demon Days', 'genre': 'alt-rock', 'popularity': 85, 'cover_image_url': 'https://i.scdn.co/image/ab67616d0000b27319d85a472f328a6ed9b704cf', 'preview_url': 'https://p.scdn.co/mp3-preview/b13a1bb2d8a04132982a49b6efee933cc9d67c7e?cid=11419dac9f88424c93dd910d7d82a6bc'}], 'Foster The People': [{'id': '7w87IxuO7BDcJ3YUqCyMTT', 'name': 'Pumped Up Kicks', 'artist': 'Foster The People', 'album': 'Torches', 'genre': 'alt-rock', 'popularity': 86, 'cover_image_url': 'https://i.scdn.co/image/ab67616d0000b273121d5f92cf90576907dfb1e5', 'preview_url': 'https://p.scdn.co/mp3-preview/2213bf4173a9b50a807a30121ed6b559a7778209?cid=11419dac9f88424c93dd910d7d82a6bc'}], 'Linkin Park': [{'id': '60a0Rd6pjrkxjPbaKzXjfq', 'name': 'In the End', 'artist': 'Linkin Park', 'album': 'Hybrid Theory (Bonus Edition)', 'genre': 'alt-rock', 'popularity': 87, 'cover_image_url': 'https://i.scdn.co/image/ab67616d0000b273e2f039481babe23658fc719a', 'preview_url': 'https://p.scdn.co/mp3-preview/b5ee275ca337899f762b1c1883c11e24a04075b0?cid=11419dac9f88424c93dd910d7d82a6bc'}, {'id': '2nLtzopw4rPReszdYBJU6h', 'name': 'Numb', 'artist': 'Linkin Park', 'album': 'Meteora', 'genre': 'alt-rock', 'popularity': 85, 'cover_image_url': 'https://i.scdn.co/image/ab67616d0000b2735f1f51d14e8bea89484ecd1b', 'preview_url': 'https://p.scdn.co/mp3-preview/d6d67b4f23b4865e07821f78c45a98035da95d61?cid=11419dac9f88424c93dd910d7d82a6bc'}, {'id': '3K4HG9evC7dg3N0R9cYqk4', 'name': 'One Step Closer', 'artist': 'Linkin Park', 'album': 'Hybrid Theory (Bonus Edition)', 'genre': 'alt-rock', 'popularity': 80, 'cover_image_url': 'https://i.scdn.co/image/ab67616d0000b273e2f039481babe23658fc719a', 'preview_url': 'https://p.scdn.co/mp3-preview/93915a6ffff1e702717623fe052e781e68bde91b?cid=11419dac9f88424c93dd910d7d82a6bc'}, {'id': '0UFDKFqW2oGspYeYqo9wjA', 'name': 'Bleed It Out', 'artist': 'Linkin Park', 'album': 'Minutes to Midnight', 'genre': 'grunge', 'popularity': 80, 'cover_image_url': 'https://i.scdn.co/image/ab67616d0000b2736e996745f2c7b8036abef213', 'preview_url': 'https://p.scdn.co/mp3-preview/1440e6e73c1d0f4db4a64175e26ca250097733c8?cid=11419dac9f88424c93dd910d7d82a6bc'}, {'id': '4Yf5bqU3NK4kNOypcrLYwU', 'name': 'Faint', 'artist': 'Linkin Park', 'album': 'Meteora', 'genre': 'grunge', 'popularity': 81, 'cover_image_url': 'https://i.scdn.co/image/ab67616d0000b2735f1f51d14e8bea89484ecd1b', 'preview_url': 'https://p.scdn.co/mp3-preview/93e66af3a92081740710b18e45dcc9eeff08edbf?cid=11419dac9f88424c93dd910d7d82a6bc'}, {'id': '18lR4BzEs7e3qzc0KVkTpU', 'name': \"What I've Done\", 'artist': 'Linkin Park', 'album': 'Minutes to Midnight', 'genre': 'grunge', 'popularity': 80, 'cover_image_url': 'https://i.scdn.co/image/ab67616d0000b2736e996745f2c7b8036abef213', 'preview_url': 'https://p.scdn.co/mp3-preview/bb5a97b64d61c8920674717ca753752eee008b95?cid=11419dac9f88424c93dd910d7d82a6bc'}], 'Red Hot Chili Peppers': [{'id': '3d9DChrdc6BOeFsbrZ3Is0', 'name': 'Under the Bridge', 'artist': 'Red Hot Chili Peppers', 'album': 'Blood Sugar Sex Magik (Deluxe Edition)', 'genre': 'alt-rock', 'popularity': 84, 'cover_image_url': 'https://i.scdn.co/image/ab67616d0000b273153d79816d853f2694b2cc70', 'preview_url': 'https://p.scdn.co/mp3-preview/46b0229c06712c5b5e143724c0617e51a9b6e432?cid=11419dac9f88424c93dd910d7d82a6bc'}, {'id': '3ZOEytgrvLwQaqXreDs2Jx', 'name': \"Can't Stop\", 'artist': 'Red Hot Chili Peppers', 'album': 'By the Way (Deluxe Edition)', 'genre': 'alt-rock', 'popularity': 85, 'cover_image_url': 'https://i.scdn.co/image/ab67616d0000b273de1af2785a83cc660155a0c4', 'preview_url': 'https://p.scdn.co/mp3-preview/1b3bc0aca1746a99cbb8dd07b2325f6499b58a2e?cid=11419dac9f88424c93dd910d7d82a6bc'}, {'id': '1G391cbiT3v3Cywg8T7DM1', 'name': 'Scar Tissue', 'artist': 'Red Hot Chili Peppers', 'album': 'Californication (Deluxe Edition)', 'genre': 'alt-rock', 'popularity': 82, 'cover_image_url': 'https://i.scdn.co/image/ab67616d0000b27394d08ab63e57b0cae74e8595', 'preview_url': 'https://p.scdn.co/mp3-preview/5aa4aff376bccc73f7fa7df2954649e30a56c4b1?cid=11419dac9f88424c93dd910d7d82a6bc'}, {'id': '48UPSzbZjgc449aqz8bxox', 'name': 'Californication', 'artist': 'Red Hot Chili Peppers', 'album': 'Californication (Deluxe Edition)', 'genre': 'alt-rock', 'popularity': 84, 'cover_image_url': 'https://i.scdn.co/image/ab67616d0000b27394d08ab63e57b0cae74e8595', 'preview_url': 'https://p.scdn.co/mp3-preview/0fd595c5b63db10f4a99683f8248ea5d13700683?cid=11419dac9f88424c93dd910d7d82a6bc'}, {'id': '10Nmj3JCNoMeBQ87uw5j8k', 'name': 'Dani California', 'artist': 'Red Hot Chili Peppers', 'album': 'Stadium Arcadium', 'genre': 'funk', 'popularity': 80, 'cover_image_url': 'https://i.scdn.co/image/ab67616d0000b27309fd83d32aee93dceba78517', 'preview_url': 'https://p.scdn.co/mp3-preview/0454b7cef05f7db734eb04bd4f3948009838f380?cid=11419dac9f88424c93dd910d7d82a6bc'}, {'id': '64BbK9SFKH2jk86U3dGj2P', 'name': 'Otherside', 'artist': 'Red Hot Chili Peppers', 'album': 'Californication (Deluxe Edition)', 'genre': 'funk', 'popularity': 82, 'cover_image_url': 'https://i.scdn.co/image/ab67616d0000b27394d08ab63e57b0cae74e8595', 'preview_url': 'https://p.scdn.co/mp3-preview/90076510970ced8308b85cd65776f75b99d97e7f?cid=11419dac9f88424c93dd910d7d82a6bc'}, {'id': '2aibwv5hGXSgw7Yru8IYTO', 'name': 'Snow (Hey Oh)', 'artist': 'Red Hot Chili Peppers', 'album': 'Stadium Arcadium', 'genre': 'funk', 'popularity': 80, 'cover_image_url': 'https://i.scdn.co/image/ab67616d0000b27309fd83d32aee93dceba78517', 'preview_url': 'https://p.scdn.co/mp3-preview/d1e419a7f2aa9ba761be88802dbd3560b8f99776?cid=11419dac9f88424c93dd910d7d82a6bc'}], 'The White Stripes': [{'id': '3dPQuX8Gs42Y7b454ybpMR', 'name': 'Seven Nation Army', 'artist': 'The White Stripes', 'album': 'Elephant', 'genre': 'alt-rock', 'popularity': 85, 'cover_image_url': 'https://i.scdn.co/image/ab67616d0000b273a69f71a8794e2d867a52f98f', 'preview_url': 'https://p.scdn.co/mp3-preview/eca519f0a85862d9510d57d59df557081d375e3a?cid=11419dac9f88424c93dd910d7d82a6bc'}], 'Radiohead': [{'id': '70LcF31zb1H0PyJoS1Sx1r', 'name': 'Creep', 'artist': 'Radiohead', 'album': 'Pablo Honey', 'genre': 'alt-rock', 'popularity': 86, 'cover_image_url': 'https://i.scdn.co/image/ab67616d0000b273df55e326ed144ab4f5cecf95', 'preview_url': 'https://p.scdn.co/mp3-preview/713b601d02641a850f2a3e6097aacaff52328d57?cid=11419dac9f88424c93dd910d7d82a6bc'}], 'GROUPLOVE': [{'id': '0GO8y8jQk1PkHzS31d699N', 'name': 'Tongue Tied', 'artist': 'GROUPLOVE', 'album': 'Never Trust a Happy Song', 'genre': 'alt-rock', 'popularity': 80, 'cover_image_url': 'https://i.scdn.co/image/ab67616d0000b273d84a9bbcba91cb6a4a212b1b', 'preview_url': 'https://p.scdn.co/mp3-preview/6082516f3c05520cc2cf8cecd17e4ce8667c459e?cid=11419dac9f88424c93dd910d7d82a6bc'}], 'MGMT': [{'id': '3FtYbEfBqAlGO46NUDQSAt', 'name': 'Electric Feel', 'artist': 'MGMT', 'album': 'Oracular Spectacular', 'genre': 'alt-rock', 'popularity': 81, 'cover_image_url': 'https://i.scdn.co/image/ab67616d0000b2738b32b139981e79f2ebe005eb', 'preview_url': 'https://p.scdn.co/mp3-preview/b288d1b3245bfa82243267c77fe152dbd696f3c8?cid=11419dac9f88424c93dd910d7d82a6bc'}], 'Franz Ferdinand': [{'id': '20I8RduZC2PWMWTDCZuuAN', 'name': 'Take Me Out', 'artist': 'Franz Ferdinand', 'album': 'Franz Ferdinand', 'genre': 'alt-rock', 'popularity': 82, 'cover_image_url': 'https://i.scdn.co/image/ab67616d0000b27309a90531b85be7899c3234c4', 'preview_url': 'https://p.scdn.co/mp3-preview/f91cfdf3dd5f7114cf47f8c8b2567b7a8a76d9ed?cid=11419dac9f88424c93dd910d7d82a6bc'}], 'Tinashe': [{'id': '6NjWCIYu1W8xa3HIvcIhd4', 'name': 'Nasty', 'artist': 'Tinashe', 'album': 'Nasty', 'genre': 'alternative', 'popularity': 86, 'cover_image_url': 'https://i.scdn.co/image/ab67616d0000b27399068b5c52ec35ec2db977a7', 'preview_url': 'https://p.scdn.co/mp3-preview/be91189eabbc552654634c46b7ce1948c1b4fe34?cid=11419dac9f88424c93dd910d7d82a6bc'}], 'Sevdaliza': [{'id': '5496lks6V3fh1mZAB6IAap', 'name': 'Alibi (with Pabllo Vittar & Yseult)', 'artist': 'Sevdaliza', 'album': 'Alibi (with Pabllo Vittar & Yseult)', 'genre': 'alternative', 'popularity': 91, 'cover_image_url': 'https://i.scdn.co/image/ab67616d0000b2734ee35e37bc21fe929a4d3605', 'preview_url': 'https://p.scdn.co/mp3-preview/34bb0d7c097327243188a812827db8ee336ac10a?cid=11419dac9f88424c93dd910d7d82a6bc'}, {'id': '5oYVxFt2k4SkVp6wzVsFWN', 'name': 'Ride Or Die, Pt. 2 (with Villano Antillano & Tokischa)', 'artist': 'Sevdaliza', 'album': 'Ride Or Die, Pt. 2', 'genre': 'electro', 'popularity': 83, 'cover_image_url': 'https://i.scdn.co/image/ab67616d0000b27314c2bc6e79b87f232c38b547', 'preview_url': 'https://p.scdn.co/mp3-preview/891b40d5ab7920c12641b865edd4aa796928feaa?cid=11419dac9f88424c93dd910d7d82a6bc'}], 'Cigarettes After Sex': [{'id': '0yc6Gst2xkRu0eMLeRMGCX', 'name': 'Apocalypse', 'artist': 'Cigarettes After Sex', 'album': 'Cigarettes After Sex', 'genre': 'ambient', 'popularity': 87, 'cover_image_url': 'https://i.scdn.co/image/ab67616d0000b27312b69bf576f5e80291f75161', 'preview_url': 'https://p.scdn.co/mp3-preview/1f89f0156113dfb87572382b531459bb8cb711a1?cid=11419dac9f88424c93dd910d7d82a6bc'}, {'id': '3p4hRhMcb6ch8OLtATMaLw', 'name': 'Cry', 'artist': 'Cigarettes After Sex', 'album': 'Cry', 'genre': 'ambient', 'popularity': 84, 'cover_image_url': 'https://i.scdn.co/image/ab67616d0000b273fd275af89cec73d6287f9cbf', 'preview_url': 'https://p.scdn.co/mp3-preview/7682cdfb95bb8aaa6654a7c88687341cc9e350b7?cid=11419dac9f88424c93dd910d7d82a6bc'}, {'id': '0SpkyS1Q4MD8GaVcP5YjT4', 'name': 'Sunsetz', 'artist': 'Cigarettes After Sex', 'album': 'Cigarettes After Sex', 'genre': 'ambient', 'popularity': 83, 'cover_image_url': 'https://i.scdn.co/image/ab67616d0000b27312b69bf576f5e80291f75161', 'preview_url': 'https://p.scdn.co/mp3-preview/d345fd603b2b273feb377601de9a654c675bd147?cid=11419dac9f88424c93dd910d7d82a6bc'}, {'id': '1FWsomP9StpCcXNWmJk8Cl', 'name': 'K.', 'artist': 'Cigarettes After Sex', 'album': 'Cigarettes After Sex', 'genre': 'ambient', 'popularity': 82, 'cover_image_url': 'https://i.scdn.co/image/ab67616d0000b27312b69bf576f5e80291f75161', 'preview_url': 'https://p.scdn.co/mp3-preview/7d324f82bab99a67b40bac2b9c579b5c338e37dc?cid=11419dac9f88424c93dd910d7d82a6bc'}, {'id': '6ilc4vQcwMPlvAHFfsTGng', 'name': 'Sweet', 'artist': 'Cigarettes After Sex', 'album': 'Cigarettes After Sex', 'genre': 'ambient', 'popularity': 80, 'cover_image_url': 'https://i.scdn.co/image/ab67616d0000b27312b69bf576f5e80291f75161', 'preview_url': 'https://p.scdn.co/mp3-preview/3a0bc34d9e2f0f33c614d389f6116a6a63c5f9fa?cid=11419dac9f88424c93dd910d7d82a6bc'}], 'ENHYPEN': [{'id': '3RkSwrsIadAvqVtMp5yhaB', 'name': 'XO (Only If You Say Yes)', 'artist': 'ENHYPEN', 'album': 'ROMANCE : UNTOLD', 'genre': 'anime', 'popularity': 81, 'cover_image_url': 'https://i.scdn.co/image/ab67616d0000b273653887a83332de0350151f10', 'preview_url': 'https://p.scdn.co/mp3-preview/f9eec39cadafc605c12531cd4c113f158e9dc6d1?cid=11419dac9f88424c93dd910d7d82a6bc'}], 'Otis Redding': [{'id': '3zBhihYUHBmGd2bcQIobrF', 'name': \"(Sittin' On) the Dock of the Bay\", 'artist': 'Otis Redding', 'album': 'The Dock of the Bay (Mono)', 'genre': 'blues', 'popularity': 84, 'cover_image_url': 'https://i.scdn.co/image/ab67616d0000b2730acddc8ccf8d14858fbeddf5', 'preview_url': 'https://p.scdn.co/mp3-preview/6b33eae61b9232d7c5d0c1917befb306d2bf3a7c?cid=11419dac9f88424c93dd910d7d82a6bc'}], 'ZZ Top': [{'id': '0u6JFVn0KHHlidZxNL9gVE', 'name': 'La Grange (2005 Remaster)', 'artist': 'ZZ Top', 'album': 'Tres Hombres (Expanded 2006 Remaster)', 'genre': 'blues', 'popularity': 80, 'cover_image_url': 'https://i.scdn.co/image/ab67616d0000b273db9c5945ce3a3f873695d18a', 'preview_url': 'https://p.scdn.co/mp3-preview/1de566ed732e7c2762c9c4432eb1ac3f6fa41d39?cid=11419dac9f88424c93dd910d7d82a6bc'}], 'Adele': [{'id': '6VObnIkLVruX4UVyxWhlqm', 'name': 'Skyfall', 'artist': 'Adele', 'album': 'Skyfall', 'genre': 'british', 'popularity': 83, 'cover_image_url': 'https://i.scdn.co/image/ab67616d0000b2732737be35cc5245eef495be90', 'preview_url': 'https://p.scdn.co/mp3-preview/d5c38cc8a0f4b3e01a5a688497d6b0e89da5f1c8?cid=11419dac9f88424c93dd910d7d82a6bc'}, {'id': '46IZ0fSY2mpAiktS3KOqds', 'name': 'Easy On Me', 'artist': 'Adele', 'album': '30', 'genre': 'british', 'popularity': 82, 'cover_image_url': 'https://i.scdn.co/image/ab67616d0000b273c6b577e4c4a6d326354a89f7', 'preview_url': 'https://p.scdn.co/mp3-preview/a0cd8077c79a4aa3dcaa68bbc5ecdeda46e8d13f?cid=11419dac9f88424c93dd910d7d82a6bc'}], 'Sade': [{'id': '1Hv1VTm8zeOeybub15mA2R', 'name': 'Smooth Operator - Single Version', 'artist': 'Sade', 'album': 'The Best of Sade', 'genre': 'british', 'popularity': 80, 'cover_image_url': 'https://i.scdn.co/image/ab67616d0000b2735e25e034e25258b356774c79', 'preview_url': 'https://p.scdn.co/mp3-preview/43f389ca63d0814eb6e316b42f13011d802373ff?cid=11419dac9f88424c93dd910d7d82a6bc'}], 'Toploader': [{'id': '3Fzlg5r1IjhLk2qRw667od', 'name': 'Dancing in the Moonlight', 'artist': 'Toploader', 'album': \"Onka's Big Moka\", 'genre': 'british', 'popularity': 80, 'cover_image_url': 'https://i.scdn.co/image/ab67616d0000b273e16a6534cd5a968a5b725d03', 'preview_url': 'https://p.scdn.co/mp3-preview/6d259dc3c9bc978297f609514799792ab6d76eb3?cid=11419dac9f88424c93dd910d7d82a6bc'}], 'Tom Odell': [{'id': '3JvKfv6T31zO0ini8iNItO', 'name': 'Another Love', 'artist': 'Tom Odell', 'album': 'Long Way Down (Deluxe)', 'genre': 'chill', 'popularity': 88, 'cover_image_url': 'https://i.scdn.co/image/ab67616d0000b2731917a0f3f4152622a040913f', 'preview_url': 'https://p.scdn.co/mp3-preview/0369cb748bc968ffd34fb4ac60f5403f2aad032f?cid=11419dac9f88424c93dd910d7d82a6bc'}], 'Lay Bankz': [{'id': '3lMzT16MjAKKXF7pSZn13B', 'name': 'Tell Ur Girlfriend', 'artist': 'Lay Bankz', 'album': 'Tell Ur Girlfriend', 'genre': 'club', 'popularity': 82, 'cover_image_url': 'https://i.scdn.co/image/ab67616d0000b273a8dbff429bc95d3af651fe08', 'preview_url': 'https://p.scdn.co/mp3-preview/684d1a76fada90d9c5d63e12b8f111618e682c78?cid=11419dac9f88424c93dd910d7d82a6bc'}], 'Gesaffelstein': [{'id': '2vXKRlJBXyOcvZYTdNeckS', 'name': 'Lost in the Fire (feat. The Weeknd)', 'artist': 'Gesaffelstein', 'album': 'Hyperion', 'genre': 'club', 'popularity': 80, 'cover_image_url': 'https://i.scdn.co/image/ab67616d0000b2737842fd51802451ff61483dcf', 'preview_url': 'https://p.scdn.co/mp3-preview/bb6be3c611177685ba91254a63aae326c6143739?cid=11419dac9f88424c93dd910d7d82a6bc'}], 'Zach Bryan': [{'id': '4ZJ4vzLQekI0WntDbanNC7', 'name': 'Pink Skies', 'artist': 'Zach Bryan', 'album': 'Pink Skies', 'genre': 'country', 'popularity': 88, 'cover_image_url': 'https://i.scdn.co/image/ab67616d0000b2731a2c9ac2d39bc5c2e22b9555', 'preview_url': 'https://p.scdn.co/mp3-preview/21b3562e4483a8b6204f99a0614206b819378ef8?cid=11419dac9f88424c93dd910d7d82a6bc'}, {'id': '4KULAymBBJcPRpk1yO4dOG', 'name': 'I Remember Everything (feat. Kacey Musgraves)', 'artist': 'Zach Bryan', 'album': 'Zach Bryan', 'genre': 'country', 'popularity': 89, 'cover_image_url': 'https://i.scdn.co/image/ab67616d0000b273e5a25ed08d1e7e0fbb440cef', 'preview_url': 'https://p.scdn.co/mp3-preview/22b240f7ef2eff38bd12fb0c94dfea5e1d70e20a?cid=11419dac9f88424c93dd910d7d82a6bc'}, {'id': '5iJKGpnFfvbjZJeAtwXfCj', 'name': '28', 'artist': 'Zach Bryan', 'album': 'The Great American Bar Scene', 'genre': 'country', 'popularity': 87, 'cover_image_url': 'https://i.scdn.co/image/ab67616d0000b273647ad18a07e9e939e399e5a1', 'preview_url': 'https://p.scdn.co/mp3-preview/5c2aee074a87afd330cb8c42c7a73aef5b5ccc59?cid=11419dac9f88424c93dd910d7d82a6bc'}, {'id': '3WMj8moIAXJhHsyLaqIIHI', 'name': 'Something in the Orange', 'artist': 'Zach Bryan', 'album': 'Something in the Orange', 'genre': 'country', 'popularity': 87, 'cover_image_url': 'https://i.scdn.co/image/ab67616d0000b273b2b6670e3aca9bcd55fbabbb', 'preview_url': 'https://p.scdn.co/mp3-preview/d33dc9df586e24c9d8f640df08b776d94680f529?cid=11419dac9f88424c93dd910d7d82a6bc'}, {'id': '2Dct3GykKZ58hpWRFfe2Qd', 'name': 'Heading South', 'artist': 'Zach Bryan', 'album': 'Heading South', 'genre': 'country', 'popularity': 86, 'cover_image_url': 'https://i.scdn.co/image/ab67616d0000b273f9017bcd001d030d46850226', 'preview_url': 'https://p.scdn.co/mp3-preview/93aa7e2fe20c76296a5d256a8e19187a015fb1c7?cid=11419dac9f88424c93dd910d7d82a6bc'}, {'id': '1SjsVdSXpwm1kTdYEHoPIT', 'name': 'Sun to Me', 'artist': 'Zach Bryan', 'album': 'American Heartbreak', 'genre': 'country', 'popularity': 84, 'cover_image_url': 'https://i.scdn.co/image/ab67616d0000b273ba30859a1ca79c5a372d177a', 'preview_url': 'https://p.scdn.co/mp3-preview/e002b15b8d7d1d3c8953abd8f451536c2621bbf4?cid=11419dac9f88424c93dd910d7d82a6bc'}, {'id': '0OWhKvvsHptt6vnnNUSM9a', 'name': 'Oklahoma Smokeshow', 'artist': 'Zach Bryan', 'album': 'Summertime Blues', 'genre': 'country', 'popularity': 83, 'cover_image_url': 'https://i.scdn.co/image/ab67616d0000b27313c532890739d705e5a55af6', 'preview_url': 'https://p.scdn.co/mp3-preview/6a250eb4c50841e7b0c6be61cc0eec5a3586f8a9?cid=11419dac9f88424c93dd910d7d82a6bc'}, {'id': '4pCbJC43j3gSqG6Fen6upD', 'name': 'Hey Driver (feat. The War and Treaty)', 'artist': 'Zach Bryan', 'album': 'Zach Bryan', 'genre': 'country', 'popularity': 82, 'cover_image_url': 'https://i.scdn.co/image/ab67616d0000b273e5a25ed08d1e7e0fbb440cef', 'preview_url': 'https://p.scdn.co/mp3-preview/93f347ada38bf3f3447622b920300a53005fb1e7?cid=11419dac9f88424c93dd910d7d82a6bc'}, {'id': '5jfhLCSIFUO4ndzNRh4w4G', 'name': 'Burn, Burn, Burn', 'artist': 'Zach Bryan', 'album': 'Burn, Burn, Burn', 'genre': 'country', 'popularity': 82, 'cover_image_url': 'https://i.scdn.co/image/ab67616d0000b273d66d5ec15dc03aa57b78f5ff', 'preview_url': 'https://p.scdn.co/mp3-preview/cbc77cc08d0b0fe89db0a7c1a6df2c98ba1da744?cid=11419dac9f88424c93dd910d7d82a6bc'}, {'id': '3c9EsIo34kil8Oj1reaozB', 'name': 'American Nights', 'artist': 'Zach Bryan', 'album': 'The Great American Bar Scene', 'genre': 'country', 'popularity': 81, 'cover_image_url': 'https://i.scdn.co/image/ab67616d0000b273647ad18a07e9e939e399e5a1', 'preview_url': 'https://p.scdn.co/mp3-preview/0e098af8d8bc20a882bd2bb5b0df789d9e3b0989?cid=11419dac9f88424c93dd910d7d82a6bc'}, {'id': '3xOi0YhDREKRURFHoNaAOQ', 'name': 'Nine Ball', 'artist': 'Zach Bryan', 'album': 'Boys Of Faith', 'genre': 'country', 'popularity': 81, 'cover_image_url': 'https://i.scdn.co/image/ab67616d0000b2732ebcfb3e92f937a1a4cc16f0', 'preview_url': 'https://p.scdn.co/mp3-preview/cbc1f7c755dba83d18e273c943fd6b3b7df45455?cid=11419dac9f88424c93dd910d7d82a6bc'}, {'id': '1vj47xD8v9wIhQrmQY2Dkv', 'name': 'Better Days (feat. John Mayer)', 'artist': 'Zach Bryan', 'album': 'The Great American Bar Scene', 'genre': 'country', 'popularity': 80, 'cover_image_url': 'https://i.scdn.co/image/ab67616d0000b273647ad18a07e9e939e399e5a1', 'preview_url': 'https://p.scdn.co/mp3-preview/10a12f60d4693e81691f375e5041e1b7c70c531b?cid=11419dac9f88424c93dd910d7d82a6bc'}, {'id': '0HEytGQM3bG1vKxER7IgVK', 'name': 'Spotless (feat. The Lumineers)', 'artist': 'Zach Bryan', 'album': 'Zach Bryan', 'genre': 'country', 'popularity': 81, 'cover_image_url': 'https://i.scdn.co/image/ab67616d0000b273e5a25ed08d1e7e0fbb440cef', 'preview_url': 'https://p.scdn.co/mp3-preview/dcc10c20620dbda4a373cbe59f3d4caa0e2bd212?cid=11419dac9f88424c93dd910d7d82a6bc'}], 'Luke Combs': [{'id': '0eBFgRxyVSeuT4iyrbukdn', 'name': 'Where the Wild Things Are', 'artist': 'Luke Combs', 'album': \"Gettin' Old\", 'genre': 'country', 'popularity': 85, 'cover_image_url': 'https://i.scdn.co/image/ab67616d0000b273ca650d3a95022e0490434ba1', 'preview_url': 'https://p.scdn.co/mp3-preview/994c947925dbf67ee0132328c82fb6102e29f746?cid=11419dac9f88424c93dd910d7d82a6bc'}, {'id': '6GG4yyk3UATdBfTHVgI8PB', 'name': \"Ain't No Love In Oklahoma (From Twisters: The Album)\", 'artist': 'Luke Combs', 'album': \"Ain't No Love In Oklahoma (From Twisters: The Album)\", 'genre': 'country', 'popularity': 84, 'cover_image_url': 'https://i.scdn.co/image/ab67616d0000b27339808230102049beb62fdd7b', 'preview_url': 'https://p.scdn.co/mp3-preview/7b74f19b964aef85615e635192d4fcd9fbf297d3?cid=11419dac9f88424c93dd910d7d82a6bc'}, {'id': '1mMLMZYXkMueg65jRRWG1l', 'name': 'When It Rains It Pours', 'artist': 'Luke Combs', 'album': \"This One's for You\", 'genre': 'country', 'popularity': 84, 'cover_image_url': 'https://i.scdn.co/image/ab67616d0000b273b7578013decfa174e30dc298', 'preview_url': 'https://p.scdn.co/mp3-preview/034066bcc59420c96bc025ed2f204ee2cb9c975d?cid=11419dac9f88424c93dd910d7d82a6bc'}, {'id': '1Lo0QY9cvc8sUB2vnIOxDT', 'name': 'Fast Car', 'artist': 'Luke Combs', 'album': \"Gettin' Old\", 'genre': 'country', 'popularity': 85, 'cover_image_url': 'https://i.scdn.co/image/ab67616d0000b273ca650d3a95022e0490434ba1', 'preview_url': 'https://p.scdn.co/mp3-preview/1dc0426c95058783e0fe1d70c41583ca98317108?cid=11419dac9f88424c93dd910d7d82a6bc'}, {'id': '698eQRku24PIYPQPHItKlA', 'name': 'She Got the Best of Me', 'artist': 'Luke Combs', 'album': \"This One's for You Too (Deluxe Edition)\", 'genre': 'country', 'popularity': 83, 'cover_image_url': 'https://i.scdn.co/image/ab67616d0000b273ccba76fad1c624c09e72bc78', 'preview_url': 'https://p.scdn.co/mp3-preview/62987b51b76bd417ac56812161cf825d4c22f549?cid=11419dac9f88424c93dd910d7d82a6bc'}, {'id': '2rxQMGVafnNaRaXlRMWPde', 'name': 'Beautiful Crazy', 'artist': 'Luke Combs', 'album': \"This One's for You Too (Deluxe Edition)\", 'genre': 'country', 'popularity': 82, 'cover_image_url': 'https://i.scdn.co/image/ab67616d0000b273ccba76fad1c624c09e72bc78', 'preview_url': 'https://p.scdn.co/mp3-preview/7160f5cd6c0e3aff6e2251b018bb0b88d2b8c101?cid=11419dac9f88424c93dd910d7d82a6bc'}, {'id': '7aEtlGHoiPAfRB084NiDmx', 'name': 'Beer Never Broke My Heart', 'artist': 'Luke Combs', 'album': 'What You See Is What You Get', 'genre': 'country', 'popularity': 81, 'cover_image_url': 'https://i.scdn.co/image/ab67616d0000b273429d8ec28f865acf2a927c2d', 'preview_url': 'https://p.scdn.co/mp3-preview/545db391946df7d9cd3a7ac7fbc79b128e4b2ee5?cid=11419dac9f88424c93dd910d7d82a6bc'}], 'Ella Langley': [{'id': '0y5Ex8oQ8zCH5TQxHUy1Eo', 'name': 'you look like you love me (feat. Riley Green)', 'artist': 'Ella Langley', 'album': 'you look like you love me (feat. Riley Green)', 'genre': 'country', 'popularity': 84, 'cover_image_url': 'https://i.scdn.co/image/ab67616d0000b27398ec50a022a61a0286f0be1c', 'preview_url': 'https://p.scdn.co/mp3-preview/23747e3344e13a359439fb5d2167a79fb5761696?cid=11419dac9f88424c93dd910d7d82a6bc'}], 'Koe Wetzel': [{'id': '73KAidtqbDftZjy8AD0H04', 'name': 'High Road (feat. Jessie Murph)', 'artist': 'Koe Wetzel', 'album': 'High Road (feat. Jessie Murph)', 'genre': 'country', 'popularity': 82, 'cover_image_url': 'https://i.scdn.co/image/ab67616d0000b2732c44d76ea64d1b5876b44eb3', 'preview_url': 'https://p.scdn.co/mp3-preview/8c12da4e3c1e2a2aae8d148d4d2117363b2eeb0a?cid=11419dac9f88424c93dd910d7d82a6bc'}], 'Tyler Childers': [{'id': '0fCwTrRNfoNk962ati8n2K', 'name': \"All Your'n\", 'artist': 'Tyler Childers', 'album': 'Country Squire', 'genre': 'country', 'popularity': 81, 'cover_image_url': 'https://i.scdn.co/image/ab67616d0000b273d41fec800fa501c5bc623083', 'preview_url': 'https://p.scdn.co/mp3-preview/9812fee49ff8efab5748d94769250dfec5daf844?cid=11419dac9f88424c93dd910d7d82a6bc'}], 'Josh Meloy': [{'id': '43SoxERu5UlXAgt4Es1VQU', 'name': 'Porch Light', 'artist': 'Josh Meloy', 'album': 'Porch Light', 'genre': 'country', 'popularity': 80, 'cover_image_url': 'https://i.scdn.co/image/ab67616d0000b2739e917e93a50b83029871627c', 'preview_url': 'https://p.scdn.co/mp3-preview/43ce82b90489c5b3aea3ced3be15f370d50a326a?cid=11419dac9f88424c93dd910d7d82a6bc'}], 'Bryan Martin': [{'id': '72kGuWpRiuA149Bn5lDkIO', 'name': 'We Ride', 'artist': 'Bryan Martin', 'album': 'Poets & Old Souls', 'genre': 'country', 'popularity': 81, 'cover_image_url': 'https://i.scdn.co/image/ab67616d0000b273eda625668a424f4ee44e7998', 'preview_url': 'https://p.scdn.co/mp3-preview/664dcba826ddb893f237bb7fd780fb756ce7a6bd?cid=11419dac9f88424c93dd910d7d82a6bc'}], 'Diplo': [{'id': '3FU6urUVsgXa6RBuV2PdRk', 'name': 'Heartless (feat. Morgan Wallen)', 'artist': 'Diplo', 'album': 'Diplo Presents Thomas Wesley: Chapter 1 - Snake Oil', 'genre': 'dance', 'popularity': 82, 'cover_image_url': 'https://i.scdn.co/image/ab67616d0000b273d79c10cdf4a58309a37d195a', 'preview_url': 'https://p.scdn.co/mp3-preview/64f9de825007fbd32c5c066346961cfcdb8d0eaa?cid=11419dac9f88424c93dd910d7d82a6bc'}], 'Natasha Bedingfield': [{'id': '3U5JVgI2x4rDyHGObzJfNf', 'name': 'Unwritten', 'artist': 'Natasha Bedingfield', 'album': 'Unwritten', 'genre': 'dance', 'popularity': 88, 'cover_image_url': 'https://i.scdn.co/image/ab67616d0000b273b337e1ca6629a53c66a3b0d4', 'preview_url': 'https://p.scdn.co/mp3-preview/5559460cc3e2c5aa1eeea1c16cf838cecde326d8?cid=11419dac9f88424c93dd910d7d82a6bc'}], 'USHER': [{'id': '5rb9QrpfcKFHM1EUbSIurX', 'name': 'Yeah! (feat. Lil Jon & Ludacris)', 'artist': 'USHER', 'album': 'Confessions (Expanded Edition)', 'genre': 'dance', 'popularity': 85, 'cover_image_url': 'https://i.scdn.co/image/ab67616d0000b273365b3fb800c19f7ff72602da', 'preview_url': 'https://p.scdn.co/mp3-preview/1eca1cb525c2b0df2ecba52f1105f139323e09a2?cid=11419dac9f88424c93dd910d7d82a6bc'}, {'id': '4356Typ82hUiFAynbLYbPn', 'name': \"DJ Got Us Fallin' In Love (feat. Pitbull)\", 'artist': 'USHER', 'album': 'Raymond v Raymond (Expanded Edition)', 'genre': 'dance', 'popularity': 83, 'cover_image_url': 'https://i.scdn.co/image/ab67616d0000b27386b0c9728ad3ed338eaeea79', 'preview_url': 'https://p.scdn.co/mp3-preview/1619c7342806281d286f0ba4125ff59e80663c56?cid=11419dac9f88424c93dd910d7d82a6bc'}], 'Train': [{'id': '4HlFJV71xXKIGcU3kRyttv', 'name': 'Hey, Soul Sister', 'artist': 'Train', 'album': 'Save Me, San Francisco (Golden Gate Edition)', 'genre': 'dance', 'popularity': 86, 'cover_image_url': 'https://i.scdn.co/image/ab67616d0000b2736ff8bc258e3ebc835ffe14ca', 'preview_url': 'https://p.scdn.co/mp3-preview/518c823cf0f8b862bed0fa45e34cc63db5ea58e4?cid=11419dac9f88424c93dd910d7d82a6bc'}, {'id': '2hKdd3qO7cWr2Jo0Bcs0MA', 'name': 'Drops of Jupiter (Tell Me)', 'artist': 'Train', 'album': 'Drops Of Jupiter', 'genre': 'dance', 'popularity': 82, 'cover_image_url': 'https://i.scdn.co/image/ab67616d0000b273a65df73c4011b6a9357c89f0', 'preview_url': 'https://p.scdn.co/mp3-preview/77dba6a6b863572958909814c9fee6d29f310a45?cid=11419dac9f88424c93dd910d7d82a6bc'}], 'Bruno Mars': [{'id': '3w3y8KPTfNeOKPiqUTakBh', 'name': 'Locked out of Heaven', 'artist': 'Bruno Mars', 'album': 'Unorthodox Jukebox', 'genre': 'dance', 'popularity': 88, 'cover_image_url': 'https://i.scdn.co/image/ab67616d0000b273926f43e7cce571e62720fd46', 'preview_url': 'https://p.scdn.co/mp3-preview/5a0318e6c43964786d22b9431af35490e96cff3d?cid=11419dac9f88424c93dd910d7d82a6bc'}, {'id': '7BqBn9nzAq8spo5e7cZ0dJ', 'name': 'Just the Way You Are', 'artist': 'Bruno Mars', 'album': 'Doo-Wops & Hooligans', 'genre': 'dance', 'popularity': 84, 'cover_image_url': 'https://i.scdn.co/image/ab67616d0000b273f6b55ca93bd33211227b502b', 'preview_url': 'https://p.scdn.co/mp3-preview/6d1a901b10c7dc609d4c8628006b04bc6e672be8?cid=11419dac9f88424c93dd910d7d82a6bc'}, {'id': '0KKkJNfGyhkQ5aFogxQAPU', 'name': \"That's What I Like\", 'artist': 'Bruno Mars', 'album': '24K Magic', 'genre': 'dance', 'popularity': 84, 'cover_image_url': 'https://i.scdn.co/image/ab67616d0000b273232711f7d66a1e19e89e28c5', 'preview_url': 'https://p.scdn.co/mp3-preview/93046e987d8c5bfdbeea2768ac1a8ecea17bd7e0?cid=11419dac9f88424c93dd910d7d82a6bc'}], 'Pitbull': [{'id': '2bJvI42r8EF3wxjOuDav4r', 'name': 'Time of Our Lives', 'artist': 'Pitbull', 'album': 'Globalization', 'genre': 'dance', 'popularity': 85, 'cover_image_url': 'https://i.scdn.co/image/ab67616d0000b2731e340d1480e7bb29a45e3bd7', 'preview_url': 'https://p.scdn.co/mp3-preview/d508371276a297486ace8d4ff596c54ae9e65260?cid=11419dac9f88424c93dd910d7d82a6bc'}, {'id': '4QNpBfC0zvjKqPJcyqBy9W', 'name': 'Give Me Everything (feat. Nayer)', 'artist': 'Pitbull', 'album': 'Planet Pit (Deluxe Version)', 'genre': 'dance', 'popularity': 87, 'cover_image_url': 'https://i.scdn.co/image/ab67616d0000b2731dc7483a9fcfce54822a2f19', 'preview_url': 'https://p.scdn.co/mp3-preview/6eafa4293d2b35b2e75ffab5ec1bba8ec00d5082?cid=11419dac9f88424c93dd910d7d82a6bc'}, {'id': '3cHyrEgdyYRjgJKSOiOtcS', 'name': 'Timber', 'artist': 'Pitbull', 'album': 'Global Warming: Meltdown (Deluxe Version)', 'genre': 'dance', 'popularity': 84, 'cover_image_url': 'https://i.scdn.co/image/ab67616d0000b273f2486b438645e97b523e4f90', 'preview_url': 'https://p.scdn.co/mp3-preview/54825c719d56bd5b737ac7c1aa3ce41ad3eef338?cid=11419dac9f88424c93dd910d7d82a6bc'}], 'David Guetta': [{'id': '331l3xABO0HMr1Kkyh2LZq', 'name': \"I Don't Wanna Wait\", 'artist': 'David Guetta', 'album': \"I Don't Wanna Wait\", 'genre': 'dance', 'popularity': 91, 'cover_image_url': 'https://i.scdn.co/image/ab67616d0000b2732f479a6c1825c1f29e0a3d49', 'preview_url': 'https://p.scdn.co/mp3-preview/4cb51b19221d76ecd319faec63c4221c96d7fdd0?cid=11419dac9f88424c93dd910d7d82a6bc'}, {'id': '4uUG5RXrOk84mYEfFvj3cK', 'name': \"I'm Good (Blue)\", 'artist': 'David Guetta', 'album': \"I'm Good (Blue)\", 'genre': 'dance', 'popularity': 88, 'cover_image_url': 'https://i.scdn.co/image/ab67616d0000b273933c036cd61cd40d3f17a9c4', 'preview_url': 'https://p.scdn.co/mp3-preview/c1de960c1a98f7ab652331e5223c50baba75c460?cid=11419dac9f88424c93dd910d7d82a6bc'}, {'id': '3BKD1PwArikchz2Zrlp1qi', 'name': \"Baby Don't Hurt Me\", 'artist': 'David Guetta', 'album': \"Baby Don't Hurt Me\", 'genre': 'edm', 'popularity': 85, 'cover_image_url': 'https://i.scdn.co/image/ab67616d0000b2730b4ef75c3728599aa4104f7a', 'preview_url': 'https://p.scdn.co/mp3-preview/a8f2e176e17e0f6298b42ef8e96118318fdd2b89?cid=11419dac9f88424c93dd910d7d82a6bc'}], 'TLC': [{'id': '1KGi9sZVMeszgZOWivFpxs', 'name': 'No Scrubs', 'artist': 'TLC', 'album': 'Fanmail', 'genre': 'dance', 'popularity': 83, 'cover_image_url': 'https://i.scdn.co/image/ab67616d0000b27361ffafd5e31a37336531cf95', 'preview_url': 'https://p.scdn.co/mp3-preview/87c4c3435b531616e2d642009a18eb711f87be4e?cid=11419dac9f88424c93dd910d7d82a6bc'}], 'Shakira': [{'id': '3ZFTkvIE7kyPt6Nu3PEa7V', 'name': \"Hips Don't Lie (feat. Wyclef Jean)\", 'artist': 'Shakira', 'album': 'Oral Fixation, Vol. 2 (Expanded Edition)', 'genre': 'dance', 'popularity': 87, 'cover_image_url': 'https://i.scdn.co/image/ab67616d0000b27327ddd747545c0d0cfe7595fa', 'preview_url': 'https://p.scdn.co/mp3-preview/374b492571c9ba59c2c4b455ab79ee7501adab93?cid=11419dac9f88424c93dd910d7d82a6bc'}], 'Kesha': [{'id': '7HUhMOrlvwBPfBq3c0ajh0', 'name': 'JOYRIDE', 'artist': 'Kesha', 'album': 'JOYRIDE', 'genre': 'dance', 'popularity': 81, 'cover_image_url': 'https://i.scdn.co/image/ab67616d0000b273336f6fbf3007f73a9782b026', 'preview_url': 'https://p.scdn.co/mp3-preview/8d1ec5ff1ce87253fa171515beb29d346d1e4431?cid=11419dac9f88424c93dd910d7d82a6bc'}, {'id': '0HPD5WQqrq7wPWR7P7Dw1i', 'name': 'TiK ToK', 'artist': 'Kesha', 'album': 'Animal (Expanded Edition)', 'genre': 'dance', 'popularity': 84, 'cover_image_url': 'https://i.scdn.co/image/ab67616d0000b2737a6339d6ddfd579f77559b3c', 'preview_url': 'https://p.scdn.co/mp3-preview/ea95bec21bd6c4979cc91f5d5528b533d879905c?cid=11419dac9f88424c93dd910d7d82a6bc'}], 'Calvin Harris': [{'id': '6YUTL4dYpB9xZO5qExPf05', 'name': 'Summer', 'artist': 'Calvin Harris', 'album': 'Motion', 'genre': 'dance', 'popularity': 86, 'cover_image_url': 'https://i.scdn.co/image/ab67616d0000b273063c048e9ef6bd021b744756', 'preview_url': 'https://p.scdn.co/mp3-preview/a6fc9fe137bd7d0b3377309f8235eddf449866e5?cid=11419dac9f88424c93dd910d7d82a6bc'}, {'id': '1gihuPhrLraKYrJMAEONyc', 'name': 'Feel So Close - Radio Edit', 'artist': 'Calvin Harris', 'album': '18 Months', 'genre': 'dance', 'popularity': 85, 'cover_image_url': 'https://i.scdn.co/image/ab67616d0000b273dcef905cb144d4867119850b', 'preview_url': 'https://p.scdn.co/mp3-preview/b8372b1a0b8d09a5004388a654f29bef6bc37021?cid=11419dac9f88424c93dd910d7d82a6bc'}, {'id': '0azC730Exh71aQlOt9Zj3y', 'name': 'This Is What You Came For', 'artist': 'Calvin Harris', 'album': 'This Is What You Came For', 'genre': 'dance', 'popularity': 86, 'cover_image_url': 'https://i.scdn.co/image/ab67616d0000b273d9aa52355e062f5de060adbf', 'preview_url': 'https://p.scdn.co/mp3-preview/14138fec09bb5940b1ee11c3207663906970cf9b?cid=11419dac9f88424c93dd910d7d82a6bc'}, {'id': '7MmG8p0F9N3C4AXdK6o6Eb', 'name': 'Outside (feat. Ellie Goulding)', 'artist': 'Calvin Harris', 'album': 'Motion', 'genre': 'edm', 'popularity': 85, 'cover_image_url': 'https://i.scdn.co/image/ab67616d0000b273063c048e9ef6bd021b744756', 'preview_url': 'https://p.scdn.co/mp3-preview/258a571c0ae04c58dad7ff59c49b0bd39cb1986b?cid=11419dac9f88424c93dd910d7d82a6bc'}, {'id': '7ef4DlsgrMEH11cDZd32M6', 'name': 'One Kiss (with Dua Lipa)', 'artist': 'Calvin Harris', 'album': 'One Kiss (with Dua Lipa)', 'genre': 'edm', 'popularity': 85, 'cover_image_url': 'https://i.scdn.co/image/ab67616d0000b273d09f96d82310d4d77c14c108', 'preview_url': 'https://p.scdn.co/mp3-preview/0c09da1fe6f1da091c05057835e6be2312e2dc18?cid=11419dac9f88424c93dd910d7d82a6bc'}, {'id': '22mek4IiqubGD9ctzxc69s', 'name': 'How Deep Is Your Love', 'artist': 'Calvin Harris', 'album': 'How Deep Is Your Love', 'genre': 'edm', 'popularity': 83, 'cover_image_url': 'https://i.scdn.co/image/ab67616d0000b273f4956c3ceefc6fa1cffc6da6', 'preview_url': 'https://p.scdn.co/mp3-preview/6aa9aca8fda017e572a0065c00a67feb6f044d0c?cid=11419dac9f88424c93dd910d7d82a6bc'}, {'id': '1vvNmPOiUuyCbgWmtc6yfm', 'name': 'My Way', 'artist': 'Calvin Harris', 'album': 'My Way', 'genre': 'edm', 'popularity': 81, 'cover_image_url': 'https://i.scdn.co/image/ab67616d0000b2738d12bc5e3ea5c9f4a967de32', 'preview_url': 'https://p.scdn.co/mp3-preview/ed8d125912048b01914f6e5861742bec125602e8?cid=11419dac9f88424c93dd910d7d82a6bc'}, {'id': '07nH4ifBxUB4lZcsf44Brn', 'name': 'Blame (feat. John Newman)', 'artist': 'Calvin Harris', 'album': 'Motion', 'genre': 'edm', 'popularity': 80, 'cover_image_url': 'https://i.scdn.co/image/ab67616d0000b273063c048e9ef6bd021b744756', 'preview_url': 'https://p.scdn.co/mp3-preview/31297ae5e2f5524fe28b18ed71abc79683c66a88?cid=11419dac9f88424c93dd910d7d82a6bc'}], 'Whitney Houston': [{'id': '2tUBqZG2AbRi7Q0BIrVrEj', 'name': 'I Wanna Dance with Somebody (Who Loves Me)', 'artist': 'Whitney Houston', 'album': 'Whitney', 'genre': 'dance', 'popularity': 84, 'cover_image_url': 'https://i.scdn.co/image/ab67616d0000b273cc57e9b00b87dd0f6e868347', 'preview_url': 'https://p.scdn.co/mp3-preview/7414ae6c811dee16c467c256429c7427fbcc98d0?cid=11419dac9f88424c93dd910d7d82a6bc'}], 'Britney Spears': [{'id': '6I9VzXrHxO9rA9A5euc8Ak', 'name': 'Toxic', 'artist': 'Britney Spears', 'album': 'In The Zone', 'genre': 'dance', 'popularity': 85, 'cover_image_url': 'https://i.scdn.co/image/ab67616d0000b273efc6988972cb04105f002cd4', 'preview_url': 'https://p.scdn.co/mp3-preview/6de2791f84c1d637a0e24734b6df3997cc742da4?cid=11419dac9f88424c93dd910d7d82a6bc'}], 'Sean Paul': [{'id': '0k2GOhqsrxDTAbFFSdNJjT', 'name': 'Temperature', 'artist': 'Sean Paul', 'album': 'The Trinity', 'genre': 'dancehall', 'popularity': 80, 'cover_image_url': 'https://i.scdn.co/image/ab67616d0000b27369ba684e533706bafe248ef3', 'preview_url': 'https://p.scdn.co/mp3-preview/fd0b2beda757e9b8dcaf04e71c1d6cada0659765?cid=11419dac9f88424c93dd910d7d82a6bc'}], 'Earth, Wind & Fire': [{'id': '3kXoKlD84c6OmIcOLfrfEs', 'name': 'September', 'artist': 'Earth, Wind & Fire', 'album': 'September (sped up + slowed)', 'genre': 'disco', 'popularity': 84, 'cover_image_url': 'https://i.scdn.co/image/ab67616d0000b2730faf2fc17446651865ce2282', 'preview_url': 'https://p.scdn.co/mp3-preview/27390b5ac85b9dd997e8ae98a3356f0dd4a61f51?cid=11419dac9f88424c93dd910d7d82a6bc'}], 'Modjo': [{'id': '49X0LAl6faAusYq02PRAY6', 'name': 'Lady - Hear Me Tonight', 'artist': 'Modjo', 'album': 'Modjo (Remastered)', 'genre': 'disco', 'popularity': 80, 'cover_image_url': 'https://i.scdn.co/image/ab67616d0000b27354c5c304064df85d61253ac7', 'preview_url': 'https://p.scdn.co/mp3-preview/05e58f0bcf5a9a29f60d5aa4fd685a528a59f328?cid=11419dac9f88424c93dd910d7d82a6bc'}], 'Marshmello': [{'id': '4pkb8SbRGeHAvdb87v9rpf', 'name': 'Miles On It', 'artist': 'Marshmello', 'album': 'Miles On It', 'genre': 'edm', 'popularity': 85, 'cover_image_url': 'https://i.scdn.co/image/ab67616d0000b27300ac867eff7ed64be10a517c', 'preview_url': 'https://p.scdn.co/mp3-preview/f989c539f2f53126339e1dd7dbd9213f3b1349b2?cid=11419dac9f88424c93dd910d7d82a6bc'}, {'id': '7BqHUALzNBTanL6OvsqmC1', 'name': 'Happier', 'artist': 'Marshmello', 'album': 'Happier', 'genre': 'edm', 'popularity': 83, 'cover_image_url': 'https://i.scdn.co/image/ab67616d0000b273dd0a40eecd4b13e4c59988da', 'preview_url': 'https://p.scdn.co/mp3-preview/a23fe33122a12a302b97c443ab82473ce55df8fd?cid=11419dac9f88424c93dd910d7d82a6bc'}, {'id': '7vGuf3Y35N4wmASOKLUVVU', 'name': 'Silence', 'artist': 'Marshmello', 'album': 'Silence', 'genre': 'edm', 'popularity': 82, 'cover_image_url': 'https://i.scdn.co/image/ab67616d0000b273f33ba583059dc2f7d08bf2b8', 'preview_url': 'https://p.scdn.co/mp3-preview/26ea0841d3e1dd4eec371df3c79fbcc4a6aed42d?cid=11419dac9f88424c93dd910d7d82a6bc'}, {'id': '5KbBVSj6AJZ5662fO8EYFh', 'name': 'El Merengue', 'artist': 'Marshmello', 'album': 'Sugar Papi', 'genre': 'electro', 'popularity': 81, 'cover_image_url': 'https://i.scdn.co/image/ab67616d0000b2736a84be92318cebb5ac7fbc47', 'preview_url': 'https://p.scdn.co/mp3-preview/8f85a757be0d6acb90a870442608a2bc0efe5860?cid=11419dac9f88424c93dd910d7d82a6bc'}], 'Mac DeMarco': [{'id': '2R4AlwtrrkMaRKojcTIzmL', 'name': 'For the First Time', 'artist': 'Mac DeMarco', 'album': 'This Old Dog', 'genre': 'edm', 'popularity': 81, 'cover_image_url': 'https://i.scdn.co/image/ab67616d0000b273d18fa8f63707115cb1b38f65', 'preview_url': 'https://p.scdn.co/mp3-preview/6e7905297d920bd2434923bd64eb9b012b4d7610?cid=11419dac9f88424c93dd910d7d82a6bc'}, {'id': '6jgkEbmQ2F2onEqsEhiliL', 'name': 'My Kind of Woman', 'artist': 'Mac DeMarco', 'album': '2', 'genre': 'edm', 'popularity': 80, 'cover_image_url': 'https://i.scdn.co/image/ab67616d0000b2739d377496c6bc8724b521222d', 'preview_url': 'https://p.scdn.co/mp3-preview/84a0a0a0a484047ef91d1841090bb04182e83692?cid=11419dac9f88424c93dd910d7d82a6bc'}, {'id': '7H7NyZ3G075GqPx2evsfeb', 'name': 'Chamber Of Reflection', 'artist': 'Mac DeMarco', 'album': 'Salad Days', 'genre': 'edm', 'popularity': 80, 'cover_image_url': 'https://i.scdn.co/image/ab67616d0000b273ec6e9c13eeed14eedbd5f7c9', 'preview_url': 'https://p.scdn.co/mp3-preview/17a0b215c5cab8a53047fd6aa5c5dd54507efaec?cid=11419dac9f88424c93dd910d7d82a6bc'}], 'Kygo': [{'id': '0LMwmV37RCmBO2so0szAFs', 'name': 'Whatever', 'artist': 'Kygo', 'album': 'Whatever', 'genre': 'edm', 'popularity': 84, 'cover_image_url': 'https://i.scdn.co/image/ab67616d0000b2734d914470ab899815f103f5cc', 'preview_url': 'https://p.scdn.co/mp3-preview/03bbf447d8f0101cff90c78b3ab0c4757c3bf27b?cid=11419dac9f88424c93dd910d7d82a6bc'}], 'Lost Frequencies': [{'id': '3mfER4ORePHvN35cbZ3dkV', 'name': 'Where Are You Now', 'artist': 'Lost Frequencies', 'album': 'All Stand Together', 'genre': 'edm', 'popularity': 83, 'cover_image_url': 'https://i.scdn.co/image/ab67616d0000b273580da30167c82db5fcc5f798', 'preview_url': 'https://p.scdn.co/mp3-preview/2524ba8c7e53a72a62eaf3bae51d63c9427284c9?cid=11419dac9f88424c93dd910d7d82a6bc'}], 'Dimitri Vegas & Like Mike': [{'id': '09CnYHiZ5jGT1wr1TXJ9Zt', 'name': 'Thank You (Not So Bad)', 'artist': 'Dimitri Vegas & Like Mike', 'album': 'Thank You (Not So Bad)', 'genre': 'edm', 'popularity': 86, 'cover_image_url': 'https://i.scdn.co/image/ab67616d0000b2730aa08f8923434aab06e43b37', 'preview_url': 'https://p.scdn.co/mp3-preview/90b0c56eb3bd187d09a8ad612eb4049447d056ad?cid=11419dac9f88424c93dd910d7d82a6bc'}], 'Regard': [{'id': '2tnVG71enUj33Ic2nFN6kZ', 'name': 'Ride It', 'artist': 'Regard', 'album': 'Ride It', 'genre': 'edm', 'popularity': 81, 'cover_image_url': 'https://i.scdn.co/image/ab67616d0000b2735c27813ae019011fcb370c78', 'preview_url': 'https://p.scdn.co/mp3-preview/ce29bb243cf40118b87070b00a49822e09a317b1?cid=11419dac9f88424c93dd910d7d82a6bc'}], 'Zara Larsson': [{'id': '1rIKgCH4H52lrvDcz50hS8', 'name': 'Lush Life', 'artist': 'Zara Larsson', 'album': 'So Good', 'genre': 'electro', 'popularity': 84, 'cover_image_url': 'https://i.scdn.co/image/ab67616d0000b2739e1683774b22648f4f178ed3', 'preview_url': 'https://p.scdn.co/mp3-preview/2f14e67d9660815897317b300241b228e40bcd97?cid=11419dac9f88424c93dd910d7d82a6bc'}], 'Alok': [{'id': '7MIhUdNJtaOnDmC5nBC1fb', 'name': 'Deep Down (feat. Never Dull)', 'artist': 'Alok', 'album': 'Deep Down (feat. Never Dull)', 'genre': 'electro', 'popularity': 81, 'cover_image_url': 'https://i.scdn.co/image/ab67616d0000b273ed443f0fff29eee63c9ede20', 'preview_url': 'https://p.scdn.co/mp3-preview/86c654c4b63f69463fb961bad9b9dcd59da63091?cid=11419dac9f88424c93dd910d7d82a6bc'}], 'Daft Punk': [{'id': '2Foc5Q5nqNiosCNqttzHof', 'name': 'Get Lucky (Radio Edit) [feat. Pharrell Williams and Nile Rodgers]', 'artist': 'Daft Punk', 'album': 'Get Lucky (Radio Edit) [feat. Pharrell Williams and Nile Rodgers]', 'genre': 'electro', 'popularity': 81, 'cover_image_url': 'https://i.scdn.co/image/ab67616d0000b2731d5cf960a92bb8b03fc2be7f', 'preview_url': 'https://p.scdn.co/mp3-preview/9b7eaf7fb5cab29251df52e9a4f46fad14e29aa1?cid=11419dac9f88424c93dd910d7d82a6bc'}], 'XXXTENTACION': [{'id': '5TXDeTFVRVY7Cvt0Dw4vWW', 'name': 'Revenge', 'artist': 'XXXTENTACION', 'album': '17', 'genre': 'emo', 'popularity': 86, 'cover_image_url': 'https://i.scdn.co/image/ab67616d0000b273203c89bd4391468eea4cc3f5', 'preview_url': 'https://p.scdn.co/mp3-preview/8f5fe8bb510463b2da20325c8600200bf2984d83?cid=11419dac9f88424c93dd910d7d82a6bc'}, {'id': '7AQim7LbvFVZJE3O8TYgf2', 'name': 'Fuck Love', 'artist': 'XXXTENTACION', 'album': '17', 'genre': 'emo', 'popularity': 84, 'cover_image_url': 'https://i.scdn.co/image/ab67616d0000b273203c89bd4391468eea4cc3f5', 'preview_url': 'https://p.scdn.co/mp3-preview/ad4d23afd3b92325c442f036322a05f5f35385dc?cid=11419dac9f88424c93dd910d7d82a6bc'}, {'id': '3GVkPk8mqxz0itaAriG1L7', 'name': 'Everybody Dies In Their Nightmares', 'artist': 'XXXTENTACION', 'album': '17', 'genre': 'emo', 'popularity': 82, 'cover_image_url': 'https://i.scdn.co/image/ab67616d0000b273203c89bd4391468eea4cc3f5', 'preview_url': 'https://p.scdn.co/mp3-preview/57ea372058336bcc4774b5dcee03d6712b16ae5c?cid=11419dac9f88424c93dd910d7d82a6bc'}, {'id': '7m9OqQk4RVRkw9JJdeAw96', 'name': 'Jocelyn Flores', 'artist': 'XXXTENTACION', 'album': '17', 'genre': 'emo', 'popularity': 81, 'cover_image_url': 'https://i.scdn.co/image/ab67616d0000b273203c89bd4391468eea4cc3f5', 'preview_url': 'https://p.scdn.co/mp3-preview/df466c4bb30333c2ee904e7c876920e418d41732?cid=11419dac9f88424c93dd910d7d82a6bc'}, {'id': '7floNISpH8VF4z4459Qo18', 'name': 'Look At Me!', 'artist': 'XXXTENTACION', 'album': 'Look At Me!', 'genre': 'emo', 'popularity': 80, 'cover_image_url': 'https://i.scdn.co/image/ab67616d0000b27371af28545729f60b3eca66f7', 'preview_url': 'https://p.scdn.co/mp3-preview/7add0b609734fafbb2a8284bd5821203d41b46c2?cid=11419dac9f88424c93dd910d7d82a6bc'}], 'salvia palth': [{'id': '6mSnSuOhgHHohqeBw76jRV', 'name': 'i was all over her', 'artist': 'salvia palth', 'album': 'melanchole', 'genre': 'emo', 'popularity': 82, 'cover_image_url': 'https://i.scdn.co/image/ab67616d0000b2734a82bda3507d50ac3e039bb0', 'preview_url': 'https://p.scdn.co/mp3-preview/c93b9442b4672b7384b08802f2e43f914274f49c?cid=11419dac9f88424c93dd910d7d82a6bc'}], 'Lil Peep': [{'id': '4jvjzW7Hm0yK4LvvE0Paz9', 'name': 'Falling Down - Bonus Track', 'artist': 'Lil Peep', 'album': \"Come Over When You're Sober, Pt. 2\", 'genre': 'emo', 'popularity': 83, 'cover_image_url': 'https://i.scdn.co/image/ab67616d0000b27355e36b0dc5b0ef008fc85319', 'preview_url': 'https://p.scdn.co/mp3-preview/9404f45725ef5d46e29a539c7da1fc4315cf5a69?cid=11419dac9f88424c93dd910d7d82a6bc'}, {'id': '1WbhIxkn5ECsOwUm795iX1', 'name': 'Star Shopping', 'artist': 'Lil Peep', 'album': 'Star Shopping', 'genre': 'emo', 'popularity': 82, 'cover_image_url': 'https://i.scdn.co/image/ab67616d0000b2732568a5b51d322cbd987106f7', 'preview_url': 'https://p.scdn.co/mp3-preview/d415dfca7346912ad65b904e06c8996a2ead8e06?cid=11419dac9f88424c93dd910d7d82a6bc'}, {'id': '4k3xDpAdBuM17mNNHhOZkK', 'name': 'nuts', 'artist': 'Lil Peep', 'album': 'LIVE FOREVER', 'genre': 'emo', 'popularity': 80, 'cover_image_url': 'https://i.scdn.co/image/ab67616d0000b2739c40b3a3043a8f24403048a6', 'preview_url': 'https://p.scdn.co/mp3-preview/4318824c488b6d05cb139db0a98661f8cb21a2cb?cid=11419dac9f88424c93dd910d7d82a6bc'}], 'My Chemical Romance': [{'id': '7j31rVgGX9Q2blT92VBEA0', 'name': 'Teenagers', 'artist': 'My Chemical Romance', 'album': 'The Black Parade', 'genre': 'emo', 'popularity': 80, 'cover_image_url': 'https://i.scdn.co/image/ab67616d0000b27317f77fab7e8f18d5f9fee4a1', 'preview_url': 'https://p.scdn.co/mp3-preview/e6d0c0da5d86b2d19ee4456344ac9527a72b2a7d?cid=11419dac9f88424c93dd910d7d82a6bc'}], 'Van Morrison': [{'id': '3yrSvpt2l1xhsV9Em88Pul', 'name': 'Brown Eyed Girl', 'artist': 'Van Morrison', 'album': \"Blowin' Your Mind!\", 'genre': 'folk', 'popularity': 86, 'cover_image_url': 'https://i.scdn.co/image/ab67616d0000b2733f29a976eea00141514ab936', 'preview_url': 'https://p.scdn.co/mp3-preview/731469a968c3295114a2b7052610674bf56c6048?cid=11419dac9f88424c93dd910d7d82a6bc'}], 'Richy Mitch & The Coal Miners': [{'id': '6me7F0aaZjwDo6RJ5MrfBD', 'name': 'Evergreen', 'artist': 'Richy Mitch & The Coal Miners', 'album': 'RMCM', 'genre': 'folk', 'popularity': 88, 'cover_image_url': 'https://i.scdn.co/image/ab67616d0000b2731cc17bae5ee17cce117e198a', 'preview_url': 'https://p.scdn.co/mp3-preview/fca7555fba8261b7ccc0aac1854a86033a12823b?cid=11419dac9f88424c93dd910d7d82a6bc'}], 'Vance Joy': [{'id': '3JvrhDOgAt6p7K8mDyZwRd', 'name': 'Riptide', 'artist': 'Vance Joy', 'album': 'Dream Your Life Away (Special Edition)', 'genre': 'folk', 'popularity': 82, 'cover_image_url': 'https://i.scdn.co/image/ab67616d0000b273a9929deb093a6617d2493b03', 'preview_url': 'https://p.scdn.co/mp3-preview/74698d907d114f4ba0b2c129bbf260724be80b64?cid=11419dac9f88424c93dd910d7d82a6bc'}], 'The Doobie Brothers': [{'id': '7Ar4G7Ci11gpt6sfH9Cgz5', 'name': 'Listen to the Music', 'artist': 'The Doobie Brothers', 'album': 'Toulouse Street', 'genre': 'folk', 'popularity': 81, 'cover_image_url': 'https://i.scdn.co/image/ab67616d0000b27391b51fa9b5967fb34c044498', 'preview_url': 'https://p.scdn.co/mp3-preview/8c0f0e1fcc1d1e6cb3baa54024b9181eff5ecf59?cid=11419dac9f88424c93dd910d7d82a6bc'}], 'George Ezra': [{'id': '2ixsaeFioXJmMgkkbd4uj1', 'name': 'Budapest', 'artist': 'George Ezra', 'album': 'Wanted on Voyage (Expanded Edition)', 'genre': 'folk', 'popularity': 84, 'cover_image_url': 'https://i.scdn.co/image/ab67616d0000b273d6df3bccf3ec41ea2f76debc', 'preview_url': 'https://p.scdn.co/mp3-preview/03e6f12a87c862370fe965eb330fbcab1f2ee93f?cid=11419dac9f88424c93dd910d7d82a6bc'}], 'Tracy Chapman': [{'id': '2M9ro2krNb7nr7HSprkEgo', 'name': 'Fast Car', 'artist': 'Tracy Chapman', 'album': 'Tracy Chapman', 'genre': 'folk', 'popularity': 82, 'cover_image_url': 'https://i.scdn.co/image/ab67616d0000b27390b8a540137ee2a718a369f9', 'preview_url': 'https://p.scdn.co/mp3-preview/ce0d4429f7d48e488e464ecf03a690ada14da02c?cid=11419dac9f88424c93dd910d7d82a6bc'}], 'Lizzy McAlpine': [{'id': '2L9N0zZnd37dwF0clgxMGI', 'name': 'ceilings', 'artist': 'Lizzy McAlpine', 'album': 'five seconds flat', 'genre': 'folk', 'popularity': 80, 'cover_image_url': 'https://i.scdn.co/image/ab67616d0000b273d370fdc4dbc47778b9b667c3', 'preview_url': 'https://p.scdn.co/mp3-preview/580782ffb17d468fe5d000bdf86cc07926ff9a5a?cid=11419dac9f88424c93dd910d7d82a6bc'}], 'Patrick Watson': [{'id': '44A0o4jA8F2ZF03Zacwlwx', 'name': 'Je te laisserai des mots', 'artist': 'Patrick Watson', 'album': 'Je te laisserai des mots', 'genre': 'folk', 'popularity': 83, 'cover_image_url': 'https://i.scdn.co/image/ab67616d0000b2738ea92a85c492af8a38750549', 'preview_url': 'https://p.scdn.co/mp3-preview/3c814ba891e1199c9602adab8bdefaf9116a1bd7?cid=11419dac9f88424c93dd910d7d82a6bc'}], 'Simon & Garfunkel': [{'id': '0iOZM63lendWRTTeKhZBSC', 'name': 'Mrs. Robinson - From \"The Graduate\" Soundtrack', 'artist': 'Simon & Garfunkel', 'album': 'Bookends', 'genre': 'folk', 'popularity': 80, 'cover_image_url': 'https://i.scdn.co/image/ab67616d0000b273d8fb5b4308dc27f210064ef4', 'preview_url': 'https://p.scdn.co/mp3-preview/b48d5e6bd6312c23e674b6d3c5293438190cd99b?cid=11419dac9f88424c93dd910d7d82a6bc'}], 'Roy Orbison': [{'id': '48i055G1OT5KxGGftwFxWy', 'name': 'Oh, Pretty Woman', 'artist': 'Roy Orbison', 'album': 'Oh, Pretty Woman', 'genre': 'folk', 'popularity': 80, 'cover_image_url': 'https://i.scdn.co/image/ab67616d0000b2731b3c09cb3ec9f618664f2622', 'preview_url': 'https://p.scdn.co/mp3-preview/246e9dc1fb2676bdacceaa564e46967ed000afef?cid=11419dac9f88424c93dd910d7d82a6bc'}], 'Bob Dylan': [{'id': '6HSXNV0b4M4cLJ7ljgVVeh', 'name': \"Knockin' On Heaven's Door\", 'artist': 'Bob Dylan', 'album': 'Pat Garrett & Billy The Kid (Soundtrack From The Motion Picture)', 'genre': 'folk', 'popularity': 80, 'cover_image_url': 'https://i.scdn.co/image/ab67616d0000b2736c86683d20c72e3874c11c6d', 'preview_url': 'https://p.scdn.co/mp3-preview/b1fb2e0d90764724242501e5a0c3c2393698d499?cid=11419dac9f88424c93dd910d7d82a6bc'}], 'Seafret': [{'id': '1Fid2jjqsHViMX6xNH70hE', 'name': 'Atlantis', 'artist': 'Seafret', 'album': \"Tell Me It's Real (Expanded Edition)\", 'genre': 'folk', 'popularity': 82, 'cover_image_url': 'https://i.scdn.co/image/ab67616d0000b2738c33272a7c77042f5eb39d75', 'preview_url': 'https://p.scdn.co/mp3-preview/2097364ff6c9f41d658ea1b00a5e2153dc61144b?cid=11419dac9f88424c93dd910d7d82a6bc'}], 'Matheus Fernandes': [{'id': '1NcqLEg2r2LXqMVbam2BJD', 'name': 'Triplex - Ao Vivo', 'artist': 'Matheus Fernandes', 'album': 'Triplex (Ao Vivo)', 'genre': 'forro', 'popularity': 82, 'cover_image_url': 'https://i.scdn.co/image/ab67616d0000b2739258fcfe29888e1371f3f812', 'preview_url': 'https://p.scdn.co/mp3-preview/3a78b8ba12ef72901e8a56fa06f92e99e49fb674?cid=11419dac9f88424c93dd910d7d82a6bc'}], 'Matt Sassari': [{'id': '5ZduaRci3iNUiDfJbBfAaf', 'name': 'Give It To Me - Full Vocal Mix', 'artist': 'Matt Sassari', 'album': 'Give It To Me (Full Vocal Mix)', 'genre': 'french', 'popularity': 83, 'cover_image_url': 'https://i.scdn.co/image/ab67616d0000b2736a1e9d7201b74142e2d47b69', 'preview_url': 'https://p.scdn.co/mp3-preview/50081928cfabde0d63a4d78f893542711259652d?cid=11419dac9f88424c93dd910d7d82a6bc'}], 'GIMS': [{'id': '2fFTn0f94EopgZyfSGQuyK', 'name': 'SPIDER', 'artist': 'GIMS', 'album': 'SPIDER', 'genre': 'french', 'popularity': 83, 'cover_image_url': 'https://i.scdn.co/image/ab67616d0000b27359dc8da873a4aa6c2d6888ff', 'preview_url': 'https://p.scdn.co/mp3-preview/d695920fe6419661e5b881ec01331d0dc2f3010a?cid=11419dac9f88424c93dd910d7d82a6bc'}], 'Bill Withers': [{'id': '0bRXwKfigvpKZUurwqAlEh', 'name': 'Lovely Day', 'artist': 'Bill Withers', 'album': 'Menagerie', 'genre': 'funk', 'popularity': 82, 'cover_image_url': 'https://i.scdn.co/image/ab67616d0000b2735ade9b4d547203c9061fc340', 'preview_url': 'https://p.scdn.co/mp3-preview/fdd27d4b10c891ee9e00b1820484b8898fcf905a?cid=11419dac9f88424c93dd910d7d82a6bc'}, {'id': '1k1Bqnv2R0uJXQN4u6LKYt', 'name': \"Ain't No Sunshine\", 'artist': 'Bill Withers', 'album': 'Just As I Am', 'genre': 'funk', 'popularity': 83, 'cover_image_url': 'https://i.scdn.co/image/ab67616d0000b273e1e350d06ffebd2e19e047ce', 'preview_url': 'https://p.scdn.co/mp3-preview/4894057a7cdc4be59cd335cfc369ba2d3a3b2ad8?cid=11419dac9f88424c93dd910d7d82a6bc'}], 'Coolio': [{'id': '1DIXPcTDzTj8ZMHt3PDt8p', 'name': \"Gangsta's Paradise\", 'artist': 'Coolio', 'album': \"Gangsta's Paradise\", 'genre': 'funk', 'popularity': 86, 'cover_image_url': 'https://i.scdn.co/image/ab67616d0000b273c31d3c870a3dbaf7b53186cc', 'preview_url': 'https://p.scdn.co/mp3-preview/1454c63a66c27ac745f874d6c113270a9c62d28e?cid=11419dac9f88424c93dd910d7d82a6bc'}], 'Rage Against The Machine': [{'id': '59WN2psjkt1tyaxjspN8fp', 'name': 'Killing In The Name', 'artist': 'Rage Against The Machine', 'album': 'Rage Against The Machine - XX (20th Anniversary Special Edition)', 'genre': 'funk', 'popularity': 80, 'cover_image_url': 'https://i.scdn.co/image/ab67616d0000b27354ab617bc2d4974ab6ffbece', 'preview_url': 'https://p.scdn.co/mp3-preview/998d3604b68754c11bc0a9af64291ac1f91fb0d8?cid=11419dac9f88424c93dd910d7d82a6bc'}], 'Arctic Monkeys': [{'id': '5XeFesFbtLpXzIVDNQP22n', 'name': 'I Wanna Be Yours', 'artist': 'Arctic Monkeys', 'album': 'AM', 'genre': 'garage', 'popularity': 91, 'cover_image_url': 'https://i.scdn.co/image/ab67616d0000b2734ae1c4c5c45aabe565499163', 'preview_url': 'https://p.scdn.co/mp3-preview/07de30bde8363d9ff78b72339245c151f67af451?cid=11419dac9f88424c93dd910d7d82a6bc'}, {'id': '086myS9r57YsLbJpU0TgK9', 'name': \"Why'd You Only Call Me When You're High?\", 'artist': 'Arctic Monkeys', 'album': 'AM', 'genre': 'garage', 'popularity': 85, 'cover_image_url': 'https://i.scdn.co/image/ab67616d0000b2734ae1c4c5c45aabe565499163', 'preview_url': 'https://p.scdn.co/mp3-preview/be5453a4763510679fab61e39662ab0257458be6?cid=11419dac9f88424c93dd910d7d82a6bc'}, {'id': '5FVd6KXrgO9B3JPmC8OPst', 'name': 'Do I Wanna Know?', 'artist': 'Arctic Monkeys', 'album': 'AM', 'genre': 'garage', 'popularity': 86, 'cover_image_url': 'https://i.scdn.co/image/ab67616d0000b2734ae1c4c5c45aabe565499163', 'preview_url': 'https://p.scdn.co/mp3-preview/006bc465fe3d1c04dae93a050eca9d402a7322b8?cid=11419dac9f88424c93dd910d7d82a6bc'}, {'id': '2AT8iROs4FQueDv2c8q2KE', 'name': 'R U Mine?', 'artist': 'Arctic Monkeys', 'album': 'AM', 'genre': 'garage', 'popularity': 80, 'cover_image_url': 'https://i.scdn.co/image/ab67616d0000b2734ae1c4c5c45aabe565499163', 'preview_url': 'https://p.scdn.co/mp3-preview/d41c9b18f0787cc9b2ccea10740d92dd7e7f639a?cid=11419dac9f88424c93dd910d7d82a6bc'}], 'The Goo Goo Dolls': [{'id': '6Qyc6fS4DsZjB2mRW9DsQs', 'name': 'Iris', 'artist': 'The Goo Goo Dolls', 'album': 'Dizzy up the Girl', 'genre': 'grunge', 'popularity': 88, 'cover_image_url': 'https://i.scdn.co/image/ab67616d0000b273eda9478c39a21e1cdc6609ca', 'preview_url': 'https://p.scdn.co/mp3-preview/30e2a899a94a089d5c341b782b00aa802fd87610?cid=11419dac9f88424c93dd910d7d82a6bc'}], 'Audioslave': [{'id': '3YuaBvuZqcwN3CEAyyoaei', 'name': 'Like a Stone', 'artist': 'Audioslave', 'album': 'Audioslave', 'genre': 'grunge', 'popularity': 80, 'cover_image_url': 'https://i.scdn.co/image/ab67616d0000b273a7292b6863258e889b78d787', 'preview_url': 'https://p.scdn.co/mp3-preview/46d898c23fb28b9f52abf78b794aa500988d2132?cid=11419dac9f88424c93dd910d7d82a6bc'}], 'Journey': [{'id': '5RKQ5NdjSh2QzD4MaunT91', 'name': \"Don't Stop Believin' (2022 Remaster)\", 'artist': 'Journey', 'album': 'Escape (2022 Remaster)', 'genre': 'hard-rock', 'popularity': 87, 'cover_image_url': 'https://i.scdn.co/image/ab67616d0000b27363fa4751355b66f236943275', 'preview_url': 'https://p.scdn.co/mp3-preview/50923c629a4d9ab470b0ca6a10495ecb945c1500?cid=11419dac9f88424c93dd910d7d82a6bc'}], 'AC/DC': [{'id': '2SiXAy7TuUkycRVbbWDEpo', 'name': 'You Shook Me All Night Long', 'artist': 'AC/DC', 'album': 'Back In Black', 'genre': 'hard-rock', 'popularity': 86, 'cover_image_url': 'https://i.scdn.co/image/ab67616d0000b2730b51f8d91f3a21e8426361ae', 'preview_url': 'https://p.scdn.co/mp3-preview/3b01294b6b0458fea6ed5a88ea1b1593eb495ead?cid=11419dac9f88424c93dd910d7d82a6bc'}, {'id': '57bgtoPSgt236HzfBOd8kj', 'name': 'Thunderstruck', 'artist': 'AC/DC', 'album': 'The Razors Edge', 'genre': 'hard-rock', 'popularity': 86, 'cover_image_url': 'https://i.scdn.co/image/ab67616d0000b2738399047ff71200928f5b6508', 'preview_url': 'https://p.scdn.co/mp3-preview/788a028fa3a33141c817b1064e3159006edeaa8d?cid=11419dac9f88424c93dd910d7d82a6bc'}, {'id': '2zYzyRzz6pRmhPzyfMEC8s', 'name': 'Highway to Hell', 'artist': 'AC/DC', 'album': 'Highway to Hell', 'genre': 'hard-rock', 'popularity': 86, 'cover_image_url': 'https://i.scdn.co/image/ab67616d0000b27351c02a77d09dfcd53c8676d0', 'preview_url': 'https://p.scdn.co/mp3-preview/e5dde93998c6b622d0ac236ceeaabd49481da078?cid=11419dac9f88424c93dd910d7d82a6bc'}, {'id': '08mG3Y1vljYA6bvDt4Wqkj', 'name': 'Back In Black', 'artist': 'AC/DC', 'album': 'Back In Black', 'genre': 'hard-rock', 'popularity': 85, 'cover_image_url': 'https://i.scdn.co/image/ab67616d0000b2730b51f8d91f3a21e8426361ae', 'preview_url': 'https://p.scdn.co/mp3-preview/81e64fa3a306418f6bb51325a93df0c75ea50d42?cid=11419dac9f88424c93dd910d7d82a6bc'}, {'id': '7LRMbd3LEoV5wZJvXT1Lwb', 'name': 'T.N.T.', 'artist': 'AC/DC', 'album': 'High Voltage', 'genre': 'hard-rock', 'popularity': 80, 'cover_image_url': 'https://i.scdn.co/image/ab67616d0000b273286a0837ff3424065a735e0a', 'preview_url': 'https://p.scdn.co/mp3-preview/b057af7c776de98ed5aa2a73bd3f5b9e6c84459d?cid=11419dac9f88424c93dd910d7d82a6bc'}], 'Boston': [{'id': '1QEEqeFIZktqIpPI4jSVSF', 'name': 'More Than a Feeling', 'artist': 'Boston', 'album': 'Boston', 'genre': 'hard-rock', 'popularity': 81, 'cover_image_url': 'https://i.scdn.co/image/ab67616d0000b2738c1fadcc997a65384f34d694', 'preview_url': 'https://p.scdn.co/mp3-preview/4e8704349932ecb754e3c03cdf3b1563309627a0?cid=11419dac9f88424c93dd910d7d82a6bc'}], 'TOTO': [{'id': '4aVuWgvD0X63hcOCnZtNFA', 'name': 'Hold the Line', 'artist': 'TOTO', 'album': 'Toto', 'genre': 'hard-rock', 'popularity': 85, 'cover_image_url': 'https://i.scdn.co/image/ab67616d0000b273f903e62767a0e22e33b7af83', 'preview_url': 'https://p.scdn.co/mp3-preview/11e480955e46f3b6b5c1e0b6c28db18c25c1e73e?cid=11419dac9f88424c93dd910d7d82a6bc'}], 'Kansas': [{'id': '6zeE5tKyr8Nu882DQhhSQI', 'name': 'Dust in the Wind', 'artist': 'Kansas', 'album': 'Point Of Know Return (Expanded Edition)', 'genre': 'hard-rock', 'popularity': 81, 'cover_image_url': 'https://i.scdn.co/image/ab67616d0000b27359f0f56a7cd13526b5b4204c', 'preview_url': 'https://p.scdn.co/mp3-preview/ddfc248171b5199053bafdefbc94ab5b335faa48?cid=11419dac9f88424c93dd910d7d82a6bc'}], 'Foreigner': [{'id': '1JLn8RhQzHz3qDqsChcmBl', 'name': 'I Want to Know What Love Is - 1999 Remaster', 'artist': 'Foreigner', 'album': 'Agent Provocateur', 'genre': 'hard-rock', 'popularity': 80, 'cover_image_url': 'https://i.scdn.co/image/ab67616d0000b2733e030a7e606959674643d274', 'preview_url': 'https://p.scdn.co/mp3-preview/23f9b7ad0a9008aca1017cce9b5ba375b322ac8b?cid=11419dac9f88424c93dd910d7d82a6bc'}], 'The Notorious B.I.G.': [{'id': '7KwZNVEaqikRSBSpyhXK2j', 'name': 'Hypnotize - 2014 Remaster', 'artist': 'The Notorious B.I.G.', 'album': 'Life After Death (2014 Remastered Edition)', 'genre': 'hardcore', 'popularity': 80, 'cover_image_url': 'https://i.scdn.co/image/ab67616d0000b273fde79b88e2a659c394c5ae30', 'preview_url': 'https://p.scdn.co/mp3-preview/6aa2483fe9ac2dae624a1a88952aa24bb5c2414e?cid=11419dac9f88424c93dd910d7d82a6bc'}], 'Future': [{'id': '2tudvzsrR56uom6smgOcSf', 'name': 'Like That', 'artist': 'Future', 'album': \"WE DON'T TRUST YOU\", 'genre': 'hip-hop', 'popularity': 90, 'cover_image_url': 'https://i.scdn.co/image/ab67616d0000b273a46b07c291e6dfdee13b3ee8', 'preview_url': 'https://p.scdn.co/mp3-preview/793f43da71fe668c35b72a38ae7f93e783823e17?cid=11419dac9f88424c93dd910d7d82a6bc'}, {'id': '28drn6tQo95MRvO0jQEo5C', 'name': 'Type Shit', 'artist': 'Future', 'album': \"WE DON'T TRUST YOU\", 'genre': 'hip-hop', 'popularity': 88, 'cover_image_url': 'https://i.scdn.co/image/ab67616d0000b273a46b07c291e6dfdee13b3ee8', 'preview_url': 'https://p.scdn.co/mp3-preview/4743d8302c54f95d6f79858b7c67764b1d45e9a3?cid=11419dac9f88424c93dd910d7d82a6bc'}], 'Tyler, The Creator': [{'id': '7KA4W4McWYRpgf0fWsJZWB', 'name': 'See You Again (feat. Kali Uchis)', 'artist': 'Tyler, The Creator', 'album': 'Flower Boy', 'genre': 'hip-hop', 'popularity': 90, 'cover_image_url': 'https://i.scdn.co/image/ab67616d0000b2738940ac99f49e44f59e6f7fb3', 'preview_url': 'https://p.scdn.co/mp3-preview/c703198293891e3b276800ea6b187cf7951d3d7d?cid=11419dac9f88424c93dd910d7d82a6bc'}, {'id': '3jHdKaLCkuNEkWcLVmQPCX', 'name': 'BEST INTEREST', 'artist': 'Tyler, The Creator', 'album': 'BEST INTEREST', 'genre': 'hip-hop', 'popularity': 83, 'cover_image_url': 'https://i.scdn.co/image/ab67616d0000b273ab8995f18dc3dd9f34a6acd4', 'preview_url': 'https://p.scdn.co/mp3-preview/cf36ca28a947227ba28d7ac88bfd7aec8b49e55f?cid=11419dac9f88424c93dd910d7d82a6bc'}], 'The Kid LAROI': [{'id': '1XBYiRV30ykHw5f4wm6qEn', 'name': 'NIGHTS LIKE THIS', 'artist': 'The Kid LAROI', 'album': 'THE FIRST TIME', 'genre': 'hip-hop', 'popularity': 88, 'cover_image_url': 'https://i.scdn.co/image/ab67616d0000b2732abb30c6296964d5d07458c2', 'preview_url': 'https://p.scdn.co/mp3-preview/644df54b3b300c95aed1bf5c47033de23d0aaae1?cid=11419dac9f88424c93dd910d7d82a6bc'}, {'id': '7z3PblAN3dH1JMewiRydkZ', 'name': 'GIRLS', 'artist': 'The Kid LAROI', 'album': 'GIRLS', 'genre': 'hip-hop', 'popularity': 85, 'cover_image_url': 'https://i.scdn.co/image/ab67616d0000b273c8af7237bb25ad59488944c1', 'preview_url': 'https://p.scdn.co/mp3-preview/befb7e95d881cfc53af67648ce47cba85e9cfd10?cid=11419dac9f88424c93dd910d7d82a6bc'}], 'Frank Ocean': [{'id': '3xKsf9qdS1CyvXSMEid6g8', 'name': 'Pink + White', 'artist': 'Frank Ocean', 'album': 'Blonde', 'genre': 'hip-hop', 'popularity': 88, 'cover_image_url': 'https://i.scdn.co/image/ab67616d0000b273c5649add07ed3720be9d5526', 'preview_url': 'https://p.scdn.co/mp3-preview/0e3ca894e19c37cbbbd511d9eb682d8bee030126?cid=11419dac9f88424c93dd910d7d82a6bc'}, {'id': '2ZWlPOoWh0626oTaHrnl2a', 'name': 'Ivy', 'artist': 'Frank Ocean', 'album': 'Blonde', 'genre': 'hip-hop', 'popularity': 83, 'cover_image_url': 'https://i.scdn.co/image/ab67616d0000b273c5649add07ed3720be9d5526', 'preview_url': 'https://p.scdn.co/mp3-preview/3eb4d77b749c0f49037e6aee78536eb35b5c88c7?cid=11419dac9f88424c93dd910d7d82a6bc'}, {'id': '2LMkwUfqC6S6s6qDVlEuzV', 'name': 'White Ferrari', 'artist': 'Frank Ocean', 'album': 'Blonde', 'genre': 'soul', 'popularity': 82, 'cover_image_url': 'https://i.scdn.co/image/ab67616d0000b273c5649add07ed3720be9d5526', 'preview_url': 'https://p.scdn.co/mp3-preview/bff77236970b7f90cdfc274b18b55ce7bf584bcc?cid=11419dac9f88424c93dd910d7d82a6bc'}], 'Gunna': [{'id': '4rXLjWdF2ZZpXCVTfWcshS', 'name': 'fukumean', 'artist': 'Gunna', 'album': 'a Gift & a Curse', 'genre': 'hip-hop', 'popularity': 87, 'cover_image_url': 'https://i.scdn.co/image/ab67616d0000b273017d5e26552345c4b1575b6c', 'preview_url': 'https://p.scdn.co/mp3-preview/f237ab921af697ba9b49e12fa167c2ce1a82d6b4?cid=11419dac9f88424c93dd910d7d82a6bc'}, {'id': '4Na2HfNSr58chvfX69fy36', 'name': 'one of wun', 'artist': 'Gunna', 'album': 'One of Wun', 'genre': 'hip-hop', 'popularity': 85, 'cover_image_url': 'https://i.scdn.co/image/ab67616d0000b273c67636f3021f5869095c0fc5', 'preview_url': 'https://p.scdn.co/mp3-preview/05b1cf76543e3ca8f5ce02a042e80f8e54f43f64?cid=11419dac9f88424c93dd910d7d82a6bc'}], '21 Savage': [{'id': '52eIcoLUM25zbQupAZYoFh', 'name': 'redrum', 'artist': '21 Savage', 'album': 'american dream', 'genre': 'hip-hop', 'popularity': 86, 'cover_image_url': 'https://i.scdn.co/image/ab67616d0000b273bbdceba2bf1867d4966d0347', 'preview_url': 'https://p.scdn.co/mp3-preview/36b18ee006f29af8902a4886029ba2431368f57a?cid=11419dac9f88424c93dd910d7d82a6bc'}], 'Bryson Tiller': [{'id': '57wp7VFnV8X0pSVnYArGeJ', 'name': 'Whatever She Wants', 'artist': 'Bryson Tiller', 'album': 'Whatever She Wants', 'genre': 'hip-hop', 'popularity': 83, 'cover_image_url': 'https://i.scdn.co/image/ab67616d0000b2731aba7b448d35bd576ceac182', 'preview_url': 'https://p.scdn.co/mp3-preview/72a170a8e9ed64cc4e6d810c5f42b2a62fd849a5?cid=11419dac9f88424c93dd910d7d82a6bc'}, {'id': '3pXF1nA74528Edde4of9CC', 'name': \"Don't\", 'artist': 'Bryson Tiller', 'album': 'T R A P S O U L', 'genre': 'hip-hop', 'popularity': 83, 'cover_image_url': 'https://i.scdn.co/image/ab67616d0000b273d5f3cea8affdca01a0dc754f', 'preview_url': 'https://p.scdn.co/mp3-preview/f7e8de8a2a419c43ddf77af8572e6ad1e4cb64d4?cid=11419dac9f88424c93dd910d7d82a6bc'}], 'A$AP Rocky': [{'id': '2aPTvyE09vUCRwVvj0I8WK', 'name': 'Sundress', 'artist': 'A$AP Rocky', 'album': 'Sundress', 'genre': 'hip-hop', 'popularity': 85, 'cover_image_url': 'https://i.scdn.co/image/ab67616d0000b2731ae967e4a02c7a39eb3c189b', 'preview_url': 'https://p.scdn.co/mp3-preview/4cc0018584f7e316a81616be3bf66c9d9a42ed0e?cid=11419dac9f88424c93dd910d7d82a6bc'}, {'id': '3ZaEs1O8BG581qYPHpQ8d6', 'name': \"I Smoked Away My Brain (I'm God x Demons Mashup) (feat. Imogen Heap & Clams Casino)\", 'artist': 'A$AP Rocky', 'album': \"I Smoked Away My Brain (I'm God x Demons Mashup) (feat. Imogen Heap & Clams Casino)\", 'genre': 'hip-hop', 'popularity': 84, 'cover_image_url': 'https://i.scdn.co/image/ab67616d0000b2732bb4bbf62bc82d2f4ce59397', 'preview_url': 'https://p.scdn.co/mp3-preview/8af2cba7fb2f4d438310485d791584e94b43318a?cid=11419dac9f88424c93dd910d7d82a6bc'}], 'Offset': [{'id': '7sO5G9EABYOXQKNPNiE9NR', 'name': 'Ric Flair Drip (with Metro Boomin)', 'artist': 'Offset', 'album': 'Without Warning', 'genre': 'hip-hop', 'popularity': 85, 'cover_image_url': 'https://i.scdn.co/image/ab67616d0000b2730db43130a9aaa7bae56967ed', 'preview_url': 'https://p.scdn.co/mp3-preview/89cee86b4663ac093731d7a433491dd71e286f61?cid=11419dac9f88424c93dd910d7d82a6bc'}], 'BigXthaPlug': [{'id': '4QTlxavdQGUVitxAvQqqkU', 'name': 'Mmhmm', 'artist': 'BigXthaPlug', 'album': 'THE BIGGEST', 'genre': 'hip-hop', 'popularity': 81, 'cover_image_url': 'https://i.scdn.co/image/ab67616d0000b2739afbbc313ea008b68cc5f40d', 'preview_url': 'https://p.scdn.co/mp3-preview/2f0692571f94cf8573032998a3b9ae7e40d4eba5?cid=11419dac9f88424c93dd910d7d82a6bc'}, {'id': '7hrFCoyWwKep7qp1lP4oga', 'name': 'Back On My BS', 'artist': 'BigXthaPlug', 'album': 'THE BIGGEST', 'genre': 'hip-hop', 'popularity': 80, 'cover_image_url': 'https://i.scdn.co/image/ab67616d0000b2739afbbc313ea008b68cc5f40d', 'preview_url': 'https://p.scdn.co/mp3-preview/f02a36be65c8b980b9aada12eabc7cc7c69ce877?cid=11419dac9f88424c93dd910d7d82a6bc'}], 'Jack Harlow': [{'id': '4xhsWYTOGcal8zt0J161CU', 'name': 'Lovin On Me', 'artist': 'Jack Harlow', 'album': 'Lovin On Me', 'genre': 'hip-hop', 'popularity': 85, 'cover_image_url': 'https://i.scdn.co/image/ab67616d0000b273fcf4adae77baba5d0169e8e8', 'preview_url': 'https://p.scdn.co/mp3-preview/eeeb6151d0049367b3ad3db0389e9e3b116c0774?cid=11419dac9f88424c93dd910d7d82a6bc'}], 'Mustard': [{'id': '4IFd7EVCyJsUHesBMXI8ju', 'name': 'Parking Lot', 'artist': 'Mustard', 'album': 'Parking Lot', 'genre': 'hip-hop', 'popularity': 84, 'cover_image_url': 'https://i.scdn.co/image/ab67616d0000b273ad3e25785fe6f26690797468', 'preview_url': 'https://p.scdn.co/mp3-preview/201aca7ea70c426a8ddcb3c90b75371c4009583a?cid=11419dac9f88424c93dd910d7d82a6bc'}], 'Jordan Adetunji': [{'id': '2hrycoFU1mZw6YPvMcn8yC', 'name': 'KEHLANI', 'artist': 'Jordan Adetunji', 'album': 'KEHLANI', 'genre': 'hip-hop', 'popularity': 86, 'cover_image_url': 'https://i.scdn.co/image/ab67616d0000b273f2cd132495d61b0da6a900d2', 'preview_url': 'https://p.scdn.co/mp3-preview/2ad9f03400a1744633dec4b907a3d5110931f973?cid=11419dac9f88424c93dd910d7d82a6bc'}], 'Tory Lanez': [{'id': '3azJifCSqg9fRij2yKIbWz', 'name': 'The Color Violet', 'artist': 'Tory Lanez', 'album': 'Alone At Prom', 'genre': 'hip-hop', 'popularity': 84, 'cover_image_url': 'https://i.scdn.co/image/ab67616d0000b2730c5f23cbf0b1ab7e37d0dc67', 'preview_url': 'https://p.scdn.co/mp3-preview/1d7c627bf549328110519c4bd21ac39d7ca50ea1?cid=11419dac9f88424c93dd910d7d82a6bc'}], 'Mac Miller': [{'id': '7FAFkQQZFeNwOFzTrSDFIh', 'name': 'The Spins', 'artist': 'Mac Miller', 'album': 'K.I.D.S. (Deluxe)', 'genre': 'hip-hop', 'popularity': 82, 'cover_image_url': 'https://i.scdn.co/image/ab67616d0000b273463d73e65c7b95a17898388b', 'preview_url': 'https://p.scdn.co/mp3-preview/8646d3b6544d0126b5b48d36aa857ac4a4a1d82f?cid=11419dac9f88424c93dd910d7d82a6bc'}], 'Travis Scott': [{'id': '42VsgItocQwOQC3XWZ8JNA', 'name': 'FE!N (feat. Playboi Carti)', 'artist': 'Travis Scott', 'album': 'UTOPIA', 'genre': 'house', 'popularity': 90, 'cover_image_url': 'https://i.scdn.co/image/ab67616d0000b273881d8d8378cd01099babcd44', 'preview_url': 'https://p.scdn.co/mp3-preview/4b0178cf6991f59db18e12e2219ff11e27474b0a?cid=11419dac9f88424c93dd910d7d82a6bc'}, {'id': '6wsqVwoiVH2kde4k4KKAFU', 'name': 'I KNOW ?', 'artist': 'Travis Scott', 'album': 'UTOPIA', 'genre': 'house', 'popularity': 85, 'cover_image_url': 'https://i.scdn.co/image/ab67616d0000b273881d8d8378cd01099babcd44', 'preview_url': 'https://p.scdn.co/mp3-preview/71d86e04987feee653ae3087aa76e782bced382d?cid=11419dac9f88424c93dd910d7d82a6bc'}, {'id': '2cYqizR4lgvp4Qu6IQ3qGN', 'name': 'BUTTERFLY EFFECT', 'artist': 'Travis Scott', 'album': 'ASTROWORLD', 'genre': 'house', 'popularity': 85, 'cover_image_url': 'https://i.scdn.co/image/ab67616d0000b273072e9faef2ef7b6db63834a3', 'preview_url': 'https://p.scdn.co/mp3-preview/68cba40a7199c972c7a2ad0df063c4d1f5e3dc73?cid=11419dac9f88424c93dd910d7d82a6bc'}, {'id': '6gBFPUFcJLzWGx4lenP6h2', 'name': 'goosebumps', 'artist': 'Travis Scott', 'album': 'Birds In The Trap Sing McKnight', 'genre': 'house', 'popularity': 87, 'cover_image_url': 'https://i.scdn.co/image/ab67616d0000b273f54b99bf27cda88f4a7403ce', 'preview_url': 'https://p.scdn.co/mp3-preview/5c45fee2743d39984ed2c1e2493d04a42d626f81?cid=11419dac9f88424c93dd910d7d82a6bc'}, {'id': '3eekarcy7kvN4yt5ZFzltW', 'name': 'HIGHEST IN THE ROOM', 'artist': 'Travis Scott', 'album': 'HIGHEST IN THE ROOM', 'genre': 'house', 'popularity': 84, 'cover_image_url': 'https://i.scdn.co/image/ab67616d0000b273e42b5fea4ac4c3d6328b622b', 'preview_url': 'https://p.scdn.co/mp3-preview/387b31c31b72f0c16e33d0c78bab869b0a0f4eb3?cid=11419dac9f88424c93dd910d7d82a6bc'}, {'id': '2xLMifQCjDGFmkHkpNLD9h', 'name': 'SICKO MODE', 'artist': 'Travis Scott', 'album': 'ASTROWORLD', 'genre': 'house', 'popularity': 83, 'cover_image_url': 'https://i.scdn.co/image/ab67616d0000b273072e9faef2ef7b6db63834a3', 'preview_url': 'https://p.scdn.co/mp3-preview/8229545ded5cacf393f62b17af653dfc8171fc85?cid=11419dac9f88424c93dd910d7d82a6bc'}, {'id': '3xby7fOyqmeON8jsnom0AT', 'name': 'Nightcrawler (feat. Swae Lee & Chief Keef)', 'artist': 'Travis Scott', 'album': 'Rodeo', 'genre': 'house', 'popularity': 80, 'cover_image_url': 'https://i.scdn.co/image/ab67616d0000b273715973050587fe3c93033aad', 'preview_url': 'https://p.scdn.co/mp3-preview/23540b3a777ceb28824330d1c72897e44e66dd1b?cid=11419dac9f88424c93dd910d7d82a6bc'}], 'Adam Port': [{'id': '1BJJbSX6muJVF2AK7uH1x4', 'name': 'Move', 'artist': 'Adam Port', 'album': 'Move', 'genre': 'house', 'popularity': 90, 'cover_image_url': 'https://i.scdn.co/image/ab67616d0000b27317a013a00d0a33f3dd49974d', 'preview_url': 'https://p.scdn.co/mp3-preview/04f167dc6029b10591d32a723a684e14ef1d4a21?cid=11419dac9f88424c93dd910d7d82a6bc'}], 'Djo': [{'id': '3qhlB30KknSejmIvZZLjOD', 'name': 'End of Beginning', 'artist': 'Djo', 'album': 'DECIDE', 'genre': 'indie', 'popularity': 93, 'cover_image_url': 'https://i.scdn.co/image/ab67616d0000b273fddfffec51b4580acae727c1', 'preview_url': 'https://p.scdn.co/mp3-preview/2f6f0965be46144eca9212258c7a2988376727a1?cid=11419dac9f88424c93dd910d7d82a6bc'}], 'Hozier': [{'id': '0AjmK0Eai4zGrLaJwPvrDp', 'name': 'Too Sweet', 'artist': 'Hozier', 'album': 'Unreal Unearth: Unheard', 'genre': 'indie', 'popularity': 84, 'cover_image_url': 'https://i.scdn.co/image/ab67616d0000b2732e8b4358d044b75807e30bf0', 'preview_url': 'https://p.scdn.co/mp3-preview/e526daac5ec6c4594ab3760cc48cee835379802d?cid=11419dac9f88424c93dd910d7d82a6bc'}, {'id': '4IadxL6BUymXlh8RCJJu7T', 'name': 'Too Sweet', 'artist': 'Hozier', 'album': 'Unheard', 'genre': 'indie', 'popularity': 83, 'cover_image_url': 'https://i.scdn.co/image/ab67616d0000b273a5aab55aa65e5f6bd19564a2', 'preview_url': 'https://p.scdn.co/mp3-preview/e526daac5ec6c4594ab3760cc48cee835379802d?cid=11419dac9f88424c93dd910d7d82a6bc'}, {'id': '1CS7Sd1u5tWkstBhpssyjP', 'name': 'Take Me to Church', 'artist': 'Hozier', 'album': 'Hozier (Expanded Edition)', 'genre': 'indie', 'popularity': 80, 'cover_image_url': 'https://i.scdn.co/image/ab67616d0000b2734ca68d59a4a29c856a4a39c2', 'preview_url': 'https://p.scdn.co/mp3-preview/d6170162e349338277c97d2fab42c386701a4089?cid=11419dac9f88424c93dd910d7d82a6bc'}], 'Mitski': [{'id': '3vkCueOmm7xQDoJ17W1Pm3', 'name': 'My Love Mine All Mine', 'artist': 'Mitski', 'album': 'The Land Is Inhospitable and So Are We', 'genre': 'indie', 'popularity': 89, 'cover_image_url': 'https://i.scdn.co/image/ab67616d0000b27334f21d3047d85440dfa37f10', 'preview_url': 'https://p.scdn.co/mp3-preview/2f90c9a6a2b6e38554d3bc3cf7512c2c70ac67b9?cid=11419dac9f88424c93dd910d7d82a6bc'}], 'TV Girl': [{'id': '6dBUzqjtbnIa1TwYbyw5CM', 'name': 'Lovers Rock', 'artist': 'TV Girl', 'album': 'French Exit', 'genre': 'indie', 'popularity': 87, 'cover_image_url': 'https://i.scdn.co/image/ab67616d0000b273e1bc1af856b42dd7fdba9f84', 'preview_url': 'https://p.scdn.co/mp3-preview/922a42db5aa8f8d335725697b7d7a12af6808f3a?cid=11419dac9f88424c93dd910d7d82a6bc'}, {'id': '3IznIgmXtrUaoPWpQTy5jB', 'name': 'Not Allowed', 'artist': 'TV Girl', 'album': 'Who Really Cares', 'genre': 'indie', 'popularity': 85, 'cover_image_url': 'https://i.scdn.co/image/ab67616d0000b27332f5fec7a879ed6ef28f0dfd', 'preview_url': 'https://p.scdn.co/mp3-preview/b1f61776e5425927fac6f4e79733d9fb8baf20dc?cid=11419dac9f88424c93dd910d7d82a6bc'}, {'id': '6QeYSvYqYUsfBzsApbjDHO', 'name': 'Cigarettes out the Window', 'artist': 'TV Girl', 'album': 'Who Really Cares', 'genre': 'indie', 'popularity': 84, 'cover_image_url': 'https://i.scdn.co/image/ab67616d0000b27332f5fec7a879ed6ef28f0dfd', 'preview_url': 'https://p.scdn.co/mp3-preview/7141e8575ba61267370ea78a9d3d9f82354d6c1a?cid=11419dac9f88424c93dd910d7d82a6bc'}, {'id': '39sDitIeCMrVX2QyXHY46t', 'name': 'Blue Hair', 'artist': 'TV Girl', 'album': 'Death of a Party Girl', 'genre': 'indie', 'popularity': 83, 'cover_image_url': 'https://i.scdn.co/image/ab67616d0000b2731556d166d0ed059b34a00e1b', 'preview_url': 'https://p.scdn.co/mp3-preview/dc170772a9042afcdc1feca9ef12c99f2cbdab0b?cid=11419dac9f88424c93dd910d7d82a6bc'}], 'Hotel Ugly': [{'id': '3hxIUxnT27p5WcmjGUXNwx', 'name': 'Shut up My Moms Calling', 'artist': 'Hotel Ugly', 'album': 'Shut up My Moms Calling', 'genre': 'indie', 'popularity': 87, 'cover_image_url': 'https://i.scdn.co/image/ab67616d0000b273350ab7a839c04bfd5225a9f5', 'preview_url': 'https://p.scdn.co/mp3-preview/7642409265c74b714a2f0f0dd8663c031e253485?cid=11419dac9f88424c93dd910d7d82a6bc'}], 'The Walters': [{'id': '4SqWKzw0CbA05TGszDgMlc', 'name': 'I Love You So', 'artist': 'The Walters', 'album': 'I Love You So', 'genre': 'indie', 'popularity': 88, 'cover_image_url': 'https://i.scdn.co/image/ab67616d0000b2739214ff0109a0e062f8a6cf0f', 'preview_url': 'https://p.scdn.co/mp3-preview/83919b3d62a4ae352229c0a779e8aa0c1b2f4f40?cid=11419dac9f88424c93dd910d7d82a6bc'}], 'Eyedress': [{'id': '1aXV8GrmQLvgoFtBPERP7E', 'name': 'Jealous', 'artist': 'Eyedress', 'album': 'Jealous', 'genre': 'indie', 'popularity': 84, 'cover_image_url': 'https://i.scdn.co/image/ab67616d0000b2734de4da55422167fcc47fba65', 'preview_url': 'https://p.scdn.co/mp3-preview/2a35e333aacb791d90db203c779d1e472c70c45c?cid=11419dac9f88424c93dd910d7d82a6bc'}, {'id': '6RiiSy9GzSwiyDEJDiMuKe', 'name': 'Something About You', 'artist': 'Eyedress', 'album': 'Mulholland Drive', 'genre': 'indie-pop', 'popularity': 82, 'cover_image_url': 'https://i.scdn.co/image/ab67616d0000b27316f48ac1e989d7acc028e9cf', 'preview_url': 'https://p.scdn.co/mp3-preview/e4fce31a7c0073b2eb93a0201f8825ecd94c4d32?cid=11419dac9f88424c93dd910d7d82a6bc'}, {'id': '7s5VQqrjBtrBgZL4pEa46S', 'name': 'Romantic Lover', 'artist': 'Eyedress', 'album': \"Let's Skip to the Wedding\", 'genre': 'indie-pop', 'popularity': 81, 'cover_image_url': 'https://i.scdn.co/image/ab67616d0000b2732a960aa5c84973aa3622f417', 'preview_url': 'https://p.scdn.co/mp3-preview/93cd3a9d81231e445589e271932b9afc46d892db?cid=11419dac9f88424c93dd910d7d82a6bc'}], 'Declan McKenna': [{'id': '4sNG6zQBmtq7M8aeeKJRMQ', 'name': 'Brazil', 'artist': 'Declan McKenna', 'album': 'What Do You Think About the Car?', 'genre': 'indie', 'popularity': 83, 'cover_image_url': 'https://i.scdn.co/image/ab67616d0000b273ec8be21d32e663885fbb244e', 'preview_url': 'https://p.scdn.co/mp3-preview/d92887b6feaaa7e91021f4512f581181d2480dc4?cid=11419dac9f88424c93dd910d7d82a6bc'}], 'Royel Otis': [{'id': '2dono2Koz7DEvGwxUsmMLq', 'name': 'Linger - SiriusXM Session', 'artist': 'Royel Otis', 'album': 'Linger / Heading For The Door (Sirius XM Session)', 'genre': 'indie', 'popularity': 81, 'cover_image_url': 'https://i.scdn.co/image/ab67616d0000b273ccaa2ab01efad107f3952454', 'preview_url': 'https://p.scdn.co/mp3-preview/7503ab938edb2c4db70b341e073c81e1fae952fb?cid=11419dac9f88424c93dd910d7d82a6bc'}], 'Suki Waterhouse': [{'id': '0j3mqDTK4Z6lvrLzFCUUz6', 'name': 'Good Looking', 'artist': 'Suki Waterhouse', 'album': 'Good Looking', 'genre': 'indie-pop', 'popularity': 82, 'cover_image_url': 'https://i.scdn.co/image/ab67616d0000b27343bff43a592efe047d2ab9ff', 'preview_url': 'https://p.scdn.co/mp3-preview/9124e769b391a846bf4f3d7d41da960d4457ba7a?cid=11419dac9f88424c93dd910d7d82a6bc'}], 'Twenty One Pilots': [{'id': '2Z8WuEywRWYTKe1NybPQEW', 'name': 'Ride', 'artist': 'Twenty One Pilots', 'album': 'Blurryface', 'genre': 'indie-pop', 'popularity': 84, 'cover_image_url': 'https://i.scdn.co/image/ab67616d0000b2732df0d98a423025032d0db1f7', 'preview_url': 'https://p.scdn.co/mp3-preview/b571ceecaadc03941bdf4e683ea26e4e6d3f7c17?cid=11419dac9f88424c93dd910d7d82a6bc'}, {'id': '3CRDbSIZ4r5MsZ0YwxuEkn', 'name': 'Stressed Out', 'artist': 'Twenty One Pilots', 'album': 'Blurryface', 'genre': 'indie-pop', 'popularity': 84, 'cover_image_url': 'https://i.scdn.co/image/ab67616d0000b2732df0d98a423025032d0db1f7', 'preview_url': 'https://p.scdn.co/mp3-preview/d01bb6b4b9952d95d2609632474cda8e632e044d?cid=11419dac9f88424c93dd910d7d82a6bc'}, {'id': '6i0V12jOa3mr6uu4WYhUBr', 'name': 'Heathens', 'artist': 'Twenty One Pilots', 'album': 'Heathens', 'genre': 'indie-pop', 'popularity': 83, 'cover_image_url': 'https://i.scdn.co/image/ab67616d0000b2732ca3ba8f334ca5a5f0312efb', 'preview_url': 'https://p.scdn.co/mp3-preview/31b8d72a9480d06d28846b843539b8b5e58696db?cid=11419dac9f88424c93dd910d7d82a6bc'}], 'Men I Trust': [{'id': '75IQVo8hqI1iwVZyvkN2VT', 'name': 'Show Me How', 'artist': 'Men I Trust', 'album': 'Show Me How', 'genre': 'indie-pop', 'popularity': 80, 'cover_image_url': 'https://i.scdn.co/image/ab67616d0000b273f8f2bc4006346cb97bb8b74f', 'preview_url': 'https://p.scdn.co/mp3-preview/8d727eaa09c35915b6b3c5a990bdce5cd14f5efc?cid=11419dac9f88424c93dd910d7d82a6bc'}], 'girl in red': [{'id': '6IPwKM3fUUzlElbvKw2sKl', 'name': 'we fell in love in october', 'artist': 'girl in red', 'album': 'we fell in love in october / October Passed Me By', 'genre': 'indie-pop', 'popularity': 82, 'cover_image_url': 'https://i.scdn.co/image/ab67616d0000b273d6839051c4760457e1a60b2a', 'preview_url': 'https://p.scdn.co/mp3-preview/0415195377d9574c4f552372019421311a34ce55?cid=11419dac9f88424c93dd910d7d82a6bc'}], 'Jimin': [{'id': '7tI8dRuH2Yc6RuoTjxo4dU', 'name': 'Who', 'artist': 'Jimin', 'album': 'MUSE', 'genre': 'k-pop', 'popularity': 93, 'cover_image_url': 'https://i.scdn.co/image/ab67616d0000b273f02c451189a709b9a952aaec', 'preview_url': 'https://p.scdn.co/mp3-preview/02687a01e9ec00f4e947f39e910c7e0c6fa83e10?cid=11419dac9f88424c93dd910d7d82a6bc'}, {'id': '1kPhV0KQui1phEpjnWIqUN', 'name': 'Smeraldo Garden Marching Band (feat. Loco)', 'artist': 'Jimin', 'album': 'Smeraldo Garden Marching Band (feat. Loco)', 'genre': 'k-pop', 'popularity': 90, 'cover_image_url': 'https://i.scdn.co/image/ab67616d0000b27338881a83135ef5b4ace418ba', 'preview_url': 'https://p.scdn.co/mp3-preview/fe27d5f778e8bb29b3d905087f7f08106731549b?cid=11419dac9f88424c93dd910d7d82a6bc'}, {'id': '3Ua0m0YmEjrMi9XErKcNiR', 'name': 'Like Crazy', 'artist': 'Jimin', 'album': 'FACE', 'genre': 'k-pop', 'popularity': 87, 'cover_image_url': 'https://i.scdn.co/image/ab67616d0000b2732b46078245d0120690eb560d', 'preview_url': 'https://p.scdn.co/mp3-preview/2db5f36096963d97afc870c50990d62d27858a43?cid=11419dac9f88424c93dd910d7d82a6bc'}, {'id': '32lSgbCqRcIOyUSnfuUZEQ', 'name': 'Who', 'artist': 'Jimin', 'album': 'MUSE (WANDER ver.)', 'genre': 'k-pop', 'popularity': 84, 'cover_image_url': 'https://i.scdn.co/image/ab67616d0000b27382601539d4a27061ad90eacb', 'preview_url': 'https://p.scdn.co/mp3-preview/02687a01e9ec00f4e947f39e910c7e0c6fa83e10?cid=11419dac9f88424c93dd910d7d82a6bc'}, {'id': '1yqdD2ScjkqvaNBUzPQ4vR', 'name': 'Who', 'artist': 'Jimin', 'album': 'Who (Remixes)', 'genre': 'k-pop', 'popularity': 84, 'cover_image_url': 'https://i.scdn.co/image/ab67616d0000b2737f35adfbec3bb2bc8256802b', 'preview_url': 'https://p.scdn.co/mp3-preview/02687a01e9ec00f4e947f39e910c7e0c6fa83e10?cid=11419dac9f88424c93dd910d7d82a6bc'}, {'id': '5wPnPIZS8wr4lPNLz4qvHK', 'name': 'Who', 'artist': 'Jimin', 'album': 'MUSE (WONDER ver.)', 'genre': 'k-pop', 'popularity': 84, 'cover_image_url': 'https://i.scdn.co/image/ab67616d0000b273f150d9f2e5e8148e5032fd7d', 'preview_url': 'https://p.scdn.co/mp3-preview/02687a01e9ec00f4e947f39e910c7e0c6fa83e10?cid=11419dac9f88424c93dd910d7d82a6bc'}, {'id': '58BWnoFDNaeM0vwA0K3fqb', 'name': 'Like Crazy', 'artist': 'Jimin', 'album': 'Like Crazy (Remixes)', 'genre': 'k-pop', 'popularity': 81, 'cover_image_url': 'https://i.scdn.co/image/ab67616d0000b273f9638e7ed5b7d42e9c514195', 'preview_url': 'https://p.scdn.co/mp3-preview/2db5f36096963d97afc870c50990d62d27858a43?cid=11419dac9f88424c93dd910d7d82a6bc'}, {'id': '3k6q0O9JnO2GhvD6C8fs20', 'name': 'Closer Than This', 'artist': 'Jimin', 'album': 'Closer Than This', 'genre': 'k-pop', 'popularity': 83, 'cover_image_url': 'https://i.scdn.co/image/ab67616d0000b273e3dbc03f538633dbb40adf37', 'preview_url': 'https://p.scdn.co/mp3-preview/ff12ac1c765f63cf54ab1e4a4e6dfa72d958c2de?cid=11419dac9f88424c93dd910d7d82a6bc'}, {'id': '3LWVXp636uLT356Rj08Jaz', 'name': 'Be Mine', 'artist': 'Jimin', 'album': 'MUSE', 'genre': 'k-pop', 'popularity': 81, 'cover_image_url': 'https://i.scdn.co/image/ab67616d0000b273f02c451189a709b9a952aaec', 'preview_url': 'https://p.scdn.co/mp3-preview/78ab86d01bf68d4f86921f1d3e3cb0ed4cf04e50?cid=11419dac9f88424c93dd910d7d82a6bc'}], 'LISA': [{'id': '6vvPecFTmWxDfEJ6cYT1wa', 'name': 'Rockstar', 'artist': 'LISA', 'album': 'Rockstar', 'genre': 'k-pop', 'popularity': 93, 'cover_image_url': 'https://i.scdn.co/image/ab67616d0000b27397265410628ab7f94a380c9d', 'preview_url': 'https://p.scdn.co/mp3-preview/8271bfde6ebd7409a6c42b6731402b1caa4f8a72?cid=11419dac9f88424c93dd910d7d82a6bc'}], 'ILLIT': [{'id': '1aKvZDoLGkNMxoRYgkckZG', 'name': 'Magnetic', 'artist': 'ILLIT', 'album': 'SUPER REAL ME', 'genre': 'k-pop', 'popularity': 88, 'cover_image_url': 'https://i.scdn.co/image/ab67616d0000b273f037c5fb9de6c78726cb8e2c', 'preview_url': 'https://p.scdn.co/mp3-preview/b3e85d7434b5fb072c7110197b3b896d04aa90e7?cid=11419dac9f88424c93dd910d7d82a6bc'}], 'Stray Kids': [{'id': '09keT5ocFhEd5W5HidiUNq', 'name': 'Chk Chk Boom', 'artist': 'Stray Kids', 'album': 'ATE', 'genre': 'k-pop', 'popularity': 86, 'cover_image_url': 'https://i.scdn.co/image/ab67616d0000b27351700837cdbc6adddb88560a', 'preview_url': 'https://p.scdn.co/mp3-preview/54bb9c5e0b747c88d8d629055540c9f43de486c4?cid=11419dac9f88424c93dd910d7d82a6bc'}], 'Jung Kook': [{'id': '2KslE17cAJNHTsI2MI0jb2', 'name': 'Standing Next to You', 'artist': 'Jung Kook', 'album': 'GOLDEN', 'genre': 'k-pop', 'popularity': 90, 'cover_image_url': 'https://i.scdn.co/image/ab67616d0000b273741fd4807f442af3f7359316', 'preview_url': 'https://p.scdn.co/mp3-preview/b1cac49f0f6043eae3a0c0557fe16a9579fbc519?cid=11419dac9f88424c93dd910d7d82a6bc'}, {'id': '2nRMW95dnOILirpjbksLTs', 'name': 'Never Let Go', 'artist': 'Jung Kook', 'album': 'Never Let Go', 'genre': 'k-pop', 'popularity': 88, 'cover_image_url': 'https://i.scdn.co/image/ab67616d0000b273083f5a45d93b57cb65a97b83', 'preview_url': 'https://p.scdn.co/mp3-preview/636c9dd14d54b2d025dbf52babbed94fe90e60c8?cid=11419dac9f88424c93dd910d7d82a6bc'}, {'id': '2HRgqmZQC0MC7GeNuDIXHN', 'name': 'Seven (feat. Latto) (Explicit Ver.)', 'artist': 'Jung Kook', 'album': 'GOLDEN', 'genre': 'k-pop', 'popularity': 86, 'cover_image_url': 'https://i.scdn.co/image/ab67616d0000b273741fd4807f442af3f7359316', 'preview_url': 'https://p.scdn.co/mp3-preview/c6f315711a77fba52139f54587afa7e7d16a1232?cid=11419dac9f88424c93dd910d7d82a6bc'}], 'NewJeans': [{'id': '38tXZcL1gZRfbqfOG0VMTH', 'name': 'How Sweet', 'artist': 'NewJeans', 'album': 'How Sweet', 'genre': 'k-pop', 'popularity': 84, 'cover_image_url': 'https://i.scdn.co/image/ab67616d0000b273b657fbb27b17e7bd4691c2b2', 'preview_url': 'https://p.scdn.co/mp3-preview/690e6951640ac995e47d19dc13ab44e9de9067f2?cid=11419dac9f88424c93dd910d7d82a6bc'}, {'id': '5ocSQW5sIUIOFojwXEz9Ki', 'name': 'Supernatural', 'artist': 'NewJeans', 'album': 'Supernatural', 'genre': 'k-pop', 'popularity': 83, 'cover_image_url': 'https://i.scdn.co/image/ab67616d0000b2737e1eeb0d7cc374a168369c80', 'preview_url': 'https://p.scdn.co/mp3-preview/14baeec77f3463a30c808298ac755edb1b6fff26?cid=11419dac9f88424c93dd910d7d82a6bc'}, {'id': '5sdQOyqq2IDhvmx2lHOpwd', 'name': 'Super Shy', 'artist': 'NewJeans', 'album': \"NewJeans 'Super Shy'\", 'genre': 'k-pop', 'popularity': 81, 'cover_image_url': 'https://i.scdn.co/image/ab67616d0000b2733d98a0ae7c78a3a9babaf8af', 'preview_url': 'https://p.scdn.co/mp3-preview/dab062e2cc708a2680ce84953a3581c5a679a230?cid=11419dac9f88424c93dd910d7d82a6bc'}], 'KISS OF LIFE': [{'id': '4e1aewX6ATPcdfQIqr7gqO', 'name': 'Sticky', 'artist': 'KISS OF LIFE', 'album': 'Sticky', 'genre': 'k-pop', 'popularity': 82, 'cover_image_url': 'https://i.scdn.co/image/ab67616d0000b2734cd7f69b85766b3d3035c27c', 'preview_url': 'https://p.scdn.co/mp3-preview/22524fd964bdcb1a25da7c9b2eeaecf250e3c46f?cid=11419dac9f88424c93dd910d7d82a6bc'}], 'NAYEON': [{'id': '0V2passWyAXnON67kfAj7y', 'name': 'ABCD', 'artist': 'NAYEON', 'album': 'NA', 'genre': 'k-pop', 'popularity': 81, 'cover_image_url': 'https://i.scdn.co/image/ab67616d0000b27373f05e5c2f5ec5cd07c6b6d9', 'preview_url': 'https://p.scdn.co/mp3-preview/685d9ad0377867e5c2417b54f961121e565c67a0?cid=11419dac9f88424c93dd910d7d82a6bc'}], 'LE SSERAFIM': [{'id': '74X2u8JMVooG2QbjRxXwR8', 'name': 'Perfect Night', 'artist': 'LE SSERAFIM', 'album': 'Perfect Night', 'genre': 'k-pop', 'popularity': 81, 'cover_image_url': 'https://i.scdn.co/image/ab67616d0000b2735e352f6eccf8cb96d0b247cc', 'preview_url': 'https://p.scdn.co/mp3-preview/4e84e2dc9edab896f88263c634e88f39a6db61e1?cid=11419dac9f88424c93dd910d7d82a6bc'}, {'id': '2O4Bb2WCkjlTPO827OnBMI', 'name': 'EASY', 'artist': 'LE SSERAFIM', 'album': 'EASY', 'genre': 'k-pop', 'popularity': 80, 'cover_image_url': 'https://i.scdn.co/image/ab67616d0000b273110f5426b8c149e80804912a', 'preview_url': 'https://p.scdn.co/mp3-preview/7e3680a45812af4e7d50e0cb3afc2c97369dcb08?cid=11419dac9f88424c93dd910d7d82a6bc'}], 'TOMORROW X TOGETHER': [{'id': '3aAnwyBJY9OLNLqSgd4fZU', 'name': 'Deja Vu', 'artist': 'TOMORROW X TOGETHER', 'album': 'minisode 3: TOMORROW', 'genre': 'k-pop', 'popularity': 81, 'cover_image_url': 'https://i.scdn.co/image/ab67616d0000b27303c996028737858321d2ffe0', 'preview_url': 'https://p.scdn.co/mp3-preview/2cca480b447f185b5a64c94e6bdf112bc16c7ef4?cid=11419dac9f88424c93dd910d7d82a6bc'}], 'Myke Towers': [{'id': '0LZy30mVmxqUpdQmaXKXBd', 'name': 'ADIVINO', 'artist': 'Myke Towers', 'album': 'ADIVINO', 'genre': 'latin', 'popularity': 89, 'cover_image_url': 'https://i.scdn.co/image/ab67616d0000b273b41f34aa51be675c5cfd3d94', 'preview_url': 'https://p.scdn.co/mp3-preview/9342664668742f1fdf59b7beee2b54dc8fecaada?cid=11419dac9f88424c93dd910d7d82a6bc'}, {'id': '7iUtQNMRB8ZkKC4AmEuCJC', 'name': 'LA FALDA', 'artist': 'Myke Towers', 'album': 'LVEU: VIVE LA TUYA...NO LA MIA', 'genre': 'latin', 'popularity': 87, 'cover_image_url': 'https://i.scdn.co/image/ab67616d0000b273c75c054b6b209b0b91d818d8', 'preview_url': 'https://p.scdn.co/mp3-preview/e198a3f9d177f1981f2952cfbda81560560e6a68?cid=11419dac9f88424c93dd910d7d82a6bc'}, {'id': '7ABLbnD53cQK00mhcaOUVG', 'name': 'LALA', 'artist': 'Myke Towers', 'album': 'LA VIDA ES UNA', 'genre': 'latin', 'popularity': 83, 'cover_image_url': 'https://i.scdn.co/image/ab67616d0000b2730656d5ce813ca3cc4b677e05', 'preview_url': 'https://p.scdn.co/mp3-preview/42772b16b4e575d1b15b0ec7f94e335539390d2d?cid=11419dac9f88424c93dd910d7d82a6bc'}], 'Bad Bunny': [{'id': '7iQXYTyuG13aoeHxGG28Nh', 'name': 'PERRO NEGRO', 'artist': 'Bad Bunny', 'album': 'nadie sabe lo que va a pasar mañana', 'genre': 'latin', 'popularity': 87, 'cover_image_url': 'https://i.scdn.co/image/ab67616d0000b2737b1fc51ff3257b5286a1ecec', 'preview_url': 'https://p.scdn.co/mp3-preview/56ebd640e918ff135fed691da3c5697568e60a77?cid=11419dac9f88424c93dd910d7d82a6bc'}, {'id': '6Sq7ltF9Qa7SNFBsV5Cogx', 'name': 'Me Porto Bonito', 'artist': 'Bad Bunny', 'album': 'Un Verano Sin Ti', 'genre': 'latin', 'popularity': 84, 'cover_image_url': 'https://i.scdn.co/image/ab67616d0000b27349d694203245f241a1bcaa72', 'preview_url': 'https://p.scdn.co/mp3-preview/5c80aedfe75d2bc15aa0e803993c43395d8054fe?cid=11419dac9f88424c93dd910d7d82a6bc'}, {'id': '1IHWl5LamUGEuP4ozKQSXZ', 'name': 'Tití Me Preguntó', 'artist': 'Bad Bunny', 'album': 'Un Verano Sin Ti', 'genre': 'latin', 'popularity': 82, 'cover_image_url': 'https://i.scdn.co/image/ab67616d0000b27349d694203245f241a1bcaa72', 'preview_url': 'https://p.scdn.co/mp3-preview/53a6217761f8fdfcff92189cafbbd1cc21fdb813?cid=11419dac9f88424c93dd910d7d82a6bc'}, {'id': '6Xom58OOXk2SoU711L2IXO', 'name': 'Moscow Mule', 'artist': 'Bad Bunny', 'album': 'Un Verano Sin Ti', 'genre': 'latin', 'popularity': 82, 'cover_image_url': 'https://i.scdn.co/image/ab67616d0000b27349d694203245f241a1bcaa72', 'preview_url': 'https://p.scdn.co/mp3-preview/77b12f38abcff65705166d67b5657f70cd890635?cid=11419dac9f88424c93dd910d7d82a6bc'}, {'id': '3k3NWokhRRkEPhCzPmV8TW', 'name': 'Ojitos Lindos', 'artist': 'Bad Bunny', 'album': 'Un Verano Sin Ti', 'genre': 'latin', 'popularity': 83, 'cover_image_url': 'https://i.scdn.co/image/ab67616d0000b27349d694203245f241a1bcaa72', 'preview_url': 'https://p.scdn.co/mp3-preview/d9e32879becf10d4b28d66b55033bc91803d95f7?cid=11419dac9f88424c93dd910d7d82a6bc'}, {'id': '5Eax0qFko2dh7Rl2lYs3bx', 'name': 'Efecto', 'artist': 'Bad Bunny', 'album': 'Un Verano Sin Ti', 'genre': 'latin', 'popularity': 82, 'cover_image_url': 'https://i.scdn.co/image/ab67616d0000b27349d694203245f241a1bcaa72', 'preview_url': 'https://p.scdn.co/mp3-preview/a622a47c8df98ef72676608511c0b2e1d5d51268?cid=11419dac9f88424c93dd910d7d82a6bc'}, {'id': '4MjDJD8cW7iVeWInc2Bdyj', 'name': 'MONACO', 'artist': 'Bad Bunny', 'album': 'nadie sabe lo que va a pasar mañana', 'genre': 'latin', 'popularity': 81, 'cover_image_url': 'https://i.scdn.co/image/ab67616d0000b2737b1fc51ff3257b5286a1ecec', 'preview_url': 'https://p.scdn.co/mp3-preview/f80c7cc394457fc77cd6668a715b039fd86404f9?cid=11419dac9f88424c93dd910d7d82a6bc'}], 'Blessd': [{'id': '2btNsI4OvcVl7SAHQQDHFB', 'name': 'Mirame', 'artist': 'Blessd', 'album': 'Mirame', 'genre': 'latin', 'popularity': 88, 'cover_image_url': 'https://i.scdn.co/image/ab67616d0000b273b62a2ec2d61d48f34a368144', 'preview_url': 'https://p.scdn.co/mp3-preview/cf9cff03daa5212aa20048d2436e4341e14e1a1a?cid=11419dac9f88424c93dd910d7d82a6bc'}], 'Rvssian': [{'id': '5bi0gh89wRuH2OgjdAKFsb', 'name': 'Santa', 'artist': 'Rvssian', 'album': 'Santa', 'genre': 'latin', 'popularity': 88, 'cover_image_url': 'https://i.scdn.co/image/ab67616d0000b273f02899736a6ff8dd538ae70b', 'preview_url': 'https://p.scdn.co/mp3-preview/0f6ef71a778db3848bb186092bccd8f0290c10a0?cid=11419dac9f88424c93dd910d7d82a6bc'}], 'Manuel Turizo': [{'id': '3tt9i3Hhzq84dPS8H7iSiJ', 'name': 'La Bachata', 'artist': 'Manuel Turizo', 'album': '2000', 'genre': 'latin', 'popularity': 87, 'cover_image_url': 'https://i.scdn.co/image/ab67616d0000b2734dd99565ae6453deab7c26e1', 'preview_url': 'https://p.scdn.co/mp3-preview/0232b53fd7849e6696e1ab3099dd01dd00823f17?cid=11419dac9f88424c93dd910d7d82a6bc'}], 'Rauw Alejandro': [{'id': '2kz1YOhJiNubjigR1gB1VX', 'name': 'DILUVIO', 'artist': 'Rauw Alejandro', 'album': 'PLAYA SATURNO', 'genre': 'latin', 'popularity': 82, 'cover_image_url': 'https://i.scdn.co/image/ab67616d0000b273f79b1ab5cd74db6a2d7c1fda', 'preview_url': 'https://p.scdn.co/mp3-preview/740dfd7578fe9e226de6757a878cca37f4954ff0?cid=11419dac9f88424c93dd910d7d82a6bc'}, {'id': '6mmPpaltUZK7xjNlBPQQ0p', 'name': 'Desesperados', 'artist': 'Rauw Alejandro', 'album': 'VICE VERSA', 'genre': 'latin', 'popularity': 83, 'cover_image_url': 'https://i.scdn.co/image/ab67616d0000b273d9525f27b0a9e25b1fa21230', 'preview_url': 'https://p.scdn.co/mp3-preview/e1c345a2f168b926696f449a7ca7c9e274c65721?cid=11419dac9f88424c93dd910d7d82a6bc'}, {'id': '1aUq8rjW1EwkAkMri4VfJy', 'name': 'LOKERA', 'artist': 'Rauw Alejandro', 'album': 'SATURNO', 'genre': 'latin', 'popularity': 80, 'cover_image_url': 'https://i.scdn.co/image/ab67616d0000b27377ca8a929a08890cb6c8691c', 'preview_url': 'https://p.scdn.co/mp3-preview/813097c99aaf4f5dc8a62011118dc42e5423a9fd?cid=11419dac9f88424c93dd910d7d82a6bc'}, {'id': '1FlL8ycld6uVDDyhV7P5FA', 'name': 'Cúrame', 'artist': 'Rauw Alejandro', 'album': 'VICE VERSA', 'genre': 'latin', 'popularity': 83, 'cover_image_url': 'https://i.scdn.co/image/ab67616d0000b273d9525f27b0a9e25b1fa21230', 'preview_url': 'https://p.scdn.co/mp3-preview/3649d51fb25b7e18974e53a00cfa498622daed01?cid=11419dac9f88424c93dd910d7d82a6bc'}, {'id': '3rdAz1fbUfZxYgaCviYhRo', 'name': 'Todo De Ti', 'artist': 'Rauw Alejandro', 'album': 'VICE VERSA', 'genre': 'latin', 'popularity': 80, 'cover_image_url': 'https://i.scdn.co/image/ab67616d0000b273d9525f27b0a9e25b1fa21230', 'preview_url': 'https://p.scdn.co/mp3-preview/c22200b1d15945f42242d40077ce0da4fc873be1?cid=11419dac9f88424c93dd910d7d82a6bc'}], 'Young Miko': [{'id': '7s4emXHJwAuo5VvGBXmnBL', 'name': 'offline', 'artist': 'Young Miko', 'album': 'att.', 'genre': 'latin', 'popularity': 85, 'cover_image_url': 'https://i.scdn.co/image/ab67616d0000b27310dfb6ef442ace580aa5a2bf', 'preview_url': 'https://p.scdn.co/mp3-preview/b9510ef049d747d0789694f43970e171c16ad260?cid=11419dac9f88424c93dd910d7d82a6bc'}], 'Daddy Yankee': [{'id': '228BxWXUYQPJrJYHDLOHkj', 'name': 'Gasolina', 'artist': 'Daddy Yankee', 'album': 'Barrio Fino (Bonus Track Version)', 'genre': 'latin', 'popularity': 83, 'cover_image_url': 'https://i.scdn.co/image/ab67616d0000b2736bdcdf82ecce36bff808a40c', 'preview_url': 'https://p.scdn.co/mp3-preview/7c545be6847f3a6b13c4ad9c70d10a34f49a92d3?cid=11419dac9f88424c93dd910d7d82a6bc'}], 'Becky G': [{'id': '7FlQk2gJ6TBrHHiidvdR2O', 'name': 'MAMIII', 'artist': 'Becky G', 'album': 'ESQUEMAS', 'genre': 'latin', 'popularity': 81, 'cover_image_url': 'https://i.scdn.co/image/ab67616d0000b273518859dcb13382116f450073', 'preview_url': 'https://p.scdn.co/mp3-preview/0a699c30d354c4cb36439d03522e65b377ac0fd8?cid=11419dac9f88424c93dd910d7d82a6bc'}, {'id': '6VsqdsaY4oV06NODea0L0J', 'name': 'POR EL CONTRARIO (with Angela Aguilar & Leonardo Aguilar)', 'artist': 'Becky G', 'album': 'ESQUINAS', 'genre': 'latin', 'popularity': 81, 'cover_image_url': 'https://i.scdn.co/image/ab67616d0000b273a4c33caede9bd0868ad1f04d', 'preview_url': 'https://p.scdn.co/mp3-preview/91759a3e8597d0b394e2391222376d6e31c24b5b?cid=11419dac9f88424c93dd910d7d82a6bc'}], 'Tainy': [{'id': '46YjJXVXWHlQ21odKktg5e', 'name': 'MOJABI GHOST', 'artist': 'Tainy', 'album': 'DATA', 'genre': 'latin', 'popularity': 81, 'cover_image_url': 'https://i.scdn.co/image/ab67616d0000b273f885fb64a381318a1c9c14e4', 'preview_url': 'https://p.scdn.co/mp3-preview/a6d8180d52b759c3e3db9aa78e841ffc06e26c17?cid=11419dac9f88424c93dd910d7d82a6bc'}], 'Trueno': [{'id': '1pymWRCuZfCd0zdiBJo0Hj', 'name': 'REAL GANGSTA LOVE', 'artist': 'Trueno', 'album': 'EL ÚLTIMO BAILE', 'genre': 'latin', 'popularity': 92, 'cover_image_url': 'https://i.scdn.co/image/ab67616d0000b27368a450f7bcdc187e20f0ba0a', 'preview_url': 'https://p.scdn.co/mp3-preview/2f10aa6bf08d7c4b1a7737c3accb9b738f885c73?cid=11419dac9f88424c93dd910d7d82a6bc'}], 'Maluma': [{'id': '4bw8mcDUSRWfQo63ZTYRnU', 'name': 'Según Quién', 'artist': 'Maluma', 'album': 'Don Juan', 'genre': 'latino', 'popularity': 82, 'cover_image_url': 'https://i.scdn.co/image/ab67616d0000b273d688b951a19f48941682e026', 'preview_url': 'https://p.scdn.co/mp3-preview/b726d4008d57b82d7c72b2585c89677405d0819a?cid=11419dac9f88424c93dd910d7d82a6bc'}, {'id': '6DUdDIRgLqCGq1DwkNWQTN', 'name': 'Borro Cassette', 'artist': 'Maluma', 'album': 'Pretty Boy, Dirty Boy', 'genre': 'latino', 'popularity': 83, 'cover_image_url': 'https://i.scdn.co/image/ab67616d0000b2733c3acd23605ccd1a9fd038bd', 'preview_url': 'https://p.scdn.co/mp3-preview/e39800189ab118cb37bd21c0d3e37b7638a6108d?cid=11419dac9f88424c93dd910d7d82a6bc'}], 'Slipknot': [{'id': '61mWefnWQOLf90gepjOCb3', 'name': 'Duality', 'artist': 'Slipknot', 'album': 'Vol. 3: The Subliminal Verses', 'genre': 'metal', 'popularity': 81, 'cover_image_url': 'https://i.scdn.co/image/ab67616d0000b2736b3463e7160d333ada4b175a', 'preview_url': 'https://p.scdn.co/mp3-preview/c46be58f34877ead8678a37da8f19f2b838b0409?cid=11419dac9f88424c93dd910d7d82a6bc'}], 'Billy Joel': [{'id': '5zA8vzDGqPl2AzZkEYQGKh', 'name': 'Uptown Girl', 'artist': 'Billy Joel', 'album': 'An Innocent Man', 'genre': 'piano', 'popularity': 85, 'cover_image_url': 'https://i.scdn.co/image/ab67616d0000b273814cbc4746358a25c84c62e7', 'preview_url': 'https://p.scdn.co/mp3-preview/62bccc2f61bb990df31d1a247a3bf69efd32da18?cid=11419dac9f88424c93dd910d7d82a6bc'}, {'id': '4U45aEWtQhrm8A5mxPaFZ7', 'name': 'Vienna', 'artist': 'Billy Joel', 'album': 'The Stranger (Legacy Edition)', 'genre': 'piano', 'popularity': 83, 'cover_image_url': 'https://i.scdn.co/image/ab67616d0000b2736ce61113662ecf693b605ee5', 'preview_url': 'https://p.scdn.co/mp3-preview/20063b69f912e042929de74af0b77271ec3376c5?cid=11419dac9f88424c93dd910d7d82a6bc'}], 'The Fray': [{'id': '5fVZC9GiM4e8vu99W0Xf6J', 'name': 'How to Save a Life', 'artist': 'The Fray', 'album': 'How To Save A Life', 'genre': 'piano', 'popularity': 81, 'cover_image_url': 'https://i.scdn.co/image/ab67616d0000b27359b8b957f164ce660919f1f4', 'preview_url': 'https://p.scdn.co/mp3-preview/30d90238cdd10ea0a938ddc8ec122dabb87ac035?cid=11419dac9f88424c93dd910d7d82a6bc'}], 'Kate Bush': [{'id': '1PtQJZVZIdWIYdARpZRDFO', 'name': 'Running Up That Hill (A Deal With God)', 'artist': 'Kate Bush', 'album': 'Hounds Of Love', 'genre': 'piano', 'popularity': 81, 'cover_image_url': 'https://i.scdn.co/image/ab67616d0000b273ad08f4b38efbff0c0da0f252', 'preview_url': 'https://p.scdn.co/mp3-preview/861d26b52ece3e3ad72a7dc3463daece3478801a?cid=11419dac9f88424c93dd910d7d82a6bc'}], 'Shaboozey': [{'id': '2FQrifJ1N335Ljm3TjTVVf', 'name': 'A Bar Song (Tipsy)', 'artist': 'Shaboozey', 'album': 'A Bar Song (Tipsy)', 'genre': 'pop', 'popularity': 93, 'cover_image_url': 'https://i.scdn.co/image/ab67616d0000b27380d86d636244b72a3a1eede2', 'preview_url': 'https://p.scdn.co/mp3-preview/59f68f3e96233e3c352659053dd48039790cd965?cid=11419dac9f88424c93dd910d7d82a6bc'}, {'id': '5fZJQrFKWQLb7FpJXZ1g7K', 'name': 'A Bar Song (Tipsy)', 'artist': 'Shaboozey', 'album': \"Where I've Been, Isn't Where I'm Going\", 'genre': 'pop', 'popularity': 88, 'cover_image_url': 'https://i.scdn.co/image/ab67616d0000b27360df033c8f8b17384387666a', 'preview_url': 'https://p.scdn.co/mp3-preview/0c6b7caa5c2962837d1122d45d8b9fe70bec29c0?cid=11419dac9f88424c93dd910d7d82a6bc'}], 'Myles Smith': [{'id': '3Vr3zh0r7ALn8VLqCiRR10', 'name': 'Stargazing', 'artist': 'Myles Smith', 'album': 'Stargazing', 'genre': 'pop', 'popularity': 93, 'cover_image_url': 'https://i.scdn.co/image/ab67616d0000b27381b12e1a0584e8ea7ba2ae4a', 'preview_url': 'https://p.scdn.co/mp3-preview/e645f231787fd914d1cc263644dd7839a2260ef7?cid=11419dac9f88424c93dd910d7d82a6bc'}], 'Benson Boone': [{'id': '51eSHglvG1RJXtL3qI5trr', 'name': 'Slow It Down', 'artist': 'Benson Boone', 'album': 'Fireworks & Rollerblades', 'genre': 'pop', 'popularity': 90, 'cover_image_url': 'https://i.scdn.co/image/ab67616d0000b273cc04ff3e70e146ba9abacf40', 'preview_url': 'https://p.scdn.co/mp3-preview/7ed92ba5dc69c703af94b4973bb7eecb3fa3cce1?cid=11419dac9f88424c93dd910d7d82a6bc'}, {'id': '3xkHsmpQCBMytMJNiDf3Ii', 'name': 'Beautiful Things', 'artist': 'Benson Boone', 'album': 'Fireworks & Rollerblades', 'genre': 'pop', 'popularity': 91, 'cover_image_url': 'https://i.scdn.co/image/ab67616d0000b273cc04ff3e70e146ba9abacf40', 'preview_url': 'https://p.scdn.co/mp3-preview/e213f23e6fe5938299eebbe364d06c1682a6619f?cid=11419dac9f88424c93dd910d7d82a6bc'}, {'id': '6tNQ70jh4OwmPGpYy6R2o9', 'name': 'Beautiful Things', 'artist': 'Benson Boone', 'album': 'Beautiful Things', 'genre': 'pop', 'popularity': 91, 'cover_image_url': 'https://i.scdn.co/image/ab67616d0000b273bef221ea02a821e7feeda9cf', 'preview_url': 'https://p.scdn.co/mp3-preview/e213f23e6fe5938299eebbe364d06c1682a6619f?cid=11419dac9f88424c93dd910d7d82a6bc'}, {'id': '3h76tbaYIamSeJL81X7ZwI', 'name': 'Cry', 'artist': 'Benson Boone', 'album': 'Fireworks & Rollerblades', 'genre': 'singer-songwriter', 'popularity': 81, 'cover_image_url': 'https://i.scdn.co/image/ab67616d0000b273cc04ff3e70e146ba9abacf40', 'preview_url': 'https://p.scdn.co/mp3-preview/ed7381b9b0d3655cf4f8b2a72e74a61548e3107e?cid=11419dac9f88424c93dd910d7d82a6bc'}, {'id': '315aBOUD3xtj7sUMXtRgMV', 'name': 'In The Stars', 'artist': 'Benson Boone', 'album': 'Fireworks & Rollerblades', 'genre': 'singer-songwriter', 'popularity': 82, 'cover_image_url': 'https://i.scdn.co/image/ab67616d0000b273cc04ff3e70e146ba9abacf40', 'preview_url': 'https://p.scdn.co/mp3-preview/6e29e6750dcda8159aea83561faf2161a0acacb2?cid=11419dac9f88424c93dd910d7d82a6bc'}], 'SZA': [{'id': '1bjeWoagtHmUKputLVyDxQ', 'name': 'Saturn', 'artist': 'SZA', 'album': 'Saturn', 'genre': 'pop', 'popularity': 89, 'cover_image_url': 'https://i.scdn.co/image/ab67616d0000b273d70916ee9e40c90380ba5f07', 'preview_url': 'https://p.scdn.co/mp3-preview/74f603e906ab7a5409cf2edc6dda326ebe7c1d49?cid=11419dac9f88424c93dd910d7d82a6bc'}, {'id': '4iZ4pt7kvcaH6Yo8UoZ4s2', 'name': 'Snooze', 'artist': 'SZA', 'album': 'SOS', 'genre': 'pop', 'popularity': 88, 'cover_image_url': 'https://i.scdn.co/image/ab67616d0000b27370dbc9f47669d120ad874ec1', 'preview_url': 'https://p.scdn.co/mp3-preview/8c53920b5fd2c3178afa36cac9eec68b5ee9204a?cid=11419dac9f88424c93dd910d7d82a6bc'}], 'Charli xcx': [{'id': '4w2GLmK2wnioVnb5CPQeex', 'name': '360', 'artist': 'Charli xcx', 'album': 'BRAT', 'genre': 'pop', 'popularity': 88, 'cover_image_url': 'https://i.scdn.co/image/ab67616d0000b27388e3822cccfb8f2832c70c2e', 'preview_url': 'https://p.scdn.co/mp3-preview/34231118fa980913824d4ccf78be931e999f69f1?cid=11419dac9f88424c93dd910d7d82a6bc'}, {'id': '19RybK6XDbAVpcdxSbZL1o', 'name': 'Apple', 'artist': 'Charli xcx', 'album': 'BRAT', 'genre': 'pop', 'popularity': 85, 'cover_image_url': 'https://i.scdn.co/image/ab67616d0000b27388e3822cccfb8f2832c70c2e', 'preview_url': 'https://p.scdn.co/mp3-preview/907d06abc995f4c427feb5f9e94dccb731903a0d?cid=11419dac9f88424c93dd910d7d82a6bc'}], 'Harry Styles': [{'id': '4Dvkj6JhhA12EX05fT7y2e', 'name': 'As It Was', 'artist': 'Harry Styles', 'album': \"Harry's House\", 'genre': 'pop', 'popularity': 92, 'cover_image_url': 'https://i.scdn.co/image/ab67616d0000b2732e8ed79e177ff6011076f5f0', 'preview_url': 'https://p.scdn.co/mp3-preview/c43dd07043b29e800c1a65b3a0102861fa3cf418?cid=11419dac9f88424c93dd910d7d82a6bc'}], 'Mark Ambor': [{'id': '5uQ7de4EWjb3rkcFxyEOpu', 'name': 'Belong Together', 'artist': 'Mark Ambor', 'album': 'Belong Together', 'genre': 'pop', 'popularity': 92, 'cover_image_url': 'https://i.scdn.co/image/ab67616d0000b273ed71b8008aaa879622f8c3b5', 'preview_url': 'https://p.scdn.co/mp3-preview/94cf6a4e7df256464aa0a91ee048c901185a8964?cid=11419dac9f88424c93dd910d7d82a6bc'}], 'Tate McRae': [{'id': '3rUGC1vUpkDG9CZFHMur1t', 'name': 'greedy', 'artist': 'Tate McRae', 'album': 'greedy', 'genre': 'pop', 'popularity': 89, 'cover_image_url': 'https://i.scdn.co/image/ab67616d0000b27322fd802bc61db666c7c81aa8', 'preview_url': 'https://p.scdn.co/mp3-preview/ca7bdcb691fb64a5af8a3253b89356390664fcf1?cid=11419dac9f88424c93dd910d7d82a6bc'}], 'The Outfield': [{'id': '0WoFs3EdGOx58yX5BtXvOa', 'name': 'Your Love', 'artist': 'The Outfield', 'album': 'Play Deep', 'genre': 'power-pop', 'popularity': 82, 'cover_image_url': 'https://i.scdn.co/image/ab67616d0000b273cd7e670a91d0263d2ee1d8a7', 'preview_url': 'https://p.scdn.co/mp3-preview/bff1bf9d33dfeec5c01501b023a6c59a44af2be4?cid=11419dac9f88424c93dd910d7d82a6bc'}], 'Green Day': [{'id': '1Dr1fXbc2IxaK1Mu8P8Khz', 'name': 'When I Come Around', 'artist': 'Green Day', 'album': 'Dookie', 'genre': 'punk', 'popularity': 81, 'cover_image_url': 'https://i.scdn.co/image/ab67616d0000b273db89b08034de626ebee6823d', 'preview_url': 'https://p.scdn.co/mp3-preview/ce95ec4b7666e7efe290782e449bd96ba8f7a4e5?cid=11419dac9f88424c93dd910d7d82a6bc'}, {'id': '6L89mwZXSOwYl76YXfX13s', 'name': 'Basket Case', 'artist': 'Green Day', 'album': 'Dookie', 'genre': 'punk', 'popularity': 81, 'cover_image_url': 'https://i.scdn.co/image/ab67616d0000b273db89b08034de626ebee6823d', 'preview_url': 'https://p.scdn.co/mp3-preview/f055a866d726bac8593f15953d772c631505df7e?cid=11419dac9f88424c93dd910d7d82a6bc'}], 'Surf Curse': [{'id': '7EkWXAI1wn8Ii883ecd9xr', 'name': 'Freaks', 'artist': 'Surf Curse', 'album': 'Freaks', 'genre': 'punk', 'popularity': 83, 'cover_image_url': 'https://i.scdn.co/image/ab67616d0000b2739efda673310de265a2c1cf1f', 'preview_url': 'https://p.scdn.co/mp3-preview/039505c3b40b4478ec45ccb64fed211487887dd0?cid=11419dac9f88424c93dd910d7d82a6bc'}], 'The Clash': [{'id': '39shmbIHICJ2Wxnk1fPSdz', 'name': 'Should I Stay or Should I Go - Remastered', 'artist': 'The Clash', 'album': 'Combat Rock (Remastered)', 'genre': 'punk', 'popularity': 82, 'cover_image_url': 'https://i.scdn.co/image/ab67616d0000b27325a4df452a3c42ccc2e9288b', 'preview_url': 'https://p.scdn.co/mp3-preview/30dfcd239fdb4a9ee277ff3a214a4f6771bd8cb3?cid=11419dac9f88424c93dd910d7d82a6bc'}], 'The Smiths': [{'id': '0WQiDwKJclirSYG9v5tayI', 'name': 'There Is a Light That Never Goes Out - 2011 Remaster', 'artist': 'The Smiths', 'album': 'The Queen Is Dead', 'genre': 'punk', 'popularity': 81, 'cover_image_url': 'https://i.scdn.co/image/ab67616d0000b273ada101c2e9e97feb8fae37a9', 'preview_url': 'https://p.scdn.co/mp3-preview/23f6c629d7072e1adbe90b0a155b1110b2f94714?cid=11419dac9f88424c93dd910d7d82a6bc'}], 'Joan Jett & the Blackhearts': [{'id': '2Cdvbe2G4hZsnhNMKyGrie', 'name': \"I Love Rock 'N Roll\", 'artist': 'Joan Jett & the Blackhearts', 'album': \"I Love Rock 'N' Roll (Expanded Edition)\", 'genre': 'punk', 'popularity': 80, 'cover_image_url': 'https://i.scdn.co/image/ab67616d0000b2733c73b2e0a6aa490736f19751', 'preview_url': 'https://p.scdn.co/mp3-preview/931dee7b6bcc7c60edc631ff1892e363a47fe222?cid=11419dac9f88424c93dd910d7d82a6bc'}], 'Sleepy Hallow': [{'id': '4XvcHTUfIlWfyJTRG0aqlo', 'name': '2055', 'artist': 'Sleepy Hallow', 'album': 'Still Sleep?', 'genre': 'r-n-b', 'popularity': 82, 'cover_image_url': 'https://i.scdn.co/image/ab67616d0000b27378376f650afd63698b82e4b1', 'preview_url': 'https://p.scdn.co/mp3-preview/d05766a84b267bc5518625b595b8c9f333b46e31?cid=11419dac9f88424c93dd910d7d82a6bc'}], 'Alicia Keys': [{'id': '3XVBdLihbNbxUwZosxcGuJ', 'name': \"If I Ain't Got You\", 'artist': 'Alicia Keys', 'album': 'The Diary Of Alicia Keys', 'genre': 'r-n-b', 'popularity': 83, 'cover_image_url': 'https://i.scdn.co/image/ab67616d0000b27356ff19308ebeb48e2ba6094b', 'preview_url': 'https://p.scdn.co/mp3-preview/2d1fd54c4a4147b43e1eb79c00380e36818a2546?cid=11419dac9f88424c93dd910d7d82a6bc'}], 'FloyyMenor': [{'id': '6XjDF6nds4DE2BBbagZol6', 'name': 'Gata Only', 'artist': 'FloyyMenor', 'album': 'Gata Only', 'genre': 'reggae', 'popularity': 96, 'cover_image_url': 'https://i.scdn.co/image/ab67616d0000b273c4583f3ad76630879a75450a', 'preview_url': 'https://p.scdn.co/mp3-preview/12ae7f061a9da14a7c1e6a3e21de68365697efe8?cid=11419dac9f88424c93dd910d7d82a6bc'}, {'id': '4yyCGGdTVaYG17vhsrUPoL', 'name': 'APAGA EL CEL', 'artist': 'FloyyMenor', 'album': 'APAGA EL CEL', 'genre': 'reggae', 'popularity': 87, 'cover_image_url': 'https://i.scdn.co/image/ab67616d0000b273c44bb461e0efd6a5b88e2dec', 'preview_url': 'https://p.scdn.co/mp3-preview/9b4df5d6e095927a0736cfc456885746165a00c0?cid=11419dac9f88424c93dd910d7d82a6bc'}], 'Yng Lvcas': [{'id': '2UW7JaomAMuX9pZrjVpHAU', 'name': 'La Bebe - Remix', 'artist': 'Yng Lvcas', 'album': 'La Bebe (Remix)', 'genre': 'reggae', 'popularity': 84, 'cover_image_url': 'https://i.scdn.co/image/ab67616d0000b273a04be3ad7c8c67f4109111a9', 'preview_url': 'https://p.scdn.co/mp3-preview/57c5d5266219b32d455ed22417155bbabde7170f?cid=11419dac9f88424c93dd910d7d82a6bc'}], 'MAGIC!': [{'id': '6RtPijgfPKROxEzTHNRiDp', 'name': 'Rude', 'artist': 'MAGIC!', 'album': \"Don't Kill the Magic\", 'genre': 'reggae', 'popularity': 83, 'cover_image_url': 'https://i.scdn.co/image/ab67616d0000b273604f8ac39f15d287e251f193', 'preview_url': 'https://p.scdn.co/mp3-preview/7cdc54190cf06e5269d8406c5a7bba71a7e04cf1?cid=11419dac9f88424c93dd910d7d82a6bc'}], 'Daryl Hall & John Oates': [{'id': '0qRR9d89hIS0MHRkQ0ejxX', 'name': 'Rich Girl', 'artist': 'Daryl Hall & John Oates', 'album': 'Bigger Than Both Of Us', 'genre': 'rock', 'popularity': 84, 'cover_image_url': 'https://i.scdn.co/image/ab67616d0000b2733ebc5b9d8942069d3b920550', 'preview_url': 'https://p.scdn.co/mp3-preview/246e1cdfbc760791fa34b2ac697259b6c3598009?cid=11419dac9f88424c93dd910d7d82a6bc'}], 'Fleetwood Mac': [{'id': '0ofHAoxe9vBkTCp2UQIavz', 'name': 'Dreams - 2004 Remaster', 'artist': 'Fleetwood Mac', 'album': 'Rumours (Super Deluxe)', 'genre': 'rock', 'popularity': 86, 'cover_image_url': 'https://i.scdn.co/image/ab67616d0000b273e52a59a28efa4773dd2bfe1b', 'preview_url': 'https://p.scdn.co/mp3-preview/30d63954de3ee9c0bc3600a4560260cb252d4fbd?cid=11419dac9f88424c93dd910d7d82a6bc'}], 'Luis R Conriquez': [{'id': '1C84d9abZVKWHT2YYpoean', 'name': 'Si No Quieres No', 'artist': 'Luis R Conriquez', 'album': 'Si No Quieres No', 'genre': 'sad', 'popularity': 89, 'cover_image_url': 'https://i.scdn.co/image/ab67616d0000b2735c7365ca8cfaf7d80136c656', 'preview_url': 'https://p.scdn.co/mp3-preview/d7d61eec7c0ac31c5019a40c1e6169f2c0776386?cid=11419dac9f88424c93dd910d7d82a6bc'}, {'id': '4U20gQcVcjzY12xhLsXwXy', 'name': 'GTA', 'artist': 'Luis R Conriquez', 'album': 'Corridos Bélicos, Vol. IV (Versión Deluxe)', 'genre': 'sad', 'popularity': 81, 'cover_image_url': 'https://i.scdn.co/image/ab67616d0000b2733db3ceab0dc5df8c9376c4cd', 'preview_url': 'https://p.scdn.co/mp3-preview/b85c99adb82f33e50fdc2631f9efd66998b9c9bd?cid=11419dac9f88424c93dd910d7d82a6bc'}], 'Fuerza Regida': [{'id': '3FqUPvubYeRCMsdJ02QyZR', 'name': 'TÚ NAME', 'artist': 'Fuerza Regida', 'album': 'Dolido Pero No Arrepentido', 'genre': 'sad', 'popularity': 85, 'cover_image_url': 'https://i.scdn.co/image/ab67616d0000b273abc2d11a541fa61795691697', 'preview_url': 'https://p.scdn.co/mp3-preview/f90fcef8fe627f6c5c335fa4b246d3e62b98a158?cid=11419dac9f88424c93dd910d7d82a6bc'}, {'id': '6CvTEtGagmzQvkUzzyKR9k', 'name': 'HARLEY QUINN', 'artist': 'Fuerza Regida', 'album': \"Pa las Baby's Y Belikeada\", 'genre': 'sad', 'popularity': 81, 'cover_image_url': 'https://i.scdn.co/image/ab67616d0000b273ad57982065339f7dc2058efe', 'preview_url': 'https://p.scdn.co/mp3-preview/2845f30873601167f8970f2d64f53cda26441b7a?cid=11419dac9f88424c93dd910d7d82a6bc'}, {'id': '0lbDzTINTToToBpkrnQT2t', 'name': 'UNA CERVEZA', 'artist': 'Fuerza Regida', 'album': \"Pa las Baby's Y Belikeada\", 'genre': 'sad', 'popularity': 82, 'cover_image_url': 'https://i.scdn.co/image/ab67616d0000b273ad57982065339f7dc2058efe', 'preview_url': 'https://p.scdn.co/mp3-preview/8b6c575f2df84e60ba8fabb144ae213d412f8f05?cid=11419dac9f88424c93dd910d7d82a6bc'}, {'id': '4zfQER4owi8q6NL8Gg63Ya', 'name': 'CRAZYZ', 'artist': 'Fuerza Regida', 'album': \"Pa las Baby's Y Belikeada\", 'genre': 'sad', 'popularity': 80, 'cover_image_url': 'https://i.scdn.co/image/ab67616d0000b273ad57982065339f7dc2058efe', 'preview_url': 'https://p.scdn.co/mp3-preview/42551b39c7acd318fcb450bf6189cc1b803f16b4?cid=11419dac9f88424c93dd910d7d82a6bc'}], 'Xavi': [{'id': '0R6NfOiLzLj4O5VbYSJAjf', 'name': 'La Diabla', 'artist': 'Xavi', 'album': 'La Diabla', 'genre': 'sad', 'popularity': 85, 'cover_image_url': 'https://i.scdn.co/image/ab67616d0000b2731501c770de50a22b25d67611', 'preview_url': 'https://p.scdn.co/mp3-preview/f3eeae4ae180d55cd3c83c4e4c1d657b46aa107e?cid=11419dac9f88424c93dd910d7d82a6bc'}, {'id': '0dEAiKNbHt4mrjjoiL0loc', 'name': 'Corazón de Piedra', 'artist': 'Xavi', 'album': 'Corazón de Piedra', 'genre': 'sad', 'popularity': 83, 'cover_image_url': 'https://i.scdn.co/image/ab67616d0000b273572e681dcdb302d7625b08c7', 'preview_url': 'https://p.scdn.co/mp3-preview/8aa2222f713ff238c57e720eeadfe697d0b2df97?cid=11419dac9f88424c93dd910d7d82a6bc'}, {'id': '5XVdHRf4CAJ2Jm0uMIy5qY', 'name': 'La Víctima', 'artist': 'Xavi', 'album': 'La Víctima', 'genre': 'sad', 'popularity': 82, 'cover_image_url': 'https://i.scdn.co/image/ab67616d0000b2730e8dc9720dd03d86627fa54b', 'preview_url': 'https://p.scdn.co/mp3-preview/9e30f31b8bbd2d11c42bf193403103ddabecb16f?cid=11419dac9f88424c93dd910d7d82a6bc'}], 'Peso Pluma': [{'id': '2aYZaN5SmkRDLsrrV8GkBQ', 'name': 'LA PATRULLA', 'artist': 'Peso Pluma', 'album': 'ÉXODO', 'genre': 'sad', 'popularity': 85, 'cover_image_url': 'https://i.scdn.co/image/ab67616d0000b2732690127e1d6cd0aa35cc353b', 'preview_url': 'https://p.scdn.co/mp3-preview/3a490b1336290577f0bf5a3b5a68f73e70b17e68?cid=11419dac9f88424c93dd910d7d82a6bc'}, {'id': '7mXuWTczZNxG5EDcjFEuJR', 'name': 'LADY GAGA', 'artist': 'Peso Pluma', 'album': 'GÉNESIS', 'genre': 'sad', 'popularity': 82, 'cover_image_url': 'https://i.scdn.co/image/ab67616d0000b2732fb583ed96f8f35cbf2897ba', 'preview_url': 'https://p.scdn.co/mp3-preview/ec439edcef8f1b71e88cfeb7d200db274901123b?cid=11419dac9f88424c93dd910d7d82a6bc'}, {'id': '2DXK0YNGSqnaIEX5iaSIoK', 'name': 'RELOJ', 'artist': 'Peso Pluma', 'album': 'ÉXODO', 'genre': 'sad', 'popularity': 80, 'cover_image_url': 'https://i.scdn.co/image/ab67616d0000b2732690127e1d6cd0aa35cc353b', 'preview_url': 'https://p.scdn.co/mp3-preview/f11451c051ee1403012b7a2fb8f938605eb28fbc?cid=11419dac9f88424c93dd910d7d82a6bc'}, {'id': '5UHK1rtK4MpBGb0KppIYh4', 'name': 'VINO TINTO', 'artist': 'Peso Pluma', 'album': 'ÉXODO', 'genre': 'sad', 'popularity': 83, 'cover_image_url': 'https://i.scdn.co/image/ab67616d0000b2732690127e1d6cd0aa35cc353b', 'preview_url': 'https://p.scdn.co/mp3-preview/71b03d38259e689176809244952de1fee5cefee0?cid=11419dac9f88424c93dd910d7d82a6bc'}, {'id': '5GTBdEjZe7zEDp1N0eCZE4', 'name': 'HOLLYWOOD', 'artist': 'Peso Pluma', 'album': 'ÉXODO', 'genre': 'sad', 'popularity': 80, 'cover_image_url': 'https://i.scdn.co/image/ab67616d0000b2732690127e1d6cd0aa35cc353b', 'preview_url': 'https://p.scdn.co/mp3-preview/705963b281ed4bb188b3034da800c2d3df05441c?cid=11419dac9f88424c93dd910d7d82a6bc'}, {'id': '02cRoSfWU3RJNFyU3o4lhV', 'name': 'SANTAL 33', 'artist': 'Peso Pluma', 'album': 'ÉXODO', 'genre': 'sad', 'popularity': 81, 'cover_image_url': 'https://i.scdn.co/image/ab67616d0000b2732690127e1d6cd0aa35cc353b', 'preview_url': 'https://p.scdn.co/mp3-preview/3748ab0fb543363b6476f872593cc4cb8a754b89?cid=11419dac9f88424c93dd910d7d82a6bc'}], 'Calle 24': [{'id': '6uIIdjYTxxpWOyWuVXrKQO', 'name': 'Que Onda', 'artist': 'Calle 24', 'album': 'Que Onda', 'genre': 'sad', 'popularity': 85, 'cover_image_url': 'https://i.scdn.co/image/ab67616d0000b273c8fd4190e32eed2dfcd00f66', 'preview_url': 'https://p.scdn.co/mp3-preview/84bedddb9d7ae9cc58aad446d435c9eea28bdabb?cid=11419dac9f88424c93dd910d7d82a6bc'}], 'Junior H': [{'id': '6RcAHyC5sAUIbPTkhOQwd8', 'name': 'Y LLORO', 'artist': 'Junior H', 'album': '$AD BOYZ 4 LIFE II', 'genre': 'sad', 'popularity': 84, 'cover_image_url': 'https://i.scdn.co/image/ab67616d0000b273f3ba6742a35f111aaea1ca2f', 'preview_url': 'https://p.scdn.co/mp3-preview/f82787d084854523e602d1239f44f04ced392dc5?cid=11419dac9f88424c93dd910d7d82a6bc'}, {'id': '1haJsMtoBhHfvuM7XWuT3W', 'name': 'El Azul', 'artist': 'Junior H', 'album': 'El Azul', 'genre': 'sad', 'popularity': 80, 'cover_image_url': 'https://i.scdn.co/image/ab67616d0000b27333ed356efed99b158c4267c6', 'preview_url': 'https://p.scdn.co/mp3-preview/f9df136c3a2d3c0c5424e2c4b75a303f35c08af5?cid=11419dac9f88424c93dd910d7d82a6bc'}, {'id': '6YOfGIE6iFxC7G8OlGGvzW', 'name': 'ROCKSTAR', 'artist': 'Junior H', 'album': '$AD BOYZ 4 LIFE II', 'genre': 'sad', 'popularity': 82, 'cover_image_url': 'https://i.scdn.co/image/ab67616d0000b273f3ba6742a35f111aaea1ca2f', 'preview_url': 'https://p.scdn.co/mp3-preview/284a4dab9087dd520dbd2bc2c2bb5d849a2b32ec?cid=11419dac9f88424c93dd910d7d82a6bc'}], 'Natanael Cano': [{'id': '5LhI8m7n8xlQmNe3b7Rwis', 'name': 'Madonna', 'artist': 'Natanael Cano', 'album': 'Madonna', 'genre': 'sad', 'popularity': 86, 'cover_image_url': 'https://i.scdn.co/image/ab67616d0000b273fcd2820c9b859adc64a64b88', 'preview_url': 'https://p.scdn.co/mp3-preview/1f5da933d7ad8458956721a548e4cb3f565a377e?cid=11419dac9f88424c93dd910d7d82a6bc'}], 'Carin Leon': [{'id': '3fJHbMUnzceimOnNjp63fF', 'name': 'Primera Cita', 'artist': 'Carin Leon', 'album': 'Colmillo De Leche', 'genre': 'sad', 'popularity': 85, 'cover_image_url': 'https://i.scdn.co/image/ab67616d0000b273daf12ebec7ae15f8322e1e5e', 'preview_url': 'https://p.scdn.co/mp3-preview/e6ef5f00a6f3d99326cdeecd71289ff7fe06cbd6?cid=11419dac9f88424c93dd910d7d82a6bc'}], 'Powfu': [{'id': '7eJMfftS33KTjuF7lTsMCx', 'name': 'death bed (coffee for your head)', 'artist': 'Powfu', 'album': 'death bed (coffee for your head)', 'genre': 'sad', 'popularity': 80, 'cover_image_url': 'https://i.scdn.co/image/ab67616d0000b273bf01fd0986a195d485922167', 'preview_url': 'https://p.scdn.co/mp3-preview/e88548073883ae36ba42ee5f1d1096568e417737?cid=11419dac9f88424c93dd910d7d82a6bc'}], 'Murilo Huff': [{'id': '2ORC76autQ7QTfBCkZl4Wo', 'name': 'Dedo do Meio - Ao Vivo', 'artist': 'Murilo Huff', 'album': 'Fortaleza, Vol.2 (Ao Vivo)', 'genre': 'sertanejo', 'popularity': 81, 'cover_image_url': 'https://i.scdn.co/image/ab67616d0000b273e16b9a0cfbb3d7259ed01b27', 'preview_url': 'https://p.scdn.co/mp3-preview/86034c509ae86293ee5f9ca62e2ebe2926fb9968?cid=11419dac9f88424c93dd910d7d82a6bc'}, {'id': '6mTpK40yIRk1xGGNvRMHGg', 'name': 'Me Caiu Tão Bem - Ao Vivo', 'artist': 'Murilo Huff', 'album': 'Fortaleza, Vol.3 (Ao Vivo)', 'genre': 'sertanejo', 'popularity': 81, 'cover_image_url': 'https://i.scdn.co/image/ab67616d0000b273c61b4691d0ba09631399ffd3', 'preview_url': 'https://p.scdn.co/mp3-preview/7d2a03b0ccbeb54b08b8fe99bd82fd059d9da238?cid=11419dac9f88424c93dd910d7d82a6bc'}], 'Luan Santana': [{'id': '0HDMisLsuGNml98Xq7atpm', 'name': 'EU SOU SENTIMENTO', 'artist': 'Luan Santana', 'album': 'EU SOU SENTIMENTO', 'genre': 'sertanejo', 'popularity': 85, 'cover_image_url': 'https://i.scdn.co/image/ab67616d0000b27382344e9572ebd4236160c6fb', 'preview_url': 'https://p.scdn.co/mp3-preview/064db235addc50049f0f70f4af67ba03427c059b?cid=11419dac9f88424c93dd910d7d82a6bc'}], 'Gusttavo Lima': [{'id': '5QpcLTQjh0qO7OIuR9q8IR', 'name': 'Morar Nesse Motel', 'artist': 'Gusttavo Lima', 'album': 'Morar Nesse Motel', 'genre': 'sertanejo', 'popularity': 82, 'cover_image_url': 'https://i.scdn.co/image/ab67616d0000b273f2932c56e1854b1714c06385', 'preview_url': 'https://p.scdn.co/mp3-preview/d390a8c1d12205577d76425971da6d1bacc7946f?cid=11419dac9f88424c93dd910d7d82a6bc'}], 'Bruno & Marrone': [{'id': '4dSDTAZ7ohybHBonbtMBpP', 'name': 'Desilusão (MTG) (feat. Loirin Prod)', 'artist': 'Bruno & Marrone', 'album': 'Desilusão (MTG) (feat. Loirin Prod)', 'genre': 'sertanejo', 'popularity': 80, 'cover_image_url': 'https://i.scdn.co/image/ab67616d0000b2737f584c9540425ed1da045301', 'preview_url': 'https://p.scdn.co/mp3-preview/8d660f2c495dbafee907ef02487a1e7ffebe5a4c?cid=11419dac9f88424c93dd910d7d82a6bc'}], 'Jorge & Mateus': [{'id': '6X6jKoyw1OjogRghMEQAZV', 'name': 'Haverá Sinais - Ao Vivo', 'artist': 'Jorge & Mateus', 'album': 'Haverá Sinais (Ao Vivo)', 'genre': 'sertanejo', 'popularity': 81, 'cover_image_url': 'https://i.scdn.co/image/ab67616d0000b273e2cc124172480f276562e107', 'preview_url': 'https://p.scdn.co/mp3-preview/5106dca17c80b1074dd241366359d3908316e03e?cid=11419dac9f88424c93dd910d7d82a6bc'}], 'Ana Castela': [{'id': '1CpneInvFvGYcDVU4CCDgI', 'name': 'Minha Herança', 'artist': 'Ana Castela', 'album': 'Minha Herança', 'genre': 'sertanejo', 'popularity': 80, 'cover_image_url': 'https://i.scdn.co/image/ab67616d0000b273ae22073ef15960984011e2ee', 'preview_url': 'https://p.scdn.co/mp3-preview/4efdeba4df71bb89bbc2d2f2ef936c1d7bf30366?cid=11419dac9f88424c93dd910d7d82a6bc'}], 'Zé Neto & Cristiano': [{'id': '3w392XWJ5bXzjcCR2Dmvqn', 'name': 'Foi Intenso - Ao Vivo', 'artist': 'Zé Neto & Cristiano', 'album': 'Foi Intenso (Ao Vivo)', 'genre': 'sertanejo', 'popularity': 81, 'cover_image_url': 'https://i.scdn.co/image/ab67616d0000b273c890e9882380b8375f76bb3f', 'preview_url': 'https://p.scdn.co/mp3-preview/cae3976ec7a366f6888b5174ac1325fa28347c89?cid=11419dac9f88424c93dd910d7d82a6bc'}, {'id': '0WiJIa3V9GdcJfcy1FhLjp', 'name': 'Deu Moral - Ao Vivo', 'artist': 'Zé Neto & Cristiano', 'album': 'Deu Moral (Ao Vivo)', 'genre': 'sertanejo', 'popularity': 80, 'cover_image_url': 'https://i.scdn.co/image/ab67616d0000b273dbe38a923b0c390385bdf7d1', 'preview_url': 'https://p.scdn.co/mp3-preview/56636e06194fada81367728b5b8607f2b712453c?cid=11419dac9f88424c93dd910d7d82a6bc'}], 'Hugo & Guilherme': [{'id': '1WHDOr19zyyqu6XXIvdgfX', 'name': 'Morena De Goiânia - Ao Vivo', 'artist': 'Hugo & Guilherme', 'album': '062 (Ao Vivo)', 'genre': 'sertanejo', 'popularity': 80, 'cover_image_url': 'https://i.scdn.co/image/ab67616d0000b27378b03b7534ce5a81046d36da', 'preview_url': 'https://p.scdn.co/mp3-preview/0e4f24cc23b05d26645ca9455afec0fe76493741?cid=11419dac9f88424c93dd910d7d82a6bc'}], 'Jessie Murph': [{'id': '2kE2HFBFkJ0VMw3igxYohz', 'name': 'Wild Ones (feat. Jelly Roll)', 'artist': 'Jessie Murph', 'album': 'Wild Ones (feat. Jelly Roll)', 'genre': 'singer-songwriter', 'popularity': 80, 'cover_image_url': 'https://i.scdn.co/image/ab67616d0000b27314408503d0bb34c929cdc2b3', 'preview_url': 'https://p.scdn.co/mp3-preview/93045a94131f03cc0bf1d80c66437ab68fbf999b?cid=11419dac9f88424c93dd910d7d82a6bc'}], 'Nicky Youre': [{'id': '5YqEzk3C5c3UZ1D5fJUlXA', 'name': 'Sunroof', 'artist': 'Nicky Youre', 'album': 'Good Times Go', 'genre': 'singer-songwriter', 'popularity': 85, 'cover_image_url': 'https://i.scdn.co/image/ab67616d0000b273ecd970d1d2623b6c7fc6080c', 'preview_url': 'https://p.scdn.co/mp3-preview/605058558fd8d10c420b56c41555e567645d5b60?cid=11419dac9f88424c93dd910d7d82a6bc'}], 'Laufey': [{'id': '43iIQbw5hx986dUEZbr3eN', 'name': 'From The Start', 'artist': 'Laufey', 'album': 'Bewitched', 'genre': 'singer-songwriter', 'popularity': 82, 'cover_image_url': 'https://i.scdn.co/image/ab67616d0000b27374c732f8aa0e0ccbb3d17d96', 'preview_url': 'https://p.scdn.co/mp3-preview/3cdcd256d89b8634adc47aebbcf6db256e3b9978?cid=11419dac9f88424c93dd910d7d82a6bc'}], 'Chance Peña': [{'id': '5uu2OCGGrTRS1sIvlMgKwe', 'name': 'i am not who i was', 'artist': 'Chance Peña', 'album': 'i am not who i was', 'genre': 'singer-songwriter', 'popularity': 83, 'cover_image_url': 'https://i.scdn.co/image/ab67616d0000b2733ec34bc4e860b8021272a75d', 'preview_url': 'https://p.scdn.co/mp3-preview/0ba79c75f2fafd3adf68c37de0a85032fb7bb4c1?cid=11419dac9f88424c93dd910d7d82a6bc'}], 'Alex Warren': [{'id': '4uzKAj0mIyYmyhsRRyPXaQ', 'name': 'Carry You Home', 'artist': 'Alex Warren', 'album': 'Carry You Home', 'genre': 'singer-songwriter', 'popularity': 84, 'cover_image_url': 'https://i.scdn.co/image/ab67616d0000b27305efa6dce38504deb91fe687', 'preview_url': 'https://p.scdn.co/mp3-preview/0ddc85926cefdf9d30195b5d20d5432ef4b1bb7c?cid=11419dac9f88424c93dd910d7d82a6bc'}], 'Bruce Springsteen': [{'id': '7FwBtcecmlpc1sLySPXeGE', 'name': 'Dancing In the Dark', 'artist': 'Bruce Springsteen', 'album': 'Born In The U.S.A.', 'genre': 'singer-songwriter', 'popularity': 84, 'cover_image_url': 'https://i.scdn.co/image/ab67616d0000b273a7865e686c36a4adda6c9978', 'preview_url': 'https://p.scdn.co/mp3-preview/f98a1f3b07ca22d6ccda4a2e360981d1b0bfcbbc?cid=11419dac9f88424c93dd910d7d82a6bc'}], 'Ed Sheeran': [{'id': '50nfwKoDiSYg8zOCREWAm5', 'name': 'Shivers', 'artist': 'Ed Sheeran', 'album': '=', 'genre': 'singer-songwriter', 'popularity': 83, 'cover_image_url': 'https://i.scdn.co/image/ab67616d0000b273ef24c3fdbf856340d55cfeb2', 'preview_url': 'https://p.scdn.co/mp3-preview/08cec59d36ac30ae9ce1e2944f206251859844af?cid=11419dac9f88424c93dd910d7d82a6bc'}], 'Jungle': [{'id': '19kHhX6f6EfLU7rcO3RqjO', 'name': 'Back On 74', 'artist': 'Jungle', 'album': 'Volcano', 'genre': 'soul', 'popularity': 84, 'cover_image_url': 'https://i.scdn.co/image/ab67616d0000b27377619f14cb03e11baf5761d1', 'preview_url': 'https://p.scdn.co/mp3-preview/917c42936efd732652eafa945def1d1fcab3b8e2?cid=11419dac9f88424c93dd910d7d82a6bc'}], 'Mark Ronson': [{'id': '6kopmMZiyLmw7h66uXcXR7', 'name': 'Valerie (feat. Amy Winehouse) - Version Revisited', 'artist': 'Mark Ronson', 'album': 'Version', 'genre': 'soul', 'popularity': 82, 'cover_image_url': 'https://i.scdn.co/image/ab67616d0000b2736a5beb0500ad6e3b0f7aea22', 'preview_url': 'https://p.scdn.co/mp3-preview/7c1f773fee487c3fdc15fd8b0ee6a3a388b341d3?cid=11419dac9f88424c93dd910d7d82a6bc'}, {'id': '32OlwWuMpZ6b0aN2RZOeMS', 'name': 'Uptown Funk (feat. Bruno Mars)', 'artist': 'Mark Ronson', 'album': 'Uptown Special', 'genre': 'soul', 'popularity': 83, 'cover_image_url': 'https://i.scdn.co/image/ab67616d0000b273e419ccba0baa8bd3f3d7abf2', 'preview_url': 'https://p.scdn.co/mp3-preview/3074e956e6794c0eadea660b9cef671db6b27234?cid=11419dac9f88424c93dd910d7d82a6bc'}], 'John Legend': [{'id': '3U4isOIWM3VvDubwSI3y7a', 'name': 'All of Me', 'artist': 'John Legend', 'album': 'Love In The Future (Expanded Edition)', 'genre': 'soul', 'popularity': 83, 'cover_image_url': 'https://i.scdn.co/image/ab67616d0000b27394c9217a398f5174757c0c78', 'preview_url': 'https://p.scdn.co/mp3-preview/29f542e5e8b4b6bb7e4e71a52bc3ff35b6b962ad?cid=11419dac9f88424c93dd910d7d82a6bc'}], \"Rag'n'Bone Man\": [{'id': '58zsLZPvfflaiIbNWoA22O', 'name': 'Human', 'artist': \"Rag'n'Bone Man\", 'album': 'Human (Deluxe)', 'genre': 'soul', 'popularity': 80, 'cover_image_url': 'https://i.scdn.co/image/ab67616d0000b27390a788beadaad34ff684d3ec', 'preview_url': 'https://p.scdn.co/mp3-preview/8c1cad46231be436ff9e13a71f52df2135398850?cid=11419dac9f88424c93dd910d7d82a6bc'}], 'Marc Seguí': [{'id': '4OwhwvKESFtuu06dTgct7i', 'name': 'Tiroteo - Remix', 'artist': 'Marc Seguí', 'album': 'Tiroteo (Remix)', 'genre': 'spanish', 'popularity': 81, 'cover_image_url': 'https://i.scdn.co/image/ab67616d0000b2735a048cbaa3385de9f723c699', 'preview_url': 'https://p.scdn.co/mp3-preview/93a840b4b0234a66c1f5e578abb758c44b1dda04?cid=11419dac9f88424c93dd910d7d82a6bc'}], 'Rels B': [{'id': '75qepWUT3FEyPyXQMMMVZm', 'name': 'Un Desperdicio', 'artist': 'Rels B', 'album': 'a new star (1 9 9 3)', 'genre': 'spanish', 'popularity': 80, 'cover_image_url': 'https://i.scdn.co/image/ab67616d0000b2736a78a042e38096089d60841a', 'preview_url': 'https://p.scdn.co/mp3-preview/f8db7d054b3baf7184be3ca0d49607d62f457277?cid=11419dac9f88424c93dd910d7d82a6bc'}, {'id': '7MmrcXVA7A5zZ2CbDuGHNa', 'name': 'A Mí', 'artist': 'Rels B', 'album': 'A Mí', 'genre': 'spanish', 'popularity': 81, 'cover_image_url': 'https://i.scdn.co/image/ab67616d0000b273e75742385df2e0a026001e0d', 'preview_url': 'https://p.scdn.co/mp3-preview/a693a14deefdf915f11e35275ab2048541af8b5f?cid=11419dac9f88424c93dd910d7d82a6bc'}], 'a-ha': [{'id': '2WfaOiMkCvy7F5fcp2zZ8L', 'name': 'Take on Me', 'artist': 'a-ha', 'album': 'Hunting High and Low', 'genre': 'synth-pop', 'popularity': 88, 'cover_image_url': 'https://i.scdn.co/image/ab67616d0000b273e8dd4db47e7177c63b0b7d53', 'preview_url': 'https://p.scdn.co/mp3-preview/ed66a8c444c35b2f5029c04ae8e18f69d952c2bb?cid=11419dac9f88424c93dd910d7d82a6bc'}], 'Eurythmics': [{'id': '1TfqLAPs4K3s2rJMoCokcS', 'name': 'Sweet Dreams (Are Made of This) - Remastered', 'artist': 'Eurythmics', 'album': 'Sweet Dreams (Are Made Of This)', 'genre': 'synth-pop', 'popularity': 85, 'cover_image_url': 'https://i.scdn.co/image/ab67616d0000b273b3994c94dfb241923664bb4d', 'preview_url': 'https://p.scdn.co/mp3-preview/d69101dbd66295473706112d3edf978b70fc4550?cid=11419dac9f88424c93dd910d7d82a6bc'}], 'Starship': [{'id': '3X7uFMzJrEE0sxn62qd8Ch', 'name': \"Nothing's Gonna Stop Us Now\", 'artist': 'Starship', 'album': 'No Protection', 'genre': 'synth-pop', 'popularity': 80, 'cover_image_url': 'https://i.scdn.co/image/ab67616d0000b273377198e5b790b5ebf137bd83', 'preview_url': 'https://p.scdn.co/mp3-preview/a17faa3145693e235f6eaddd17debde84dd503eb?cid=11419dac9f88424c93dd910d7d82a6bc'}], 'Bronski Beat': [{'id': '5vmRQ3zELMLUQPo2FLQ76x', 'name': 'Smalltown Boy', 'artist': 'Bronski Beat', 'album': 'The Age of Consent', 'genre': 'synth-pop', 'popularity': 81, 'cover_image_url': 'https://i.scdn.co/image/ab67616d0000b2736affdd29d6ee84a298746ef7', 'preview_url': 'https://p.scdn.co/mp3-preview/38dc3cec253fb45d57c7f1972aa196eb00d83ee3?cid=11419dac9f88424c93dd910d7d82a6bc'}], 'Alphaville': [{'id': '4S1VYqwfkLit9mKVY3MXoo', 'name': 'Forever Young', 'artist': 'Alphaville', 'album': 'Forever Young', 'genre': 'synth-pop', 'popularity': 82, 'cover_image_url': 'https://i.scdn.co/image/ab67616d0000b273b9c4979446c4d39bc08e9503', 'preview_url': 'https://p.scdn.co/mp3-preview/715c3b3b956d769f21ce4e43ede766fce7cd31fe?cid=11419dac9f88424c93dd910d7d82a6bc'}]}\n",
      "Song ID 2M9ro2krNb7nr7HSprkEgo not found in Pinecone index\n",
      "No embeddings found for artist Tracy Chapman\n",
      "Song ID 4IadxL6BUymXlh8RCJJu7T not found in Pinecone index\n",
      "Song ID 32lSgbCqRcIOyUSnfuUZEQ not found in Pinecone index\n",
      "Song ID 1yqdD2ScjkqvaNBUzPQ4vR not found in Pinecone index\n",
      "Song ID 5wPnPIZS8wr4lPNLz4qvHK not found in Pinecone index\n",
      "Song ID 58BWnoFDNaeM0vwA0K3fqb not found in Pinecone index\n",
      "Song ID 5fZJQrFKWQLb7FpJXZ1g7K not found in Pinecone index\n",
      "Song ID 6tNQ70jh4OwmPGpYy6R2o9 not found in Pinecone index\n",
      "Song ID 3h76tbaYIamSeJL81X7ZwI not found in Pinecone index\n",
      "PCA and K-means clustering completed successfully.\n"
     ]
    }
   ],
   "source": [
    "import json\n",
    "import numpy as np\n",
    "from sklearn.decomposition import PCA\n",
    "from sklearn.cluster import KMeans\n",
    "import os\n",
    "from dotenv import load_dotenv\n",
    "import pinecone\n",
    "\n",
    "# Load environment variables\n",
    "load_dotenv()\n",
    "\n",
    "# Initialize Pinecone\n",
    "pc = pinecone.Pinecone(\n",
    "    api_key=os.getenv('PINECONE_API_KEY'),\n",
    "    environment=os.getenv('PINECONE_ENVIRONMENT')\n",
    ")\n",
    "\n",
    "# Connect to the Pinecone index\n",
    "index = pc.Index('ast-song-embeddings')\n",
    "\n",
    "# Load artist metadata\n",
    "with open('./metadata/artist_metadata.json') as f:\n",
    "    artist_metadata = json.load(f)\n",
    "\n",
    "print(artist_metadata)\n",
    "# Function to fetch embeddings from Pinecone based on song IDs\n",
    "def fetch_embeddings_by_ids(index, song_ids):\n",
    "    embeddings = {}\n",
    "    batch_size = 100  # Adjust batch size as needed\n",
    "    for i in range(0, len(song_ids), batch_size):\n",
    "        batch_ids = song_ids[i:i + batch_size]\n",
    "        response = index.fetch(ids=batch_ids)\n",
    "        for song_id, vector_data in response['vectors'].items():\n",
    "            embeddings[song_id] = vector_data['values']\n",
    "    return embeddings\n",
    "\n",
    "# Get all song IDs from the artist metadata\n",
    "all_song_ids = [song['id'] for songs in artist_metadata.values() for song in songs]\n",
    "\n",
    "# Fetch embeddings for all song IDs\n",
    "song_embeddings_dict = fetch_embeddings_by_ids(index, all_song_ids)\n",
    "\n",
    "# Debugging: Print some IDs to verify\n",
    "#print(\"Fetched song IDs from Pinecone index:\", list(song_embeddings_dict.keys())[:10])\n",
    "\n",
    "# Calculate average embeddings for each artist\n",
    "artist_embeddings = {}\n",
    "for artist, songs in artist_metadata.items():\n",
    "    embeddings = []\n",
    "    for song in songs:\n",
    "        song_id = song['id']\n",
    "        if song_id in song_embeddings_dict:\n",
    "            embeddings.append(song_embeddings_dict[song_id])\n",
    "        else:\n",
    "            print(f\"Song ID {song_id} not found in Pinecone index\")\n",
    "    if embeddings:\n",
    "        artist_embeddings[artist] = np.mean(embeddings, axis=0)\n",
    "    else:\n",
    "        print(f\"No embeddings found for artist {artist}\")\n",
    "\n",
    "# Convert artist embeddings to a list of tuples (artist, embedding)\n",
    "artist_embeddings_list = [(artist, embedding) for artist, embedding in artist_embeddings.items()]\n",
    "\n",
    "# Check if the list is not empty\n",
    "if not artist_embeddings_list:\n",
    "    raise ValueError(\"No artist embeddings found.\")\n",
    "\n",
    "# Separate artist names and embeddings\n",
    "artist_names, embeddings = zip(*artist_embeddings_list)\n",
    "embeddings = np.array(embeddings)\n",
    "\n",
    "# edit artist metadata here\n",
    "\n",
    "\n",
    "# Perform PCA\n",
    "pca = PCA(n_components=2)\n",
    "artist_reduced_embeddings = pca.fit_transform(embeddings)\n",
    "\n",
    "# Perform K-means clustering\n",
    "n_clusters = max(1, len(artist_names) // 10)  # Ensure at least 1 cluster\n",
    "kmeans = KMeans(n_clusters=n_clusters, init=\"k-means++\", n_init=4, random_state=42)\n",
    "artist_cluster_labels = kmeans.fit_predict(artist_reduced_embeddings)\n",
    "\n",
    "# If everything works fine, print success message\n",
    "print(\"PCA and K-means clustering completed successfully.\")"
   ]
  },
  {
   "cell_type": "code",
   "execution_count": 23,
   "metadata": {},
   "outputs": [
    {
     "data": {
      "application/vnd.plotly.v1+json": {
       "config": {
        "plotlyServerURL": "https://plot.ly"
       },
       "data": [
        {
         "fill": "toself",
         "fillcolor": "#f68e4e",
         "line": {
          "color": "rgba(0,0,0,0)"
         },
         "mode": "lines",
         "type": "scatter",
         "x": [
          -2.173136539417417,
          -1.3051332543223066,
          -1.4903577405447654,
          -3.6941861503683833,
          -4.311878189668765
         ],
         "y": [
          0.6160185117615511,
          1.9949798687793714,
          2.6600164801760733,
          2.1143911788329177,
          0.09969176393048579
         ]
        },
        {
         "fill": "toself",
         "fillcolor": "#50da3f",
         "line": {
          "color": "rgba(0,0,0,0)"
         },
         "mode": "lines",
         "type": "scatter",
         "x": [
          4.2983067441732095,
          22.308323337763813,
          20.282755072178066,
          2.293198642210105,
          2.009626514973739,
          2.0858874825512554
         ],
         "y": [
          -1.592167203959623,
          -3.393804733494104,
          2.701982015916267,
          0.7063731007642342,
          -0.030574149875568613,
          -0.3097260897972431
         ]
        },
        {
         "fill": "toself",
         "fillcolor": "#91a565",
         "line": {
          "color": "rgba(0,0,0,0)"
         },
         "mode": "lines",
         "type": "scatter",
         "x": [
          -0.6131540278792293,
          -0.7667910066167121,
          0.02327078728590304,
          0.9072103024975866,
          1.5566176715773785,
          0.9817345984834043,
          0.758541156551812
         ],
         "y": [
          -1.9635784574433535,
          -2.578027137175692,
          -4.058589412076621,
          -4.036852133595076,
          -2.46420657543376,
          -1.33200757720948,
          -1.2478742477651035
         ]
        },
        {
         "fill": "toself",
         "fillcolor": "#6768a3",
         "line": {
          "color": "rgba(0,0,0,0)"
         },
         "mode": "lines",
         "type": "scatter",
         "x": [
          -1.114586573671769,
          -2.173136539417417,
          -1.3051332543223066,
          -0.7274950490861778,
          -0.6807459993789673
         ],
         "y": [
          -0.45778457583134324,
          0.6160185117615511,
          1.9949798687793714,
          1.571813174588121,
          -0.21558993706440732
         ]
        },
        {
         "fill": "toself",
         "fillcolor": "#f6455a",
         "line": {
          "color": "rgba(0,0,0,0)"
         },
         "mode": "lines",
         "type": "scatter",
         "x": [
          -16.70759438249251,
          -4.944584564554619,
          -2.4482328582685677,
          -2.806468767970064,
          -4.6339688963972785,
          -22.053858298520176
         ],
         "y": [
          -21.89928770367606,
          -8.142900259570947,
          -2.418216048392693,
          -1.4833420966481106,
          -0.23703751875998927,
          -5.151714385761744
         ]
        },
        {
         "fill": "toself",
         "fillcolor": "#4bb266",
         "line": {
          "color": "rgba(0,0,0,0)"
         },
         "mode": "lines",
         "type": "scatter",
         "x": [
          0.43717093510707894,
          0.9494030172343502,
          1.972550499699119,
          14.724513306358162,
          3.2464070578025486
         ],
         "y": [
          9.637720731145787,
          1.6929183829953143,
          1.5329248416602876,
          14.37792542814608,
          27.51829085338123
         ]
        },
        {
         "fill": "toself",
         "fillcolor": "#6eb743",
         "line": {
          "color": "rgba(0,0,0,0)"
         },
         "mode": "lines",
         "type": "scatter",
         "x": [
          -22.053858298520176,
          -4.6339688963972785,
          -4.311878189668765,
          -3.6941861503683833,
          -11.61560596014788
         ],
         "y": [
          -5.151714385761744,
          -0.23703751875998927,
          0.09969176393048579,
          2.1143911788329177,
          18.388840591530997
         ]
        },
        {
         "fill": "toself",
         "fillcolor": "#40c69f",
         "line": {
          "color": "rgba(0,0,0,0)"
         },
         "mode": "lines",
         "type": "scatter",
         "x": [
          15.227610547372855,
          22.308323337763813,
          4.2983067441732095,
          1.5566176715773785,
          0.9072103024975866
         ],
         "y": [
          -15.106302540720641,
          -3.393804733494104,
          -1.592167203959623,
          -2.46420657543376,
          -4.036852133595076
         ]
        },
        {
         "fill": "toself",
         "fillcolor": "#c94c6f",
         "line": {
          "color": "rgba(0,0,0,0)"
         },
         "mode": "lines",
         "type": "scatter",
         "x": [
          -0.6807459993789673,
          -0.7274950490861778,
          0.56192923829865,
          0.6428846162025283,
          0.15052832851455022
         ],
         "y": [
          -0.21558993706440732,
          1.571813174588121,
          1.322024833465255,
          0.5109228137204354,
          -0.2124276135862131
         ]
        },
        {
         "fill": "toself",
         "fillcolor": "#8af945",
         "line": {
          "color": "rgba(0,0,0,0)"
         },
         "mode": "lines",
         "type": "scatter",
         "x": [
          1.972550499699119,
          2.293198642210105,
          2.009626514973739,
          0.6428846162025283,
          0.56192923829865,
          0.9494030172343502
         ],
         "y": [
          1.5329248416602876,
          0.7063731007642342,
          -0.030574149875568613,
          0.5109228137204354,
          1.322024833465255,
          1.6929183829953143
         ]
        },
        {
         "fill": "toself",
         "fillcolor": "#6c92d3",
         "line": {
          "color": "rgba(0,0,0,0)"
         },
         "mode": "lines",
         "type": "scatter",
         "x": [
          -1.2127832575127058,
          -2.806468767970064,
          -4.6339688963972785,
          -4.311878189668765,
          -2.173136539417417,
          -1.114586573671769
         ],
         "y": [
          -0.7500870438227378,
          -1.4833420966481106,
          -0.23703751875998927,
          0.09969176393048579,
          0.6160185117615511,
          -0.45778457583134324
         ]
        },
        {
         "fill": "toself",
         "fillcolor": "#fc74f6",
         "line": {
          "color": "rgba(0,0,0,0)"
         },
         "mode": "lines",
         "type": "scatter",
         "x": [
          0.9817345984834043,
          2.0858874825512554,
          4.2983067441732095,
          1.5566176715773785
         ],
         "y": [
          -1.33200757720948,
          -0.3097260897972431,
          -1.592167203959623,
          -2.46420657543376
         ]
        },
        {
         "fill": "toself",
         "fillcolor": "#c3e156",
         "line": {
          "color": "rgba(0,0,0,0)"
         },
         "mode": "lines",
         "type": "scatter",
         "x": [
          -3.6941861503683833,
          -1.4903577405447654,
          0.43717093510707894,
          3.2464070578025486,
          -11.61560596014788
         ],
         "y": [
          2.1143911788329177,
          2.6600164801760733,
          9.637720731145787,
          27.51829085338123,
          18.388840591530997
         ]
        },
        {
         "fill": "toself",
         "fillcolor": "#63f27f",
         "line": {
          "color": "rgba(0,0,0,0)"
         },
         "mode": "lines",
         "type": "scatter",
         "x": [
          -1.2127832575127058,
          -0.6131540278792293,
          0.758541156551812,
          0.15052832851455022,
          -0.6807459993789673,
          -1.114586573671769
         ],
         "y": [
          -0.7500870438227378,
          -1.9635784574433535,
          -1.2478742477651035,
          -0.2124276135862131,
          -0.21558993706440732,
          -0.45778457583134324
         ]
        },
        {
         "fill": "toself",
         "fillcolor": "#81de8a",
         "line": {
          "color": "rgba(0,0,0,0)"
         },
         "mode": "lines",
         "type": "scatter",
         "x": [
          -16.70759438249251,
          15.227610547372855,
          0.9072103024975866,
          0.02327078728590304,
          -4.944584564554619
         ],
         "y": [
          -21.89928770367606,
          -15.106302540720641,
          -4.036852133595076,
          -4.058589412076621,
          -8.142900259570947
         ]
        },
        {
         "fill": "toself",
         "fillcolor": "#6ec2d2",
         "line": {
          "color": "rgba(0,0,0,0)"
         },
         "mode": "lines",
         "type": "scatter",
         "x": [
          1.972550499699119,
          2.293198642210105,
          20.282755072178066,
          14.724513306358162
         ],
         "y": [
          1.5329248416602876,
          0.7063731007642342,
          2.701982015916267,
          14.37792542814608
         ]
        },
        {
         "fill": "toself",
         "fillcolor": "#57464c",
         "line": {
          "color": "rgba(0,0,0,0)"
         },
         "mode": "lines",
         "type": "scatter",
         "x": [
          0.43717093510707894,
          -1.4903577405447654,
          -1.3051332543223066,
          -0.7274950490861778,
          0.56192923829865,
          0.9494030172343502
         ],
         "y": [
          9.637720731145787,
          2.6600164801760733,
          1.9949798687793714,
          1.571813174588121,
          1.322024833465255,
          1.6929183829953143
         ]
        },
        {
         "fill": "toself",
         "fillcolor": "#4a9f57",
         "line": {
          "color": "rgba(0,0,0,0)"
         },
         "mode": "lines",
         "type": "scatter",
         "x": [
          -1.2127832575127058,
          -2.806468767970064,
          -2.4482328582685677,
          -0.7667910066167121,
          -0.6131540278792293
         ],
         "y": [
          -0.7500870438227378,
          -1.4833420966481106,
          -2.418216048392693,
          -2.578027137175692,
          -1.9635784574433535
         ]
        },
        {
         "fill": "toself",
         "fillcolor": "#6e54d7",
         "line": {
          "color": "rgba(0,0,0,0)"
         },
         "mode": "lines",
         "type": "scatter",
         "x": [
          -0.7667910066167121,
          -2.4482328582685677,
          -4.944584564554619,
          0.02327078728590304
         ],
         "y": [
          -2.578027137175692,
          -2.418216048392693,
          -8.142900259570947,
          -4.058589412076621
         ]
        },
        {
         "fill": "toself",
         "fillcolor": "#fc4a6e",
         "line": {
          "color": "rgba(0,0,0,0)"
         },
         "mode": "lines",
         "type": "scatter",
         "x": [
          0.758541156551812,
          0.9817345984834043,
          2.0858874825512554,
          2.009626514973739,
          0.6428846162025283,
          0.15052832851455022
         ],
         "y": [
          -1.2478742477651035,
          -1.33200757720948,
          -0.3097260897972431,
          -0.030574149875568613,
          0.5109228137204354,
          -0.2124276135862131
         ]
        },
        {
         "marker": {
          "color": "white",
          "size": 10,
          "symbol": "x"
         },
         "mode": "markers",
         "name": "Centroids",
         "type": "scatter",
         "x": [
          -2.6310670605840305,
          2.9442868884145033,
          0.35176140434568887,
          -1.1574752584141643,
          -3.5816664665333358,
          1.7426813752022803,
          -4.906185734366456,
          2.6092311695306956,
          -0.24705443747995737,
          1.4938929239375556,
          -2.166905628099456,
          2.04006739835979,
          -3.0298726319643148,
          -0.24071669414864527,
          0.44358234319539047,
          2.825088903223177,
          0.07397177269917657,
          -1.567527472512838,
          -1.7181186250073819,
          1.069899760796506
         ],
         "y": [
          1.5228253082918832,
          0.23472860942668827,
          -2.182447742770201,
          0.5952557874614756,
          -2.47434931324189,
          2.3838147299513013,
          2.2203599791534927,
          -3.1146460333373325,
          0.6190676002164524,
          0.7928300223574499,
          -0.3998358597866924,
          -1.3251969064030606,
          3.1336359617572604,
          -1.0469236762694705,
          -5.916317014491234,
          1.3092472010488767,
          2.276226579019526,
          -1.7025480308960521,
          -3.286982929757396,
          -0.2773315109761897
         ]
        },
        {
         "hoverinfo": "text",
         "marker": {
          "color": "black",
          "size": 5
         },
         "mode": "markers",
         "text": [
          "The Neighbourhood",
          "Dominic Fike",
          "Cage The Elephant",
          "Foo Fighters",
          "Nickelback",
          "System Of A Down",
          "WALK THE MOON",
          "Gorillaz",
          "Foster The People",
          "Linkin Park",
          "Red Hot Chili Peppers",
          "The White Stripes",
          "Radiohead",
          "GROUPLOVE",
          "MGMT",
          "Franz Ferdinand",
          "Tinashe",
          "Sevdaliza",
          "Cigarettes After Sex",
          "ENHYPEN",
          "Otis Redding",
          "ZZ Top",
          "Adele",
          "Sade",
          "Toploader",
          "Tom Odell",
          "Lay Bankz",
          "Gesaffelstein",
          "Zach Bryan",
          "Luke Combs",
          "Ella Langley",
          "Koe Wetzel",
          "Tyler Childers",
          "Josh Meloy",
          "Bryan Martin",
          "Diplo",
          "Natasha Bedingfield",
          "USHER",
          "Train",
          "Bruno Mars",
          "Pitbull",
          "David Guetta",
          "TLC",
          "Shakira",
          "Kesha",
          "Calvin Harris",
          "Whitney Houston",
          "Britney Spears",
          "Sean Paul",
          "Earth, Wind & Fire",
          "Modjo",
          "Marshmello",
          "Mac DeMarco",
          "Kygo",
          "Lost Frequencies",
          "Dimitri Vegas & Like Mike",
          "Regard",
          "Zara Larsson",
          "Alok",
          "Daft Punk",
          "XXXTENTACION",
          "salvia palth",
          "Lil Peep",
          "My Chemical Romance",
          "Van Morrison",
          "Richy Mitch & The Coal Miners",
          "Vance Joy",
          "The Doobie Brothers",
          "George Ezra",
          "Lizzy McAlpine",
          "Patrick Watson",
          "Simon & Garfunkel",
          "Roy Orbison",
          "Bob Dylan",
          "Seafret",
          "Matheus Fernandes",
          "Matt Sassari",
          "GIMS",
          "Bill Withers",
          "Coolio",
          "Rage Against The Machine",
          "Arctic Monkeys",
          "The Goo Goo Dolls",
          "Audioslave",
          "Journey",
          "AC/DC",
          "Boston",
          "TOTO",
          "Kansas",
          "Foreigner",
          "The Notorious B.I.G.",
          "Future",
          "Tyler, The Creator",
          "The Kid LAROI",
          "Frank Ocean",
          "Gunna",
          "21 Savage",
          "Bryson Tiller",
          "A$AP Rocky",
          "Offset",
          "BigXthaPlug",
          "Jack Harlow",
          "Mustard",
          "Jordan Adetunji",
          "Tory Lanez",
          "Mac Miller",
          "Travis Scott",
          "Adam Port",
          "Djo",
          "Hozier",
          "Mitski",
          "TV Girl",
          "Hotel Ugly",
          "The Walters",
          "Eyedress",
          "Declan McKenna",
          "Royel Otis",
          "Suki Waterhouse",
          "Twenty One Pilots",
          "Men I Trust",
          "girl in red",
          "Jimin",
          "LISA",
          "ILLIT",
          "Stray Kids",
          "Jung Kook",
          "NewJeans",
          "KISS OF LIFE",
          "NAYEON",
          "LE SSERAFIM",
          "TOMORROW X TOGETHER",
          "Myke Towers",
          "Bad Bunny",
          "Blessd",
          "Rvssian",
          "Manuel Turizo",
          "Rauw Alejandro",
          "Young Miko",
          "Daddy Yankee",
          "Becky G",
          "Tainy",
          "Trueno",
          "Maluma",
          "Slipknot",
          "Billy Joel",
          "The Fray",
          "Kate Bush",
          "Shaboozey",
          "Myles Smith",
          "Benson Boone",
          "SZA",
          "Charli xcx",
          "Harry Styles",
          "Mark Ambor",
          "Tate McRae",
          "The Outfield",
          "Green Day",
          "Surf Curse",
          "The Clash",
          "The Smiths",
          "Joan Jett & the Blackhearts",
          "Sleepy Hallow",
          "Alicia Keys",
          "FloyyMenor",
          "Yng Lvcas",
          "MAGIC!",
          "Daryl Hall & John Oates",
          "Fleetwood Mac",
          "Luis R Conriquez",
          "Fuerza Regida",
          "Xavi",
          "Peso Pluma",
          "Calle 24",
          "Junior H",
          "Natanael Cano",
          "Carin Leon",
          "Powfu",
          "Murilo Huff",
          "Luan Santana",
          "Gusttavo Lima",
          "Bruno & Marrone",
          "Jorge & Mateus",
          "Ana Castela",
          "Zé Neto & Cristiano",
          "Hugo & Guilherme",
          "Jessie Murph",
          "Nicky Youre",
          "Laufey",
          "Chance Peña",
          "Alex Warren",
          "Bruce Springsteen",
          "Ed Sheeran",
          "Jungle",
          "Mark Ronson",
          "John Legend",
          "Rag'n'Bone Man",
          "Marc Seguí",
          "Rels B",
          "a-ha",
          "Eurythmics",
          "Starship",
          "Bronski Beat",
          "Alphaville"
         ],
         "type": "scatter",
         "x": [
          -1.1863284540958963,
          1.0780045114211032,
          -0.20407401515864557,
          -5.167874216981726,
          -2.06898026661284,
          -2.6235213156514714,
          -3.2211845315407834,
          -1.5767234692769099,
          -0.9128450653389367,
          -3.7637927571147554,
          -1.5078491469149322,
          -3.1467766144343576,
          -4.9937086976413525,
          -2.8265053753215494,
          -1.9196760598784468,
          -2.4059675767592728,
          2.597197752922751,
          1.409358331686246,
          -2.900637603393823,
          2.240801608125209,
          0.5993432987765253,
          -0.34089940019096465,
          -1.0116374392317655,
          0.045554913203640426,
          -0.15956252343998908,
          0.30089055401800235,
          2.6398394988822673,
          0.9930223127874193,
          0.2315330826132708,
          -2.2746948816547214,
          0.7780620302150546,
          -4.650659296270015,
          -0.884841926326772,
          0.5758818623269544,
          -2.641425308514351,
          2.033403229231986,
          1.1003283309501952,
          -0.1997828163905713,
          0.49701991948605506,
          -0.20109922616908718,
          -0.16183112137670375,
          -1.2845841897513663,
          1.2808197531307883,
          -0.3784823710049144,
          0.13716954103249995,
          -1.1051716535143499,
          0.40578229552631173,
          1.3538049758616928,
          2.7957808671992095,
          0.0603517979429869,
          -0.8724818342794216,
          -0.304855842579124,
          -2.0849909146476424,
          0.09834380538674625,
          -0.03966846457489226,
          -2.6456480249747605,
          1.3347740628580762,
          1.479455808039498,
          1.7916420295176445,
          1.120417238837984,
          1.8042161315444223,
          -2.128020193160931,
          -1.174192771236286,
          -4.915216445328607,
          -0.9259668160702943,
          -0.9992713564334071,
          2.5034410170884995,
          -0.7083048619577406,
          1.2739245516161517,
          -0.20481342778076417,
          0.44358234319539047,
          -0.8496557375776261,
          -0.05609507026147284,
          -1.7350488877621506,
          -4.507218596596177,
          1.0769093546231392,
          0.056385152039804605,
          2.5073062178762364,
          -2.5436415001675425,
          -0.8912746209311903,
          -3.287303265881426,
          -2.907850047291292,
          -4.875641915676662,
          -1.9726230780163068,
          -0.7853114178411792,
          -2.6016836792996347,
          -3.5426002056975667,
          -5.816513302496639,
          -2.34010457268535,
          -3.24619764562581,
          1.5157200559537969,
          -0.27162191599480545,
          -1.2160485333753748,
          -0.8002551755938464,
          0.04415449133704635,
          2.430262748757766,
          1.4312111276079158,
          2.718728213458008,
          -0.04896125105050818,
          1.2622754773554214,
          2.3084453844287447,
          1.8174864931429362,
          1.790403630405541,
          3.10482399743895,
          2.540074938253405,
          1.9321103120885068,
          0.4572762108038866,
          1.9439579604206425,
          -3.1089622609039638,
          0.10413614423221366,
          -1.5464607068053267,
          -1.5761438229318514,
          1.3165412419080933,
          -0.5880114823706966,
          -2.1421864068183423,
          0.4876380719509367,
          0.8600118862722951,
          -4.997055784638681,
          0.34701866576316515,
          -1.2261625433170655,
          -2.443518367652283,
          1.1587437992545007,
          1.697970169333451,
          3.2704851725594724,
          1.5105366401526348,
          1.1008069566377339,
          2.972450499749823,
          -1.5789892541880113,
          -0.41567405112939926,
          3.1309837490014902,
          -0.09548158064278045,
          2.525959882559845,
          3.3679709488789933,
          3.73083933944116,
          3.4376554354700515,
          2.543545782162512,
          3.2642867420947175,
          2.653569624575902,
          2.6433565930168457,
          1.3782006597948184,
          0.07435445296379117,
          2.620450316447342,
          2.007152179953053,
          -3.0975496725145715,
          -0.9920692296564353,
          -0.6708849605620711,
          -0.3477512566197517,
          1.0047020923534105,
          -0.6103869427907119,
          0.6881061170491559,
          2.997279021446871,
          1.2389092620484252,
          -0.3168117061150883,
          -0.040171931327666485,
          2.4322490573999396,
          -3.767951874407353,
          -3.9236862661701952,
          -2.505142127416082,
          -0.005129196253899982,
          -2.38150154819859,
          -2.743804731924591,
          1.5220576644467294,
          1.736652865478668,
          1.0324288728008757,
          3.463724373384676,
          0.6698712141626663,
          0.8825780970182109,
          -0.6770507338522818,
          2.435760087174176,
          1.7916502796020526,
          1.8638401928143087,
          1.0568127121824307,
          2.437751058243823,
          1.8638668494642505,
          1.441136170844657,
          0.857747198709153,
          0.6422540986862929,
          -0.24227704651479787,
          1.5855917528609513,
          2.681583557689665,
          2.9704416388517836,
          0.7089164419571286,
          3.149951307729541,
          0.7258706810432399,
          1.984543334105339,
          -0.416959459222408,
          1.39797141521901,
          2.5527434239220743,
          2.4143221405634923,
          -0.2911183124159027,
          -0.8176522915236187,
          1.995413372068979,
          -0.2987113338781381,
          0.052419799463001265,
          3.0763479574599883,
          -1.535579025375467,
          -1.461183333045516,
          1.0009045517080268,
          -2.019364061673668,
          -1.9145608612033178,
          -1.7496399861828744,
          1.5140455728957838,
          -2.4506055653988166
         ],
         "y": [
          0.6429967146209944,
          0.3629011320561966,
          -0.5655949517874509,
          2.528308671378152,
          3.016136404644962,
          2.5919042538506893,
          3.219243347607231,
          0.7402517577323562,
          -2.04007679934643,
          2.835743281790664,
          0.9820206238550602,
          3.801777601134699,
          4.1418012820763686,
          0.13972779468771157,
          -0.11893512930993837,
          1.420786204732006,
          -0.15789707325568825,
          0.8032690518126356,
          -2.992336518373923,
          2.1175663085398826,
          -2.5121358217895016,
          0.055638410899436094,
          -2.2250254573523645,
          -1.5078244095757012,
          -0.10209921448988944,
          -1.9932372963986935,
          1.4712546569785228,
          0.2309053725670471,
          -1.3348589208814867,
          -0.4761378924487967,
          -2.329622975740158,
          0.6335893597465424,
          -2.9353960359757876,
          -0.847146075195288,
          -0.34839440185277737,
          1.1087485265529258,
          -0.3464713084735866,
          2.1395769265919395,
          -1.826660778060773,
          0.6846827643298796,
          2.2331730413401156,
          0.5986172102376813,
          -0.07616229641131604,
          0.39571028481738074,
          3.251388868832947,
          0.3066777501308359,
          -1.5424734103621482,
          0.4148038990523437,
          1.9806332130175845,
          -2.7073006638776795,
          0.6109328723219747,
          0.7268082170244738,
          -1.6323410349224063,
          -1.1823255697484802,
          1.355485270443972,
          1.1222318984661226,
          2.8339317486464877,
          1.369769150019865,
          0.46063068228050974,
          0.6708485674007817,
          1.1335834569501848,
          -3.1390770991885333,
          0.7936407934055526,
          2.9122120958783575,
          0.03273827842527646,
          -1.807672428888091,
          -3.5803021099498276,
          -2.927977658619587,
          0.041366124167625244,
          -1.9916574077150304,
          -5.916317014491234,
          0.3330874724655833,
          -1.6822341580009128,
          -2.874256356926598,
          -1.2541484817567634,
          -0.26917219889418104,
          2.8481079664498985,
          2.260111249342424,
          -2.5595349341887617,
          -1.1354931410474087,
          3.1033208894220987,
          0.17059052128405738,
          1.8089890009705196,
          2.1072489209812013,
          -0.9596075280357224,
          1.2207977698024914,
          1.220391664875981,
          1.7862322593794957,
          -5.040139625419107,
          -2.5366027474654813,
          2.6889687305117604,
          0.793311956183814,
          -1.3126618093071112,
          1.2334957294030506,
          -2.9179737864784294,
          1.6340942565770085,
          2.102089379298776,
          1.1381384089391793,
          2.8135177178984336,
          1.6915408027982957,
          2.8132726621814133,
          2.935857243790046,
          0.47151428125648603,
          -0.23380996456083367,
          -0.029876687608322537,
          2.238792385806679,
          1.858638998601818,
          0.5877516556940785,
          -2.519366851894023,
          -1.0449185706431319,
          -2.995524728420017,
          0.18609401754663266,
          -1.1741429165558663,
          -2.3460711463536135,
          -1.036712259009906,
          -1.749677840210127,
          -3.305913532665827,
          -3.383666963687698,
          0.8221675097773048,
          -2.96499347249368,
          -3.037372597840214,
          1.5638929974755933,
          1.9388649774723423,
          0.31871091739453583,
          3.5658518631974787,
          1.7572198713093499,
          0.7155139696965771,
          -0.674077175162823,
          1.4560077157656386,
          0.46514084573411313,
          1.1235809003857893,
          0.9087077238463166,
          0.8646596066736488,
          0.5733520281622595,
          1.6762223534136549,
          -0.19188459958087098,
          0.3221175290093132,
          0.702898920584047,
          1.5615875793071579,
          -0.6979291685049882,
          2.2202428694238803,
          0.9035942558361928,
          0.8115561196557065,
          3.36732595385048,
          0.5252394345316408,
          -0.20612929484803313,
          -1.1699806046657886,
          -0.022706350362260905,
          0.9216098631155673,
          -0.3186723226203082,
          -2.925731447654248,
          -0.16076864190853862,
          0.316609653976477,
          -1.0318836632718182,
          0.9222324127505732,
          -2.07478869532658,
          1.7313871846450115,
          1.671257312420792,
          0.9023184720728851,
          -1.87366640844608,
          1.8970633867645903,
          0.46950232384969737,
          -1.4077439119461435,
          -0.32519039267078137,
          1.3405947441978046,
          0.6703012316277052,
          -2.3282912976674606,
          -0.8684771898518436,
          -1.2579829137468643,
          0.35653476614011353,
          -1.6089649624147933,
          -0.25486295665809633,
          -0.6489252631272144,
          -1.5645852409472276,
          0.9689369026315794,
          -1.3210182834624673,
          1.5914460075591819,
          0.04031149379209324,
          -0.2271055299225067,
          -1.4350111254405586,
          0.5442694991569917,
          -0.9087656947861235,
          -3.3120485173253824,
          0.029008780656427497,
          -1.5042189170458165,
          -0.9739404548624084,
          -0.2836315166021589,
          -0.21179207161186278,
          -3.329822193215159,
          1.529946814477521,
          0.7052765154694213,
          2.045524266471977,
          -1.0679593027052598,
          -0.7671434844266157,
          -2.5290535044230937,
          0.6425118543145985,
          -0.36419326618450215,
          1.253565635620247,
          -1.2099581952483853,
          -1.5189821136575479,
          -0.890390930083257,
          -3.0109184274562844,
          -3.6681087929330456
         ]
        }
       ],
       "layout": {
        "height": 800,
        "plot_bgcolor": "rgba(0,0,0,0)",
        "showlegend": false,
        "template": {
         "data": {
          "bar": [
           {
            "error_x": {
             "color": "#2a3f5f"
            },
            "error_y": {
             "color": "#2a3f5f"
            },
            "marker": {
             "line": {
              "color": "#E5ECF6",
              "width": 0.5
             },
             "pattern": {
              "fillmode": "overlay",
              "size": 10,
              "solidity": 0.2
             }
            },
            "type": "bar"
           }
          ],
          "barpolar": [
           {
            "marker": {
             "line": {
              "color": "#E5ECF6",
              "width": 0.5
             },
             "pattern": {
              "fillmode": "overlay",
              "size": 10,
              "solidity": 0.2
             }
            },
            "type": "barpolar"
           }
          ],
          "carpet": [
           {
            "aaxis": {
             "endlinecolor": "#2a3f5f",
             "gridcolor": "white",
             "linecolor": "white",
             "minorgridcolor": "white",
             "startlinecolor": "#2a3f5f"
            },
            "baxis": {
             "endlinecolor": "#2a3f5f",
             "gridcolor": "white",
             "linecolor": "white",
             "minorgridcolor": "white",
             "startlinecolor": "#2a3f5f"
            },
            "type": "carpet"
           }
          ],
          "choropleth": [
           {
            "colorbar": {
             "outlinewidth": 0,
             "ticks": ""
            },
            "type": "choropleth"
           }
          ],
          "contour": [
           {
            "colorbar": {
             "outlinewidth": 0,
             "ticks": ""
            },
            "colorscale": [
             [
              0,
              "#0d0887"
             ],
             [
              0.1111111111111111,
              "#46039f"
             ],
             [
              0.2222222222222222,
              "#7201a8"
             ],
             [
              0.3333333333333333,
              "#9c179e"
             ],
             [
              0.4444444444444444,
              "#bd3786"
             ],
             [
              0.5555555555555556,
              "#d8576b"
             ],
             [
              0.6666666666666666,
              "#ed7953"
             ],
             [
              0.7777777777777778,
              "#fb9f3a"
             ],
             [
              0.8888888888888888,
              "#fdca26"
             ],
             [
              1,
              "#f0f921"
             ]
            ],
            "type": "contour"
           }
          ],
          "contourcarpet": [
           {
            "colorbar": {
             "outlinewidth": 0,
             "ticks": ""
            },
            "type": "contourcarpet"
           }
          ],
          "heatmap": [
           {
            "colorbar": {
             "outlinewidth": 0,
             "ticks": ""
            },
            "colorscale": [
             [
              0,
              "#0d0887"
             ],
             [
              0.1111111111111111,
              "#46039f"
             ],
             [
              0.2222222222222222,
              "#7201a8"
             ],
             [
              0.3333333333333333,
              "#9c179e"
             ],
             [
              0.4444444444444444,
              "#bd3786"
             ],
             [
              0.5555555555555556,
              "#d8576b"
             ],
             [
              0.6666666666666666,
              "#ed7953"
             ],
             [
              0.7777777777777778,
              "#fb9f3a"
             ],
             [
              0.8888888888888888,
              "#fdca26"
             ],
             [
              1,
              "#f0f921"
             ]
            ],
            "type": "heatmap"
           }
          ],
          "heatmapgl": [
           {
            "colorbar": {
             "outlinewidth": 0,
             "ticks": ""
            },
            "colorscale": [
             [
              0,
              "#0d0887"
             ],
             [
              0.1111111111111111,
              "#46039f"
             ],
             [
              0.2222222222222222,
              "#7201a8"
             ],
             [
              0.3333333333333333,
              "#9c179e"
             ],
             [
              0.4444444444444444,
              "#bd3786"
             ],
             [
              0.5555555555555556,
              "#d8576b"
             ],
             [
              0.6666666666666666,
              "#ed7953"
             ],
             [
              0.7777777777777778,
              "#fb9f3a"
             ],
             [
              0.8888888888888888,
              "#fdca26"
             ],
             [
              1,
              "#f0f921"
             ]
            ],
            "type": "heatmapgl"
           }
          ],
          "histogram": [
           {
            "marker": {
             "pattern": {
              "fillmode": "overlay",
              "size": 10,
              "solidity": 0.2
             }
            },
            "type": "histogram"
           }
          ],
          "histogram2d": [
           {
            "colorbar": {
             "outlinewidth": 0,
             "ticks": ""
            },
            "colorscale": [
             [
              0,
              "#0d0887"
             ],
             [
              0.1111111111111111,
              "#46039f"
             ],
             [
              0.2222222222222222,
              "#7201a8"
             ],
             [
              0.3333333333333333,
              "#9c179e"
             ],
             [
              0.4444444444444444,
              "#bd3786"
             ],
             [
              0.5555555555555556,
              "#d8576b"
             ],
             [
              0.6666666666666666,
              "#ed7953"
             ],
             [
              0.7777777777777778,
              "#fb9f3a"
             ],
             [
              0.8888888888888888,
              "#fdca26"
             ],
             [
              1,
              "#f0f921"
             ]
            ],
            "type": "histogram2d"
           }
          ],
          "histogram2dcontour": [
           {
            "colorbar": {
             "outlinewidth": 0,
             "ticks": ""
            },
            "colorscale": [
             [
              0,
              "#0d0887"
             ],
             [
              0.1111111111111111,
              "#46039f"
             ],
             [
              0.2222222222222222,
              "#7201a8"
             ],
             [
              0.3333333333333333,
              "#9c179e"
             ],
             [
              0.4444444444444444,
              "#bd3786"
             ],
             [
              0.5555555555555556,
              "#d8576b"
             ],
             [
              0.6666666666666666,
              "#ed7953"
             ],
             [
              0.7777777777777778,
              "#fb9f3a"
             ],
             [
              0.8888888888888888,
              "#fdca26"
             ],
             [
              1,
              "#f0f921"
             ]
            ],
            "type": "histogram2dcontour"
           }
          ],
          "mesh3d": [
           {
            "colorbar": {
             "outlinewidth": 0,
             "ticks": ""
            },
            "type": "mesh3d"
           }
          ],
          "parcoords": [
           {
            "line": {
             "colorbar": {
              "outlinewidth": 0,
              "ticks": ""
             }
            },
            "type": "parcoords"
           }
          ],
          "pie": [
           {
            "automargin": true,
            "type": "pie"
           }
          ],
          "scatter": [
           {
            "fillpattern": {
             "fillmode": "overlay",
             "size": 10,
             "solidity": 0.2
            },
            "type": "scatter"
           }
          ],
          "scatter3d": [
           {
            "line": {
             "colorbar": {
              "outlinewidth": 0,
              "ticks": ""
             }
            },
            "marker": {
             "colorbar": {
              "outlinewidth": 0,
              "ticks": ""
             }
            },
            "type": "scatter3d"
           }
          ],
          "scattercarpet": [
           {
            "marker": {
             "colorbar": {
              "outlinewidth": 0,
              "ticks": ""
             }
            },
            "type": "scattercarpet"
           }
          ],
          "scattergeo": [
           {
            "marker": {
             "colorbar": {
              "outlinewidth": 0,
              "ticks": ""
             }
            },
            "type": "scattergeo"
           }
          ],
          "scattergl": [
           {
            "marker": {
             "colorbar": {
              "outlinewidth": 0,
              "ticks": ""
             }
            },
            "type": "scattergl"
           }
          ],
          "scattermapbox": [
           {
            "marker": {
             "colorbar": {
              "outlinewidth": 0,
              "ticks": ""
             }
            },
            "type": "scattermapbox"
           }
          ],
          "scatterpolar": [
           {
            "marker": {
             "colorbar": {
              "outlinewidth": 0,
              "ticks": ""
             }
            },
            "type": "scatterpolar"
           }
          ],
          "scatterpolargl": [
           {
            "marker": {
             "colorbar": {
              "outlinewidth": 0,
              "ticks": ""
             }
            },
            "type": "scatterpolargl"
           }
          ],
          "scatterternary": [
           {
            "marker": {
             "colorbar": {
              "outlinewidth": 0,
              "ticks": ""
             }
            },
            "type": "scatterternary"
           }
          ],
          "surface": [
           {
            "colorbar": {
             "outlinewidth": 0,
             "ticks": ""
            },
            "colorscale": [
             [
              0,
              "#0d0887"
             ],
             [
              0.1111111111111111,
              "#46039f"
             ],
             [
              0.2222222222222222,
              "#7201a8"
             ],
             [
              0.3333333333333333,
              "#9c179e"
             ],
             [
              0.4444444444444444,
              "#bd3786"
             ],
             [
              0.5555555555555556,
              "#d8576b"
             ],
             [
              0.6666666666666666,
              "#ed7953"
             ],
             [
              0.7777777777777778,
              "#fb9f3a"
             ],
             [
              0.8888888888888888,
              "#fdca26"
             ],
             [
              1,
              "#f0f921"
             ]
            ],
            "type": "surface"
           }
          ],
          "table": [
           {
            "cells": {
             "fill": {
              "color": "#EBF0F8"
             },
             "line": {
              "color": "white"
             }
            },
            "header": {
             "fill": {
              "color": "#C8D4E3"
             },
             "line": {
              "color": "white"
             }
            },
            "type": "table"
           }
          ]
         },
         "layout": {
          "annotationdefaults": {
           "arrowcolor": "#2a3f5f",
           "arrowhead": 0,
           "arrowwidth": 1
          },
          "autotypenumbers": "strict",
          "coloraxis": {
           "colorbar": {
            "outlinewidth": 0,
            "ticks": ""
           }
          },
          "colorscale": {
           "diverging": [
            [
             0,
             "#8e0152"
            ],
            [
             0.1,
             "#c51b7d"
            ],
            [
             0.2,
             "#de77ae"
            ],
            [
             0.3,
             "#f1b6da"
            ],
            [
             0.4,
             "#fde0ef"
            ],
            [
             0.5,
             "#f7f7f7"
            ],
            [
             0.6,
             "#e6f5d0"
            ],
            [
             0.7,
             "#b8e186"
            ],
            [
             0.8,
             "#7fbc41"
            ],
            [
             0.9,
             "#4d9221"
            ],
            [
             1,
             "#276419"
            ]
           ],
           "sequential": [
            [
             0,
             "#0d0887"
            ],
            [
             0.1111111111111111,
             "#46039f"
            ],
            [
             0.2222222222222222,
             "#7201a8"
            ],
            [
             0.3333333333333333,
             "#9c179e"
            ],
            [
             0.4444444444444444,
             "#bd3786"
            ],
            [
             0.5555555555555556,
             "#d8576b"
            ],
            [
             0.6666666666666666,
             "#ed7953"
            ],
            [
             0.7777777777777778,
             "#fb9f3a"
            ],
            [
             0.8888888888888888,
             "#fdca26"
            ],
            [
             1,
             "#f0f921"
            ]
           ],
           "sequentialminus": [
            [
             0,
             "#0d0887"
            ],
            [
             0.1111111111111111,
             "#46039f"
            ],
            [
             0.2222222222222222,
             "#7201a8"
            ],
            [
             0.3333333333333333,
             "#9c179e"
            ],
            [
             0.4444444444444444,
             "#bd3786"
            ],
            [
             0.5555555555555556,
             "#d8576b"
            ],
            [
             0.6666666666666666,
             "#ed7953"
            ],
            [
             0.7777777777777778,
             "#fb9f3a"
            ],
            [
             0.8888888888888888,
             "#fdca26"
            ],
            [
             1,
             "#f0f921"
            ]
           ]
          },
          "colorway": [
           "#636efa",
           "#EF553B",
           "#00cc96",
           "#ab63fa",
           "#FFA15A",
           "#19d3f3",
           "#FF6692",
           "#B6E880",
           "#FF97FF",
           "#FECB52"
          ],
          "font": {
           "color": "#2a3f5f"
          },
          "geo": {
           "bgcolor": "white",
           "lakecolor": "white",
           "landcolor": "#E5ECF6",
           "showlakes": true,
           "showland": true,
           "subunitcolor": "white"
          },
          "hoverlabel": {
           "align": "left"
          },
          "hovermode": "closest",
          "mapbox": {
           "style": "light"
          },
          "paper_bgcolor": "white",
          "plot_bgcolor": "#E5ECF6",
          "polar": {
           "angularaxis": {
            "gridcolor": "white",
            "linecolor": "white",
            "ticks": ""
           },
           "bgcolor": "#E5ECF6",
           "radialaxis": {
            "gridcolor": "white",
            "linecolor": "white",
            "ticks": ""
           }
          },
          "scene": {
           "xaxis": {
            "backgroundcolor": "#E5ECF6",
            "gridcolor": "white",
            "gridwidth": 2,
            "linecolor": "white",
            "showbackground": true,
            "ticks": "",
            "zerolinecolor": "white"
           },
           "yaxis": {
            "backgroundcolor": "#E5ECF6",
            "gridcolor": "white",
            "gridwidth": 2,
            "linecolor": "white",
            "showbackground": true,
            "ticks": "",
            "zerolinecolor": "white"
           },
           "zaxis": {
            "backgroundcolor": "#E5ECF6",
            "gridcolor": "white",
            "gridwidth": 2,
            "linecolor": "white",
            "showbackground": true,
            "ticks": "",
            "zerolinecolor": "white"
           }
          },
          "shapedefaults": {
           "line": {
            "color": "#2a3f5f"
           }
          },
          "ternary": {
           "aaxis": {
            "gridcolor": "white",
            "linecolor": "white",
            "ticks": ""
           },
           "baxis": {
            "gridcolor": "white",
            "linecolor": "white",
            "ticks": ""
           },
           "bgcolor": "#E5ECF6",
           "caxis": {
            "gridcolor": "white",
            "linecolor": "white",
            "ticks": ""
           }
          },
          "title": {
           "x": 0.05
          },
          "xaxis": {
           "automargin": true,
           "gridcolor": "white",
           "linecolor": "white",
           "ticks": "",
           "title": {
            "standoff": 15
           },
           "zerolinecolor": "white",
           "zerolinewidth": 2
          },
          "yaxis": {
           "automargin": true,
           "gridcolor": "white",
           "linecolor": "white",
           "ticks": "",
           "title": {
            "standoff": 15
           },
           "zerolinecolor": "white",
           "zerolinewidth": 2
          }
         }
        },
        "title": {
         "text": "K-means clustering on Spotify embeddings (PCA-reduced)"
        },
        "width": 800,
        "xaxis": {
         "maxallowed": 4.73083933944116,
         "minallowed": -6.816513302496639,
         "visible": false
        },
        "yaxis": {
         "maxallowed": 5.1418012820763686,
         "minallowed": -6.916317014491234,
         "visible": false
        }
       }
      }
     },
     "metadata": {},
     "output_type": "display_data"
    }
   ],
   "source": [
    "# Create a DataFrame for easier manipulation\n",
    "data = {\n",
    "    'x': artist_reduced_embeddings[:, 0],\n",
    "    'y': artist_reduced_embeddings[:, 1],\n",
    "    'name': artist_names,\n",
    "    'cluster': artist_cluster_labels,\n",
    "    'id': [artist for artist in artist_names]\n",
    "}\n",
    "df = pd.DataFrame(data)\n",
    "\n",
    "# Voronoi diagram\n",
    "vor = Voronoi(kmeans.cluster_centers_)\n",
    "regions, vertices = voronoi_finite_polygons_2d(vor)\n",
    "\n",
    "# Generate a unique color for each region\n",
    "def generate_color(name, factor=0.25):\n",
    "    \"\"\"Generate a pastel color for the given name.\"\"\"\n",
    "    # Generate a color based on the hash of the name\n",
    "    hash_object = hashlib.md5(name.encode())\n",
    "    hex_dig = hash_object.hexdigest()\n",
    "    base_color = [int(hex_dig[i:i+2], 16) for i in (0, 2, 4)]\n",
    "\n",
    "    # Mix the color with white\n",
    "    pastel_color = [(1 - factor) * c + factor * 255 for c in base_color]\n",
    "    pastel_color_hex = ''.join(f'{int(c):02x}' for c in pastel_color)\n",
    "\n",
    "    return '#' + pastel_color_hex\n",
    "\n",
    "# Create Plotly figure\n",
    "fig = go.Figure()\n",
    "\n",
    "# Add Voronoi regions, each with a different color\n",
    "for region, center in zip(regions, kmeans.cluster_centers_):\n",
    "    polygon = vertices[region]\n",
    "    color = generate_color(str(center))\n",
    "    fig.add_trace(go.Scatter(\n",
    "        x=polygon[:, 0],\n",
    "        y=polygon[:, 1],\n",
    "        fill=\"toself\",\n",
    "        fillcolor=color,\n",
    "        mode='lines',\n",
    "        line=dict(color='rgba(0,0,0,0)')  # No border color\n",
    "    ))\n",
    "\n",
    "# Add centroids\n",
    "fig.add_trace(go.Scatter(\n",
    "    x=kmeans.cluster_centers_[:, 0],\n",
    "    y=kmeans.cluster_centers_[:, 1],\n",
    "    mode='markers',\n",
    "    marker=dict(size=10, color='white', symbol='x'),\n",
    "    name='Centroids'\n",
    "))\n",
    "\n",
    "# Add scatter plot of points\n",
    "fig.add_trace(go.Scatter(\n",
    "    x=df['x'],\n",
    "    y=df['y'],\n",
    "    mode='markers',\n",
    "    marker=dict(color='black', size=5),\n",
    "    text=df.apply(lambda row: f\"{row['name']}\", axis=1),\n",
    "    hoverinfo='text'\n",
    "))\n",
    "\n",
    "# Update layout\n",
    "fig.update_layout(\n",
    "    title=\"K-means clustering on Spotify embeddings (PCA-reduced)\",\n",
    "    xaxis=dict(visible=False),\n",
    "    yaxis=dict(visible=False),\n",
    "    showlegend=False,\n",
    "    width=800,\n",
    "    height=800,\n",
    "    plot_bgcolor='rgba(0,0,0,0)'\n",
    ")\n",
    "\n",
    "fig.update_xaxes(minallowed=df['x'].min()-1, maxallowed=df['x'].max()+1)\n",
    "fig.update_yaxes(minallowed=df['y'].min()-1, maxallowed=df['y'].max()+1)\n",
    "\n",
    "# Show the plot\n",
    "fig.show()"
   ]
  },
  {
   "cell_type": "code",
   "execution_count": 24,
   "metadata": {},
   "outputs": [
    {
     "name": "stdout",
     "output_type": "stream",
     "text": [
      "Song ID 2M9ro2krNb7nr7HSprkEgo not found in Pinecone index\n",
      "Song ID 4IadxL6BUymXlh8RCJJu7T not found in Pinecone index\n",
      "Song ID 4IadxL6BUymXlh8RCJJu7T not found in Pinecone index\n",
      "Song ID 32lSgbCqRcIOyUSnfuUZEQ not found in Pinecone index\n",
      "Song ID 1yqdD2ScjkqvaNBUzPQ4vR not found in Pinecone index\n",
      "Song ID 5wPnPIZS8wr4lPNLz4qvHK not found in Pinecone index\n",
      "Song ID 58BWnoFDNaeM0vwA0K3fqb not found in Pinecone index\n",
      "Song ID 5fZJQrFKWQLb7FpJXZ1g7K not found in Pinecone index\n",
      "Song ID 4IadxL6BUymXlh8RCJJu7T not found in Pinecone index\n",
      "Song ID 6tNQ70jh4OwmPGpYy6R2o9 not found in Pinecone index\n",
      "Song ID 4IadxL6BUymXlh8RCJJu7T not found in Pinecone index\n",
      "Song ID 4IadxL6BUymXlh8RCJJu7T not found in Pinecone index\n",
      "Song ID 6tNQ70jh4OwmPGpYy6R2o9 not found in Pinecone index\n",
      "Song ID 3h76tbaYIamSeJL81X7ZwI not found in Pinecone index\n",
      "Song ID 2M9ro2krNb7nr7HSprkEgo not found in Pinecone index\n",
      "Song ID 4IadxL6BUymXlh8RCJJu7T not found in Pinecone index\n",
      "Song ID 6tNQ70jh4OwmPGpYy6R2o9 not found in Pinecone index\n",
      "Song ID 3h76tbaYIamSeJL81X7ZwI not found in Pinecone index\n",
      "Song ID 2M9ro2krNb7nr7HSprkEgo not found in Pinecone index\n",
      "PCA and K-means clustering completed successfully.\n"
     ]
    }
   ],
   "source": [
    "import json\n",
    "import numpy as np\n",
    "from sklearn.decomposition import PCA\n",
    "from sklearn.cluster import KMeans\n",
    "import os\n",
    "from dotenv import load_dotenv\n",
    "import pinecone\n",
    "import pandas as pd\n",
    "from scipy.spatial import Voronoi\n",
    "import hashlib\n",
    "import plotly.graph_objs as go\n",
    "\n",
    "# Load environment variables\n",
    "load_dotenv()\n",
    "\n",
    "# Initialize Pinecone\n",
    "pc = pinecone.Pinecone(\n",
    "    api_key=os.getenv('PINECONE_API_KEY'),\n",
    "    environment=os.getenv('PINECONE_ENVIRONMENT')\n",
    ")\n",
    "\n",
    "# Connect to the Pinecone index\n",
    "index = pc.Index('ast-song-embeddings')\n",
    "\n",
    "# Load genre metadata\n",
    "with open('./metadata/genres_metadata.json') as f:\n",
    "    genre_metadata = json.load(f)\n",
    "\n",
    "# Function to fetch embeddings from Pinecone based on song IDs\n",
    "def fetch_embeddings_by_ids(index, song_ids):\n",
    "    embeddings = {}\n",
    "    batch_size = 100  # Adjust batch size as needed\n",
    "    for i in range(0, len(song_ids), batch_size):\n",
    "        batch_ids = song_ids[i:i + batch_size]\n",
    "        response = index.fetch(ids=batch_ids)\n",
    "        for song_id, vector_data in response['vectors'].items():\n",
    "            embeddings[song_id] = vector_data['values']\n",
    "    return embeddings\n",
    "\n",
    "# Get all song IDs from the genre metadata\n",
    "all_song_ids = [song['id'] for songs in genre_metadata.values() for song in songs]\n",
    "\n",
    "# Fetch embeddings for all song IDs\n",
    "song_embeddings_dict = fetch_embeddings_by_ids(index, all_song_ids)\n",
    "\n",
    "# Debugging: Print some IDs to verify\n",
    "#print(\"Fetched song IDs from Pinecone index:\", list(song_embeddings_dict.keys())[:10])\n",
    "\n",
    "# Calculate average embeddings for each genre\n",
    "genre_embeddings = {}\n",
    "for genre, songs in genre_metadata.items():\n",
    "    embeddings = []\n",
    "    for song in songs:\n",
    "        song_id = song['id']\n",
    "        if song_id in song_embeddings_dict:\n",
    "            embeddings.append(song_embeddings_dict[song_id])\n",
    "        else:\n",
    "            print(f\"Song ID {song_id} not found in Pinecone index\")\n",
    "    if embeddings:\n",
    "        genre_embeddings[genre] = np.mean(embeddings, axis=0)\n",
    "    else:\n",
    "        print(f\"No embeddings found for genre {genre}\")\n",
    "\n",
    "# Convert genre embeddings to a list of tuples (genre, embedding)\n",
    "genre_embeddings_list = [(genre, embedding) for genre, embedding in genre_embeddings.items()]\n",
    "\n",
    "# Check if the list is not empty\n",
    "if not genre_embeddings_list:\n",
    "    raise ValueError(\"No genre embeddings found.\")\n",
    "\n",
    "# Separate genre names and embeddings\n",
    "genre_names, embeddings = zip(*genre_embeddings_list)\n",
    "embeddings = np.array(embeddings)\n",
    "\n",
    "# Perform PCA\n",
    "pca = PCA(n_components=2)\n",
    "genre_reduced_embeddings = pca.fit_transform(embeddings)\n",
    "\n",
    "# Perform K-means clustering\n",
    "n_clusters = max(1, len(genre_names) // 5)  # Ensure at least 1 cluster\n",
    "kmeans = KMeans(n_clusters=n_clusters, init=\"k-means++\", n_init=4, random_state=42)\n",
    "genre_cluster_labels = kmeans.fit_predict(genre_reduced_embeddings)\n",
    "\n",
    "# If everything works fine, print success message\n",
    "print(\"PCA and K-means clustering completed successfully.\")"
   ]
  },
  {
   "cell_type": "code",
   "execution_count": 25,
   "metadata": {},
   "outputs": [
    {
     "data": {
      "application/vnd.plotly.v1+json": {
       "config": {
        "plotlyServerURL": "https://plot.ly"
       },
       "data": [
        {
         "fill": "toself",
         "fillcolor": "#77d3ca",
         "line": {
          "color": "rgba(0,0,0,0)"
         },
         "mode": "lines",
         "type": "scatter",
         "x": [
          -2.6430619187945856,
          -1.00014113718978,
          0.10183163815804708,
          -1.6313710869972131,
          -13.411380756927176
         ],
         "y": [
          0.6278551804200719,
          1.1504613127011332,
          2.7901558961872706,
          16.930311537404762,
          9.954767994672128
         ]
        },
        {
         "fill": "toself",
         "fillcolor": "#b79f4c",
         "line": {
          "color": "rgba(0,0,0,0)"
         },
         "mode": "lines",
         "type": "scatter",
         "x": [
          -2.522318913976979,
          -0.4116488270261438,
          0.056155106631557095,
          -3.107321019987707
         ],
         "y": [
          -1.1085611038838445,
          -0.6302171649431553,
          -2.088380043198262,
          -2.490212968935499
         ]
        },
        {
         "fill": "toself",
         "fillcolor": "#6669d8",
         "line": {
          "color": "rgba(0,0,0,0)"
         },
         "mode": "lines",
         "type": "scatter",
         "x": [
          1.2326690815839494,
          0.8709605269650129,
          2.1092418750041775,
          2.8964225924866476
         ],
         "y": [
          1.5222386742300036,
          -0.0775370221079612,
          -1.3658045603338103,
          1.1949549043087646
         ]
        },
        {
         "fill": "toself",
         "fillcolor": "#a8cc57",
         "line": {
          "color": "rgba(0,0,0,0)"
         },
         "mode": "lines",
         "type": "scatter",
         "x": [
          0.10183163815804708,
          1.2326690815839494,
          2.8964225924866476,
          16.34444604601797,
          -1.6313710869972131
         ],
         "y": [
          2.7901558961872706,
          1.5222386742300036,
          1.1949549043087646,
          5.89587592445066,
          16.930311537404762
         ]
        },
        {
         "fill": "toself",
         "fillcolor": "#67cec0",
         "line": {
          "color": "rgba(0,0,0,0)"
         },
         "mode": "lines",
         "type": "scatter",
         "x": [
          -2.522318913976979,
          -2.6430619187945856,
          -1.00014113718978,
          -0.2759604759116019,
          -0.4116488270261438
         ],
         "y": [
          -1.1085611038838445,
          0.6278551804200719,
          1.1504613127011332,
          -0.3670567307984032,
          -0.6302171649431553
         ]
        },
        {
         "fill": "toself",
         "fillcolor": "#de486b",
         "line": {
          "color": "rgba(0,0,0,0)"
         },
         "mode": "lines",
         "type": "scatter",
         "x": [
          -0.4116488270261438,
          -0.2759604759116019,
          0.8709605269650129,
          2.1092418750041775,
          2.925033199719005,
          0.056155106631557095
         ],
         "y": [
          -0.6302171649431553,
          -0.3670567307984032,
          -0.0775370221079612,
          -1.3658045603338103,
          -4.098458913595051,
          -2.088380043198262
         ]
        },
        {
         "fill": "toself",
         "fillcolor": "#4d9e6f",
         "line": {
          "color": "rgba(0,0,0,0)"
         },
         "mode": "lines",
         "type": "scatter",
         "x": [
          -12.34272091235771,
          -3.107321019987707,
          -2.522318913976979,
          -2.6430619187945856,
          -13.411380756927176
         ],
         "y": [
          -13.337119535895159,
          -2.490212968935499,
          -1.1085611038838445,
          0.6278551804200719,
          9.954767994672128
         ]
        },
        {
         "fill": "toself",
         "fillcolor": "#55c3d3",
         "line": {
          "color": "rgba(0,0,0,0)"
         },
         "mode": "lines",
         "type": "scatter",
         "x": [
          2.925033199719005,
          10.861929114145978,
          16.34444604601797,
          2.8964225924866476,
          2.1092418750041775
         ],
         "y": [
          -4.098458913595051,
          -15.928660792172309,
          5.89587592445066,
          1.1949549043087646,
          -1.3658045603338103
         ]
        },
        {
         "fill": "toself",
         "fillcolor": "#f9c985",
         "line": {
          "color": "rgba(0,0,0,0)"
         },
         "mode": "lines",
         "type": "scatter",
         "x": [
          1.2326690815839494,
          0.10183163815804708,
          -1.00014113718978,
          -0.2759604759116019,
          0.8709605269650129
         ],
         "y": [
          1.5222386742300036,
          2.7901558961872706,
          1.1504613127011332,
          -0.3670567307984032,
          -0.0775370221079612
         ]
        },
        {
         "fill": "toself",
         "fillcolor": "#4e9dea",
         "line": {
          "color": "rgba(0,0,0,0)"
         },
         "mode": "lines",
         "type": "scatter",
         "x": [
          -12.34272091235771,
          10.861929114145978,
          2.925033199719005,
          0.056155106631557095,
          -3.107321019987707
         ],
         "y": [
          -13.337119535895159,
          -15.928660792172309,
          -4.098458913595051,
          -2.088380043198262,
          -2.490212968935499
         ]
        },
        {
         "marker": {
          "color": "white",
          "size": 10,
          "symbol": "x"
         },
         "mode": "markers",
         "name": "Centroids",
         "type": "scatter",
         "x": [
          -1.9415051811378992,
          -0.960296114339203,
          1.8262561959702204,
          2.2776354897439743,
          -1.2827718309729355,
          0.5420887973503865,
          -3.892341067766119,
          3.23064975850097,
          0.13391142989911778,
          -0.7815534066626368
         ],
         "y": [
          1.9912200094367414,
          -1.5025538204629096,
          0.21377760659947115,
          2.5083731648991963,
          -0.07964491860840958,
          -1.0205626917370225,
          -0.26110326691934455,
          -0.21793476133080725,
          0.596415985625816,
          -2.909726434565358
         ]
        },
        {
         "hoverinfo": "text",
         "marker": {
          "color": "black",
          "size": 5
         },
         "mode": "markers",
         "text": [
          "alt-rock",
          "alternative",
          "ambient",
          "anime",
          "blues",
          "british",
          "chill",
          "club",
          "country",
          "dance",
          "dancehall",
          "disco",
          "edm",
          "electro",
          "electronic",
          "emo",
          "folk",
          "forro",
          "french",
          "funk",
          "garage",
          "grunge",
          "hard-rock",
          "hardcore",
          "hip-hop",
          "house",
          "indie",
          "indie-pop",
          "jazz",
          "k-pop",
          "latin",
          "latino",
          "metal",
          "piano",
          "pop",
          "power-pop",
          "progressive-house",
          "punk",
          "punk-rock",
          "r-n-b",
          "reggae",
          "reggaeton",
          "rock",
          "rock-n-roll",
          "rockabilly",
          "sad",
          "sertanejo",
          "singer-songwriter",
          "songwriter",
          "soul",
          "spanish",
          "swedish",
          "synth-pop",
          "techno"
         ],
         "type": "scatter",
         "x": [
          -1.4460689163070293,
          -1.275395220853802,
          -3.5968815957789375,
          3.3207767971566615,
          -0.8750842631628344,
          -0.9128684906074443,
          -0.4123307102309353,
          2.010131257740784,
          -1.1989790809986982,
          0.15989228908442718,
          4.027281195251461,
          -0.4466631955034667,
          -0.5045852696380864,
          0.28814807046188046,
          1.8501952271186388,
          0.2721406186241278,
          -1.2015532890367047,
          0.6411030768758632,
          2.447054846170517,
          -1.6059354702644508,
          -2.5463956772053327,
          -2.325545916110113,
          -2.276653888592884,
          2.814625155244846,
          1.5533328176680292,
          0.4989583311469249,
          -1.3875898540458673,
          -1.7139728640064862,
          -0.46757915490937874,
          1.8713889333705922,
          2.9099783002120434,
          3.113066929509502,
          -1.7824564292449647,
          -0.7455109645521762,
          0.40140643456541575,
          -4.1878005397533,
          -0.4220184359766445,
          -1.9355173480297794,
          -1.9440080527592896,
          0.5670373293945355,
          2.9888213479733317,
          3.023973980902825,
          -1.3685375698057993,
          -0.9385405325392661,
          -0.9385405325392661,
          1.1991770784059854,
          0.8524311266548542,
          0.06673326777802575,
          0.06673326777802575,
          -0.7926515606256171,
          0.6448444055911947,
          1.8462327439530577,
          -1.757026473371555,
          1.5712264678165613
         ],
         "y": [
          2.06365086834691,
          1.7502560712851487,
          -0.7837935693406827,
          0.48762545198163426,
          -0.251917370173063,
          -1.4238741294627393,
          -1.7894299568829088,
          0.0931850895180504,
          -0.888289709573294,
          0.5045460681031112,
          0.8742165352009723,
          -1.3452867485462636,
          0.5304080457679444,
          0.38177960058176874,
          0.04715988281356191,
          0.9278036263619209,
          -1.8184932610908087,
          -1.0238738793420272,
          2.119538777801365,
          0.3589588558518686,
          1.258927034858162,
          3.3925665014708595,
          0.9071775881588449,
          2.2066981973636275,
          0.4673979203985084,
          0.7670042100916875,
          -0.4931590806006371,
          -0.42155639888460417,
          -2.9177746813766956,
          0.33827480402473015,
          -0.6754007516365781,
          -0.6362004329199173,
          2.524755571652445,
          0.04977724194768554,
          -0.5139014307092015,
          0.2615870355019935,
          0.5379811193635626,
          2.0158703834804403,
          2.0165560562411193,
          -1.129078912213068,
          -0.671297169229752,
          -0.6865522013812032,
          0.28002724020829267,
          -2.905702311159689,
          -2.905702311159689,
          -1.3863768861887118,
          -1.3571725861918122,
          -0.8667675737571688,
          -0.8667675737571688,
          -1.7676243393317916,
          0.5253892291107163,
          0.12287033624250482,
          -1.4848785983525625,
          3.1988825195325976
         ]
        }
       ],
       "layout": {
        "height": 800,
        "plot_bgcolor": "rgba(0,0,0,0)",
        "showlegend": false,
        "template": {
         "data": {
          "bar": [
           {
            "error_x": {
             "color": "#2a3f5f"
            },
            "error_y": {
             "color": "#2a3f5f"
            },
            "marker": {
             "line": {
              "color": "#E5ECF6",
              "width": 0.5
             },
             "pattern": {
              "fillmode": "overlay",
              "size": 10,
              "solidity": 0.2
             }
            },
            "type": "bar"
           }
          ],
          "barpolar": [
           {
            "marker": {
             "line": {
              "color": "#E5ECF6",
              "width": 0.5
             },
             "pattern": {
              "fillmode": "overlay",
              "size": 10,
              "solidity": 0.2
             }
            },
            "type": "barpolar"
           }
          ],
          "carpet": [
           {
            "aaxis": {
             "endlinecolor": "#2a3f5f",
             "gridcolor": "white",
             "linecolor": "white",
             "minorgridcolor": "white",
             "startlinecolor": "#2a3f5f"
            },
            "baxis": {
             "endlinecolor": "#2a3f5f",
             "gridcolor": "white",
             "linecolor": "white",
             "minorgridcolor": "white",
             "startlinecolor": "#2a3f5f"
            },
            "type": "carpet"
           }
          ],
          "choropleth": [
           {
            "colorbar": {
             "outlinewidth": 0,
             "ticks": ""
            },
            "type": "choropleth"
           }
          ],
          "contour": [
           {
            "colorbar": {
             "outlinewidth": 0,
             "ticks": ""
            },
            "colorscale": [
             [
              0,
              "#0d0887"
             ],
             [
              0.1111111111111111,
              "#46039f"
             ],
             [
              0.2222222222222222,
              "#7201a8"
             ],
             [
              0.3333333333333333,
              "#9c179e"
             ],
             [
              0.4444444444444444,
              "#bd3786"
             ],
             [
              0.5555555555555556,
              "#d8576b"
             ],
             [
              0.6666666666666666,
              "#ed7953"
             ],
             [
              0.7777777777777778,
              "#fb9f3a"
             ],
             [
              0.8888888888888888,
              "#fdca26"
             ],
             [
              1,
              "#f0f921"
             ]
            ],
            "type": "contour"
           }
          ],
          "contourcarpet": [
           {
            "colorbar": {
             "outlinewidth": 0,
             "ticks": ""
            },
            "type": "contourcarpet"
           }
          ],
          "heatmap": [
           {
            "colorbar": {
             "outlinewidth": 0,
             "ticks": ""
            },
            "colorscale": [
             [
              0,
              "#0d0887"
             ],
             [
              0.1111111111111111,
              "#46039f"
             ],
             [
              0.2222222222222222,
              "#7201a8"
             ],
             [
              0.3333333333333333,
              "#9c179e"
             ],
             [
              0.4444444444444444,
              "#bd3786"
             ],
             [
              0.5555555555555556,
              "#d8576b"
             ],
             [
              0.6666666666666666,
              "#ed7953"
             ],
             [
              0.7777777777777778,
              "#fb9f3a"
             ],
             [
              0.8888888888888888,
              "#fdca26"
             ],
             [
              1,
              "#f0f921"
             ]
            ],
            "type": "heatmap"
           }
          ],
          "heatmapgl": [
           {
            "colorbar": {
             "outlinewidth": 0,
             "ticks": ""
            },
            "colorscale": [
             [
              0,
              "#0d0887"
             ],
             [
              0.1111111111111111,
              "#46039f"
             ],
             [
              0.2222222222222222,
              "#7201a8"
             ],
             [
              0.3333333333333333,
              "#9c179e"
             ],
             [
              0.4444444444444444,
              "#bd3786"
             ],
             [
              0.5555555555555556,
              "#d8576b"
             ],
             [
              0.6666666666666666,
              "#ed7953"
             ],
             [
              0.7777777777777778,
              "#fb9f3a"
             ],
             [
              0.8888888888888888,
              "#fdca26"
             ],
             [
              1,
              "#f0f921"
             ]
            ],
            "type": "heatmapgl"
           }
          ],
          "histogram": [
           {
            "marker": {
             "pattern": {
              "fillmode": "overlay",
              "size": 10,
              "solidity": 0.2
             }
            },
            "type": "histogram"
           }
          ],
          "histogram2d": [
           {
            "colorbar": {
             "outlinewidth": 0,
             "ticks": ""
            },
            "colorscale": [
             [
              0,
              "#0d0887"
             ],
             [
              0.1111111111111111,
              "#46039f"
             ],
             [
              0.2222222222222222,
              "#7201a8"
             ],
             [
              0.3333333333333333,
              "#9c179e"
             ],
             [
              0.4444444444444444,
              "#bd3786"
             ],
             [
              0.5555555555555556,
              "#d8576b"
             ],
             [
              0.6666666666666666,
              "#ed7953"
             ],
             [
              0.7777777777777778,
              "#fb9f3a"
             ],
             [
              0.8888888888888888,
              "#fdca26"
             ],
             [
              1,
              "#f0f921"
             ]
            ],
            "type": "histogram2d"
           }
          ],
          "histogram2dcontour": [
           {
            "colorbar": {
             "outlinewidth": 0,
             "ticks": ""
            },
            "colorscale": [
             [
              0,
              "#0d0887"
             ],
             [
              0.1111111111111111,
              "#46039f"
             ],
             [
              0.2222222222222222,
              "#7201a8"
             ],
             [
              0.3333333333333333,
              "#9c179e"
             ],
             [
              0.4444444444444444,
              "#bd3786"
             ],
             [
              0.5555555555555556,
              "#d8576b"
             ],
             [
              0.6666666666666666,
              "#ed7953"
             ],
             [
              0.7777777777777778,
              "#fb9f3a"
             ],
             [
              0.8888888888888888,
              "#fdca26"
             ],
             [
              1,
              "#f0f921"
             ]
            ],
            "type": "histogram2dcontour"
           }
          ],
          "mesh3d": [
           {
            "colorbar": {
             "outlinewidth": 0,
             "ticks": ""
            },
            "type": "mesh3d"
           }
          ],
          "parcoords": [
           {
            "line": {
             "colorbar": {
              "outlinewidth": 0,
              "ticks": ""
             }
            },
            "type": "parcoords"
           }
          ],
          "pie": [
           {
            "automargin": true,
            "type": "pie"
           }
          ],
          "scatter": [
           {
            "fillpattern": {
             "fillmode": "overlay",
             "size": 10,
             "solidity": 0.2
            },
            "type": "scatter"
           }
          ],
          "scatter3d": [
           {
            "line": {
             "colorbar": {
              "outlinewidth": 0,
              "ticks": ""
             }
            },
            "marker": {
             "colorbar": {
              "outlinewidth": 0,
              "ticks": ""
             }
            },
            "type": "scatter3d"
           }
          ],
          "scattercarpet": [
           {
            "marker": {
             "colorbar": {
              "outlinewidth": 0,
              "ticks": ""
             }
            },
            "type": "scattercarpet"
           }
          ],
          "scattergeo": [
           {
            "marker": {
             "colorbar": {
              "outlinewidth": 0,
              "ticks": ""
             }
            },
            "type": "scattergeo"
           }
          ],
          "scattergl": [
           {
            "marker": {
             "colorbar": {
              "outlinewidth": 0,
              "ticks": ""
             }
            },
            "type": "scattergl"
           }
          ],
          "scattermapbox": [
           {
            "marker": {
             "colorbar": {
              "outlinewidth": 0,
              "ticks": ""
             }
            },
            "type": "scattermapbox"
           }
          ],
          "scatterpolar": [
           {
            "marker": {
             "colorbar": {
              "outlinewidth": 0,
              "ticks": ""
             }
            },
            "type": "scatterpolar"
           }
          ],
          "scatterpolargl": [
           {
            "marker": {
             "colorbar": {
              "outlinewidth": 0,
              "ticks": ""
             }
            },
            "type": "scatterpolargl"
           }
          ],
          "scatterternary": [
           {
            "marker": {
             "colorbar": {
              "outlinewidth": 0,
              "ticks": ""
             }
            },
            "type": "scatterternary"
           }
          ],
          "surface": [
           {
            "colorbar": {
             "outlinewidth": 0,
             "ticks": ""
            },
            "colorscale": [
             [
              0,
              "#0d0887"
             ],
             [
              0.1111111111111111,
              "#46039f"
             ],
             [
              0.2222222222222222,
              "#7201a8"
             ],
             [
              0.3333333333333333,
              "#9c179e"
             ],
             [
              0.4444444444444444,
              "#bd3786"
             ],
             [
              0.5555555555555556,
              "#d8576b"
             ],
             [
              0.6666666666666666,
              "#ed7953"
             ],
             [
              0.7777777777777778,
              "#fb9f3a"
             ],
             [
              0.8888888888888888,
              "#fdca26"
             ],
             [
              1,
              "#f0f921"
             ]
            ],
            "type": "surface"
           }
          ],
          "table": [
           {
            "cells": {
             "fill": {
              "color": "#EBF0F8"
             },
             "line": {
              "color": "white"
             }
            },
            "header": {
             "fill": {
              "color": "#C8D4E3"
             },
             "line": {
              "color": "white"
             }
            },
            "type": "table"
           }
          ]
         },
         "layout": {
          "annotationdefaults": {
           "arrowcolor": "#2a3f5f",
           "arrowhead": 0,
           "arrowwidth": 1
          },
          "autotypenumbers": "strict",
          "coloraxis": {
           "colorbar": {
            "outlinewidth": 0,
            "ticks": ""
           }
          },
          "colorscale": {
           "diverging": [
            [
             0,
             "#8e0152"
            ],
            [
             0.1,
             "#c51b7d"
            ],
            [
             0.2,
             "#de77ae"
            ],
            [
             0.3,
             "#f1b6da"
            ],
            [
             0.4,
             "#fde0ef"
            ],
            [
             0.5,
             "#f7f7f7"
            ],
            [
             0.6,
             "#e6f5d0"
            ],
            [
             0.7,
             "#b8e186"
            ],
            [
             0.8,
             "#7fbc41"
            ],
            [
             0.9,
             "#4d9221"
            ],
            [
             1,
             "#276419"
            ]
           ],
           "sequential": [
            [
             0,
             "#0d0887"
            ],
            [
             0.1111111111111111,
             "#46039f"
            ],
            [
             0.2222222222222222,
             "#7201a8"
            ],
            [
             0.3333333333333333,
             "#9c179e"
            ],
            [
             0.4444444444444444,
             "#bd3786"
            ],
            [
             0.5555555555555556,
             "#d8576b"
            ],
            [
             0.6666666666666666,
             "#ed7953"
            ],
            [
             0.7777777777777778,
             "#fb9f3a"
            ],
            [
             0.8888888888888888,
             "#fdca26"
            ],
            [
             1,
             "#f0f921"
            ]
           ],
           "sequentialminus": [
            [
             0,
             "#0d0887"
            ],
            [
             0.1111111111111111,
             "#46039f"
            ],
            [
             0.2222222222222222,
             "#7201a8"
            ],
            [
             0.3333333333333333,
             "#9c179e"
            ],
            [
             0.4444444444444444,
             "#bd3786"
            ],
            [
             0.5555555555555556,
             "#d8576b"
            ],
            [
             0.6666666666666666,
             "#ed7953"
            ],
            [
             0.7777777777777778,
             "#fb9f3a"
            ],
            [
             0.8888888888888888,
             "#fdca26"
            ],
            [
             1,
             "#f0f921"
            ]
           ]
          },
          "colorway": [
           "#636efa",
           "#EF553B",
           "#00cc96",
           "#ab63fa",
           "#FFA15A",
           "#19d3f3",
           "#FF6692",
           "#B6E880",
           "#FF97FF",
           "#FECB52"
          ],
          "font": {
           "color": "#2a3f5f"
          },
          "geo": {
           "bgcolor": "white",
           "lakecolor": "white",
           "landcolor": "#E5ECF6",
           "showlakes": true,
           "showland": true,
           "subunitcolor": "white"
          },
          "hoverlabel": {
           "align": "left"
          },
          "hovermode": "closest",
          "mapbox": {
           "style": "light"
          },
          "paper_bgcolor": "white",
          "plot_bgcolor": "#E5ECF6",
          "polar": {
           "angularaxis": {
            "gridcolor": "white",
            "linecolor": "white",
            "ticks": ""
           },
           "bgcolor": "#E5ECF6",
           "radialaxis": {
            "gridcolor": "white",
            "linecolor": "white",
            "ticks": ""
           }
          },
          "scene": {
           "xaxis": {
            "backgroundcolor": "#E5ECF6",
            "gridcolor": "white",
            "gridwidth": 2,
            "linecolor": "white",
            "showbackground": true,
            "ticks": "",
            "zerolinecolor": "white"
           },
           "yaxis": {
            "backgroundcolor": "#E5ECF6",
            "gridcolor": "white",
            "gridwidth": 2,
            "linecolor": "white",
            "showbackground": true,
            "ticks": "",
            "zerolinecolor": "white"
           },
           "zaxis": {
            "backgroundcolor": "#E5ECF6",
            "gridcolor": "white",
            "gridwidth": 2,
            "linecolor": "white",
            "showbackground": true,
            "ticks": "",
            "zerolinecolor": "white"
           }
          },
          "shapedefaults": {
           "line": {
            "color": "#2a3f5f"
           }
          },
          "ternary": {
           "aaxis": {
            "gridcolor": "white",
            "linecolor": "white",
            "ticks": ""
           },
           "baxis": {
            "gridcolor": "white",
            "linecolor": "white",
            "ticks": ""
           },
           "bgcolor": "#E5ECF6",
           "caxis": {
            "gridcolor": "white",
            "linecolor": "white",
            "ticks": ""
           }
          },
          "title": {
           "x": 0.05
          },
          "xaxis": {
           "automargin": true,
           "gridcolor": "white",
           "linecolor": "white",
           "ticks": "",
           "title": {
            "standoff": 15
           },
           "zerolinecolor": "white",
           "zerolinewidth": 2
          },
          "yaxis": {
           "automargin": true,
           "gridcolor": "white",
           "linecolor": "white",
           "ticks": "",
           "title": {
            "standoff": 15
           },
           "zerolinecolor": "white",
           "zerolinewidth": 2
          }
         }
        },
        "title": {
         "text": "K-means clustering on Spotify genre embeddings (PCA-reduced)"
        },
        "width": 800,
        "xaxis": {
         "maxallowed": 5.027281195251461,
         "minallowed": -5.1878005397533,
         "visible": false
        },
        "yaxis": {
         "maxallowed": 4.39256650147086,
         "minallowed": -3.9177746813766956,
         "visible": false
        }
       }
      }
     },
     "metadata": {},
     "output_type": "display_data"
    }
   ],
   "source": [
    "# Create a DataFrame for easier manipulation\n",
    "data = {\n",
    "    'x': genre_reduced_embeddings[:, 0],\n",
    "    'y': genre_reduced_embeddings[:, 1],\n",
    "    'name': genre_names,\n",
    "    'cluster': genre_cluster_labels,\n",
    "    'id': [genre for genre in genre_names]\n",
    "}\n",
    "df = pd.DataFrame(data)\n",
    "\n",
    "# Voronoi diagram\n",
    "vor = Voronoi(kmeans.cluster_centers_)\n",
    "regions, vertices = voronoi_finite_polygons_2d(vor)\n",
    "\n",
    "# Generate a unique color for each region\n",
    "def generate_color(name, factor=0.25):\n",
    "    \"\"\"Generate a pastel color for the given name.\"\"\"\n",
    "    # Generate a color based on the hash of the name\n",
    "    hash_object = hashlib.md5(name.encode())\n",
    "    hex_dig = hash_object.hexdigest()\n",
    "    base_color = [int(hex_dig[i:i+2], 16) for i in (0, 2, 4)]\n",
    "\n",
    "    # Mix the color with white\n",
    "    pastel_color = [(1 - factor) * c + factor * 255 for c in base_color]\n",
    "    pastel_color_hex = ''.join(f'{int(c):02x}' for c in pastel_color)\n",
    "\n",
    "    return '#' + pastel_color_hex\n",
    "\n",
    "# Create Plotly figure\n",
    "fig = go.Figure()\n",
    "\n",
    "# Add Voronoi regions, each with a different color\n",
    "for region, center in zip(regions, kmeans.cluster_centers_):\n",
    "    polygon = vertices[region]\n",
    "    color = generate_color(str(center))\n",
    "    fig.add_trace(go.Scatter(\n",
    "        x=polygon[:, 0],\n",
    "        y=polygon[:, 1],\n",
    "        fill=\"toself\",\n",
    "        fillcolor=color,\n",
    "        mode='lines',\n",
    "        line=dict(color='rgba(0,0,0,0)')  # No border color\n",
    "    ))\n",
    "\n",
    "# Add centroids\n",
    "fig.add_trace(go.Scatter(\n",
    "    x=kmeans.cluster_centers_[:, 0],\n",
    "    y=kmeans.cluster_centers_[:, 1],\n",
    "    mode='markers',\n",
    "    marker=dict(size=10, color='white', symbol='x'),\n",
    "    name='Centroids'\n",
    "))\n",
    "\n",
    "# Add scatter plot of points\n",
    "fig.add_trace(go.Scatter(\n",
    "    x=df['x'],\n",
    "    y=df['y'],\n",
    "    mode='markers',\n",
    "    marker=dict(color='black', size=5),\n",
    "    text=df.apply(lambda row: f\"{row['name']}\", axis=1),\n",
    "    hoverinfo='text'\n",
    "))\n",
    "\n",
    "# Update layout\n",
    "fig.update_layout(\n",
    "    title=\"K-means clustering on Spotify genre embeddings (PCA-reduced)\",\n",
    "    xaxis=dict(visible=False),\n",
    "    yaxis=dict(visible=False),\n",
    "    showlegend=False,\n",
    "    width=800,\n",
    "    height=800,\n",
    "    plot_bgcolor='rgba(0,0,0,0)'\n",
    ")\n",
    "\n",
    "fig.update_xaxes(minallowed=df['x'].min()-1, maxallowed=df['x'].max()+1)\n",
    "fig.update_yaxes(minallowed=df['y'].min()-1, maxallowed=df['y'].max()+1)\n",
    "\n",
    "# Show the plot\n",
    "fig.show()"
   ]
  }
 ],
 "metadata": {
  "kernelspec": {
   "display_name": "Python 3",
   "language": "python",
   "name": "python3"
  },
  "language_info": {
   "codemirror_mode": {
    "name": "ipython",
    "version": 3
   },
   "file_extension": ".py",
   "mimetype": "text/x-python",
   "name": "python",
   "nbconvert_exporter": "python",
   "pygments_lexer": "ipython3",
   "version": "3.11.9"
  }
 },
 "nbformat": 4,
 "nbformat_minor": 2
}
