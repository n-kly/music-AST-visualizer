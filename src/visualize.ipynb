{
 "cells": [
  {
   "cell_type": "code",
   "execution_count": 1,
   "metadata": {},
   "outputs": [],
   "source": [
    "import os\n",
    "from sklearn.cluster import KMeans\n",
    "from sklearn.decomposition import PCA\n",
    "from pinecone import Pinecone\n",
    "from dotenv import load_dotenv\n",
    "import pandas as pd\n",
    "import numpy as np\n",
    "import plotly.graph_objects as go\n",
    "from scipy.spatial import Voronoi\n",
    "import hashlib"
   ]
  },
  {
   "cell_type": "code",
   "execution_count": 2,
   "metadata": {},
   "outputs": [],
   "source": [
    "# Load environment variables\n",
    "load_dotenv()\n",
    "\n",
    "# Initialize Pinecone\n",
    "pc = Pinecone(\n",
    "    api_key=os.getenv('PINECONE_API_KEY'),\n",
    "    environment=os.getenv('PINECONE_ENVIRONMENT')\n",
    ")\n",
    "index = pc.Index('music-embeddings')"
   ]
  },
  {
   "cell_type": "code",
   "execution_count": 3,
   "metadata": {},
   "outputs": [
    {
     "name": "stdout",
     "output_type": "stream",
     "text": [
      "Total vectors in index: 651\n"
     ]
    }
   ],
   "source": [
    "# Fetch all vectors\n",
    "vector_count = index.describe_index_stats()['total_vector_count']\n",
    "print(f\"Total vectors in index: {vector_count}\")\n",
    "\n",
    "# Query to get the top k vectors\n",
    "index_arr = index.query(vector=[0 for _ in range(768)], top_k=vector_count, include_metadata=True)\n",
    "\n",
    "# Fetch the vectors using the retrieved IDs in batches\n",
    "vector_ids = [v['id'] for v in index_arr['matches']]\n",
    "batch_size = 100  # Adjust batch size as needed\n",
    "embeddings = []\n",
    "metadata = []\n",
    "\n",
    "for i in range(0, len(vector_ids), batch_size):\n",
    "    batch_ids = vector_ids[i:i + batch_size]\n",
    "    response = index.fetch(ids=batch_ids)\n",
    "    batch_embeddings = [v['values'] for v in response['vectors'].values()]\n",
    "    batch_metadata = [v['metadata'] for v in response['vectors'].values()]\n",
    "    for id_, meta in zip(batch_ids, batch_metadata):\n",
    "        meta['id'] = id_\n",
    "    embeddings.extend(batch_embeddings)\n",
    "    metadata.extend(batch_metadata)\n",
    "\n",
    "# Convert to numpy array\n",
    "embeddings = np.array(embeddings)"
   ]
  },
  {
   "cell_type": "code",
   "execution_count": 19,
   "metadata": {},
   "outputs": [],
   "source": [
    "# Credit to gmacro on stackoverflow for the foundation for this function\n",
    "def voronoi_finite_polygons_2d(vor, radius=None):\n",
    "    # Check if the input is 2D\n",
    "    if vor.points.shape[1] != 2:\n",
    "        raise ValueError(\"Requires 2D input\")\n",
    "\n",
    "    # Calculate the center of the points\n",
    "    center = vor.points.mean(axis=0)\n",
    "    if radius is None:\n",
    "        radius = vor.points.ptp().max() * 2\n",
    "\n",
    "    new_regions = []\n",
    "    new_vertices = vor.vertices.tolist()\n",
    "\n",
    "    # Construct a map containing all ridges for a given point\n",
    "    all_ridges = construct_ridge_map(vor)\n",
    "\n",
    "    # Reconstruct regions\n",
    "    for p1, region in enumerate(vor.point_region):\n",
    "        vertices = vor.regions[region]\n",
    "\n",
    "        if all(v >= 0 for v in vertices):\n",
    "            # Finite region\n",
    "            new_regions.append(vertices)\n",
    "        else:\n",
    "            # Reconstruct a non-finite region\n",
    "            new_region = reconstruct_infinite_region(p1, vertices, all_ridges, vor, center, radius, new_vertices)\n",
    "            new_regions.append(new_region)\n",
    "\n",
    "    return new_regions, np.asarray(new_vertices)\n",
    "\n",
    "def construct_ridge_map(vor):\n",
    "    all_ridges = {}\n",
    "    for (p1, p2), (v1, v2) in zip(vor.ridge_points, vor.ridge_vertices):\n",
    "        all_ridges.setdefault(p1, []).append((p2, v1, v2))\n",
    "        all_ridges.setdefault(p2, []).append((p1, v1, v2))\n",
    "    return all_ridges\n",
    "\n",
    "def reconstruct_infinite_region(p1, vertices, all_ridges, vor, center, radius, new_vertices):\n",
    "    new_region = [v for v in vertices if v >= 0]\n",
    "    for p2, v1, v2 in all_ridges[p1]:\n",
    "        if v2 < 0:\n",
    "            v1, v2 = v2, v1\n",
    "        if v1 >= 0:\n",
    "            # Finite ridge: already in the region\n",
    "            continue\n",
    "        # Compute the missing endpoint of an infinite ridge\n",
    "        far_point = compute_far_point(p1, p2, v2, vor, center, radius)\n",
    "        new_region.append(len(new_vertices))\n",
    "        new_vertices.append(far_point.tolist())\n",
    "    # Sort region counterclockwise\n",
    "    new_region = sort_region_counterclockwise(new_region, new_vertices)\n",
    "    return new_region\n",
    "\n",
    "def compute_far_point(p1, p2, v2, vor, center, radius):\n",
    "    tangent = vor.points[p2] - vor.points[p1]  # Tangent vector\n",
    "    tangent /= np.linalg.norm(tangent)\n",
    "    normal = np.array([-tangent[1], tangent[0]])  # Normal vector\n",
    "    midpoint = vor.points[[p1, p2]].mean(axis=0)\n",
    "    direction = np.sign(np.dot(midpoint - center, normal)) * normal\n",
    "    far_point = vor.vertices[v2] + direction * radius\n",
    "    return far_point\n",
    "\n",
    "def sort_region_counterclockwise(region, vertices):\n",
    "    vs = np.asarray([vertices[v] for v in region])\n",
    "    center = vs.mean(axis=0)\n",
    "    angles = np.arctan2(vs[:, 1] - center[1], vs[:, 0] - center[0])\n",
    "    sorted_region = np.array(region)[np.argsort(angles)]\n",
    "    return sorted_region.tolist()"
   ]
  },
  {
   "cell_type": "code",
   "execution_count": 17,
   "metadata": {},
   "outputs": [],
   "source": [
    "# Perform PCA\n",
    "pca = PCA(n_components=2)\n",
    "reduced_embeddings = pca.fit_transform(embeddings)\n",
    "\n",
    "# Perform K-means clustering\n",
    "n_clusters = vector_count//15  # Adjust this number as needed\n",
    "kmeans = KMeans(n_clusters=n_clusters, init=\"k-means++\", n_init=4, random_state=42)\n",
    "cluster_labels = kmeans.fit_predict(reduced_embeddings)\n",
    "\n",
    "# Prepare data for Plotly\n",
    "data = {\n",
    "    'x': reduced_embeddings[:, 0],\n",
    "    'y': reduced_embeddings[:, 1],\n",
    "    'name': [m['name'] for m in metadata],\n",
    "    'artist': [m['artist'] for m in metadata],\n",
    "    'genre': [m['genre'] for m in metadata],\n",
    "    'cluster': cluster_labels,\n",
    "    'id': [m['id'] for m in metadata]\n",
    "}\n",
    "\n",
    "# Create a DataFrame for easier manipulation\n",
    "df = pd.DataFrame(data)\n",
    "\n",
    "vor = Voronoi(kmeans.cluster_centers_)\n",
    "regions, vertices = voronoi_finite_polygons_2d(vor)"
   ]
  },
  {
   "cell_type": "code",
   "execution_count": 18,
   "metadata": {},
   "outputs": [
    {
     "data": {
      "application/vnd.plotly.v1+json": {
       "config": {
        "plotlyServerURL": "https://plot.ly"
       },
       "data": [
        {
         "fill": "toself",
         "fillcolor": "#a8a3ef",
         "line": {
          "color": "rgba(0,0,0,0)"
         },
         "mode": "lines",
         "type": "scatter",
         "x": [
          2.570902107789413,
          2.380040263548473,
          1.8373348878010218,
          1.5285336269972534,
          1.6376990042540345
         ],
         "y": [
          -1.1017269127242848,
          -1.7895459313800048,
          -1.9896024897499254,
          -1.734801218695809,
          -0.9168766358218466
         ]
        },
        {
         "fill": "toself",
         "fillcolor": "#87cb58",
         "line": {
          "color": "rgba(0,0,0,0)"
         },
         "mode": "lines",
         "type": "scatter",
         "x": [
          -23.25423674699858,
          -5.725995914418158,
          -5.726466130152504,
          -30.204567848250388,
          -81.61443967051224,
          -109.64244998193988
         ],
         "y": [
          -27.349142737294727,
          -0.7317179264445851,
          -0.6309891609349061,
          16.683198386525834,
          46.147864374829446,
          61.318796061074224
         ]
        },
        {
         "fill": "toself",
         "fillcolor": "#86ffa2",
         "line": {
          "color": "rgba(0,0,0,0)"
         },
         "mode": "lines",
         "type": "scatter",
         "x": [
          -2.21781509659421,
          -2.6389169613772863,
          -2.9251492718441963,
          -0.9760896604423357,
          -0.24197513302609697,
          -0.49234553777996753
         ],
         "y": [
          1.9490431887888229,
          2.150860448233136,
          2.732691549456323,
          4.078745772869453,
          3.7748515758052013,
          2.2177607237213905
         ]
        },
        {
         "fill": "toself",
         "fillcolor": "#ded38d",
         "line": {
          "color": "rgba(0,0,0,0)"
         },
         "mode": "lines",
         "type": "scatter",
         "x": [
          -1.2312833793167632,
          -0.6944362579345762,
          -0.6768052801354242,
          -1.773579947619437,
          -2.4006641687013985,
          -2.409172423732291,
          -1.8190183996868003
         ],
         "y": [
          -1.932152787091212,
          -1.4664000193394036,
          -0.965452387756891,
          -0.281047179398648,
          -0.5865669286955788,
          -0.9801193186275511,
          -1.829019416744475
         ]
        },
        {
         "fill": "toself",
         "fillcolor": "#ea5ea8",
         "line": {
          "color": "rgba(0,0,0,0)"
         },
         "mode": "lines",
         "type": "scatter",
         "x": [
          0.5467667405153721,
          -0.1788937580034773,
          -0.11457211427124547,
          13.004161026096154,
          3.200514418652399,
          0.669097988398249
         ],
         "y": [
          6.398734310643885,
          7.989655046492894,
          8.118738385934455,
          11.039315523811158,
          6.121683631953433,
          6.32086716045605
         ]
        },
        {
         "fill": "toself",
         "fillcolor": "#db705e",
         "line": {
          "color": "rgba(0,0,0,0)"
         },
         "mode": "lines",
         "type": "scatter",
         "x": [
          2.9045223916251657,
          2.908917533839607,
          1.1463368818874369,
          0.635258090393106,
          1.279370764928343,
          1.3394894312651116
         ],
         "y": [
          1.657851313892254,
          2.219967557581869,
          2.2793945746431366,
          1.6965891684177428,
          0.606955350047057,
          0.58143824483297
         ]
        },
        {
         "fill": "toself",
         "fillcolor": "#7c447a",
         "line": {
          "color": "rgba(0,0,0,0)"
         },
         "mode": "lines",
         "type": "scatter",
         "x": [
          1.279370764928343,
          0.635258090393106,
          0.05998054904300354,
          -0.5248610488897564,
          0.017067256688038435
         ],
         "y": [
          0.606955350047057,
          1.6965891684177428,
          1.6883593554767473,
          0.6093673413417271,
          -0.08083299494045915
         ]
        },
        {
         "fill": "toself",
         "fillcolor": "#e8f5e4",
         "line": {
          "color": "rgba(0,0,0,0)"
         },
         "mode": "lines",
         "type": "scatter",
         "x": [
          2.9301752610889733,
          1.6524344380466602,
          1.3394894312651116,
          2.9045223916251657,
          3.408375040427528,
          3.0601271867317648
         ],
         "y": [
          -0.0961312502465449,
          0.007602816437228377,
          0.58143824483297,
          1.657851313892254,
          0.6649834850704271,
          -0.01259851288120395
         ]
        },
        {
         "fill": "toself",
         "fillcolor": "#cff3fe",
         "line": {
          "color": "rgba(0,0,0,0)"
         },
         "mode": "lines",
         "type": "scatter",
         "x": [
          -2.409172423732291,
          -2.4006641687013985,
          -2.9498834051717786,
          -4.036643956073023,
          -4.173544185967202,
          -3.1714318738093565
         ],
         "y": [
          -0.9801193186275511,
          -0.5865669286955788,
          -0.20288278529631892,
          -0.9076437001722487,
          -1.4038345561832208,
          -1.6985205666013405
         ]
        },
        {
         "fill": "toself",
         "fillcolor": "#e44554",
         "line": {
          "color": "rgba(0,0,0,0)"
         },
         "mode": "lines",
         "type": "scatter",
         "x": [
          1.8040997858540992,
          4.528256689895793,
          1.8943837987315053,
          0.7987435349789678,
          0.5472669851691339,
          0.07561008186596341,
          -0.4836500275176976
         ],
         "y": [
          -36.36487821096616,
          -40.12740724210203,
          -8.365964519212532,
          -1.8877626213491585,
          -1.7382331504073645,
          -1.874570424923894,
          -4.57662989436939
         ]
        },
        {
         "fill": "toself",
         "fillcolor": "#be73ba",
         "line": {
          "color": "rgba(0,0,0,0)"
         },
         "mode": "lines",
         "type": "scatter",
         "x": [
          -0.24197513302609697,
          0.3837384282629133,
          0.669097988398249,
          0.5467667405153721,
          -1.4186598188135617,
          -0.9760896604423357
         ],
         "y": [
          3.7748515758052013,
          3.9153870511911353,
          6.32086716045605,
          6.398734310643885,
          5.373925533456381,
          4.078745772869453
         ]
        },
        {
         "fill": "toself",
         "fillcolor": "#9c81a3",
         "line": {
          "color": "rgba(0,0,0,0)"
         },
         "mode": "lines",
         "type": "scatter",
         "x": [
          -6.784634490167008,
          -3.8496240834215847,
          -2.050406868317414,
          -3.087704831787421,
          -81.61443967051224,
          -30.204567848250388
         ],
         "y": [
          3.9827726193011594,
          3.3500149509675046,
          5.702295476005638,
          7.541704419810045,
          46.147864374829446,
          16.683198386525834
         ]
        },
        {
         "fill": "toself",
         "fillcolor": "#6995c6",
         "line": {
          "color": "rgba(0,0,0,0)"
         },
         "mode": "lines",
         "type": "scatter",
         "x": [
          -2.6389169613772863,
          -3.328483139964523,
          -4.828432332711359,
          -6.784634490167008,
          -3.8496240834215847,
          -2.9251492718441963
         ],
         "y": [
          2.150860448233136,
          0.6668707647115636,
          0.48622396636145837,
          3.9827726193011594,
          3.3500149509675046,
          2.732691549456323
         ]
        },
        {
         "fill": "toself",
         "fillcolor": "#cdba94",
         "line": {
          "color": "rgba(0,0,0,0)"
         },
         "mode": "lines",
         "type": "scatter",
         "x": [
          18.132850087903392,
          48.43764757812406,
          16.70227013048043,
          3.8137995760628742,
          3.3668706000707114,
          3.569932020133786
         ],
         "y": [
          -31.083388172945867,
          -4.105308618541617,
          -1.1740378187361722,
          -0.9046712180159033,
          -1.4557051644133927,
          -2.7347030606231133
         ]
        },
        {
         "fill": "toself",
         "fillcolor": "#faa643",
         "line": {
          "color": "rgba(0,0,0,0)"
         },
         "mode": "lines",
         "type": "scatter",
         "x": [
          0.00836704277742728,
          -0.6768052801354242,
          -0.6944362579345762,
          0.07561008186596341,
          0.5472669851691339,
          0.635549788496645
         ],
         "y": [
          -0.33033883566856515,
          -0.965452387756891,
          -1.4664000193394036,
          -1.874570424923894,
          -1.7382331504073645,
          -0.8625048901887786
         ]
        },
        {
         "fill": "toself",
         "fillcolor": "#5d4665",
         "line": {
          "color": "rgba(0,0,0,0)"
         },
         "mode": "lines",
         "type": "scatter",
         "x": [
          -3.087704831787421,
          -0.1788937580034773,
          -0.11457211427124547,
          -1.0360430616451493,
          -109.64244998193988,
          -81.61443967051224
         ],
         "y": [
          7.541704419810045,
          7.989655046492894,
          8.118738385934455,
          39.97587921086327,
          61.318796061074224,
          46.147864374829446
         ]
        },
        {
         "fill": "toself",
         "fillcolor": "#e754e6",
         "line": {
          "color": "rgba(0,0,0,0)"
         },
         "mode": "lines",
         "type": "scatter",
         "x": [
          -1.3328433054397466,
          -2.21781509659421,
          -2.6389169613772863,
          -3.328483139964523,
          -2.9498834051717786,
          -2.4006641687013985,
          -1.773579947619437
         ],
         "y": [
          0.5916112467683308,
          1.9490431887888229,
          2.150860448233136,
          0.6668707647115636,
          -0.20288278529631892,
          -0.5865669286955788,
          -0.281047179398648
         ]
        },
        {
         "fill": "toself",
         "fillcolor": "#b4919e",
         "line": {
          "color": "rgba(0,0,0,0)"
         },
         "mode": "lines",
         "type": "scatter",
         "x": [
          -40.05621393400325,
          -32.24450744924905,
          -4.434660862825964,
          -5.725995914418158,
          -23.25423674699858
         ],
         "y": [
          -146.66014821994472,
          -115.76186716674938,
          -1.6040719061137176,
          -0.7317179264445851,
          -27.349142737294727
         ]
        },
        {
         "fill": "toself",
         "fillcolor": "#c648e7",
         "line": {
          "color": "rgba(0,0,0,0)"
         },
         "mode": "lines",
         "type": "scatter",
         "x": [
          3.200514418652399,
          2.22535195236654,
          3.0009799818771903,
          33.21901096106924,
          42.34941267198339,
          13.004161026096154
         ],
         "y": [
          6.121683631953433,
          4.125202889233047,
          2.369031984169726,
          12.498056319553172,
          23.472446106482327,
          11.039315523811158
         ]
        },
        {
         "fill": "toself",
         "fillcolor": "#f36956",
         "line": {
          "color": "rgba(0,0,0,0)"
         },
         "mode": "lines",
         "type": "scatter",
         "x": [
          1.5285336269972534,
          0.7987435349789678,
          1.8943837987315053,
          1.8373348878010218
         ],
         "y": [
          -1.734801218695809,
          -1.8877626213491585,
          -8.365964519212532,
          -1.9896024897499254
         ]
        },
        {
         "fill": "toself",
         "fillcolor": "#50a2f6",
         "line": {
          "color": "rgba(0,0,0,0)"
         },
         "mode": "lines",
         "type": "scatter",
         "x": [
          0.05998054904300354,
          0.635258090393106,
          1.1463368818874369,
          0.7300361872149963,
          0.3837384282629133,
          -0.24197513302609697,
          -0.49234553777996753
         ],
         "y": [
          1.6883593554767473,
          1.6965891684177428,
          2.2793945746431366,
          3.769566618323598,
          3.9153870511911353,
          3.7748515758052013,
          2.2177607237213905
         ]
        },
        {
         "fill": "toself",
         "fillcolor": "#a2d560",
         "line": {
          "color": "rgba(0,0,0,0)"
         },
         "mode": "lines",
         "type": "scatter",
         "x": [
          -32.24450744924905,
          -40.05621393400325,
          1.8040997858540992,
          -0.4836500275176976,
          -1.2312833793167632,
          -1.8190183996868003,
          -2.948945913988945
         ],
         "y": [
          -115.76186716674938,
          -146.66014821994472,
          -36.36487821096616,
          -4.57662989436939,
          -1.932152787091212,
          -1.829019416744475,
          -3.3580999934164337
         ]
        },
        {
         "fill": "toself",
         "fillcolor": "#fdf6f6",
         "line": {
          "color": "rgba(0,0,0,0)"
         },
         "mode": "lines",
         "type": "scatter",
         "x": [
          -1.3328433054397466,
          -2.21781509659421,
          -0.49234553777996753,
          0.05998054904300354,
          -0.5248610488897564
         ],
         "y": [
          0.5916112467683308,
          1.9490431887888229,
          2.2177607237213905,
          1.6883593554767473,
          0.6093673413417271
         ]
        },
        {
         "fill": "toself",
         "fillcolor": "#f0e5ba",
         "line": {
          "color": "rgba(0,0,0,0)"
         },
         "mode": "lines",
         "type": "scatter",
         "x": [
          3.0601271867317648,
          3.8137995760628742,
          16.70227013048043,
          3.408375040427528
         ],
         "y": [
          -0.01259851288120395,
          -0.9046712180159033,
          -1.1740378187361722,
          0.6649834850704271
         ]
        },
        {
         "fill": "toself",
         "fillcolor": "#f98dc7",
         "line": {
          "color": "rgba(0,0,0,0)"
         },
         "mode": "lines",
         "type": "scatter",
         "x": [
          0.5467667405153721,
          -0.1788937580034773,
          -3.087704831787421,
          -2.050406868317414,
          -1.4186598188135617
         ],
         "y": [
          6.398734310643885,
          7.989655046492894,
          7.541704419810045,
          5.702295476005638,
          5.373925533456381
         ]
        },
        {
         "fill": "toself",
         "fillcolor": "#c7ddce",
         "line": {
          "color": "rgba(0,0,0,0)"
         },
         "mode": "lines",
         "type": "scatter",
         "x": [
          -4.8755122245579745,
          -4.036643956073023,
          -2.9498834051717786,
          -3.328483139964523,
          -4.828432332711359
         ],
         "y": [
          0.328966933131435,
          -0.9076437001722487,
          -0.20288278529631892,
          0.6668707647115636,
          0.48622396636145837
         ]
        },
        {
         "fill": "toself",
         "fillcolor": "#c575c7",
         "line": {
          "color": "rgba(0,0,0,0)"
         },
         "mode": "lines",
         "type": "scatter",
         "x": [
          0.017067256688038435,
          -0.5248610488897564,
          -1.3328433054397466,
          -1.773579947619437,
          -0.6768052801354242,
          0.00836704277742728
         ],
         "y": [
          -0.08083299494045915,
          0.6093673413417271,
          0.5916112467683308,
          -0.281047179398648,
          -0.965452387756891,
          -0.33033883566856515
         ]
        },
        {
         "fill": "toself",
         "fillcolor": "#8bbf9f",
         "line": {
          "color": "rgba(0,0,0,0)"
         },
         "mode": "lines",
         "type": "scatter",
         "x": [
          1.4778246851501438,
          0.635549788496645,
          0.5472669851691339,
          0.7987435349789678,
          1.5285336269972534,
          1.6376990042540345
         ],
         "y": [
          -0.6702192764674717,
          -0.8625048901887786,
          -1.7382331504073645,
          -1.8877626213491585,
          -1.734801218695809,
          -0.9168766358218466
         ]
        },
        {
         "fill": "toself",
         "fillcolor": "#95e98f",
         "line": {
          "color": "rgba(0,0,0,0)"
         },
         "mode": "lines",
         "type": "scatter",
         "x": [
          -32.24450744924905,
          -4.434660862825964,
          -4.173544185967202,
          -3.1714318738093565,
          -2.948945913988945
         ],
         "y": [
          -115.76186716674938,
          -1.6040719061137176,
          -1.4038345561832208,
          -1.6985205666013405,
          -3.3580999934164337
         ]
        },
        {
         "fill": "toself",
         "fillcolor": "#b553ae",
         "line": {
          "color": "rgba(0,0,0,0)"
         },
         "mode": "lines",
         "type": "scatter",
         "x": [
          2.570902107789413,
          2.380040263548473,
          3.569932020133786,
          3.3668706000707114,
          2.6127738091361485
         ],
         "y": [
          -1.1017269127242848,
          -1.7895459313800048,
          -2.7347030606231133,
          -1.4557051644133927,
          -1.075779429077481
         ]
        },
        {
         "fill": "toself",
         "fillcolor": "#a57069",
         "line": {
          "color": "rgba(0,0,0,0)"
         },
         "mode": "lines",
         "type": "scatter",
         "x": [
          1.6524344380466602,
          1.4778246851501438,
          0.635549788496645,
          0.00836704277742728,
          0.017067256688038435,
          1.279370764928343,
          1.3394894312651116
         ],
         "y": [
          0.007602816437228377,
          -0.6702192764674717,
          -0.8625048901887786,
          -0.33033883566856515,
          -0.08083299494045915,
          0.606955350047057,
          0.58143824483297
         ]
        },
        {
         "fill": "toself",
         "fillcolor": "#c3af4b",
         "line": {
          "color": "rgba(0,0,0,0)"
         },
         "mode": "lines",
         "type": "scatter",
         "x": [
          0.7300361872149963,
          2.22535195236654,
          3.200514418652399,
          0.669097988398249,
          0.3837384282629133
         ],
         "y": [
          3.769566618323598,
          4.125202889233047,
          6.121683631953433,
          6.32086716045605,
          3.9153870511911353
         ]
        },
        {
         "fill": "toself",
         "fillcolor": "#e0f98e",
         "line": {
          "color": "rgba(0,0,0,0)"
         },
         "mode": "lines",
         "type": "scatter",
         "x": [
          2.9045223916251657,
          3.408375040427528,
          16.70227013048043,
          48.43764757812406,
          33.21901096106924,
          3.0009799818771903,
          2.908917533839607
         ],
         "y": [
          1.657851313892254,
          0.6649834850704271,
          -1.1740378187361722,
          -4.105308618541617,
          12.498056319553172,
          2.369031984169726,
          2.219967557581869
         ]
        },
        {
         "fill": "toself",
         "fillcolor": "#cf6ec8",
         "line": {
          "color": "rgba(0,0,0,0)"
         },
         "mode": "lines",
         "type": "scatter",
         "x": [
          -2.948945913988945,
          -3.1714318738093565,
          -2.409172423732291,
          -1.8190183996868003
         ],
         "y": [
          -3.3580999934164337,
          -1.6985205666013405,
          -0.9801193186275511,
          -1.829019416744475
         ]
        },
        {
         "fill": "toself",
         "fillcolor": "#d49ff1",
         "line": {
          "color": "rgba(0,0,0,0)"
         },
         "mode": "lines",
         "type": "scatter",
         "x": [
          -4.8755122245579745,
          -5.726466130152504,
          -30.204567848250388,
          -6.784634490167008,
          -4.828432332711359
         ],
         "y": [
          0.328966933131435,
          -0.6309891609349061,
          16.683198386525834,
          3.9827726193011594,
          0.48622396636145837
         ]
        },
        {
         "fill": "toself",
         "fillcolor": "#cc9484",
         "line": {
          "color": "rgba(0,0,0,0)"
         },
         "mode": "lines",
         "type": "scatter",
         "x": [
          -2.9251492718441963,
          -3.8496240834215847,
          -2.050406868317414,
          -1.4186598188135617,
          -0.9760896604423357
         ],
         "y": [
          2.732691549456323,
          3.3500149509675046,
          5.702295476005638,
          5.373925533456381,
          4.078745772869453
         ]
        },
        {
         "fill": "toself",
         "fillcolor": "#bec063",
         "line": {
          "color": "rgba(0,0,0,0)"
         },
         "mode": "lines",
         "type": "scatter",
         "x": [
          -0.4836500275176976,
          0.07561008186596341,
          -0.6944362579345762,
          -1.2312833793167632
         ],
         "y": [
          -4.57662989436939,
          -1.874570424923894,
          -1.4664000193394036,
          -1.932152787091212
         ]
        },
        {
         "fill": "toself",
         "fillcolor": "#bcb77e",
         "line": {
          "color": "rgba(0,0,0,0)"
         },
         "mode": "lines",
         "type": "scatter",
         "x": [
          2.9301752610889733,
          2.6127738091361485,
          2.570902107789413,
          1.6376990042540345,
          1.4778246851501438,
          1.6524344380466602
         ],
         "y": [
          -0.0961312502465449,
          -1.075779429077481,
          -1.1017269127242848,
          -0.9168766358218466,
          -0.6702192764674717,
          0.007602816437228377
         ]
        },
        {
         "fill": "toself",
         "fillcolor": "#7b72ae",
         "line": {
          "color": "rgba(0,0,0,0)"
         },
         "mode": "lines",
         "type": "scatter",
         "x": [
          2.9301752610889733,
          2.6127738091361485,
          3.3668706000707114,
          3.8137995760628742,
          3.0601271867317648
         ],
         "y": [
          -0.0961312502465449,
          -1.075779429077481,
          -1.4557051644133927,
          -0.9046712180159033,
          -0.01259851288120395
         ]
        },
        {
         "fill": "toself",
         "fillcolor": "#e8defd",
         "line": {
          "color": "rgba(0,0,0,0)"
         },
         "mode": "lines",
         "type": "scatter",
         "x": [
          -4.8755122245579745,
          -5.726466130152504,
          -5.725995914418158,
          -4.434660862825964,
          -4.173544185967202,
          -4.036643956073023
         ],
         "y": [
          0.328966933131435,
          -0.6309891609349061,
          -0.7317179264445851,
          -1.6040719061137176,
          -1.4038345561832208,
          -0.9076437001722487
         ]
        },
        {
         "fill": "toself",
         "fillcolor": "#a1e74d",
         "line": {
          "color": "rgba(0,0,0,0)"
         },
         "mode": "lines",
         "type": "scatter",
         "x": [
          1.1463368818874369,
          2.908917533839607,
          3.0009799818771903,
          2.22535195236654,
          0.7300361872149963
         ],
         "y": [
          2.2793945746431366,
          2.219967557581869,
          2.369031984169726,
          4.125202889233047,
          3.769566618323598
         ]
        },
        {
         "fill": "toself",
         "fillcolor": "#9e55fe",
         "line": {
          "color": "rgba(0,0,0,0)"
         },
         "mode": "lines",
         "type": "scatter",
         "x": [
          -0.11457211427124547,
          13.004161026096154,
          42.34941267198339,
          -1.0360430616451493
         ],
         "y": [
          8.118738385934455,
          11.039315523811158,
          23.472446106482327,
          39.97587921086327
         ]
        },
        {
         "fill": "toself",
         "fillcolor": "#ebadbf",
         "line": {
          "color": "rgba(0,0,0,0)"
         },
         "mode": "lines",
         "type": "scatter",
         "x": [
          4.528256689895793,
          18.132850087903392,
          3.569932020133786,
          2.380040263548473,
          1.8373348878010218,
          1.8943837987315053
         ],
         "y": [
          -40.12740724210203,
          -31.083388172945867,
          -2.7347030606231133,
          -1.7895459313800048,
          -1.9896024897499254,
          -8.365964519212532
         ]
        },
        {
         "hoverinfo": "text",
         "marker": {
          "color": "black",
          "size": 5
         },
         "mode": "markers",
         "text": [
          "EU SOU SENTIMENTO by Luan Santana",
          "La Víctima by Xavi",
          "Plastic Love by Mariya Takeuchi",
          "Vienna by Billy Joel",
          "Who by Jimin",
          "Sweater Weather by The Neighbourhood",
          "misses by Dominic Fike",
          "Beyond the Sea by Bobby Darin",
          "CUBA Remix by Johnny Hooker",
          "Like Crazy by Jimin",
          "Lovin On Me by Jack Harlow",
          "Boogie Wonderland by Earth, Wind & Fire",
          "Get Lost In The Mind's Ocean by eugenio izzi",
          "How to Save a Life by The Fray",
          "Megitsune by BABYMETAL",
          "Stayed Gone by Christian Borle",
          "Fuera Fuera by LA INDIA",
          "Digitando by Gustavo Moura & Rafael",
          "Tuyo (Narcos Theme) - A Netflix Original Series Soundtrack by Rodrigo Amarante",
          "Beautiful Things by Benson Boone",
          "Persona Ideal - Me Tengo Que Ir by Adolescent's Orquesta",
          "PERRO NEGRO by Bad Bunny",
          "Everyone Falls in Love by Tanto Metro & Devonte",
          "Come Out and Play by The Offspring",
          "Me Porto Bonito by Bad Bunny",
          "Vivir Mi Vida by Marc Anthony",
          "I'm A Little Teapot by The Paul O'Brien All Stars Band",
          "Crash into Me by Dave Matthews Band",
          "Like Crazy by Jimin",
          "2 Step on My Haters by Cupid",
          "Rust Coat by Spencer Hunt",
          "Amigo by Roberto Carlos",
          "KARATE by BABYMETAL",
          "Cornbread & Greens (feat. Big Pokey) by Cupid",
          "遺憾 by Abin Fang",
          "Answer (ABGT587) - Mixed by Dosem",
          "TICTAC by CAPSULE",
          "Friend of the Devil by Grateful Dead",
          "Headbangeeeeerrrrr!!!!! by BABYMETAL",
          "童話 by Michael Wong",
          "Gata Only by FloyyMenor",
          "Virgen by Adolescent's Orquesta",
          "BxMxC by BABYMETAL",
          "在加納共和國離婚 by Firdhaus",
          "How Sweet by NewJeans",
          "Once Upon a December (from Anastasia) by Emile Pandolfi",
          "Fix My Eyes by for KING & COUNTRY",
          "Michael by luv pug",
          "PA PA YA!! by BABYMETAL",
          "SPECIALZ by King Gnu",
          "God Only Knows by for KING & COUNTRY",
          "Alô Amor by Wesley Safadão",
          "A Million Dreams by Ziv Zaifman",
          "A Bar Song (Tipsy) by Shaboozey",
          "TWIST & TURN (feat. Drake & PARTYNEXTDOOR) by Popcaan",
          "Go Down Deh (feat. Sean Paul & Shaggy) by Spice",
          "Go Down Deh (feat. Sean Paul & Shaggy) by Spice",
          "Ninguém Sabe by Wesley Safadão",
          "2055 by Sleepy Hallow",
          "Belong Together by Mark Ambor",
          "con leche by Camden Clown",
          "Dreams - 2004 Remaster by Fleetwood Mac",
          "Anestesiado - Ao Vivo by Murilo Huff",
          "Infinitya by X-Genie",
          "Fever by Vybz Kartel",
          "a story once told by idylla",
          "Rolling Ocean Waves by Ocean Waves For Sleep",
          "Standing Next to You by Jung Kook",
          "Feeling Good by Michael Bublé",
          "Suavemente by Elvis Crespo",
          "小情歌 by sodagreen",
          "You'll Be Back by Jonathan Groff",
          "Gyal You a Party Animal by Charly Black",
          "ADIVINO by Myke Towers",
          "Just the Two of Us (feat. Bill Withers) by Grover Washington, Jr.",
          "El Gato Que Está Triste y Azul - Un Gato Nel Blu by Roberto Carlos",
          "Detalles (Detalhes) by Roberto Carlos",
          "Burn The Ships by for KING & COUNTRY",
          "Gimme Chocolate!! by BABYMETAL",
          "Uptown Girl by Billy Joel",
          "Chop Suey! by System Of A Down",
          "不為誰而作的歌 by JJ Lin",
          "Let's Groove by Earth, Wind & Fire",
          "Alexander Hamilton by Leslie Odom Jr.",
          "LA PATRULLA by Peso Pluma",
          "RATATATA by BABYMETAL",
          "Self Esteem by The Offspring",
          "LADY GAGA by Peso Pluma",
          "Corazón de Piedra by Xavi",
          "Un Desperdicio by Rels B",
          "Me Caiu Tão Bem - Ao Vivo by Murilo Huff",
          "La Bebe - Remix by Yng Lvcas",
          "The Other Side by Hugh Jackman",
          "Fine Fine Baby (with Kah-Lo) by Jamie Jones",
          "METALI!! - feat. Tom Morello by BABYMETAL",
          "same dream by sozin",
          "Smeraldo Garden Marching Band (feat. Loco) by Jimin",
          "Yo No Sé Mañana by Luis Enrique",
          "For God Is With Us by for KING & COUNTRY",
          "Again by Fetty Wap",
          "Waltz No.2 by Cihat Aşkın",
          "6 Underground by Sneaker Pimps",
          "Wild Ones (feat. Jelly Roll) by Jessie Murph",
          "Be My Baby by The Ronettes",
          "Satisfied by Renée Elise Goldsberry",
          "Playground Love by Air",
          "Şımarık by Tarkan",
          "Magnetic by ILLIT",
          "A Mulher Mais Foda do Brasil - Ao Vivo by Márcia Fellipe",
          "Envolver by Anitta",
          "Я спросил у ясеня by Sergey Nikitin",
          "For What It's Worth by Buffalo Springfield",
          "Envolver by Anitta",
          "Suspicious Minds by Elvis Presley",
          "Jailhouse Rock by Elvis Presley",
          "Pehle Bhi Main by Vishal Mishra",
          "Downtown by Anitta",
          "Happier by Marshmello",
          "Tiroteo - Remix by Marc Seguí",
          "Dedo do Meio - Ao Vivo by Murilo Huff",
          "Ivy by Frank Ocean",
          "White Noise Sleeping Aid to Help My Baby Fall Asleep, Sleep Through the Night by White Noise Baby Sleep",
          "We Belong Together by Ritchie Valens",
          "Brown Sleep Noise by Sleep Miracle",
          "Por una Cabeza by Carlos Gardel",
          "Wait for It by Leslie Odom Jr.",
          "Oh, Pretty Woman by Roy Orbison",
          "Зеленая карета by Elena Kamburova",
          "Heeriye (feat. Arijit Singh) by Jasleen Royal",
          "14 минут до старта - Я верю, друзья by Vladimir Troshin",
          "Lay Low by Tiësto",
          "El Sol No Regresa by La Quinta Estacion",
          "You Raise Me Up by Josh Groban",
          "Wind Brought by Evgeny Grinko",
          "Nobody Speak by DJ Shadow",
          "Too Sweet by Hozier",
          "The Motto by Tiësto",
          "Calm World by Little Circuits",
          "Feel So Close - Radio Edit by Calvin Harris",
          "Black Hole by We Came As Romans",
          "No Flockin' by Kodak Black",
          "Stargazing by Myles Smith",
          "cómo dormiste? by Rels B",
          "Que Sera by Wax Tailor",
          "Pop See Ko by Koo Koo",
          "Old Feelings by slowburn",
          "Beautiful Things by Benson Boone",
          "Tango to Evora by Conjunto Berretin",
          "10:35 by Tiësto",
          "Miles On It by Marshmello",
          "Три товарища - Remastered by Maya Kristalinskaya",
          "Baby Shark Breakbeat by Dede Sabunge",
          "Slow It Down by Benson Boone",
          "Get Yo Body Movin' by Koo Koo",
          "Rockstar by Ilkay Sencan",
          "M. by Anıl Emre Daldal",
          "Tere Vaaste (From \"Zara Hatke Zara Bachke\") by Sachin-Jigar",
          "Burning Love by Elvis Presley",
          "Never Let Go by Jung Kook",
          "Katja, Katja by Pyotr Leshchenko",
          "Freaks by Surf Curse",
          "You Wish by Nightmares On Wax",
          "A Cerveja Abre Sozinha - Ao Vivo by Murilo Huff",
          "Silence by Marshmello",
          "Hass Hass by Diljit Dosanjh",
          "The Business by Tiësto",
          "Rich Girl by Daryl Hall & John Oates",
          "Born to Shine by Diljit Dosanjh",
          "Rockstar by LISA",
          "能遇見，就很不錯了 by Firdhaus",
          "Naina (From \"Crew\") by Diljit Dosanjh",
          "Эти глаза напротив by Valery Obodzinsky",
          "See You Tomorrow by Evgeny Grinko",
          "Son of a Preacher Man by Dusty Springfield",
          "One Kiss (with Dua Lipa) by Calvin Harris",
          "A Mí by Rels B",
          "This Is What You Came For by Calvin Harris",
          "La Câlin by Serhat Durmus",
          "Hips Don't Lie (feat. Wyclef Jean) by Shakira",
          "September by Earth, Wind & Fire",
          "A Day Without Rain by Enya",
          "December, 1963 (Oh What a Night!) by Frankie Valli & The Four Seasons",
          "Эти Глаза Напротив by Valery Obodzinsky",
          "Can't Help Falling in Love by Elvis Presley",
          "Take on Me by a-ha",
          "M. - Sped Up Version by Anıl Emre Daldal",
          "Box Fan Sound by Tmsoft’s White Noise Sleep Sounds",
          "Devuélveme a mi chica by Hombres G",
          "Prologue by Evgeny Grinko",
          "Scent of a Woman: Tango (Por Una Cabeza) by Carlos Gardel",
          "Slide (feat. Frank Ocean & Migos) by Calvin Harris",
          "Rosas by La Oreja de Van Gogh",
          "Colgando en tus manos (con Marta Sánchez) by Carlos Baute",
          "Cigarette Daydreams by Cage The Elephant",
          "Only Time by Enya",
          "Soni Soni (From \"Ishq Vishk Rebound\") by Darshan Raval",
          "Your Innocent Eyes by Pierson Booth",
          "Brown Eyed Girl by Van Morrison",
          "SURVIVOR by Umur Anil Gokdag",
          "Péssima Hora - Ao Vivo by Jefferson Moraes",
          "You Are the Best Thing by Ray LaMontagne",
          "Cupid Shuffle by Cupid",
          "Love Me JeJe by Tems",
          "Flex by Cupid",
          "Sun//Eater by Lorna Shore",
          "Hard Travelin' by Watchhouse",
          "Daylight by Watchhouse",
          "Just What I Needed by The Cars",
          "Brought The Heat Back by ENHYPEN",
          "Que Onda by Calle 24",
          "Hungry Like the Wolf - 2009 Remaster by Duran Duran",
          "Seven Nation Army by The White Stripes",
          "Too Sweet by Hozier",
          "Poison Tree by Grouper",
          "Everytime We Touch by Cascada",
          "Falling Blue Stars by Sal Lastra",
          "La Grange (2005 Remaster) by ZZ Top",
          "Dust in a Baggie by Billy Strings",
          "Heavenly by Cigarettes After Sex",
          "X's by Cigarettes After Sex",
          "If I Ain't Got You by Alicia Keys",
          "Essence (feat. Tems) by Wizkid",
          "Love Song by Sara Bareilles",
          "Sweet by Cigarettes After Sex",
          "HARLEY QUINN by Fuerza Regida",
          "When I Come Around by Green Day",
          "I'm Yours by Jason Mraz",
          "Paranormal by ENHYPEN",
          "Your Eyes Only by ENHYPEN",
          "Flex (Remix) by Cupid",
          "Free Mind by Tems",
          "XO (Only If You Say Yes) by ENHYPEN",
          "Sweet Dreams (Are Made of This) - Remastered by Eurythmics",
          "Toda Mi Vida by Gotan Project",
          "Fatal Trouble by ENHYPEN",
          "TÚ NAME by Fuerza Regida",
          "Of the Abyss by Lorna Shore",
          "Moonstruck by ENHYPEN",
          "Casper Cha-Cha Slide (Live Platinum Band) by Casper & Col'ta",
          "Pain Remains II: After All I've Done, I'll Disappear by Lorna Shore",
          "Y LLORO by Junior H",
          "Give It To Me - Full Vocal Mix by Matt Sassari",
          "Oblivion by Astor Piazzolla",
          "Epitaph by Make Them Suffer",
          "Animálico by Huma",
          "Omen by The Prodigy",
          "Doomswitch by Make Them Suffer",
          "Kaikai Kitan by Eve",
          "Let's Stay Together by Al Green",
          "Running Up That Hill (A Deal With God) by Kate Bush",
          "Cry by Cigarettes After Sex",
          "Nasty by Tinashe",
          "Tuyo (Narcos Theme) [Extended Version] - A Netflix Original Series Soundtrack by Rodrigo Amarante",
          "Chicken Dance by Electric Slide Music Makers",
          "Stand By Me by Ben E. King",
          "Volver by Carlos Gardel",
          "Baianá by Barbatuques",
          "Evergreen by Richy Mitch & The Coal Miners",
          "Erase Me by Make Them Suffer",
          "American Boy by Estelle",
          "People by Libianca",
          "The Chicken Dance by Chicken Dance",
          "4:00A.M. by Taeko Onuki",
          "Anchor by Novo Amor",
          "Am I Wrong by Nico & Vinz",
          "10:35 by Tiësto",
          "Pumped Up Kicks by Foster The People",
          "Hundred Broken Hearts by ENHYPEN",
          "Café 1930 by Astor Piazzolla",
          "Doo Wop (That Thing) by Ms. Lauryn Hill",
          "Si No Quieres No by Luis R Conriquez",
          "Летний дождь by Igor Talkov",
          "Katyusha by Georgi Vinogradov",
          "Piazzolla: Oblivion by Astor Piazzolla",
          "K. by Cigarettes After Sex",
          "Não é Exagero - Ao Vivo by Kamisa 10",
          "Auguries by De Seu",
          "Be My Lover by La Bouche",
          "Любовь - волшебная страна by Valentina Ponomaryova",
          "I'm Yours by Jason Mraz",
          "Sunsetz by Cigarettes After Sex",
          "love nwantiti (ah ah ah) by CKay",
          "Flex by Cupid",
          "La Diabla by Xavi",
          "Ain't No Rest for the Wicked by Cage The Elephant",
          "Old Ties and Companions by Watchhouse",
          "The Motto by Tiësto",
          "Wagon Wheel by Old Crow Medicine Show",
          "I Choose You by The Steeldrivers",
          "Free Fall (feat. J. Cole) by Tems",
          "Bite Me by ENHYPEN",
          "Pain Remains I: Dancing Like Flames by Lorna Shore",
          "Apocalypse by Cigarettes After Sex",
          "Higher by Tems",
          "Sharp Dressed Man (2008 Remaster) by ZZ Top",
          "Present by Lloyd Vaan",
          "The Business by Tiësto",
          "Imagination by Nova Issue",
          "Drifting by Tiësto",
          "My Meds Aren't Working by Dystopia",
          "Patadas de Ahogado / LATÍN MAFIA, HUMBE - Rework by HUGEL",
          "Ick by Lay Bankz",
          "28 by Zach Bryan",
          "Let Me Leave by Currents",
          "海闊天空 by Beyond",
          "Head, Shoulders, Knees and Toes by Mother Goose Club",
          "Bluey Theme Tune - Extended by Bluey",
          "Firestarter by The Prodigy",
          "Ye by Burna Boy",
          "Na Na Na by Lay Bankz",
          "Get Busy by Sean Paul",
          "The Finger Family (Daddy Finger) by Muffin Songs",
          "Another Love by Tom Odell",
          "5 Little Monkeys by The Little Sunshine Kids",
          "Voodoo People - Pendulum Mix by The Prodigy",
          "Something in the Orange by Zach Bryan",
          "I Remember Everything (feat. Kacey Musgraves) by Zach Bryan",
          "Doses & Mimosas (Vintage Culture & Zerky Remix) - Radio Edit by Vintage Culture",
          "Halcyon and On and On by Orbital",
          "Rolling in the Deep by Adele",
          "Brighter Days - Marco Lys Remix by Cajmere",
          "Someone Like You by Adele",
          "Molly (feat. Brendon Urie of Panic at the Disco) by Lil Dicky",
          "Sloppy Seconds (Ick Pt. 2) by Lay Bankz",
          "It's That Time - FISHER Remix by Marlon Hoffstadt",
          "Dinosaur Stomp by Mother Goose Club",
          "Miracle Maker by Dom Dolla",
          "Breathe by The Prodigy",
          "Honey Boy (feat. Nile Rodgers & Shenseea) by Purple Disco Machine",
          "Cracks - Flux Pavilion Remix by Freestylers",
          "City Boys by Burna Boy",
          "Heading South by Zach Bryan",
          "Gymnopédie No. 1 by Erik Satie",
          "Bam Bam by Sister Nancy",
          "Everyday Normal Guy 2 by Jon Lajoie",
          "Better Days by Currents",
          "Move Your Body by Öwnboss",
          "Eat Your Man (with Nelly Furtado) by Dom Dolla",
          "Locked out of Heaven by Bruno Mars",
          "Fundip by Beatdemons",
          "Ick by Lay Bankz",
          "Sun to Me by Zach Bryan",
          "Smack My Bitch Up by The Prodigy",
          "Higher by Burna Boy",
          "Roots Bloody Roots by Sepultura",
          "You Give Me A Feeling by Vintage Culture",
          "Like This Before (Tony Arzadon remix) by Aaron Smith",
          "Lost in the Fire (feat. The Weeknd) by Gesaffelstein",
          "Amish Paradise (Parody of \"Gangsta's Paradise\" by Coolio) by \"Weird Al\" Yankovic",
          "Get Get Down by Paul Johnson",
          "Lose Control by James Hype",
          "Tell Ur Girlfriend by Lay Bankz",
          "Dance Mode by Bluey",
          "One Little Finger by Super Simple Songs",
          "Twinkle Twinkle Little Star by Super Simple Songs",
          "paranoia by KENTENSHI",
          "Percolator - Original Mix by Cajmere",
          "Repentless by Slayer",
          "Baby Shark by Pinkfong",
          "Dancin (feat. Luvli) - Krono Remix by Aaron Smith",
          "Fire for You by Cannons",
          "$ave Dat Money (feat. Fetty Wap & Rich Homie Quan) by Lil Dicky",
          "Grippy by Cash Cobain",
          "Time of Our Lives by Pitbull",
          "Unwritten by Natasha Bedingfield",
          "Brighter Days - Dajae- Underground Mix '93 by Cajmere",
          "Like This Before (Extended Mix) by Aaron Smith",
          "Hey, Soul Sister by Train",
          "Return of the Mack by Mark Morrison",
          "I'm Still in Love with You (feat. Sasha) by Sean Paul",
          "Cello Suite No. 1 in G Major, BWV 1007: I. Prélude by Johann Sebastian Bach",
          "Move Your Body by Marshall Jefferson",
          "Another Love by Tom Odell",
          "Dancin - Krono Remix by Aaron Smith",
          "Freaky Friday (feat. Chris Brown) by Lil Dicky",
          "Set Fire to the Rain by Adele",
          "Peaches by Jack Black",
          "Delusions of Saviour by Slayer",
          "Sonata No. 14 \"Moonlight\" in C-Sharp Minor\", Op. 27 No. 2: I. Adagio sostenuto by Ludwig van Beethoven",
          "Ghost Of Me by Make Them Suffer",
          "Love, of Money by MAVI",
          "Love & Reggae by Collie Buddz",
          "Like This Before (Radio mix) by Aaron Smith",
          "To the Hellfire by Lorna Shore",
          "Reason Why (feat. Kim Petras and BC Kingdom) by SOPHIE",
          "Andreaen Sand Dunes by Drexciya",
          "Remember Me by Currents",
          "No Scrubs by TLC",
          "十年 by Eason Chan",
          "Long Cool Woman (In a Black Dress) - 1999 Remaster by The Hollies",
          "Yeah! (feat. Lil Jon & Ludacris) by USHER",
          "4 Morant (Better Luck Next Time) by Com Truise",
          "The Flower Garden by Joe Hisaishi",
          "Lyk U Use 2 (feat. Andres) by Moodymann",
          "Pink Skies by Zach Bryan",
          "She's So Nice by Pink Guy",
          "Tell Ur Girlfriend by Lay Bankz",
          "Temperature by Sean Paul",
          "Shut Up and Dance by WALK THE MOON",
          "Last Last by Burna Boy",
          "Witchcraft by Pendulum",
          "First Time (feat. Dylan Matthew) by Seven Lions",
          "All That Really Matters by ILLENIUM",
          "Only for the Weak by In Flames",
          "Jekyll and Hyde by Five Finger Death Punch",
          "Three Wooden Crosses by Randy Travis",
          "Goodness of God - Live by CeCe Winans",
          "Scourge of the Offspring by Cattle Decapitation",
          "Wrong Side of Heaven by Five Finger Death Punch",
          "Reptilia by The Strokes",
          "Black Star by Carcass",
          "Far From Any Road by The Handsome Family",
          "Alibi (with Pabllo Vittar & Yseult) by Sevdaliza",
          "Walk by Pantera",
          "Wednesday Night People by Moodymann",
          "On the Other Hand by Randy Travis",
          "I Told You So by Randy Travis",
          "Satellite by Dimension",
          "Coração de Vaqueiro by João Gomes",
          "Chainsaw Dismemberment by Mortician",
          "Love You to Death by Type O Negative",
          "Listen to the Music by The Doobie Brothers",
          "Ride Or Die, Pt. 2 (with Villano Antillano & Tokischa) by Sevdaliza",
          "Fractures by ILLENIUM",
          "Last Nite by The Strokes",
          "I Smile by Kirk Franklin",
          "Dreaming - Gibson Parker Remix by Rootkit",
          "Slaughtered by Mortician",
          "Bad Company by Five Finger Death Punch",
          "The Night We Met by Lord Huron",
          "The Adults Are Talking by The Strokes",
          "Rua - Ao Vivo em Bahamas by Wesley Safadão",
          "QKThr by Aphex Twin",
          "Why by The Viceroys",
          "girl$ by Dom Dolla",
          "I'm Good (Blue) by David Guetta",
          "Drowned in Your Blood by Mortician",
          "Revenge by XXXTENTACION",
          "Fuck Love by XXXTENTACION",
          "Three Wooden Crosses by Randy Travis",
          "Crawl Outta Love by ILLENIUM",
          "For the First Time by Mac DeMarco",
          "Lovely Day by Bill Withers",
          "Lonely Boy by The Black Keys",
          "Believe For It (feat. Lauren Daigle) by CeCe Winans",
          "The Look by Metronomy",
          "Fora do Comum by Iguinho e Lulinha",
          "Relógio de Saudade (Atemporal) by Calcinha Preta",
          "My Kind of Woman by Mac DeMarco",
          "Makeba by Jain",
          "i was all over her by salvia palth",
          "Something Here for the Club - Vocal by Terrence Parker",
          "Heartbeats by The Knife",
          "Sugar (feat. Francesco Yates) by Robin Schulz",
          "Black No. 1 (Little Miss Scare -All) by Type O Negative",
          "Somethin’ Here - Original Mix by Terrence Parker",
          "Heartbeats by José González",
          "Se Você Tivesse Cuidado - Ao Vivo by Jonas Esticado",
          "Propane Nightmares by Pendulum",
          "Scum by Napalm Death",
          "Falling Down - Bonus Track by Lil Peep",
          "I Don't Wanna Wait by David Guetta",
          "Blackwater - 128 full strings vocal mix by Octave One",
          "Prayer in C - Robin Schulz Radio Edit by Lilly Wood and The Prick",
          "Star Shopping by Lil Peep",
          "505 by Arctic Monkeys",
          "Do I Wanna Know? by Arctic Monkeys",
          "DJ Turn It Up by Dimension",
          "Midnight City by M83",
          "I'm Doing Fine (feat. Amp Dog Knight) by Moodymann",
          "Gangsta's Paradise by Coolio",
          "Fala Que Não Ama by Maria Clara",
          "Zombie Apocalypse by Mortician",
          "Why'd You Only Call Me When You're High? by Arctic Monkeys",
          "Budapest by George Ezra",
          "Deeper Than the Holler by Randy Travis",
          "SONG REQUEST by Ray Volpe",
          "A Little Bit Stronger by Sara Evans",
          "Rabid by Mortician",
          "The Carnival of the Animals, R. 125: XIII. The Swan (Arr. for Cello and Piano) by Camille Saint-Saëns",
          "Riptide by Vance Joy",
          "Californication by Red Hot Chili Peppers",
          "Bring Back the Plague by Cattle Decapitation",
          "Me Ama Sem Pausa - Aquelas Paradas by João Gomes",
          "Back To U by SLANDER",
          "Neverender by Justice",
          "ceilings by Lizzy McAlpine",
          "Fast Car by Tracy Chapman",
          "Stranded by Gojira",
          "Lady - Hear Me Tonight by Modjo",
          "Play That Funky Music by Wild Cherry",
          "Forced Gender Reassignment by Cattle Decapitation",
          "Someday by The Strokes",
          "I Wanna Be Yours by Arctic Monkeys",
          "Don’t You Want My Love by Moodymann",
          "Outro by M83",
          "Wait by M83",
          "Alien Blues by Vundabar",
          "I Can't Kick This Feeling When It Hits by Moodymann",
          "Everybody Dies In Their Nightmares by XXXTENTACION",
          "KICK BACK by Kenshi Yonezu",
          "Happy? by Mudvayne",
          "679 (feat. Remy Boyz) by Fetty Wap",
          "Ta Bikaran by Padra",
          "HIGHEST IN THE ROOM by Travis Scott",
          "Iris by The Goo Goo Dolls",
          "See You Again (feat. Kali Uchis) by Tyler, The Creator",
          "Scottie Beam by Freddie Gibbs",
          "Sweet True Lies by Beast In Black",
          "Every High - Young & Sick in-Flight Remix by Kyson",
          "Little Kandi Raver 2012 by S3RL",
          "Prophecy of Ragnarök by Brothers of Metal",
          "Kids (feat. MKLA) by KSHMR",
          "Precipice by The Flashbulb",
          "Mtc by S3RL",
          "Little Bit of Love by John Cruz",
          "My Love Mine All Mine by Mitski",
          "goosebumps by Travis Scott",
          "NIGHTS LIKE THIS by The Kid LAROI",
          "Shook Ones, Pt. II by Mobb Deep",
          "Die By The Blade by Beast In Black",
          "Pomegranates by Porya Hatami",
          "Hold the Line by TOTO",
          "Shoulder Boulders by S3RL",
          "End of Beginning by Djo",
          "Power Of The Beast by Beast In Black",
          "Trap Queen by Fetty Wap",
          "Hypnotize - 2014 Remaster by The Notorious B.I.G.",
          "Memory Arc by Rival Consoles",
          "Wash It All Away by Five Finger Death Punch",
          "A Profound Void by Alphaxone",
          "Trad Velecido by Casino Versus Japan",
          "Eat What You Kill by Confess",
          "Desire by Armut",
          "LIGHTS by HARDSTYLE CVNT",
          "Cry Out For A Hero by Beast In Black",
          "1985 by Freddie Gibbs",
          "Thunderstruck by AC/DC",
          "Heartless (feat. Morgan Wallen) by Diplo",
          "Particle Storm by Alphaxone",
          "C.R.E.A.M. (Cash Rules Everything Around Me) by Wu-Tang Clan",
          "Breezin' by George Benson",
          "BANGARANG by KILLEDDY",
          "Kani (Day) by Porya Hatami",
          "I Don't Wanna Be Me by Type O Negative",
          "We Fell Apart by ANGUISH",
          "Big Poppa - 2005 Remaster by The Notorious B.I.G.",
          "Legend by Tevvez",
          "You Shook Me All Night Long by AC/DC",
          "Balls to the Wall by Accept",
          "Drive by Incubus",
          "Saving Up by Dom Dolla",
          "Pika Girl by S3RL",
          "Concept 1 by Kodomo",
          "Schools Out by MEMBA",
          "Back In Black by AC/DC",
          "ННД by Tomorrow",
          "Never Mess With Sunday by Yppah",
          "Don't Stop Believin' (2022 Remaster) by Journey",
          "Always Picking On Me by S3RL",
          "Memory Box by Peter Cat Recording Co.",
          "One Night In Tokyo by Beast In Black",
          "Monochrome by BABYMETAL",
          "FE!N (feat. Playboi Carti) by Travis Scott",
          "The One I Loved Back Then (The Corvette Song) by George Jones",
          "BUTTERFLY EFFECT by Travis Scott",
          "Test & Recognise (Flume Re-work) by Seekae",
          "Yggdrasil by Brothers of Metal",
          "If Drinkin' Don't Kill Me (Her Memory Will) by George Jones",
          "After the Rain by Porya Hatami",
          "Friendzoned - Walras Remix by S3RL",
          "Baun by Porya Hatami",
          "He Stopped Loving Her Today by George Jones",
          "Enter Sandman (Remastered) by Metallica",
          "Bass Slut - Original Mix by S3RL",
          "Type Shit by Future",
          "I KNOW ? by Travis Scott",
          "DLMD by Darren Styles",
          "Anadrol by Yosuf",
          "Mo Money Mo Problems (feat. Puff Daddy & Mase) - 2014 Remaster by The Notorious B.I.G.",
          "Something to Rap About (feat. Tyler, The Creator) by Freddie Gibbs",
          "In the Grass by The Flashbulb",
          "Like That by Future",
          "Quasar by Gidge",
          "We Fell Apart - Slowed by ANGUISH",
          "Cowboys from Hell by Pantera",
          "Shut up My Moms Calling by Hotel Ugly",
          "Highway to Hell by AC/DC",
          "Kani (Day) by Porya Hatami",
          "Juicy - 2005 Remaster by The Notorious B.I.G.",
          "Cancun by Armut",
          "Party And Bullshit by The Notorious B.I.G.",
          "Crime Pays by Freddie Gibbs",
          "Every High by Kyson",
          "He Stopped Loving Her Today by George Jones",
          "Pretty Rave Girl by S3RL",
          "The Lamp Is Low by Laurindo Almeida",
          "Fen by Porya Hatami",
          "My Soldiers Rage by Maul",
          "Ride of the Valkyries by Brothers of Metal",
          "I Love It (feat. Charli XCX) by Icona Pop",
          "So This Is Love by Emile Pandolfi",
          "Summer Terrace by Casiio",
          "Masterpiece by Motionless In White",
          "Everlong by Foo Fighters",
          "Your Love by The Outfield",
          "Janiye (from the Netflix Film \"Chor Nikal Ke Bhaga\") by Vishal Mishra",
          "We Groovin (with Jazzy) by Jamie Jones",
          "Never Catch Me by Flying Lotus",
          "Your Love by The Outfield",
          "Crust by Flying Lotus",
          "(Sittin' On) the Dock of the Bay by Otis Redding",
          "Under the Bridge by Red Hot Chili Peppers",
          "How To Listen To This Album by Stereoclip",
          "Scar Tissue by Red Hot Chili Peppers",
          "Sunset Drive by Stereoclip",
          "Can You Feel My Heart by Bring Me The Horizon",
          "Genesis by Grimes",
          "Back On 74 by Jungle",
          "Hooked On A Feeling by Blue Swede",
          "Tum Se (From \"Teri Baaton Mein Aisa Uljha Jiya\") by Sachin-Jigar",
          "Summer by Calvin Harris",
          "Sky and Sand by Paul Kalkbrenner",
          "One Man's Dream by Yanni",
          "Saturno by Pablo Alborán",
          "Lose My Mind by Jamie Jones",
          "Top 10 staTues tHat CriEd bloOd by Bring Me The Horizon",
          "Kiss The Rain by Yiruma",
          "Lush Life by Zara Larsson",
          "Jessie's Girl by Rick Springfield",
          "Outside (feat. Ellie Goulding) by Calvin Harris",
          "Happy Together by The Turtles",
          "I Want You by Butch",
          "Perseverance by Michele McLaughlin",
          "I'm a Believer - 2006 Remaster by The Monkees",
          "A Thousand Years (Piano Version) by Laura Sullivan",
          "Pink + White by Frank Ocean",
          "How You Remind Me by Nickelback",
          "Can't Stop by Red Hot Chili Peppers",
          "Lemonade by Diljit Dosanjh",
          "liMOusIne (feat. AURORA) by Bring Me The Horizon",
          "Dial Tone by Catch Your Breath",
          "La flaca by Jarabe De Palo",
          "Another Life by Motionless In White",
          "River Flows In You by Yiruma",
          "In the End by Linkin Park",
          "Fireworks by Jam'addict",
          "White Ferrari by Frank Ocean",
          "Caribbean Blue by Enya",
          "Can't Take My Eyes off You by Frankie Valli",
          "Throne by Bring Me The Horizon"
         ],
         "type": "scatter",
         "x": [
          2.0740020000940196,
          3.1624942648400705,
          0.417201078293705,
          1.3297036523389227,
          1.4419006910465322,
          -1.0277245749720985,
          2.6920937639919233,
          0.06558397125216485,
          2.9329593088907506,
          -0.1732104954321915,
          0.9813880415106224,
          2.540742150044515,
          0.4196131987610601,
          0.8977541904430553,
          -6.303896655549167,
          -0.4750224587883696,
          3.5810732828991276,
          2.4684390860808754,
          1.470028461827405,
          1.3296268084983147,
          3.9214768516784746,
          3.8741672042104285,
          1.226276510624353,
          -4.045068247035389,
          4.45743458316093,
          1.983114729278451,
          4.650841989686168,
          0.19734436510077627,
          -0.1732104954321915,
          3.162773071196003,
          0.27945814900160465,
          0.8553236677587338,
          -1.1818096389212582,
          3.328981783397082,
          2.7440315211514705,
          -2.7532290192526534,
          2.0324524394170065,
          1.8093154038475998,
          -3.071234719862833,
          3.24259337636107,
          0.30978290977389583,
          4.356181090124732,
          -3.5592834431668168,
          3.7239611199622122,
          1.7204773810670029,
          1.50590103103233,
          -2.8167176815475345,
          -1.3295013693881625,
          -3.72245784790959,
          -0.34978877619126636,
          0.3358374817995083,
          2.28971995861702,
          1.3807714600150611,
          1.8719619131339686,
          2.4722373480444055,
          1.4214163808136449,
          1.4214163808136449,
          3.308412069645059,
          2.0012753178697817,
          1.9968422679591618,
          0.04223440060146966,
          1.478946388068668,
          1.545482017661961,
          -1.9127635487678538,
          2.2879777736142306,
          -1.4476464221655563,
          -3.1456684632422576,
          -3.0511204292010556,
          -0.6730886783594798,
          2.3505381610128135,
          3.20488597636457,
          2.3830325029825827,
          1.1948982826821029,
          1.3364405517666442,
          1.6278741235578933,
          2.637954911231365,
          0.9832331722328345,
          0.12205726102422579,
          -2.4428460596687342,
          -1.5339639505095082,
          -5.345097659788136,
          1.1981447632694777,
          2.5923742710302413,
          1.111266630978618,
          2.4977114209873386,
          -6.95083463574702,
          -3.1001614028931437,
          3.8405766491207287,
          3.5068091605258807,
          1.9057228291432173,
          0.19090001960917707,
          3.129124352446654,
          -1.3282101635244263,
          -1.087586921238487,
          -5.645942270814391,
          -0.9219216221735786,
          0.9515428781073866,
          3.1812124219495144,
          0.8650659248347384,
          2.434403994319217,
          0.8664058237685134,
          1.4041233966648181,
          1.1939377479774738,
          0.09869783573064328,
          2.313322654716931,
          -0.8458802683363658,
          -0.2241748368532929,
          2.8009021693953495,
          1.2401013476320164,
          2.657062417217862,
          2.008726242288235,
          0.734499530102876,
          2.657062417217862,
          -0.6534517553563068,
          2.5416591279103082,
          1.1943653200310158,
          3.923443035578171,
          0.08600561817394382,
          0.20367051923478657,
          1.417353407943172,
          2.063653270827231,
          -2.5705232912625,
          3.829107831372929,
          -3.1281861538923996,
          1.5915074697239944,
          1.0213853707148994,
          2.3042227111812505,
          1.2549527703665642,
          -0.6646934970852199,
          1.5936434334882037,
          -1.489389358042686,
          1.2639039706491695,
          -0.3792102503420084,
          1.448337747737739,
          -1.8412880479961835,
          0.5326592511011807,
          1.3990104982409612,
          -0.6395982477446565,
          -1.4964666855994093,
          -6.344162412343719,
          0.8692808067176849,
          0.1974308548204798,
          3.2825702226614006,
          -0.30359559679201603,
          -0.36661699415907767,
          -1.4384959975155123,
          1.3296268084983147,
          1.5497311953168582,
          -0.3256658291982068,
          -0.9511119409329533,
          -0.6693903429205676,
          -0.7409278717101371,
          2.741877076569786,
          -0.5215415350160657,
          -0.6589977744288603,
          0.06413125613023957,
          1.1207003326961695,
          0.3258617610635723,
          2.740217147886574,
          0.9367267847499158,
          -1.315957978743975,
          0.2534989526417707,
          0.7784582868219756,
          -0.6854610244172072,
          -1.5716669119862077,
          -0.12602225513408502,
          2.685941682476679,
          0.8497545593687462,
          1.6847531029125158,
          1.941379813290726,
          2.1339919653249946,
          -0.878679874321505,
          0.8648966537729753,
          0.4583267138615081,
          3.23527538725874,
          0.4267867574468264,
          1.962723211313951,
          1.1301578469872153,
          1.1913111350521544,
          2.0724095117163905,
          -1.0303606809364834,
          1.5320100312714156,
          0.6421743826546187,
          -1.2782563030920697,
          0.21021430679954625,
          -0.010563538942812865,
          -3.5120186596596517,
          -0.9996105328776774,
          -1.1572337613458277,
          1.5606935796949355,
          0.4538878108271813,
          2.1712913697614615,
          3.2526391971025053,
          1.0766873250854432,
          0.3388107569384147,
          3.2220666930189688,
          -0.6464793507923177,
          0.2652198940437898,
          2.0281563031523047,
          -0.6870352489091085,
          1.2062538129729035,
          1.9486430867891473,
          3.836250803029256,
          0.07969885171828464,
          -7.107007186993968,
          1.733318765378145,
          3.2533819413648395,
          0.3325743015797396,
          0.7412421423768653,
          2.8289722664141808,
          0.08632405632476829,
          -2.690887283675672,
          0.5326592511011807,
          0.029818612338504382,
          1.0910224323491482,
          -1.5957249264635907,
          1.6108656103878405,
          2.9311087117591867,
          -0.24487266853162604,
          0.9322914773930717,
          3.0199766787117035,
          0.06962178310967346,
          0.4401223133921079,
          0.1750570542882459,
          0.7343529514510981,
          -2.14185985066967,
          2.26975365862089,
          2.548453272568853,
          0.9815836301031602,
          1.1186340078144532,
          4.312403917184928,
          1.66788551841717,
          -0.032226941170385166,
          1.9299155940820651,
          -0.684174899774999,
          2.99025119369873,
          -7.100679552104775,
          -0.05314804566819468,
          0.4307368509411113,
          -7.429040481906721,
          3.720197901606973,
          -0.618294213417467,
          -0.8751294723186872,
          -5.906941576154324,
          -1.0153713312387498,
          -3.7315687576670933,
          -2.24708825525539,
          -2.0031773183443233,
          1.042316606755548,
          0.9073805110063671,
          -0.24079109817747577,
          2.7395847762994574,
          1.9858733261748096,
          -1.4882303150477412,
          0.022479721117154804,
          1.6402864671563206,
          2.208319911238365,
          0.45829992792370466,
          -5.8876882831897985,
          1.1748058712405598,
          3.0167671950215182,
          0.601516416022692,
          1.6028624498828994,
          0.23822605665674582,
          -0.7476054291249231,
          -0.3256658291982068,
          1.3070224490010034,
          -0.39698014974350754,
          2.94183181568219,
          1.3898745880959291,
          3.302141955483817,
          -0.10448105438542006,
          2.584787866396508,
          2.85621807377342,
          0.3949712329374981,
          3.233659807076312,
          -1.5703447962758768,
          -0.7633997223866076,
          3.7758361612368936,
          2.26975365862089,
          0.4053890861166903,
          1.4447893468021085,
          0.07969885171828464,
          3.104897701003214,
          0.5762755742786594,
          1.7590820331068924,
          1.399010498240961,
          3.390570341385386,
          4.915253439762317,
          2.284353668007851,
          0.2380105220873836,
          -7.447220109065297,
          0.914786304528604,
          2.6519468851458146,
          -3.324790322367003,
          -1.1255828561284047,
          -0.12602225513408502,
          -1.0720948842299252,
          -0.43174161040972514,
          -4.476239192612369,
          0.7093524482502325,
          0.6835891513797454,
          0.27846517827577605,
          -6.681277158180313,
          0.9479419368292392,
          2.460640236146443,
          2.5926735057350294,
          -3.18299903895812,
          0.9242908028551167,
          0.0226442747899424,
          2.170592151911836,
          2.4215310770660023,
          2.354148565603667,
          3.436692763825788,
          -3.325108024175511,
          3.7346251329154616,
          3.3622360675253486,
          -0.7289693864451078,
          -1.2078108963067957,
          3.478310781090772,
          1.9628911607737267,
          4.566886766838067,
          -0.162609345489223,
          1.2743816852237015,
          -5.0637002993616775,
          3.1994896080008868,
          2.211702081072364,
          -2.2786960495538664,
          -0.5922968593922271,
          -4.432007148973268,
          3.0038825013215287,
          2.957025994934264,
          0.6645344131722033,
          3.621971649738288,
          1.0541636836304986,
          -6.703539334340138,
          -1.5276374223661635,
          -0.5567301293262534,
          -1.8583221301937967,
          2.391609872283042,
          0.8376077756595057,
          2.883844952129749,
          -0.022457670214486473,
          0.8136589069007423,
          -5.724259451853651,
          -0.5917289811849565,
          -4.805632034072133,
          1.1807017209198825,
          1.9739814157848148,
          0.43364844697341953,
          -0.6644451921169598,
          2.2798722157412272,
          -1.7819433374138165,
          3.2249498754614145,
          5.11290801086056,
          -4.318195787946971,
          0.14740053033437742,
          -2.1437504027097276,
          1.3488724904934508,
          0.45664527406291766,
          -1.1834105852727865,
          -1.6827959381899673,
          1.4744953330893853,
          -1.1080486249396955,
          1.7325287228110045,
          2.5237229372239667,
          0.5527984906519869,
          2.076576261107824,
          2.065932951861399,
          2.6668172947552096,
          2.5147970018670223,
          0.24473459016712584,
          2.329417915385119,
          1.4874230529494372,
          0.9867588383285925,
          -1.5204151122423968,
          4.529929754687775,
          -2.0555753332410447,
          1.2564778755724642,
          -6.0225754171009385,
          0.6248628432855209,
          3.669626416942778,
          0.8022394339757399,
          -7.482485269756806,
          1.702781955716974,
          0.4209235035810261,
          -6.2246176576041945,
          1.8944852971862507,
          2.082757064881881,
          0.643972406124452,
          2.0037494610133497,
          -0.6097591835995991,
          -0.29864657882877893,
          1.079941015815309,
          0.9910128483116067,
          2.4240046302192915,
          2.1658607077123815,
          1.7212429132477804,
          -4.068987914287619,
          0.33308004657225776,
          -4.507050598581603,
          -3.6869024857470323,
          -1.1521786295357905,
          -6.441033296702629,
          -4.843025302473494,
          2.3653409479548437,
          1.4685357414706668,
          -6.544154465306702,
          -4.438920348770817,
          1.8675544062565343,
          -2.801108921545898,
          -0.3731993734697731,
          0.5646365880042492,
          -2.3583532177584945,
          -2.4794413536824655,
          1.8517076740798704,
          4.022624918379689,
          -0.1965774016332073,
          3.431872414754736,
          -5.632350390154824,
          -3.7970366058535108,
          2.1625827855645636,
          2.6329539494627143,
          0.2275143604588565,
          -2.352916480622551,
          0.7830230799973423,
          -1.4307741001747596,
          -6.741577113376,
          -4.693871674362934,
          -0.016988309450433933,
          -0.4553980945798764,
          2.9228217062019812,
          0.710490511044029,
          1.4666764631722953,
          0.4338758020872184,
          0.30683244548543537,
          -6.308115585325518,
          2.0783364616259306,
          2.382411817537028,
          2.1859276631078792,
          2.5377218529959835,
          1.2097235035516796,
          0.5370032809655682,
          -5.607100516572901,
          0.5378955693091204,
          1.9025372979709236,
          2.952099452403739,
          1.788202676998095,
          -1.1172519325628105,
          1.6748864855259886,
          0.6249219097885924,
          1.0165201775183745,
          -0.549863055760241,
          -0.4566561877511243,
          -4.525193522699896,
          0.11005830183349619,
          3.4832758919351483,
          3.5542602745788283,
          -4.05501422762508,
          -4.503828243177677,
          -0.6536097543843099,
          0.22337908103613013,
          0.4170716876790834,
          1.8266418403943847,
          -1.1198834414276144,
          -3.3573688538956405,
          0.5159292227219741,
          -2.014314026049322,
          -0.2695038797893132,
          0.6977333286488532,
          0.5810606907894403,
          3.8042397084525623,
          -5.329364305096593,
          -0.9006689513207162,
          2.007680181068096,
          3.29135265316492,
          -3.7984899260275697,
          2.5096277347106946,
          -5.387948677455108,
          3.9549107693350094,
          4.276958836453733,
          -0.9523594402206401,
          -6.198715415018655,
          3.9317243544111133,
          -0.5253372003335433,
          -0.5789343662925454,
          1.5343390133025454,
          4.026391824671221,
          -2.6659267401603732,
          0.18457780770580212,
          -0.3015094994457385,
          -6.610482227021104,
          0.5858237346568538,
          -1.7030319201426878,
          0.6160068825304429,
          -4.094228626948485,
          0.06262673152392291,
          -1.6394004909315278,
          -1.1103995502661312,
          2.206586555500357,
          -2.2440223558457997,
          -2.747239536185414,
          1.298840131319125,
          -4.767820787650898,
          0.8909437889439226,
          -3.8420715251963458,
          0.5130670365818485,
          1.9152052037006109,
          -5.360528345919847,
          -0.09794993096262862,
          -1.9598820831771815,
          -1.8174127937632958,
          -1.3956835802415042,
          -1.1982628361674317,
          -0.3101436434792656,
          3.399256001176705,
          1.4843971881804408,
          1.053518119949371,
          -1.488952102777178,
          -1.6900310077766123,
          -3.3237716249554254,
          -1.1018358268185682,
          -4.247810088504757,
          -3.0155072640795204,
          0.42849743789655975,
          -4.731431132256088,
          1.2945292631426735,
          0.661218664356746,
          -1.0182809145052525,
          -4.713638234835004,
          -2.682722141369159,
          -0.8204667910311063,
          -4.918699056313767,
          -4.158271793190775,
          -3.7147297805029478,
          -6.0068620572763765,
          1.3024279015226647,
          -1.4093414819171053,
          1.5373219140603285,
          -3.220832930757187,
          0.9153515484541541,
          0.4072869013192758,
          -3.0773113337110196,
          -2.8859242440909707,
          -5.392402540528466,
          -0.5429259551509915,
          0.8005491094343041,
          -2.1933661625627097,
          -1.3497272295075693,
          -2.684465952524909,
          0.6572957678805078,
          0.004801985653681302,
          -1.275846438772,
          -2.25094484225493,
          -0.2634488109310462,
          -1.955695815098257,
          -3.806159175152518,
          -1.4459159839643598,
          1.3103814702980952,
          -3.748356038305174,
          -0.8991225052728978,
          -4.147289249241828,
          -3.698249456312346,
          -1.4929446629294372,
          1.6777919277856117,
          0.05426317759041976,
          2.25271385846048,
          -4.945578101889674,
          3.2188315632434836,
          -0.5479407709542808,
          -3.997925285644919,
          -3.7942465702579393,
          0.8109857916497976,
          -2.7379225543753245,
          -3.823464910614495,
          -1.076529799776671,
          0.6512735341708951,
          0.013414959090875724,
          -1.5642321072030698,
          0.7818053682956846,
          1.9105894930235816,
          -0.2650542004595211,
          1.5973686341017785,
          -1.3956072202268759,
          -0.40929441262328137,
          -3.6061136646673746,
          2.504748676260745,
          -1.8628840515272218,
          -2.267570574674379,
          1.5605726864566567,
          -0.8972075220389847,
          -1.5961842257042862,
          0.6208837836544433,
          0.20443909834728252,
          -0.8662044387223067,
          -4.708973123397011,
          -1.0659601133414223,
          -1.6724084283117597,
          -6.032668049515503,
          -4.393171356358455,
          -0.01583675737842984,
          1.048944461221999,
          -0.27465565043294554,
          -0.28194626542238754,
          -4.585734753960279,
          -1.3727949938881474,
          2.3333214939129325,
          1.4256953147418785,
          -0.5541574929622367,
          -0.9103747890351502,
          -2.2950858760670365,
          2.288290695163944,
          -1.978135720792813,
          -0.35166877807518954,
          1.473301334382845,
          -0.9518809411900053,
          -3.369555285495639,
          1.615308062497942,
          1.04122563303534,
          1.7692805036838357,
          0.5560007378289572,
          -3.732313401850766,
          0.021035288336830653,
          1.1164837702487247,
          0.6000088627384366,
          1.6235967143658117,
          -5.094864437739117,
          1.1293852654308094,
          1.2963329257541165,
          -0.3056892301167338,
          -1.2663963306236352,
          2.1156193494291915,
          -0.9822045175730633,
          1.4134372998290474,
          -0.3105188421475483,
          1.1260145058417381,
          0.5189483143925809,
          -2.9203934568883394,
          -0.1642256123909748,
          0.854064235610753,
          -5.4497632093682356,
          -4.810813390392531,
          2.5817253854646114,
          -3.691711510974672,
          1.4685546173622541,
          -3.3217702321917963,
          0.7293399503907373,
          4.320924481593408,
          -1.3727564421076672,
          -1.6534015145825365,
          -6.11198490713635
         ],
         "y": [
          -1.1484655681474023,
          -1.0692766975741406,
          -0.021839860727296673,
          -0.4306658938618653,
          -2.276207549131478,
          1.3187711529042845,
          -0.12101669324781444,
          3.064306317063463,
          -1.6165712966327082,
          -1.9797539188646283,
          -2.6231293091825227,
          -1.3719679531871192,
          5.056223651062357,
          -1.0531939769009704,
          -0.7221312480205484,
          -1.2931215335642097,
          -0.925692607122668,
          -2.1307564331342452,
          1.0450470691234928,
          -0.4389945145514424,
          -0.6307908640199559,
          -1.6615403892236766,
          -2.425776420091963,
          -1.6029971754920218,
          -1.8356390045236162,
          0.2576859882501537,
          -0.21183001559614273,
          1.2946579865455534,
          -1.9797539188646283,
          -1.6712021236105994,
          1.9080148332322282,
          0.6632440568041814,
          -1.711247200246947,
          -1.6301632263565784,
          0.0833446944715036,
          -1.410475491629211,
          -1.1149097255517573,
          -0.6172404277957814,
          -0.6358606491250047,
          -1.1177693754051732,
          0.26021533931856905,
          -0.6900505079759244,
          -1.9203196375226745,
          -1.0623115715685454,
          -1.8422516717807556,
          8.324448129633192,
          0.4614222046028026,
          4.875937256212385,
          -2.576318891731735,
          -2.670617979575294,
          1.725028250552302,
          -2.0278060292884037,
          2.646584414544703,
          -1.6989789376770073,
          -2.1180143158162394,
          -1.540983378112933,
          -1.540983378112933,
          -1.8674752647379609,
          -0.47171196017138717,
          -1.053005428225279,
          3.029111124697944,
          -1.435415848230078,
          -1.4459760807408835,
          10.042952866339386,
          -1.6886987437875898,
          6.499187332106422,
          3.4897806847040487,
          -1.8564869877031112,
          2.5463768212363154,
          -1.1683149098958856,
          -0.3799994419765564,
          -0.48901605728364733,
          -2.1422562987709983,
          -1.3441798236506473,
          0.3946022865962157,
          1.1091145922217571,
          0.6711946591622688,
          0.0019040390841179426,
          -2.3744562363609685,
          -1.156557248063922,
          -0.9136734219002965,
          0.856945425515608,
          -1.7228853545167266,
          -1.4645389052484479,
          -1.4372237725165302,
          -0.8054986352821337,
          -1.1410490224578904,
          -0.1631001936228664,
          -0.9166435828087237,
          -0.6180112188236684,
          -1.4809382865558387,
          -2.0958282006715256,
          -2.2020963043493373,
          -1.3238510673926855,
          -1.528262038215737,
          3.084828203798595,
          -2.722119334448936,
          -1.0305441520410166,
          -0.3471136652112496,
          -2.514840137392257,
          4.556222996114681,
          -1.3570159855964696,
          0.2338576046208352,
          0.9705158113406658,
          0.6384230853821502,
          2.64800766412083,
          -2.5952676809824573,
          -1.4390692064919988,
          -1.0303152071240858,
          -0.88681810000356,
          1.7739440027771611,
          0.791168180172431,
          -0.88681810000356,
          1.7572901676979955,
          -1.0203569622836985,
          1.8655975090217778,
          -1.3904268004830644,
          -1.6133922056288732,
          -0.8761354160175121,
          -1.1644147566417404,
          1.3592847150677603,
          4.921446166065893,
          -0.09087760539319745,
          5.640471499119618,
          5.137155404614129,
          -0.4719924075698011,
          -0.6231117451079465,
          2.8497591489909606,
          0.094539864699447,
          0.3464353493816362,
          -0.7338479006167942,
          -1.1771431856221324,
          0.49221916909971286,
          9.210606008623333,
          -1.608375979463337,
          -1.6104429713255237,
          -1.4537232954179973,
          8.629943742199886,
          -0.36931264259338337,
          -0.5951854950655369,
          -0.24314213466456694,
          -1.9437049773745005,
          -1.0132310159346527,
          -1.3669039399327931,
          -2.626172888310959,
          4.428202848834533,
          -0.4389945145514424,
          5.517329853796763,
          -1.5114973258220283,
          -2.0777421723344247,
          4.683721842387557,
          -2.4953130471715257,
          -2.6706263186311845,
          -2.8843591857305677,
          -0.753666150072609,
          5.095595807543891,
          -0.3684607165062833,
          0.9637198791367662,
          -2.294313161284978,
          2.5635743550953016,
          -1.4901141425460478,
          3.2598352835488766,
          -0.8489209651544093,
          -0.02733982485674431,
          -1.8035107804564172,
          -0.6887430305162408,
          -0.45538497248184867,
          -2.4732787190911,
          -2.763875567149317,
          -0.4273432316850752,
          -1.722182397657886,
          -1.3665470001261593,
          4.740217506085279,
          0.5949156410567314,
          -1.9085979977101957,
          -0.9548729820916231,
          -0.4401875837358722,
          0.11261876821928334,
          -1.7459793150788996,
          0.41758947631399196,
          6.953670647199489,
          -1.8019210761027775,
          0.7021034943455285,
          1.8853735604951687,
          -0.26495547876956466,
          4.8117978065332965,
          4.62182579461372,
          -0.42844881524711154,
          6.417467557882922,
          6.857821355950018,
          -3.0297590772861698,
          0.17346888262181517,
          -0.8580808703413859,
          -0.9781420673999696,
          1.5343881342251342,
          -1.1377349072000382,
          5.659134546927172,
          -0.09985871741024208,
          -1.7473965484140455,
          -0.44689691869490317,
          1.0004620944055642,
          -2.6610338249863754,
          -1.506862831462921,
          -2.5580381001663186,
          -0.22876122123874504,
          1.1960518922097698,
          2.7958199799518466,
          -0.9908815955224244,
          -2.400440131413836,
          -1.3829831465194478,
          -0.5603529495994862,
          -2.888431386331127,
          -1.6104429713255237,
          5.324681145301958,
          -1.6496402526048564,
          9.020090761776606,
          -1.2139870203515732,
          0.10170388766300285,
          0.0788908011833839,
          1.901983565648781,
          -1.0823295568727014,
          -2.1386663541840374,
          -2.40563848517684,
          4.555798447289159,
          -1.3711890031247609,
          -0.7945176625721546,
          -0.739230468342975,
          -1.865713328463905,
          -1.396562908018582,
          -2.3923441552692086,
          -1.1419384620006254,
          -2.2433607583751116,
          0.4686678556422872,
          5.028188587530143,
          -1.1378205614673753,
          -1.7257597340865862,
          -0.18479318913297904,
          -1.7082505641832393,
          -2.0264599600722843,
          -0.7238574086181768,
          -0.5798475464305111,
          -1.692435278476176,
          5.815605989324078,
          -1.5900772551055,
          9.085194911152387,
          -0.22621561224597442,
          -0.32349307516481357,
          -3.782653369213931,
          0.06017108924890941,
          -0.14698866139177447,
          0.5470701351130255,
          -0.9364415194390224,
          1.873389387892049,
          2.4069725457933653,
          4.848601805968806,
          3.69207109579351,
          -0.10506400906672599,
          -0.09892926874795169,
          -0.8109038520540249,
          -1.1343373422882042,
          -0.8799277075259708,
          2.7103618518189903,
          1.2082977899038125,
          1.4311560290842693,
          -2.3606265709526735,
          -1.5114973258220283,
          -0.2081136663630401,
          -2.155231008009665,
          4.563950083959889,
          -1.370094544653581,
          -0.28885769569622505,
          2.0353025328579664,
          1.3252721838564823,
          7.430378939339908,
          2.394777337708072,
          -1.2178327013983625,
          8.937049543098997,
          -0.4027219811650527,
          1.3090229289606343,
          -0.739230468342975,
          3.1952077556525875,
          -1.0032535341479625,
          -2.5580381001663186,
          -0.7958408038736428,
          -1.83777730540371,
          3.0536219617000393,
          -1.4537232954179975,
          -0.2821517963346803,
          -0.27804544649711493,
          -1.06460399734556,
          -2.6573372908926696,
          -1.1056334710066278,
          1.744309625437619,
          -1.384132797617662,
          -1.565411629820387,
          6.652057118856713,
          -0.6887430305162408,
          10.473478683281229,
          0.8593624761904879,
          -0.8546420308131943,
          -1.6040770728274458,
          -1.3104742891216377,
          -0.13899787207496384,
          -1.1943576038026185,
          -0.940619134924349,
          -0.8095446492673541,
          0.9462021880542224,
          -2.594602482483252,
          -2.2230648310837244,
          -1.3248463355548235,
          -1.2233393858069657,
          0.6446877416741748,
          0.15017350287692477,
          0.18290493301063782,
          -1.2853255722576242,
          1.510828867369923,
          -0.42806003464018383,
          -2.3663773740273712,
          -0.9602214142875561,
          -1.5030455959302813,
          -1.518705120746976,
          1.4961649350406836,
          -1.4262853821260666,
          -2.1198154924282835,
          0.08220243386154101,
          -0.6729990405136808,
          -1.5796078594934506,
          -1.7685895635091449,
          -1.9165229812373694,
          -0.4537275546477487,
          -1.4948033943074577,
          0.6690588406112672,
          9.823233183523607,
          -0.8879809834139087,
          -1.855855474548712,
          -1.2219169878040341,
          0.6208749633901016,
          -0.9101621219815941,
          -2.265257945789983,
          -0.8365812448136656,
          -1.4143970065428042,
          -0.9112494866530922,
          0.08278806212810425,
          -1.1006618384442224,
          -1.009153930608227,
          -0.22337024415675777,
          -1.6598538844292618,
          -0.6406205185854197,
          -0.5916806254006546,
          -0.7090763369697846,
          -0.18975844957122998,
          -2.3357889230889093,
          0.19880379888267227,
          -1.0270125482605255,
          -0.19438741334811016,
          -0.9917551404593618,
          -1.6549078527835916,
          -1.4760089099559313,
          -2.397960589403598,
          0.6740191775470926,
          0.8034696681592498,
          -1.6544733246239958,
          -1.0886274114619978,
          -2.632840175987237,
          -1.6587005954853535,
          -1.6892238077445378,
          -0.8931759612423512,
          -1.0485053744288657,
          -1.9557530186503547,
          -2.3115181510897673,
          3.399475447851245,
          -0.75790615967322,
          0.1759966446343969,
          -0.381764785660735,
          -2.2314821167013896,
          -0.9379665354139254,
          1.1745266070418043,
          0.7995927325128515,
          9.182740631059014,
          -0.20660048583216786,
          -0.5105336139725958,
          -2.0633208200665085,
          -1.1098384071076435,
          -0.35061903092072627,
          -0.6805855958595978,
          -0.07177146893506549,
          -0.7358273336343547,
          -1.5436510839823898,
          -0.2747584324309977,
          -1.8569202417938389,
          -2.046217844888674,
          -1.1202202703292596,
          7.018843230294568,
          -0.43778419926506956,
          -0.6839530781723528,
          -0.6431587357141456,
          -2.3655536485853492,
          -2.124882311749695,
          -1.7129951528694323,
          -1.1105938833879923,
          -0.5471636470686562,
          -0.6545314618786504,
          -1.4162088333783696,
          -0.7176593420017346,
          -1.7091405276956613,
          -0.7829129810038383,
          1.0161024280846518,
          -0.9048281827747726,
          -1.1601725099266895,
          -1.8473862705342725,
          -2.206392808896605,
          1.0325548088637841,
          -1.2285220413125035,
          -1.4437014130917862,
          -2.2143397913629803,
          1.5586328455090737,
          -0.7090551690739351,
          0.8686512070207257,
          -1.2881540199531467,
          0.3167145096370328,
          1.4469221165938162,
          0.44611680309461427,
          -1.8156843751894471,
          0.0977155201331083,
          -2.0482769536658085,
          -1.842024268789991,
          -1.1467117584775366,
          0.6333246293572863,
          -0.7602628248565431,
          2.112300894496799,
          -1.7776650149957938,
          -1.7440663644919605,
          7.098291325194219,
          -0.5562496300932752,
          -1.6430482034307503,
          -0.45557425913761707,
          0.8886781265366988,
          -0.4655276791152578,
          -1.4353259612067217,
          -1.0791321429481326,
          0.033694336861585225,
          0.32791770956709687,
          0.5255232652146427,
          -1.034658575233983,
          -0.17930553137401856,
          1.6355027499321788,
          -1.9638036896760573,
          -0.46882022938904694,
          0.39999056352704315,
          0.7288436752256008,
          4.1535385252402905,
          -1.6428504132043331,
          -1.930021496664256,
          -2.167859897861648,
          -1.65678710050911,
          -0.8718232629752666,
          3.3245443086830155,
          -0.20914280053909812,
          -0.7178278603789515,
          0.41176168973005295,
          -0.793732199653583,
          -2.458756675541937,
          -1.6649323790988166,
          -1.1864167020313603,
          -1.4364993465522289,
          -2.3531279669597844,
          -0.24683895199592099,
          -1.969992360010586,
          1.535169474834506,
          -0.8912381643919615,
          -0.47372543586215266,
          -0.8090147271714837,
          1.1515300054679882,
          -0.4262495796998165,
          -1.6168986723285563,
          -0.19710541430160103,
          -1.6950377731154604,
          0.5012730912819658,
          0.49160968625511176,
          4.496902518532066,
          -0.08645590456596555,
          -0.97032701033522,
          -0.010800273745187574,
          -1.2176993865619359,
          -0.3941693263824002,
          0.028713150776964395,
          0.5075025621397564,
          -0.2608998103343792,
          -0.21252574452667192,
          -1.168886644022731,
          -1.9507922119046819,
          -0.9265742344357716,
          -2.6157642017295326,
          1.7962678356570527,
          -2.697453600414738,
          2.2366904600297266,
          2.8347596370525148,
          -0.7081254022568705,
          -0.4387318447472558,
          -1.624018523767861,
          -2.9226633302796117,
          -1.7072531386366339,
          -2.796723883754578,
          -0.06572244061634698,
          -1.0758646092580957,
          -0.9829676591544024,
          0.513279380872041,
          0.3789561401574819,
          -1.3862187016803396,
          2.2812810036436963,
          -2.3909355477340855,
          -0.9381821831258915,
          -0.8814220406623902,
          6.482868449275952,
          -0.9567010223717881,
          -0.38683525570582916,
          2.530079294083163,
          -1.4444626700529013,
          -1.0834852975713705,
          -2.1610102018800146,
          -1.5617017121698646,
          3.4312850333928195,
          -1.2783947515574672,
          -0.7124994003526387,
          0.5231130861503194,
          -1.1322791026478096,
          -2.1889846850706376,
          -2.1950855627650943,
          4.644663153646324,
          -2.522241366135519,
          8.558534478794886,
          8.142853696654894,
          -1.7216185927886254,
          -0.1325389823436469,
          -1.1215355060871646,
          -1.6257457703754647,
          -0.7633921369903389,
          -2.434538543586982,
          -1.1017426766818064,
          5.406777723597107,
          1.14088887191943,
          1.0322392053715639,
          -2.2194232655401818,
          4.978720541767795,
          -0.8223773611380523,
          -2.4100787843758935,
          -2.4908965217964067,
          1.4287137114302353,
          -1.4763436191587462,
          0.525404855192017,
          -0.14488789826636622,
          -1.2018950545174016,
          -0.697029948363349,
          0.24881983002615243,
          1.404712654496383,
          -1.5922512570407792,
          0.26705849596496417,
          1.2210694792798846,
          -1.610377695307265,
          -0.6979318767437874,
          1.7212521652874884,
          0.029435012519593132,
          -0.9269330876516471,
          -0.12107840970131105,
          -0.39027412903687053,
          -0.8105671614547523,
          1.0610718180377379,
          0.9514166405459656,
          0.4514722803925375,
          5.277809674412316,
          -1.7504392695225488,
          5.639931311062406,
          2.889610498677005,
          -1.5932642361085534,
          -0.22940533196205,
          0.5088594081894848,
          -1.5892702154067149,
          -1.3439017825137363,
          -1.4960169387535494,
          -2.8157670392268694,
          0.5032415949142294,
          5.4986876406107035,
          -2.0888433041410996,
          1.584508682151987,
          -2.794958426767871,
          -1.788425775994305,
          -0.8413466263199443,
          -0.39484122089453266,
          4.144114240141319,
          -1.0707204721910082,
          0.2598291820082154,
          -1.618679015606012,
          -1.3510143841423925,
          1.5999969201083253,
          2.8726465249095705,
          -0.601777985136279,
          1.6063166286719088,
          2.7846544410692475,
          -0.27420520143427596,
          -0.09661915416258003,
          -1.4350342678827206,
          7.808123033578651,
          4.89361514384873,
          -2.3493035323620926,
          -0.7366884925741696,
          -0.20823512038516023,
          0.8725178971657763,
          -2.937653905991214,
          -2.170175746988029,
          1.471243114928943,
          1.3568278125160174,
          1.5928550640278079,
          -0.4165982945123394,
          1.716264089346069,
          -1.7969129864498112,
          0.682651244170288,
          -0.45784545268301136,
          1.8632547688344065,
          -0.1844819101547898,
          -0.7323007185546428,
          -0.9016207697943298,
          0.92042548396368,
          3.586885835314015,
          7.537820833986335,
          0.7095299511721347,
          -2.1997355209496208,
          -2.864457876373146,
          9.000794284926158,
          -2.1428105178073493,
          -1.5667628108978848,
          -0.28907520704933803,
          1.9481614522576187,
          -1.028360109211715,
          8.407075701048573,
          -0.17470662600828016,
          8.706081794192581,
          2.3478578821503215,
          -1.9445806718845504,
          -3.2987516897682254,
          -1.5450107144050658,
          -1.3379249031182576,
          -0.8486229594448722,
          -1.257949513561596,
          -2.593773254107982,
          7.970421102105022,
          -2.35816541311676,
          3.0690168759322667,
          1.891482962510357,
          3.2393749976717126,
          -0.38543782498213935,
          -1.8681169601682817
         ]
        },
        {
         "marker": {
          "color": "white",
          "size": 10,
          "symbol": "x"
         },
         "mode": "markers",
         "name": "Centroids",
         "type": "scatter",
         "x": [
          2.039878157473847,
          -6.75054124838749,
          -1.1177907524846833,
          -1.4450785192925586,
          1.4600904180258425,
          1.6207237067756668,
          0.3354957250840839,
          2.2945662150489126,
          -3.3795137911494524,
          0.437105776246443,
          -0.22677207719770778,
          -3.3082417117316303,
          -4.142289184135609,
          3.911924690618954,
          0.07690768450643964,
          -1.4136358333901147,
          -2.2518751603393907,
          -5.336745351659248,
          3.408350104579297,
          1.3235756270897236,
          0.3081607798011001,
          -1.7001293957148675,
          -0.8877686965338568,
          3.9361685023214177,
          -1.0189803725558813,
          -3.9475983202341607,
          -0.852695692459187,
          1.1157722008252489,
          -3.668379633159955,
          2.8583042767098927,
          0.8766809526507017,
          1.2378964410754998,
          4.185640459454322,
          -2.589968674992036,
          -5.956664369130393,
          -2.1503519392165624,
          -0.48268952131172793,
          2.2040294368987183,
          3.223779766072287,
          -4.7013379018058545,
          1.6723811534487167,
          1.1249499615509908,
          2.356480860782549
         ],
         "y": [
          -1.4271514191998107,
          -0.748569815719519,
          2.876768278999057,
          -1.1455190306053453,
          7.679297552604489,
          1.496460140332302,
          0.7367263483757205,
          0.5167379817552392,
          -1.1036982487862916,
          -2.4451860018033913,
          5.029194222127688,
          5.257545374032129,
          1.3888636752832972,
          -1.4869760957579081,
          -1.1990857175762486,
          9.111262335412283,
          0.5104441088861366,
          -1.6795898201740793,
          3.795304222781704,
          -2.295259822209183,
          2.6474842511467265,
          -2.5989994273526476,
          1.3997673251959677,
          -0.3269746240886879,
          6.548528617848592,
          -0.22769641219854928,
          -0.1962122895272908,
          -1.3038144056229393,
          -2.0860184357196325,
          -1.6542552274045303,
          -0.25651527362002385,
          4.855442145563547,
          1.4764052601846804,
          -1.9414448809791451,
          0.3737813745303108,
          4.371896239191637,
          -2.2548109103075245,
          -0.5984456905660204,
          -0.9288400526474297,
          -0.739003852595063,
          3.0285985604939363,
          9.184691180464938,
          -2.2860184839030615
         ]
        }
       ],
       "layout": {
        "height": 800,
        "plot_bgcolor": "rgba(0,0,0,0)",
        "showlegend": false,
        "template": {
         "data": {
          "bar": [
           {
            "error_x": {
             "color": "#2a3f5f"
            },
            "error_y": {
             "color": "#2a3f5f"
            },
            "marker": {
             "line": {
              "color": "#E5ECF6",
              "width": 0.5
             },
             "pattern": {
              "fillmode": "overlay",
              "size": 10,
              "solidity": 0.2
             }
            },
            "type": "bar"
           }
          ],
          "barpolar": [
           {
            "marker": {
             "line": {
              "color": "#E5ECF6",
              "width": 0.5
             },
             "pattern": {
              "fillmode": "overlay",
              "size": 10,
              "solidity": 0.2
             }
            },
            "type": "barpolar"
           }
          ],
          "carpet": [
           {
            "aaxis": {
             "endlinecolor": "#2a3f5f",
             "gridcolor": "white",
             "linecolor": "white",
             "minorgridcolor": "white",
             "startlinecolor": "#2a3f5f"
            },
            "baxis": {
             "endlinecolor": "#2a3f5f",
             "gridcolor": "white",
             "linecolor": "white",
             "minorgridcolor": "white",
             "startlinecolor": "#2a3f5f"
            },
            "type": "carpet"
           }
          ],
          "choropleth": [
           {
            "colorbar": {
             "outlinewidth": 0,
             "ticks": ""
            },
            "type": "choropleth"
           }
          ],
          "contour": [
           {
            "colorbar": {
             "outlinewidth": 0,
             "ticks": ""
            },
            "colorscale": [
             [
              0,
              "#0d0887"
             ],
             [
              0.1111111111111111,
              "#46039f"
             ],
             [
              0.2222222222222222,
              "#7201a8"
             ],
             [
              0.3333333333333333,
              "#9c179e"
             ],
             [
              0.4444444444444444,
              "#bd3786"
             ],
             [
              0.5555555555555556,
              "#d8576b"
             ],
             [
              0.6666666666666666,
              "#ed7953"
             ],
             [
              0.7777777777777778,
              "#fb9f3a"
             ],
             [
              0.8888888888888888,
              "#fdca26"
             ],
             [
              1,
              "#f0f921"
             ]
            ],
            "type": "contour"
           }
          ],
          "contourcarpet": [
           {
            "colorbar": {
             "outlinewidth": 0,
             "ticks": ""
            },
            "type": "contourcarpet"
           }
          ],
          "heatmap": [
           {
            "colorbar": {
             "outlinewidth": 0,
             "ticks": ""
            },
            "colorscale": [
             [
              0,
              "#0d0887"
             ],
             [
              0.1111111111111111,
              "#46039f"
             ],
             [
              0.2222222222222222,
              "#7201a8"
             ],
             [
              0.3333333333333333,
              "#9c179e"
             ],
             [
              0.4444444444444444,
              "#bd3786"
             ],
             [
              0.5555555555555556,
              "#d8576b"
             ],
             [
              0.6666666666666666,
              "#ed7953"
             ],
             [
              0.7777777777777778,
              "#fb9f3a"
             ],
             [
              0.8888888888888888,
              "#fdca26"
             ],
             [
              1,
              "#f0f921"
             ]
            ],
            "type": "heatmap"
           }
          ],
          "heatmapgl": [
           {
            "colorbar": {
             "outlinewidth": 0,
             "ticks": ""
            },
            "colorscale": [
             [
              0,
              "#0d0887"
             ],
             [
              0.1111111111111111,
              "#46039f"
             ],
             [
              0.2222222222222222,
              "#7201a8"
             ],
             [
              0.3333333333333333,
              "#9c179e"
             ],
             [
              0.4444444444444444,
              "#bd3786"
             ],
             [
              0.5555555555555556,
              "#d8576b"
             ],
             [
              0.6666666666666666,
              "#ed7953"
             ],
             [
              0.7777777777777778,
              "#fb9f3a"
             ],
             [
              0.8888888888888888,
              "#fdca26"
             ],
             [
              1,
              "#f0f921"
             ]
            ],
            "type": "heatmapgl"
           }
          ],
          "histogram": [
           {
            "marker": {
             "pattern": {
              "fillmode": "overlay",
              "size": 10,
              "solidity": 0.2
             }
            },
            "type": "histogram"
           }
          ],
          "histogram2d": [
           {
            "colorbar": {
             "outlinewidth": 0,
             "ticks": ""
            },
            "colorscale": [
             [
              0,
              "#0d0887"
             ],
             [
              0.1111111111111111,
              "#46039f"
             ],
             [
              0.2222222222222222,
              "#7201a8"
             ],
             [
              0.3333333333333333,
              "#9c179e"
             ],
             [
              0.4444444444444444,
              "#bd3786"
             ],
             [
              0.5555555555555556,
              "#d8576b"
             ],
             [
              0.6666666666666666,
              "#ed7953"
             ],
             [
              0.7777777777777778,
              "#fb9f3a"
             ],
             [
              0.8888888888888888,
              "#fdca26"
             ],
             [
              1,
              "#f0f921"
             ]
            ],
            "type": "histogram2d"
           }
          ],
          "histogram2dcontour": [
           {
            "colorbar": {
             "outlinewidth": 0,
             "ticks": ""
            },
            "colorscale": [
             [
              0,
              "#0d0887"
             ],
             [
              0.1111111111111111,
              "#46039f"
             ],
             [
              0.2222222222222222,
              "#7201a8"
             ],
             [
              0.3333333333333333,
              "#9c179e"
             ],
             [
              0.4444444444444444,
              "#bd3786"
             ],
             [
              0.5555555555555556,
              "#d8576b"
             ],
             [
              0.6666666666666666,
              "#ed7953"
             ],
             [
              0.7777777777777778,
              "#fb9f3a"
             ],
             [
              0.8888888888888888,
              "#fdca26"
             ],
             [
              1,
              "#f0f921"
             ]
            ],
            "type": "histogram2dcontour"
           }
          ],
          "mesh3d": [
           {
            "colorbar": {
             "outlinewidth": 0,
             "ticks": ""
            },
            "type": "mesh3d"
           }
          ],
          "parcoords": [
           {
            "line": {
             "colorbar": {
              "outlinewidth": 0,
              "ticks": ""
             }
            },
            "type": "parcoords"
           }
          ],
          "pie": [
           {
            "automargin": true,
            "type": "pie"
           }
          ],
          "scatter": [
           {
            "fillpattern": {
             "fillmode": "overlay",
             "size": 10,
             "solidity": 0.2
            },
            "type": "scatter"
           }
          ],
          "scatter3d": [
           {
            "line": {
             "colorbar": {
              "outlinewidth": 0,
              "ticks": ""
             }
            },
            "marker": {
             "colorbar": {
              "outlinewidth": 0,
              "ticks": ""
             }
            },
            "type": "scatter3d"
           }
          ],
          "scattercarpet": [
           {
            "marker": {
             "colorbar": {
              "outlinewidth": 0,
              "ticks": ""
             }
            },
            "type": "scattercarpet"
           }
          ],
          "scattergeo": [
           {
            "marker": {
             "colorbar": {
              "outlinewidth": 0,
              "ticks": ""
             }
            },
            "type": "scattergeo"
           }
          ],
          "scattergl": [
           {
            "marker": {
             "colorbar": {
              "outlinewidth": 0,
              "ticks": ""
             }
            },
            "type": "scattergl"
           }
          ],
          "scattermapbox": [
           {
            "marker": {
             "colorbar": {
              "outlinewidth": 0,
              "ticks": ""
             }
            },
            "type": "scattermapbox"
           }
          ],
          "scatterpolar": [
           {
            "marker": {
             "colorbar": {
              "outlinewidth": 0,
              "ticks": ""
             }
            },
            "type": "scatterpolar"
           }
          ],
          "scatterpolargl": [
           {
            "marker": {
             "colorbar": {
              "outlinewidth": 0,
              "ticks": ""
             }
            },
            "type": "scatterpolargl"
           }
          ],
          "scatterternary": [
           {
            "marker": {
             "colorbar": {
              "outlinewidth": 0,
              "ticks": ""
             }
            },
            "type": "scatterternary"
           }
          ],
          "surface": [
           {
            "colorbar": {
             "outlinewidth": 0,
             "ticks": ""
            },
            "colorscale": [
             [
              0,
              "#0d0887"
             ],
             [
              0.1111111111111111,
              "#46039f"
             ],
             [
              0.2222222222222222,
              "#7201a8"
             ],
             [
              0.3333333333333333,
              "#9c179e"
             ],
             [
              0.4444444444444444,
              "#bd3786"
             ],
             [
              0.5555555555555556,
              "#d8576b"
             ],
             [
              0.6666666666666666,
              "#ed7953"
             ],
             [
              0.7777777777777778,
              "#fb9f3a"
             ],
             [
              0.8888888888888888,
              "#fdca26"
             ],
             [
              1,
              "#f0f921"
             ]
            ],
            "type": "surface"
           }
          ],
          "table": [
           {
            "cells": {
             "fill": {
              "color": "#EBF0F8"
             },
             "line": {
              "color": "white"
             }
            },
            "header": {
             "fill": {
              "color": "#C8D4E3"
             },
             "line": {
              "color": "white"
             }
            },
            "type": "table"
           }
          ]
         },
         "layout": {
          "annotationdefaults": {
           "arrowcolor": "#2a3f5f",
           "arrowhead": 0,
           "arrowwidth": 1
          },
          "autotypenumbers": "strict",
          "coloraxis": {
           "colorbar": {
            "outlinewidth": 0,
            "ticks": ""
           }
          },
          "colorscale": {
           "diverging": [
            [
             0,
             "#8e0152"
            ],
            [
             0.1,
             "#c51b7d"
            ],
            [
             0.2,
             "#de77ae"
            ],
            [
             0.3,
             "#f1b6da"
            ],
            [
             0.4,
             "#fde0ef"
            ],
            [
             0.5,
             "#f7f7f7"
            ],
            [
             0.6,
             "#e6f5d0"
            ],
            [
             0.7,
             "#b8e186"
            ],
            [
             0.8,
             "#7fbc41"
            ],
            [
             0.9,
             "#4d9221"
            ],
            [
             1,
             "#276419"
            ]
           ],
           "sequential": [
            [
             0,
             "#0d0887"
            ],
            [
             0.1111111111111111,
             "#46039f"
            ],
            [
             0.2222222222222222,
             "#7201a8"
            ],
            [
             0.3333333333333333,
             "#9c179e"
            ],
            [
             0.4444444444444444,
             "#bd3786"
            ],
            [
             0.5555555555555556,
             "#d8576b"
            ],
            [
             0.6666666666666666,
             "#ed7953"
            ],
            [
             0.7777777777777778,
             "#fb9f3a"
            ],
            [
             0.8888888888888888,
             "#fdca26"
            ],
            [
             1,
             "#f0f921"
            ]
           ],
           "sequentialminus": [
            [
             0,
             "#0d0887"
            ],
            [
             0.1111111111111111,
             "#46039f"
            ],
            [
             0.2222222222222222,
             "#7201a8"
            ],
            [
             0.3333333333333333,
             "#9c179e"
            ],
            [
             0.4444444444444444,
             "#bd3786"
            ],
            [
             0.5555555555555556,
             "#d8576b"
            ],
            [
             0.6666666666666666,
             "#ed7953"
            ],
            [
             0.7777777777777778,
             "#fb9f3a"
            ],
            [
             0.8888888888888888,
             "#fdca26"
            ],
            [
             1,
             "#f0f921"
            ]
           ]
          },
          "colorway": [
           "#636efa",
           "#EF553B",
           "#00cc96",
           "#ab63fa",
           "#FFA15A",
           "#19d3f3",
           "#FF6692",
           "#B6E880",
           "#FF97FF",
           "#FECB52"
          ],
          "font": {
           "color": "#2a3f5f"
          },
          "geo": {
           "bgcolor": "white",
           "lakecolor": "white",
           "landcolor": "#E5ECF6",
           "showlakes": true,
           "showland": true,
           "subunitcolor": "white"
          },
          "hoverlabel": {
           "align": "left"
          },
          "hovermode": "closest",
          "mapbox": {
           "style": "light"
          },
          "paper_bgcolor": "white",
          "plot_bgcolor": "#E5ECF6",
          "polar": {
           "angularaxis": {
            "gridcolor": "white",
            "linecolor": "white",
            "ticks": ""
           },
           "bgcolor": "#E5ECF6",
           "radialaxis": {
            "gridcolor": "white",
            "linecolor": "white",
            "ticks": ""
           }
          },
          "scene": {
           "xaxis": {
            "backgroundcolor": "#E5ECF6",
            "gridcolor": "white",
            "gridwidth": 2,
            "linecolor": "white",
            "showbackground": true,
            "ticks": "",
            "zerolinecolor": "white"
           },
           "yaxis": {
            "backgroundcolor": "#E5ECF6",
            "gridcolor": "white",
            "gridwidth": 2,
            "linecolor": "white",
            "showbackground": true,
            "ticks": "",
            "zerolinecolor": "white"
           },
           "zaxis": {
            "backgroundcolor": "#E5ECF6",
            "gridcolor": "white",
            "gridwidth": 2,
            "linecolor": "white",
            "showbackground": true,
            "ticks": "",
            "zerolinecolor": "white"
           }
          },
          "shapedefaults": {
           "line": {
            "color": "#2a3f5f"
           }
          },
          "ternary": {
           "aaxis": {
            "gridcolor": "white",
            "linecolor": "white",
            "ticks": ""
           },
           "baxis": {
            "gridcolor": "white",
            "linecolor": "white",
            "ticks": ""
           },
           "bgcolor": "#E5ECF6",
           "caxis": {
            "gridcolor": "white",
            "linecolor": "white",
            "ticks": ""
           }
          },
          "title": {
           "x": 0.05
          },
          "xaxis": {
           "automargin": true,
           "gridcolor": "white",
           "linecolor": "white",
           "ticks": "",
           "title": {
            "standoff": 15
           },
           "zerolinecolor": "white",
           "zerolinewidth": 2
          },
          "yaxis": {
           "automargin": true,
           "gridcolor": "white",
           "linecolor": "white",
           "ticks": "",
           "title": {
            "standoff": 15
           },
           "zerolinecolor": "white",
           "zerolinewidth": 2
          }
         }
        },
        "title": {
         "text": "K-means clustering on Spotify embeddings (PCA-reduced)"
        },
        "width": 800,
        "xaxis": {
         "maxallowed": 6.11290801086056,
         "minallowed": -8.482485269756806,
         "visible": false
        },
        "yaxis": {
         "maxallowed": 11.473478683281229,
         "minallowed": -4.78265336921393,
         "visible": false
        }
       }
      }
     },
     "metadata": {},
     "output_type": "display_data"
    }
   ],
   "source": [
    "# Generate a unique color for each region\n",
    "def generate_color(name, factor=0.25):\n",
    "    \"\"\"Generate a pastel color for the given name.\"\"\"\n",
    "    # Generate a color based on the hash of the name\n",
    "    hash_object = hashlib.md5(name.encode())\n",
    "    hex_dig = hash_object.hexdigest()\n",
    "    base_color = [int(hex_dig[i:i+2], 16) for i in (0, 2, 4)]\n",
    "\n",
    "    # Mix the color with white\n",
    "    pastel_color = [(1 - factor) * c + factor * 255 for c in base_color]\n",
    "    pastel_color_hex = ''.join(f'{int(c):02x}' for c in pastel_color)\n",
    "\n",
    "    return '#' + pastel_color_hex\n",
    "\n",
    "# Create Plotly figure\n",
    "fig = go.Figure()\n",
    "\n",
    "# Add Voronoi regions, each with a different color\n",
    "for region, center in zip(regions, kmeans.cluster_centers_):\n",
    "    polygon = vertices[region]\n",
    "    color = generate_color(str(center))\n",
    "    fig.add_trace(go.Scatter(\n",
    "        x=polygon[:, 0],\n",
    "        y=polygon[:, 1],\n",
    "        fill=\"toself\",\n",
    "        fillcolor=color,\n",
    "        mode='lines',\n",
    "        line=dict(color='rgba(0,0,0,0)')  # No border color\n",
    "    ))\n",
    "\n",
    "# Add scatter plot of points\n",
    "fig.add_trace(go.Scatter(\n",
    "    x=df['x'],\n",
    "    y=df['y'],\n",
    "    mode='markers',\n",
    "    marker=dict(color='black', size=5),\n",
    "    text=df.apply(lambda row: f\"{row['name']} by {row['artist']}\", axis=1),\n",
    "    hoverinfo='text'\n",
    "))\n",
    "\n",
    "# Add centroids\n",
    "fig.add_trace(go.Scatter(\n",
    "    x=kmeans.cluster_centers_[:, 0],\n",
    "    y=kmeans.cluster_centers_[:, 1],\n",
    "    mode='markers',\n",
    "    marker=dict(size=10, color='white', symbol='x'),\n",
    "    name='Centroids'\n",
    "))\n",
    "\n",
    "# Update layout\n",
    "fig.update_layout(\n",
    "    title=\"K-means clustering on Spotify embeddings (PCA-reduced)\",\n",
    "    xaxis=dict(visible=False),\n",
    "    yaxis=dict(visible=False),\n",
    "    showlegend=False,\n",
    "    width=800,\n",
    "    height=800,\n",
    "    plot_bgcolor='rgba(0,0,0,0)'\n",
    ")\n",
    "\n",
    "fig.update_xaxes(minallowed=df['x'].min()-1, maxallowed=df['x'].max()+1)\n",
    "fig.update_yaxes(minallowed=df['y'].min()-1, maxallowed=df['y'].max()+1)\n",
    "\n",
    "\n",
    "# Show the plot\n",
    "fig.show()"
   ]
  },
  {
   "cell_type": "code",
   "execution_count": null,
   "metadata": {},
   "outputs": [],
   "source": []
  }
 ],
 "metadata": {
  "kernelspec": {
   "display_name": "Python 3",
   "language": "python",
   "name": "python3"
  },
  "language_info": {
   "codemirror_mode": {
    "name": "ipython",
    "version": 3
   },
   "file_extension": ".py",
   "mimetype": "text/x-python",
   "name": "python",
   "nbconvert_exporter": "python",
   "pygments_lexer": "ipython3",
   "version": "3.11.9"
  }
 },
 "nbformat": 4,
 "nbformat_minor": 2
}
