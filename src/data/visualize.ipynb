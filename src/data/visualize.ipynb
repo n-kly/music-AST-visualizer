{
 "cells": [
  {
   "cell_type": "code",
   "execution_count": 1,
   "metadata": {},
   "outputs": [],
   "source": [
    "import os\n",
    "from sklearn.cluster import KMeans\n",
    "from sklearn.decomposition import PCA\n",
    "from pinecone import Pinecone\n",
    "from dotenv import load_dotenv\n",
    "import pandas as pd\n",
    "import numpy as np\n",
    "import plotly.graph_objects as go\n",
    "from scipy.spatial import Voronoi\n",
    "import hashlib"
   ]
  },
  {
   "cell_type": "code",
   "execution_count": 2,
   "metadata": {},
   "outputs": [],
   "source": [
    "# Load environment variables\n",
    "load_dotenv()\n",
    "\n",
    "# Initialize Pinecone\n",
    "pc = Pinecone(\n",
    "    api_key=os.getenv('PINECONE_API_KEY'),\n",
    "    environment=os.getenv('PINECONE_ENVIRONMENT')\n",
    ")\n",
    "index = pc.Index('music-embeddings')"
   ]
  },
  {
   "cell_type": "code",
   "execution_count": 3,
   "metadata": {},
   "outputs": [
    {
     "name": "stdout",
     "output_type": "stream",
     "text": [
      "Total vectors in index: 651\n"
     ]
    }
   ],
   "source": [
    "# Fetch all vectors\n",
    "vector_count = index.describe_index_stats()['total_vector_count']\n",
    "print(f\"Total vectors in index: {vector_count}\")\n",
    "\n",
    "# Query to get the top k vectors\n",
    "index_arr = index.query(vector=[0 for _ in range(768)], top_k=vector_count, include_metadata=True)\n",
    "\n",
    "# Fetch the vectors using the retrieved IDs in batches\n",
    "vector_ids = [v['id'] for v in index_arr['matches']]\n",
    "batch_size = 100  # Adjust batch size as needed\n",
    "embeddings = []\n",
    "metadata = []\n",
    "\n",
    "for i in range(0, len(vector_ids), batch_size):\n",
    "    batch_ids = vector_ids[i:i + batch_size]\n",
    "    response = index.fetch(ids=batch_ids)\n",
    "    batch_embeddings = [v['values'] for v in response['vectors'].values()]\n",
    "    batch_metadata = [v['metadata'] for v in response['vectors'].values()]\n",
    "    for id_, meta in zip(batch_ids, batch_metadata):\n",
    "        meta['id'] = id_\n",
    "    embeddings.extend(batch_embeddings)\n",
    "    metadata.extend(batch_metadata)\n",
    "\n",
    "# Convert to numpy array\n",
    "embeddings = np.array(embeddings)"
   ]
  },
  {
   "cell_type": "code",
   "execution_count": 4,
   "metadata": {},
   "outputs": [],
   "source": [
    "# Credit to gmacro on stackoverflow for the foundation for this function\n",
    "def voronoi_finite_polygons_2d(vor, radius=None):\n",
    "    # Check if the input is 2D\n",
    "    if vor.points.shape[1] != 2:\n",
    "        raise ValueError(\"Requires 2D input\")\n",
    "\n",
    "    # Calculate the center of the points\n",
    "    center = vor.points.mean(axis=0)\n",
    "    if radius is None:\n",
    "        radius = vor.points.ptp().max() * 2\n",
    "\n",
    "    new_regions = []\n",
    "    new_vertices = vor.vertices.tolist()\n",
    "\n",
    "    # Construct a map containing all ridges for a given point\n",
    "    all_ridges = construct_ridge_map(vor)\n",
    "\n",
    "    # Reconstruct regions\n",
    "    for p1, region in enumerate(vor.point_region):\n",
    "        vertices = vor.regions[region]\n",
    "\n",
    "        if all(v >= 0 for v in vertices):\n",
    "            # Finite region\n",
    "            new_regions.append(vertices)\n",
    "        else:\n",
    "            # Reconstruct a non-finite region\n",
    "            new_region = reconstruct_infinite_region(p1, vertices, all_ridges, vor, center, radius, new_vertices)\n",
    "            new_regions.append(new_region)\n",
    "\n",
    "    return new_regions, np.asarray(new_vertices)\n",
    "\n",
    "def construct_ridge_map(vor):\n",
    "    all_ridges = {}\n",
    "    for (p1, p2), (v1, v2) in zip(vor.ridge_points, vor.ridge_vertices):\n",
    "        all_ridges.setdefault(p1, []).append((p2, v1, v2))\n",
    "        all_ridges.setdefault(p2, []).append((p1, v1, v2))\n",
    "    return all_ridges\n",
    "\n",
    "def reconstruct_infinite_region(p1, vertices, all_ridges, vor, center, radius, new_vertices):\n",
    "    new_region = [v for v in vertices if v >= 0]\n",
    "    for p2, v1, v2 in all_ridges[p1]:\n",
    "        if v2 < 0:\n",
    "            v1, v2 = v2, v1\n",
    "        if v1 >= 0:\n",
    "            # Finite ridge: already in the region\n",
    "            continue\n",
    "        # Compute the missing endpoint of an infinite ridge\n",
    "        far_point = compute_far_point(p1, p2, v2, vor, center, radius)\n",
    "        new_region.append(len(new_vertices))\n",
    "        new_vertices.append(far_point.tolist())\n",
    "    # Sort region counterclockwise\n",
    "    new_region = sort_region_counterclockwise(new_region, new_vertices)\n",
    "    return new_region\n",
    "\n",
    "def compute_far_point(p1, p2, v2, vor, center, radius):\n",
    "    tangent = vor.points[p2] - vor.points[p1]  # Tangent vector\n",
    "    tangent /= np.linalg.norm(tangent)\n",
    "    normal = np.array([-tangent[1], tangent[0]])  # Normal vector\n",
    "    midpoint = vor.points[[p1, p2]].mean(axis=0)\n",
    "    direction = np.sign(np.dot(midpoint - center, normal)) * normal\n",
    "    far_point = vor.vertices[v2] + direction * radius\n",
    "    return far_point\n",
    "\n",
    "def sort_region_counterclockwise(region, vertices):\n",
    "    vs = np.asarray([vertices[v] for v in region])\n",
    "    center = vs.mean(axis=0)\n",
    "    angles = np.arctan2(vs[:, 1] - center[1], vs[:, 0] - center[0])\n",
    "    sorted_region = np.array(region)[np.argsort(angles)]\n",
    "    return sorted_region.tolist()"
   ]
  },
  {
   "cell_type": "code",
   "execution_count": 5,
   "metadata": {},
   "outputs": [],
   "source": [
    "# Perform PCA\n",
    "pca = PCA(n_components=2)\n",
    "reduced_embeddings = pca.fit_transform(embeddings)\n",
    "\n",
    "# Perform K-means clustering\n",
    "n_clusters = vector_count//15  # Adjust this number as needed\n",
    "kmeans = KMeans(n_clusters=n_clusters, init=\"k-means++\", n_init=4, random_state=42)\n",
    "cluster_labels = kmeans.fit_predict(reduced_embeddings)\n",
    "\n",
    "# Prepare data for Plotly\n",
    "data = {\n",
    "    'x': reduced_embeddings[:, 0],\n",
    "    'y': reduced_embeddings[:, 1],\n",
    "    'name': [m['name'] for m in metadata],\n",
    "    'artist': [m['artist'] for m in metadata],\n",
    "    'genre': [m['genre'] for m in metadata],\n",
    "    'cluster': cluster_labels,\n",
    "    'id': [m['id'] for m in metadata]\n",
    "}\n",
    "\n",
    "# Create a DataFrame for easier manipulation\n",
    "df = pd.DataFrame(data)\n",
    "\n",
    "vor = Voronoi(kmeans.cluster_centers_)\n",
    "regions, vertices = voronoi_finite_polygons_2d(vor)"
   ]
  },
  {
   "cell_type": "code",
   "execution_count": 6,
   "metadata": {},
   "outputs": [
    {
     "data": {
      "application/vnd.plotly.v1+json": {
       "config": {
        "plotlyServerURL": "https://plot.ly"
       },
       "data": [
        {
         "fill": "toself",
         "fillcolor": "#9a65f7",
         "line": {
          "color": "rgba(0,0,0,0)"
         },
         "mode": "lines",
         "type": "scatter",
         "x": [
          -0.5911591675744361,
          0.057938977772984346,
          0.612413003341232,
          0.670866475516572,
          0.01856918828980092,
          -0.564252045991666
         ],
         "y": [
          -1.5436003752439746,
          -1.9119183110390983,
          -1.7069063121931638,
          -0.9411386804381122,
          -0.4166116165736272,
          -0.9387052775149228
         ]
        },
        {
         "fill": "toself",
         "fillcolor": "#dac0c9",
         "line": {
          "color": "rgba(0,0,0,0)"
         },
         "mode": "lines",
         "type": "scatter",
         "x": [
          0.7159359393331922,
          0.4214698732349256,
          -0.13083780662714395,
          7.036894260497132,
          2.7180325462898796
         ],
         "y": [
          6.251366194244661,
          6.447434654735271,
          7.96557844279602,
          9.110549030746576,
          6.170015656171618
         ]
        },
        {
         "fill": "toself",
         "fillcolor": "#bbf6fe",
         "line": {
          "color": "rgba(0,0,0,0)"
         },
         "mode": "lines",
         "type": "scatter",
         "x": [
          -16.358712928570874,
          -14.281983432441594,
          -3.729749327534604,
          -4.116505682210098,
          -4.889832507165472
         ],
         "y": [
          -30.720487248696,
          -31.725806669308067,
          -1.6779519644512761,
          -1.0858771062593755,
          -1.0104216336817713
         ]
        },
        {
         "fill": "toself",
         "fillcolor": "#fbd144",
         "line": {
          "color": "rgba(0,0,0,0)"
         },
         "mode": "lines",
         "type": "scatter",
         "x": [
          18.825848368963598,
          30.868315497907272,
          3.011001774827277,
          2.720673551965156
         ],
         "y": [
          -28.667754203061914,
          -15.894760462560592,
          -0.46124857761212634,
          -1.1932831238424653
         ]
        },
        {
         "fill": "toself",
         "fillcolor": "#7884cc",
         "line": {
          "color": "rgba(0,0,0,0)"
         },
         "mode": "lines",
         "type": "scatter",
         "x": [
          0.7978530675707804,
          0.03399276242500596,
          -0.7013928806329601,
          -0.5924582192929742,
          0.7036455556445206
         ],
         "y": [
          0.29526195240045694,
          -0.2042875845051776,
          0.7090648104449616,
          0.9579317023057257,
          1.2759189840629566
         ]
        },
        {
         "fill": "toself",
         "fillcolor": "#788491",
         "line": {
          "color": "rgba(0,0,0,0)"
         },
         "mode": "lines",
         "type": "scatter",
         "x": [
          -0.39759529167742014,
          -1.031806800550501,
          -1.98258610863483,
          -2.4461657648864215,
          -2.0021731295199237,
          -0.6270598558394989
         ],
         "y": [
          4.087874228544467,
          5.527418530662053,
          5.6827654653328405,
          4.362303636421509,
          3.611853584016107,
          3.797699802282121
         ]
        },
        {
         "fill": "toself",
         "fillcolor": "#b4a290",
         "line": {
          "color": "rgba(0,0,0,0)"
         },
         "mode": "lines",
         "type": "scatter",
         "x": [
          1.4742996981531964,
          1.87000772762483,
          2.720673551965156,
          3.011001774827277,
          2.984691575678683,
          1.6847118134638934,
          1.6541732656073775
         ],
         "y": [
          -0.6612608277763847,
          -1.403755405930052,
          -1.1932831238424653,
          -0.46124857761212634,
          -0.34788839809140926,
          -0.07595958051240081,
          -0.09437750965583888
         ]
        },
        {
         "fill": "toself",
         "fillcolor": "#b8746f",
         "line": {
          "color": "rgba(0,0,0,0)"
         },
         "mode": "lines",
         "type": "scatter",
         "x": [
          -1.4542313091261976,
          -1.390833391299089,
          -2.6866143941087874,
          -3.2896075236118905,
          -3.2721120449964047,
          -2.347958695529347,
          -2.3024152078230697
         ],
         "y": [
          -0.4703348413725461,
          0.4182909473893065,
          1.0177146974766211,
          0.3718468761977647,
          0.21603076972086266,
          -1.1421921349146897,
          -1.1396505173780693
         ]
        },
        {
         "fill": "toself",
         "fillcolor": "#727873",
         "line": {
          "color": "rgba(0,0,0,0)"
         },
         "mode": "lines",
         "type": "scatter",
         "x": [
          1.1732707804191898,
          1.9524646376069212,
          3.114502755350874,
          3.124961882693253,
          1.9281438934561788
         ],
         "y": [
          1.5555625965611521,
          0.8397339383462185,
          1.2154853161164432,
          2.14770867966854,
          2.4759282924308565
         ]
        },
        {
         "fill": "toself",
         "fillcolor": "#c6b15c",
         "line": {
          "color": "rgba(0,0,0,0)"
         },
         "mode": "lines",
         "type": "scatter",
         "x": [
          -3.1340295797681357,
          -0.15981418146091353,
          1.7775907872877956,
          -72.13992897191132,
          -44.20900046519118
         ],
         "y": [
          7.534570417216186,
          7.992593211074142,
          39.780478937495374,
          41.44712342330804,
          26.147239445923272
         ]
        },
        {
         "fill": "toself",
         "fillcolor": "#4fe4c6",
         "line": {
          "color": "rgba(0,0,0,0)"
         },
         "mode": "lines",
         "type": "scatter",
         "x": [
          -19.284832872142132,
          -16.358712928570874,
          -4.889832507165472,
          -5.2889078599459,
          -5.987382883834873
         ],
         "y": [
          -29.38409930865752,
          -30.720487248696,
          -1.0104216336817713,
          -0.4085297136563354,
          -0.44621685714746084
         ]
        },
        {
         "fill": "toself",
         "fillcolor": "#af7f8f",
         "line": {
          "color": "rgba(0,0,0,0)"
         },
         "mode": "lines",
         "type": "scatter",
         "x": [
          13.898954592715581,
          18.825848368963598,
          2.720673551965156,
          1.87000772762483,
          1.7782702890650444
         ],
         "y": [
          -31.082330425603296,
          -28.667754203061914,
          -1.1932831238424653,
          -1.403755405930052,
          -1.6321652481346558
         ]
        },
        {
         "fill": "toself",
         "fillcolor": "#54a74b",
         "line": {
          "color": "rgba(0,0,0,0)"
         },
         "mode": "lines",
         "type": "scatter",
         "x": [
          -1.4542313091261976,
          -0.564252045991666,
          -0.5911591675744361,
          -1.2022972195384711,
          -2.3024152078230697
         ],
         "y": [
          -0.4703348413725461,
          -0.9387052775149228,
          -1.5436003752439746,
          -1.9564424775625842,
          -1.1396505173780693
         ]
        },
        {
         "fill": "toself",
         "fillcolor": "#fc7972",
         "line": {
          "color": "rgba(0,0,0,0)"
         },
         "mode": "lines",
         "type": "scatter",
         "x": [
          6.499986988045396,
          13.898954592715581,
          1.7782702890650444,
          0.9186744813645906
         ],
         "y": [
          -33.236602457113094,
          -31.082330425603296,
          -1.6321652481346558,
          -1.8826207694276358
         ]
        },
        {
         "fill": "toself",
         "fillcolor": "#65a466",
         "line": {
          "color": "rgba(0,0,0,0)"
         },
         "mode": "lines",
         "type": "scatter",
         "x": [
          -5.2889078599459,
          -4.666548327617122,
          -6.38611690603723,
          -7.173667651046636,
          -16.832494205802725,
          -5.987382883834873
         ],
         "y": [
          -0.4085297136563354,
          0.7115038489315098,
          3.58440481900466,
          4.25288079580345,
          9.447382427127488,
          -0.44621685714746084
         ]
        },
        {
         "fill": "toself",
         "fillcolor": "#deea90",
         "line": {
          "color": "rgba(0,0,0,0)"
         },
         "mode": "lines",
         "type": "scatter",
         "x": [
          1.9281438934561788,
          3.124961882693253,
          4.122472293141413,
          2.317795548296244,
          1.4075228937889657,
          1.4046215792639052
         ],
         "y": [
          2.4759282924308565,
          2.14770867966854,
          3.077158311056226,
          4.374456818804761,
          3.763501516487042,
          3.451658650326655
         ]
        },
        {
         "fill": "toself",
         "fillcolor": "#dac4fc",
         "line": {
          "color": "rgba(0,0,0,0)"
         },
         "mode": "lines",
         "type": "scatter",
         "x": [
          -0.8684147388040823,
          -2.3953954417746166,
          -2.0021731295199237,
          -0.6270598558394989,
          -0.27064198999932515
         ],
         "y": [
          2.0134163252314394,
          2.311052839663578,
          3.611853584016107,
          3.797699802282121,
          2.547753035901998
         ]
        },
        {
         "fill": "toself",
         "fillcolor": "#51f8bf",
         "line": {
          "color": "rgba(0,0,0,0)"
         },
         "mode": "lines",
         "type": "scatter",
         "x": [
          -0.5924582192929742,
          -0.8684147388040823,
          -2.3953954417746166,
          -2.5799494434409564,
          -2.6866143941087874,
          -1.390833391299089,
          -0.7013928806329601
         ],
         "y": [
          0.9579317023057257,
          2.0134163252314394,
          2.311052839663578,
          2.1654725065474145,
          1.0177146974766211,
          0.4182909473893065,
          0.7090648104449616
         ]
        },
        {
         "fill": "toself",
         "fillcolor": "#f0e2bc",
         "line": {
          "color": "rgba(0,0,0,0)"
         },
         "mode": "lines",
         "type": "scatter",
         "x": [
          -1.2022972195384711,
          -2.1753155413024583,
          -6.217730510481426,
          0.057938977772984346,
          -0.5911591675744361
         ],
         "y": [
          -1.9564424775625842,
          -9.196786708830288,
          -91.97886019975742,
          -1.9119183110390983,
          -1.5436003752439746
         ]
        },
        {
         "fill": "toself",
         "fillcolor": "#769445",
         "line": {
          "color": "rgba(0,0,0,0)"
         },
         "mode": "lines",
         "type": "scatter",
         "x": [
          -19.284832872142132,
          -5.987382883834873,
          -16.832494205802725,
          -44.20900046519118,
          -72.13992897191132
         ],
         "y": [
          -29.38409930865752,
          -0.44621685714746084,
          9.447382427127488,
          26.147239445923272,
          41.44712342330804
         ]
        },
        {
         "fill": "toself",
         "fillcolor": "#85a3e0",
         "line": {
          "color": "rgba(0,0,0,0)"
         },
         "mode": "lines",
         "type": "scatter",
         "x": [
          0.670866475516572,
          0.612413003341232,
          0.9186744813645906,
          1.7782702890650444,
          1.87000772762483,
          1.4742996981531964
         ],
         "y": [
          -0.9411386804381122,
          -1.7069063121931638,
          -1.8826207694276358,
          -1.6321652481346558,
          -1.403755405930052,
          -0.6612608277763847
         ]
        },
        {
         "fill": "toself",
         "fillcolor": "#6454cc",
         "line": {
          "color": "rgba(0,0,0,0)"
         },
         "mode": "lines",
         "type": "scatter",
         "x": [
          0.13248487641701567,
          -0.27064198999932515,
          -0.6270598558394989,
          -0.39759529167742014,
          0.5733492708188879,
          1.4075228937889657,
          1.4046215792639052
         ],
         "y": [
          2.468906179480026,
          2.547753035901998,
          3.797699802282121,
          4.087874228544467,
          4.289135413030235,
          3.763501516487042,
          3.451658650326655
         ]
        },
        {
         "fill": "toself",
         "fillcolor": "#4cb092",
         "line": {
          "color": "rgba(0,0,0,0)"
         },
         "mode": "lines",
         "type": "scatter",
         "x": [
          -0.15981418146091353,
          -0.13083780662714395,
          7.036894260497132,
          35.4760476482338,
          1.7775907872877956
         ],
         "y": [
          7.992593211074142,
          7.96557844279602,
          9.110549030746576,
          23.443649587071874,
          39.780478937495374
         ]
        },
        {
         "fill": "toself",
         "fillcolor": "#67dffd",
         "line": {
          "color": "rgba(0,0,0,0)"
         },
         "mode": "lines",
         "type": "scatter",
         "x": [
          -7.173667651046636,
          -2.4461657648864215,
          -1.98258610863483,
          -3.1340295797681357,
          -44.20900046519118,
          -16.832494205802725
         ],
         "y": [
          4.25288079580345,
          4.362303636421509,
          5.6827654653328405,
          7.534570417216186,
          26.147239445923272,
          9.447382427127488
         ]
        },
        {
         "fill": "toself",
         "fillcolor": "#5f6770",
         "line": {
          "color": "rgba(0,0,0,0)"
         },
         "mode": "lines",
         "type": "scatter",
         "x": [
          0.7159359393331922,
          0.4214698732349256,
          -1.031806800550501,
          -0.39759529167742014,
          0.5733492708188879
         ],
         "y": [
          6.251366194244661,
          6.447434654735271,
          5.527418530662053,
          4.087874228544467,
          4.289135413030235
         ]
        },
        {
         "fill": "toself",
         "fillcolor": "#78f4b1",
         "line": {
          "color": "rgba(0,0,0,0)"
         },
         "mode": "lines",
         "type": "scatter",
         "x": [
          0.7978530675707804,
          1.6541732656073775,
          1.4742996981531964,
          0.670866475516572,
          0.01856918828980092,
          0.03399276242500596
         ],
         "y": [
          0.29526195240045694,
          -0.09437750965583888,
          -0.6612608277763847,
          -0.9411386804381122,
          -0.4166116165736272,
          -0.2042875845051776
         ]
        },
        {
         "fill": "toself",
         "fillcolor": "#c5cc7f",
         "line": {
          "color": "rgba(0,0,0,0)"
         },
         "mode": "lines",
         "type": "scatter",
         "x": [
          -5.2889078599459,
          -4.666548327617122,
          -3.2896075236118905,
          -3.2721120449964047,
          -4.116505682210098,
          -4.889832507165472
         ],
         "y": [
          -0.4085297136563354,
          0.7115038489315098,
          0.3718468761977647,
          0.21603076972086266,
          -1.0858771062593755,
          -1.0104216336817713
         ]
        },
        {
         "fill": "toself",
         "fillcolor": "#8dbc6e",
         "line": {
          "color": "rgba(0,0,0,0)"
         },
         "mode": "lines",
         "type": "scatter",
         "x": [
          -7.956696299294321,
          -6.217730510481426,
          -2.1753155413024583,
          -2.6156397741883017,
          -3.729749327534604,
          -14.281983432441594
         ],
         "y": [
          -123.77821891898768,
          -91.97886019975742,
          -9.196786708830288,
          -1.482135161846028,
          -1.6779519644512761,
          -31.725806669308067
         ]
        },
        {
         "fill": "toself",
         "fillcolor": "#c760d8",
         "line": {
          "color": "rgba(0,0,0,0)"
         },
         "mode": "lines",
         "type": "scatter",
         "x": [
          -1.4542313091261976,
          -1.390833391299089,
          -0.7013928806329601,
          0.03399276242500596,
          0.01856918828980092,
          -0.564252045991666
         ],
         "y": [
          -0.4703348413725461,
          0.4182909473893065,
          0.7090648104449616,
          -0.2042875845051776,
          -0.4166116165736272,
          -0.9387052775149228
         ]
        },
        {
         "fill": "toself",
         "fillcolor": "#f06fd0",
         "line": {
          "color": "rgba(0,0,0,0)"
         },
         "mode": "lines",
         "type": "scatter",
         "x": [
          -2.3024152078230697,
          -2.347958695529347,
          -2.6156397741883017,
          -2.1753155413024583,
          -1.2022972195384711
         ],
         "y": [
          -1.1396505173780693,
          -1.1421921349146897,
          -1.482135161846028,
          -9.196786708830288,
          -1.9564424775625842
         ]
        },
        {
         "fill": "toself",
         "fillcolor": "#8786ea",
         "line": {
          "color": "rgba(0,0,0,0)"
         },
         "mode": "lines",
         "type": "scatter",
         "x": [
          3.124961882693253,
          3.114502755350874,
          3.4771036653270238,
          34.92985391742194,
          35.08003699998437,
          4.122472293141413
         ],
         "y": [
          2.14770867966854,
          1.2154853161164432,
          0.6408385337163546,
          -4.3539305849006675,
          10.550604931630819,
          3.077158311056226
         ]
        },
        {
         "fill": "toself",
         "fillcolor": "#6c7357",
         "line": {
          "color": "rgba(0,0,0,0)"
         },
         "mode": "lines",
         "type": "scatter",
         "x": [
          0.861250851015571,
          0.13248487641701567,
          1.4046215792639052,
          1.9281438934561788,
          1.1732707804191898
         ],
         "y": [
          1.4911000935787326,
          2.468906179480026,
          3.451658650326655,
          2.4759282924308565,
          1.5555625965611521
         ]
        },
        {
         "fill": "toself",
         "fillcolor": "#5a9f6e",
         "line": {
          "color": "rgba(0,0,0,0)"
         },
         "mode": "lines",
         "type": "scatter",
         "x": [
          -6.38611690603723,
          -7.173667651046636,
          -2.4461657648864215,
          -2.0021731295199237,
          -2.3953954417746166,
          -2.5799494434409564
         ],
         "y": [
          3.58440481900466,
          4.25288079580345,
          4.362303636421509,
          3.611853584016107,
          2.311052839663578,
          2.1654725065474145
         ]
        },
        {
         "fill": "toself",
         "fillcolor": "#48425a",
         "line": {
          "color": "rgba(0,0,0,0)"
         },
         "mode": "lines",
         "type": "scatter",
         "x": [
          30.868315497907272,
          34.92985391742194,
          3.4771036653270238,
          2.984691575678683,
          3.011001774827277
         ],
         "y": [
          -15.894760462560592,
          -4.3539305849006675,
          0.6408385337163546,
          -0.34788839809140926,
          -0.46124857761212634
         ]
        },
        {
         "fill": "toself",
         "fillcolor": "#88aec9",
         "line": {
          "color": "rgba(0,0,0,0)"
         },
         "mode": "lines",
         "type": "scatter",
         "x": [
          -4.116505682210098,
          -3.2721120449964047,
          -2.347958695529347,
          -2.6156397741883017,
          -3.729749327534604
         ],
         "y": [
          -1.0858771062593755,
          0.21603076972086266,
          -1.1421921349146897,
          -1.482135161846028,
          -1.6779519644512761
         ]
        },
        {
         "fill": "toself",
         "fillcolor": "#b442bd",
         "line": {
          "color": "rgba(0,0,0,0)"
         },
         "mode": "lines",
         "type": "scatter",
         "x": [
          0.861250851015571,
          0.7036455556445206,
          0.7978530675707804,
          1.6541732656073775,
          1.6847118134638934,
          1.9524646376069212,
          1.1732707804191898
         ],
         "y": [
          1.4911000935787326,
          1.2759189840629566,
          0.29526195240045694,
          -0.09437750965583888,
          -0.07595958051240081,
          0.8397339383462185,
          1.5555625965611521
         ]
        },
        {
         "fill": "toself",
         "fillcolor": "#43ffbd",
         "line": {
          "color": "rgba(0,0,0,0)"
         },
         "mode": "lines",
         "type": "scatter",
         "x": [
          -0.13083780662714395,
          0.4214698732349256,
          -1.031806800550501,
          -1.98258610863483,
          -3.1340295797681357,
          -0.15981418146091353
         ],
         "y": [
          7.96557844279602,
          6.447434654735271,
          5.527418530662053,
          5.6827654653328405,
          7.534570417216186,
          7.992593211074142
         ]
        },
        {
         "fill": "toself",
         "fillcolor": "#a16b60",
         "line": {
          "color": "rgba(0,0,0,0)"
         },
         "mode": "lines",
         "type": "scatter",
         "x": [
          7.036894260497132,
          2.7180325462898796,
          2.317795548296244,
          4.122472293141413,
          35.08003699998437,
          35.4760476482338
         ],
         "y": [
          9.110549030746576,
          6.170015656171618,
          4.374456818804761,
          3.077158311056226,
          10.550604931630819,
          23.443649587071874
         ]
        },
        {
         "fill": "toself",
         "fillcolor": "#f95152",
         "line": {
          "color": "rgba(0,0,0,0)"
         },
         "mode": "lines",
         "type": "scatter",
         "x": [
          -6.217730510481426,
          -7.956696299294321,
          6.499986988045396,
          0.9186744813645906,
          0.612413003341232,
          0.057938977772984346
         ],
         "y": [
          -91.97886019975742,
          -123.77821891898768,
          -33.236602457113094,
          -1.8826207694276358,
          -1.7069063121931638,
          -1.9119183110390983
         ]
        },
        {
         "fill": "toself",
         "fillcolor": "#d3ad4e",
         "line": {
          "color": "rgba(0,0,0,0)"
         },
         "mode": "lines",
         "type": "scatter",
         "x": [
          1.6847118134638934,
          1.9524646376069212,
          3.114502755350874,
          3.4771036653270238,
          2.984691575678683
         ],
         "y": [
          -0.07595958051240081,
          0.8397339383462185,
          1.2154853161164432,
          0.6408385337163546,
          -0.34788839809140926
         ]
        },
        {
         "fill": "toself",
         "fillcolor": "#c6f7ed",
         "line": {
          "color": "rgba(0,0,0,0)"
         },
         "mode": "lines",
         "type": "scatter",
         "x": [
          -3.2896075236118905,
          -2.6866143941087874,
          -2.5799494434409564,
          -6.38611690603723,
          -4.666548327617122
         ],
         "y": [
          0.3718468761977647,
          1.0177146974766211,
          2.1654725065474145,
          3.58440481900466,
          0.7115038489315098
         ]
        },
        {
         "fill": "toself",
         "fillcolor": "#5360a0",
         "line": {
          "color": "rgba(0,0,0,0)"
         },
         "mode": "lines",
         "type": "scatter",
         "x": [
          1.4075228937889657,
          0.5733492708188879,
          0.7159359393331922,
          2.7180325462898796,
          2.317795548296244
         ],
         "y": [
          3.763501516487042,
          4.289135413030235,
          6.251366194244661,
          6.170015656171618,
          4.374456818804761
         ]
        },
        {
         "fill": "toself",
         "fillcolor": "#7df6ea",
         "line": {
          "color": "rgba(0,0,0,0)"
         },
         "mode": "lines",
         "type": "scatter",
         "x": [
          0.861250851015571,
          0.7036455556445206,
          -0.5924582192929742,
          -0.8684147388040823,
          -0.27064198999932515,
          0.13248487641701567
         ],
         "y": [
          1.4911000935787326,
          1.2759189840629566,
          0.9579317023057257,
          2.0134163252314394,
          2.547753035901998,
          2.468906179480026
         ]
        },
        {
         "hoverinfo": "text",
         "marker": {
          "color": "black",
          "size": 5
         },
         "mode": "markers",
         "text": [
          "Fix My Eyes by for KING & COUNTRY",
          "a story once told by idylla",
          "Headbangeeeeerrrrr!!!!! by BABYMETAL",
          "Like Crazy by Jimin",
          "El Gato Que Está Triste y Azul - Un Gato Nel Blu by Roberto Carlos",
          "Answer (ABGT587) - Mixed by Dosem",
          "Boogie Wonderland by Earth, Wind & Fire",
          "Plastic Love by Mariya Takeuchi",
          "KARATE by BABYMETAL",
          "Fever by Vybz Kartel",
          "God Only Knows by for KING & COUNTRY",
          "Let's Groove by Earth, Wind & Fire",
          "LA PATRULLA by Peso Pluma",
          "PERRO NEGRO by Bad Bunny",
          "Smeraldo Garden Marching Band (feat. Loco) by Jimin",
          "Persona Ideal - Me Tengo Que Ir by Adolescent's Orquesta",
          "2 Step on My Haters by Cupid",
          "METALI!! - feat. Tom Morello by BABYMETAL",
          "在加納共和國離婚 by Firdhaus",
          "Stayed Gone by Christian Borle",
          "Alô Amor by Wesley Safadão",
          "con leche by Camden Clown",
          "Detalles (Detalhes) by Roberto Carlos",
          "How Sweet by NewJeans",
          "Feeling Good by Michael Bublé",
          "A Million Dreams by Ziv Zaifman",
          "Uptown Girl by Billy Joel",
          "Amigo by Roberto Carlos",
          "Friend of the Devil by Grateful Dead",
          "Suavemente by Elvis Crespo",
          "Virgen by Adolescent's Orquesta",
          "La Bebe - Remix by Yng Lvcas",
          "Yo No Sé Mañana by Luis Enrique",
          "La Víctima by Xavi",
          "Everyone Falls in Love by Tanto Metro & Devonte",
          "Again by Fetty Wap",
          "PA PA YA!! by BABYMETAL",
          "Once Upon a December (from Anastasia) by Emile Pandolfi",
          "same dream by sozin",
          "You'll Be Back by Jonathan Groff",
          "Michael by luv pug",
          "TICTAC by CAPSULE",
          "Lovin On Me by Jack Harlow",
          "Anestesiado - Ao Vivo by Murilo Huff",
          "misses by Dominic Fike",
          "SPECIALZ by King Gnu",
          "BxMxC by BABYMETAL",
          "Beyond the Sea by Bobby Darin",
          "2055 by Sleepy Hallow",
          "Alexander Hamilton by Leslie Odom Jr.",
          "Corazón de Piedra by Xavi",
          "Go Down Deh (feat. Sean Paul & Shaggy) by Spice",
          "Rolling Ocean Waves by Ocean Waves For Sleep",
          "Like Crazy by Jimin",
          "Infinitya by X-Genie",
          "Gimme Chocolate!! by BABYMETAL",
          "Who by Jimin",
          "TWIST & TURN (feat. Drake & PARTYNEXTDOOR) by Popcaan",
          "Come Out and Play by The Offspring",
          "Just the Two of Us (feat. Bill Withers) by Grover Washington, Jr.",
          "How to Save a Life by The Fray",
          "LADY GAGA by Peso Pluma",
          "Burn The Ships by for KING & COUNTRY",
          "Rust Coat by Spencer Hunt",
          "Megitsune by BABYMETAL",
          "Crash into Me by Dave Matthews Band",
          "For God Is With Us by for KING & COUNTRY",
          "Get Lost In The Mind's Ocean by eugenio izzi",
          "Dreams - 2004 Remaster by Fleetwood Mac",
          "小情歌 by sodagreen",
          "CUBA Remix by Johnny Hooker",
          "I'm A Little Teapot by The Paul O'Brien All Stars Band",
          "A Bar Song (Tipsy) by Shaboozey",
          "Digitando by Gustavo Moura & Rafael",
          "The Other Side by Hugh Jackman",
          "Vivir Mi Vida by Marc Anthony",
          "Fuera Fuera by LA INDIA",
          "Chop Suey! by System Of A Down",
          "Me Porto Bonito by Bad Bunny",
          "Go Down Deh (feat. Sean Paul & Shaggy) by Spice",
          "Standing Next to You by Jung Kook",
          "EU SOU SENTIMENTO by Luan Santana",
          "RATATATA by BABYMETAL",
          "Gyal You a Party Animal by Charly Black",
          "Beautiful Things by Benson Boone",
          "Self Esteem by The Offspring",
          "Ninguém Sabe by Wesley Safadão",
          "Tuyo (Narcos Theme) - A Netflix Original Series Soundtrack by Rodrigo Amarante",
          "Fine Fine Baby (with Kah-Lo) by Jamie Jones",
          "Sweater Weather by The Neighbourhood",
          "遺憾 by Abin Fang",
          "ADIVINO by Myke Towers",
          "Un Desperdicio by Rels B",
          "Belong Together by Mark Ambor",
          "Gata Only by FloyyMenor",
          "Vienna by Billy Joel",
          "Cornbread & Greens (feat. Big Pokey) by Cupid",
          "童話 by Michael Wong",
          "不為誰而作的歌 by JJ Lin",
          "Me Caiu Tão Bem - Ao Vivo by Murilo Huff",
          "El Sol No Regresa by La Quinta Estacion",
          "Brown Eyed Girl by Van Morrison",
          "Beautiful Things by Benson Boone",
          "Tere Vaaste (From \"Zara Hatke Zara Bachke\") by Sachin-Jigar",
          "A Cerveja Abre Sozinha - Ao Vivo by Murilo Huff",
          "Devuélveme a mi chica by Hombres G",
          "Dedo do Meio - Ao Vivo by Murilo Huff",
          "Satisfied by Renée Elise Goldsberry",
          "Slide (feat. Frank Ocean & Migos) by Calvin Harris",
          "Wait for It by Leslie Odom Jr.",
          "Oh, Pretty Woman by Roy Orbison",
          "September by Earth, Wind & Fire",
          "Too Sweet by Hozier",
          "Wild Ones (feat. Jelly Roll) by Jessie Murph",
          "Miles On It by Marshmello",
          "Jailhouse Rock by Elvis Presley",
          "6 Underground by Sneaker Pimps",
          "The Motto by Tiësto",
          "Nobody Speak by DJ Shadow",
          "Colgando en tus manos (con Marta Sánchez) by Carlos Baute",
          "We Belong Together by Ritchie Valens",
          "Only Time by Enya",
          "A Day Without Rain by Enya",
          "Waltz No.2 by Cihat Aşkın",
          "M. - Sped Up Version by Anıl Emre Daldal",
          "Envolver by Anitta",
          "Slow It Down by Benson Boone",
          "Feel So Close - Radio Edit by Calvin Harris",
          "Happier by Marshmello",
          "Şımarık by Tarkan",
          "Calm World by Little Circuits",
          "能遇見，就很不錯了 by Firdhaus",
          "Tiroteo - Remix by Marc Seguí",
          "December, 1963 (Oh What a Night!) by Frankie Valli & The Four Seasons",
          "cómo dormiste? by Rels B",
          "M. by Anıl Emre Daldal",
          "Black Hole by We Came As Romans",
          "Rich Girl by Daryl Hall & John Oates",
          "Silence by Marshmello",
          "Baby Shark Breakbeat by Dede Sabunge",
          "Katja, Katja by Pyotr Leshchenko",
          "This Is What You Came For by Calvin Harris",
          "Lay Low by Tiësto",
          "Your Innocent Eyes by Pierson Booth",
          "Rosas by La Oreja de Van Gogh",
          "Son of a Preacher Man by Dusty Springfield",
          "Que Sera by Wax Tailor",
          "You Raise Me Up by Josh Groban",
          "Old Feelings by slowburn",
          "Playground Love by Air",
          "Naina (From \"Crew\") by Diljit Dosanjh",
          "Be My Baby by The Ronettes",
          "Эти Глаза Напротив by Valery Obodzinsky",
          "Prologue by Evgeny Grinko",
          "No Flockin' by Kodak Black",
          "Por una Cabeza by Carlos Gardel",
          "Péssima Hora - Ao Vivo by Jefferson Moraes",
          "Magnetic by ILLIT",
          "Я спросил у ясеня by Sergey Nikitin",
          "Pop See Ko by Koo Koo",
          "You Wish by Nightmares On Wax",
          "10:35 by Tiësto",
          "Never Let Go by Jung Kook",
          "Box Fan Sound by Tmsoft’s White Noise Sleep Sounds",
          "Зеленая карета by Elena Kamburova",
          "Ivy by Frank Ocean",
          "Downtown by Anitta",
          "Stargazing by Myles Smith",
          "Soni Soni (From \"Ishq Vishk Rebound\") by Darshan Raval",
          "White Noise Sleeping Aid to Help My Baby Fall Asleep, Sleep Through the Night by White Noise Baby Sleep",
          "For What It's Worth by Buffalo Springfield",
          "Hips Don't Lie (feat. Wyclef Jean) by Shakira",
          "Hass Hass by Diljit Dosanjh",
          "Cigarette Daydreams by Cage The Elephant",
          "Born to Shine by Diljit Dosanjh",
          "Burning Love by Elvis Presley",
          "Get Yo Body Movin' by Koo Koo",
          "SURVIVOR by Umur Anil Gokdag",
          "La Câlin by Serhat Durmus",
          "Pehle Bhi Main by Vishal Mishra",
          "One Kiss (with Dua Lipa) by Calvin Harris",
          "Три товарища - Remastered by Maya Kristalinskaya",
          "Heeriye (feat. Arijit Singh) by Jasleen Royal",
          "A Mí by Rels B",
          "Scent of a Woman: Tango (Por Una Cabeza) by Carlos Gardel",
          "Take on Me by a-ha",
          "Rockstar by LISA",
          "Wind Brought by Evgeny Grinko",
          "A Mulher Mais Foda do Brasil - Ao Vivo by Márcia Fellipe",
          "See You Tomorrow by Evgeny Grinko",
          "Эти глаза напротив by Valery Obodzinsky",
          "Envolver by Anitta",
          "Tango to Evora by Conjunto Berretin",
          "14 минут до старта - Я верю, друзья by Vladimir Troshin",
          "The Business by Tiësto",
          "Freaks by Surf Curse",
          "Rockstar by Ilkay Sencan",
          "Brown Sleep Noise by Sleep Miracle",
          "Suspicious Minds by Elvis Presley",
          "Can't Help Falling in Love by Elvis Presley",
          "Hungry Like the Wolf - 2009 Remaster by Duran Duran",
          "Old Ties and Companions by Watchhouse",
          "Volver by Carlos Gardel",
          "Nasty by Tinashe",
          "Brought The Heat Back by ENHYPEN",
          "Daylight by Watchhouse",
          "Am I Wrong by Nico & Vinz",
          "Oblivion by Astor Piazzolla",
          "Flex (Remix) by Cupid",
          "Cry by Cigarettes After Sex",
          "Летний дождь by Igor Talkov",
          "Cupid Shuffle by Cupid",
          "Ain't No Rest for the Wicked by Cage The Elephant",
          "Free Mind by Tems",
          "Kaikai Kitan by Eve",
          "Omen by The Prodigy",
          "Moonstruck by ENHYPEN",
          "Wagon Wheel by Old Crow Medicine Show",
          "Sweet by Cigarettes After Sex",
          "Love Me JeJe by Tems",
          "When I Come Around by Green Day",
          "Chicken Dance by Electric Slide Music Makers",
          "Animálico by Huma",
          "Tuyo (Narcos Theme) [Extended Version] - A Netflix Original Series Soundtrack by Rodrigo Amarante",
          "People by Libianca",
          "Doo Wop (That Thing) by Ms. Lauryn Hill",
          "La Diabla by Xavi",
          "Your Eyes Only by ENHYPEN",
          "Imagination by Nova Issue",
          "If I Ain't Got You by Alicia Keys",
          "Free Fall (feat. J. Cole) by Tems",
          "Drifting by Tiësto",
          "love nwantiti (ah ah ah) by CKay",
          "I'm Yours by Jason Mraz",
          "Anchor by Novo Amor",
          "Sharp Dressed Man (2008 Remaster) by ZZ Top",
          "I'm Yours by Jason Mraz",
          "Epitaph by Make Them Suffer",
          "Sunsetz by Cigarettes After Sex",
          "The Motto by Tiësto",
          "Auguries by De Seu",
          "Pain Remains I: Dancing Like Flames by Lorna Shore",
          "Café 1930 by Astor Piazzolla",
          "The Chicken Dance by Chicken Dance",
          "Pain Remains II: After All I've Done, I'll Disappear by Lorna Shore",
          "Love Song by Sara Bareilles",
          "Running Up That Hill (A Deal With God) by Kate Bush",
          "Katyusha by Georgi Vinogradov",
          "Любовь - волшебная страна by Valentina Ponomaryova",
          "Higher by Tems",
          "Dust in a Baggie by Billy Strings",
          "My Meds Aren't Working by Dystopia",
          "Seven Nation Army by The White Stripes",
          "Sun//Eater by Lorna Shore",
          "Poison Tree by Grouper",
          "Just What I Needed by The Cars",
          "La Grange (2005 Remaster) by ZZ Top",
          "Evergreen by Richy Mitch & The Coal Miners",
          "Não é Exagero - Ao Vivo by Kamisa 10",
          "Present by Lloyd Vaan",
          "Give It To Me - Full Vocal Mix by Matt Sassari",
          "Essence (feat. Tems) by Wizkid",
          "Que Onda by Calle 24",
          "10:35 by Tiësto",
          "Erase Me by Make Them Suffer",
          "Baianá by Barbatuques",
          "Stand By Me by Ben E. King",
          "Y LLORO by Junior H",
          "Hard Travelin' by Watchhouse",
          "Pumped Up Kicks by Foster The People",
          "Too Sweet by Hozier",
          "Bite Me by ENHYPEN",
          "HARLEY QUINN by Fuerza Regida",
          "Of the Abyss by Lorna Shore",
          "4:00A.M. by Taeko Onuki",
          "American Boy by Estelle",
          "Heavenly by Cigarettes After Sex",
          "Fatal Trouble by ENHYPEN",
          "Falling Blue Stars by Sal Lastra",
          "Be My Lover by La Bouche",
          "Si No Quieres No by Luis R Conriquez",
          "Piazzolla: Oblivion by Astor Piazzolla",
          "TÚ NAME by Fuerza Regida",
          "Casper Cha-Cha Slide (Live Platinum Band) by Casper & Col'ta",
          "You Are the Best Thing by Ray LaMontagne",
          "The Business by Tiësto",
          "XO (Only If You Say Yes) by ENHYPEN",
          "Flex by Cupid",
          "Apocalypse by Cigarettes After Sex",
          "Everytime We Touch by Cascada",
          "I Choose You by The Steeldrivers",
          "Doomswitch by Make Them Suffer",
          "X's by Cigarettes After Sex",
          "Hundred Broken Hearts by ENHYPEN",
          "Toda Mi Vida by Gotan Project",
          "K. by Cigarettes After Sex",
          "Flex by Cupid",
          "Let's Stay Together by Al Green",
          "Paranormal by ENHYPEN",
          "Sweet Dreams (Are Made of This) - Remastered by Eurythmics",
          "海闊天空 by Beyond",
          "Ye by Burna Boy",
          "Like This Before (Tony Arzadon remix) by Aaron Smith",
          "Grippy by Cash Cobain",
          "Bam Bam by Sister Nancy",
          "Brighter Days - Dajae- Underground Mix '93 by Cajmere",
          "Fundip by Beatdemons",
          "Na Na Na by Lay Bankz",
          "Repentless by Slayer",
          "Twinkle Twinkle Little Star by Super Simple Songs",
          "You Give Me A Feeling by Vintage Culture",
          "Another Love by Tom Odell",
          "Move Your Body by Öwnboss",
          "Andreaen Sand Dunes by Drexciya",
          "Smack My Bitch Up by The Prodigy",
          "Reason Why (feat. Kim Petras and BC Kingdom) by SOPHIE",
          "Dinosaur Stomp by Mother Goose Club",
          "One Little Finger by Super Simple Songs",
          "Baby Shark by Pinkfong",
          "Voodoo People - Pendulum Mix by The Prodigy",
          "Remember Me by Currents",
          "Head, Shoulders, Knees and Toes by Mother Goose Club",
          "Percolator - Original Mix by Cajmere",
          "Temperature by Sean Paul",
          "Fire for You by Cannons",
          "Rolling in the Deep by Adele",
          "Better Days by Currents",
          "Doses & Mimosas (Vintage Culture & Zerky Remix) - Radio Edit by Vintage Culture",
          "十年 by Eason Chan",
          "Another Love by Tom Odell",
          "Eat Your Man (with Nelly Furtado) by Dom Dolla",
          "Lose Control by James Hype",
          "Sun to Me by Zach Bryan",
          "Sonata No. 14 \"Moonlight\" in C-Sharp Minor\", Op. 27 No. 2: I. Adagio sostenuto by Ludwig van Beethoven",
          "Amish Paradise (Parody of \"Gangsta's Paradise\" by Coolio) by \"Weird Al\" Yankovic",
          "I'm Still in Love with You (feat. Sasha) by Sean Paul",
          "Cracks - Flux Pavilion Remix by Freestylers",
          "Heading South by Zach Bryan",
          "Ghost Of Me by Make Them Suffer",
          "Delusions of Saviour by Slayer",
          "Higher by Burna Boy",
          "Roots Bloody Roots by Sepultura",
          "Tell Ur Girlfriend by Lay Bankz",
          "Ick by Lay Bankz",
          "Set Fire to the Rain by Adele",
          "Freaky Friday (feat. Chris Brown) by Lil Dicky",
          "Hey, Soul Sister by Train",
          "Honey Boy (feat. Nile Rodgers & Shenseea) by Purple Disco Machine",
          "She's So Nice by Pink Guy",
          "Everyday Normal Guy 2 by Jon Lajoie",
          "Molly (feat. Brendon Urie of Panic at the Disco) by Lil Dicky",
          "28 by Zach Bryan",
          "The Finger Family (Daddy Finger) by Muffin Songs",
          "Peaches by Jack Black",
          "Gymnopédie No. 1 by Erik Satie",
          "Love & Reggae by Collie Buddz",
          "Ick by Lay Bankz",
          "Long Cool Woman (In a Black Dress) - 1999 Remaster by The Hollies",
          "Breathe by The Prodigy",
          "The Flower Garden by Joe Hisaishi",
          "Miracle Maker by Dom Dolla",
          "Get Get Down by Paul Johnson",
          "Yeah! (feat. Lil Jon & Ludacris) by USHER",
          "Love, of Money by MAVI",
          "Locked out of Heaven by Bruno Mars",
          "Brighter Days - Marco Lys Remix by Cajmere",
          "Sloppy Seconds (Ick Pt. 2) by Lay Bankz",
          "Lost in the Fire (feat. The Weeknd) by Gesaffelstein",
          "Unwritten by Natasha Bedingfield",
          "Dance Mode by Bluey",
          "Get Busy by Sean Paul",
          "Lyk U Use 2 (feat. Andres) by Moodymann",
          "Last Last by Burna Boy",
          "Like This Before (Radio mix) by Aaron Smith",
          "Pink Skies by Zach Bryan",
          "Someone Like You by Adele",
          "To the Hellfire by Lorna Shore",
          "Like This Before (Extended Mix) by Aaron Smith",
          "Let Me Leave by Currents",
          "I Remember Everything (feat. Kacey Musgraves) by Zach Bryan",
          "Return of the Mack by Mark Morrison",
          "$ave Dat Money (feat. Fetty Wap & Rich Homie Quan) by Lil Dicky",
          "Move Your Body by Marshall Jefferson",
          "Patadas de Ahogado / LATÍN MAFIA, HUMBE - Rework by HUGEL",
          "Cello Suite No. 1 in G Major, BWV 1007: I. Prélude by Johann Sebastian Bach",
          "Firestarter by The Prodigy",
          "4 Morant (Better Luck Next Time) by Com Truise",
          "Halcyon and On and On by Orbital",
          "Something in the Orange by Zach Bryan",
          "Dancin (feat. Luvli) - Krono Remix by Aaron Smith",
          "Shut Up and Dance by WALK THE MOON",
          "It's That Time - FISHER Remix by Marlon Hoffstadt",
          "Bluey Theme Tune - Extended by Bluey",
          "No Scrubs by TLC",
          "City Boys by Burna Boy",
          "Dancin - Krono Remix by Aaron Smith",
          "paranoia by KENTENSHI",
          "Tell Ur Girlfriend by Lay Bankz",
          "5 Little Monkeys by The Little Sunshine Kids",
          "Time of Our Lives by Pitbull",
          "Chainsaw Dismemberment by Mortician",
          "Se Você Tivesse Cuidado - Ao Vivo by Jonas Esticado",
          "The Carnival of the Animals, R. 125: XIII. The Swan (Arr. for Cello and Piano) by Camille Saint-Saëns",
          "Dreaming - Gibson Parker Remix by Rootkit",
          "Do I Wanna Know? by Arctic Monkeys",
          "Rua - Ao Vivo em Bahamas by Wesley Safadão",
          "I Told You So by Randy Travis",
          "Wednesday Night People by Moodymann",
          "Wrong Side of Heaven by Five Finger Death Punch",
          "Star Shopping by Lil Peep",
          "Heartbeats by The Knife",
          "Goodness of God - Live by CeCe Winans",
          "The Night We Met by Lord Huron",
          "Makeba by Jain",
          "Last Nite by The Strokes",
          "Relógio de Saudade (Atemporal) by Calcinha Preta",
          "Neverender by Justice",
          "I Can't Kick This Feeling When It Hits by Moodymann",
          "Me Ama Sem Pausa - Aquelas Paradas by João Gomes",
          "DJ Turn It Up by Dimension",
          "Coração de Vaqueiro by João Gomes",
          "505 by Arctic Monkeys",
          "Forced Gender Reassignment by Cattle Decapitation",
          "Lovely Day by Bill Withers",
          "Something Here for the Club - Vocal by Terrence Parker",
          "Play That Funky Music by Wild Cherry",
          "Alibi (with Pabllo Vittar & Yseult) by Sevdaliza",
          "Only for the Weak by In Flames",
          "Drowned in Your Blood by Mortician",
          "Blackwater - 128 full strings vocal mix by Octave One",
          "Reptilia by The Strokes",
          "Love You to Death by Type O Negative",
          "Riptide by Vance Joy",
          "Three Wooden Crosses by Randy Travis",
          "Somethin’ Here - Original Mix by Terrence Parker",
          "I Smile by Kirk Franklin",
          "On the Other Hand by Randy Travis",
          "QKThr by Aphex Twin",
          "Ride Or Die, Pt. 2 (with Villano Antillano & Tokischa) by Sevdaliza",
          "Witchcraft by Pendulum",
          "Bad Company by Five Finger Death Punch",
          "Zombie Apocalypse by Mortician",
          "Walk by Pantera",
          "For the First Time by Mac DeMarco",
          "Rabid by Mortician",
          "Budapest by George Ezra",
          "Propane Nightmares by Pendulum",
          "ceilings by Lizzy McAlpine",
          "Alien Blues by Vundabar",
          "Black No. 1 (Little Miss Scare -All) by Type O Negative",
          "Lady - Hear Me Tonight by Modjo",
          "Outro by M83",
          "Deeper Than the Holler by Randy Travis",
          "Scourge of the Offspring by Cattle Decapitation",
          "A Little Bit Stronger by Sara Evans",
          "Fast Car by Tracy Chapman",
          "Everybody Dies In Their Nightmares by XXXTENTACION",
          "All That Really Matters by ILLENIUM",
          "Satellite by Dimension",
          "Jekyll and Hyde by Five Finger Death Punch",
          "Fora do Comum by Iguinho e Lulinha",
          "Midnight City by M83",
          "Wait by M83",
          "Don’t You Want My Love by Moodymann",
          "Fuck Love by XXXTENTACION",
          "Bring Back the Plague by Cattle Decapitation",
          "I'm Doing Fine (feat. Amp Dog Knight) by Moodymann",
          "SONG REQUEST by Ray Volpe",
          "Black Star by Carcass",
          "Stranded by Gojira",
          "Fractures by ILLENIUM",
          "Someday by The Strokes",
          "Crawl Outta Love by ILLENIUM",
          "The Look by Metronomy",
          "girl$ by Dom Dolla",
          "Far From Any Road by The Handsome Family",
          "I Don't Wanna Wait by David Guetta",
          "Heartbeats by José González",
          "Believe For It (feat. Lauren Daigle) by CeCe Winans",
          "Why by The Viceroys",
          "Lonely Boy by The Black Keys",
          "Revenge by XXXTENTACION",
          "Listen to the Music by The Doobie Brothers",
          "My Kind of Woman by Mac DeMarco",
          "I'm Good (Blue) by David Guetta",
          "Why'd You Only Call Me When You're High? by Arctic Monkeys",
          "Fala Que Não Ama by Maria Clara",
          "First Time (feat. Dylan Matthew) by Seven Lions",
          "Scum by Napalm Death",
          "Back To U by SLANDER",
          "The Adults Are Talking by The Strokes",
          "Falling Down - Bonus Track by Lil Peep",
          "Californication by Red Hot Chili Peppers",
          "Three Wooden Crosses by Randy Travis",
          "Slaughtered by Mortician",
          "I Wanna Be Yours by Arctic Monkeys",
          "Gangsta's Paradise by Coolio",
          "i was all over her by salvia palth",
          "Sugar (feat. Francesco Yates) by Robin Schulz",
          "Prayer in C - Robin Schulz Radio Edit by Lilly Wood and The Prick",
          "Memory Box by Peter Cat Recording Co.",
          "Yggdrasil by Brothers of Metal",
          "Don't Stop Believin' (2022 Remaster) by Journey",
          "Something to Rap About (feat. Tyler, The Creator) by Freddie Gibbs",
          "BANGARANG by KILLEDDY",
          "Every High - Young & Sick in-Flight Remix by Kyson",
          "If Drinkin' Don't Kill Me (Her Memory Will) by George Jones",
          "Pretty Rave Girl by S3RL",
          "See You Again (feat. Kali Uchis) by Tyler, The Creator",
          "In the Grass by The Flashbulb",
          "Happy? by Mudvayne",
          "Heartless (feat. Morgan Wallen) by Diplo",
          "Bass Slut - Original Mix by S3RL",
          "Prophecy of Ragnarök by Brothers of Metal",
          "Pika Girl by S3RL",
          "Balls to the Wall by Accept",
          "HIGHEST IN THE ROOM by Travis Scott",
          "C.R.E.A.M. (Cash Rules Everything Around Me) by Wu-Tang Clan",
          "Thunderstruck by AC/DC",
          "Highway to Hell by AC/DC",
          "Enter Sandman (Remastered) by Metallica",
          "Quasar by Gidge",
          "Never Mess With Sunday by Yppah",
          "Drive by Incubus",
          "Like That by Future",
          "Fen by Porya Hatami",
          "Ta Bikaran by Padra",
          "One Night In Tokyo by Beast In Black",
          "Shoulder Boulders by S3RL",
          "Schools Out by MEMBA",
          "FE!N (feat. Playboi Carti) by Travis Scott",
          "Desire by Armut",
          "Little Kandi Raver 2012 by S3RL",
          "Precipice by The Flashbulb",
          "Party And Bullshit by The Notorious B.I.G.",
          "NIGHTS LIKE THIS by The Kid LAROI",
          "Little Bit of Love by John Cruz",
          "Always Picking On Me by S3RL",
          "Ride of the Valkyries by Brothers of Metal",
          "Kani (Day) by Porya Hatami",
          "Trad Velecido by Casino Versus Japan",
          "Mo Money Mo Problems (feat. Puff Daddy & Mase) - 2014 Remaster by The Notorious B.I.G.",
          "You Shook Me All Night Long by AC/DC",
          "Die By The Blade by Beast In Black",
          "Legend by Tevvez",
          "Breezin' by George Benson",
          "Shook Ones, Pt. II by Mobb Deep",
          "End of Beginning by Djo",
          "My Soldiers Rage by Maul",
          "Sweet True Lies by Beast In Black",
          "KICK BACK by Kenshi Yonezu",
          "Pomegranates by Porya Hatami",
          "Concept 1 by Kodomo",
          "Mtc by S3RL",
          "Big Poppa - 2005 Remaster by The Notorious B.I.G.",
          "We Fell Apart - Slowed by ANGUISH",
          "Kids (feat. MKLA) by KSHMR",
          "After the Rain by Porya Hatami",
          "Juicy - 2005 Remaster by The Notorious B.I.G.",
          "Type Shit by Future",
          "Shut up My Moms Calling by Hotel Ugly",
          "Baun by Porya Hatami",
          "Kani (Day) by Porya Hatami",
          "Cry Out For A Hero by Beast In Black",
          "Back In Black by AC/DC",
          "Saving Up by Dom Dolla",
          "DLMD by Darren Styles",
          "Scottie Beam by Freddie Gibbs",
          "Monochrome by BABYMETAL",
          "679 (feat. Remy Boyz) by Fetty Wap",
          "Crime Pays by Freddie Gibbs",
          "Hold the Line by TOTO",
          "I Don't Wanna Be Me by Type O Negative",
          "goosebumps by Travis Scott",
          "I KNOW ? by Travis Scott",
          "Power Of The Beast by Beast In Black",
          "Cowboys from Hell by Pantera",
          "He Stopped Loving Her Today by George Jones",
          "Test & Recognise (Flume Re-work) by Seekae",
          "Friendzoned - Walras Remix by S3RL",
          "Particle Storm by Alphaxone",
          "He Stopped Loving Her Today by George Jones",
          "We Fell Apart by ANGUISH",
          "BUTTERFLY EFFECT by Travis Scott",
          "Cancun by Armut",
          "Trap Queen by Fetty Wap",
          "The One I Loved Back Then (The Corvette Song) by George Jones",
          "LIGHTS by HARDSTYLE CVNT",
          "The Lamp Is Low by Laurindo Almeida",
          "1985 by Freddie Gibbs",
          "A Profound Void by Alphaxone",
          "Memory Arc by Rival Consoles",
          "ННД by Tomorrow",
          "Iris by The Goo Goo Dolls",
          "My Love Mine All Mine by Mitski",
          "Anadrol by Yosuf",
          "Every High by Kyson",
          "Wash It All Away by Five Finger Death Punch",
          "Eat What You Kill by Confess",
          "Hypnotize - 2014 Remaster by The Notorious B.I.G.",
          "One Man's Dream by Yanni",
          "Your Love by The Outfield",
          "Scar Tissue by Red Hot Chili Peppers",
          "liMOusIne (feat. AURORA) by Bring Me The Horizon",
          "Outside (feat. Ellie Goulding) by Calvin Harris",
          "Can't Stop by Red Hot Chili Peppers",
          "Hooked On A Feeling by Blue Swede",
          "River Flows In You by Yiruma",
          "Tum Se (From \"Teri Baaton Mein Aisa Uljha Jiya\") by Sachin-Jigar",
          "We Groovin (with Jazzy) by Jamie Jones",
          "How To Listen To This Album by Stereoclip",
          "A Thousand Years (Piano Version) by Laura Sullivan",
          "Janiye (from the Netflix Film \"Chor Nikal Ke Bhaga\") by Vishal Mishra",
          "Caribbean Blue by Enya",
          "Jessie's Girl by Rick Springfield",
          "Happy Together by The Turtles",
          "Sunset Drive by Stereoclip",
          "Can You Feel My Heart by Bring Me The Horizon",
          "So This Is Love by Emile Pandolfi",
          "Summer by Calvin Harris",
          "In the End by Linkin Park",
          "Saturno by Pablo Alborán",
          "Pink + White by Frank Ocean",
          "Kiss The Rain by Yiruma",
          "Never Catch Me by Flying Lotus",
          "Top 10 staTues tHat CriEd bloOd by Bring Me The Horizon",
          "(Sittin' On) the Dock of the Bay by Otis Redding",
          "Under the Bridge by Red Hot Chili Peppers",
          "White Ferrari by Frank Ocean",
          "Sky and Sand by Paul Kalkbrenner",
          "I Want You by Butch",
          "Everlong by Foo Fighters",
          "Lush Life by Zara Larsson",
          "Summer Terrace by Casiio",
          "I'm a Believer - 2006 Remaster by The Monkees",
          "I Love It (feat. Charli XCX) by Icona Pop",
          "Lose My Mind by Jamie Jones",
          "Back On 74 by Jungle",
          "Perseverance by Michele McLaughlin",
          "Fireworks by Jam'addict",
          "Another Life by Motionless In White",
          "Can't Take My Eyes off You by Frankie Valli",
          "Dial Tone by Catch Your Breath",
          "La flaca by Jarabe De Palo",
          "Masterpiece by Motionless In White",
          "Throne by Bring Me The Horizon",
          "Genesis by Grimes",
          "Lemonade by Diljit Dosanjh",
          "Crust by Flying Lotus",
          "How You Remind Me by Nickelback",
          "Your Love by The Outfield"
         ],
         "type": "scatter",
         "x": [
          -2.8167176261644817,
          -1.4476462970482706,
          -3.071234440659788,
          -0.17321027495065763,
          2.637954808949389,
          -2.753229274922858,
          2.5407417741155442,
          0.4172008529241245,
          -1.1818094477652372,
          2.2879777960834335,
          0.33583793821969526,
          2.592373603135789,
          2.4977116268496076,
          3.8741672602758475,
          0.9515428951616283,
          3.9214769451208107,
          3.1627728283919154,
          -5.645942476183754,
          3.72396110306945,
          -0.4750226072304891,
          2.2897199980945966,
          0.04223478101817684,
          0.9832330217804971,
          1.7204773732923533,
          -0.6730888698654849,
          1.38077134514277,
          -1.5339644648251862,
          0.8553236937215243,
          1.8093158164708905,
          2.3505379487399924,
          4.3561813365615185,
          3.1291243091884233,
          3.18121284630796,
          3.162494516024929,
          1.226275770882161,
          2.434404062762775,
          -3.722458325077968,
          1.5059001852194491,
          -0.9219215651640837,
          2.3830324209118303,
          -1.3295010100631566,
          2.032452117004461,
          0.9813879109595638,
          1.5454819905379724,
          2.6920936918487275,
          -0.34978917840888146,
          -3.559283232048502,
          0.06558327482774895,
          2.0012755350304117,
          1.1112660614535528,
          3.5068096617881315,
          1.42141658269229,
          -3.145668284757591,
          -0.17321027495065766,
          -1.9127634997182346,
          -2.4428462294325834,
          1.4419008728280098,
          2.4722373419549535,
          -4.045068410560892,
          1.6278742802195338,
          0.8977543971783001,
          3.8405772473555513,
          0.1220573484153049,
          0.2794585994710844,
          -6.3038968314080535,
          0.1973448723066098,
          0.8650659092297158,
          0.41961349895053646,
          1.4789463074328921,
          3.2048861121760073,
          2.932959157325539,
          4.65084200491694,
          1.8719618906764455,
          2.46843931733392,
          -1.328210388510601,
          1.9831150191942326,
          3.5810736221391,
          -5.3450975757331625,
          4.457434767670143,
          1.42141658269229,
          -3.0511205236141876,
          2.074002203276299,
          -6.950834634568194,
          1.1948982922106843,
          1.3296264069595611,
          -3.100161855328881,
          3.3084122661039035,
          1.4700287059202948,
          -1.0875869110576157,
          -1.027724586484376,
          2.7440319700266156,
          1.3364407414633894,
          1.9057234293109986,
          1.9968425455802499,
          0.3097833712544958,
          1.3297036100819053,
          3.3289820182265903,
          3.2425934408561474,
          1.1981447418648101,
          0.1908999423748029,
          1.2639041584569546,
          0.26521994482149536,
          1.3296264069595611,
          1.1207003169254162,
          0.7784585939219518,
          -0.9996104905048193,
          1.4173535252040574,
          2.313322603921721,
          0.4538876695686381,
          1.0213851194416907,
          2.3042226174144638,
          2.07240900563872,
          0.5326594313652898,
          1.1939376869517637,
          -0.9511117191499738,
          2.5416585366373527,
          1.4041234616922122,
          1.3990106423399309,
          -1.8412884055592362,
          3.2526395164228896,
          3.8291070143186525,
          0.33881078931706654,
          -1.030360467998218,
          0.8664055049053065,
          -0.010563493101075006,
          2.657062308023043,
          2.7418767034629883,
          -1.4964665364428487,
          0.08600591366730195,
          -0.22417544057566016,
          -0.6395984148435565,
          1.9413803544794737,
          0.2036705819833953,
          1.5320096594620471,
          3.2825704941757303,
          0.06413134325394017,
          -6.344161889576749,
          2.6859414815692717,
          -0.685460545472876,
          -0.740928469290244,
          0.9367265254655776,
          1.9627232049796108,
          -1.4893896718679556,
          -0.6464791729643299,
          2.171291637719546,
          0.4583266312851123,
          -0.30359545750806516,
          -0.37921053598725124,
          -1.4384953886686278,
          -0.8458804590682739,
          2.133992330917854,
          0.09869757677626381,
          0.6421737054112012,
          -1.1572336128546687,
          0.8692811277045502,
          1.591507195603611,
          -0.6870349711188731,
          2.8009023372336737,
          2.0087262571777313,
          -0.3666179009418906,
          0.253499298534496,
          -0.3256657934067352,
          2.7402174930194017,
          -3.5120184073150083,
          1.254952935420248,
          2.0636534099139507,
          3.9234431580160782,
          0.1974310775781053,
          3.2220669508638644,
          -2.570523397121761,
          0.734499837965267,
          1.1913110926064918,
          -1.571666863785101,
          1.076687482152461,
          0.8497546529802755,
          0.32586142250864664,
          -0.5215422468158709,
          2.028156325052923,
          1.1301583328950981,
          1.194365515187336,
          3.2352755932597566,
          -0.6693902508883861,
          -0.6646931569479021,
          0.4267867591858399,
          1.560692758222859,
          0.2102144355683413,
          1.6847530786574643,
          1.4483372235709098,
          1.2401011680964509,
          0.8648970415019211,
          -0.8786801402844509,
          2.657062308023043,
          1.5497305974957494,
          1.5936432317347562,
          -0.1260224300388667,
          -1.3159585642466205,
          -0.6589979956669206,
          -3.128185997056325,
          -0.6534521209136314,
          -1.278256186012811,
          0.08632409614154403,
          1.7590827046073907,
          1.6402861241525026,
          2.7395845750634638,
          0.7412420574261511,
          3.2533824817958696,
          -0.7476054879048472,
          -0.8751296346322769,
          1.1186338601086097,
          -0.2407906340034,
          -0.10448125349004057,
          1.94864299922878,
          0.5762756114858473,
          4.312404065006775,
          -2.003177628298898,
          -3.7315690876173844,
          -0.05314819405819769,
          3.3905704623627426,
          0.1750572141376987,
          3.8362508013616217,
          -2.141859686845532,
          -1.4882303482413668,
          -1.0153714208795197,
          1.9858735215665415,
          3.0167674218169407,
          1.389874435806465,
          3.1048980503046804,
          0.9815838304084785,
          -1.0720945218607807,
          3.0199765569503554,
          2.2843542094271947,
          -0.4317418989156059,
          1.4447896950660872,
          2.2697537677249344,
          0.23822638657843936,
          -3.324790391270899,
          2.2697537677249344,
          -5.906941245554053,
          0.40538932575948444,
          1.3990106423399309,
          -1.5703447544785167,
          -7.447220038975758,
          2.9418316755339475,
          0.6015161101131115,
          -7.429040302889051,
          0.4401220452873542,
          0.9073801995767214,
          2.5847875215325384,
          3.7758364013034496,
          2.6519467074212137,
          2.9311090083159614,
          -4.476239168137484,
          -2.690887948215603,
          -7.1070067232914145,
          0.02981841680612231,
          0.33257423753463605,
          1.6108659000490149,
          0.4582999827572946,
          3.233660157844346,
          -1.1255826709846255,
          -0.6182942449689574,
          0.0696217395433935,
          2.828972700032247,
          -0.3256657934067352,
          -5.887687952696448,
          2.208319109274158,
          0.02247912368053771,
          3.7201983249648323,
          1.7333190901354927,
          1.3070218725649378,
          0.5326594313652898,
          0.2380103320185452,
          0.734352961992572,
          -7.100679419864542,
          1.6028622239623223,
          1.1748056615111009,
          -0.24487246474033958,
          -0.6841745403669552,
          -1.5957249249750407,
          -0.7634000321057676,
          3.3021420750216652,
          2.8562175917750237,
          2.9902516024299204,
          0.43073586698725214,
          1.2062537965025613,
          -0.1260224300388667,
          1.6678853940331648,
          0.07969873403533795,
          0.9147867017163565,
          1.0910225559624909,
          4.915253699411199,
          -2.2470877365583033,
          0.9322916977118608,
          -0.3969799952630979,
          1.9299153721241902,
          0.39497151639739914,
          0.07969873403533795,
          1.0423163868019127,
          2.5484532895736054,
          -0.03222684836780576,
          0.9479416593120085,
          0.9242909542161191,
          -4.805632189234421,
          1.4744957022085161,
          3.621971366973139,
          2.523722667030666,
          2.3916102290944456,
          0.022644756904310025,
          -2.1437499994939704,
          5.112908181978923,
          -0.591728824011724,
          2.354148488775886,
          -1.5276375390023738,
          0.42092375477827054,
          -0.02245766713425934,
          1.7027818175338576,
          3.199489704641508,
          3.2249500202706516,
          1.3488725786109035,
          -3.325107888568636,
          -6.224617232676854,
          2.4606401538334177,
          0.14739983652375663,
          1.7212425194021441,
          -1.183410409793033,
          3.478310606705256,
          -6.703539334446117,
          -0.7289694566898955,
          2.0827573588676187,
          2.3294178497871294,
          -0.5567300338776057,
          -0.6644456364258108,
          2.88384490188461,
          1.256476955166232,
          1.973980923906581,
          2.6668172357449067,
          -4.432007224004709,
          2.9570259199459703,
          -6.022574839354479,
          -2.055575374528484,
          0.8136586519294067,
          -5.7242594735022205,
          2.165860663591458,
          0.8376078024260781,
          -1.5204151661694538,
          0.9867585473708759,
          2.0765769676122003,
          -0.5922972075395583,
          2.4240044101242004,
          1.054163469335715,
          -0.1626091028754432,
          0.27846551335529524,
          2.421531146586147,
          4.529929641159543,
          0.6645337464334415,
          3.669626573529561,
          0.683589190877062,
          0.6439717489694458,
          -2.278696079029981,
          -0.2986469411702619,
          2.2117019165336207,
          0.43364826678532203,
          2.003749123011838,
          0.624863141169236,
          -1.8583223249064957,
          1.9628910362196887,
          1.2743816683495357,
          1.1807016029660484,
          1.7325287168544028,
          -1.781943762562927,
          2.1705918797302264,
          1.0799414667165252,
          0.3330800356105352,
          0.8022396238065752,
          0.9910131271220571,
          4.566886969016812,
          -7.482484976000508,
          0.5527986783446762,
          -6.681276837675518,
          3.3622362206044167,
          2.0659327382178128,
          -1.6827965297509255,
          0.24473396101768635,
          0.7093525719151718,
          2.514796841187332,
          -3.1829997717510974,
          -0.6097593907051675,
          -1.2078106914135895,
          3.7346252291736812,
          0.45664533718870565,
          -4.068987657752082,
          -5.063700663559024,
          2.5926735090096993,
          1.894485432925851,
          3.0038829357204087,
          1.4874232215315413,
          -4.3181957896896375,
          2.279872160050188,
          3.436692475736194,
          -1.1080488910769999,
          -5.63235010981597,
          3.5542607367450243,
          3.954910540619527,
          -1.430773945462822,
          0.5159293071363963,
          2.9228218941051893,
          4.022624901229022,
          -2.479441344722962,
          -4.438920418245803,
          -1.1198834563521534,
          -0.5498636056306018,
          1.4685358361902712,
          -0.016988364552981212,
          1.6748868551256275,
          -2.3529169018768035,
          1.7882028868354647,
          -0.5789340993392456,
          -1.110399627423189,
          3.9317246863124247,
          -2.0143144770617263,
          3.4318729918936492,
          -3.35736918910524,
          -6.610482224695143,
          0.5370033009991695,
          1.0165201547828722,
          -0.3015098411916057,
          0.5646364299964851,
          -6.441032985658446,
          -6.308115206189665,
          0.4170714317105901,
          1.8675541231362933,
          -3.797036399677682,
          4.276958664103556,
          2.185927863569996,
          0.11005809052114016,
          0.7830227666978529,
          1.851708171395938,
          0.7104902502623228,
          2.6329535967218782,
          -4.507050543860615,
          -4.693871566631247,
          -5.329364030087547,
          -2.3583533723010968,
          1.2097236471570052,
          -5.387948637132623,
          2.007680445938224,
          -4.055014044489534,
          1.5343390105007777,
          -1.6394003842235596,
          -4.525193750383964,
          0.18457766694220964,
          -4.094228751512523,
          3.2913528135725483,
          -6.544154147608122,
          2.5096278493894295,
          4.026391944286587,
          2.206586827379499,
          -1.1521787777975716,
          -0.1965776226926147,
          -4.843025217466289,
          2.952099792231449,
          -0.26950406987270537,
          0.0626266450323784,
          0.6160067357968502,
          2.382411988038556,
          -6.198714849114987,
          0.6977331357104622,
          -3.798490015190506,
          -2.8011088255500813,
          -2.6659267494766063,
          0.22751444530354856,
          0.5858237592630345,
          2.537721905998581,
          1.9025375313016146,
          0.43387566501736874,
          -0.37319894437516227,
          0.22337889621842005,
          3.483276013744485,
          0.5378956002698715,
          1.466676790760127,
          -5.60710053533682,
          2.0783363953509393,
          2.1625827975064977,
          -1.1172515953660993,
          0.30683289075972225,
          -0.9006690122332832,
          3.804239858687488,
          -3.6869024415342833,
          -4.503828167388249,
          -0.5253371241667211,
          -0.4553980142330024,
          -0.6536095628701948,
          -0.9523592988936956,
          2.3653413596151007,
          -6.74157667742199,
          -1.7030320804792092,
          0.5810607475442141,
          0.6249223249452011,
          -0.45665596042063034,
          1.8266421474210293,
          -0.8991224884905669,
          -4.945578243849865,
          1.3103810724208018,
          1.9105895386280325,
          -3.077311594307866,
          -0.09794984698564266,
          3.2188315670582117,
          -4.708973292679707,
          0.5130669993856563,
          -0.2650539996115898,
          -2.747239843962458,
          1.5373221328890025,
          -3.823464813458258,
          -1.817413054676523,
          -1.2758465438084743,
          -2.6844661326528185,
          0.8909442878400434,
          0.9153512236115066,
          -1.4093414463489318,
          -1.862884180566246,
          -2.7379227087547986,
          -1.3956071194669284,
          -1.4459160329996692,
          0.6572956893166267,
          1.5973688545047633,
          -1.6724080439331068,
          -4.767820631708591,
          -4.14728931560684,
          -3.015507267029352,
          -0.2634489369265226,
          -1.4929441869664897,
          -4.158271507108112,
          -1.9598821259517547,
          -1.1982623446403704,
          -1.5961846239806279,
          -1.4889520072878557,
          3.3992560416716633,
          -3.748356018994383,
          -4.393171461235455,
          -2.2675702173484447,
          -0.8204667326527387,
          0.7818051507609843,
          -1.3497273105136156,
          -3.3237717476241087,
          -2.193366441160987,
          0.4072873977772022,
          -1.690031266590759,
          0.4284972793140207,
          -6.0326680968676145,
          -5.360528351064749,
          -2.2440227646602193,
          -1.1018351428683062,
          -2.2509448452086667,
          -0.31014328923628165,
          0.8005487288455793,
          -0.4092948053644259,
          -1.3956835976430277,
          -0.5479405905092228,
          1.560572603848574,
          -1.076529638705805,
          2.5047484074877393,
          -3.7942461717361198,
          -2.88592384178854,
          -6.006862090739874,
          -1.955696419585603,
          0.0048017242731103185,
          0.013414728982084038,
          1.915205339567877,
          -3.6982494958450434,
          1.2988401841117958,
          0.620884013102056,
          -4.247810266126876,
          -5.392402487031364,
          1.0535186095757112,
          0.6512737644107685,
          -4.7314308997736365,
          -3.6061139210603925,
          -0.8662042402858409,
          2.2527137037618066,
          -3.9979255214558216,
          -3.2208328085304787,
          0.8109859702938402,
          -0.5429264267812913,
          0.05426347964282947,
          -0.8972072066884578,
          1.29452922047469,
          1.6777917259418378,
          -3.714729926222903,
          -1.0659597666991287,
          1.302427876405074,
          -2.6827219879284825,
          -1.0182807072271787,
          -3.80615949271112,
          -3.8420716541600686,
          1.4843972546057629,
          -1.5642321975654208,
          0.20443945858318435,
          -4.713638390128385,
          -4.9186989758574216,
          0.6612185490903549,
          1.1164835564878595,
          -1.3727951283140911,
          1.4733012033619548,
          -5.44976302061914,
          -1.266396505577599,
          -0.16422598290722343,
          1.7692804941924696,
          1.4685538641480071,
          0.5560009727139782,
          1.4256949208729317,
          -0.3516685866440156,
          1.1260140566855572,
          2.33332176580802,
          -1.3727563307560189,
          -0.30568949420320335,
          2.11561856025368,
          -0.9518805181134462,
          -3.369555332939355,
          1.0489437048901247,
          -3.7323137789211907,
          -3.3217704433998225,
          0.6000094240798558,
          0.5189486138233892,
          1.129384583758406,
          -0.5541574345887392,
          -5.0948648447470335,
          2.288290570557676,
          -1.9781358757355514,
          4.320924269141367,
          0.021035253018770163,
          -0.9822042388292235,
          -4.585734643527982,
          1.29633291671207,
          -0.27465536043161354,
          -0.31051874433636695,
          -0.015836864152189652,
          1.6235965126070349,
          1.0412258460022203,
          1.413436311430022,
          0.7293403946565622,
          -3.691711569809908,
          -1.6534017508362522,
          -4.810813379901139,
          2.581725328319362,
          -0.2819464489849432,
          -6.1119849107460995,
          1.6153078808633783,
          0.8540644589503081,
          -2.295085387502179,
          -2.9203934675616217,
          -0.9103749074165416
         ],
         "y": [
          0.46142204975516093,
          6.499187258614612,
          -0.6358607686341327,
          -1.979753947711081,
          1.109114736950375,
          -1.4104752245174657,
          -1.3719675205251878,
          -0.021839559275258817,
          -1.7112473371056978,
          -1.6886988789876616,
          1.7250276076813609,
          -1.7228846135065135,
          -1.4372240829918126,
          -1.661540258916849,
          -2.722119367472562,
          -0.6307907598646191,
          -1.6712018605089305,
          -1.5282617452632346,
          -1.0623113370973079,
          -1.2931214205643102,
          -2.027806093733549,
          3.0291106510869326,
          0.6711947984658956,
          -1.842251576902143,
          2.5463769612005906,
          2.64658453909914,
          -1.156556637919831,
          0.6632438708832316,
          -0.617241046360952,
          -1.1683145881314776,
          -0.6900505879444827,
          -2.0958280213490164,
          -1.0305445660747723,
          -1.0692768511909307,
          -2.425775568116419,
          -2.5148401700133736,
          -2.576318290538584,
          8.324449043873127,
          3.0848280462757494,
          -0.489016055186934,
          4.875936870343435,
          -1.114909214520596,
          -2.6231290971818497,
          -1.445976012958831,
          -0.12101668203365981,
          -2.6706176207868166,
          -1.9203198401226254,
          3.0643071183976547,
          -0.4717121713524483,
          -1.4645382823670352,
          -0.9166443247360205,
          -1.5409836735150957,
          3.4897803364931708,
          -1.979753947711081,
          10.0429528229751,
          -2.3744556717850736,
          -2.276207770101627,
          -2.1180142839854343,
          -1.6029968076137566,
          0.39460215420073247,
          -1.0531942867658564,
          -0.16310090704959695,
          0.0019039097455217317,
          1.9080143039072333,
          -0.7221308465999989,
          1.2946573237475267,
          -0.34711362895431397,
          5.056223333852937,
          -1.4354157039464592,
          -0.3799994786259598,
          -1.6165709330533369,
          -0.21182999873588074,
          -1.6989789818598346,
          -2.130756723683587,
          -2.2020961979338174,
          0.257685850534227,
          -0.9256928464176346,
          -0.9136733936529452,
          -1.8356389764560683,
          -1.5409836735150957,
          -1.856486887028585,
          -1.1484658026923247,
          -0.8054987372784571,
          -2.1422564471042214,
          -0.43899402554131445,
          -1.1410483339766133,
          -1.8674753933769392,
          1.045046651066682,
          -1.32385114692001,
          1.3187711462467484,
          0.0833440488147344,
          -1.344180083373537,
          -0.6180119614568925,
          -1.0530058781090372,
          0.2602146121017757,
          -0.4306659629729063,
          -1.630163583660253,
          -1.1177692100315404,
          0.856945477177348,
          -1.4809382842746082,
          -1.177143469378135,
          -0.09985890299768083,
          -0.43899402554131445,
          -0.36846064972347065,
          -0.8489214239659347,
          -0.4284488006577807,
          -1.1644149454787176,
          0.6384230673408332,
          -3.029759010766575,
          -0.4719922651386974,
          -0.6231117252306034,
          0.41759006042622193,
          -1.6104431916477344,
          0.23385751353247805,
          -2.077742559396021,
          -1.0203563630511365,
          -1.3570160236873714,
          -1.4537234996899582,
          -1.6083759397719573,
          -0.8580812448369237,
          -0.09087646266977151,
          1.5343883910569156,
          6.953670425913672,
          4.556223357733626,
          4.811797712206596,
          -0.8868179570544991,
          -2.6706259173159337,
          -0.3693130573072046,
          -1.613392684023073,
          -2.595266974564728,
          8.62994393035546,
          -0.4273438831977769,
          -0.8761355840026868,
          -1.8019205989341847,
          -1.0132312558848775,
          5.095595661900495,
          -0.5951860025379591,
          -0.4553847218155497,
          -0.027340504258378945,
          -2.4953122899953426,
          2.563574751422159,
          -0.44018763725145643,
          -0.7338476217588523,
          5.659134285444345,
          0.17346860355194602,
          0.5949158016703993,
          -1.366904289687014,
          0.4922194207908565,
          4.428201994903443,
          2.6480079261304494,
          -1.7221828443618965,
          0.9705162273016841,
          0.7021044300030916,
          6.417467442340734,
          -0.2431425304041704,
          5.137155654583774,
          -0.4468972843359065,
          -1.4390694225054943,
          1.773943936242553,
          -2.626172040978811,
          3.2598346847541597,
          -1.5114975789985123,
          -2.294313423742955,
          4.6218251960676024,
          2.8497590711832306,
          1.3592844824572192,
          -1.3904268325328897,
          -1.9437053826863875,
          -1.137735160596212,
          4.921446146433163,
          0.7911678110262539,
          -1.7459793302374946,
          -1.8035110237193028,
          -0.9781423776216395,
          -2.473278979564298,
          0.9637201646912449,
          -2.884358303122662,
          -1.7473964722603736,
          0.11261806445183753,
          1.8655972057273578,
          -1.90859821239544,
          4.683721972143893,
          0.09453932392201414,
          -0.9548730058122918,
          6.857822362216016,
          -0.2649555067214297,
          -2.763875411192033,
          9.210606581466815,
          -1.030314938640418,
          4.7402169169178165,
          -1.3665465530027383,
          -0.8868179570544991,
          5.517330333523856,
          0.3464355993972715,
          -0.6887430426994723,
          -1.490113380364081,
          -0.7536660084476455,
          5.6404711586561,
          1.7572905296491796,
          1.885373419021714,
          -0.5603530991807696,
          3.0536209811866417,
          3.6920715711321677,
          -0.9364411957468795,
          -2.400440014247122,
          2.7958193133465628,
          -2.360626576704847,
          5.815606168669072,
          -2.3923441305501263,
          0.5470696773903332,
          2.0353028162428073,
          -2.661033780913122,
          -1.837777518652652,
          -1.1419385196930125,
          -3.782653111578833,
          -0.2262151910132329,
          -1.70825050079437,
          -0.28215190168861665,
          4.555798427430832,
          -1.5068626455427778,
          -0.7945178044141351,
          2.4069726697535834,
          9.085194979077988,
          1.8733891613151659,
          -0.8799277656035448,
          -1.3700945314547204,
          -0.7958412447639013,
          -1.3965631992989391,
          10.47347816245707,
          -1.0823294909079215,
          -1.0646046487389942,
          0.8593629313529402,
          -1.0032540035464808,
          -0.7392306180488097,
          1.431155631455012,
          -1.5654115963114166,
          -0.7392306180488097,
          -1.5900775617717768,
          3.195207517853072,
          -1.4537234996899582,
          8.937049479300356,
          -1.105633689743375,
          4.563950178521968,
          2.7103622407690446,
          -0.723857402823604,
          -2.4056381021504047,
          -0.1469881044013385,
          1.3252728007903876,
          1.3090226586650426,
          -1.3841326803550509,
          0.10170351494224472,
          -0.8546420812203963,
          -2.888430654856927,
          -0.2287615450705436,
          5.32468146485217,
          -0.9908813382302228,
          -1.2139870998290399,
          -0.09892948757835596,
          -1.2178330891128573,
          6.652056950592901,
          -1.6924352719594609,
          -2.138666552767547,
          -1.3829836543513472,
          -1.5114975789985123,
          -0.8109042021065246,
          -0.10506283446569863,
          4.8486024278110404,
          -0.5798481194149683,
          1.1960513159731063,
          -0.20811304537958616,
          -1.6104431916477344,
          -2.657337243391911,
          -1.3711890762089314,
          -0.18479327798697365,
          1.2082979425503753,
          -1.1343371838687903,
          0.0788905525021653,
          -1.1378210442724845,
          9.020090734187042,
          -0.4027216167409819,
          -0.2888576025634142,
          7.430379452550837,
          -1.7257601557373385,
          -2.026458876461916,
          1.0004620734065692,
          -0.6887430426994723,
          -2.2433606442862404,
          -2.5580381814561703,
          1.744309264769109,
          -1.6496404772292084,
          -0.27804563773680285,
          -0.3234934466552726,
          1.9019832812442934,
          -2.1552312666983386,
          5.028188624729317,
          2.3947770602335754,
          -2.5580381814561703,
          0.060171490575909085,
          -1.8657132011203486,
          0.4686674890499952,
          -0.9406188291346962,
          -2.223065054303362,
          -1.6598538487758958,
          -1.0886277496222796,
          -0.8879805150203772,
          -1.6892232922055992,
          -0.8365816318376075,
          -1.3248467697528736,
          -1.4760088519665038,
          -0.19438727595770344,
          -0.22337031189388182,
          0.15017378500232784,
          0.6208751013273188,
          -0.07177166224807568,
          0.08278803561532046,
          -0.6805854281869961,
          -0.6729991872410368,
          -1.027012573423342,
          -2.397960636342928,
          -1.28532578068767,
          -0.7358276552843802,
          -0.8095445325553557,
          -1.6549069423616347,
          -2.1248816666653876,
          0.8034694880393162,
          -1.5030453257648397,
          -1.2219172035495014,
          -2.366377488042937,
          -0.2747589484672349,
          0.17599690470653323,
          -0.9101623666412997,
          -0.18975805437423957,
          -0.9112492666023363,
          9.182741645209633,
          -0.5916800867097646,
          -2.31151805421924,
          -0.4537275556784392,
          0.6690588421784163,
          -0.2066009712688935,
          0.7995929782886992,
          -1.100661334861475,
          -1.0091538217224427,
          -2.3655535958148133,
          -1.4143970739777538,
          -0.9379664741266109,
          -2.231481810700049,
          -1.0485062725137464,
          -1.9165225673480109,
          -0.6431581983724117,
          -1.8558551804609464,
          -1.4262857709843,
          -0.13899847166697313,
          0.6446877467144654,
          1.1745267974303262,
          9.823233841967927,
          -2.063320817106165,
          -1.3104743824453768,
          -1.8569194416921218,
          -1.7685895128463067,
          7.018843743159955,
          -1.5796076129688923,
          -0.7090761020667261,
          -2.046217433066656,
          -0.5105339021662626,
          -2.265257902510195,
          -1.518704892874334,
          -2.11981545534535,
          -0.6406203821668707,
          -1.6587005538711097,
          0.1988042812337451,
          -1.2233390208520702,
          -0.4377846378286939,
          -1.110594151160285,
          -1.1098386115429155,
          -0.6839535517167746,
          1.4961647444102826,
          -0.35061940116814483,
          -0.8931761989262281,
          -1.1943579985780675,
          -0.4280601769380479,
          -1.9557527206912182,
          -1.6544730144494104,
          -0.7579054248538043,
          -1.6040771966936775,
          3.399475577293339,
          -2.5946017522275424,
          -1.1202200456614522,
          -0.9602215085125638,
          1.5108285816434093,
          0.6740188162787866,
          -1.7129953689005153,
          0.08220266152292355,
          0.9462021980756741,
          -1.5436512355701775,
          -1.4948038419536427,
          -0.3817649932279413,
          -0.991755174164749,
          -2.335788810946048,
          0.18290542150009614,
          -2.632840197969809,
          0.3167145299308348,
          -0.2091432816371282,
          4.496902763988737,
          -1.1467118388000728,
          -0.24683916289488475,
          -1.7440664994305963,
          -0.709055118265975,
          -2.2143397135152094,
          -1.1601725456055316,
          -1.436499437831288,
          -1.9300209883378767,
          1.0161024026895644,
          2.1123008883712795,
          0.7288432059310551,
          -2.04827633154544,
          -0.46882066876095857,
          0.028712653697326035,
          -0.43873156204669195,
          -1.217699795179131,
          -1.9699920376210025,
          -1.288154602935622,
          -2.3531276190161656,
          -0.9265740007776043,
          0.5255232398432214,
          -1.6428503053627004,
          -1.9507919670764045,
          -1.228521858670143,
          -0.7176595549308368,
          0.8886781562191651,
          -1.6649320748635368,
          -1.8473858953456845,
          1.4469220170669452,
          -0.08645553610794447,
          -1.0791323520467277,
          -0.8718228848261559,
          -1.8420242091646013,
          1.5586321132633985,
          7.0982916766010895,
          -1.815683812920802,
          -0.5471635965107242,
          -0.7602630250934233,
          1.151529910078864,
          -1.4437009750000747,
          0.32791742174878075,
          0.4916099230577673,
          -1.6168989552943294,
          -0.7178281304827816,
          0.5075025680027603,
          -0.7081255686131888,
          -1.6567865584592325,
          -1.1688864930210343,
          2.236690657726044,
          -0.19710559530058855,
          -0.9048284227139884,
          0.501273094604547,
          -0.2608998958614314,
          -1.6240186404445027,
          -1.4162088653415186,
          0.8686515023441634,
          -1.7091407112185149,
          -1.9638040161976416,
          1.5351697723728215,
          2.8347597551979256,
          -2.697453240199065,
          -1.4353260874545861,
          -0.01080064475266399,
          -0.8912377658586118,
          -1.6950377199629256,
          -2.206392830323958,
          -0.21252578969263158,
          0.09771547231110754,
          -2.615764232556046,
          0.033694335544230083,
          1.6355025858395962,
          -1.6430479655401886,
          1.0325542375857268,
          -2.4587564872992274,
          3.324544213754503,
          -0.17930547550206924,
          -0.556250207408103,
          -1.0346588226004334,
          -0.46552756904750464,
          0.44611665738719725,
          0.3999901166920471,
          -0.4555747780755869,
          -0.42624959344593,
          -0.809014700235568,
          -0.6545316847477769,
          0.41176179048888645,
          -0.39416951386918403,
          -1.7776650717043818,
          -0.7937325138675244,
          -0.9703272447860081,
          -0.7829135752398573,
          0.6333246935776349,
          1.796268034415951,
          -0.4737255441437848,
          4.15353795873315,
          -2.1678601917258686,
          -1.186417027259739,
          1.7212522265399015,
          0.9514168455269678,
          -1.610377260178039,
          0.5032414589634298,
          -2.2194230843008174,
          2.2812808545009076,
          0.4514723063712319,
          -0.6017778916621238,
          0.5132793491984768,
          5.498687572336911,
          -1.7072527377262938,
          -1.1017428751988276,
          -0.22940556740952403,
          -0.9381820246964808,
          -0.6970300144116542,
          0.5254050954061102,
          -1.075865282481077,
          1.1408892073743555,
          -2.4345385500344965,
          -0.39484111488940005,
          -1.5932639045472088,
          1.5845085084172617,
          1.2210695588289442,
          -0.14488776764810837,
          -2.088843694121021,
          2.7846540574878134,
          -0.06572250607453013,
          0.02943523628670367,
          -0.7124994958009166,
          1.404712651863026,
          -0.12107899381575599,
          -0.132539364297207,
          -2.3909355279363553,
          6.482867884613796,
          -1.6186786272243494,
          -1.083485518921789,
          -0.3868353296018981,
          -0.697931961116441,
          -0.0966189714384956,
          4.144114031487564,
          8.142853802932477,
          -2.8157668214211955,
          -1.4763435283920832,
          -1.5617017430196185,
          1.4287141517472721,
          1.0322385099405122,
          -2.1610101045080516,
          0.5231134123438771,
          -0.27420510937024567,
          -1.3862187433466444,
          -2.922663003312144,
          3.431284259331798,
          0.24881979132722376,
          -0.9567016336393236,
          -2.4908962624900624,
          -2.794958062728846,
          -0.8814221180469576,
          5.277809651628167,
          -1.0707202533967406,
          0.5088590937844432,
          -0.8413462895337059,
          5.63993069704351,
          4.978720230760617,
          -1.6257458386371706,
          -1.5922505356313958,
          -1.2018949463882038,
          -1.3439015480186045,
          0.3789559690749791,
          -0.9269330355003578,
          -2.796723951560584,
          -1.3510147233877992,
          -1.2783944043638769,
          -0.8223773408957502,
          -1.4444633347409328,
          -1.5892704243364162,
          -1.1322792331769078,
          -1.7884251588759692,
          2.8726461341582996,
          1.0610722094860243,
          -1.7504392040988697,
          5.406777527290975,
          2.88961020876455,
          -2.4100783100062704,
          -0.8105674914411396,
          0.25982869468704917,
          -2.1889846704480593,
          -0.39027386991484064,
          -1.1215353233601462,
          1.6063162690939654,
          -0.7633921042529228,
          8.55853443777366,
          4.644662852933605,
          0.26705883735471225,
          -0.9829674267247247,
          2.5300793090232103,
          -1.4960167153091053,
          1.59999659109198,
          -2.522241268476795,
          -1.7216184019753942,
          -2.1950854538721867,
          7.537821191116919,
          -0.20823505482120616,
          -1.7969128488680213,
          -1.337925062206949,
          -0.28907503417963054,
          -3.2987512847040565,
          -0.7323006930114547,
          7.970421953711016,
          -0.9016209937031691,
          -2.9376533501121895,
          1.716263867895088,
          8.706082232957458,
          0.872517609896414,
          3.2393749375249463,
          -1.5667625146428075,
          1.9481626350595647,
          0.6826507689272818,
          -0.45784548981791456,
          7.808123806243158,
          0.9204259316416661,
          -2.3581652757200584,
          0.7095291619258272,
          2.347857394763048,
          9.00079501791464,
          -2.170175752735133,
          -2.8644576806709825,
          1.5928551804501774,
          -0.4165981453206961,
          1.891483205368145,
          3.5868858303631934,
          -1.028360557165791,
          -0.7366884226673353,
          -2.1428105627804013,
          4.8936148822523835,
          -0.17470689309804405,
          -1.43503412548601,
          -2.199735025585375,
          -0.18448231653642788,
          8.40707679473954,
          3.069016338029151,
          -2.5937732995799068,
          -0.3854376243390091,
          -0.8486229928327543,
          -1.257949638400926,
          -2.349303256023446,
          -1.8681168990420935,
          1.863255091780764,
          -1.5450110629032638,
          1.3568270894892234,
          -1.944580653037482,
          1.4712433546516992
         ]
        },
        {
         "marker": {
          "color": "white",
          "size": 10,
          "symbol": "x"
         },
         "mode": "markers",
         "name": "Centroids",
         "type": "scatter",
         "x": [
          0.12124707084605417,
          1.4602302876310325,
          -4.479206658224857,
          3.4034378939933863,
          0.22792094352817566,
          -1.344647514839159,
          2.1813112619574015,
          -2.089398255834727,
          2.049488711644005,
          -1.4136357821671086,
          -5.676233647200699,
          2.4408456036719275,
          -1.2727994967711653,
          1.439231300603277,
          -5.766259135339376,
          2.5301648330975164,
          -1.1177906250228102,
          -1.4237820598678381,
          -0.4960330134186807,
          -6.812173398523891,
          1.1704586852824568,
          0.27557891222410225,
          1.2205832946091453,
          -3.1852884372580386,
          -0.10335930197889957,
          0.8338528000330694,
          -4.348204360573886,
          -3.1762636688728247,
          -0.7774582093282709,
          -1.978597475992647,
          4.185640501958971,
          0.9477012896252412,
          -3.145668284757591,
          3.8919314821824815,
          -3.382589825776966,
          1.3024058254831483,
          -1.01898028133267,
          3.448371108076737,
          0.5504307553148214,
          2.4179184862000582,
          -3.8745263100371314,
          1.3604911423261559,
          -0.038326719948901564
         ],
         "y": [
          -1.228783598380236,
          7.450476740406505,
          -1.7281856733307075,
          -1.2548464025290362,
          0.5839359987462696,
          4.555327544362388,
          -0.7701454344959902,
          -0.13194622989265542,
          1.500371860935285,
          9.111262293632393,
          -1.2661012210223608,
          -1.819105385656381,
          -1.166773209094983,
          -2.2313356970437064,
          0.4023869994522355,
          3.2531063313426434,
          2.8767681239829037,
          1.3069237210739497,
          -2.316635475566619,
          -0.7441175527888166,
          -1.308873248774495,
          3.2740824818019045,
          8.950712165447019,
          5.201528492708661,
          5.102194541971588,
          -0.34259332139762255,
          -0.38557144743620086,
          -2.1857544277072942,
          -0.22554498463777528,
          -2.117396000314754,
          1.4764051975034413,
          2.404044938818066,
          3.4897803364931708,
          -0.37312102211396736,
          -1.0118513741703996,
          0.6871571495289789,
          6.548528553414963,
          4.530426471255352,
          -2.3895508050569743,
          0.3609763268815147,
          1.5346795354782186,
          4.995822977497678,
          1.6691511048157759
         ]
        }
       ],
       "layout": {
        "height": 800,
        "plot_bgcolor": "rgba(0,0,0,0)",
        "showlegend": false,
        "template": {
         "data": {
          "bar": [
           {
            "error_x": {
             "color": "#2a3f5f"
            },
            "error_y": {
             "color": "#2a3f5f"
            },
            "marker": {
             "line": {
              "color": "#E5ECF6",
              "width": 0.5
             },
             "pattern": {
              "fillmode": "overlay",
              "size": 10,
              "solidity": 0.2
             }
            },
            "type": "bar"
           }
          ],
          "barpolar": [
           {
            "marker": {
             "line": {
              "color": "#E5ECF6",
              "width": 0.5
             },
             "pattern": {
              "fillmode": "overlay",
              "size": 10,
              "solidity": 0.2
             }
            },
            "type": "barpolar"
           }
          ],
          "carpet": [
           {
            "aaxis": {
             "endlinecolor": "#2a3f5f",
             "gridcolor": "white",
             "linecolor": "white",
             "minorgridcolor": "white",
             "startlinecolor": "#2a3f5f"
            },
            "baxis": {
             "endlinecolor": "#2a3f5f",
             "gridcolor": "white",
             "linecolor": "white",
             "minorgridcolor": "white",
             "startlinecolor": "#2a3f5f"
            },
            "type": "carpet"
           }
          ],
          "choropleth": [
           {
            "colorbar": {
             "outlinewidth": 0,
             "ticks": ""
            },
            "type": "choropleth"
           }
          ],
          "contour": [
           {
            "colorbar": {
             "outlinewidth": 0,
             "ticks": ""
            },
            "colorscale": [
             [
              0,
              "#0d0887"
             ],
             [
              0.1111111111111111,
              "#46039f"
             ],
             [
              0.2222222222222222,
              "#7201a8"
             ],
             [
              0.3333333333333333,
              "#9c179e"
             ],
             [
              0.4444444444444444,
              "#bd3786"
             ],
             [
              0.5555555555555556,
              "#d8576b"
             ],
             [
              0.6666666666666666,
              "#ed7953"
             ],
             [
              0.7777777777777778,
              "#fb9f3a"
             ],
             [
              0.8888888888888888,
              "#fdca26"
             ],
             [
              1,
              "#f0f921"
             ]
            ],
            "type": "contour"
           }
          ],
          "contourcarpet": [
           {
            "colorbar": {
             "outlinewidth": 0,
             "ticks": ""
            },
            "type": "contourcarpet"
           }
          ],
          "heatmap": [
           {
            "colorbar": {
             "outlinewidth": 0,
             "ticks": ""
            },
            "colorscale": [
             [
              0,
              "#0d0887"
             ],
             [
              0.1111111111111111,
              "#46039f"
             ],
             [
              0.2222222222222222,
              "#7201a8"
             ],
             [
              0.3333333333333333,
              "#9c179e"
             ],
             [
              0.4444444444444444,
              "#bd3786"
             ],
             [
              0.5555555555555556,
              "#d8576b"
             ],
             [
              0.6666666666666666,
              "#ed7953"
             ],
             [
              0.7777777777777778,
              "#fb9f3a"
             ],
             [
              0.8888888888888888,
              "#fdca26"
             ],
             [
              1,
              "#f0f921"
             ]
            ],
            "type": "heatmap"
           }
          ],
          "heatmapgl": [
           {
            "colorbar": {
             "outlinewidth": 0,
             "ticks": ""
            },
            "colorscale": [
             [
              0,
              "#0d0887"
             ],
             [
              0.1111111111111111,
              "#46039f"
             ],
             [
              0.2222222222222222,
              "#7201a8"
             ],
             [
              0.3333333333333333,
              "#9c179e"
             ],
             [
              0.4444444444444444,
              "#bd3786"
             ],
             [
              0.5555555555555556,
              "#d8576b"
             ],
             [
              0.6666666666666666,
              "#ed7953"
             ],
             [
              0.7777777777777778,
              "#fb9f3a"
             ],
             [
              0.8888888888888888,
              "#fdca26"
             ],
             [
              1,
              "#f0f921"
             ]
            ],
            "type": "heatmapgl"
           }
          ],
          "histogram": [
           {
            "marker": {
             "pattern": {
              "fillmode": "overlay",
              "size": 10,
              "solidity": 0.2
             }
            },
            "type": "histogram"
           }
          ],
          "histogram2d": [
           {
            "colorbar": {
             "outlinewidth": 0,
             "ticks": ""
            },
            "colorscale": [
             [
              0,
              "#0d0887"
             ],
             [
              0.1111111111111111,
              "#46039f"
             ],
             [
              0.2222222222222222,
              "#7201a8"
             ],
             [
              0.3333333333333333,
              "#9c179e"
             ],
             [
              0.4444444444444444,
              "#bd3786"
             ],
             [
              0.5555555555555556,
              "#d8576b"
             ],
             [
              0.6666666666666666,
              "#ed7953"
             ],
             [
              0.7777777777777778,
              "#fb9f3a"
             ],
             [
              0.8888888888888888,
              "#fdca26"
             ],
             [
              1,
              "#f0f921"
             ]
            ],
            "type": "histogram2d"
           }
          ],
          "histogram2dcontour": [
           {
            "colorbar": {
             "outlinewidth": 0,
             "ticks": ""
            },
            "colorscale": [
             [
              0,
              "#0d0887"
             ],
             [
              0.1111111111111111,
              "#46039f"
             ],
             [
              0.2222222222222222,
              "#7201a8"
             ],
             [
              0.3333333333333333,
              "#9c179e"
             ],
             [
              0.4444444444444444,
              "#bd3786"
             ],
             [
              0.5555555555555556,
              "#d8576b"
             ],
             [
              0.6666666666666666,
              "#ed7953"
             ],
             [
              0.7777777777777778,
              "#fb9f3a"
             ],
             [
              0.8888888888888888,
              "#fdca26"
             ],
             [
              1,
              "#f0f921"
             ]
            ],
            "type": "histogram2dcontour"
           }
          ],
          "mesh3d": [
           {
            "colorbar": {
             "outlinewidth": 0,
             "ticks": ""
            },
            "type": "mesh3d"
           }
          ],
          "parcoords": [
           {
            "line": {
             "colorbar": {
              "outlinewidth": 0,
              "ticks": ""
             }
            },
            "type": "parcoords"
           }
          ],
          "pie": [
           {
            "automargin": true,
            "type": "pie"
           }
          ],
          "scatter": [
           {
            "fillpattern": {
             "fillmode": "overlay",
             "size": 10,
             "solidity": 0.2
            },
            "type": "scatter"
           }
          ],
          "scatter3d": [
           {
            "line": {
             "colorbar": {
              "outlinewidth": 0,
              "ticks": ""
             }
            },
            "marker": {
             "colorbar": {
              "outlinewidth": 0,
              "ticks": ""
             }
            },
            "type": "scatter3d"
           }
          ],
          "scattercarpet": [
           {
            "marker": {
             "colorbar": {
              "outlinewidth": 0,
              "ticks": ""
             }
            },
            "type": "scattercarpet"
           }
          ],
          "scattergeo": [
           {
            "marker": {
             "colorbar": {
              "outlinewidth": 0,
              "ticks": ""
             }
            },
            "type": "scattergeo"
           }
          ],
          "scattergl": [
           {
            "marker": {
             "colorbar": {
              "outlinewidth": 0,
              "ticks": ""
             }
            },
            "type": "scattergl"
           }
          ],
          "scattermapbox": [
           {
            "marker": {
             "colorbar": {
              "outlinewidth": 0,
              "ticks": ""
             }
            },
            "type": "scattermapbox"
           }
          ],
          "scatterpolar": [
           {
            "marker": {
             "colorbar": {
              "outlinewidth": 0,
              "ticks": ""
             }
            },
            "type": "scatterpolar"
           }
          ],
          "scatterpolargl": [
           {
            "marker": {
             "colorbar": {
              "outlinewidth": 0,
              "ticks": ""
             }
            },
            "type": "scatterpolargl"
           }
          ],
          "scatterternary": [
           {
            "marker": {
             "colorbar": {
              "outlinewidth": 0,
              "ticks": ""
             }
            },
            "type": "scatterternary"
           }
          ],
          "surface": [
           {
            "colorbar": {
             "outlinewidth": 0,
             "ticks": ""
            },
            "colorscale": [
             [
              0,
              "#0d0887"
             ],
             [
              0.1111111111111111,
              "#46039f"
             ],
             [
              0.2222222222222222,
              "#7201a8"
             ],
             [
              0.3333333333333333,
              "#9c179e"
             ],
             [
              0.4444444444444444,
              "#bd3786"
             ],
             [
              0.5555555555555556,
              "#d8576b"
             ],
             [
              0.6666666666666666,
              "#ed7953"
             ],
             [
              0.7777777777777778,
              "#fb9f3a"
             ],
             [
              0.8888888888888888,
              "#fdca26"
             ],
             [
              1,
              "#f0f921"
             ]
            ],
            "type": "surface"
           }
          ],
          "table": [
           {
            "cells": {
             "fill": {
              "color": "#EBF0F8"
             },
             "line": {
              "color": "white"
             }
            },
            "header": {
             "fill": {
              "color": "#C8D4E3"
             },
             "line": {
              "color": "white"
             }
            },
            "type": "table"
           }
          ]
         },
         "layout": {
          "annotationdefaults": {
           "arrowcolor": "#2a3f5f",
           "arrowhead": 0,
           "arrowwidth": 1
          },
          "autotypenumbers": "strict",
          "coloraxis": {
           "colorbar": {
            "outlinewidth": 0,
            "ticks": ""
           }
          },
          "colorscale": {
           "diverging": [
            [
             0,
             "#8e0152"
            ],
            [
             0.1,
             "#c51b7d"
            ],
            [
             0.2,
             "#de77ae"
            ],
            [
             0.3,
             "#f1b6da"
            ],
            [
             0.4,
             "#fde0ef"
            ],
            [
             0.5,
             "#f7f7f7"
            ],
            [
             0.6,
             "#e6f5d0"
            ],
            [
             0.7,
             "#b8e186"
            ],
            [
             0.8,
             "#7fbc41"
            ],
            [
             0.9,
             "#4d9221"
            ],
            [
             1,
             "#276419"
            ]
           ],
           "sequential": [
            [
             0,
             "#0d0887"
            ],
            [
             0.1111111111111111,
             "#46039f"
            ],
            [
             0.2222222222222222,
             "#7201a8"
            ],
            [
             0.3333333333333333,
             "#9c179e"
            ],
            [
             0.4444444444444444,
             "#bd3786"
            ],
            [
             0.5555555555555556,
             "#d8576b"
            ],
            [
             0.6666666666666666,
             "#ed7953"
            ],
            [
             0.7777777777777778,
             "#fb9f3a"
            ],
            [
             0.8888888888888888,
             "#fdca26"
            ],
            [
             1,
             "#f0f921"
            ]
           ],
           "sequentialminus": [
            [
             0,
             "#0d0887"
            ],
            [
             0.1111111111111111,
             "#46039f"
            ],
            [
             0.2222222222222222,
             "#7201a8"
            ],
            [
             0.3333333333333333,
             "#9c179e"
            ],
            [
             0.4444444444444444,
             "#bd3786"
            ],
            [
             0.5555555555555556,
             "#d8576b"
            ],
            [
             0.6666666666666666,
             "#ed7953"
            ],
            [
             0.7777777777777778,
             "#fb9f3a"
            ],
            [
             0.8888888888888888,
             "#fdca26"
            ],
            [
             1,
             "#f0f921"
            ]
           ]
          },
          "colorway": [
           "#636efa",
           "#EF553B",
           "#00cc96",
           "#ab63fa",
           "#FFA15A",
           "#19d3f3",
           "#FF6692",
           "#B6E880",
           "#FF97FF",
           "#FECB52"
          ],
          "font": {
           "color": "#2a3f5f"
          },
          "geo": {
           "bgcolor": "white",
           "lakecolor": "white",
           "landcolor": "#E5ECF6",
           "showlakes": true,
           "showland": true,
           "subunitcolor": "white"
          },
          "hoverlabel": {
           "align": "left"
          },
          "hovermode": "closest",
          "mapbox": {
           "style": "light"
          },
          "paper_bgcolor": "white",
          "plot_bgcolor": "#E5ECF6",
          "polar": {
           "angularaxis": {
            "gridcolor": "white",
            "linecolor": "white",
            "ticks": ""
           },
           "bgcolor": "#E5ECF6",
           "radialaxis": {
            "gridcolor": "white",
            "linecolor": "white",
            "ticks": ""
           }
          },
          "scene": {
           "xaxis": {
            "backgroundcolor": "#E5ECF6",
            "gridcolor": "white",
            "gridwidth": 2,
            "linecolor": "white",
            "showbackground": true,
            "ticks": "",
            "zerolinecolor": "white"
           },
           "yaxis": {
            "backgroundcolor": "#E5ECF6",
            "gridcolor": "white",
            "gridwidth": 2,
            "linecolor": "white",
            "showbackground": true,
            "ticks": "",
            "zerolinecolor": "white"
           },
           "zaxis": {
            "backgroundcolor": "#E5ECF6",
            "gridcolor": "white",
            "gridwidth": 2,
            "linecolor": "white",
            "showbackground": true,
            "ticks": "",
            "zerolinecolor": "white"
           }
          },
          "shapedefaults": {
           "line": {
            "color": "#2a3f5f"
           }
          },
          "ternary": {
           "aaxis": {
            "gridcolor": "white",
            "linecolor": "white",
            "ticks": ""
           },
           "baxis": {
            "gridcolor": "white",
            "linecolor": "white",
            "ticks": ""
           },
           "bgcolor": "#E5ECF6",
           "caxis": {
            "gridcolor": "white",
            "linecolor": "white",
            "ticks": ""
           }
          },
          "title": {
           "x": 0.05
          },
          "xaxis": {
           "automargin": true,
           "gridcolor": "white",
           "linecolor": "white",
           "ticks": "",
           "title": {
            "standoff": 15
           },
           "zerolinecolor": "white",
           "zerolinewidth": 2
          },
          "yaxis": {
           "automargin": true,
           "gridcolor": "white",
           "linecolor": "white",
           "ticks": "",
           "title": {
            "standoff": 15
           },
           "zerolinecolor": "white",
           "zerolinewidth": 2
          }
         }
        },
        "title": {
         "text": "K-means clustering on Spotify embeddings (PCA-reduced)"
        },
        "width": 800,
        "xaxis": {
         "maxallowed": 6.112908181978923,
         "minallowed": -8.482484976000508,
         "visible": false
        },
        "yaxis": {
         "maxallowed": 11.47347816245707,
         "minallowed": -4.782653111578833,
         "visible": false
        }
       }
      }
     },
     "metadata": {},
     "output_type": "display_data"
    }
   ],
   "source": [
    "# Generate a unique color for each region\n",
    "def generate_color(name, factor=0.25):\n",
    "    \"\"\"Generate a pastel color for the given name.\"\"\"\n",
    "    # Generate a color based on the hash of the name\n",
    "    hash_object = hashlib.md5(name.encode())\n",
    "    hex_dig = hash_object.hexdigest()\n",
    "    base_color = [int(hex_dig[i:i+2], 16) for i in (0, 2, 4)]\n",
    "\n",
    "    # Mix the color with white\n",
    "    pastel_color = [(1 - factor) * c + factor * 255 for c in base_color]\n",
    "    pastel_color_hex = ''.join(f'{int(c):02x}' for c in pastel_color)\n",
    "\n",
    "    return '#' + pastel_color_hex\n",
    "\n",
    "# Create Plotly figure\n",
    "fig = go.Figure()\n",
    "\n",
    "# Add Voronoi regions, each with a different color\n",
    "for region, center in zip(regions, kmeans.cluster_centers_):\n",
    "    polygon = vertices[region]\n",
    "    color = generate_color(str(center))\n",
    "    fig.add_trace(go.Scatter(\n",
    "        x=polygon[:, 0],\n",
    "        y=polygon[:, 1],\n",
    "        fill=\"toself\",\n",
    "        fillcolor=color,\n",
    "        mode='lines',\n",
    "        line=dict(color='rgba(0,0,0,0)')  # No border color\n",
    "    ))\n",
    "\n",
    "# Add scatter plot of points\n",
    "fig.add_trace(go.Scatter(\n",
    "    x=df['x'],\n",
    "    y=df['y'],\n",
    "    mode='markers',\n",
    "    marker=dict(color='black', size=5),\n",
    "    text=df.apply(lambda row: f\"{row['name']} by {row['artist']}\", axis=1),\n",
    "    hoverinfo='text'\n",
    "))\n",
    "\n",
    "# Add centroids\n",
    "fig.add_trace(go.Scatter(\n",
    "    x=kmeans.cluster_centers_[:, 0],\n",
    "    y=kmeans.cluster_centers_[:, 1],\n",
    "    mode='markers',\n",
    "    marker=dict(size=10, color='white', symbol='x'),\n",
    "    name='Centroids'\n",
    "))\n",
    "\n",
    "# Update layout\n",
    "fig.update_layout(\n",
    "    title=\"K-means clustering on Spotify embeddings (PCA-reduced)\",\n",
    "    xaxis=dict(visible=False),\n",
    "    yaxis=dict(visible=False),\n",
    "    showlegend=False,\n",
    "    width=800,\n",
    "    height=800,\n",
    "    plot_bgcolor='rgba(0,0,0,0)'\n",
    ")\n",
    "\n",
    "fig.update_xaxes(minallowed=df['x'].min()-1, maxallowed=df['x'].max()+1)\n",
    "fig.update_yaxes(minallowed=df['y'].min()-1, maxallowed=df['y'].max()+1)\n",
    "\n",
    "\n",
    "# Show the plot\n",
    "fig.show()"
   ]
  }
 ],
 "metadata": {
  "kernelspec": {
   "display_name": "Python 3",
   "language": "python",
   "name": "python3"
  },
  "language_info": {
   "codemirror_mode": {
    "name": "ipython",
    "version": 3
   },
   "file_extension": ".py",
   "mimetype": "text/x-python",
   "name": "python",
   "nbconvert_exporter": "python",
   "pygments_lexer": "ipython3",
   "version": "3.11.9"
  }
 },
 "nbformat": 4,
 "nbformat_minor": 2
}
